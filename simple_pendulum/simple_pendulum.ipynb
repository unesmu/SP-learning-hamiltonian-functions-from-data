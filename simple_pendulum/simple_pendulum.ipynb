{
 "cells": [
  {
   "cell_type": "markdown",
   "id": "OJsZuo6FXokO",
   "metadata": {
    "id": "OJsZuo6FXokO"
   },
   "source": [
    "The code in this notebook has been adapted from the work of Zhongy et al. and Greydanus et al. \n",
    "\n",
    "Their code is available in the following repositories :[\n",
    "Symplectic-ODENet](https://github.com/Physics-aware-AI/Symplectic-ODENet) and [hamiltonian-nn](https://github.com/greydanus/hamiltonian-nn)"
   ]
  },
  {
   "cell_type": "markdown",
   "id": "f4f22a16",
   "metadata": {
    "id": "Jd6pGmU-rsbk"
   },
   "source": [
    "# Imports & Setting up directories"
   ]
  },
  {
   "cell_type": "code",
   "execution_count": null,
   "id": "6e8c6cc0",
   "metadata": {
    "colab": {
     "base_uri": "https://localhost:8080/"
    },
    "id": "3ioF4QRA1FEF",
    "outputId": "42bc8404-4cd7-43b0-d8e7-8deaad168bcb"
   },
   "outputs": [],
   "source": [
    "try:\n",
    "    import google.colab\n",
    "\n",
    "    IN_COLAB = True\n",
    "except:\n",
    "    IN_COLAB = False\n",
    "\n",
    "if IN_COLAB:\n",
    "    PATH = \"./\"  # './drive/MyDrive/1_SP_Ham_func/'\n",
    "    from google.colab import drive\n",
    "\n",
    "    drive.mount(\"/content/drive\")\n",
    "\n",
    "    %cd /content/drive/MyDrive/1_SP_Ham_func/simple_pendulum/\n",
    "\n",
    "    %pip install torchdiffeq\n",
    "\n",
    "    from src.dynamics import *\n",
    "    from src.data import *\n",
    "    from src.models_main import *\n",
    "    from src.models_sub import *\n",
    "    from src.plots import *\n",
    "    from src.train import *\n",
    "    from src.train_helpers import *\n",
    "else:\n",
    "    import sys\n",
    "\n",
    "    sys.path.insert(0, \"..\")\n",
    "    import os\n",
    "\n",
    "    PATH = \"./\"\n",
    "\n",
    "\n",
    "from src.dynamics import *\n",
    "from src.data import *\n",
    "from src.models_main import *\n",
    "from src.models_sub import *\n",
    "from src.plots import *\n",
    "from src.train import *\n",
    "from src.utils import *\n",
    "from src.train_helpers import *"
   ]
  },
  {
   "cell_type": "code",
   "execution_count": null,
   "id": "e382daf1",
   "metadata": {
    "id": "6F69c4UZ_3U_"
   },
   "outputs": [],
   "source": [
    "import matplotlib.pyplot as plt\n",
    "from matplotlib.lines import Line2D\n",
    "import seaborn as sns\n",
    "import pandas as pd\n",
    "import numpy as np\n",
    "import random\n",
    "from torch.utils.data import Dataset, DataLoader, random_split\n",
    "import torch\n",
    "\n",
    "from torch.optim.lr_scheduler import LinearLR\n",
    "\n",
    "from torchdiffeq import odeint_adjoint as odeint_adjoint\n",
    "\n",
    "# func must be a nn.Module when using the adjoint method\n",
    "from torchdiffeq import odeint as odeint\n",
    "\n",
    "import time as time\n",
    "import json"
   ]
  },
  {
   "cell_type": "code",
   "execution_count": null,
   "id": "ccb6c72a",
   "metadata": {},
   "outputs": [],
   "source": [
    "# auto reload the source files whenever they are changed\n",
    "%load_ext autoreload\n",
    "%autoreload 2"
   ]
  },
  {
   "cell_type": "markdown",
   "id": "GKz8Rj2o9t1t",
   "metadata": {
    "id": "GKz8Rj2o9t1t"
   },
   "source": [
    "# Training"
   ]
  },
  {
   "cell_type": "markdown",
   "id": "b9b2df76",
   "metadata": {},
   "source": [
    "## Simple_HNN"
   ]
  },
  {
   "cell_type": "code",
   "execution_count": null,
   "id": "6bbbc16f",
   "metadata": {},
   "outputs": [],
   "source": [
    "set_all_seeds(manualSeed=123, new_results=False)\n",
    "\n",
    "device = set_device()\n",
    "\n",
    "model_training = Training(\n",
    "    PATH,\n",
    "    device,\n",
    "    w=[1.0, 1.0],\n",
    "    resnet_config=False,\n",
    "    horizon=False,\n",
    "    horizon_type=\"auto\",\n",
    "    horizon_list=[20, 25, 30, 35, 40],\n",
    "    switch_steps=[100, 100, 100, 100, 100],\n",
    "    epoch_num=None,\n",
    "    loss_type=\"L2weighted\",\n",
    "    test_every=5,\n",
    "    print_every=1,\n",
    "    lr=1e-3,\n",
    "    weight_decay=1e-4,\n",
    "    model_name=\"Simple_HNN_\",\n",
    "    time_steps=200,\n",
    "    num_trajectories=125,\n",
    "    batch_size=100,\n",
    "    proportion=0.8,\n",
    "    utype=None,\n",
    "    gtype=None,\n",
    "    shuffle=False,\n",
    "    coord_type=\"hamiltonian\",\n",
    "    save_suffix=\"\",\n",
    ")"
   ]
  },
  {
   "cell_type": "code",
   "execution_count": null,
   "id": "44e2fff5",
   "metadata": {},
   "outputs": [],
   "source": [
    "stats = model_training.train()"
   ]
  },
  {
   "cell_type": "code",
   "execution_count": null,
   "id": "c8878da8",
   "metadata": {},
   "outputs": [],
   "source": [
    "# save training class that contains dataset and model\n",
    "pickle_save(model_training, model_training.model_path + \"model.pkl\")"
   ]
  },
  {
   "cell_type": "code",
   "execution_count": null,
   "id": "081320ea",
   "metadata": {},
   "outputs": [],
   "source": [
    "# load the model\n",
    "model_training = pickle_load(model_training.model_path + \"model.pkl\")"
   ]
  },
  {
   "cell_type": "markdown",
   "id": "b08918c0",
   "metadata": {},
   "source": [
    "### plots"
   ]
  },
  {
   "cell_type": "code",
   "execution_count": null,
   "id": "945a53d0",
   "metadata": {},
   "outputs": [],
   "source": [
    "loss_train = model_training.logs[\"train_loss\"]\n",
    "loss_test = model_training.logs[\"test_loss\"]\n",
    "epochs = np.arange(len(loss_train))\n",
    "train_test_loss_plot(\n",
    "    loss_train,\n",
    "    loss_test,\n",
    "    epochs,\n",
    "    model_training.test_epochs,\n",
    "    file_path=model_training.plot_path + \"simple_pend_losses.png\",\n",
    "    horizons=None,\n",
    "    horizon_steps=[200, 400, 550, 700, 850],\n",
    "    title=\"train and test loss per epoch\",\n",
    ")"
   ]
  },
  {
   "cell_type": "code",
   "execution_count": null,
   "id": "29829aac",
   "metadata": {},
   "outputs": [],
   "source": [
    "train_horizon = model_training.horizon_list[-1]\n",
    "print(train_horizon)"
   ]
  },
  {
   "cell_type": "code",
   "execution_count": null,
   "id": "48a194da",
   "metadata": {},
   "outputs": [],
   "source": [
    "title = \"\"\n",
    "for n in [5, 10, 75]:\n",
    "    plot_results(\n",
    "        model_training,\n",
    "        n,\n",
    "        train_horizon,\n",
    "        file_path=model_training.plot_path + \"simple_pend_train\" + str(n) + \".png\",\n",
    "        show_pred=True,\n",
    "        title=title,\n",
    "        coord_type=\"hamiltonian\",\n",
    "    )"
   ]
  },
  {
   "cell_type": "code",
   "execution_count": null,
   "id": "916041e2",
   "metadata": {},
   "outputs": [],
   "source": [
    "title = \"\"\n",
    "for n in [5, 10, 15]:\n",
    "    plot_results(\n",
    "        model_training,\n",
    "        n,\n",
    "        train_horizon,\n",
    "        train=False,\n",
    "        file_path=model_training.plot_path + \"simple_pend_test\" + str(n) + \".png\",\n",
    "        only_pred=True,\n",
    "        title=title,\n",
    "        coord_type=\"hamiltonian\",\n",
    "    )"
   ]
  },
  {
   "cell_type": "code",
   "execution_count": null,
   "id": "4b06014b",
   "metadata": {},
   "outputs": [],
   "source": [
    "u_func_none = U_FUNC(utype=None)\n",
    "\n",
    "model_training.u_func = U_FUNC(utype=None)\n",
    "\n",
    "model_training.time_steps = 200\n",
    "model_training.num_trajectories = 20\n",
    "model_training.batch_size = 100\n",
    "model_training.proportion = 0.0\n",
    "\n",
    "model_training._init_data_loaders()\n",
    "\n",
    "title = \"\"\n",
    "for n in [0, 5, 15]:\n",
    "    plot_results(\n",
    "        model_training,\n",
    "        n,\n",
    "        train_horizon,\n",
    "        file_path=model_training.plot_path + \"noinput_simple_pend\" + str(n) + \".png\",\n",
    "        show_pred=True,\n",
    "        title=title,\n",
    "        coord_type=\"hamiltonian\",\n",
    "    )"
   ]
  },
  {
   "cell_type": "code",
   "execution_count": null,
   "id": "6ce5f9cf",
   "metadata": {},
   "outputs": [],
   "source": [
    "utype = \"sine\"\n",
    "u_func = U_FUNC(utype=utype)\n",
    "u_func.params[\"T\"] = 2.0\n",
    "u_func.params[\"f0\"] = 0\n",
    "u_func.params[\"f1\"] = 1\n",
    "u_func.params[\"scale\"] = 0.5\n",
    "gtype = \"simple\"\n",
    "g_func = G_FUNC(device, gtype=gtype)\n",
    "\n",
    "model_training.u_func = u_func\n",
    "model_training.g_func = g_func\n",
    "\n",
    "model_training.time_steps = 200\n",
    "model_training.num_trajectories = 25\n",
    "model_training.batch_size = 100\n",
    "model_training.proportion = 0.0\n",
    "\n",
    "model_training._init_data_loaders()\n",
    "\n",
    "title = \"\"\n",
    "for n in [0, 10, 20]:\n",
    "    plot_results(\n",
    "        model_training,\n",
    "        n,\n",
    "        train_horizon,\n",
    "        file_path=model_training.plot_path + \"1hz_simple_pend\" + str(n) + \".png\",\n",
    "        show_pred=False,\n",
    "        only_pred=True,\n",
    "        title=title,\n",
    "        coord_type=\"hamiltonian\",\n",
    "    )"
   ]
  },
  {
   "cell_type": "markdown",
   "id": "2f04bf7f",
   "metadata": {},
   "source": [
    "## Input_HNN"
   ]
  },
  {
   "cell_type": "markdown",
   "id": "58f95755",
   "metadata": {},
   "source": [
    "### G is known"
   ]
  },
  {
   "cell_type": "code",
   "execution_count": null,
   "id": "da355e85",
   "metadata": {},
   "outputs": [],
   "source": [
    "set_all_seeds(manualSeed=123, new_results=False)\n",
    "\n",
    "device = set_device()\n",
    "\n",
    "model_training = Training(\n",
    "    PATH,\n",
    "    device,\n",
    "    w=[1.0, 1.0],\n",
    "    resnet_config=False,\n",
    "    horizon=False,\n",
    "    horizon_type=\"auto\",\n",
    "    horizon_list=[20, 25, 30, 35, 40],\n",
    "    switch_steps=[100, 100, 100, 100, 100],\n",
    "    epoch_num=None,\n",
    "    loss_type=\"L2weighted\",\n",
    "    test_every=5,\n",
    "    print_every=1,\n",
    "    lr=1e-3,\n",
    "    weight_decay=1e-4,\n",
    "    model_name=\"Input_HNN_chirp\",\n",
    "    time_steps=200,\n",
    "    num_trajectories=125,\n",
    "    batch_size=100,\n",
    "    proportion=0.8,\n",
    "    utype=\"chirp\",\n",
    "    gtype=\"simple\",\n",
    "    shuffle=False,\n",
    "    coord_type=\"hamiltonian\",\n",
    "    save_suffix=\"\",\n",
    ")"
   ]
  },
  {
   "cell_type": "code",
   "execution_count": null,
   "id": "e1b00850",
   "metadata": {},
   "outputs": [],
   "source": [
    "stats = model_training.train()"
   ]
  },
  {
   "cell_type": "code",
   "execution_count": null,
   "id": "71f51a46",
   "metadata": {},
   "outputs": [],
   "source": [
    "# save training class that contains dataset and model\n",
    "pickle_save(model_training, model_training.model_path + \"model.pkl\")"
   ]
  },
  {
   "cell_type": "code",
   "execution_count": null,
   "id": "660ce0c0",
   "metadata": {},
   "outputs": [],
   "source": [
    "# load the model\n",
    "model_training = pickle_load(model_training.model_path + \"model.pkl\")"
   ]
  },
  {
   "cell_type": "markdown",
   "id": "b08918c0",
   "metadata": {},
   "source": [
    "#### plots"
   ]
  },
  {
   "cell_type": "code",
   "execution_count": null,
   "id": "945a53d0",
   "metadata": {},
   "outputs": [],
   "source": [
    "loss_train = model_training.logs[\"train_loss\"]\n",
    "loss_test = model_training.logs[\"test_loss\"]\n",
    "epochs = np.arange(len(loss_train))\n",
    "train_test_loss_plot(\n",
    "    loss_train,\n",
    "    loss_test,\n",
    "    epochs,\n",
    "    model_training.test_epochs,\n",
    "    file_path=model_training.plot_path + \"simple_pend_losses.png\",\n",
    "    horizons=None,\n",
    "    horizon_steps=[200, 400, 550, 700, 850],\n",
    "    title=\"train and test loss per epoch\",\n",
    ")"
   ]
  },
  {
   "cell_type": "code",
   "execution_count": null,
   "id": "29829aac",
   "metadata": {},
   "outputs": [],
   "source": [
    "train_horizon = model_training.horizon_list[-1]\n",
    "print(train_horizon)"
   ]
  },
  {
   "cell_type": "code",
   "execution_count": null,
   "id": "48a194da",
   "metadata": {},
   "outputs": [],
   "source": [
    "title = \"\"\n",
    "for n in [5, 10, 75]:\n",
    "    plot_results(\n",
    "        model_training,\n",
    "        n,\n",
    "        train_horizon,\n",
    "        file_path=model_training.plot_path + \"simple_pend_train\" + str(n) + \".png\",\n",
    "        show_pred=True,\n",
    "        title=title,\n",
    "        coord_type=\"hamiltonian\",\n",
    "    )"
   ]
  },
  {
   "cell_type": "code",
   "execution_count": null,
   "id": "916041e2",
   "metadata": {},
   "outputs": [],
   "source": [
    "title = \"\"\n",
    "for n in [5, 10, 15]:\n",
    "    plot_results(\n",
    "        model_training,\n",
    "        n,\n",
    "        train_horizon,\n",
    "        train=False,\n",
    "        file_path=model_training.plot_path + \"simple_pend_test\" + str(n) + \".png\",\n",
    "        only_pred=True,\n",
    "        title=title,\n",
    "        coord_type=\"hamiltonian\",\n",
    "    )"
   ]
  },
  {
   "cell_type": "code",
   "execution_count": null,
   "id": "4b06014b",
   "metadata": {},
   "outputs": [],
   "source": [
    "set_all_seeds(manualSeed=123, new_results=False)\n",
    "\n",
    "model_training.model.u_func = U_FUNC(utype=None)\n",
    "model_training.model.g_func = G_FUNC(device, gtype=None)\n",
    "model_training.time_steps = 200\n",
    "model_training.num_trajectories = 25\n",
    "model_training.batch_size = 100\n",
    "model_training.proportion = 0.0\n",
    "model_training._init_data_loaders()\n",
    "\n",
    "title = \"\"\n",
    "for n in [0, 5, 15]:\n",
    "    plot_results(\n",
    "        model_training,\n",
    "        n,\n",
    "        train_horizon,\n",
    "        train=True,\n",
    "        file_path=model_training.plot_path + \"noinput_simple_pend\" + str(n) + \".png\",\n",
    "        show_pred=True,\n",
    "        title=title,\n",
    "        coord_type=\"hamiltonian\",\n",
    "    )"
   ]
  },
  {
   "cell_type": "code",
   "execution_count": null,
   "id": "e7f8da95",
   "metadata": {},
   "outputs": [],
   "source": [
    "utype = \"sine\"\n",
    "u_func = U_FUNC(utype=utype)\n",
    "u_func.params[\"T\"] = 2.0\n",
    "u_func.params[\"f0\"] = 0\n",
    "u_func.params[\"f1\"] = 1\n",
    "u_func.params[\"scale\"] = 1\n",
    "gtype = \"simple\"\n",
    "g_func = G_FUNC(device, gtype=gtype)\n",
    "\n",
    "model_training.model.u_func = u_func\n",
    "model_training.model.g_func = g_func\n",
    "\n",
    "model_training.time_steps = 200\n",
    "model_training.num_trajectories = 25\n",
    "model_training.batch_size = 100\n",
    "model_training.proportion = 0.0\n",
    "\n",
    "model_training._init_data_loaders()\n",
    "\n",
    "title = \"\"\n",
    "for n in [0, 10, 20]:\n",
    "    plot_results(\n",
    "        model_training,\n",
    "        n,\n",
    "        train_horizon,\n",
    "        file_path=model_training.plot_path + \"1hz_simple_pend\" + str(n) + \".png\",\n",
    "        show_pred=False,\n",
    "        only_pred=True,\n",
    "        title=title,\n",
    "        coord_type=\"hamiltonian\",\n",
    "    )"
   ]
  },
  {
   "cell_type": "code",
   "execution_count": null,
   "id": "bfd56878",
   "metadata": {},
   "outputs": [],
   "source": [
    "utype = \"sine\"\n",
    "u_func = U_FUNC(utype=utype)\n",
    "u_func.params[\"T\"] = 2.0\n",
    "u_func.params[\"f0\"] = 0\n",
    "u_func.params[\"f1\"] = 1\n",
    "u_func.params[\"scale\"] = 0.5\n",
    "gtype = \"simple\"\n",
    "g_func = G_FUNC(device, gtype=gtype)\n",
    "\n",
    "model_training.model.u_func = u_func\n",
    "model_training.model.g_func = g_func\n",
    "\n",
    "model_training.time_steps = 200\n",
    "model_training.num_trajectories = 25\n",
    "model_training.batch_size = 100\n",
    "model_training.proportion = 0.0\n",
    "\n",
    "model_training._init_data_loaders()\n",
    "\n",
    "title = \"\"\n",
    "for n in [0, 10, 20]:\n",
    "    plot_results(\n",
    "        model_training,\n",
    "        n,\n",
    "        train_horizon,\n",
    "        file_path=model_training.plot_path + \"0.5hz_simple_pend\" + str(n) + \".png\",\n",
    "        show_pred=False,\n",
    "        only_pred=True,\n",
    "        title=title,\n",
    "        coord_type=\"hamiltonian\",\n",
    "    )"
   ]
  },
  {
   "cell_type": "markdown",
   "id": "2e73d714",
   "metadata": {},
   "source": [
    "### G is known but no horizon"
   ]
  },
  {
   "cell_type": "code",
   "execution_count": null,
   "id": "da355e85",
   "metadata": {},
   "outputs": [],
   "source": [
    "set_all_seeds(manualSeed=123, new_results=False)\n",
    "\n",
    "device = set_device()\n",
    "\n",
    "model_training = Training(\n",
    "    PATH,\n",
    "    device,\n",
    "    w=[1.0, 1.0],\n",
    "    resnet_config=False,\n",
    "    horizon=False,\n",
    "    horizon_type=\"auto\",\n",
    "    horizon_list=[40, 40, 40, 40, 40],\n",
    "    switch_steps=[100, 100, 100, 100, 100],\n",
    "    epoch_num=None,\n",
    "    loss_type=\"L2weighted\",\n",
    "    test_every=5,\n",
    "    print_every=1,\n",
    "    lr=1e-3,\n",
    "    weight_decay=1e-4,\n",
    "    model_name=\"Input_HNN_chirp_nohorizon\",\n",
    "    time_steps=200,\n",
    "    num_trajectories=125,\n",
    "    batch_size=100,\n",
    "    proportion=0.8,\n",
    "    utype=\"chirp\",\n",
    "    gtype=\"simple\",\n",
    "    shuffle=False,\n",
    "    coord_type=\"hamiltonian\",\n",
    "    save_suffix=\"\",\n",
    ")"
   ]
  },
  {
   "cell_type": "code",
   "execution_count": null,
   "id": "e1b00850",
   "metadata": {},
   "outputs": [],
   "source": [
    "stats = model_training.train()"
   ]
  },
  {
   "cell_type": "code",
   "execution_count": null,
   "id": "71f51a46",
   "metadata": {},
   "outputs": [],
   "source": [
    "# save training class that contains dataset and model\n",
    "pickle_save(model_training, model_training.model_path + \"model.pkl\")"
   ]
  },
  {
   "cell_type": "code",
   "execution_count": null,
   "id": "660ce0c0",
   "metadata": {},
   "outputs": [],
   "source": [
    "# load the model\n",
    "model_training = pickle_load(model_training.model_path + \"model.pkl\")"
   ]
  },
  {
   "cell_type": "markdown",
   "id": "b08918c0",
   "metadata": {},
   "source": [
    "#### plots"
   ]
  },
  {
   "cell_type": "code",
   "execution_count": null,
   "id": "945a53d0",
   "metadata": {},
   "outputs": [],
   "source": [
    "loss_train = model_training.logs[\"train_loss\"]\n",
    "loss_test = model_training.logs[\"test_loss\"]\n",
    "epochs = np.arange(len(loss_train))\n",
    "train_test_loss_plot(\n",
    "    loss_train,\n",
    "    loss_test,\n",
    "    epochs,\n",
    "    model_training.test_epochs,\n",
    "    file_path=model_training.plot_path + \"simple_pend_losses.png\",\n",
    "    horizons=None,\n",
    "    horizon_steps=[200, 400, 550, 700, 850],\n",
    "    title=\"train and test loss per epoch\",\n",
    ")"
   ]
  },
  {
   "cell_type": "code",
   "execution_count": null,
   "id": "29829aac",
   "metadata": {},
   "outputs": [],
   "source": [
    "train_horizon = model_training.horizon_list[-1]\n",
    "print(train_horizon)"
   ]
  },
  {
   "cell_type": "code",
   "execution_count": null,
   "id": "48a194da",
   "metadata": {},
   "outputs": [],
   "source": [
    "title = \"\"\n",
    "for n in [5, 10, 75]:\n",
    "    plot_results(\n",
    "        model_training,\n",
    "        n,\n",
    "        train_horizon,\n",
    "        file_path=model_training.plot_path + \"simple_pend_train\" + str(n) + \".png\",\n",
    "        show_pred=True,\n",
    "        title=title,\n",
    "        coord_type=\"hamiltonian\",\n",
    "    )"
   ]
  },
  {
   "cell_type": "code",
   "execution_count": null,
   "id": "916041e2",
   "metadata": {},
   "outputs": [],
   "source": [
    "title = \"\"\n",
    "for n in [5, 10, 15]:\n",
    "    plot_results(\n",
    "        model_training,\n",
    "        n,\n",
    "        train_horizon,\n",
    "        train=False,\n",
    "        file_path=model_training.plot_path + \"simple_pend_test\" + str(n) + \".png\",\n",
    "        only_pred=True,\n",
    "        title=title,\n",
    "        coord_type=\"hamiltonian\",\n",
    "    )"
   ]
  },
  {
   "cell_type": "code",
   "execution_count": null,
   "id": "4b06014b",
   "metadata": {},
   "outputs": [],
   "source": [
    "set_all_seeds(manualSeed=123, new_results=False)\n",
    "\n",
    "model_training.model.u_func = U_FUNC(utype=None)\n",
    "model_training.model.g_func = G_FUNC(device, gtype=None)\n",
    "model_training.time_steps = 200\n",
    "model_training.num_trajectories = 25\n",
    "model_training.batch_size = 100\n",
    "model_training.proportion = 0.0\n",
    "model_training._init_data_loaders()\n",
    "\n",
    "title = \"\"\n",
    "for n in [0, 5, 15]:\n",
    "    plot_results(\n",
    "        model_training,\n",
    "        n,\n",
    "        train_horizon,\n",
    "        train=True,\n",
    "        file_path=model_training.plot_path + \"noinput_simple_pend\" + str(n) + \".png\",\n",
    "        show_pred=True,\n",
    "        title=title,\n",
    "        coord_type=\"hamiltonian\",\n",
    "    )"
   ]
  },
  {
   "cell_type": "code",
   "execution_count": null,
   "id": "e7f8da95",
   "metadata": {},
   "outputs": [],
   "source": [
    "utype = \"sine\"\n",
    "u_func = U_FUNC(utype=utype)\n",
    "u_func.params[\"T\"] = 2.0\n",
    "u_func.params[\"f0\"] = 0\n",
    "u_func.params[\"f1\"] = 1\n",
    "u_func.params[\"scale\"] = 1\n",
    "gtype = \"simple\"\n",
    "g_func = G_FUNC(device, gtype=gtype)\n",
    "\n",
    "model_training.model.u_func = u_func\n",
    "model_training.model.g_func = g_func\n",
    "\n",
    "model_training.time_steps = 200\n",
    "model_training.num_trajectories = 25\n",
    "model_training.batch_size = 100\n",
    "model_training.proportion = 0.0\n",
    "\n",
    "model_training._init_data_loaders()\n",
    "\n",
    "title = \"\"\n",
    "for n in [0, 10, 20]:\n",
    "    plot_results(\n",
    "        model_training,\n",
    "        n,\n",
    "        train_horizon,\n",
    "        file_path=model_training.plot_path + \"1hz_simple_pend\" + str(n) + \".png\",\n",
    "        show_pred=False,\n",
    "        only_pred=True,\n",
    "        title=title,\n",
    "        coord_type=\"hamiltonian\",\n",
    "    )"
   ]
  },
  {
   "cell_type": "code",
   "execution_count": null,
   "id": "bfd56878",
   "metadata": {},
   "outputs": [],
   "source": [
    "utype = \"sine\"\n",
    "u_func = U_FUNC(utype=utype)\n",
    "u_func.params[\"T\"] = 2.0\n",
    "u_func.params[\"f0\"] = 0\n",
    "u_func.params[\"f1\"] = 1\n",
    "u_func.params[\"scale\"] = 0.5\n",
    "gtype = \"simple\"\n",
    "g_func = G_FUNC(device, gtype=gtype)\n",
    "\n",
    "model_training.model.u_func = u_func\n",
    "model_training.model.g_func = g_func\n",
    "\n",
    "model_training.time_steps = 200\n",
    "model_training.num_trajectories = 25\n",
    "model_training.batch_size = 100\n",
    "model_training.proportion = 0.0\n",
    "\n",
    "model_training._init_data_loaders()\n",
    "\n",
    "title = \"\"\n",
    "for n in [0, 10, 20]:\n",
    "    plot_results(\n",
    "        model_training,\n",
    "        n,\n",
    "        train_horizon,\n",
    "        file_path=model_training.plot_path + \"0.5hz_simple_pend\" + str(n) + \".png\",\n",
    "        show_pred=False,\n",
    "        only_pred=True,\n",
    "        title=title,\n",
    "        coord_type=\"hamiltonian\",\n",
    "    )"
   ]
  },
  {
   "cell_type": "markdown",
   "id": "bf761c8f",
   "metadata": {},
   "source": [
    "### G is an NN"
   ]
  },
  {
   "cell_type": "code",
   "execution_count": 28,
   "id": "da355e85",
   "metadata": {},
   "outputs": [
    {
     "name": "stdout",
     "output_type": "stream",
     "text": [
      "Random Seed:  123\n",
      "Available device: cpu\n",
      "Number of training epochs:  10\n",
      "Generating dataset\n",
      "Dataset created\n",
      "Paths created\n",
      "Model initiatialized. \n",
      " Number of parameters : 7562\n"
     ]
    }
   ],
   "source": [
    "set_all_seeds(manualSeed=123, new_results=False)\n",
    "\n",
    "device = set_device()\n",
    "\n",
    "model_training = Training(\n",
    "    PATH,\n",
    "    device,\n",
    "    w=[1.0, 1.0],\n",
    "    resnet_config=False,\n",
    "    horizon=False,\n",
    "    horizon_type=\"auto\",\n",
    "    horizon_list=[20, 25, 30, 35, 40],\n",
    "    switch_steps=[100, 100, 100, 100, 100],\n",
    "    epoch_num=None,\n",
    "    loss_type=\"L2weighted\",\n",
    "    test_every=5,\n",
    "    print_every=1,\n",
    "    lr=1e-3,\n",
    "    weight_decay=1e-4,\n",
    "    model_name=\"Input_HNN_chirp_GNN\",\n",
    "    time_steps=200,\n",
    "    num_trajectories=125,\n",
    "    batch_size=100,\n",
    "    proportion=0.8,\n",
    "    utype=\"chirp\",\n",
    "    gtype=\"simple\",\n",
    "    shuffle=False,\n",
    "    coord_type=\"hamiltonian\",\n",
    "    save_suffix=\"\",\n",
    ")"
   ]
  },
  {
   "cell_type": "code",
   "execution_count": 29,
   "id": "e1b00850",
   "metadata": {},
   "outputs": [
    {
     "name": "stdout",
     "output_type": "stream",
     "text": [
      "horizon length : 20\n",
      "[  0/ 10]\t train loss: 7.484456e+00, t_train: 0.28, test loss: 6.907747e+00, t_test: 0.10\n",
      "[  1/ 10]\t train loss: 7.260284e+00, t_train: 0.20\n",
      "horizon length : 25\n",
      "[  2/ 10]\t train loss: 6.942301e+00, t_train: 0.28\n",
      "[  3/ 10]\t train loss: 6.752009e+00, t_train: 0.32\n",
      "horizon length : 30\n",
      "[  4/ 10]\t train loss: 6.855915e+00, t_train: 0.39\n",
      "[  5/ 10]\t train loss: 6.694682e+00, t_train: 0.36, test loss: 6.182197e+00, t_test: 0.15\n",
      "horizon length : 35\n",
      "[  6/ 10]\t train loss: 7.371741e+00, t_train: 0.43\n",
      "[  7/ 10]\t train loss: 7.205282e+00, t_train: 0.44\n",
      "horizon length : 40\n",
      "[  8/ 10]\t train loss: 7.719395e+00, t_train: 0.49\n",
      "[  9/ 10]\t train loss: 7.509027e+00, t_train: 0.48\n"
     ]
    }
   ],
   "source": [
    "stats = model_training.train()"
   ]
  },
  {
   "cell_type": "code",
   "execution_count": null,
   "id": "71f51a46",
   "metadata": {},
   "outputs": [],
   "source": [
    "# save training class that contains dataset and model\n",
    "pickle_save(model_training, model_training.model_path + \"model.pkl\")"
   ]
  },
  {
   "cell_type": "code",
   "execution_count": null,
   "id": "660ce0c0",
   "metadata": {},
   "outputs": [],
   "source": [
    "# load the model\n",
    "model_training = pickle_load(model_training.model_path + \"model.pkl\")"
   ]
  },
  {
   "cell_type": "markdown",
   "id": "b08918c0",
   "metadata": {},
   "source": [
    "#### plots"
   ]
  },
  {
   "cell_type": "code",
   "execution_count": null,
   "id": "945a53d0",
   "metadata": {},
   "outputs": [],
   "source": [
    "loss_train = model_training.logs[\"train_loss\"]\n",
    "loss_test = model_training.logs[\"test_loss\"]\n",
    "epochs = np.arange(len(loss_train))\n",
    "train_test_loss_plot(\n",
    "    loss_train,\n",
    "    loss_test,\n",
    "    epochs,\n",
    "    model_training.test_epochs,\n",
    "    file_path=model_training.plot_path + \"simple_pend_losses.png\",\n",
    "    horizons=None,\n",
    "    horizon_steps=[200, 400, 550, 700, 850],\n",
    "    title=\"train and test loss per epoch\",\n",
    ")"
   ]
  },
  {
   "cell_type": "code",
   "execution_count": null,
   "id": "29829aac",
   "metadata": {},
   "outputs": [],
   "source": [
    "train_horizon = model_training.horizon_list[-1]\n",
    "print(train_horizon)"
   ]
  },
  {
   "cell_type": "code",
   "execution_count": null,
   "id": "48a194da",
   "metadata": {},
   "outputs": [],
   "source": [
    "title = \"\"\n",
    "for n in [5, 10, 75]:\n",
    "    plot_results(\n",
    "        model_training,\n",
    "        n,\n",
    "        train_horizon,\n",
    "        file_path=model_training.plot_path + \"simple_pend_train\" + str(n) + \".png\",\n",
    "        show_pred=True,\n",
    "        title=title,\n",
    "        coord_type=\"hamiltonian\",\n",
    "    )"
   ]
  },
  {
   "cell_type": "code",
   "execution_count": null,
   "id": "916041e2",
   "metadata": {},
   "outputs": [],
   "source": [
    "title = \"\"\n",
    "for n in [5, 10, 15]:\n",
    "    plot_results(\n",
    "        model_training,\n",
    "        n,\n",
    "        train_horizon,\n",
    "        train=False,\n",
    "        file_path=model_training.plot_path + \"simple_pend_test\" + str(n) + \".png\",\n",
    "        only_pred=True,\n",
    "        title=title,\n",
    "        coord_type=\"hamiltonian\",\n",
    "    )"
   ]
  },
  {
   "cell_type": "code",
   "execution_count": null,
   "id": "4b06014b",
   "metadata": {},
   "outputs": [],
   "source": [
    "set_all_seeds(manualSeed=123, new_results=False)\n",
    "\n",
    "model_training.model.u_func = U_FUNC(utype=None)\n",
    "model_training.model.g_func = G_FUNC(device, gtype=None)\n",
    "model_training.time_steps = 200\n",
    "model_training.num_trajectories = 25\n",
    "model_training.batch_size = 100\n",
    "model_training.proportion = 0.0\n",
    "model_training._init_data_loaders()\n",
    "\n",
    "title = \"\"\n",
    "for n in [0, 5, 15]:\n",
    "    plot_results(\n",
    "        model_training,\n",
    "        n,\n",
    "        train_horizon,\n",
    "        train=True,\n",
    "        file_path=model_training.plot_path + \"noinput_simple_pend\" + str(n) + \".png\",\n",
    "        show_pred=True,\n",
    "        title=title,\n",
    "        coord_type=\"hamiltonian\",\n",
    "    )"
   ]
  },
  {
   "cell_type": "code",
   "execution_count": 25,
   "id": "e7f8da95",
   "metadata": {},
   "outputs": [
    {
     "ename": "KeyboardInterrupt",
     "evalue": "",
     "output_type": "error",
     "traceback": [
      "\u001b[1;31m---------------------------------------------------------------------------\u001b[0m",
      "\u001b[1;31mAttributeError\u001b[0m                            Traceback (most recent call last)",
      "File \u001b[1;32m~\\AppData\\Roaming\\Python\\Python39\\site-packages\\PIL\\ImageFile.py:495\u001b[0m, in \u001b[0;36m_save\u001b[1;34m(im, fp, tile, bufsize)\u001b[0m\n\u001b[0;32m    494\u001b[0m \u001b[39mtry\u001b[39;00m:\n\u001b[1;32m--> 495\u001b[0m     fh \u001b[39m=\u001b[39m fp\u001b[39m.\u001b[39;49mfileno()\n\u001b[0;32m    496\u001b[0m     fp\u001b[39m.\u001b[39mflush()\n",
      "\u001b[1;31mAttributeError\u001b[0m: '_idat' object has no attribute 'fileno'",
      "\nDuring handling of the above exception, another exception occurred:\n",
      "\u001b[1;31mKeyboardInterrupt\u001b[0m                         Traceback (most recent call last)",
      "\u001b[1;32mc:\\Users\\Younes\\Documents\\GitHub\\SP-learning-hamiltonian-functions-from-data\\simple_pendulum\\simple_pendulum.ipynb Cell 61\u001b[0m in \u001b[0;36m<module>\u001b[1;34m\u001b[0m\n\u001b[0;32m     <a href='vscode-notebook-cell:/c%3A/Users/Younes/Documents/GitHub/SP-learning-hamiltonian-functions-from-data/simple_pendulum/simple_pendulum.ipynb#Y350sZmlsZQ%3D%3D?line=19'>20</a>\u001b[0m title \u001b[39m=\u001b[39m \u001b[39m\"\u001b[39m\u001b[39m\"\u001b[39m\n\u001b[0;32m     <a href='vscode-notebook-cell:/c%3A/Users/Younes/Documents/GitHub/SP-learning-hamiltonian-functions-from-data/simple_pendulum/simple_pendulum.ipynb#Y350sZmlsZQ%3D%3D?line=20'>21</a>\u001b[0m \u001b[39mfor\u001b[39;00m n \u001b[39min\u001b[39;00m [\u001b[39m0\u001b[39m, \u001b[39m10\u001b[39m, \u001b[39m20\u001b[39m]:\n\u001b[1;32m---> <a href='vscode-notebook-cell:/c%3A/Users/Younes/Documents/GitHub/SP-learning-hamiltonian-functions-from-data/simple_pendulum/simple_pendulum.ipynb#Y350sZmlsZQ%3D%3D?line=21'>22</a>\u001b[0m     plot_results(\n\u001b[0;32m     <a href='vscode-notebook-cell:/c%3A/Users/Younes/Documents/GitHub/SP-learning-hamiltonian-functions-from-data/simple_pendulum/simple_pendulum.ipynb#Y350sZmlsZQ%3D%3D?line=22'>23</a>\u001b[0m         model_training,\n\u001b[0;32m     <a href='vscode-notebook-cell:/c%3A/Users/Younes/Documents/GitHub/SP-learning-hamiltonian-functions-from-data/simple_pendulum/simple_pendulum.ipynb#Y350sZmlsZQ%3D%3D?line=23'>24</a>\u001b[0m         n,\n\u001b[0;32m     <a href='vscode-notebook-cell:/c%3A/Users/Younes/Documents/GitHub/SP-learning-hamiltonian-functions-from-data/simple_pendulum/simple_pendulum.ipynb#Y350sZmlsZQ%3D%3D?line=24'>25</a>\u001b[0m         train_horizon,\n\u001b[0;32m     <a href='vscode-notebook-cell:/c%3A/Users/Younes/Documents/GitHub/SP-learning-hamiltonian-functions-from-data/simple_pendulum/simple_pendulum.ipynb#Y350sZmlsZQ%3D%3D?line=25'>26</a>\u001b[0m         file_path\u001b[39m=\u001b[39;49mmodel_training\u001b[39m.\u001b[39;49mplot_path \u001b[39m+\u001b[39;49m \u001b[39m\"\u001b[39;49m\u001b[39m1hz_simple_pend\u001b[39;49m\u001b[39m\"\u001b[39;49m \u001b[39m+\u001b[39;49m \u001b[39mstr\u001b[39;49m(n) \u001b[39m+\u001b[39;49m \u001b[39m\"\u001b[39;49m\u001b[39m.png\u001b[39;49m\u001b[39m\"\u001b[39;49m,\n\u001b[0;32m     <a href='vscode-notebook-cell:/c%3A/Users/Younes/Documents/GitHub/SP-learning-hamiltonian-functions-from-data/simple_pendulum/simple_pendulum.ipynb#Y350sZmlsZQ%3D%3D?line=26'>27</a>\u001b[0m         show_pred\u001b[39m=\u001b[39;49m\u001b[39mFalse\u001b[39;49;00m,\n\u001b[0;32m     <a href='vscode-notebook-cell:/c%3A/Users/Younes/Documents/GitHub/SP-learning-hamiltonian-functions-from-data/simple_pendulum/simple_pendulum.ipynb#Y350sZmlsZQ%3D%3D?line=27'>28</a>\u001b[0m         only_pred\u001b[39m=\u001b[39;49m\u001b[39mTrue\u001b[39;49;00m,\n\u001b[0;32m     <a href='vscode-notebook-cell:/c%3A/Users/Younes/Documents/GitHub/SP-learning-hamiltonian-functions-from-data/simple_pendulum/simple_pendulum.ipynb#Y350sZmlsZQ%3D%3D?line=28'>29</a>\u001b[0m         title\u001b[39m=\u001b[39;49mtitle,\n\u001b[0;32m     <a href='vscode-notebook-cell:/c%3A/Users/Younes/Documents/GitHub/SP-learning-hamiltonian-functions-from-data/simple_pendulum/simple_pendulum.ipynb#Y350sZmlsZQ%3D%3D?line=29'>30</a>\u001b[0m         coord_type\u001b[39m=\u001b[39;49m\u001b[39m\"\u001b[39;49m\u001b[39mhamiltonian\u001b[39;49m\u001b[39m\"\u001b[39;49m,\n\u001b[0;32m     <a href='vscode-notebook-cell:/c%3A/Users/Younes/Documents/GitHub/SP-learning-hamiltonian-functions-from-data/simple_pendulum/simple_pendulum.ipynb#Y350sZmlsZQ%3D%3D?line=30'>31</a>\u001b[0m     )\n",
      "File \u001b[1;32mc:\\Users\\Younes\\Documents\\GitHub\\SP-learning-hamiltonian-functions-from-data\\simple_pendulum\\src\\plots.py:230\u001b[0m, in \u001b[0;36mplot_results\u001b[1;34m(model_training, n, train_horizon, file_path, show_pred, train, title, coord_type, only_pred)\u001b[0m\n\u001b[0;32m    227\u001b[0m     ax2\u001b[39m.\u001b[39mset_ylabel(\u001b[39mr\u001b[39m\u001b[39m\"\u001b[39m\u001b[39m$\u001b[39m\u001b[39m\\\u001b[39m\u001b[39mdot\u001b[39m\u001b[39m{q}\u001b[39;00m\u001b[39m[rad/s]$\u001b[39m\u001b[39m\"\u001b[39m)\n\u001b[0;32m    229\u001b[0m \u001b[39mif\u001b[39;00m file_path \u001b[39mis\u001b[39;00m \u001b[39mnot\u001b[39;00m \u001b[39mNone\u001b[39;00m:\n\u001b[1;32m--> 230\u001b[0m     plt\u001b[39m.\u001b[39;49msavefig(file_path, \u001b[39mformat\u001b[39;49m\u001b[39m=\u001b[39;49m\u001b[39m\"\u001b[39;49m\u001b[39mpng\u001b[39;49m\u001b[39m\"\u001b[39;49m, dpi\u001b[39m=\u001b[39;49m\u001b[39m400\u001b[39;49m)\n\u001b[0;32m    232\u001b[0m plt\u001b[39m.\u001b[39mshow()\n\u001b[0;32m    233\u001b[0m \u001b[39mreturn\u001b[39;00m\n",
      "File \u001b[1;32m~\\AppData\\Roaming\\Python\\Python39\\site-packages\\matplotlib\\pyplot.py:958\u001b[0m, in \u001b[0;36msavefig\u001b[1;34m(*args, **kwargs)\u001b[0m\n\u001b[0;32m    955\u001b[0m \u001b[39m@_copy_docstring_and_deprecators\u001b[39m(Figure\u001b[39m.\u001b[39msavefig)\n\u001b[0;32m    956\u001b[0m \u001b[39mdef\u001b[39;00m \u001b[39msavefig\u001b[39m(\u001b[39m*\u001b[39margs, \u001b[39m*\u001b[39m\u001b[39m*\u001b[39mkwargs):\n\u001b[0;32m    957\u001b[0m     fig \u001b[39m=\u001b[39m gcf()\n\u001b[1;32m--> 958\u001b[0m     res \u001b[39m=\u001b[39m fig\u001b[39m.\u001b[39msavefig(\u001b[39m*\u001b[39margs, \u001b[39m*\u001b[39m\u001b[39m*\u001b[39mkwargs)\n\u001b[0;32m    959\u001b[0m     fig\u001b[39m.\u001b[39mcanvas\u001b[39m.\u001b[39mdraw_idle()   \u001b[39m# need this if 'transparent=True' to reset colors\u001b[39;00m\n\u001b[0;32m    960\u001b[0m     \u001b[39mreturn\u001b[39;00m res\n",
      "File \u001b[1;32m~\\AppData\\Roaming\\Python\\Python39\\site-packages\\matplotlib\\figure.py:3019\u001b[0m, in \u001b[0;36mFigure.savefig\u001b[1;34m(self, fname, transparent, **kwargs)\u001b[0m\n\u001b[0;32m   3015\u001b[0m     \u001b[39mfor\u001b[39;00m ax \u001b[39min\u001b[39;00m \u001b[39mself\u001b[39m\u001b[39m.\u001b[39maxes:\n\u001b[0;32m   3016\u001b[0m         stack\u001b[39m.\u001b[39menter_context(\n\u001b[0;32m   3017\u001b[0m             ax\u001b[39m.\u001b[39mpatch\u001b[39m.\u001b[39m_cm_set(facecolor\u001b[39m=\u001b[39m\u001b[39m'\u001b[39m\u001b[39mnone\u001b[39m\u001b[39m'\u001b[39m, edgecolor\u001b[39m=\u001b[39m\u001b[39m'\u001b[39m\u001b[39mnone\u001b[39m\u001b[39m'\u001b[39m))\n\u001b[1;32m-> 3019\u001b[0m \u001b[39mself\u001b[39m\u001b[39m.\u001b[39mcanvas\u001b[39m.\u001b[39mprint_figure(fname, \u001b[39m*\u001b[39m\u001b[39m*\u001b[39mkwargs)\n",
      "File \u001b[1;32m~\\AppData\\Roaming\\Python\\Python39\\site-packages\\matplotlib\\backend_bases.py:2319\u001b[0m, in \u001b[0;36mFigureCanvasBase.print_figure\u001b[1;34m(self, filename, dpi, facecolor, edgecolor, orientation, format, bbox_inches, pad_inches, bbox_extra_artists, backend, **kwargs)\u001b[0m\n\u001b[0;32m   2315\u001b[0m \u001b[39mtry\u001b[39;00m:\n\u001b[0;32m   2316\u001b[0m     \u001b[39m# _get_renderer may change the figure dpi (as vector formats\u001b[39;00m\n\u001b[0;32m   2317\u001b[0m     \u001b[39m# force the figure dpi to 72), so we need to set it again here.\u001b[39;00m\n\u001b[0;32m   2318\u001b[0m     \u001b[39mwith\u001b[39;00m cbook\u001b[39m.\u001b[39m_setattr_cm(\u001b[39mself\u001b[39m\u001b[39m.\u001b[39mfigure, dpi\u001b[39m=\u001b[39mdpi):\n\u001b[1;32m-> 2319\u001b[0m         result \u001b[39m=\u001b[39m print_method(\n\u001b[0;32m   2320\u001b[0m             filename,\n\u001b[0;32m   2321\u001b[0m             facecolor\u001b[39m=\u001b[39mfacecolor,\n\u001b[0;32m   2322\u001b[0m             edgecolor\u001b[39m=\u001b[39medgecolor,\n\u001b[0;32m   2323\u001b[0m             orientation\u001b[39m=\u001b[39morientation,\n\u001b[0;32m   2324\u001b[0m             bbox_inches_restore\u001b[39m=\u001b[39m_bbox_inches_restore,\n\u001b[0;32m   2325\u001b[0m             \u001b[39m*\u001b[39m\u001b[39m*\u001b[39mkwargs)\n\u001b[0;32m   2326\u001b[0m \u001b[39mfinally\u001b[39;00m:\n\u001b[0;32m   2327\u001b[0m     \u001b[39mif\u001b[39;00m bbox_inches \u001b[39mand\u001b[39;00m restore_bbox:\n",
      "File \u001b[1;32m~\\AppData\\Roaming\\Python\\Python39\\site-packages\\matplotlib\\backend_bases.py:1648\u001b[0m, in \u001b[0;36m_check_savefig_extra_args.<locals>.wrapper\u001b[1;34m(*args, **kwargs)\u001b[0m\n\u001b[0;32m   1640\u001b[0m     _api\u001b[39m.\u001b[39mwarn_deprecated(\n\u001b[0;32m   1641\u001b[0m         \u001b[39m'\u001b[39m\u001b[39m3.3\u001b[39m\u001b[39m'\u001b[39m, name\u001b[39m=\u001b[39mname, removal\u001b[39m=\u001b[39m\u001b[39m'\u001b[39m\u001b[39m3.6\u001b[39m\u001b[39m'\u001b[39m,\n\u001b[0;32m   1642\u001b[0m         message\u001b[39m=\u001b[39m\u001b[39m'\u001b[39m\u001b[39m%(name)s\u001b[39;00m\u001b[39m() got unexpected keyword argument \u001b[39m\u001b[39m\"\u001b[39m\u001b[39m'\u001b[39m\n\u001b[0;32m   1643\u001b[0m                 \u001b[39m+\u001b[39m arg \u001b[39m+\u001b[39m \u001b[39m'\u001b[39m\u001b[39m\"\u001b[39m\u001b[39m which is no longer supported as of \u001b[39m\u001b[39m'\u001b[39m\n\u001b[0;32m   1644\u001b[0m                 \u001b[39m'\u001b[39m\u001b[39m%(since)s\u001b[39;00m\u001b[39m and will become an error \u001b[39m\u001b[39m'\u001b[39m\n\u001b[0;32m   1645\u001b[0m                 \u001b[39m'\u001b[39m\u001b[39m%(removal)s\u001b[39;00m\u001b[39m'\u001b[39m)\n\u001b[0;32m   1646\u001b[0m     kwargs\u001b[39m.\u001b[39mpop(arg)\n\u001b[1;32m-> 1648\u001b[0m \u001b[39mreturn\u001b[39;00m func(\u001b[39m*\u001b[39margs, \u001b[39m*\u001b[39m\u001b[39m*\u001b[39mkwargs)\n",
      "File \u001b[1;32m~\\AppData\\Roaming\\Python\\Python39\\site-packages\\matplotlib\\_api\\deprecation.py:412\u001b[0m, in \u001b[0;36mdelete_parameter.<locals>.wrapper\u001b[1;34m(*inner_args, **inner_kwargs)\u001b[0m\n\u001b[0;32m    402\u001b[0m     deprecation_addendum \u001b[39m=\u001b[39m (\n\u001b[0;32m    403\u001b[0m         \u001b[39mf\u001b[39m\u001b[39m\"\u001b[39m\u001b[39mIf any parameter follows \u001b[39m\u001b[39m{\u001b[39;00mname\u001b[39m!r}\u001b[39;00m\u001b[39m, they should be passed as \u001b[39m\u001b[39m\"\u001b[39m\n\u001b[0;32m    404\u001b[0m         \u001b[39mf\u001b[39m\u001b[39m\"\u001b[39m\u001b[39mkeyword, not positionally.\u001b[39m\u001b[39m\"\u001b[39m)\n\u001b[0;32m    405\u001b[0m     warn_deprecated(\n\u001b[0;32m    406\u001b[0m         since,\n\u001b[0;32m    407\u001b[0m         name\u001b[39m=\u001b[39m\u001b[39mrepr\u001b[39m(name),\n\u001b[1;32m   (...)\u001b[0m\n\u001b[0;32m    410\u001b[0m                  \u001b[39melse\u001b[39;00m deprecation_addendum,\n\u001b[0;32m    411\u001b[0m         \u001b[39m*\u001b[39m\u001b[39m*\u001b[39mkwargs)\n\u001b[1;32m--> 412\u001b[0m \u001b[39mreturn\u001b[39;00m func(\u001b[39m*\u001b[39minner_args, \u001b[39m*\u001b[39m\u001b[39m*\u001b[39minner_kwargs)\n",
      "File \u001b[1;32m~\\AppData\\Roaming\\Python\\Python39\\site-packages\\matplotlib\\backends\\backend_agg.py:541\u001b[0m, in \u001b[0;36mFigureCanvasAgg.print_png\u001b[1;34m(self, filename_or_obj, metadata, pil_kwargs, *args)\u001b[0m\n\u001b[0;32m    494\u001b[0m \u001b[39m\"\"\"\u001b[39;00m\n\u001b[0;32m    495\u001b[0m \u001b[39mWrite the figure to a PNG file.\u001b[39;00m\n\u001b[0;32m    496\u001b[0m \n\u001b[1;32m   (...)\u001b[0m\n\u001b[0;32m    538\u001b[0m \u001b[39m    *metadata*, including the default 'Software' key.\u001b[39;00m\n\u001b[0;32m    539\u001b[0m \u001b[39m\"\"\"\u001b[39;00m\n\u001b[0;32m    540\u001b[0m FigureCanvasAgg\u001b[39m.\u001b[39mdraw(\u001b[39mself\u001b[39m)\n\u001b[1;32m--> 541\u001b[0m mpl\u001b[39m.\u001b[39;49mimage\u001b[39m.\u001b[39;49mimsave(\n\u001b[0;32m    542\u001b[0m     filename_or_obj, \u001b[39mself\u001b[39;49m\u001b[39m.\u001b[39;49mbuffer_rgba(), \u001b[39mformat\u001b[39;49m\u001b[39m=\u001b[39;49m\u001b[39m\"\u001b[39;49m\u001b[39mpng\u001b[39;49m\u001b[39m\"\u001b[39;49m, origin\u001b[39m=\u001b[39;49m\u001b[39m\"\u001b[39;49m\u001b[39mupper\u001b[39;49m\u001b[39m\"\u001b[39;49m,\n\u001b[0;32m    543\u001b[0m     dpi\u001b[39m=\u001b[39;49m\u001b[39mself\u001b[39;49m\u001b[39m.\u001b[39;49mfigure\u001b[39m.\u001b[39;49mdpi, metadata\u001b[39m=\u001b[39;49mmetadata, pil_kwargs\u001b[39m=\u001b[39;49mpil_kwargs)\n",
      "File \u001b[1;32m~\\AppData\\Roaming\\Python\\Python39\\site-packages\\matplotlib\\image.py:1675\u001b[0m, in \u001b[0;36mimsave\u001b[1;34m(fname, arr, vmin, vmax, cmap, format, origin, dpi, metadata, pil_kwargs)\u001b[0m\n\u001b[0;32m   1673\u001b[0m pil_kwargs\u001b[39m.\u001b[39msetdefault(\u001b[39m\"\u001b[39m\u001b[39mformat\u001b[39m\u001b[39m\"\u001b[39m, \u001b[39mformat\u001b[39m)\n\u001b[0;32m   1674\u001b[0m pil_kwargs\u001b[39m.\u001b[39msetdefault(\u001b[39m\"\u001b[39m\u001b[39mdpi\u001b[39m\u001b[39m\"\u001b[39m, (dpi, dpi))\n\u001b[1;32m-> 1675\u001b[0m image\u001b[39m.\u001b[39msave(fname, \u001b[39m*\u001b[39m\u001b[39m*\u001b[39mpil_kwargs)\n",
      "File \u001b[1;32m~\\AppData\\Roaming\\Python\\Python39\\site-packages\\PIL\\Image.py:2212\u001b[0m, in \u001b[0;36mImage.save\u001b[1;34m(self, fp, format, **params)\u001b[0m\n\u001b[0;32m   2209\u001b[0m         fp \u001b[39m=\u001b[39m builtins\u001b[39m.\u001b[39mopen(filename, \u001b[39m\"\u001b[39m\u001b[39mw+b\u001b[39m\u001b[39m\"\u001b[39m)\n\u001b[0;32m   2211\u001b[0m \u001b[39mtry\u001b[39;00m:\n\u001b[1;32m-> 2212\u001b[0m     save_handler(\u001b[39mself\u001b[39;49m, fp, filename)\n\u001b[0;32m   2213\u001b[0m \u001b[39mfinally\u001b[39;00m:\n\u001b[0;32m   2214\u001b[0m     \u001b[39m# do what we can to clean up\u001b[39;00m\n\u001b[0;32m   2215\u001b[0m     \u001b[39mif\u001b[39;00m open_fp:\n",
      "File \u001b[1;32m~\\AppData\\Roaming\\Python\\Python39\\site-packages\\PIL\\PngImagePlugin.py:1348\u001b[0m, in \u001b[0;36m_save\u001b[1;34m(im, fp, filename, chunk, save_all)\u001b[0m\n\u001b[0;32m   1346\u001b[0m     _write_multiple_frames(im, fp, chunk, rawmode)\n\u001b[0;32m   1347\u001b[0m \u001b[39melse\u001b[39;00m:\n\u001b[1;32m-> 1348\u001b[0m     ImageFile\u001b[39m.\u001b[39;49m_save(im, _idat(fp, chunk), [(\u001b[39m\"\u001b[39;49m\u001b[39mzip\u001b[39;49m\u001b[39m\"\u001b[39;49m, (\u001b[39m0\u001b[39;49m, \u001b[39m0\u001b[39;49m) \u001b[39m+\u001b[39;49m im\u001b[39m.\u001b[39;49msize, \u001b[39m0\u001b[39;49m, rawmode)])\n\u001b[0;32m   1350\u001b[0m \u001b[39mif\u001b[39;00m info:\n\u001b[0;32m   1351\u001b[0m     \u001b[39mfor\u001b[39;00m info_chunk \u001b[39min\u001b[39;00m info\u001b[39m.\u001b[39mchunks:\n",
      "File \u001b[1;32m~\\AppData\\Roaming\\Python\\Python39\\site-packages\\PIL\\ImageFile.py:509\u001b[0m, in \u001b[0;36m_save\u001b[1;34m(im, fp, tile, bufsize)\u001b[0m\n\u001b[0;32m    507\u001b[0m \u001b[39melse\u001b[39;00m:\n\u001b[0;32m    508\u001b[0m     \u001b[39mwhile\u001b[39;00m \u001b[39mTrue\u001b[39;00m:\n\u001b[1;32m--> 509\u001b[0m         l, s, d \u001b[39m=\u001b[39m e\u001b[39m.\u001b[39;49mencode(bufsize)\n\u001b[0;32m    510\u001b[0m         fp\u001b[39m.\u001b[39mwrite(d)\n\u001b[0;32m    511\u001b[0m         \u001b[39mif\u001b[39;00m s:\n",
      "\u001b[1;31mKeyboardInterrupt\u001b[0m: "
     ]
    },
    {
     "data": {
      "image/png": "[encoded data removed]",
      "text/plain": [
       "<Figure size 864x288 with 4 Axes>"
      ]
     },
     "metadata": {
      "needs_background": "light"
     },
     "output_type": "display_data"
    }
   ],
   "source": [
    "utype = \"sine\"\n",
    "u_func = U_FUNC(utype=utype)\n",
    "u_func.params[\"T\"] = 2.0\n",
    "u_func.params[\"f0\"] = 0\n",
    "u_func.params[\"f1\"] = 1\n",
    "u_func.params[\"scale\"] = 1\n",
    "gtype = \"simple\"\n",
    "g_func = G_FUNC(device, gtype=gtype)\n",
    "\n",
    "model_training.model.u_func = u_func\n",
    "model_training.model.g_func = g_func\n",
    "\n",
    "model_training.time_steps = 200\n",
    "model_training.num_trajectories = 25\n",
    "model_training.batch_size = 100\n",
    "model_training.proportion = 0.0\n",
    "\n",
    "model_training._init_data_loaders()\n",
    "\n",
    "title = \"\"\n",
    "for n in [0, 10, 20]:\n",
    "    plot_results(\n",
    "        model_training,\n",
    "        n,\n",
    "        train_horizon,\n",
    "        file_path=model_training.plot_path + \"1hz_simple_pend\" + str(n) + \".png\",\n",
    "        show_pred=False,\n",
    "        only_pred=True,\n",
    "        title=title,\n",
    "        coord_type=\"hamiltonian\",\n",
    "    )"
   ]
  },
  {
   "cell_type": "code",
   "execution_count": null,
   "id": "bfd56878",
   "metadata": {},
   "outputs": [],
   "source": [
    "utype = \"sine\"\n",
    "u_func = U_FUNC(utype=utype)\n",
    "u_func.params[\"T\"] = 2.0\n",
    "u_func.params[\"f0\"] = 0\n",
    "u_func.params[\"f1\"] = 1\n",
    "u_func.params[\"scale\"] = 0.5\n",
    "gtype = \"simple\"\n",
    "g_func = G_FUNC(device, gtype=gtype)\n",
    "\n",
    "model_training.model.u_func = u_func\n",
    "model_training.model.g_func = g_func\n",
    "\n",
    "model_training.time_steps = 200\n",
    "model_training.num_trajectories = 25\n",
    "model_training.batch_size = 100\n",
    "model_training.proportion = 0.0\n",
    "\n",
    "model_training._init_data_loaders()\n",
    "\n",
    "title = \"\"\n",
    "for n in [0, 10, 20]:\n",
    "    plot_results(\n",
    "        model_training,\n",
    "        n,\n",
    "        train_horizon,\n",
    "        file_path=model_training.plot_path + \"0.5hz_simple_pend\" + str(n) + \".png\",\n",
    "        show_pred=False,\n",
    "        only_pred=True,\n",
    "        title=title,\n",
    "        coord_type=\"hamiltonian\",\n",
    "    )"
   ]
  },
  {
   "cell_type": "markdown",
   "id": "68983950",
   "metadata": {},
   "source": [
    "## Expanding_HNN"
   ]
  },
  {
   "cell_type": "code",
   "execution_count": 31,
   "id": "da355e85",
   "metadata": {},
   "outputs": [
    {
     "name": "stdout",
     "output_type": "stream",
     "text": [
      "Random Seed:  123\n",
      "Available device: cpu\n",
      "Number of training epochs:  10\n",
      "Generating dataset\n",
      "Dataset created\n",
      "Paths created\n",
      "mlp number of parameters : 1102\n",
      "resblock number of parameters : 1079\n",
      "Total number of H_net parameters : 7576\n",
      "Model initiatialized. \n",
      " Number of parameters : 1102\n"
     ]
    }
   ],
   "source": [
    "set_all_seeds(manualSeed=123, new_results=False)\n",
    "\n",
    "device = set_device()\n",
    "\n",
    "model_training = Training(\n",
    "    PATH,\n",
    "    device,\n",
    "    w=[1.0, 1.0],\n",
    "    resnet_config=1,\n",
    "    horizon=False,\n",
    "    horizon_type=\"auto\",\n",
    "    horizon_list=[20, 25, 30, 35, 40],\n",
    "    switch_steps=[100, 100, 100, 100, 100],\n",
    "    epoch_num=None,\n",
    "    loss_type=\"L2weighted\",\n",
    "    test_every=5,\n",
    "    print_every=1,\n",
    "    lr=1e-3,\n",
    "    weight_decay=1e-4,\n",
    "    model_name=\"Expanding_HNN_chirp\",\n",
    "    time_steps=200,\n",
    "    num_trajectories=125,\n",
    "    batch_size=100,\n",
    "    proportion=0.8,\n",
    "    utype=\"chirp\",\n",
    "    gtype=\"simple\",\n",
    "    shuffle=False,\n",
    "    coord_type=\"hamiltonian\",\n",
    "    save_suffix=\"\",\n",
    ")"
   ]
  },
  {
   "cell_type": "code",
   "execution_count": 32,
   "id": "e1b00850",
   "metadata": {},
   "outputs": [
    {
     "name": "stdout",
     "output_type": "stream",
     "text": [
      "horizon length : 20\n",
      "Model size increased\n",
      "[  0/ 10]\t train loss: 9.390618e+00, t_train: 0.18, test loss: 5.548471e+00, t_test: 0.11\n",
      "[  1/ 10]\t train loss: 9.327365e+00, t_train: 0.24\n",
      "horizon length : 25\n",
      "Model size increased\n",
      "[  2/ 10]\t train loss: 9.122609e+00, t_train: 0.48\n",
      "[  3/ 10]\t train loss: 9.053175e+00, t_train: 0.51\n",
      "horizon length : 30\n",
      "Model size increased\n",
      "[  4/ 10]\t train loss: 9.011215e+00, t_train: 0.64\n",
      "[  5/ 10]\t train loss: 8.931196e+00, t_train: 0.63, test loss: 5.945609e+00, t_test: 0.25\n",
      "horizon length : 35\n",
      "Model size increased\n",
      "[  6/ 10]\t train loss: 9.392038e+00, t_train: 0.74\n",
      "[  7/ 10]\t train loss: 9.293950e+00, t_train: 0.77\n",
      "horizon length : 40\n",
      "Model size increased\n",
      "[  8/ 10]\t train loss: 9.836010e+00, t_train: 1.03\n",
      "[  9/ 10]\t train loss: 9.715759e+00, t_train: 1.08\n"
     ]
    }
   ],
   "source": [
    "stats = model_training.train()"
   ]
  },
  {
   "cell_type": "code",
   "execution_count": 33,
   "id": "71f51a46",
   "metadata": {},
   "outputs": [],
   "source": [
    "# save training class that contains dataset and model\n",
    "pickle_save(model_training, model_training.model_path + \"model.pkl\")"
   ]
  },
  {
   "cell_type": "code",
   "execution_count": 34,
   "id": "660ce0c0",
   "metadata": {},
   "outputs": [],
   "source": [
    "# load the model\n",
    "model_training = pickle_load(model_training.model_path + \"model.pkl\")"
   ]
  },
  {
   "cell_type": "markdown",
   "id": "b08918c0",
   "metadata": {},
   "source": [
    "#### plots"
   ]
  },
  {
   "cell_type": "code",
   "execution_count": null,
   "id": "945a53d0",
   "metadata": {},
   "outputs": [],
   "source": [
    "loss_train = model_training.logs[\"train_loss\"]\n",
    "loss_test = model_training.logs[\"test_loss\"]\n",
    "epochs = np.arange(len(loss_train))\n",
    "train_test_loss_plot(\n",
    "    loss_train,\n",
    "    loss_test,\n",
    "    epochs,\n",
    "    model_training.test_epochs,\n",
    "    file_path=model_training.plot_path + \"simple_pend_losses.png\",\n",
    "    horizons=None,\n",
    "    horizon_steps=[200, 400, 550, 700, 850],\n",
    "    title=\"train and test loss per epoch\",\n",
    ")"
   ]
  },
  {
   "cell_type": "code",
   "execution_count": null,
   "id": "29829aac",
   "metadata": {},
   "outputs": [],
   "source": [
    "train_horizon = model_training.horizon_list[-1]\n",
    "print(train_horizon)"
   ]
  },
  {
   "cell_type": "code",
   "execution_count": null,
   "id": "48a194da",
   "metadata": {},
   "outputs": [],
   "source": [
    "title = \"\"\n",
    "for n in [5, 10, 75]:\n",
    "    plot_results(\n",
    "        model_training,\n",
    "        n,\n",
    "        train_horizon,\n",
    "        file_path=model_training.plot_path + \"simple_pend_train\" + str(n) + \".png\",\n",
    "        show_pred=True,\n",
    "        title=title,\n",
    "        coord_type=\"hamiltonian\",\n",
    "    )"
   ]
  },
  {
   "cell_type": "code",
   "execution_count": null,
   "id": "916041e2",
   "metadata": {},
   "outputs": [],
   "source": [
    "title = \"\"\n",
    "for n in [5, 10, 15]:\n",
    "    plot_results(\n",
    "        model_training,\n",
    "        n,\n",
    "        train_horizon,\n",
    "        train=False,\n",
    "        file_path=model_training.plot_path + \"simple_pend_test\" + str(n) + \".png\",\n",
    "        only_pred=True,\n",
    "        title=title,\n",
    "        coord_type=\"hamiltonian\",\n",
    "    )"
   ]
  },
  {
   "cell_type": "code",
   "execution_count": null,
   "id": "4b06014b",
   "metadata": {},
   "outputs": [],
   "source": [
    "set_all_seeds(manualSeed=123, new_results=False)\n",
    "\n",
    "model_training.model.u_func = U_FUNC(utype=None)\n",
    "model_training.model.g_func = G_FUNC(device, gtype=None)\n",
    "model_training.time_steps = 200\n",
    "model_training.num_trajectories = 25\n",
    "model_training.batch_size = 100\n",
    "model_training.proportion = 0.0\n",
    "model_training._init_data_loaders()\n",
    "\n",
    "title = \"\"\n",
    "for n in [0, 5, 15]:\n",
    "    plot_results(\n",
    "        model_training,\n",
    "        n,\n",
    "        train_horizon,\n",
    "        train=True,\n",
    "        file_path=model_training.plot_path + \"noinput_simple_pend\" + str(n) + \".png\",\n",
    "        show_pred=True,\n",
    "        title=title,\n",
    "        coord_type=\"hamiltonian\",\n",
    "    )"
   ]
  },
  {
   "cell_type": "code",
   "execution_count": null,
   "id": "e7f8da95",
   "metadata": {},
   "outputs": [],
   "source": [
    "utype = \"sine\"\n",
    "u_func = U_FUNC(utype=utype)\n",
    "u_func.params[\"T\"] = 2.0\n",
    "u_func.params[\"f0\"] = 0\n",
    "u_func.params[\"f1\"] = 1\n",
    "u_func.params[\"scale\"] = 1\n",
    "gtype = \"simple\"\n",
    "g_func = G_FUNC(device, gtype=gtype)\n",
    "\n",
    "model_training.model.u_func = u_func\n",
    "model_training.model.g_func = g_func\n",
    "\n",
    "model_training.time_steps = 200\n",
    "model_training.num_trajectories = 25\n",
    "model_training.batch_size = 100\n",
    "model_training.proportion = 0.0\n",
    "\n",
    "model_training._init_data_loaders()\n",
    "\n",
    "title = \"\"\n",
    "for n in [0, 10, 20]:\n",
    "    plot_results(\n",
    "        model_training,\n",
    "        n,\n",
    "        train_horizon,\n",
    "        file_path=model_training.plot_path + \"1hz_simple_pend\" + str(n) + \".png\",\n",
    "        show_pred=False,\n",
    "        only_pred=True,\n",
    "        title=title,\n",
    "        coord_type=\"hamiltonian\",\n",
    "    )"
   ]
  },
  {
   "cell_type": "code",
   "execution_count": null,
   "id": "bfd56878",
   "metadata": {},
   "outputs": [],
   "source": [
    "utype = \"sine\"\n",
    "u_func = U_FUNC(utype=utype)\n",
    "u_func.params[\"T\"] = 2.0\n",
    "u_func.params[\"f0\"] = 0\n",
    "u_func.params[\"f1\"] = 1\n",
    "u_func.params[\"scale\"] = 0.5\n",
    "gtype = \"simple\"\n",
    "g_func = G_FUNC(device, gtype=gtype)\n",
    "\n",
    "model_training.model.u_func = u_func\n",
    "model_training.model.g_func = g_func\n",
    "\n",
    "model_training.time_steps = 200\n",
    "model_training.num_trajectories = 25\n",
    "model_training.batch_size = 100\n",
    "model_training.proportion = 0.0\n",
    "\n",
    "model_training._init_data_loaders()\n",
    "\n",
    "title = \"\"\n",
    "for n in [0, 10, 20]:\n",
    "    plot_results(\n",
    "        model_training,\n",
    "        n,\n",
    "        train_horizon,\n",
    "        file_path=model_training.plot_path + \"0.5hz_simple_pend\" + str(n) + \".png\",\n",
    "        show_pred=False,\n",
    "        only_pred=True,\n",
    "        title=title,\n",
    "        coord_type=\"hamiltonian\",\n",
    "    )"
   ]
  },
  {
   "cell_type": "markdown",
   "id": "b54f4c1b",
   "metadata": {},
   "source": [
    "## Expanding_HNN_wide"
   ]
  },
  {
   "cell_type": "code",
   "execution_count": 35,
   "id": "da355e85",
   "metadata": {},
   "outputs": [
    {
     "name": "stdout",
     "output_type": "stream",
     "text": [
      "Random Seed:  123\n",
      "Available device: cpu\n",
      "Number of training epochs:  10\n",
      "Generating dataset\n",
      "Dataset created\n",
      "Paths created\n"
     ]
    },
    {
     "ename": "NameError",
     "evalue": "name 'device' is not defined",
     "output_type": "error",
     "traceback": [
      "\u001b[1;31m---------------------------------------------------------------------------\u001b[0m",
      "\u001b[1;31mNameError\u001b[0m                                 Traceback (most recent call last)",
      "\u001b[1;32mc:\\Users\\Younes\\Documents\\GitHub\\SP-learning-hamiltonian-functions-from-data\\simple_pendulum\\simple_pendulum.ipynb Cell 73\u001b[0m in \u001b[0;36m<module>\u001b[1;34m\u001b[0m\n\u001b[0;32m      <a href='vscode-notebook-cell:/c%3A/Users/Younes/Documents/GitHub/SP-learning-hamiltonian-functions-from-data/simple_pendulum/simple_pendulum.ipynb#Y455sZmlsZQ%3D%3D?line=0'>1</a>\u001b[0m set_all_seeds(manualSeed\u001b[39m=\u001b[39m\u001b[39m123\u001b[39m, new_results\u001b[39m=\u001b[39m\u001b[39mFalse\u001b[39;00m)\n\u001b[0;32m      <a href='vscode-notebook-cell:/c%3A/Users/Younes/Documents/GitHub/SP-learning-hamiltonian-functions-from-data/simple_pendulum/simple_pendulum.ipynb#Y455sZmlsZQ%3D%3D?line=2'>3</a>\u001b[0m device \u001b[39m=\u001b[39m set_device()\n\u001b[1;32m----> <a href='vscode-notebook-cell:/c%3A/Users/Younes/Documents/GitHub/SP-learning-hamiltonian-functions-from-data/simple_pendulum/simple_pendulum.ipynb#Y455sZmlsZQ%3D%3D?line=4'>5</a>\u001b[0m model_training \u001b[39m=\u001b[39m Training(\n\u001b[0;32m      <a href='vscode-notebook-cell:/c%3A/Users/Younes/Documents/GitHub/SP-learning-hamiltonian-functions-from-data/simple_pendulum/simple_pendulum.ipynb#Y455sZmlsZQ%3D%3D?line=5'>6</a>\u001b[0m     PATH,\n\u001b[0;32m      <a href='vscode-notebook-cell:/c%3A/Users/Younes/Documents/GitHub/SP-learning-hamiltonian-functions-from-data/simple_pendulum/simple_pendulum.ipynb#Y455sZmlsZQ%3D%3D?line=6'>7</a>\u001b[0m     device,\n\u001b[0;32m      <a href='vscode-notebook-cell:/c%3A/Users/Younes/Documents/GitHub/SP-learning-hamiltonian-functions-from-data/simple_pendulum/simple_pendulum.ipynb#Y455sZmlsZQ%3D%3D?line=7'>8</a>\u001b[0m     w\u001b[39m=\u001b[39;49m[\u001b[39m1.0\u001b[39;49m, \u001b[39m1.0\u001b[39;49m],\n\u001b[0;32m      <a href='vscode-notebook-cell:/c%3A/Users/Younes/Documents/GitHub/SP-learning-hamiltonian-functions-from-data/simple_pendulum/simple_pendulum.ipynb#Y455sZmlsZQ%3D%3D?line=8'>9</a>\u001b[0m     resnet_config\u001b[39m=\u001b[39;49m\u001b[39m1\u001b[39;49m,\n\u001b[0;32m     <a href='vscode-notebook-cell:/c%3A/Users/Younes/Documents/GitHub/SP-learning-hamiltonian-functions-from-data/simple_pendulum/simple_pendulum.ipynb#Y455sZmlsZQ%3D%3D?line=9'>10</a>\u001b[0m     horizon\u001b[39m=\u001b[39;49m\u001b[39mFalse\u001b[39;49;00m,\n\u001b[0;32m     <a href='vscode-notebook-cell:/c%3A/Users/Younes/Documents/GitHub/SP-learning-hamiltonian-functions-from-data/simple_pendulum/simple_pendulum.ipynb#Y455sZmlsZQ%3D%3D?line=10'>11</a>\u001b[0m     horizon_type\u001b[39m=\u001b[39;49m\u001b[39m\"\u001b[39;49m\u001b[39mauto\u001b[39;49m\u001b[39m\"\u001b[39;49m,\n\u001b[0;32m     <a href='vscode-notebook-cell:/c%3A/Users/Younes/Documents/GitHub/SP-learning-hamiltonian-functions-from-data/simple_pendulum/simple_pendulum.ipynb#Y455sZmlsZQ%3D%3D?line=11'>12</a>\u001b[0m     horizon_list\u001b[39m=\u001b[39;49m[\u001b[39m20\u001b[39;49m, \u001b[39m25\u001b[39;49m, \u001b[39m30\u001b[39;49m, \u001b[39m35\u001b[39;49m, \u001b[39m40\u001b[39;49m],\n\u001b[0;32m     <a href='vscode-notebook-cell:/c%3A/Users/Younes/Documents/GitHub/SP-learning-hamiltonian-functions-from-data/simple_pendulum/simple_pendulum.ipynb#Y455sZmlsZQ%3D%3D?line=12'>13</a>\u001b[0m     switch_steps\u001b[39m=\u001b[39;49m[\u001b[39m2\u001b[39;49m, \u001b[39m2\u001b[39;49m, \u001b[39m2\u001b[39;49m, \u001b[39m2\u001b[39;49m, \u001b[39m2\u001b[39;49m],\n\u001b[0;32m     <a href='vscode-notebook-cell:/c%3A/Users/Younes/Documents/GitHub/SP-learning-hamiltonian-functions-from-data/simple_pendulum/simple_pendulum.ipynb#Y455sZmlsZQ%3D%3D?line=13'>14</a>\u001b[0m     epoch_num\u001b[39m=\u001b[39;49m\u001b[39mNone\u001b[39;49;00m,\n\u001b[0;32m     <a href='vscode-notebook-cell:/c%3A/Users/Younes/Documents/GitHub/SP-learning-hamiltonian-functions-from-data/simple_pendulum/simple_pendulum.ipynb#Y455sZmlsZQ%3D%3D?line=14'>15</a>\u001b[0m     loss_type\u001b[39m=\u001b[39;49m\u001b[39m\"\u001b[39;49m\u001b[39mL2weighted\u001b[39;49m\u001b[39m\"\u001b[39;49m,\n\u001b[0;32m     <a href='vscode-notebook-cell:/c%3A/Users/Younes/Documents/GitHub/SP-learning-hamiltonian-functions-from-data/simple_pendulum/simple_pendulum.ipynb#Y455sZmlsZQ%3D%3D?line=15'>16</a>\u001b[0m     test_every\u001b[39m=\u001b[39;49m\u001b[39m5\u001b[39;49m,\n\u001b[0;32m     <a href='vscode-notebook-cell:/c%3A/Users/Younes/Documents/GitHub/SP-learning-hamiltonian-functions-from-data/simple_pendulum/simple_pendulum.ipynb#Y455sZmlsZQ%3D%3D?line=16'>17</a>\u001b[0m     print_every\u001b[39m=\u001b[39;49m\u001b[39m1\u001b[39;49m,\n\u001b[0;32m     <a href='vscode-notebook-cell:/c%3A/Users/Younes/Documents/GitHub/SP-learning-hamiltonian-functions-from-data/simple_pendulum/simple_pendulum.ipynb#Y455sZmlsZQ%3D%3D?line=17'>18</a>\u001b[0m     lr\u001b[39m=\u001b[39;49m\u001b[39m1e-3\u001b[39;49m,\n\u001b[0;32m     <a href='vscode-notebook-cell:/c%3A/Users/Younes/Documents/GitHub/SP-learning-hamiltonian-functions-from-data/simple_pendulum/simple_pendulum.ipynb#Y455sZmlsZQ%3D%3D?line=18'>19</a>\u001b[0m     weight_decay\u001b[39m=\u001b[39;49m\u001b[39m1e-4\u001b[39;49m,\n\u001b[0;32m     <a href='vscode-notebook-cell:/c%3A/Users/Younes/Documents/GitHub/SP-learning-hamiltonian-functions-from-data/simple_pendulum/simple_pendulum.ipynb#Y455sZmlsZQ%3D%3D?line=19'>20</a>\u001b[0m     model_name\u001b[39m=\u001b[39;49m\u001b[39m\"\u001b[39;49m\u001b[39mExpanding_wide_HNN_chirp\u001b[39;49m\u001b[39m\"\u001b[39;49m,\n\u001b[0;32m     <a href='vscode-notebook-cell:/c%3A/Users/Younes/Documents/GitHub/SP-learning-hamiltonian-functions-from-data/simple_pendulum/simple_pendulum.ipynb#Y455sZmlsZQ%3D%3D?line=20'>21</a>\u001b[0m     time_steps\u001b[39m=\u001b[39;49m\u001b[39m200\u001b[39;49m,\n\u001b[0;32m     <a href='vscode-notebook-cell:/c%3A/Users/Younes/Documents/GitHub/SP-learning-hamiltonian-functions-from-data/simple_pendulum/simple_pendulum.ipynb#Y455sZmlsZQ%3D%3D?line=21'>22</a>\u001b[0m     num_trajectories\u001b[39m=\u001b[39;49m\u001b[39m5\u001b[39;49m,\n\u001b[0;32m     <a href='vscode-notebook-cell:/c%3A/Users/Younes/Documents/GitHub/SP-learning-hamiltonian-functions-from-data/simple_pendulum/simple_pendulum.ipynb#Y455sZmlsZQ%3D%3D?line=22'>23</a>\u001b[0m     batch_size\u001b[39m=\u001b[39;49m\u001b[39m100\u001b[39;49m,\n\u001b[0;32m     <a href='vscode-notebook-cell:/c%3A/Users/Younes/Documents/GitHub/SP-learning-hamiltonian-functions-from-data/simple_pendulum/simple_pendulum.ipynb#Y455sZmlsZQ%3D%3D?line=23'>24</a>\u001b[0m     proportion\u001b[39m=\u001b[39;49m\u001b[39m0.8\u001b[39;49m,\n\u001b[0;32m     <a href='vscode-notebook-cell:/c%3A/Users/Younes/Documents/GitHub/SP-learning-hamiltonian-functions-from-data/simple_pendulum/simple_pendulum.ipynb#Y455sZmlsZQ%3D%3D?line=24'>25</a>\u001b[0m     utype\u001b[39m=\u001b[39;49m\u001b[39m\"\u001b[39;49m\u001b[39mchirp\u001b[39;49m\u001b[39m\"\u001b[39;49m,\n\u001b[0;32m     <a href='vscode-notebook-cell:/c%3A/Users/Younes/Documents/GitHub/SP-learning-hamiltonian-functions-from-data/simple_pendulum/simple_pendulum.ipynb#Y455sZmlsZQ%3D%3D?line=25'>26</a>\u001b[0m     gtype\u001b[39m=\u001b[39;49m\u001b[39m\"\u001b[39;49m\u001b[39msimple\u001b[39;49m\u001b[39m\"\u001b[39;49m,\n\u001b[0;32m     <a href='vscode-notebook-cell:/c%3A/Users/Younes/Documents/GitHub/SP-learning-hamiltonian-functions-from-data/simple_pendulum/simple_pendulum.ipynb#Y455sZmlsZQ%3D%3D?line=26'>27</a>\u001b[0m     shuffle\u001b[39m=\u001b[39;49m\u001b[39mFalse\u001b[39;49;00m,\n\u001b[0;32m     <a href='vscode-notebook-cell:/c%3A/Users/Younes/Documents/GitHub/SP-learning-hamiltonian-functions-from-data/simple_pendulum/simple_pendulum.ipynb#Y455sZmlsZQ%3D%3D?line=27'>28</a>\u001b[0m     coord_type\u001b[39m=\u001b[39;49m\u001b[39m\"\u001b[39;49m\u001b[39mhamiltonian\u001b[39;49m\u001b[39m\"\u001b[39;49m,\n\u001b[0;32m     <a href='vscode-notebook-cell:/c%3A/Users/Younes/Documents/GitHub/SP-learning-hamiltonian-functions-from-data/simple_pendulum/simple_pendulum.ipynb#Y455sZmlsZQ%3D%3D?line=28'>29</a>\u001b[0m     save_suffix\u001b[39m=\u001b[39;49m\u001b[39m\"\u001b[39;49m\u001b[39m\"\u001b[39;49m,\n\u001b[0;32m     <a href='vscode-notebook-cell:/c%3A/Users/Younes/Documents/GitHub/SP-learning-hamiltonian-functions-from-data/simple_pendulum/simple_pendulum.ipynb#Y455sZmlsZQ%3D%3D?line=29'>30</a>\u001b[0m )\n",
      "File \u001b[1;32mc:\\Users\\Younes\\Documents\\GitHub\\SP-learning-hamiltonian-functions-from-data\\simple_pendulum\\src\\train.py:88\u001b[0m, in \u001b[0;36mTraining.__init__\u001b[1;34m(self, PATH, device, w, resnet_config, horizon, horizon_type, horizon_list, switch_steps, epoch_num, loss_type, test_every, print_every, lr, weight_decay, model_name, time_steps, num_trajectories, batch_size, proportion, utype, gtype, shuffle, coord_type, save_suffix)\u001b[0m\n\u001b[0;32m     86\u001b[0m \u001b[39mself\u001b[39m\u001b[39m.\u001b[39mmodel_path, \u001b[39mself\u001b[39m\u001b[39m.\u001b[39mplot_path \u001b[39m=\u001b[39m create_paths(PATH, save_suffix, model_name)\n\u001b[0;32m     87\u001b[0m \u001b[39mprint\u001b[39m(\u001b[39m\"\u001b[39m\u001b[39mPaths created\u001b[39m\u001b[39m\"\u001b[39m)\n\u001b[1;32m---> 88\u001b[0m \u001b[39mself\u001b[39;49m\u001b[39m.\u001b[39;49m_init_model()\n",
      "File \u001b[1;32mc:\\Users\\Younes\\Documents\\GitHub\\SP-learning-hamiltonian-functions-from-data\\simple_pendulum\\src\\train.py:168\u001b[0m, in \u001b[0;36mTraining._init_model\u001b[1;34m(self)\u001b[0m\n\u001b[0;32m    166\u001b[0m num_params \u001b[39m=\u001b[39m \u001b[39m0\u001b[39m\n\u001b[0;32m    167\u001b[0m \u001b[39mfor\u001b[39;00m block \u001b[39min\u001b[39;00m H_net\u001b[39m.\u001b[39mresblocks:\n\u001b[1;32m--> 168\u001b[0m     block\u001b[39m.\u001b[39mto(device)\n\u001b[0;32m    169\u001b[0m     num_params \u001b[39m+\u001b[39m\u001b[39m=\u001b[39m count_parameters(block)\n\u001b[0;32m    171\u001b[0m \u001b[39mself\u001b[39m\u001b[39m.\u001b[39mmodel \u001b[39m=\u001b[39m Input_HNN(u_func\u001b[39m=\u001b[39m\u001b[39mself\u001b[39m\u001b[39m.\u001b[39mu_func, G_net\u001b[39m=\u001b[39m\u001b[39mself\u001b[39m\u001b[39m.\u001b[39mg_func, H_net\u001b[39m=\u001b[39mH_net, device\u001b[39m=\u001b[39m\u001b[39mself\u001b[39m\u001b[39m.\u001b[39mdevice)\n",
      "\u001b[1;31mNameError\u001b[0m: name 'device' is not defined"
     ]
    }
   ],
   "source": [
    "set_all_seeds(manualSeed=123, new_results=False)\n",
    "\n",
    "device = set_device()\n",
    "\n",
    "model_training = Training(\n",
    "    PATH,\n",
    "    device,\n",
    "    w=[1.0, 1.0],\n",
    "    resnet_config=1,\n",
    "    horizon=False,\n",
    "    horizon_type=\"auto\",\n",
    "    horizon_list=[20, 25, 30, 35, 40],\n",
    "    switch_steps=[100, 100, 100, 100, 100],\n",
    "    epoch_num=None,\n",
    "    loss_type=\"L2weighted\",\n",
    "    test_every=5,\n",
    "    print_every=1,\n",
    "    lr=1e-3,\n",
    "    weight_decay=1e-4,\n",
    "    model_name=\"Expanding_wide_HNN_chirp\",\n",
    "    time_steps=200,\n",
    "    num_trajectories=125,\n",
    "    batch_size=100,\n",
    "    proportion=0.8,\n",
    "    utype=\"chirp\",\n",
    "    gtype=\"simple\",\n",
    "    shuffle=False,\n",
    "    coord_type=\"hamiltonian\",\n",
    "    save_suffix=\"\",\n",
    ")"
   ]
  },
  {
   "cell_type": "code",
   "execution_count": null,
   "id": "e1b00850",
   "metadata": {},
   "outputs": [
    {
     "name": "stdout",
     "output_type": "stream",
     "text": [
      "horizon length : 20\n",
      "[  0/ 10]\t train loss: 7.484456e+00, t_train: 0.28, test loss: 6.907747e+00, t_test: 0.10\n",
      "[  1/ 10]\t train loss: 7.260284e+00, t_train: 0.20\n",
      "horizon length : 25\n",
      "[  2/ 10]\t train loss: 6.942301e+00, t_train: 0.28\n",
      "[  3/ 10]\t train loss: 6.752009e+00, t_train: 0.32\n",
      "horizon length : 30\n",
      "[  4/ 10]\t train loss: 6.855915e+00, t_train: 0.39\n",
      "[  5/ 10]\t train loss: 6.694682e+00, t_train: 0.36, test loss: 6.182197e+00, t_test: 0.15\n",
      "horizon length : 35\n",
      "[  6/ 10]\t train loss: 7.371741e+00, t_train: 0.43\n",
      "[  7/ 10]\t train loss: 7.205282e+00, t_train: 0.44\n",
      "horizon length : 40\n",
      "[  8/ 10]\t train loss: 7.719395e+00, t_train: 0.49\n",
      "[  9/ 10]\t train loss: 7.509027e+00, t_train: 0.48\n"
     ]
    }
   ],
   "source": [
    "stats = model_training.train()"
   ]
  },
  {
   "cell_type": "code",
   "execution_count": null,
   "id": "71f51a46",
   "metadata": {},
   "outputs": [],
   "source": [
    "# save training class that contains dataset and model\n",
    "pickle_save(model_training, model_training.model_path + \"model.pkl\")"
   ]
  },
  {
   "cell_type": "code",
   "execution_count": null,
   "id": "660ce0c0",
   "metadata": {},
   "outputs": [],
   "source": [
    "# load the model\n",
    "model_training = pickle_load(model_training.model_path + \"model.pkl\")"
   ]
  },
  {
   "cell_type": "markdown",
   "id": "b08918c0",
   "metadata": {},
   "source": [
    "#### plots"
   ]
  },
  {
   "cell_type": "code",
   "execution_count": null,
   "id": "945a53d0",
   "metadata": {},
   "outputs": [],
   "source": [
    "loss_train = model_training.logs[\"train_loss\"]\n",
    "loss_test = model_training.logs[\"test_loss\"]\n",
    "epochs = np.arange(len(loss_train))\n",
    "train_test_loss_plot(\n",
    "    loss_train,\n",
    "    loss_test,\n",
    "    epochs,\n",
    "    model_training.test_epochs,\n",
    "    file_path=model_training.plot_path + \"simple_pend_losses.png\",\n",
    "    horizons=None,\n",
    "    horizon_steps=[200, 400, 550, 700, 850],\n",
    "    title=\"train and test loss per epoch\",\n",
    ")"
   ]
  },
  {
   "cell_type": "code",
   "execution_count": null,
   "id": "29829aac",
   "metadata": {},
   "outputs": [],
   "source": [
    "train_horizon = model_training.horizon_list[-1]\n",
    "print(train_horizon)"
   ]
  },
  {
   "cell_type": "code",
   "execution_count": null,
   "id": "48a194da",
   "metadata": {},
   "outputs": [],
   "source": [
    "title = \"\"\n",
    "for n in [5, 10, 75]:\n",
    "    plot_results(\n",
    "        model_training,\n",
    "        n,\n",
    "        train_horizon,\n",
    "        file_path=model_training.plot_path + \"simple_pend_train\" + str(n) + \".png\",\n",
    "        show_pred=True,\n",
    "        title=title,\n",
    "        coord_type=\"hamiltonian\",\n",
    "    )"
   ]
  },
  {
   "cell_type": "code",
   "execution_count": null,
   "id": "916041e2",
   "metadata": {},
   "outputs": [],
   "source": [
    "title = \"\"\n",
    "for n in [5, 10, 15]:\n",
    "    plot_results(\n",
    "        model_training,\n",
    "        n,\n",
    "        train_horizon,\n",
    "        train=False,\n",
    "        file_path=model_training.plot_path + \"simple_pend_test\" + str(n) + \".png\",\n",
    "        only_pred=True,\n",
    "        title=title,\n",
    "        coord_type=\"hamiltonian\",\n",
    "    )"
   ]
  },
  {
   "cell_type": "code",
   "execution_count": null,
   "id": "4b06014b",
   "metadata": {},
   "outputs": [],
   "source": [
    "set_all_seeds(manualSeed=123, new_results=False)\n",
    "\n",
    "model_training.model.u_func = U_FUNC(utype=None)\n",
    "model_training.model.g_func = G_FUNC(device, gtype=None)\n",
    "model_training.time_steps = 200\n",
    "model_training.num_trajectories = 25\n",
    "model_training.batch_size = 100\n",
    "model_training.proportion = 0.0\n",
    "model_training._init_data_loaders()\n",
    "\n",
    "title = \"\"\n",
    "for n in [0, 5, 15]:\n",
    "    plot_results(\n",
    "        model_training,\n",
    "        n,\n",
    "        train_horizon,\n",
    "        train=True,\n",
    "        file_path=model_training.plot_path + \"noinput_simple_pend\" + str(n) + \".png\",\n",
    "        show_pred=True,\n",
    "        title=title,\n",
    "        coord_type=\"hamiltonian\",\n",
    "    )"
   ]
  },
  {
   "cell_type": "code",
   "execution_count": null,
   "id": "e7f8da95",
   "metadata": {},
   "outputs": [],
   "source": [
    "utype = \"sine\"\n",
    "u_func = U_FUNC(utype=utype)\n",
    "u_func.params[\"T\"] = 2.0\n",
    "u_func.params[\"f0\"] = 0\n",
    "u_func.params[\"f1\"] = 1\n",
    "u_func.params[\"scale\"] = 1\n",
    "gtype = \"simple\"\n",
    "g_func = G_FUNC(device, gtype=gtype)\n",
    "\n",
    "model_training.model.u_func = u_func\n",
    "model_training.model.g_func = g_func\n",
    "\n",
    "model_training.time_steps = 200\n",
    "model_training.num_trajectories = 25\n",
    "model_training.batch_size = 100\n",
    "model_training.proportion = 0.0\n",
    "\n",
    "model_training._init_data_loaders()\n",
    "\n",
    "title = \"\"\n",
    "for n in [0, 10, 20]:\n",
    "    plot_results(\n",
    "        model_training,\n",
    "        n,\n",
    "        train_horizon,\n",
    "        file_path=model_training.plot_path + \"1hz_simple_pend\" + str(n) + \".png\",\n",
    "        show_pred=False,\n",
    "        only_pred=True,\n",
    "        title=title,\n",
    "        coord_type=\"hamiltonian\",\n",
    "    )"
   ]
  },
  {
   "cell_type": "code",
   "execution_count": null,
   "id": "bfd56878",
   "metadata": {},
   "outputs": [],
   "source": [
    "utype = \"sine\"\n",
    "u_func = U_FUNC(utype=utype)\n",
    "u_func.params[\"T\"] = 2.0\n",
    "u_func.params[\"f0\"] = 0\n",
    "u_func.params[\"f1\"] = 1\n",
    "u_func.params[\"scale\"] = 0.5\n",
    "gtype = \"simple\"\n",
    "g_func = G_FUNC(device, gtype=gtype)\n",
    "\n",
    "model_training.model.u_func = u_func\n",
    "model_training.model.g_func = g_func\n",
    "\n",
    "model_training.time_steps = 200\n",
    "model_training.num_trajectories = 25\n",
    "model_training.batch_size = 100\n",
    "model_training.proportion = 0.0\n",
    "\n",
    "model_training._init_data_loaders()\n",
    "\n",
    "title = \"\"\n",
    "for n in [0, 10, 20]:\n",
    "    plot_results(\n",
    "        model_training,\n",
    "        n,\n",
    "        train_horizon,\n",
    "        file_path=model_training.plot_path + \"0.5hz_simple_pend\" + str(n) + \".png\",\n",
    "        show_pred=False,\n",
    "        only_pred=True,\n",
    "        title=title,\n",
    "        coord_type=\"hamiltonian\",\n",
    "    )"
   ]
  },
  {
   "cell_type": "markdown",
   "id": "ded0cd4f",
   "metadata": {},
   "source": [
    "## Interp_HNN"
   ]
  },
  {
   "cell_type": "code",
   "execution_count": 44,
   "id": "da355e85",
   "metadata": {},
   "outputs": [
    {
     "name": "stdout",
     "output_type": "stream",
     "text": [
      "Random Seed:  123\n",
      "Available device: cpu\n",
      "Number of training epochs:  10\n",
      "Generating dataset\n",
      "Dataset created\n",
      "Paths created\n",
      "mlp number of parameters : 416\n",
      "resblock number of parameters : 434\n",
      "Total number of H_net parameters : 7794\n",
      "Model initiatialized. \n",
      " Number of parameters : 416\n"
     ]
    }
   ],
   "source": [
    "set_all_seeds(manualSeed=123, new_results=False)\n",
    "\n",
    "device = set_device()\n",
    "\n",
    "model_training = Training(\n",
    "    PATH,\n",
    "    device,\n",
    "    w=[1.0, 1.0],\n",
    "    resnet_config=2,\n",
    "    horizon=False,\n",
    "    horizon_type=\"auto\",\n",
    "    horizon_list=[40, 40, 40, 40, 40],\n",
    "    switch_steps=[100, 100, 100, 100, 100],\n",
    "    epoch_num=None,\n",
    "    loss_type=\"L2weighted\",\n",
    "    test_every=5,\n",
    "    print_every=1,\n",
    "    lr=1e-3,\n",
    "    weight_decay=1e-4,\n",
    "    model_name=\"Interp_HNN_chirp\",\n",
    "    time_steps=200,\n",
    "    num_trajectories=125,\n",
    "    batch_size=100,\n",
    "    proportion=0.8,\n",
    "    utype=\"chirp\",\n",
    "    gtype=\"simple\",\n",
    "    shuffle=False,\n",
    "    coord_type=\"hamiltonian\",\n",
    "    save_suffix=\"\",\n",
    ")"
   ]
  },
  {
   "cell_type": "code",
   "execution_count": 45,
   "id": "e1b00850",
   "metadata": {},
   "outputs": [
    {
     "name": "stdout",
     "output_type": "stream",
     "text": [
      "horizon length : 40\n",
      "Model size increased\n",
      "[  0/ 10]\t train loss: 6.530754e+00, t_train: 0.40, test loss: 8.455670e+00, t_test: 0.22\n",
      "[  1/ 10]\t train loss: 6.467261e+00, t_train: 0.40\n",
      "horizon length : 40\n",
      "Model size increased\n",
      "[  2/ 10]\t train loss: 6.336012e+00, t_train: 0.51\n",
      "[  3/ 10]\t train loss: 6.276437e+00, t_train: 0.51\n",
      "horizon length : 40\n",
      "Model size increased\n",
      "[  4/ 10]\t train loss: 6.185132e+00, t_train: 0.73\n",
      "[  5/ 10]\t train loss: 6.128132e+00, t_train: 0.72, test loss: 7.993954e+00, t_test: 0.36\n",
      "horizon length : 40\n",
      "Model size increased\n",
      "[  6/ 10]\t train loss: 6.057745e+00, t_train: 1.19\n",
      "[  7/ 10]\t train loss: 6.002436e+00, t_train: 1.22\n",
      "horizon length : 40\n",
      "Model size increased\n",
      "[  8/ 10]\t train loss: 5.920347e+00, t_train: 2.23\n",
      "[  9/ 10]\t train loss: 5.867141e+00, t_train: 2.21\n"
     ]
    }
   ],
   "source": [
    "stats = model_training.train()"
   ]
  },
  {
   "cell_type": "code",
   "execution_count": 38,
   "id": "71f51a46",
   "metadata": {},
   "outputs": [],
   "source": [
    "# save training class that contains dataset and model\n",
    "pickle_save(model_training, model_training.model_path + \"model.pkl\")"
   ]
  },
  {
   "cell_type": "code",
   "execution_count": 39,
   "id": "660ce0c0",
   "metadata": {},
   "outputs": [],
   "source": [
    "# load the model\n",
    "model_training = pickle_load(model_training.model_path + \"model.pkl\")"
   ]
  },
  {
   "cell_type": "markdown",
   "id": "b08918c0",
   "metadata": {},
   "source": [
    "#### plots"
   ]
  },
  {
   "cell_type": "code",
   "execution_count": null,
   "id": "945a53d0",
   "metadata": {},
   "outputs": [],
   "source": [
    "loss_train = model_training.logs[\"train_loss\"]\n",
    "loss_test = model_training.logs[\"test_loss\"]\n",
    "epochs = np.arange(len(loss_train))\n",
    "train_test_loss_plot(\n",
    "    loss_train,\n",
    "    loss_test,\n",
    "    epochs,\n",
    "    model_training.test_epochs,\n",
    "    file_path=model_training.plot_path + \"simple_pend_losses.png\",\n",
    "    horizons=None,\n",
    "    horizon_steps=[200, 400, 550, 700, 850],\n",
    "    title=\"train and test loss per epoch\",\n",
    ")"
   ]
  },
  {
   "cell_type": "code",
   "execution_count": null,
   "id": "29829aac",
   "metadata": {},
   "outputs": [],
   "source": [
    "train_horizon = model_training.horizon_list[-1]\n",
    "print(train_horizon)"
   ]
  },
  {
   "cell_type": "code",
   "execution_count": null,
   "id": "48a194da",
   "metadata": {},
   "outputs": [],
   "source": [
    "title = \"\"\n",
    "for n in [5, 10, 75]:\n",
    "    plot_results(\n",
    "        model_training,\n",
    "        n,\n",
    "        train_horizon,\n",
    "        file_path=model_training.plot_path + \"simple_pend_train\" + str(n) + \".png\",\n",
    "        show_pred=True,\n",
    "        title=title,\n",
    "        coord_type=\"hamiltonian\",\n",
    "    )"
   ]
  },
  {
   "cell_type": "code",
   "execution_count": null,
   "id": "916041e2",
   "metadata": {},
   "outputs": [],
   "source": [
    "title = \"\"\n",
    "for n in [5, 10, 15]:\n",
    "    plot_results(\n",
    "        model_training,\n",
    "        n,\n",
    "        train_horizon,\n",
    "        train=False,\n",
    "        file_path=model_training.plot_path + \"simple_pend_test\" + str(n) + \".png\",\n",
    "        only_pred=True,\n",
    "        title=title,\n",
    "        coord_type=\"hamiltonian\",\n",
    "    )"
   ]
  },
  {
   "cell_type": "code",
   "execution_count": null,
   "id": "4b06014b",
   "metadata": {},
   "outputs": [],
   "source": [
    "set_all_seeds(manualSeed=123, new_results=False)\n",
    "\n",
    "model_training.model.u_func = U_FUNC(utype=None)\n",
    "model_training.model.g_func = G_FUNC(device, gtype=None)\n",
    "model_training.time_steps = 200\n",
    "model_training.num_trajectories = 25\n",
    "model_training.batch_size = 100\n",
    "model_training.proportion = 0.0\n",
    "model_training._init_data_loaders()\n",
    "\n",
    "title = \"\"\n",
    "for n in [0, 5, 15]:\n",
    "    plot_results(\n",
    "        model_training,\n",
    "        n,\n",
    "        train_horizon,\n",
    "        train=True,\n",
    "        file_path=model_training.plot_path + \"noinput_simple_pend\" + str(n) + \".png\",\n",
    "        show_pred=True,\n",
    "        title=title,\n",
    "        coord_type=\"hamiltonian\",\n",
    "    )"
   ]
  },
  {
   "cell_type": "code",
   "execution_count": null,
   "id": "e7f8da95",
   "metadata": {},
   "outputs": [],
   "source": [
    "utype = \"sine\"\n",
    "u_func = U_FUNC(utype=utype)\n",
    "u_func.params[\"T\"] = 2.0\n",
    "u_func.params[\"f0\"] = 0\n",
    "u_func.params[\"f1\"] = 1\n",
    "u_func.params[\"scale\"] = 1\n",
    "gtype = \"simple\"\n",
    "g_func = G_FUNC(device, gtype=gtype)\n",
    "\n",
    "model_training.model.u_func = u_func\n",
    "model_training.model.g_func = g_func\n",
    "\n",
    "model_training.time_steps = 200\n",
    "model_training.num_trajectories = 25\n",
    "model_training.batch_size = 100\n",
    "model_training.proportion = 0.0\n",
    "\n",
    "model_training._init_data_loaders()\n",
    "\n",
    "title = \"\"\n",
    "for n in [0, 10, 20]:\n",
    "    plot_results(\n",
    "        model_training,\n",
    "        n,\n",
    "        train_horizon,\n",
    "        file_path=model_training.plot_path + \"1hz_simple_pend\" + str(n) + \".png\",\n",
    "        show_pred=False,\n",
    "        only_pred=True,\n",
    "        title=title,\n",
    "        coord_type=\"hamiltonian\",\n",
    "    )"
   ]
  },
  {
   "cell_type": "code",
   "execution_count": null,
   "id": "bfd56878",
   "metadata": {},
   "outputs": [],
   "source": [
    "utype = \"sine\"\n",
    "u_func = U_FUNC(utype=utype)\n",
    "u_func.params[\"T\"] = 2.0\n",
    "u_func.params[\"f0\"] = 0\n",
    "u_func.params[\"f1\"] = 1\n",
    "u_func.params[\"scale\"] = 0.5\n",
    "gtype = \"simple\"\n",
    "g_func = G_FUNC(device, gtype=gtype)\n",
    "\n",
    "model_training.model.u_func = u_func\n",
    "model_training.model.g_func = g_func\n",
    "\n",
    "model_training.time_steps = 200\n",
    "model_training.num_trajectories = 25\n",
    "model_training.batch_size = 100\n",
    "model_training.proportion = 0.0\n",
    "\n",
    "model_training._init_data_loaders()\n",
    "\n",
    "title = \"\"\n",
    "for n in [0, 10, 20]:\n",
    "    plot_results(\n",
    "        model_training,\n",
    "        n,\n",
    "        train_horizon,\n",
    "        file_path=model_training.plot_path + \"0.5hz_simple_pend\" + str(n) + \".png\",\n",
    "        show_pred=False,\n",
    "        only_pred=True,\n",
    "        title=title,\n",
    "        coord_type=\"hamiltonian\",\n",
    "    )"
   ]
  },
  {
   "cell_type": "markdown",
   "id": "699565d0",
   "metadata": {},
   "source": [
    "## Interp_horizon_HNN"
   ]
  },
  {
   "cell_type": "code",
   "execution_count": 40,
   "id": "da355e85",
   "metadata": {},
   "outputs": [
    {
     "name": "stdout",
     "output_type": "stream",
     "text": [
      "Random Seed:  123\n",
      "Available device: cpu\n",
      "Number of training epochs:  10\n",
      "Generating dataset\n",
      "Dataset created\n",
      "Paths created\n",
      "mlp number of parameters : 416\n",
      "resblock number of parameters : 434\n",
      "Total number of H_net parameters : 7794\n",
      "Model initiatialized. \n",
      " Number of parameters : 416\n"
     ]
    }
   ],
   "source": [
    "set_all_seeds(manualSeed=123, new_results=False)\n",
    "\n",
    "device = set_device()\n",
    "\n",
    "model_training = Training(\n",
    "    PATH,\n",
    "    device,\n",
    "    w=[1.0, 1.0],\n",
    "    resnet_config=2,\n",
    "    horizon=False,\n",
    "    horizon_type=\"auto\",\n",
    "    horizon_list=[20, 25, 30, 35, 40],\n",
    "    switch_steps=[100, 100, 100, 100, 100],\n",
    "    epoch_num=None,\n",
    "    loss_type=\"L2weighted\",\n",
    "    test_every=5,\n",
    "    print_every=1,\n",
    "    lr=1e-3,\n",
    "    weight_decay=1e-4,\n",
    "    model_name=\"Interp_horizon_HNN_chirp\",\n",
    "    time_steps=200,\n",
    "    num_trajectories=125,\n",
    "    batch_size=100,\n",
    "    proportion=0.8,\n",
    "    utype=\"chirp\",\n",
    "    gtype=\"simple\",\n",
    "    shuffle=False,\n",
    "    coord_type=\"hamiltonian\",\n",
    "    save_suffix=\"\",\n",
    ")"
   ]
  },
  {
   "cell_type": "code",
   "execution_count": 41,
   "id": "e1b00850",
   "metadata": {},
   "outputs": [
    {
     "name": "stdout",
     "output_type": "stream",
     "text": [
      "horizon length : 20\n",
      "Model size increased\n",
      "[  0/ 10]\t train loss: 8.918359e+00, t_train: 0.21, test loss: 5.064832e+00, t_test: 0.11\n",
      "[  1/ 10]\t train loss: 8.851995e+00, t_train: 0.23\n",
      "horizon length : 25\n",
      "Model size increased\n",
      "[  2/ 10]\t train loss: 8.527746e+00, t_train: 0.43\n",
      "[  3/ 10]\t train loss: 8.461437e+00, t_train: 0.43\n",
      "horizon length : 30\n",
      "Model size increased\n",
      "[  4/ 10]\t train loss: 8.424047e+00, t_train: 0.63\n",
      "[  5/ 10]\t train loss: 8.366490e+00, t_train: 0.60, test loss: 6.271338e+00, t_test: 0.28\n",
      "horizon length : 35\n",
      "Model size increased\n",
      "[  6/ 10]\t train loss: 9.015510e+00, t_train: 1.19\n",
      "[  7/ 10]\t train loss: 8.969194e+00, t_train: 1.16\n",
      "horizon length : 40\n",
      "Model size increased\n",
      "[  8/ 10]\t train loss: 9.869020e+00, t_train: 2.30\n",
      "[  9/ 10]\t train loss: 9.828007e+00, t_train: 2.28\n"
     ]
    }
   ],
   "source": [
    "stats = model_training.train()"
   ]
  },
  {
   "cell_type": "code",
   "execution_count": 42,
   "id": "71f51a46",
   "metadata": {},
   "outputs": [],
   "source": [
    "# save training class that contains dataset and model\n",
    "pickle_save(model_training, model_training.model_path + \"model.pkl\")"
   ]
  },
  {
   "cell_type": "code",
   "execution_count": 43,
   "id": "660ce0c0",
   "metadata": {},
   "outputs": [],
   "source": [
    "# load the model\n",
    "model_training = pickle_load(model_training.model_path + \"model.pkl\")"
   ]
  },
  {
   "cell_type": "markdown",
   "id": "b08918c0",
   "metadata": {},
   "source": [
    "#### plots"
   ]
  },
  {
   "cell_type": "code",
   "execution_count": null,
   "id": "945a53d0",
   "metadata": {},
   "outputs": [],
   "source": [
    "loss_train = model_training.logs[\"train_loss\"]\n",
    "loss_test = model_training.logs[\"test_loss\"]\n",
    "epochs = np.arange(len(loss_train))\n",
    "train_test_loss_plot(\n",
    "    loss_train,\n",
    "    loss_test,\n",
    "    epochs,\n",
    "    model_training.test_epochs,\n",
    "    file_path=model_training.plot_path + \"simple_pend_losses.png\",\n",
    "    horizons=None,\n",
    "    horizon_steps=[200, 400, 550, 700, 850],\n",
    "    title=\"train and test loss per epoch\",\n",
    ")"
   ]
  },
  {
   "cell_type": "code",
   "execution_count": null,
   "id": "29829aac",
   "metadata": {},
   "outputs": [],
   "source": [
    "train_horizon = model_training.horizon_list[-1]\n",
    "print(train_horizon)"
   ]
  },
  {
   "cell_type": "code",
   "execution_count": null,
   "id": "48a194da",
   "metadata": {},
   "outputs": [],
   "source": [
    "title = \"\"\n",
    "for n in [5, 10, 75]:\n",
    "    plot_results(\n",
    "        model_training,\n",
    "        n,\n",
    "        train_horizon,\n",
    "        file_path=model_training.plot_path + \"simple_pend_train\" + str(n) + \".png\",\n",
    "        show_pred=True,\n",
    "        title=title,\n",
    "        coord_type=\"hamiltonian\",\n",
    "    )"
   ]
  },
  {
   "cell_type": "code",
   "execution_count": null,
   "id": "916041e2",
   "metadata": {},
   "outputs": [],
   "source": [
    "title = \"\"\n",
    "for n in [5, 10, 15]:\n",
    "    plot_results(\n",
    "        model_training,\n",
    "        n,\n",
    "        train_horizon,\n",
    "        train=False,\n",
    "        file_path=model_training.plot_path + \"simple_pend_test\" + str(n) + \".png\",\n",
    "        only_pred=True,\n",
    "        title=title,\n",
    "        coord_type=\"hamiltonian\",\n",
    "    )"
   ]
  },
  {
   "cell_type": "code",
   "execution_count": null,
   "id": "4b06014b",
   "metadata": {},
   "outputs": [],
   "source": [
    "set_all_seeds(manualSeed=123, new_results=False)\n",
    "\n",
    "model_training.model.u_func = U_FUNC(utype=None)\n",
    "model_training.model.g_func = G_FUNC(device, gtype=None)\n",
    "model_training.time_steps = 200\n",
    "model_training.num_trajectories = 25\n",
    "model_training.batch_size = 100\n",
    "model_training.proportion = 0.0\n",
    "model_training._init_data_loaders()\n",
    "\n",
    "title = \"\"\n",
    "for n in [0, 5, 15]:\n",
    "    plot_results(\n",
    "        model_training,\n",
    "        n,\n",
    "        train_horizon,\n",
    "        train=True,\n",
    "        file_path=model_training.plot_path + \"noinput_simple_pend\" + str(n) + \".png\",\n",
    "        show_pred=True,\n",
    "        title=title,\n",
    "        coord_type=\"hamiltonian\",\n",
    "    )"
   ]
  },
  {
   "cell_type": "code",
   "execution_count": null,
   "id": "e7f8da95",
   "metadata": {},
   "outputs": [],
   "source": [
    "utype = \"sine\"\n",
    "u_func = U_FUNC(utype=utype)\n",
    "u_func.params[\"T\"] = 2.0\n",
    "u_func.params[\"f0\"] = 0\n",
    "u_func.params[\"f1\"] = 1\n",
    "u_func.params[\"scale\"] = 1\n",
    "gtype = \"simple\"\n",
    "g_func = G_FUNC(device, gtype=gtype)\n",
    "\n",
    "model_training.model.u_func = u_func\n",
    "model_training.model.g_func = g_func\n",
    "\n",
    "model_training.time_steps = 200\n",
    "model_training.num_trajectories = 25\n",
    "model_training.batch_size = 100\n",
    "model_training.proportion = 0.0\n",
    "\n",
    "model_training._init_data_loaders()\n",
    "\n",
    "title = \"\"\n",
    "for n in [0, 10, 20]:\n",
    "    plot_results(\n",
    "        model_training,\n",
    "        n,\n",
    "        train_horizon,\n",
    "        file_path=model_training.plot_path + \"1hz_simple_pend\" + str(n) + \".png\",\n",
    "        show_pred=False,\n",
    "        only_pred=True,\n",
    "        title=title,\n",
    "        coord_type=\"hamiltonian\",\n",
    "    )"
   ]
  },
  {
   "cell_type": "code",
   "execution_count": null,
   "id": "bfd56878",
   "metadata": {},
   "outputs": [],
   "source": [
    "utype = \"sine\"\n",
    "u_func = U_FUNC(utype=utype)\n",
    "u_func.params[\"T\"] = 2.0\n",
    "u_func.params[\"f0\"] = 0\n",
    "u_func.params[\"f1\"] = 1\n",
    "u_func.params[\"scale\"] = 0.5\n",
    "gtype = \"simple\"\n",
    "g_func = G_FUNC(device, gtype=gtype)\n",
    "\n",
    "model_training.model.u_func = u_func\n",
    "model_training.model.g_func = g_func\n",
    "\n",
    "model_training.time_steps = 200\n",
    "model_training.num_trajectories = 25\n",
    "model_training.batch_size = 100\n",
    "model_training.proportion = 0.0\n",
    "\n",
    "model_training._init_data_loaders()\n",
    "\n",
    "title = \"\"\n",
    "for n in [0, 10, 20]:\n",
    "    plot_results(\n",
    "        model_training,\n",
    "        n,\n",
    "        train_horizon,\n",
    "        file_path=model_training.plot_path + \"0.5hz_simple_pend\" + str(n) + \".png\",\n",
    "        show_pred=False,\n",
    "        only_pred=True,\n",
    "        title=title,\n",
    "        coord_type=\"hamiltonian\",\n",
    "    )"
   ]
  }
 ],
 "metadata": {
  "colab": {
   "collapsed_sections": [],
   "name": "w11_simple_pendulum.ipynb",
   "provenance": [],
   "toc_visible": true
  },
  "interpreter": {
   "hash": "52b0f3b5fff4e2d99607e23e4ce3f8b9e3a664acf6541783ed53f1bd22095b69"
  },
  "kernelspec": {
   "display_name": "Python 3.9.7 ('pds')",
   "language": "python",
   "name": "python3"
  },
  "language_info": {
   "codemirror_mode": {
    "name": "ipython",
    "version": 3
   },
   "file_extension": ".py",
   "mimetype": "text/x-python",
   "name": "python",
   "nbconvert_exporter": "python",
   "pygments_lexer": "ipython3",
   "version": "3.9.7"
  }
 },
 "nbformat": 4,
 "nbformat_minor": 5
}
