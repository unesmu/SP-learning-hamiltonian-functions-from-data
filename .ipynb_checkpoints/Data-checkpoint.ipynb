{
 "cells": [
  {
   "cell_type": "code",
   "execution_count": 89,
   "id": "329d7221",
   "metadata": {},
   "outputs": [],
   "source": [
    "import autograd\n",
    "import autograd.numpy as np\n",
    "\n",
    "import scipy.integrate\n",
    "solve_ivp = scipy.integrate.solve_ivp\n",
    "\n",
    "#import gym\n",
    "#import myenv\n",
    "\n",
    "import matplotlib.pyplot as plt"
   ]
  },
  {
   "cell_type": "code",
   "execution_count": 101,
   "id": "ce37a53f",
   "metadata": {},
   "outputs": [],
   "source": [
    "def hamiltonian_fn(coords):\n",
    "    q, p = np.split(coords,2)\n",
    "    # pendulum hamiltonian consistent with openAI gym Pendulum-v0\n",
    "    H = 5*(1-np.cos(q)) + 1.5 * p**2 \n",
    "    return H\n",
    "\n",
    "def dynamics_fn(t, coords, u=0):\n",
    "    dcoords = autograd.grad(hamiltonian_fn)(coords)\n",
    "    dqdt, dpdt = np.split(dcoords,2)\n",
    "    S = np.concatenate([dpdt, -dqdt + u], axis=-1)\n",
    "    return S\n",
    "\n",
    "def get_trajectory(timesteps=20, radius=None, y0=None, noise_std=0.1, u=0.0, rad=False, **kwargs):\n",
    "    t_eval = np.linspace(1, timesteps, timesteps) * 0.05\n",
    "    t_span = [0.05, timesteps*0.05]\n",
    "\n",
    "    # get initial state\n",
    "    if rad:\n",
    "        if y0 is None:\n",
    "            y0 = np.random.rand(2)*2.-1\n",
    "        if radius is None:\n",
    "            radius = np.random.rand() + 1.3 # sample a range of radii\n",
    "        y0 = y0 / np.sqrt((y0**2).sum()) * radius ## set the appropriate radius\n",
    "    else:\n",
    "        if y0 is None:\n",
    "            y0 = np.random.rand(2) * 3 * np.pi - np.pi\n",
    "\n",
    "    spring_ivp = solve_ivp(lambda t, y: dynamics_fn(t, y, u), t_span=t_span, y0=y0, t_eval=t_eval, rtol=1e-10, **kwargs)\n",
    "    q, p = spring_ivp['y'][0], spring_ivp['y'][1]\n",
    "\n",
    "    # add noise\n",
    "    q += np.random.randn(*q.shape)*noise_std\n",
    "    p += np.random.randn(*p.shape)*noise_std\n",
    "\n",
    "    return q, p, t_eval\n",
    "\n",
    "def get_dataset(seed=0, samples=50, test_split=0.5, gym=False, save_dir=None, us=[0], rad=False, timesteps=20, **kwargs):\n",
    "    data = {}\n",
    "   \n",
    "    xs_force = []\n",
    "    for u in us:\n",
    "        xs = []\n",
    "        np.random.seed(seed)\n",
    "        for _ in range(samples):\n",
    "            q, p, t = get_trajectory(noise_std=0.0, u=u, rad=rad, timesteps=timesteps, **kwargs)\n",
    "            xs.append(np.stack((q, p, np.ones_like(q)*u), axis=1)) # (45, 3) last dimension is u\n",
    "        xs_force.append(np.stack(xs, axis=1)) # fit Neural ODE format (45, 50, 3)\n",
    "        \n",
    "    data['x'] = np.stack(xs_force, axis=0) # (3, 45, 50, 3)\n",
    "\n",
    "    # make a train/test split\n",
    "    split_ix = int(samples * test_split)\n",
    "    split_data = {}\n",
    "    split_data['x'], split_data['test_x'] = data['x'][:,:,:split_ix,:], data['x'][:,:,split_ix:,:]\n",
    "\n",
    "    data = split_data\n",
    "    data['t'] = t\n",
    "    \n",
    "    return data"
   ]
  },
  {
   "cell_type": "code",
   "execution_count": 102,
   "id": "90a44a76",
   "metadata": {},
   "outputs": [],
   "source": [
    "q, p, t_eval = get_trajectory(timesteps=80, radius=2, y0=None, noise_std=0.1, u=0.0, rad=True)"
   ]
  },
  {
   "cell_type": "code",
   "execution_count": 103,
   "id": "e7521761",
   "metadata": {},
   "outputs": [
    {
     "data": {
      "image/png": "[encoded data removed]",
      "text/plain": [
       "<Figure size 432x288 with 2 Axes>"
      ]
     },
     "metadata": {
      "needs_background": "light"
     },
     "output_type": "display_data"
    }
   ],
   "source": [
    "fig, (ax1, ax2) = plt.subplots(1, 2, sharex=True)# , sharey=True)\n",
    "\n",
    "\n",
    "ax1.plot(t_eval, q, label='q')\n",
    "ax2.plot(t_eval, p, label='p')\n",
    "\n",
    "#for ax in ax1, ax2:\n",
    "#    ax.grid(True)\n",
    "\n",
    "#ax1.set_ylabel('price')\n",
    "#for label in ax2.get_yticklabels():\n",
    "#    label.set_visible(False)\n",
    "\n",
    "#fig.suptitle('Google (GOOG) daily closing price')\n",
    "#fig.autofmt_xdate()\n",
    "ax1.legend()\n",
    "ax2.legend()\n",
    "plt.show()"
   ]
  },
  {
   "cell_type": "code",
   "execution_count": 104,
   "id": "5ba5aac6",
   "metadata": {},
   "outputs": [],
   "source": [
    "DPI = 600\n",
    "FORMAT = 'pdf'\n",
    "LINE_SEGMENTS = 10\n",
    "ARROW_SCALE = 40\n",
    "ARROW_WIDTH = 6e-3\n",
    "LINE_WIDTH = 1\n",
    "EXPERIMENT_DIR = './'\n",
    "def get_args():\n",
    "    return {'input_dim': 2,\n",
    "         'learn_rate': 1e-3,\n",
    "         'nonlinearity': 'tanh',\n",
    "         'name': 'pend',\n",
    "         'gridsize': 10,\n",
    "         'seed': 0,\n",
    "         'save_dir': './{}'.format(EXPERIMENT_DIR),\n",
    "         'fig_dir': './figures',\n",
    "         'num_points': 5,\n",
    "         'gpu': 0,\n",
    "         'solver': 'dopri5',\n",
    "         'rad': False,\n",
    "         'gym': False}\n",
    "\n",
    "class ObjectView(object):\n",
    "    def __init__(self, d): self.__dict__ = d\n",
    "\n",
    "args = ObjectView(get_args())"
   ]
  },
  {
   "cell_type": "code",
   "execution_count": 133,
   "id": "4985b00d",
   "metadata": {},
   "outputs": [],
   "source": [
    "us = [0.0]\n",
    "data = get_dataset(seed=args.seed, timesteps=40,\n",
    "            save_dir=args.save_dir, us=us, samples=3) #us=np.linspace(-2.0, 2.0, 20)\n",
    "\n",
    "pred_x, pred_t_eval = data['x'], data['t']"
   ]
  },
  {
   "cell_type": "code",
   "execution_count": 137,
   "id": "a6212099",
   "metadata": {},
   "outputs": [
    {
     "data": {
      "text/plain": [
       "(1, 40, 1, 3)"
      ]
     },
     "execution_count": 137,
     "metadata": {},
     "output_type": "execute_result"
    }
   ],
   "source": [
    "pred_x.shape"
   ]
  },
  {
   "cell_type": "code",
   "execution_count": 134,
   "id": "66829f8f",
   "metadata": {
    "scrolled": false
   },
   "outputs": [
    {
     "name": "stdout",
     "output_type": "stream",
     "text": [
      "<class 'dict'>\n",
      "(1, 40, 1, 3)\n",
      "(1, 40, 2, 3)\n",
      "(40,)\n"
     ]
    }
   ],
   "source": [
    "print(type(data))\n",
    "print(data['x'].shape)\n",
    "print(data['test_x'].shape)\n",
    "print(data['t'].shape)"
   ]
  },
  {
   "cell_type": "code",
   "execution_count": 109,
   "id": "157de822",
   "metadata": {},
   "outputs": [
    {
     "data": {
      "text/plain": [
       "dict"
      ]
     },
     "execution_count": 109,
     "metadata": {},
     "output_type": "execute_result"
    }
   ],
   "source": [
    "type(data)"
   ]
  },
  {
   "cell_type": "code",
   "execution_count": 112,
   "id": "a5dc293d",
   "metadata": {},
   "outputs": [
    {
     "data": {
      "text/plain": [
       "array([0.05, 0.1 , 0.15, 0.2 , 0.25, 0.3 , 0.35, 0.4 , 0.45, 0.5 , 0.55,\n",
       "       0.6 , 0.65, 0.7 , 0.75, 0.8 , 0.85, 0.9 , 0.95, 1.  , 1.05, 1.1 ,\n",
       "       1.15, 1.2 , 1.25, 1.3 , 1.35, 1.4 , 1.45, 1.5 , 1.55, 1.6 , 1.65,\n",
       "       1.7 , 1.75, 1.8 , 1.85, 1.9 , 1.95, 2.  ])"
      ]
     },
     "execution_count": 112,
     "metadata": {},
     "output_type": "execute_result"
    }
   ],
   "source": [
    "pred_t_eval"
   ]
  },
  {
   "cell_type": "code",
   "execution_count": 135,
   "id": "fe0ded43",
   "metadata": {},
   "outputs": [
    {
     "data": {
      "text/plain": [
       "(1, 40, 1, 3)"
      ]
     },
     "execution_count": 135,
     "metadata": {},
     "output_type": "execute_result"
    }
   ],
   "source": [
    "pred_x.shape"
   ]
  },
  {
   "cell_type": "code",
   "execution_count": 136,
   "id": "2bcd6b93",
   "metadata": {
    "scrolled": true
   },
   "outputs": [
    {
     "data": {
      "text/plain": [
       "array([[[[ 2.03085276,  3.59890832,  0.        ]],\n",
       "\n",
       "        [[ 2.55573522,  3.41389476,  0.        ]],\n",
       "\n",
       "        [[ 3.06028331,  3.3331398 ,  0.        ]],\n",
       "\n",
       "        [[ 3.56183891,  3.374736  ,  0.        ]],\n",
       "\n",
       "        [[ 4.07841039,  3.52953553,  0.        ]],\n",
       "\n",
       "        [[ 4.62454564,  3.7602791 ,  0.        ]],\n",
       "\n",
       "        [[ 5.20706507,  4.00182612,  0.        ]],\n",
       "\n",
       "        [[ 5.8215669 ,  4.17331676,  0.        ]],\n",
       "\n",
       "        [[ 6.45219278,  4.209273  ,  0.        ]],\n",
       "\n",
       "        [[ 7.07673453,  4.09510286,  0.        ]],\n",
       "\n",
       "        [[ 7.67542513,  3.87610117,  0.        ]],\n",
       "\n",
       "        [[ 8.23825846,  3.63077224,  0.        ]],\n",
       "\n",
       "        [[ 8.7671416 ,  3.43424141,  0.        ]],\n",
       "\n",
       "        [[ 9.27355323,  3.33719197,  0.        ]],\n",
       "\n",
       "        [[ 9.77441744,  3.36161918,  0.        ]],\n",
       "\n",
       "        [[10.28789175,  3.5021743 ,  0.        ]],\n",
       "\n",
       "        [[10.82926411,  3.72563162,  0.        ]],\n",
       "\n",
       "        [[11.40668341,  3.97042248,  0.        ]],\n",
       "\n",
       "        [[12.01743592,  4.15641163,  0.        ]],\n",
       "\n",
       "        [[12.64708411,  4.21362387,  0.        ]],\n",
       "\n",
       "        [[13.27381641,  4.11892712,  0.        ]],\n",
       "\n",
       "        [[13.87699359,  3.91019622,  0.        ]],\n",
       "\n",
       "        [[14.44498546,  3.66363241,  0.        ]],\n",
       "\n",
       "        [[14.97810045,  3.45657623,  0.        ]],\n",
       "\n",
       "        [[15.48671468,  3.34365913,  0.        ]],\n",
       "\n",
       "        [[15.98724747,  3.35081506,  0.        ]],\n",
       "\n",
       "        [[16.49793012,  3.47647943,  0.        ]],\n",
       "\n",
       "        [[17.03470487,  3.69143307,  0.        ]],\n",
       "\n",
       "        [[17.60697252,  3.93785155,  0.        ]],\n",
       "\n",
       "        [[18.21368628,  4.13690627,  0.        ]],\n",
       "\n",
       "        [[18.84191683,  4.2148989 ,  0.        ]],\n",
       "\n",
       "        [[19.47042317,  4.14045598,  0.        ]],\n",
       "\n",
       "        [[20.07785447,  3.94355273,  0.        ]],\n",
       "\n",
       "        [[20.65101492,  3.69730523,  0.        ]],\n",
       "\n",
       "        [[21.18857204,  3.48079768,  0.        ]],\n",
       "\n",
       "        [[21.69971584,  3.35251595,  0.        ]],\n",
       "\n",
       "        [[22.20027925,  3.3423693 ,  0.        ]],\n",
       "\n",
       "        [[22.70848868,  3.45257612,  0.        ]],\n",
       "\n",
       "        [[23.24085619,  3.65788688,  0.        ]],\n",
       "\n",
       "        [[23.80795429,  3.90434683,  0.        ]]]])"
      ]
     },
     "execution_count": 136,
     "metadata": {},
     "output_type": "execute_result"
    }
   ],
   "source": [
    "data['x']"
   ]
  },
  {
   "cell_type": "code",
   "execution_count": null,
   "id": "766584e2",
   "metadata": {},
   "outputs": [],
   "source": []
  }
 ],
 "metadata": {
  "kernelspec": {
   "display_name": "Python 3 (ipykernel)",
   "language": "python",
   "name": "python3"
  },
  "language_info": {
   "codemirror_mode": {
    "name": "ipython",
    "version": 3
   },
   "file_extension": ".py",
   "mimetype": "text/x-python",
   "name": "python",
   "nbconvert_exporter": "python",
   "pygments_lexer": "ipython3",
   "version": "3.9.7"
  }
 },
 "nbformat": 4,
 "nbformat_minor": 5
}
