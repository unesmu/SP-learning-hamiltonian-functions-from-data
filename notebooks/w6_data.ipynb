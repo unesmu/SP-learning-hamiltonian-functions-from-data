{
 "cells": [
  {
   "cell_type": "code",
   "execution_count": 46,
   "metadata": {},
   "outputs": [],
   "source": [
    "import autograd\n",
    "import autograd.numpy as np\n",
    "\n",
    "import scipy.integrate\n",
    "solve_ivp = scipy.integrate.solve_ivp\n",
    "#from utils import to_pickle, from_pickle\n",
    "#import gym\n",
    "#import myenv\n",
    "\n",
    "def hamiltonian_fn(coords):\n",
    "    q, p = np.split(coords,2)\n",
    "    # pendulum hamiltonian conosistent with openAI gym Pendulum-v0\n",
    "    H = 5*(1-np.cos(q)) + 1.5 * p**2 \n",
    "    return H\n",
    "\n",
    "def dynamics_fn(t, coords, u=0):\n",
    "    dcoords = autograd.grad(hamiltonian_fn)(coords)\n",
    "    dqdt, dpdt = np.split(dcoords,2)\n",
    "    S = np.concatenate([dpdt, -dqdt + u], axis=-1)\n",
    "    return S\n",
    "\n",
    "def get_trajectory(timesteps=20, radius=None, y0=None, noise_std=0.1, u=0.0, rad=False, **kwargs):\n",
    "    t_eval = np.linspace(1, timesteps, timesteps) * 0.05\n",
    "    t_span = [0.05, timesteps*0.05]\n",
    "\n",
    "    # get initial state\n",
    "    if rad:\n",
    "        if y0 is None:\n",
    "            y0 = np.random.rand(2)*2.-1\n",
    "        if radius is None:\n",
    "            radius = np.random.rand() + 1.3 # sample a range of radii\n",
    "        y0 = y0 / np.sqrt((y0**2).sum()) * radius ## set the appropriate radius\n",
    "    else:\n",
    "        if y0 is None:\n",
    "            y0 = np.random.rand(2) * 3 * np.pi - np.pi\n",
    "\n",
    "    spring_ivp = solve_ivp(lambda t, y: dynamics_fn(t, y, u), t_span=t_span, y0=y0, t_eval=t_eval, rtol=1e-10, **kwargs)\n",
    "    q, p = spring_ivp['y'][0], spring_ivp['y'][1]\n",
    "\n",
    "    # add noise\n",
    "    q += np.random.randn(*q.shape)*noise_std\n",
    "    p += np.random.randn(*p.shape)*noise_std\n",
    "\n",
    "    return q, p, t_eval\n",
    "\n",
    "\n",
    "def get_dataset(seed=0, samples=50, test_split=0.5, gym=False, save_dir=None, us=[0], rad=False, timesteps=20, **kwargs):\n",
    "    data = {}\n",
    "   \n",
    "    xs_force = []\n",
    "    for u in us:\n",
    "        xs = []\n",
    "        np.random.seed(seed)\n",
    "        for _ in range(samples):\n",
    "            q, p, t = get_trajectory(noise_std=0.0, u=u, rad=rad, timesteps=timesteps, **kwargs)\n",
    "            xs.append(np.stack((q, p, np.ones_like(q)*u), axis=1)) # (45, 3) last dimension is u\n",
    "        xs_force.append(np.stack(xs, axis=1)) # fit Neural ODE format (45, 50, 3)\n",
    "        \n",
    "    data['x'] = np.stack(xs_force, axis=0) # (3, 45, 50, 3)\n",
    "\n",
    "    # make a train/test split\n",
    "    split_ix = int(samples * test_split)\n",
    "    split_data = {}\n",
    "    split_data['x'], split_data['test_x'] = data['x'][:,:,:split_ix,:], data['x'][:,:,split_ix:,:]\n",
    "\n",
    "    data = split_data\n",
    "    data['t'] = t\n",
    "    \n",
    "    return data\n",
    "\n",
    "def arrange_data(x, t, num_points=2):\n",
    "    '''Arrange data to feed into neural ODE in small chunks'''\n",
    "    assert num_points>=2 and num_points<=len(t)\n",
    "    x_stack = []\n",
    "    for i in range(num_points):\n",
    "        print('i',i)\n",
    "        if i < num_points-1:\n",
    "            print(x[:, i:-num_points+i+1,:,:].shape)\n",
    "            x_stack.append(x[:, i:-num_points+i+1,:,:])\n",
    "        else:\n",
    "            x_stack.append(x[:, i:,:,:])\n",
    "    x_stack = np.stack(x_stack, axis=1)\n",
    "    print(x_stack)\n",
    "    x_stack = np.reshape(x_stack, \n",
    "                (x.shape[0], num_points, -1, x.shape[3]))\n",
    "    t_eval = t[0:num_points]\n",
    "    return x_stack, t_eval"
   ]
  },
  {
   "cell_type": "code",
   "execution_count": 37,
   "metadata": {},
   "outputs": [
    {
     "data": {
      "text/plain": [
       "(1, 20, 25, 3)"
      ]
     },
     "execution_count": 37,
     "metadata": {},
     "output_type": "execute_result"
    }
   ],
   "source": [
    "x.shape"
   ]
  },
  {
   "cell_type": "code",
   "execution_count": 4,
   "metadata": {},
   "outputs": [
    {
     "data": {
      "text/plain": [
       "(array([ 3.37446548,  3.49376999,  4.27011998,  4.63656485,  5.297462  ,\n",
       "         5.77496744,  6.16167111,  6.98998215,  7.59774587,  7.90518921,\n",
       "         8.58498537,  9.03622721,  9.36050043,  9.82759589, 10.38639233,\n",
       "        10.88314451, 11.3942269 , 11.9956593 , 12.54991904, 13.12167598]),\n",
       " array([2.84044524, 3.12848425, 3.05865623, 3.33257518, 3.52472734,\n",
       "        3.89882438, 4.03153822, 3.81593044, 3.68609135, 3.36957709,\n",
       "        3.18892415, 3.17207499, 2.8840481 , 2.95691085, 3.07338303,\n",
       "        3.36329477, 3.81314246, 3.80532995, 3.98262358, 3.77952608]),\n",
       " array([0.05, 0.1 , 0.15, 0.2 , 0.25, 0.3 , 0.35, 0.4 , 0.45, 0.5 , 0.55,\n",
       "        0.6 , 0.65, 0.7 , 0.75, 0.8 , 0.85, 0.9 , 0.95, 1.  ]))"
      ]
     },
     "execution_count": 4,
     "metadata": {},
     "output_type": "execute_result"
    }
   ],
   "source": [
    "get_trajectory(timesteps=20, radius=None, y0=None, noise_std=0.1, u=0.0, rad=False)"
   ]
  },
  {
   "cell_type": "code",
   "execution_count": 25,
   "metadata": {},
   "outputs": [],
   "source": [
    "data = get_dataset(seed=0, samples=50, test_split=0.5, gym=False, save_dir=None, us=[0], rad=False, timesteps=20)"
   ]
  },
  {
   "cell_type": "code",
   "execution_count": 26,
   "metadata": {},
   "outputs": [
    {
     "data": {
      "text/plain": [
       "{'x': array([[[[ 2.03085276,  3.59890832,  0.        ],\n",
       "          [ 2.2323853 ,  0.99212922,  0.        ],\n",
       "          [ 2.43827109,  2.2517545 ,  0.        ],\n",
       "          ...,\n",
       "          [-2.95816322,  0.62098967,  0.        ],\n",
       "          [ 1.19262907,  2.26455185,  0.        ],\n",
       "          [ 4.60466919,  3.46073407,  0.        ]],\n",
       " \n",
       "         [[ 2.55573522,  3.41389476,  0.        ],\n",
       "          [ 2.3669783 ,  0.8061779 ,  0.        ],\n",
       "          [ 2.76559342,  2.12420691,  0.        ],\n",
       "          ...,\n",
       "          [-2.86101339,  0.67827505,  0.        ],\n",
       "          [ 1.51428415,  2.02132206,  0.        ],\n",
       "          [ 5.14233842,  3.70465457,  0.        ]],\n",
       " \n",
       "         [[ 3.06028331,  3.3331398 ,  0.        ],\n",
       "          [ 2.47531553,  0.64171505,  0.        ],\n",
       "          [ 3.07922279,  2.07023536,  0.        ],\n",
       "          ...,\n",
       "          [-2.75345759,  0.76003486,  0.        ],\n",
       "          [ 1.79879153,  1.77314771,  0.        ],\n",
       "          [ 5.71318611,  3.89119528,  0.        ]],\n",
       " \n",
       "         ...,\n",
       " \n",
       "         [[11.40668341,  3.97042248,  0.        ],\n",
       "          [ 1.78997684, -1.51903207,  0.        ],\n",
       "          [ 9.11431301,  2.10683558,  0.        ],\n",
       "          ...,\n",
       "          [ 1.52949503,  1.94953112,  0.        ],\n",
       "          [ 4.13195775,  1.43858259,  0.        ],\n",
       "          [13.69172229,  3.71096248,  0.        ]],\n",
       " \n",
       "         [[12.01743592,  4.15641163,  0.        ],\n",
       "          [ 1.54358673, -1.76717723,  0.        ],\n",
       "          [ 9.42651452,  2.06867044,  0.        ],\n",
       "          ...,\n",
       "          [ 1.80324097,  1.70152427,  0.        ],\n",
       "          [ 4.36412358,  1.66129796,  0.        ],\n",
       "          [14.23040899,  3.4676632 ,  0.        ]],\n",
       " \n",
       "         [[12.6470842 ,  4.2136232 ,  0.        ],\n",
       "          [ 1.25993226, -2.01291586,  0.        ],\n",
       "          [ 9.73878108,  2.10769489,  0.        ],\n",
       "          ...,\n",
       "          [ 2.04066815,  1.46758317,  0.        ],\n",
       "          [ 4.63139232,  1.90467235,  0.        ],\n",
       "          [14.73258364,  3.23504819,  0.        ]]]]),\n",
       " 'test_x': array([[[[ 5.8767    , -0.52159915,  0.        ],\n",
       "          [-1.3203835 ,  3.318783  ,  0.        ],\n",
       "          [ 3.18740678,  4.80324349,  0.        ],\n",
       "          ...,\n",
       "          [-1.3395544 ,  2.55122708,  0.        ],\n",
       "          [-0.09826487,  0.11698517,  0.        ],\n",
       "          [ 1.9430932 , -1.64762538,  0.        ]],\n",
       " \n",
       "         [[ 5.80629697, -0.41445204,  0.        ],\n",
       "          [-0.80556301,  3.53515395,  0.        ],\n",
       "          [ 3.913108  ,  4.9001498 ,  0.        ],\n",
       "          ...,\n",
       "          [-0.93940973,  2.77711242,  0.        ],\n",
       "          [-0.07899219,  0.1391824 ,  0.        ],\n",
       "          [ 1.67800018, -1.88958356,  0.        ]],\n",
       " \n",
       "         [[ 5.75305437, -0.2935097 ,  0.        ],\n",
       "          [-0.26437745,  3.66139651,  0.        ],\n",
       "          [ 4.66384637,  5.12242795,  0.        ],\n",
       "          ...,\n",
       "          [-0.50948267,  2.94190447,  0.        ],\n",
       "          [-0.05676986,  0.15619211,  0.        ],\n",
       "          [ 1.37586008, -2.13842865,  0.        ]],\n",
       " \n",
       "         ...,\n",
       " \n",
       "         [[ 6.72191088,  0.47748247,  0.        ],\n",
       "          [ 6.89449833,  3.59415497,  0.        ],\n",
       "          [16.2209819 ,  4.84734579,  0.        ],\n",
       "          ...,\n",
       "          [ 4.30021756,  2.09987381,  0.        ],\n",
       "          [ 0.08394061, -0.13427271,  0.        ],\n",
       "          [-2.91632208, -0.82345249,  0.        ]],\n",
       " \n",
       "         [[ 6.78518938,  0.36388213,  0.        ],\n",
       "          [ 7.42042147,  3.40421094,  0.        ],\n",
       "          [16.96076395,  5.03574969,  0.        ],\n",
       "          ...,\n",
       "          [ 4.63303345,  2.34106092,  0.        ],\n",
       "          [ 0.06235775, -0.15260035,  0.        ],\n",
       "          [-3.0363976 , -0.78248285,  0.        ]],\n",
       " \n",
       "         [[ 6.83047743,  0.23832611,  0.        ],\n",
       "          [ 7.91308825,  3.16091715,  0.        ],\n",
       "          [17.73453214,  5.27903154,  0.        ],\n",
       "          ...,\n",
       "          [ 5.00285747,  2.58833439,  0.        ],\n",
       "          [ 0.03844549, -0.16523452,  0.        ],\n",
       "          [-3.15252751, -0.77074807,  0.        ]]]]),\n",
       " 't': array([0.05, 0.1 , 0.15, 0.2 , 0.25, 0.3 , 0.35, 0.4 , 0.45, 0.5 , 0.55,\n",
       "        0.6 , 0.65, 0.7 , 0.75, 0.8 , 0.85, 0.9 , 0.95, 1.  ])}"
      ]
     },
     "execution_count": 26,
     "metadata": {},
     "output_type": "execute_result"
    }
   ],
   "source": [
    "data"
   ]
  },
  {
   "cell_type": "code",
   "execution_count": 27,
   "metadata": {},
   "outputs": [
    {
     "data": {
      "text/plain": [
       "(1, 20, 25, 3)"
      ]
     },
     "execution_count": 27,
     "metadata": {},
     "output_type": "execute_result"
    }
   ],
   "source": [
    "data['x'].shape"
   ]
  },
  {
   "cell_type": "code",
   "execution_count": 36,
   "metadata": {},
   "outputs": [
    {
     "data": {
      "text/plain": [
       "500"
      ]
     },
     "execution_count": 36,
     "metadata": {},
     "output_type": "execute_result"
    }
   ],
   "source": [
    "20*25"
   ]
  },
  {
   "cell_type": "code",
   "execution_count": null,
   "metadata": {},
   "outputs": [],
   "source": []
  },
  {
   "cell_type": "code",
   "execution_count": 48,
   "metadata": {},
   "outputs": [],
   "source": [
    "x = data['x']"
   ]
  },
  {
   "cell_type": "code",
   "execution_count": 72,
   "metadata": {},
   "outputs": [],
   "source": [
    "num_points=2"
   ]
  },
  {
   "cell_type": "code",
   "execution_count": 73,
   "metadata": {},
   "outputs": [
    {
     "data": {
      "text/plain": [
       "(1, 20, 25, 3)"
      ]
     },
     "execution_count": 73,
     "metadata": {},
     "output_type": "execute_result"
    }
   ],
   "source": [
    "x.shape"
   ]
  },
  {
   "cell_type": "code",
   "execution_count": 74,
   "metadata": {},
   "outputs": [
    {
     "name": "stdout",
     "output_type": "stream",
     "text": [
      "i 0\n",
      "(1, 19, 25, 3)\n",
      "number -1\n",
      "i 1\n"
     ]
    }
   ],
   "source": [
    "assert num_points>=2 and num_points<=len(t)\n",
    "x_stack = []\n",
    "for i in range(num_points):\n",
    "    print('i',i)\n",
    "    if i < num_points-1:\n",
    "        print(x[:, i:-num_points+i+1,:,:].shape)\n",
    "        print('number',-num_points+i+1)\n",
    "        x_stack.append(x[:, i:-num_points+i+1,:,:])\n",
    "    else:\n",
    "        x_stack.append(x[:, i:,:,:])\n",
    "\n"
   ]
  },
  {
   "cell_type": "code",
   "execution_count": 58,
   "metadata": {},
   "outputs": [
    {
     "data": {
      "text/plain": [
       "(1, 19, 25, 3)"
      ]
     },
     "execution_count": 58,
     "metadata": {},
     "output_type": "execute_result"
    }
   ],
   "source": [
    "x_stack[1].shape"
   ]
  },
  {
   "cell_type": "code",
   "execution_count": 61,
   "metadata": {},
   "outputs": [
    {
     "data": {
      "text/plain": [
       "(1, 19, 25, 3)"
      ]
     },
     "execution_count": 61,
     "metadata": {},
     "output_type": "execute_result"
    }
   ],
   "source": [
    "x_stack[0].shape"
   ]
  },
  {
   "cell_type": "code",
   "execution_count": 62,
   "metadata": {},
   "outputs": [],
   "source": [
    "x_stack = np.stack(x_stack, axis=1)"
   ]
  },
  {
   "cell_type": "code",
   "execution_count": 63,
   "metadata": {},
   "outputs": [
    {
     "data": {
      "text/plain": [
       "(1, 2, 19, 25, 3)"
      ]
     },
     "execution_count": 63,
     "metadata": {},
     "output_type": "execute_result"
    }
   ],
   "source": [
    "x_stack.shape"
   ]
  },
  {
   "cell_type": "code",
   "execution_count": null,
   "metadata": {},
   "outputs": [],
   "source": [
    "\n",
    "print(x_stack)\n",
    "x_stack = np.reshape(x_stack, \n",
    "            (x.shape[0], num_points, -1, x.shape[3]))\n",
    "t_eval = t[0:num_points]"
   ]
  },
  {
   "cell_type": "code",
   "execution_count": null,
   "metadata": {},
   "outputs": [],
   "source": [
    "\n",
    "\n"
   ]
  },
  {
   "cell_type": "code",
   "execution_count": null,
   "metadata": {},
   "outputs": [],
   "source": []
  },
  {
   "cell_type": "code",
   "execution_count": null,
   "metadata": {},
   "outputs": [],
   "source": []
  },
  {
   "cell_type": "code",
   "execution_count": 29,
   "metadata": {},
   "outputs": [],
   "source": [
    "t = data['t']"
   ]
  },
  {
   "cell_type": "code",
   "execution_count": 30,
   "metadata": {},
   "outputs": [
    {
     "data": {
      "text/plain": [
       "array([[[[ 2.03085276,  3.59890832,  0.        ],\n",
       "         [ 2.2323853 ,  0.99212922,  0.        ],\n",
       "         [ 2.43827109,  2.2517545 ,  0.        ],\n",
       "         ...,\n",
       "         [-2.95816322,  0.62098967,  0.        ],\n",
       "         [ 1.19262907,  2.26455185,  0.        ],\n",
       "         [ 4.60466919,  3.46073407,  0.        ]],\n",
       "\n",
       "        [[ 2.55573522,  3.41389476,  0.        ],\n",
       "         [ 2.3669783 ,  0.8061779 ,  0.        ],\n",
       "         [ 2.76559342,  2.12420691,  0.        ],\n",
       "         ...,\n",
       "         [-2.86101339,  0.67827505,  0.        ],\n",
       "         [ 1.51428415,  2.02132206,  0.        ],\n",
       "         [ 5.14233842,  3.70465457,  0.        ]],\n",
       "\n",
       "        [[ 3.06028331,  3.3331398 ,  0.        ],\n",
       "         [ 2.47531553,  0.64171505,  0.        ],\n",
       "         [ 3.07922279,  2.07023536,  0.        ],\n",
       "         ...,\n",
       "         [-2.75345759,  0.76003486,  0.        ],\n",
       "         [ 1.79879153,  1.77314771,  0.        ],\n",
       "         [ 5.71318611,  3.89119528,  0.        ]],\n",
       "\n",
       "        ...,\n",
       "\n",
       "        [[11.40668341,  3.97042248,  0.        ],\n",
       "         [ 1.78997684, -1.51903207,  0.        ],\n",
       "         [ 9.11431301,  2.10683558,  0.        ],\n",
       "         ...,\n",
       "         [ 1.52949503,  1.94953112,  0.        ],\n",
       "         [ 4.13195775,  1.43858259,  0.        ],\n",
       "         [13.69172229,  3.71096248,  0.        ]],\n",
       "\n",
       "        [[12.01743592,  4.15641163,  0.        ],\n",
       "         [ 1.54358673, -1.76717723,  0.        ],\n",
       "         [ 9.42651452,  2.06867044,  0.        ],\n",
       "         ...,\n",
       "         [ 1.80324097,  1.70152427,  0.        ],\n",
       "         [ 4.36412358,  1.66129796,  0.        ],\n",
       "         [14.23040899,  3.4676632 ,  0.        ]],\n",
       "\n",
       "        [[12.6470842 ,  4.2136232 ,  0.        ],\n",
       "         [ 1.25993226, -2.01291586,  0.        ],\n",
       "         [ 9.73878108,  2.10769489,  0.        ],\n",
       "         ...,\n",
       "         [ 2.04066815,  1.46758317,  0.        ],\n",
       "         [ 4.63139232,  1.90467235,  0.        ],\n",
       "         [14.73258364,  3.23504819,  0.        ]]]])"
      ]
     },
     "execution_count": 30,
     "metadata": {},
     "output_type": "execute_result"
    }
   ],
   "source": [
    "x"
   ]
  },
  {
   "cell_type": "code",
   "execution_count": 47,
   "metadata": {},
   "outputs": [
    {
     "name": "stdout",
     "output_type": "stream",
     "text": [
      "i 0\n",
      "(1, 19, 25, 3)\n",
      "i 1\n"
     ]
    }
   ],
   "source": [
    "x_arranged = arrange_data(x, t, num_points=2)"
   ]
  },
  {
   "cell_type": "code",
   "execution_count": 41,
   "metadata": {},
   "outputs": [
    {
     "data": {
      "text/plain": [
       "(1, 2, 475, 3)"
      ]
     },
     "execution_count": 41,
     "metadata": {},
     "output_type": "execute_result"
    }
   ],
   "source": [
    "x_arranged[0].shape"
   ]
  },
  {
   "cell_type": "code",
   "execution_count": 45,
   "metadata": {},
   "outputs": [
    {
     "data": {
      "text/plain": [
       "array([[[2.40316551, 4.69085451, 0.        ],\n",
       "        [3.09782728, 4.59772455, 0.        ]]])"
      ]
     },
     "execution_count": 45,
     "metadata": {},
     "output_type": "execute_result"
    }
   ],
   "source": [
    "x_arranged[0][:,:,4,:]"
   ]
  },
  {
   "cell_type": "code",
   "execution_count": 33,
   "metadata": {},
   "outputs": [
    {
     "data": {
      "text/plain": [
       "array([0.05, 0.1 ])"
      ]
     },
     "execution_count": 33,
     "metadata": {},
     "output_type": "execute_result"
    }
   ],
   "source": [
    "x_arranged[1]"
   ]
  },
  {
   "cell_type": "code",
   "execution_count": 34,
   "metadata": {},
   "outputs": [
    {
     "data": {
      "text/plain": [
       "(2,)"
      ]
     },
     "execution_count": 34,
     "metadata": {},
     "output_type": "execute_result"
    }
   ],
   "source": [
    "x_arranged[1].shape"
   ]
  },
  {
   "cell_type": "code",
   "execution_count": 35,
   "metadata": {},
   "outputs": [
    {
     "ename": "IndexError",
     "evalue": "tuple index out of range",
     "output_type": "error",
     "traceback": [
      "\u001b[1;31m---------------------------------------------------------------------------\u001b[0m",
      "\u001b[1;31mIndexError\u001b[0m                                Traceback (most recent call last)",
      "\u001b[1;32m~\\AppData\\Local\\Temp/ipykernel_12612/1596333713.py\u001b[0m in \u001b[0;36m<module>\u001b[1;34m\u001b[0m\n\u001b[1;32m----> 1\u001b[1;33m \u001b[0mx_arranged\u001b[0m\u001b[1;33m[\u001b[0m\u001b[1;36m2\u001b[0m\u001b[1;33m]\u001b[0m\u001b[1;33m.\u001b[0m\u001b[0mshape\u001b[0m\u001b[1;33m\u001b[0m\u001b[1;33m\u001b[0m\u001b[0m\n\u001b[0m",
      "\u001b[1;31mIndexError\u001b[0m: tuple index out of range"
     ]
    }
   ],
   "source": [
    "x_arranged[2].shape"
   ]
  },
  {
   "cell_type": "code",
   "execution_count": null,
   "metadata": {},
   "outputs": [],
   "source": []
  },
  {
   "cell_type": "code",
   "execution_count": 1,
   "metadata": {},
   "outputs": [],
   "source": [
    "import torch"
   ]
  },
  {
   "cell_type": "code",
   "execution_count": 6,
   "metadata": {},
   "outputs": [
    {
     "data": {
      "text/plain": [
       "tensor([2, 3])"
      ]
     },
     "execution_count": 6,
     "metadata": {},
     "output_type": "execute_result"
    }
   ],
   "source": [
    "a = torch.tensor([1,2,3,4])\n",
    "a[[1,2]]"
   ]
  },
  {
   "cell_type": "code",
   "execution_count": null,
   "metadata": {},
   "outputs": [],
   "source": []
  }
 ],
 "metadata": {
  "interpreter": {
   "hash": "9b445bcb39e9dd51f23f7ff253fad11642fa91291e843858fdaa1297644c5a99"
  },
  "kernelspec": {
   "display_name": "Python 3.9.7 ('pds')",
   "language": "python",
   "name": "python3"
  },
  "language_info": {
   "codemirror_mode": {
    "name": "ipython",
    "version": 3
   },
   "file_extension": ".py",
   "mimetype": "text/x-python",
   "name": "python",
   "nbconvert_exporter": "python",
   "pygments_lexer": "ipython3",
   "version": "3.9.7"
  },
  "orig_nbformat": 4
 },
 "nbformat": 4,
 "nbformat_minor": 2
}
