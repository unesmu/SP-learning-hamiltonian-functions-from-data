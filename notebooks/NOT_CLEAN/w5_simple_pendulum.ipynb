{
  "cells": [
    {
      "cell_type": "markdown",
      "id": "OJsZuo6FXokO",
      "metadata": {
        "id": "OJsZuo6FXokO"
      },
      "source": [
        "The code in this notebook has been adapted from the work of Zhongy et al. and Greydanus et al. \n",
        "\n",
        "Their code is available in the following repositories :[\n",
        "Symplectic-ODENet](https://github.com/Physics-aware-AI/Symplectic-ODENet) and [hamiltonian-nn](https://github.com/greydanus/hamiltonian-nn)"
      ]
    },
    {
      "cell_type": "markdown",
      "id": "hu0zDatu8VRn",
      "metadata": {
        "id": "hu0zDatu8VRn"
      },
      "source": [
        "## Colab"
      ]
    },
    {
      "cell_type": "code",
      "execution_count": null,
      "id": "pNOJTZEGOGHL",
      "metadata": {
        "id": "pNOJTZEGOGHL"
      },
      "outputs": [],
      "source": [
        "# Mount your google drive (currently not required)\n",
        "# from google.colab import drive\n",
        "# drive.mount('/content/drive')"
      ]
    },
    {
      "cell_type": "markdown",
      "id": "e1d-V5l68RQ2",
      "metadata": {
        "id": "e1d-V5l68RQ2"
      },
      "source": [
        "## Imports"
      ]
    },
    {
      "cell_type": "code",
      "execution_count": null,
      "id": "EVN7VdBynNDB",
      "metadata": {
        "colab": {
          "base_uri": "https://localhost:8080/"
        },
        "id": "EVN7VdBynNDB",
        "outputId": "994d4cc8-2aca-4d99-c168-1589de3cd3ca"
      },
      "outputs": [
        {
          "name": "stdout",
          "output_type": "stream",
          "text": [
            "Requirement already satisfied: torchdiffeq in /usr/local/lib/python3.7/dist-packages (0.2.2)\n",
            "Requirement already satisfied: scipy>=1.4.0 in /usr/local/lib/python3.7/dist-packages (from torchdiffeq) (1.4.1)\n",
            "Requirement already satisfied: torch>=1.3.0 in /usr/local/lib/python3.7/dist-packages (from torchdiffeq) (1.10.0+cu111)\n",
            "Requirement already satisfied: numpy>=1.13.3 in /usr/local/lib/python3.7/dist-packages (from scipy>=1.4.0->torchdiffeq) (1.21.5)\n",
            "Requirement already satisfied: typing-extensions in /usr/local/lib/python3.7/dist-packages (from torch>=1.3.0->torchdiffeq) (3.10.0.2)\n"
          ]
        }
      ],
      "source": [
        "!pip install torchdiffeq"
      ]
    },
    {
      "cell_type": "code",
      "execution_count": 2,
      "id": "329d7221",
      "metadata": {
        "id": "329d7221"
      },
      "outputs": [],
      "source": [
        "# import autograd\n",
        "# import autograd.numpy as np\n",
        "\n",
        "import scipy.integrate\n",
        "solve_ivp = scipy.integrate.solve_ivp\n",
        "\n",
        "import matplotlib.pyplot as plt\n",
        "# import pandas as pd\n",
        "# import numpy as np\n",
        "# from sklearn.model_selection import train_test_split\n",
        "\n",
        "from torch.utils.data import Dataset, DataLoader,random_split\n",
        "import torch\n",
        "\n",
        "from torchdiffeq import odeint_adjoint as odeint_adjoint # func needs to be nn.Module for odeint_adjoint to work\n",
        "from torchdiffeq import odeint as odeint\n",
        "\n",
        "import time as time"
      ]
    },
    {
      "cell_type": "code",
      "execution_count": 3,
      "id": "dnOJ60QMy2ZQ",
      "metadata": {
        "colab": {
          "base_uri": "https://localhost:8080/"
        },
        "id": "dnOJ60QMy2ZQ",
        "outputId": "8ce29dcb-43d9-4a95-e723-1309916e52c2"
      },
      "outputs": [
        {
          "name": "stdout",
          "output_type": "stream",
          "text": [
            "cpu\n"
          ]
        }
      ],
      "source": [
        "# set device to GPU if available otherwise use CPU\n",
        "def set_device():\n",
        "    device = torch.device(\"cuda\" if torch.cuda.is_available() else \"cpu\")\n",
        "    if device.type == 'cuda':\n",
        "        # if there is a GPU\n",
        "        print (f'Device Availble: {torch.cuda.get_device_name(0)}') \n",
        "    else :\n",
        "        print(device)\n",
        "    return device\n",
        "    \n",
        "device = set_device()"
      ]
    },
    {
      "cell_type": "markdown",
      "id": "CICVLdPuNpqH",
      "metadata": {
        "id": "CICVLdPuNpqH"
      },
      "source": [
        "## Data Generation\n",
        "\n",
        "Similar to https://github.com/Physics-aware-AI/Symplectic-ODENet/blob/master/experiment-single-force/data.py"
      ]
    },
    {
      "cell_type": "markdown",
      "id": "pwi0PMpK0_4v",
      "metadata": {
        "id": "pwi0PMpK0_4v"
      },
      "source": [
        "### Plots"
      ]
    },
    {
      "cell_type": "code",
      "execution_count": 4,
      "id": "e7521761",
      "metadata": {
        "id": "e7521761"
      },
      "outputs": [],
      "source": [
        "def plot_traj_pend(t_eval, q, p, energy=torch.tensor(False), coord_type = 'hamiltonian'):\n",
        "    '''\n",
        "    This function plots the generalised variable q p in function of the evaluation \n",
        "    time\n",
        "    Inputs:\n",
        "      t_eval ()\n",
        "      q ()\n",
        "      p ()\n",
        "    Outputs:\n",
        "      None\n",
        "    '''\n",
        "    if torch.any(energy):\n",
        "        fig, (ax1, ax2, ax3) = plt.subplots(1, 3,figsize=(12, 4),constrained_layout=True)#, sharex=True)# , sharey=True)\n",
        "        ax3.plot(t_eval, energy, label='energy')\n",
        "\n",
        "        #ax1.legend()\n",
        "        ax3.set_title('Energy', fontsize=10)\n",
        "        ax3.set_xlabel('time (s)')\n",
        "        ax3.set_ylabel('E')\n",
        "        ax3.set_ylim((0,torch.max(energy)*1.1))\n",
        "    else:\n",
        "        fig, (ax1, ax2) = plt.subplots(1, 2, figsize=(8, 4),constrained_layout=True, sharex=True)# , sharey=True)\n",
        "\n",
        "\n",
        "    ax1.plot(t_eval, q, label='q')\n",
        "    ax2.plot(t_eval, p, label='p')\n",
        "\n",
        "    #ax1.legend()\n",
        "    ax1.set_title('generalized position (q)', fontsize=10)\n",
        "    ax1.set_xlabel('time (s)')\n",
        "    ax1.set_ylabel('q')\n",
        "\n",
        "    #ax2.legend()\n",
        "    ax2.set_title('generalized momentum (p)', fontsize=10)\n",
        "    ax2.set_xlabel('time (s)')\n",
        "    ax2.set_ylabel('p')\n",
        "\n",
        "    fig.suptitle('Trajectory of the generalized coordinates', fontsize=12)\n",
        "    \n",
        "\n",
        "    if coord_type == 'newtonian':\n",
        "        ax2.set_title(r'$\\dot{q}[rad/s]$', fontsize=10)\n",
        "        ax2.set_ylabel(r'$\\dot{q}[rad/s]$')\n",
        "\n",
        "    plt.show()\n",
        "    return"
      ]
    },
    {
      "cell_type": "markdown",
      "id": "IX-N9uPs8iWd",
      "metadata": {
        "id": "IX-N9uPs8iWd"
      },
      "source": [
        "### Dynamics"
      ]
    },
    {
      "cell_type": "code",
      "execution_count": 5,
      "id": "Cdr-s4tsHO67",
      "metadata": {
        "id": "Cdr-s4tsHO67"
      },
      "outputs": [],
      "source": [
        "def pendulum_H(q, p, m = 1, g = 9.81, l = 1):\n",
        "    H = (1/(2*m*(l**2)))*p**2 + m*g*l*(1-torch.cos(q))  \n",
        "    return H\n",
        "\n",
        "def hamiltonian_fn_pend(coords):\n",
        "    \n",
        "    q, p = torch.split(coords,1)\n",
        "    H = pendulum_H(q,p)\n",
        "    return H\n",
        "\n",
        "def coord_derivative_pend(coords, u=0, C=0.0):\n",
        "\n",
        "    if coords.requires_grad is not True:\n",
        "      coords.requires_grad=True\n",
        "    H = hamiltonian_fn_pend(coords)\n",
        "\n",
        "    # derivaties of the hamiltornian function wrt the generalized coordinates\n",
        "    dcoords = torch.autograd.grad(H, coords, create_graph=True)\n",
        "    \n",
        "    dHdq, dHdp = torch.split(dcoords[0],1)\n",
        "    \n",
        "    dqdt = dHdp\n",
        "    dpdt = -dHdq - C*dHdp\n",
        "\n",
        "    return dqdt, dpdt\n",
        "\n",
        "def dynamics_fn_pend(t, coords, u=0, C=0.0):\n",
        "\n",
        "    dqdt, dpdt = coord_derivative_pend(coords, u, C)\n",
        "    # symplectic gradient\n",
        "    S = torch.hstack((dqdt, dpdt)) \n",
        "    return S "
      ]
    },
    {
      "cell_type": "markdown",
      "id": "ZMxyuViS9G6M",
      "metadata": {
        "id": "ZMxyuViS9G6M"
      },
      "source": [
        "### Trajectory and energy"
      ]
    },
    {
      "cell_type": "code",
      "execution_count": 6,
      "id": "oTiV8i0N0wuu",
      "metadata": {
        "id": "oTiV8i0N0wuu"
      },
      "outputs": [],
      "source": [
        "def get_trajectory_pend(timesteps=20, radius=None, y0=None, noise_std=0.0, \n",
        "                   u=0.0, rad=False, C=0.0):\n",
        "    '''\n",
        "    From the SymODEN repository\n",
        "    '''\n",
        "\n",
        "    Ts = 0.05 # sampling time \n",
        "    t_eval = torch.linspace(1, timesteps, timesteps) * Ts # evaluated times vector\n",
        "    t_span = [Ts, timesteps*Ts] # [t_start, t_end]\n",
        "\n",
        "    # get initial state\n",
        "    if y0 is None:\n",
        "        y0 = torch.rand(2)*4.-2 # uniform law [-2,2]\n",
        "        y0[1]=0\n",
        "\n",
        "    q_p = odeint(func = lambda t, coords : dynamics_fn_pend(t, coords, u, C) , y0 = y0, t = t_eval, method = 'rk4', options=dict(step_size=Ts)) \n",
        "\n",
        "    q, p = torch.chunk(q_p,2,1) \n",
        "\n",
        "    # add noise \n",
        "    q = q+torch.randn(q.shape)*noise_std \n",
        "    p = p+torch.randn(p.shape)*noise_std \n",
        "\n",
        "    return q.detach(), p.detach(), t_eval.detach()"
      ]
    },
    {
      "cell_type": "code",
      "execution_count": 7,
      "id": "N9PzigEQ1epL",
      "metadata": {
        "id": "N9PzigEQ1epL"
      },
      "outputs": [],
      "source": [
        "def energy_pendulum(theta_dot, theta, m = 1, g = 9.81, l = 1):\n",
        "    '''\n",
        "    This function calculates the energy of the simple pendulum in function of \n",
        "    the angle theta and it's derivative\n",
        "    Inputs :\n",
        "        - theta_dot : \n",
        "        - theta : \n",
        "        - m : pendulum mass \n",
        "        - g : \n",
        "        - l : length of arm\n",
        "    Outputs:\n",
        "        - E () : Energy of the system\n",
        "    '''\n",
        "    E = (1/2)*m*(l**2)*theta_dot**2 + m*g*l*(1-torch.cos(theta))\n",
        "    return E"
      ]
    },
    {
      "cell_type": "code",
      "execution_count": 8,
      "id": "MgtdMuFj1eng",
      "metadata": {
        "id": "MgtdMuFj1eng"
      },
      "outputs": [],
      "source": [
        "def get_energy_pendulum(q,p, u=0, C=0.0):\n",
        "\n",
        "    energy = []\n",
        "    derivatives = []\n",
        "    for coords in torch.stack((q, p),dim=1):\n",
        "\n",
        "      dqdt, dpdt = coord_derivative_pend(coords, u, C)\n",
        "\n",
        "      theta_dot = dqdt\n",
        "      theta = coords[0]\n",
        "\n",
        "      energy.append(energy_pendulum(theta_dot, theta, m = 1, g = 9.81, l = 1))\n",
        "      derivatives.append(torch.hstack((dqdt, dpdt)))\n",
        "\n",
        "    energy = torch.cat(energy, axis=0 ).detach()\n",
        "    derivatives = torch.vstack(derivatives).detach()\n",
        "    return energy, derivatives"
      ]
    },
    {
      "cell_type": "code",
      "execution_count": 9,
      "id": "Je3PAPoL0wpv",
      "metadata": {
        "id": "Je3PAPoL0wpv"
      },
      "outputs": [],
      "source": [
        "q, p, t_eval = get_trajectory_pend(timesteps=300, radius=None, y0=None, noise_std=0.01, \n",
        "                   u=0, rad=False, C=0.5)\n",
        "\n",
        "energy, derivatives = get_energy_pendulum(q,p, u=0, C=0.5)"
      ]
    },
    {
      "cell_type": "code",
      "execution_count": 10,
      "id": "gvUc_jIU0y7B",
      "metadata": {
        "colab": {
          "base_uri": "https://localhost:8080/",
          "height": 313
        },
        "id": "gvUc_jIU0y7B",
        "outputId": "515e62ee-d697-47dd-9c7d-a07d081c8bd3"
      },
      "outputs": [
        {
          "data": {
            "image/png": "[encoded data removed]",
            "text/plain": [
              "<Figure size 864x288 with 3 Axes>"
            ]
          },
          "metadata": {
            "needs_background": "light"
          },
          "output_type": "display_data"
        }
      ],
      "source": [
        "plot_traj_pend(t_eval, q, p, energy) # sanity check "
      ]
    },
    {
      "cell_type": "markdown",
      "id": "rJiGZXGq8liE",
      "metadata": {
        "id": "rJiGZXGq8liE"
      },
      "source": [
        "### Multiple trajectories"
      ]
    },
    {
      "cell_type": "code",
      "execution_count": 11,
      "id": "7a5M4FY70y5I",
      "metadata": {
        "id": "7a5M4FY70y5I"
      },
      "outputs": [],
      "source": [
        "def multiple_trajectories(time_steps, num_trajectories, noise_std=0.0, C=0.0, u=0.0, coord_type = 'hamiltonian'):\n",
        "    '''\n",
        "    \n",
        "    '''\n",
        "    # the first trajectory\n",
        "    q, p, t_eval = get_trajectory_pend(timesteps=time_steps, radius=None, y0=None, noise_std=noise_std, u=u, rad=True, C=C)\n",
        "    energy, derivatives = get_energy_pendulum(q,p, u, C)\n",
        "    energy = energy.squeeze()\n",
        "    q = q.squeeze()\n",
        "    if coord_type == 'hamiltonian':\n",
        "        p = p.squeeze()\n",
        "    if coord_type == 'newtonian':\n",
        "        p = derivatives[:,0].squeeze()\n",
        "        \n",
        "    derivatives = derivatives.unsqueeze(dim=0)\n",
        "\n",
        "    for _ in range(num_trajectories-1):\n",
        "        # the trajectories 2 to num_trajectories\n",
        "        q_n, p_n, t_eval_n = get_trajectory_pend(timesteps=time_steps, radius=None, y0=None, noise_std=noise_std, u=u, rad=True, C=C)\n",
        "        energy_n, derivatives_n = get_energy_pendulum(q_n,p_n, u, C)\n",
        "\n",
        "        energy = torch.vstack((energy, energy_n.squeeze()))\n",
        "        q = torch.vstack((q, q_n.squeeze()))\n",
        "        \n",
        "\n",
        "        if coord_type == 'hamiltonian':\n",
        "            p = torch.vstack((p, p_n.squeeze()))\n",
        "            p = p.squeeze()\n",
        "        if coord_type == 'newtonian':\n",
        "            p = torch.vstack((p, derivatives_n[:,0].squeeze()))\n",
        "        \n",
        "        derivatives  = torch.vstack((derivatives, derivatives_n.unsqueeze(dim=0)))\n",
        "\n",
        "    if num_trajectories == 1 :\n",
        "        # so that the vectors will have the correct dimensions if only 1\n",
        "        # trajectory is requested\n",
        "        q = q.unsqueeze(dim=0) \n",
        "        p = p.unsqueeze(dim=0) \n",
        "        energy = energy.unsqueeze(dim=0) \n",
        "    return q.t(), p.t(), t_eval, energy.t(), torch.permute(derivatives, (1,0,2)) #"
      ]
    },
    {
      "cell_type": "code",
      "execution_count": 12,
      "id": "6DjeCUuN0y1w",
      "metadata": {
        "id": "6DjeCUuN0y1w"
      },
      "outputs": [],
      "source": [
        "q, p, t_eval, energy, derivatives = multiple_trajectories(200, 10, noise_std=0.01, C=0.5, coord_type = 'hamiltonian')"
      ]
    },
    {
      "cell_type": "code",
      "execution_count": 13,
      "id": "x3bR0ub_0yw4",
      "metadata": {
        "colab": {
          "base_uri": "https://localhost:8080/"
        },
        "id": "x3bR0ub_0yw4",
        "outputId": "a2f7acbc-d7ca-4b16-c40d-730d1eb1f460"
      },
      "outputs": [
        {
          "name": "stdout",
          "output_type": "stream",
          "text": [
            "torch.Size([200, 10])\n",
            "torch.Size([200, 10])\n",
            "torch.Size([200])\n",
            "torch.Size([200, 10])\n",
            "torch.Size([200, 10, 2])\n"
          ]
        }
      ],
      "source": [
        "shapes = [print(i.shape) for i in [q, p, t_eval, energy, derivatives]]"
      ]
    },
    {
      "cell_type": "code",
      "execution_count": 14,
      "id": "DnnJ1AWMM4zu",
      "metadata": {
        "colab": {
          "base_uri": "https://localhost:8080/",
          "height": 313
        },
        "id": "DnnJ1AWMM4zu",
        "outputId": "70b04189-77e3-4e9e-8c0c-39668f997e41"
      },
      "outputs": [
        {
          "data": {
            "image/png": "[encoded data removed]",
            "text/plain": [
              "<Figure size 864x288 with 3 Axes>"
            ]
          },
          "metadata": {
            "needs_background": "light"
          },
          "output_type": "display_data"
        }
      ],
      "source": [
        "plot_traj_pend(t_eval, q[:,0], derivatives[:,0,0], energy[:,0], coord_type = 'newtonian') # sanity check \n",
        "#( will be same as hamiltonian because here m=1 and l=1 )"
      ]
    },
    {
      "cell_type": "code",
      "execution_count": 15,
      "id": "WT5FOE2CMoVY",
      "metadata": {
        "colab": {
          "base_uri": "https://localhost:8080/",
          "height": 313
        },
        "id": "WT5FOE2CMoVY",
        "outputId": "90e983b1-1633-40b1-d3d9-b2c836949e4a"
      },
      "outputs": [
        {
          "data": {
            "image/png": "[encoded data removed]",
            "text/plain": [
              "<Figure size 864x288 with 3 Axes>"
            ]
          },
          "metadata": {
            "needs_background": "light"
          },
          "output_type": "display_data"
        }
      ],
      "source": [
        "plot_traj_pend(t_eval, q[:,0], p[:,0], energy[:,0], coord_type = 'hamiltonian') # sanity check "
      ]
    },
    {
      "cell_type": "markdown",
      "id": "TADFjOfK7k5l",
      "metadata": {
        "id": "TADFjOfK7k5l"
      },
      "source": [
        "### Dataset & Dataloader"
      ]
    },
    {
      "cell_type": "code",
      "execution_count": 16,
      "id": "ySFNNRHAw7U1",
      "metadata": {
        "id": "ySFNNRHAw7U1"
      },
      "outputs": [],
      "source": [
        "class TrajectoryDataset(Dataset):\n",
        "    '''\n",
        "    \n",
        "    '''\n",
        "    def __init__(self, q, p, t_eval):\n",
        "        self.q = q\n",
        "        self.p = p\n",
        "        self.t_eval = t_eval\n",
        "\n",
        "    def __len__(self):\n",
        "        return self.q.shape[1]\n",
        "\n",
        "    def __getitem__(self, idx):\n",
        "        q = self.q[:,idx]\n",
        "        p = self.p[:,idx]\n",
        "        t_eval = self.t_eval#[idx].squeeze()\n",
        "        x = torch.stack((q,p),dim=1)#.t().float()\n",
        "        return x, t_eval"
      ]
    },
    {
      "cell_type": "code",
      "execution_count": 17,
      "id": "3zxzvbvlx4hi",
      "metadata": {
        "id": "3zxzvbvlx4hi"
      },
      "outputs": [],
      "source": [
        "def data_loader(q, p, t_eval, batch_size, shuffle = True, proportion = 0.5):\n",
        "    '''\n",
        "    '''\n",
        "    # split  into train and test \n",
        "    if proportion:\n",
        "\n",
        "        full_dataset = TrajectoryDataset(q, p, t_eval)\n",
        "\n",
        "        train_size = int(proportion * len(full_dataset))\n",
        "        test_size = len(full_dataset) - train_size\n",
        "\n",
        "        train, test = random_split(full_dataset, [train_size, test_size])\n",
        "\n",
        "        # q_train, q_test = train_test_split_torch(q, test_size=proportion, random_state=0)\n",
        "        # p_train, p_test = train_test_split_torch(p, test_size=proportion, random_state=0)\n",
        "\n",
        "        # test = TrajectoryDataset(q_test, p_test, t_eval)\n",
        "\n",
        "        test_loader = DataLoader(\n",
        "            test,\n",
        "            batch_size,\n",
        "            shuffle\n",
        "            )    \n",
        "    else:\n",
        "      train = TrajectoryDataset(q, p, t_eval)\n",
        "      # if proportion is set to None don't split the dataset\n",
        "      q_train = q\n",
        "      p_train = p\n",
        "      t_eval_train = t_eval\n",
        "      test_loader = None\n",
        "\n",
        "    # load the training data into a custom pyotorch dataset\n",
        "    # train = TrajectoryDataset(q_train, p_train, t_eval)\n",
        "\n",
        "    # create the dataloader object from the custom dataset\n",
        "    train_loader = DataLoader(\n",
        "        train,\n",
        "        batch_size,\n",
        "        shuffle\n",
        "        )\n",
        "       \n",
        "    return train_loader, test_loader"
      ]
    },
    {
      "cell_type": "code",
      "execution_count": 24,
      "id": "8aKCZuTxx4fJ",
      "metadata": {
        "id": "8aKCZuTxx4fJ"
      },
      "outputs": [],
      "source": [
        "q, p, t_eval,_,_= multiple_trajectories(time_steps=80, \n",
        "                                          num_trajectories=20, noise_std=0.01, C=0.5, coord_type = 'newtonian')"
      ]
    },
    {
      "cell_type": "code",
      "execution_count": 25,
      "id": "lh6R_-mX630j",
      "metadata": {
        "id": "lh6R_-mX630j"
      },
      "outputs": [],
      "source": [
        "train_loader, test_loader = data_loader(q, p, t_eval, batch_size=3, shuffle = True, proportion = 0.5)"
      ]
    },
    {
      "cell_type": "code",
      "execution_count": 26,
      "id": "-V2PDAtmKv5m",
      "metadata": {
        "colab": {
          "base_uri": "https://localhost:8080/"
        },
        "id": "-V2PDAtmKv5m",
        "outputId": "fc5fd27b-ed0c-4633-fabc-7aa58968dc02"
      },
      "outputs": [
        {
          "name": "stdout",
          "output_type": "stream",
          "text": [
            "torch.Size([3, 80, 2])\n"
          ]
        }
      ],
      "source": [
        "# sanity checks\n",
        "x_tt, t_eval_tt = next(iter(test_loader))\n",
        "print(x_tt.shape)"
      ]
    },
    {
      "cell_type": "code",
      "execution_count": 27,
      "id": "9zjczp5i1i5X",
      "metadata": {
        "colab": {
          "base_uri": "https://localhost:8080/"
        },
        "id": "9zjczp5i1i5X",
        "outputId": "517c8d0e-08d9-4bb0-d413-25392fb45268"
      },
      "outputs": [
        {
          "name": "stdout",
          "output_type": "stream",
          "text": [
            "torch.Size([3, 80, 2])\n"
          ]
        }
      ],
      "source": [
        "# sanity checks\n",
        "x_tt, t_eval_tt = next(iter(train_loader))\n",
        "print(x_tt.shape)"
      ]
    },
    {
      "cell_type": "code",
      "execution_count": 28,
      "id": "V6gNOPzOtVCQ",
      "metadata": {
        "colab": {
          "base_uri": "https://localhost:8080/"
        },
        "id": "V6gNOPzOtVCQ",
        "outputId": "1c4703e1-1e81-4164-93c5-928d5a32be69"
      },
      "outputs": [
        {
          "data": {
            "text/plain": [
              "torch.Size([3, 80])"
            ]
          },
          "execution_count": 28,
          "metadata": {},
          "output_type": "execute_result"
        }
      ],
      "source": [
        "t_eval_tt.shape"
      ]
    },
    {
      "cell_type": "code",
      "execution_count": 29,
      "id": "b0TyW4EN7t7e",
      "metadata": {
        "colab": {
          "base_uri": "https://localhost:8080/",
          "height": 313
        },
        "id": "b0TyW4EN7t7e",
        "outputId": "9d6aa583-2c8d-418a-bef1-a17c04b4042f"
      },
      "outputs": [
        {
          "data": {
            "image/png": "[encoded data removed]",
            "text/plain": [
              "<Figure size 576x288 with 2 Axes>"
            ]
          },
          "metadata": {
            "needs_background": "light"
          },
          "output_type": "display_data"
        }
      ],
      "source": [
        "plot_traj_pend(t_eval_tt[0], x_tt[0,:,0], x_tt[0,:,1], coord_type = 'newtonian')"
      ]
    },
    {
      "cell_type": "markdown",
      "id": "s7vCX1MtesU2",
      "metadata": {
        "id": "s7vCX1MtesU2"
      },
      "source": [
        "## Utils"
      ]
    },
    {
      "cell_type": "code",
      "execution_count": 30,
      "id": "AYth-VVSzX5w",
      "metadata": {
        "id": "AYth-VVSzX5w"
      },
      "outputs": [],
      "source": [
        "def count_parameters(model):\n",
        "    '''\n",
        "    from https://discuss.pytorch.org/t/how-do-i-check-the-number-of-parameters-of-a-model/4325/9\n",
        "    '''\n",
        "    return sum(p.numel() for p in model.parameters() if p.requires_grad)"
      ]
    },
    {
      "cell_type": "markdown",
      "id": "cq1_9epy9QRQ",
      "metadata": {
        "id": "cq1_9epy9QRQ"
      },
      "source": [
        "## Models"
      ]
    },
    {
      "cell_type": "markdown",
      "id": "CrihgJwhexvK",
      "metadata": {
        "id": "CrihgJwhexvK"
      },
      "source": [
        "#### Base models"
      ]
    },
    {
      "cell_type": "code",
      "execution_count": 31,
      "id": "ES1P5MXo-RfD",
      "metadata": {
        "id": "ES1P5MXo-RfD"
      },
      "outputs": [],
      "source": [
        "def choose_nonlinearity(name):\n",
        "    '''\n",
        "    From the SymODEN repository\n",
        "    '''\n",
        "    nl = None\n",
        "    if name == 'tanh':\n",
        "        nl = torch.tanh\n",
        "    elif name == 'relu':\n",
        "        nl = torch.relu\n",
        "    elif name == 'sigmoid':\n",
        "        nl = torch.sigmoid\n",
        "    elif name == 'softplus':\n",
        "        nl = torch.nn.functional.softplus\n",
        "    elif name == 'selu':\n",
        "        nl = torch.nn.functional.selu\n",
        "    elif name == 'elu':\n",
        "        nl = torch.nn.functional.elu\n",
        "    elif name == 'swish':\n",
        "        nl = lambda x: x * torch.sigmoid(x)\n",
        "    elif name == 'x+sin(x)^2':\n",
        "        nl = lambda x: x + torch.sin(x).pow(2)\n",
        "    else:\n",
        "        raise ValueError(\"nonlinearity not recognized\")\n",
        "    return nl"
      ]
    },
    {
      "cell_type": "code",
      "execution_count": 32,
      "id": "x-nZcX1viXBw",
      "metadata": {
        "id": "x-nZcX1viXBw"
      },
      "outputs": [],
      "source": [
        "class hidden_Layer(torch.nn.Module):\n",
        "    '''\n",
        "    A one layer MLP with activation function\n",
        "    '''\n",
        "    def __init__(self,hidden_dim, activation='tanh'):\n",
        "        super().__init__()\n",
        "        self.fc = torch.nn.Linear(hidden_dim,hidden_dim)\n",
        "        self.activation = choose_nonlinearity(activation)# activation function\n",
        "\n",
        "    def forward(self, x):\n",
        "        x=self.activation(self.fc(x))\n",
        "        return x"
      ]
    },
    {
      "cell_type": "code",
      "execution_count": 33,
      "id": "rPzWjIe09-zm",
      "metadata": {
        "id": "rPzWjIe09-zm"
      },
      "outputs": [],
      "source": [
        "class MLP(torch.nn.Module):\n",
        "    '''\n",
        "    MLP with number of hidden layers as a parameter\n",
        "    '''\n",
        "    def __init__(self, input_dim=2, hidden_dim=90, nb_hidden_layers=4, output_dim=1, activation='tanh'):\n",
        "        super(MLP, self).__init__()\n",
        "        self.fc1 = torch.nn.Linear(input_dim, hidden_dim)\n",
        "        self.hidden_layers = torch.nn.Sequential(\n",
        "            *(hidden_Layer(hidden_dim, activation)\n",
        "              for _ in range(nb_hidden_layers))\n",
        "        )\n",
        "        self.fc2 = torch.nn.Linear(hidden_dim, output_dim)\n",
        "        self.activation = choose_nonlinearity(activation) # activation function\n",
        "\n",
        "    def forward(self, x, separate_fields=False):\n",
        "        h = self.activation( self.fc1(x) )\n",
        "        h = self.hidden_layers(h) \n",
        "        return self.fc2(h)"
      ]
    },
    {
      "cell_type": "code",
      "execution_count": 34,
      "id": "ZfwHyhyTwTK4",
      "metadata": {
        "id": "ZfwHyhyTwTK4"
      },
      "outputs": [],
      "source": [
        "model = MLP(input_dim=2, hidden_dim=90, nb_hidden_layers=1, output_dim=1, activation='tanh')"
      ]
    },
    {
      "cell_type": "code",
      "execution_count": 35,
      "id": "ejsTf7gfwUDw",
      "metadata": {
        "colab": {
          "base_uri": "https://localhost:8080/"
        },
        "id": "ejsTf7gfwUDw",
        "outputId": "f1a0968b-2821-495b-aab1-65a3db927cdc"
      },
      "outputs": [
        {
          "data": {
            "text/plain": [
              "8551"
            ]
          },
          "execution_count": 35,
          "metadata": {},
          "output_type": "execute_result"
        }
      ],
      "source": [
        "count_parameters(model)"
      ]
    },
    {
      "cell_type": "markdown",
      "id": "MFiiGQgm9t-_",
      "metadata": {
        "id": "MFiiGQgm9t-_"
      },
      "source": [
        "### U-ODE-HNN"
      ]
    },
    {
      "cell_type": "code",
      "execution_count": 36,
      "id": "k2urCTPk9uo-",
      "metadata": {
        "id": "k2urCTPk9uo-"
      },
      "outputs": [],
      "source": [
        "class U_ODE_HNN(torch.nn.Module):\n",
        "    '''\n",
        "    Modified version of the original SymODEN_R module\n",
        "    Equivalent of unconstrained ODE HNN from the report\n",
        "    Architecture for input (q, p, u), \n",
        "    where q and p are tensors of size (bs, n) and u is a tensor of size (bs, 1)\n",
        "    '''\n",
        "    def __init__(self, input_dim, H_net=None, M_net=None, V_net=None, g_net=None, device=None,\n",
        "                    assume_canonical_coords=True, baseline=True, structure=False):\n",
        "        super(U_ODE_HNN, self).__init__()\n",
        "        self.baseline = baseline\n",
        "        self.structure = structure\n",
        "\n",
        "        self.H_net = H_net\n",
        "        self.g_net = g_net\n",
        "\n",
        "        self.device = device\n",
        "        self.assume_canonical_coords = assume_canonical_coords\n",
        "\n",
        "        self.input_dim = input_dim\n",
        "        \n",
        "        # add a learnable dissipation coefficient\n",
        "        self.C_dissip = torch.nn.Parameter(torch.tensor([0.5]))  # torch.nn.Parameter(torch.rand(1))\n",
        "        self.C_dissip.requires_grad = True\n",
        "\n",
        "    def forward(self, t, x):\n",
        "        with torch.enable_grad():\n",
        "            q_p = x\n",
        "\n",
        "            q, p = torch.chunk(x,2,dim=-1)\n",
        "\n",
        "            q_p.requires_grad_(True)\n",
        "\n",
        "            H = self.H_net(q_p)\n",
        "\n",
        "            dH = torch.autograd.grad(H.sum(), q_p, create_graph=True)\n",
        "\n",
        "            dH = dH[0]\n",
        "\n",
        "            dHdq , dHdp = torch.chunk(dH,2,dim=-1)\n",
        "\n",
        "            dqdt = dHdp \n",
        "\n",
        "            dpdt = -dHdq - self.C_dissip*dHdp\n",
        "\n",
        "            # symplectic gradient \n",
        "            S_h = torch.cat((dqdt, dpdt), \n",
        "                            dim=-1) \n",
        "            return S_h "
      ]
    },
    {
      "cell_type": "code",
      "execution_count": 37,
      "id": "MiQ-fc7gwQkX",
      "metadata": {
        "id": "MiQ-fc7gwQkX"
      },
      "outputs": [],
      "source": [
        "H_net = MLP(input_dim=2, hidden_dim=90, nb_hidden_layers=4, output_dim=1, activation='tanh')"
      ]
    },
    {
      "cell_type": "code",
      "execution_count": 38,
      "id": "zb8R2E3wPEPJ",
      "metadata": {
        "id": "zb8R2E3wPEPJ"
      },
      "outputs": [],
      "source": [
        "\n",
        "model = U_ODE_HNN(input_dim=2, H_net=H_net, M_net=None, V_net=None, g_net=None, device=None,\n",
        "                    assume_canonical_coords=True, baseline=True, structure=False)"
      ]
    },
    {
      "cell_type": "code",
      "execution_count": 39,
      "id": "DIzAFtQePEIn",
      "metadata": {
        "colab": {
          "base_uri": "https://localhost:8080/"
        },
        "id": "DIzAFtQePEIn",
        "outputId": "7071da0b-7d4b-4a73-e6ce-4375d1d1ebe5"
      },
      "outputs": [
        {
          "name": "stdout",
          "output_type": "stream",
          "text": [
            "torch.Size([3, 80, 2])\n"
          ]
        }
      ],
      "source": [
        "s_h = model(t_eval_tt, x_tt) # sanity check\n",
        "print(s_h.shape)"
      ]
    },
    {
      "cell_type": "markdown",
      "id": "Ct4IqGdptC67",
      "metadata": {
        "id": "Ct4IqGdptC67"
      },
      "source": [
        "### Newtonian_U-ODE-HNN"
      ]
    },
    {
      "cell_type": "code",
      "execution_count": 40,
      "id": "dDP9OYmxLrSY",
      "metadata": {
        "id": "dDP9OYmxLrSY"
      },
      "outputs": [],
      "source": [
        "class Newtonian_U_ODE_HNN(torch.nn.Module): \n",
        "    '''\n",
        "    Modified version of the original SymODEN_R module\n",
        "    Equivalent of unconstrained ODE HNN from the report\n",
        "    Architecture for input (q, p, u), \n",
        "    where q and p are tensors of size (bs, n) and u is a tensor of size (bs, 1)\n",
        "    '''\n",
        "    def __init__(self, input_dim, H_net=None, M_net=None, V_net=None, g_net=None, device=None,\n",
        "                    assume_canonical_coords=True, baseline=True, structure=False):\n",
        "        super(Newtonian_U_ODE_HNN, self).__init__()\n",
        "        self.baseline = baseline\n",
        "        self.structure = structure\n",
        "\n",
        "        self.H_net = H_net\n",
        "        self.g_net = g_net\n",
        "\n",
        "        self.device = device\n",
        "        self.assume_canonical_coords = assume_canonical_coords\n",
        "\n",
        "        self.input_dim = input_dim\n",
        "        \n",
        "        # add a learnable dissipation coefficient\n",
        "        self.C_dissip = torch.nn.Parameter(torch.tensor([0.5]))  #torch.nn.Parameter(torch.rand(1))\n",
        "        self.C_dissip.requires_grad = True\n",
        "\n",
        "        # Constant representing the 1/ml^2 term\n",
        "        self.C_ml = torch.nn.Parameter(torch.tensor([1.0])) #torch.nn.Parameter(torch.rand(1))\n",
        "        self.C_ml.requires_grad = True\n",
        "\n",
        "    def forward(self, t, x):\n",
        "        with torch.enable_grad():\n",
        "            q_p = x\n",
        "\n",
        "            q, p = torch.chunk(x,2,dim=-1)\n",
        "\n",
        "            q_p.requires_grad_(True)\n",
        "\n",
        "            H = self.H_net(q_p)\n",
        "\n",
        "            dH = torch.autograd.grad(H.sum(), q_p, create_graph=True)\n",
        "\n",
        "            dH = dH[0]\n",
        "\n",
        "            dHdq , dHdp = torch.chunk(dH,2,dim=-1)\n",
        "\n",
        "            dqdt = self.C_ml*dHdp \n",
        "\n",
        "            dpdt = -self.C_ml*dHdq - self.C_dissip*(self.C_ml**2)*dHdp\n",
        "\n",
        "            # symplectic gradient \n",
        "            S_h = torch.cat((dqdt, dpdt), \n",
        "                            dim=-1)\n",
        "            \n",
        "            return S_h"
      ]
    },
    {
      "cell_type": "markdown",
      "id": "KHwAxOKqa1Zz",
      "metadata": {
        "id": "KHwAxOKqa1Zz"
      },
      "source": [
        "### L-ODE-NET"
      ]
    },
    {
      "cell_type": "markdown",
      "id": "M1vTk2u8p-pI",
      "metadata": {
        "id": "M1vTk2u8p-pI"
      },
      "source": [
        "Lagrangian ODE-NET NOT COMPLETED"
      ]
    },
    {
      "cell_type": "code",
      "execution_count": null,
      "id": "rCIPkpk1a1Jo",
      "metadata": {
        "id": "rCIPkpk1a1Jo"
      },
      "outputs": [],
      "source": [
        "# class L_ODE_HNN(torch.nn.Module): \n",
        "#     '''\n",
        "#     Modified version of the original SymODEN_R module\n",
        "#     Equivalent of unconstrained ODE HNN from the report\n",
        "#     Architecture for input (q, p, u), \n",
        "#     where q and p are tensors of size (bs, n) and u is a tensor of size (bs, 1)\n",
        "#     '''\n",
        "#     def __init__(self, input_dim, H_net=None, M_net=None, V_net=None, g_net=None, device=None,\n",
        "#                     assume_canonical_coords=True, baseline=True, structure=False):\n",
        "#         super(Newtonian_U_ODE_HNN, self).__init__()\n",
        "#         self.baseline = baseline\n",
        "#         self.structure = structure\n",
        "\n",
        "#         self.H_net = H_net\n",
        "#         self.g_net = g_net\n",
        "\n",
        "#         self.device = device\n",
        "#         self.assume_canonical_coords = assume_canonical_coords\n",
        "\n",
        "#         self.input_dim = input_dim\n",
        "        \n",
        "#         # add a learnable dissipation coefficient\n",
        "#         self.C_dissip = torch.nn.Parameter(torch.tensor([0.5]))  #torch.nn.Parameter(torch.rand(1))\n",
        "#         self.C_dissip.requires_grad = True\n",
        "\n",
        "#         # Constant representing the 1/ml^2 term\n",
        "#         self.C_ml = torch.nn.Parameter(torch.tensor([1.0])) #torch.nn.Parameter(torch.rand(1))\n",
        "#         self.C_ml.requires_grad = True\n",
        "\n",
        "#     def forward(self, t, x):\n",
        "#         with torch.enable_grad():\n",
        "#             q_p = x\n",
        "\n",
        "#             q, p = torch.chunk(x,2,dim=-1)\n",
        "\n",
        "#             q_p.requires_grad_(True)\n",
        "\n",
        "#             H = self.H_net(q_p)\n",
        "\n",
        "#             dH = torch.autograd.grad(H.sum(), q_p, create_graph=True)\n",
        "\n",
        "#             dH = dH[0]\n",
        "\n",
        "#             dHdq , dHdp = torch.chunk(dH,2,dim=-1)\n",
        "\n",
        "#             dqdt = self.C_ml*dHdp \n",
        "\n",
        "#             dpdt = -self.C_ml*dHdq - self.C_dissip*(self.C_ml**2)*dHdp\n",
        "\n",
        "#             # symplectic gradient \n",
        "#             S_h = torch.cat((dqdt, dpdt), \n",
        "#                             dim=-1)\n",
        "            \n",
        "#             return S_h"
      ]
    },
    {
      "cell_type": "markdown",
      "id": "DoGbnqWGe2qN",
      "metadata": {
        "id": "DoGbnqWGe2qN"
      },
      "source": [
        "### Autoencoder"
      ]
    },
    {
      "cell_type": "code",
      "execution_count": 34,
      "id": "GGGXZvREe3BN",
      "metadata": {
        "id": "GGGXZvREe3BN"
      },
      "outputs": [],
      "source": [
        "class Autoencoder(torch.nn.Module):\n",
        "    '''Just a MLP\n",
        "    From the SymODEN repository\n",
        "    '''\n",
        "    def __init__(self, nb_hidden_layers=1,  hidden_dim=64, enc_in_dim=2, \n",
        "                 enc_out_dim=2, dec_in_dim = 2, dec_out_dim = 2, activation='tanh'):\n",
        "        super(Autoencoder, self).__init__()\n",
        "\n",
        "        self.encoder = MLP(input_dim=enc_in_dim, hidden_dim=hidden_dim, \n",
        "                           nb_hidden_layers=nb_hidden_layers, output_dim=enc_out_dim, activation=activation)\n",
        "        self.decoder = MLP(input_dim=dec_in_dim, hidden_dim=hidden_dim, \n",
        "                           nb_hidden_layers=nb_hidden_layers, output_dim=dec_out_dim, activation=activation)\n",
        "\n",
        "    def forward(self, x): # x is (q, q_dot)\n",
        "        # q,p=torch.split(x,1,dim=2)\n",
        "        p_hat = self.encoder(x) # coordinates in the latent space\n",
        "\n",
        "        # z_h = torch.cat((q,z),dim=2) # input known q and encoded z into decoder\n",
        "        q_dot_hat = self.decoder(p_hat) # coordinates back in the original space but using the decoder\n",
        "\n",
        "        return p_hat, q_dot_hat"
      ]
    },
    {
      "cell_type": "code",
      "execution_count": 35,
      "id": "DKqj5lXTe7bB",
      "metadata": {
        "id": "DKqj5lXTe7bB"
      },
      "outputs": [],
      "source": [
        "autoencoder = Autoencoder(nb_hidden_layers=1,  hidden_dim=64, enc_in_dim=2, \n",
        "                 enc_out_dim=1, dec_in_dim = 1, dec_out_dim = 2, activation='tanh')"
      ]
    },
    {
      "cell_type": "code",
      "execution_count": 36,
      "id": "JdOG8Hlxwa3N",
      "metadata": {
        "colab": {
          "base_uri": "https://localhost:8080/"
        },
        "id": "JdOG8Hlxwa3N",
        "outputId": "4f8d97c9-2209-4605-c845-32cc9255d096"
      },
      "outputs": [
        {
          "data": {
            "text/plain": [
              "8835"
            ]
          },
          "execution_count": 36,
          "metadata": {},
          "output_type": "execute_result"
        }
      ],
      "source": [
        "count_parameters(autoencoder)"
      ]
    },
    {
      "cell_type": "code",
      "execution_count": null,
      "id": "4Qf1nfcZ9VmV",
      "metadata": {
        "colab": {
          "base_uri": "https://localhost:8080/"
        },
        "id": "4Qf1nfcZ9VmV",
        "outputId": "4030309b-d60a-4cdd-c94d-70428c53b9e2"
      },
      "outputs": [
        {
          "data": {
            "text/plain": [
              "torch.Size([3, 40, 2])"
            ]
          },
          "execution_count": 94,
          "metadata": {},
          "output_type": "execute_result"
        }
      ],
      "source": [
        "x_tt.shape"
      ]
    },
    {
      "cell_type": "code",
      "execution_count": null,
      "id": "apOJi1rT9s-t",
      "metadata": {
        "id": "apOJi1rT9s-t"
      },
      "outputs": [],
      "source": [
        "test = x_tt[:,:5,:]"
      ]
    },
    {
      "cell_type": "code",
      "execution_count": null,
      "id": "sa1jFtRv97u3",
      "metadata": {
        "colab": {
          "base_uri": "https://localhost:8080/"
        },
        "id": "sa1jFtRv97u3",
        "outputId": "faa99803-baf9-4d5a-f437-6bff14aff78f"
      },
      "outputs": [
        {
          "data": {
            "text/plain": [
              "torch.Size([3, 5, 2])"
            ]
          },
          "execution_count": 80,
          "metadata": {},
          "output_type": "execute_result"
        }
      ],
      "source": [
        "test.shape"
      ]
    },
    {
      "cell_type": "code",
      "execution_count": null,
      "id": "Z0Sg8r1pCrno",
      "metadata": {
        "colab": {
          "base_uri": "https://localhost:8080/"
        },
        "id": "Z0Sg8r1pCrno",
        "outputId": "c1e12921-49e0-47ab-b2b1-6c9cd2140f8e"
      },
      "outputs": [
        {
          "data": {
            "text/plain": [
              "torch.Size([3, 2])"
            ]
          },
          "execution_count": 102,
          "metadata": {},
          "output_type": "execute_result"
        }
      ],
      "source": [
        "test[:,0,:].shape"
      ]
    },
    {
      "cell_type": "code",
      "execution_count": null,
      "id": "k2SrFxiC9JdW",
      "metadata": {
        "id": "k2SrFxiC9JdW"
      },
      "outputs": [],
      "source": [
        "z,x = autoencoder(test[:,0,:])"
      ]
    },
    {
      "cell_type": "code",
      "execution_count": null,
      "id": "xPEqsGlF9JOj",
      "metadata": {
        "colab": {
          "base_uri": "https://localhost:8080/"
        },
        "id": "xPEqsGlF9JOj",
        "outputId": "ca308dff-a8ed-4188-c7c6-21d429f3b4b7"
      },
      "outputs": [
        {
          "data": {
            "text/plain": [
              "tensor([[-0.0269],\n",
              "        [-0.0547],\n",
              "        [-0.0416]], grad_fn=<AddmmBackward0>)"
            ]
          },
          "execution_count": 107,
          "metadata": {},
          "output_type": "execute_result"
        }
      ],
      "source": [
        "z"
      ]
    },
    {
      "cell_type": "code",
      "execution_count": null,
      "id": "Aar1RTCKC4lj",
      "metadata": {
        "colab": {
          "base_uri": "https://localhost:8080/"
        },
        "id": "Aar1RTCKC4lj",
        "outputId": "07e91038-a6a9-4d54-c243-abdc46bdc2e3"
      },
      "outputs": [
        {
          "data": {
            "text/plain": [
              "tensor([[0.0984, 0.0463],\n",
              "        [0.1011, 0.0512],\n",
              "        [0.0999, 0.0489]], grad_fn=<AddmmBackward0>)"
            ]
          },
          "execution_count": 108,
          "metadata": {},
          "output_type": "execute_result"
        }
      ],
      "source": [
        "x"
      ]
    },
    {
      "cell_type": "code",
      "execution_count": null,
      "id": "zvB2s13QkrAB",
      "metadata": {
        "id": "zvB2s13QkrAB"
      },
      "outputs": [],
      "source": [
        "def train_autoencoder():\n",
        "\n",
        "    lr = 1e-3\n",
        "    Ts = 0.05\n",
        "\n",
        "    optim = torch.optim.Adam(model.parameters(), lr, weight_decay=1e-4)\n",
        "\n",
        "    stats = {'train_loss': [], 'test_loss': []}\n",
        "    w=torch.tensor([0.1,1.0], device=device)\n",
        "\n",
        "    for step in range(epochs):\n",
        "        \n",
        "        train_loss = 0\n",
        "        test_loss = 0\n",
        "\n",
        "        t1 = time.time()\n",
        "\n",
        "        #horizon = select_horizon(step)\n",
        "\n",
        "        # Training\n",
        "        for x, t_eval in iter(train_loader):\n",
        "            x = torch.permute(x, (1,0,2)) # to have the same dimensions as odeint\n",
        "            t_eval = t_eval[0,:horizon] #t_eval.squeeze()\n",
        "           \n",
        "            train_z, train_x_hat = autoencoder(x)\n",
        "            train_loss_mini = L2_loss(x[:, :, :], train_x_hat[:],w) # batch loss\n",
        "            \n",
        "            train_loss = train_loss + train_loss_mini # epoch loss\n",
        "\n",
        "            train_loss_mini.backward() \n",
        "            optim.step() \n",
        "            optim.zero_grad() \n",
        "\n",
        "        t2 = time.time()\n",
        "        train_time = t2-t1\n",
        "\n",
        "        # Testing\n",
        "        if test_loader:\n",
        "            if not (step%10):\n",
        "                for x, t_eval in iter(test_loader):\n",
        "                    x = torch.permute(x, (1,0,2)) \n",
        "\n",
        "                    t_eval = t_eval[0,:horizon] # t_eval.squeeze()\n",
        "\n",
        "                    \n",
        "                    test_x_hat = odeint(model, x[0, :, :], t_eval, method='rk4', options=dict(step_size=Ts))\n",
        "                    \n",
        "                    test_loss_mini = L2_loss(x[:horizon, :, :], test_x_hat[:horizon],w) \n",
        "                    test_loss = test_loss + test_loss_mini\n",
        "                \n",
        "                print('epoch', step, '| train loss ', train_loss.item(), '| test loss', test_loss.item(), '| train time:',train_time)\n",
        "                stats['test_loss'].append(test_loss.item())\n",
        "        else:\n",
        "            if not (step%10):\n",
        "                print('epoch', step, '| train loss ', train_loss.item(),'| train time:',train_time)\n",
        "\n",
        "        # logging\n",
        "        stats['train_loss'].append(train_loss.item())\n",
        "        \n",
        "    return stats"
      ]
    },
    {
      "cell_type": "markdown",
      "id": "GKz8Rj2o9t1t",
      "metadata": {
        "id": "GKz8Rj2o9t1t"
      },
      "source": [
        "# Training"
      ]
    },
    {
      "cell_type": "code",
      "execution_count": null,
      "id": "BnZYWe17rN5e",
      "metadata": {
        "id": "BnZYWe17rN5e"
      },
      "outputs": [],
      "source": [
        "def L2_loss(u, v, w):\n",
        "    return ((u-v)*w).pow(2).mean()"
      ]
    },
    {
      "cell_type": "code",
      "execution_count": null,
      "id": "sFlrrKBgrZF5",
      "metadata": {
        "id": "sFlrrKBgrZF5"
      },
      "outputs": [],
      "source": [
        "def load_model(model_name='U_ODE_HNN'):\n",
        "    H_net = MLP(input_dim=2, hidden_dim=130, output_dim=1, nonlinearity='tanh', bias_bool=True)\n",
        "\n",
        "    if model_name == 'U_ODE_HNN':\n",
        "        model = U_ODE_HNN(input_dim=2, H_net=H_net, M_net=None, V_net=None, g_net=None, device=device,\n",
        "                            assume_canonical_coords=True, baseline=True, structure=False)\n",
        "    if model_name == 'Newtonian_U_ODE_HNN':\n",
        "        model = Newtonian_U_ODE_HNN(input_dim=2, H_net=H_net, M_net=None, V_net=None, g_net=None, device=device,\n",
        "                            assume_canonical_coords=True, baseline=True, structure=False)\n",
        "\n",
        "    model.to(device)\n",
        "    return model"
      ]
    },
    {
      "cell_type": "code",
      "execution_count": null,
      "id": "-q_iYQcUzbbb",
      "metadata": {
        "id": "-q_iYQcUzbbb"
      },
      "outputs": [],
      "source": [
        "def select_horizon(step, \n",
        "                   n1=300, \n",
        "                   n2=100, \n",
        "                   n3=100,\n",
        "                   n4=100):\n",
        "    # n1 number of steps with a horizon =  20\n",
        "    # n2 number of steps with a horizon =  25\n",
        "    # n3 number of steps with a horizon =  30\n",
        "    # n4 number of steps with a horizon =  35\n",
        "    # horizon = 40 for the remainder of training steps\n",
        "    if step <=n1:\n",
        "        horizon = 20\n",
        "        if step==0:\n",
        "            print('horizon length :', horizon)\n",
        "    elif (step > n1)&(step <= n1+n2):\n",
        "        horizon = 25\n",
        "        if step==n1+1:\n",
        "            print('horizon length :', horizon)\n",
        "    elif (step > n1+n2)&(step <= n1+n2+n3):\n",
        "        horizon = 30\n",
        "        if step==n1+n2+1:\n",
        "            print('horizon length :', horizon)\n",
        "    elif (step > n1+n2+n3)&(step <= n1+n2+n3+n4):\n",
        "        horizon = 35\n",
        "        if step==n1+n2+n3+1:\n",
        "            print('horizon length :', horizon)\n",
        "    else :\n",
        "        horizon = 40\n",
        "        if step==n1+n2+n3+n4+1:\n",
        "            print('horizon length :', horizon)\n",
        "    return horizon"
      ]
    },
    {
      "cell_type": "code",
      "execution_count": null,
      "id": "F6MYnJTmasuv",
      "metadata": {
        "id": "F6MYnJTmasuv"
      },
      "outputs": [],
      "source": [
        "def train(model, epochs = 20):\n",
        "    ## TODO : make a function for one epoch\n",
        "    ## first training steps on smaller amount of time_steps\n",
        "\n",
        "    lr = 1e-3\n",
        "    Ts = 0.05\n",
        "    optim = torch.optim.Adam(model.parameters(), lr, weight_decay=1e-4)\n",
        "\n",
        "    stats = {'train_loss': [], 'test_loss': []}\n",
        "    w=torch.tensor([1.0,1.0], device=device)\n",
        "    for step in range(epochs):\n",
        "        \n",
        "        train_loss = 0\n",
        "        test_loss = 0\n",
        "        t1 = time.time()\n",
        "\n",
        "        horizon = select_horizon(step)\n",
        "\n",
        "        # Training\n",
        "        for x, t_eval in iter(train_loader):\n",
        "            x = torch.permute(x, (1,0,2)) # to have the same dimensions as odeint\n",
        "            t_eval = t_eval[0,:horizon] #t_eval.squeeze()\n",
        "\n",
        "            train_x_hat = odeint(model, x[0, :, :], t_eval, method='rk4', options=dict(step_size=Ts))            \n",
        "\n",
        "            train_loss_mini = L2_loss(x[:horizon, :, :], train_x_hat[:horizon],w) # batch loss\n",
        "            train_loss = train_loss + train_loss_mini # epoch loss = sum of batch losses\n",
        "\n",
        "            train_loss_mini.backward() \n",
        "            optim.step() \n",
        "            optim.zero_grad() \n",
        "\n",
        "        t2 = time.time()\n",
        "        train_time = t2-t1\n",
        "\n",
        "        # Testing\n",
        "        if test_loader:\n",
        "            if not (step%10):\n",
        "                for x, t_eval in iter(test_loader):\n",
        "                    x = torch.permute(x, (1,0,2)) \n",
        "\n",
        "                    t_eval = t_eval[0,:horizon] # t_eval.squeeze()\n",
        "\n",
        "                    \n",
        "                    test_x_hat = odeint(model, x[0, :, :], t_eval, method='rk4', options=dict(step_size=Ts))\n",
        "                    \n",
        "                    test_loss_mini = L2_loss(x[:horizon, :, :], test_x_hat[:horizon],w)\n",
        "                    test_loss = test_loss + test_loss_mini\n",
        "                \n",
        "                print('epoch', step, '| train loss ', train_loss.item(), '| test loss', test_loss.item(), '| train time:',train_time)\n",
        "                stats['test_loss'].append(test_loss.item())\n",
        "        else:\n",
        "            if not (step%10):\n",
        "                print('epoch', step, '| train loss ', train_loss.item(),'| train time:',train_time)\n",
        "\n",
        "        # logging\n",
        "        stats['train_loss'].append(train_loss.item())\n",
        "        \n",
        "    return stats"
      ]
    },
    {
      "cell_type": "code",
      "execution_count": null,
      "id": "xY3yQV2pPQ2m",
      "metadata": {
        "id": "xY3yQV2pPQ2m"
      },
      "outputs": [],
      "source": [
        "def load_data_device(time_steps=40, num_trajectories=10, C=0.0, proportion = 0, noise_std=0.0, batch_size=100, coord_type = 'hamiltonian'):\n",
        "    # create trajectories\n",
        "    q, p, t_eval,_,_ = multiple_trajectories(time_steps=time_steps, \n",
        "                                         num_trajectories=num_trajectories, noise_std=noise_std, \n",
        "                                         C=C, coord_type = coord_type )\n",
        "\n",
        "    q=q.to(device) \n",
        "    p=p.to(device) \n",
        "    t_eval=t_eval.to(device) \n",
        "\n",
        "    # dataloader to load data in batches\n",
        "    train_loader, test_loader = data_loader(q, p, t_eval, batch_size, shuffle = True, proportion = proportion)\n",
        "    return train_loader, test_loader"
      ]
    },
    {
      "cell_type": "code",
      "execution_count": null,
      "id": "fuF_fvqoYqCk",
      "metadata": {
        "id": "fuF_fvqoYqCk"
      },
      "outputs": [],
      "source": [
        "device = 'cpu' # for some reason it is faster on CPU\n",
        "# probably because the model doesn't have many parameters and the ode solver\n",
        "# can't do many calculations in parallel ? "
      ]
    },
    {
      "cell_type": "code",
      "execution_count": null,
      "id": "cWayuFs5PQui",
      "metadata": {
        "id": "cWayuFs5PQui"
      },
      "outputs": [],
      "source": [
        "model = load_model(model_name ='Newtonian_U_ODE_HNN') # Newtonian_U_ODE_HNN U_ODE_HNN\n",
        "count_parameters(model)\n",
        "noise_std_1 = 0.00"
      ]
    },
    {
      "cell_type": "code",
      "execution_count": null,
      "id": "74Ofbt1JIP-4",
      "metadata": {
        "id": "74Ofbt1JIP-4"
      },
      "outputs": [],
      "source": [
        "train_loader, test_loader = load_data_device(time_steps=40, num_trajectories=200, \n",
        "                                             C=0.5, proportion = 0.5, \n",
        "                                             noise_std=noise_std_1,batch_size=100, coord_type = 'newtonian')"
      ]
    },
    {
      "cell_type": "code",
      "execution_count": null,
      "id": "JHwYE3muPnIk",
      "metadata": {
        "colab": {
          "base_uri": "https://localhost:8080/"
        },
        "id": "JHwYE3muPnIk",
        "outputId": "b5ffe133-a8da-43ae-a393-f56f0cedbeaa"
      },
      "outputs": [
        {
          "name": "stdout",
          "output_type": "stream",
          "text": [
            "horizon length : 20\n",
            "epoch 0 | train loss  2.3642396926879883 | test loss 1.829921841621399 | train time: 0.18611931800842285\n",
            "epoch 10 | train loss  2.119856119155884 | test loss 1.6240828037261963 | train time: 0.18724846839904785\n",
            "epoch 20 | train loss  1.3461580276489258 | test loss 0.9718426465988159 | train time: 0.18590784072875977\n",
            "epoch 30 | train loss  0.485720694065094 | test loss 0.39169177412986755 | train time: 0.17557454109191895\n",
            "epoch 40 | train loss  0.3228217661380768 | test loss 0.2802687883377075 | train time: 0.17296957969665527\n",
            "epoch 50 | train loss  0.18329550325870514 | test loss 0.1515091061592102 | train time: 0.17633438110351562\n",
            "epoch 60 | train loss  0.13086996972560883 | test loss 0.10897091031074524 | train time: 0.17919635772705078\n",
            "epoch 70 | train loss  0.10024242103099823 | test loss 0.08847950398921967 | train time: 0.17970943450927734\n",
            "epoch 80 | train loss  0.08304678648710251 | test loss 0.07143762707710266 | train time: 0.17694854736328125\n",
            "epoch 90 | train loss  0.06940153986215591 | test loss 0.06087970733642578 | train time: 0.18921184539794922\n",
            "epoch 100 | train loss  0.057159800082445145 | test loss 0.05103813111782074 | train time: 0.17772531509399414\n",
            "epoch 110 | train loss  0.046941645443439484 | test loss 0.042368799448013306 | train time: 0.17870664596557617\n",
            "epoch 120 | train loss  0.038981176912784576 | test loss 0.03627993166446686 | train time: 0.1783437728881836\n",
            "epoch 130 | train loss  0.03302158787846565 | test loss 0.03115839883685112 | train time: 0.17683792114257812\n",
            "epoch 140 | train loss  0.028647616505622864 | test loss 0.027160201221704483 | train time: 0.17688584327697754\n",
            "epoch 150 | train loss  0.02537725493311882 | test loss 0.024098549038171768 | train time: 0.1723783016204834\n",
            "epoch 160 | train loss  0.022801069542765617 | test loss 0.021571654826402664 | train time: 0.18231630325317383\n",
            "epoch 170 | train loss  0.02065269835293293 | test loss 0.019482074305415154 | train time: 0.18011212348937988\n",
            "epoch 180 | train loss  0.018759746104478836 | test loss 0.017504803836345673 | train time: 0.18121981620788574\n",
            "epoch 190 | train loss  0.01699085719883442 | test loss 0.015619068406522274 | train time: 0.17817378044128418\n",
            "epoch 200 | train loss  0.015289150178432465 | test loss 0.01377080101519823 | train time: 0.17370128631591797\n",
            "epoch 210 | train loss  0.01363728754222393 | test loss 0.011998717673122883 | train time: 0.17253875732421875\n",
            "epoch 220 | train loss  0.01206691563129425 | test loss 0.01036294549703598 | train time: 0.17154717445373535\n",
            "epoch 230 | train loss  0.010625304654240608 | test loss 0.008916408754885197 | train time: 0.1825859546661377\n",
            "epoch 240 | train loss  0.009342838078737259 | test loss 0.007682052906602621 | train time: 0.17719006538391113\n",
            "epoch 250 | train loss  0.008227146230638027 | test loss 0.006649253889918327 | train time: 0.1801598072052002\n",
            "epoch 260 | train loss  0.007266673259437084 | test loss 0.005790370050817728 | train time: 0.1768510341644287\n",
            "epoch 270 | train loss  0.006440749857574701 | test loss 0.005070575512945652 | train time: 0.18591690063476562\n",
            "epoch 280 | train loss  0.005728172138333321 | test loss 0.004463374149054289 | train time: 0.1828916072845459\n",
            "epoch 290 | train loss  0.0051104165613651276 | test loss 0.003948220983147621 | train time: 0.18097615242004395\n",
            "epoch 300 | train loss  0.004571962170302868 | test loss 0.0035085869021713734 | train time: 0.1824815273284912\n",
            "horizon length : 25\n",
            "epoch 310 | train loss  0.0075621530413627625 | test loss 0.008100969716906548 | train time: 0.23029065132141113\n",
            "epoch 320 | train loss  0.00594673678278923 | test loss 0.0050970264710485935 | train time: 0.2292935848236084\n",
            "epoch 330 | train loss  0.004764852114021778 | test loss 0.003690015058964491 | train time: 0.2333049774169922\n",
            "epoch 340 | train loss  0.0036495705135166645 | test loss 0.0029970593750476837 | train time: 0.23166346549987793\n",
            "epoch 350 | train loss  0.00305863656103611 | test loss 0.002472037449479103 | train time: 0.22178220748901367\n",
            "epoch 360 | train loss  0.002661230741068721 | test loss 0.0021366984583437443 | train time: 0.23059844970703125\n",
            "epoch 370 | train loss  0.002356397220864892 | test loss 0.001868516905233264 | train time: 0.22798895835876465\n",
            "epoch 380 | train loss  0.0021165108773857355 | test loss 0.0016801521414890885 | train time: 0.22704195976257324\n",
            "epoch 390 | train loss  0.0029847805853933096 | test loss 0.002593280514702201 | train time: 0.2258930206298828\n",
            "epoch 400 | train loss  0.0017509248573333025 | test loss 0.001503565814346075 | train time: 0.231766939163208\n",
            "horizon length : 30\n",
            "epoch 410 | train loss  0.004187216516584158 | test loss 0.003223839681595564 | train time: 0.27651047706604004\n",
            "epoch 420 | train loss  0.002734162611886859 | test loss 0.002576411236077547 | train time: 0.2743713855743408\n",
            "epoch 430 | train loss  0.0021791483741253614 | test loss 0.0017833623569458723 | train time: 0.2724490165710449\n",
            "epoch 440 | train loss  0.0016540646320208907 | test loss 0.001404809532687068 | train time: 0.2828352451324463\n",
            "epoch 450 | train loss  0.0013687764294445515 | test loss 0.0011917981319129467 | train time: 0.2825343608856201\n",
            "epoch 460 | train loss  0.0013135970802977681 | test loss 0.0012597352033481002 | train time: 0.28334569931030273\n",
            "epoch 470 | train loss  0.0012443847954273224 | test loss 0.0014975154772400856 | train time: 0.2716944217681885\n",
            "epoch 480 | train loss  0.0010347890201956034 | test loss 0.0007404146017506719 | train time: 0.2662160396575928\n",
            "epoch 490 | train loss  0.0007529276190325618 | test loss 0.0006905212649144232 | train time: 0.2720677852630615\n",
            "epoch 500 | train loss  0.0006933258264325559 | test loss 0.0005833222530782223 | train time: 0.2689955234527588\n",
            "horizon length : 35\n",
            "epoch 510 | train loss  0.0013695916859433055 | test loss 0.001192948198877275 | train time: 0.3143002986907959\n",
            "epoch 520 | train loss  0.0010367025388404727 | test loss 0.0008695678552612662 | train time: 0.3373863697052002\n",
            "epoch 530 | train loss  0.0008442975231446326 | test loss 0.0007377377478405833 | train time: 0.31577086448669434\n",
            "epoch 540 | train loss  0.0007172287441790104 | test loss 0.0006255858461372554 | train time: 0.32277965545654297\n",
            "epoch 550 | train loss  0.0006288652657531202 | test loss 0.0005535676027648151 | train time: 0.32430601119995117\n",
            "epoch 560 | train loss  0.0005639557493850589 | test loss 0.0004981636302545667 | train time: 0.31899476051330566\n",
            "epoch 570 | train loss  0.0005141101428307593 | test loss 0.0004562311514746398 | train time: 0.32112789154052734\n",
            "epoch 580 | train loss  0.00047431583516299725 | test loss 0.00042461109114810824 | train time: 0.3201165199279785\n",
            "epoch 590 | train loss  0.0004418192838784307 | test loss 0.00039648430538363755 | train time: 0.3095211982727051\n",
            "epoch 600 | train loss  0.00041450909338891506 | test loss 0.0003736595972441137 | train time: 0.3290839195251465\n",
            "horizon length : 40\n",
            "epoch 610 | train loss  0.0007707899785600603 | test loss 0.0006170324049890041 | train time: 0.3690624237060547\n",
            "epoch 620 | train loss  0.0005611065425910056 | test loss 0.0005114462110213935 | train time: 0.3733551502227783\n",
            "epoch 630 | train loss  0.0005006028804928064 | test loss 0.00041793042328208685 | train time: 0.3655281066894531\n",
            "epoch 640 | train loss  0.0004631236370187253 | test loss 0.0003958132292609662 | train time: 0.3784749507904053\n",
            "epoch 650 | train loss  0.0004327904898673296 | test loss 0.0003701515088323504 | train time: 0.38669490814208984\n",
            "epoch 660 | train loss  0.00040851152152754366 | test loss 0.0003532755945343524 | train time: 0.369096040725708\n",
            "epoch 670 | train loss  0.0003881199227180332 | test loss 0.00033594132401049137 | train time: 0.3688490390777588\n",
            "epoch 680 | train loss  0.00036933404044248164 | test loss 0.0003188359260093421 | train time: 0.3661928176879883\n",
            "epoch 690 | train loss  0.00035220940480940044 | test loss 0.0003036184352822602 | train time: 0.35628461837768555\n",
            "epoch 700 | train loss  0.00033649575198069215 | test loss 0.0002897694066632539 | train time: 0.36039161682128906\n",
            "epoch 710 | train loss  0.00032187774195335805 | test loss 0.00027707035769708455 | train time: 0.37154221534729004\n",
            "epoch 720 | train loss  0.0003082042094320059 | test loss 0.00026474398327991366 | train time: 0.37409234046936035\n",
            "epoch 730 | train loss  0.00029538999660871923 | test loss 0.0002534397644922137 | train time: 0.3755614757537842\n",
            "epoch 740 | train loss  0.000283351429970935 | test loss 0.0002427666768198833 | train time: 0.3672504425048828\n",
            "epoch 750 | train loss  0.0002720311167649925 | test loss 0.00023292965488508344 | train time: 0.3717060089111328\n",
            "epoch 760 | train loss  0.00026272248942404985 | test loss 0.00022860443277750164 | train time: 0.3760397434234619\n",
            "epoch 770 | train loss  0.0008445876301266253 | test loss 0.0011419029906392097 | train time: 0.3729991912841797\n",
            "epoch 780 | train loss  0.00198700581677258 | test loss 0.0008659414597786963 | train time: 0.3900153636932373\n",
            "epoch 790 | train loss  0.0006097339210100472 | test loss 0.00025386884226463735 | train time: 0.3733184337615967\n",
            "epoch 800 | train loss  0.00028948450926691294 | test loss 0.00030513133970089257 | train time: 0.3687000274658203\n",
            "epoch 810 | train loss  0.00025738734984770417 | test loss 0.00021677848417311907 | train time: 0.3673546314239502\n",
            "epoch 820 | train loss  0.0002067698515020311 | test loss 0.00018049977370537817 | train time: 0.3690929412841797\n",
            "epoch 830 | train loss  0.00019696136587299407 | test loss 0.0001702961599221453 | train time: 0.3657388687133789\n",
            "epoch 840 | train loss  0.00019117617921438068 | test loss 0.00016087100084405392 | train time: 0.3705761432647705\n",
            "epoch 850 | train loss  0.0001846738887252286 | test loss 0.000153500703163445 | train time: 0.37325215339660645\n",
            "epoch 860 | train loss  0.00017837506311479956 | test loss 0.00014795341121498495 | train time: 0.3696737289428711\n",
            "epoch 870 | train loss  0.00017246809147763997 | test loss 0.00014337808534037322 | train time: 0.3721919059753418\n",
            "epoch 880 | train loss  0.0001671220816206187 | test loss 0.00013910239795222878 | train time: 0.3568298816680908\n",
            "epoch 890 | train loss  0.00016206366126425564 | test loss 0.00013441202463582158 | train time: 0.3657510280609131\n",
            "epoch 900 | train loss  0.00015725332195870578 | test loss 0.00013021191989537328 | train time: 0.37316417694091797\n",
            "epoch 910 | train loss  0.0001526893029222265 | test loss 0.00012579558824654669 | train time: 0.370654821395874\n",
            "epoch 920 | train loss  0.00014836457557976246 | test loss 0.00012188385881017894 | train time: 0.35834288597106934\n",
            "epoch 930 | train loss  0.00014426476263906807 | test loss 0.00011822915257653221 | train time: 0.36448049545288086\n",
            "epoch 940 | train loss  0.0001403819624101743 | test loss 0.00011483904381748289 | train time: 0.36274218559265137\n",
            "epoch 950 | train loss  0.00013783528993371874 | test loss 0.00011510508193168789 | train time: 0.3594675064086914\n",
            "epoch 960 | train loss  0.0005108045297674835 | test loss 0.0006392065552063286 | train time: 0.36335086822509766\n",
            "epoch 970 | train loss  0.00128457834944129 | test loss 0.0012756739743053913 | train time: 0.36293745040893555\n",
            "epoch 980 | train loss  0.0006791296182200313 | test loss 0.00031798635609447956 | train time: 0.3655686378479004\n",
            "epoch 990 | train loss  0.00021059867867734283 | test loss 9.945772762876004e-05 | train time: 0.36600303649902344\n"
          ]
        }
      ],
      "source": [
        "stats = train(model, epochs = 1000)"
      ]
    },
    {
      "cell_type": "code",
      "execution_count": null,
      "id": "eDI2KpBAUQkD",
      "metadata": {
        "colab": {
          "base_uri": "https://localhost:8080/"
        },
        "id": "eDI2KpBAUQkD",
        "outputId": "3d463d21-6e58-4f91-be80-9da577022c69"
      },
      "outputs": [
        {
          "data": {
            "text/plain": [
              "Parameter containing:\n",
              "tensor([0.4858], requires_grad=True)"
            ]
          },
          "execution_count": 50,
          "metadata": {},
          "output_type": "execute_result"
        }
      ],
      "source": [
        "model.C_dissip "
      ]
    },
    {
      "cell_type": "code",
      "execution_count": null,
      "id": "vwb8hBHX301b",
      "metadata": {
        "id": "vwb8hBHX301b"
      },
      "outputs": [],
      "source": [
        "x, t_eval = next(iter(train_loader)) \n",
        "t_eval = t_eval[0,:] \n",
        "nums = iter(torch.arange(len(x))) "
      ]
    },
    {
      "cell_type": "code",
      "execution_count": null,
      "id": "0-mjDKgjA0ii",
      "metadata": {
        "colab": {
          "base_uri": "https://localhost:8080/",
          "height": 609
        },
        "id": "0-mjDKgjA0ii",
        "outputId": "23887ea8-a449-4d7c-f102-c68d128d1710"
      },
      "outputs": [
        {
          "data": {
            "image/png": "[encoded data removed]",
            "text/plain": [
              "<Figure size 576x288 with 2 Axes>"
            ]
          },
          "metadata": {
            "needs_background": "light"
          },
          "output_type": "display_data"
        },
        {
          "data": {
            "image/png": "[encoded data removed]",
            "text/plain": [
              "<Figure size 576x288 with 2 Axes>"
            ]
          },
          "metadata": {
            "needs_background": "light"
          },
          "output_type": "display_data"
        }
      ],
      "source": [
        "n = next(nums) \n",
        "\n",
        "test_x_hat = odeint(model, x[n, 0, :], t_eval, method='rk4') \n",
        "\n",
        "# train trajectory\n",
        "plot_traj_pend(t_eval.cpu().detach().numpy(), test_x_hat[:,0].cpu().detach().numpy(), \n",
        "          test_x_hat[:,1].cpu().detach().numpy(), coord_type = 'newtonian') \n",
        "\n",
        "# real trajectory\n",
        "plot_traj_pend(t_eval.cpu().detach().numpy(), x[n,:,0].cpu().detach().numpy(), \n",
        "          x[n,:,1].cpu().detach().numpy(), coord_type = 'newtonian')"
      ]
    },
    {
      "cell_type": "code",
      "execution_count": null,
      "id": "FU_TdVKiBRbw",
      "metadata": {
        "id": "FU_TdVKiBRbw"
      },
      "outputs": [],
      "source": [
        "train_loader, test_loader = load_data_device(time_steps=500, num_trajectories=2, C=0.5, proportion = 0.0, noise_std = 0.0) "
      ]
    },
    {
      "cell_type": "code",
      "execution_count": null,
      "id": "6r8cBv4KrQue",
      "metadata": {
        "id": "6r8cBv4KrQue"
      },
      "outputs": [],
      "source": [
        "x, t_eval = next(iter(train_loader))\n",
        "t_eval = t_eval[0,:]\n",
        "nums = iter(torch.arange(len(x)))"
      ]
    },
    {
      "cell_type": "code",
      "execution_count": null,
      "id": "WnLPy-zirQse",
      "metadata": {
        "colab": {
          "base_uri": "https://localhost:8080/",
          "height": 609
        },
        "id": "WnLPy-zirQse",
        "outputId": "ab8f09f7-9632-4f2b-d746-7efb43723fe8"
      },
      "outputs": [
        {
          "data": {
            "image/png": "[encoded data removed]",
            "text/plain": [
              "<Figure size 576x288 with 2 Axes>"
            ]
          },
          "metadata": {
            "needs_background": "light"
          },
          "output_type": "display_data"
        },
        {
          "data": {
            "image/png": "[encoded data removed]",
            "text/plain": [
              "<Figure size 576x288 with 2 Axes>"
            ]
          },
          "metadata": {
            "needs_background": "light"
          },
          "output_type": "display_data"
        }
      ],
      "source": [
        "n = next(nums) \n",
        "\n",
        "test_x_hat = odeint(model, x[n, 0, :], t_eval, method='rk4') \n",
        "\n",
        "# train trajectory\n",
        "plot_traj_pend(t_eval.cpu().detach().numpy(), test_x_hat[:,0].cpu().detach().numpy(), \n",
        "          test_x_hat[:,1].cpu().detach().numpy(), coord_type = 'newtonian') \n",
        "\n",
        "# real trajectory\n",
        "plot_traj_pend(t_eval.cpu().detach().numpy(), x[n,:,0].cpu().detach().numpy(), \n",
        "          x[n,:,1].cpu().detach().numpy(), coord_type = 'newtonian') "
      ]
    }
  ],
  "metadata": {
    "colab": {
      "collapsed_sections": [],
      "name": "w5_simple_pendulum.ipynb",
      "provenance": [],
      "toc_visible": true
    },
    "kernelspec": {
      "display_name": "Python 3 (ipykernel)",
      "language": "python",
      "name": "python3"
    },
    "language_info": {
      "codemirror_mode": {
        "name": "ipython",
        "version": 3
      },
      "file_extension": ".py",
      "mimetype": "text/x-python",
      "name": "python",
      "nbconvert_exporter": "python",
      "pygments_lexer": "ipython3",
      "version": "3.9.7"
    }
  },
  "nbformat": 4,
  "nbformat_minor": 5
}
