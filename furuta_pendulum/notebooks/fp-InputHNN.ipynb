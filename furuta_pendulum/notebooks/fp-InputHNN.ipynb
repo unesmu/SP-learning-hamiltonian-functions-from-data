{
 "cells": [
  {
   "cell_type": "markdown",
   "metadata": {
    "id": "uy0mWdPersbg"
   },
   "source": [
    "Some code in this notebook has been adapted from the work of Zhongy et al. and Greydanus et al. and from the report and code of Jonas Perolini.\n",
    "\n",
    "Their code is available in the following repositories :[\n",
    "Symplectic-ODENet](https://github.com/Physics-aware-AI/Symplectic-ODENet) and [hamiltonian-nn](https://github.com/greydanus/hamiltonian-nn)\n"
   ]
  },
  {
   "cell_type": "markdown",
   "metadata": {
    "id": "Jd6pGmU-rsbk"
   },
   "source": [
    "# Imports & Setting up directories"
   ]
  },
  {
   "cell_type": "code",
   "execution_count": 1,
   "metadata": {
    "colab": {
     "base_uri": "https://localhost:8080/"
    },
    "executionInfo": {
     "elapsed": 10126,
     "status": "ok",
     "timestamp": 1654709660820,
     "user": {
      "displayName": "Younes M",
      "userId": "11559524547576106626"
     },
     "user_tz": -120
    },
    "id": "3ioF4QRA1FEF",
    "outputId": "a42e036a-37ea-48e7-88ac-36d852fbf117"
   },
   "outputs": [],
   "source": [
    "try:\n",
    "    import google.colab\n",
    "\n",
    "    IN_COLAB = True\n",
    "except:\n",
    "    IN_COLAB = False\n",
    "\n",
    "if IN_COLAB:\n",
    "    PATH = \"./\"  # './drive/MyDrive/1_SP_Ham_func/'\n",
    "    from google.colab import drive\n",
    "\n",
    "    drive.mount(\"/content/drive\")\n",
    "\n",
    "    %cd /content/drive/MyDrive/1_SP_Ham_func/furuta_pendulum/\n",
    "    %pip install torchdiffeq\n",
    "    from src.data import *\n",
    "    from src.dynamics import *\n",
    "    from src.models import *\n",
    "    from src.train import *\n",
    "    from src.plots import *\n",
    "    from src.trajectories import *\n",
    "    from src.utils import *\n",
    "else:\n",
    "    import sys\n",
    "\n",
    "    sys.path.insert(0, \"..\")\n",
    "    import os\n",
    "\n",
    "    PATH = \"../\"\n",
    "    from src.data import *\n",
    "    from src.dynamics import *\n",
    "    from src.models import *\n",
    "    from src.train import *\n",
    "    from src.plots import *\n",
    "    from src.trajectories import *\n",
    "    from src.utils import *"
   ]
  },
  {
   "cell_type": "code",
   "execution_count": 2,
   "metadata": {
    "executionInfo": {
     "elapsed": 785,
     "status": "ok",
     "timestamp": 1654709661596,
     "user": {
      "displayName": "Younes M",
      "userId": "11559524547576106626"
     },
     "user_tz": -120
    },
    "id": "6F69c4UZ_3U_"
   },
   "outputs": [],
   "source": [
    "import matplotlib.pyplot as plt\n",
    "from matplotlib.lines import Line2D\n",
    "import seaborn as sns\n",
    "import pandas as pd\n",
    "import numpy as np\n",
    "\n",
    "from torch.utils.data import Dataset, DataLoader, random_split\n",
    "import torch\n",
    "\n",
    "from torch.optim.lr_scheduler import LinearLR\n",
    "\n",
    "from torchdiffeq import odeint_adjoint as odeint_adjoint\n",
    "\n",
    "# func must be a nn.Module when using the adjoint method\n",
    "from torchdiffeq import odeint as odeint\n",
    "\n",
    "import time as time\n",
    "import json\n",
    "import os\n",
    "\n",
    "# setting seeds\n",
    "import random"
   ]
  },
  {
   "cell_type": "code",
   "execution_count": 3,
   "metadata": {
    "executionInfo": {
     "elapsed": 4,
     "status": "ok",
     "timestamp": 1654709661596,
     "user": {
      "displayName": "Younes M",
      "userId": "11559524547576106626"
     },
     "user_tz": -120
    },
    "id": "MqUrZjjnu8Xh"
   },
   "outputs": [],
   "source": [
    "%load_ext autoreload\n",
    "%autoreload 2"
   ]
  },
  {
   "cell_type": "markdown",
   "metadata": {
    "id": "NK-tFX-vrsbt"
   },
   "source": [
    "# Training"
   ]
  },
  {
   "cell_type": "markdown",
   "metadata": {
    "id": "F18LW49JJycE"
   },
   "source": [
    "## Input-HNN"
   ]
  },
  {
   "cell_type": "markdown",
   "metadata": {
    "id": "iiND9BGk47aT"
   },
   "source": [
    "### with constant G"
   ]
  },
  {
   "cell_type": "markdown",
   "metadata": {
    "id": "Go9dIfJfbetI"
   },
   "source": [
    "#### chirp,  rescaling with clipping no horizon 10k"
   ]
  },
  {
   "cell_type": "code",
   "execution_count": 9,
   "metadata": {
    "colab": {
     "base_uri": "https://localhost:8080/"
    },
    "executionInfo": {
     "elapsed": 238,
     "status": "ok",
     "timestamp": 1654610463498,
     "user": {
      "displayName": "Younes M",
      "userId": "11559524547576106626"
     },
     "user_tz": -120
    },
    "id": "IuA4Wbavb6ks",
    "outputId": "c6d934b5-e571-4f36-be22-365ceb9fbb9d"
   },
   "outputs": [
    {
     "name": "stdout",
     "output_type": "stream",
     "text": [
      "Random Seed:  123\n",
      "cpu\n"
     ]
    }
   ],
   "source": [
    "set_all_seeds(manualSeed=123, new_results=False)\n",
    "device = set_device()  # set it to gpu if it is available\n",
    "\n",
    "# Parameters to generate the dataset\n",
    "furuta_type = \"real\"  # 'real' or 'fake'\n",
    "Ts, noise_std, C_q1, C_q2, g, Jr, Lr, Mp, Lp = set_furuta_params(which=furuta_type)\n",
    "utype = \"chirp\"  # 'chirp' or 'sine' or 'tanh' or 'multisine' or 'step' or None\n",
    "u_func = U_FUNC(utype=utype)  # instantiate the input function u(t)\n",
    "u_func.params[\"T\"] = 1.5\n",
    "u_func.params[\"f0\"] = 0\n",
    "u_func.params[\"f1\"] = 2  # 4 # 1.4\n",
    "u_func.params[\"scale\"] = 0.0001  # for fake : 0.5 or 0.1 for real : 0.0001\n",
    "gtype = \"simple\"  # 'simple' or None\n",
    "# instantiate the input function G(q,p) (here it is constant)\n",
    "g_func = G_FUNC(gtype=gtype)\n",
    "init_method = \"random_nozero\"  # 'random_nozero' # 'random_closetopi'\n",
    "time_steps = 800  # length of a trajectory\n",
    "num_trajectories = 125  # number of trajectories in total\n",
    "proportion = 0.8  # train test proportion\n",
    "batch_size = 100  # batch size used by dataloader\n",
    "w_rescale = [1, 1000, 1, 10000]  # [1, 1000, 1, 10000]  # [1, 9000, 1, 10000]\n",
    "shuffle = False  # shuffle sample in the batches between epochs\n",
    "# 'hamiltonian' or 'newtonian', newtonian if you want [q1,q1_dot,q2,q2_dot]\n",
    "coord_type = \"hamiltonian\"\n",
    "min_max_rescale = True  # rescale the training trajectories\n",
    "# which dimensions to rescale if using min_max_rescale, so that nothing is divided by zero\n",
    "rescale_dims = [1, 1, 1, 1]\n",
    "\n",
    "# Parameters for the training procedure\n",
    "resnet_config = None\n",
    "alternating = False  # for Input_HNN, if G is a neural network, train\n",
    "horizon_type = \"auto\"  # 'auto' or 'constant'\n",
    "horizon = False  # if horizon_type == 'constant', use this horizon\n",
    "loss_type = \"L2\"  # 'L2' or 'L2weighted'\n",
    "collect_grads = False  # collect gradients in all layers at every epoch\n",
    "# rescale the difference between nominal and train by the min max of train trajectory in loss function\n",
    "rescale_loss = False\n",
    "grad_clip = True  # activate gradient clipping\n",
    "lr_schedule = False  # activate lr schedule\n",
    "begin_decay = 600  # epoch at which lr starts decaying\n",
    "weights = [1.0, 1.0, 1.0, 1.0]  # weights for the loss functions\n",
    "\n",
    "horizon_list = [300]\n",
    "switch_steps = [500]\n",
    "epoch_number = sum(switch_steps)  # total number of training epochs"
   ]
  },
  {
   "cell_type": "code",
   "execution_count": 10,
   "metadata": {
    "id": "f9vRTM4hb6kt"
   },
   "outputs": [],
   "source": [
    "# generate train and test dataloader objects containing the trajectories\n",
    "train_loader, test_loader = load_data_device(\n",
    "    device,\n",
    "    init_method,\n",
    "    w_rescale,\n",
    "    u_func,\n",
    "    g_func,\n",
    "    time_steps,\n",
    "    shuffle=shuffle,\n",
    "    num_trajectories=num_trajectories,\n",
    "    coord_type=coord_type,\n",
    "    proportion=proportion,\n",
    "    batch_size=batch_size,\n",
    "    Ts=Ts,\n",
    "    noise_std=noise_std,\n",
    "    C_q1=C_q1,\n",
    "    C_q2=C_q2,\n",
    "    g=g,\n",
    "    Jr=Jr,\n",
    "    Lr=Lr,\n",
    "    Mp=Mp,\n",
    "    Lp=Lp,\n",
    "    min_max_rescale=min_max_rescale,\n",
    "    rescale_dims=rescale_dims,\n",
    ")"
   ]
  },
  {
   "cell_type": "code",
   "execution_count": 11,
   "metadata": {
    "colab": {
     "base_uri": "https://localhost:8080/"
    },
    "executionInfo": {
     "elapsed": 30,
     "status": "ok",
     "timestamp": 1654610469839,
     "user": {
      "displayName": "Younes M",
      "userId": "11559524547576106626"
     },
     "user_tz": -120
    },
    "id": "LwnHRffHb6kt",
    "outputId": "48a0b566-ba0f-4c25-83bc-800cbea331d6"
   },
   "outputs": [
    {
     "name": "stdout",
     "output_type": "stream",
     "text": [
      "Total number of epochs: 500\n",
      "H_net number of parameters : 10363\n",
      "Save file prefix :  Input_HNN_chirp_125traj_real_noise0.0_500e_p10k_Ts0.005_gradcl_nodissip_trajminmaxrescale_stdrescale_nohorizon\n",
      "horizon_list and switch_steps have the same size\n"
     ]
    }
   ],
   "source": [
    "# initialise the model that will be trained\n",
    "model_name = \"NESHDNN_resnet_conf1\"\n",
    "\n",
    "model_name = \"Input_HNN\"\n",
    "\n",
    "H_net = MLP(\n",
    "    input_dim=4, hidden_dim=70, nb_hidden_layers=2, output_dim=1, activation=\"x+sin(x)^2\"\n",
    ")\n",
    "model = Input_HNN(u_func=u_func, G_net=g_func, H_net=H_net, device=device, dissip=False)\n",
    "model.to(device)\n",
    "num_params = count_parameters(model)\n",
    "\n",
    "# create file name from parameters\n",
    "num_params = count_parameters(model)\n",
    "\n",
    "save_prefix = name_from_params(\n",
    "    Ts,\n",
    "    rescale_loss,\n",
    "    weights,\n",
    "    epoch_number,\n",
    "    num_params,\n",
    "    utype,\n",
    "    model_name,\n",
    "    num_trajectories,\n",
    "    furuta_type,\n",
    "    noise_std,\n",
    "    grad_clip,\n",
    "    lr_schedule,\n",
    "    C_q1,\n",
    "    C_q2,\n",
    "    horizon,\n",
    "    min_max_rescale,\n",
    "    w_rescale,\n",
    ")\n",
    "save_prefix = save_prefix + \"nohorizon\"\n",
    "# print some information on the training and file name\n",
    "print(\"Total number of epochs:\", epoch_number)\n",
    "print(\"H_net number of parameters :\", num_params)\n",
    "print(\"Save file prefix : \", save_prefix)\n",
    "\n",
    "# Sanity check\n",
    "is_same_size(horizon_list, switch_steps)"
   ]
  },
  {
   "cell_type": "code",
   "execution_count": 12,
   "metadata": {
    "colab": {
     "base_uri": "https://localhost:8080/",
     "height": 1000,
     "output_embedded_package_id": "1vNW0MT75IoulAGIFsagaN-nECZjR1_4Q"
    },
    "executionInfo": {
     "elapsed": 1751602,
     "status": "ok",
     "timestamp": 1654612221436,
     "user": {
      "displayName": "Younes M",
      "userId": "11559524547576106626"
     },
     "user_tz": -120
    },
    "id": "212rA55-b6kt",
    "outputId": "7b8287ec-368f-46c7-9ca3-10f2a9a4a33f"
   },
   "outputs": [
    {
     "name": "stdout",
     "output_type": "stream",
     "text": [
      "horizon length : 300\n"
     ]
    },
    {
     "data": {
      "image/png": "[encoded data removed]",
      "text/plain": [
       "<Figure size 720x360 with 4 Axes>"
      ]
     },
     "metadata": {
      "needs_background": "light"
     },
     "output_type": "display_data"
    },
    {
     "name": "stdout",
     "output_type": "stream",
     "text": [
      "plot time : 0.6473038196563721\n",
      "epoch    0 | train time 4.86 | train loss 1.195455e+00 | test loss 1.080371e+00 | test time 1.42  \n",
      "epoch    1 | train time 4.75 | train loss 1.078213e+00 \n"
     ]
    },
    {
     "ename": "KeyboardInterrupt",
     "evalue": "",
     "output_type": "error",
     "traceback": [
      "\u001b[1;31m---------------------------------------------------------------------------\u001b[0m",
      "\u001b[1;31mKeyboardInterrupt\u001b[0m                         Traceback (most recent call last)",
      "\u001b[1;32mc:\\Users\\Younes\\Documents\\GitHub\\SP-learning-hamiltonian-functions-from-data\\furuta_pendulum\\notebooks\\fp-InputHNN.ipynb Cell 13\u001b[0m in \u001b[0;36m<module>\u001b[1;34m\u001b[0m\n\u001b[1;32m----> <a href='vscode-notebook-cell:/c%3A/Users/Younes/Documents/GitHub/SP-learning-hamiltonian-functions-from-data/furuta_pendulum/notebooks/fp-InputHNN.ipynb#X15sZmlsZQ%3D%3D?line=0'>1</a>\u001b[0m stats \u001b[39m=\u001b[39m train(\n\u001b[0;32m      <a href='vscode-notebook-cell:/c%3A/Users/Younes/Documents/GitHub/SP-learning-hamiltonian-functions-from-data/furuta_pendulum/notebooks/fp-InputHNN.ipynb#X15sZmlsZQ%3D%3D?line=1'>2</a>\u001b[0m     device\u001b[39m=\u001b[39;49mdevice,\n\u001b[0;32m      <a href='vscode-notebook-cell:/c%3A/Users/Younes/Documents/GitHub/SP-learning-hamiltonian-functions-from-data/furuta_pendulum/notebooks/fp-InputHNN.ipynb#X15sZmlsZQ%3D%3D?line=2'>3</a>\u001b[0m     model\u001b[39m=\u001b[39;49mmodel,\n\u001b[0;32m      <a href='vscode-notebook-cell:/c%3A/Users/Younes/Documents/GitHub/SP-learning-hamiltonian-functions-from-data/furuta_pendulum/notebooks/fp-InputHNN.ipynb#X15sZmlsZQ%3D%3D?line=3'>4</a>\u001b[0m     Ts\u001b[39m=\u001b[39;49mTs,\n\u001b[0;32m      <a href='vscode-notebook-cell:/c%3A/Users/Younes/Documents/GitHub/SP-learning-hamiltonian-functions-from-data/furuta_pendulum/notebooks/fp-InputHNN.ipynb#X15sZmlsZQ%3D%3D?line=4'>5</a>\u001b[0m     train_loader\u001b[39m=\u001b[39;49mtrain_loader,\n\u001b[0;32m      <a href='vscode-notebook-cell:/c%3A/Users/Younes/Documents/GitHub/SP-learning-hamiltonian-functions-from-data/furuta_pendulum/notebooks/fp-InputHNN.ipynb#X15sZmlsZQ%3D%3D?line=5'>6</a>\u001b[0m     test_loader\u001b[39m=\u001b[39;49mtest_loader,\n\u001b[0;32m      <a href='vscode-notebook-cell:/c%3A/Users/Younes/Documents/GitHub/SP-learning-hamiltonian-functions-from-data/furuta_pendulum/notebooks/fp-InputHNN.ipynb#X15sZmlsZQ%3D%3D?line=6'>7</a>\u001b[0m     w\u001b[39m=\u001b[39;49mtorch\u001b[39m.\u001b[39;49mtensor(weights, device\u001b[39m=\u001b[39;49mdevice),\n\u001b[0;32m      <a href='vscode-notebook-cell:/c%3A/Users/Younes/Documents/GitHub/SP-learning-hamiltonian-functions-from-data/furuta_pendulum/notebooks/fp-InputHNN.ipynb#X15sZmlsZQ%3D%3D?line=7'>8</a>\u001b[0m     grad_clip\u001b[39m=\u001b[39;49mgrad_clip,\n\u001b[0;32m      <a href='vscode-notebook-cell:/c%3A/Users/Younes/Documents/GitHub/SP-learning-hamiltonian-functions-from-data/furuta_pendulum/notebooks/fp-InputHNN.ipynb#X15sZmlsZQ%3D%3D?line=8'>9</a>\u001b[0m     lr_schedule\u001b[39m=\u001b[39;49mlr_schedule,\n\u001b[0;32m     <a href='vscode-notebook-cell:/c%3A/Users/Younes/Documents/GitHub/SP-learning-hamiltonian-functions-from-data/furuta_pendulum/notebooks/fp-InputHNN.ipynb#X15sZmlsZQ%3D%3D?line=9'>10</a>\u001b[0m     begin_decay\u001b[39m=\u001b[39;49mbegin_decay,\n\u001b[0;32m     <a href='vscode-notebook-cell:/c%3A/Users/Younes/Documents/GitHub/SP-learning-hamiltonian-functions-from-data/furuta_pendulum/notebooks/fp-InputHNN.ipynb#X15sZmlsZQ%3D%3D?line=10'>11</a>\u001b[0m     resnet_config\u001b[39m=\u001b[39;49mresnet_config,\n\u001b[0;32m     <a href='vscode-notebook-cell:/c%3A/Users/Younes/Documents/GitHub/SP-learning-hamiltonian-functions-from-data/furuta_pendulum/notebooks/fp-InputHNN.ipynb#X15sZmlsZQ%3D%3D?line=11'>12</a>\u001b[0m     \n\u001b[0;32m     <a href='vscode-notebook-cell:/c%3A/Users/Younes/Documents/GitHub/SP-learning-hamiltonian-functions-from-data/furuta_pendulum/notebooks/fp-InputHNN.ipynb#X15sZmlsZQ%3D%3D?line=12'>13</a>\u001b[0m     alternating\u001b[39m=\u001b[39;49malternating,\n\u001b[0;32m     <a href='vscode-notebook-cell:/c%3A/Users/Younes/Documents/GitHub/SP-learning-hamiltonian-functions-from-data/furuta_pendulum/notebooks/fp-InputHNN.ipynb#X15sZmlsZQ%3D%3D?line=13'>14</a>\u001b[0m     horizon\u001b[39m=\u001b[39;49mhorizon,\n\u001b[0;32m     <a href='vscode-notebook-cell:/c%3A/Users/Younes/Documents/GitHub/SP-learning-hamiltonian-functions-from-data/furuta_pendulum/notebooks/fp-InputHNN.ipynb#X15sZmlsZQ%3D%3D?line=14'>15</a>\u001b[0m     horizon_type\u001b[39m=\u001b[39;49mhorizon_type,\n\u001b[0;32m     <a href='vscode-notebook-cell:/c%3A/Users/Younes/Documents/GitHub/SP-learning-hamiltonian-functions-from-data/furuta_pendulum/notebooks/fp-InputHNN.ipynb#X15sZmlsZQ%3D%3D?line=15'>16</a>\u001b[0m     horizon_list\u001b[39m=\u001b[39;49mhorizon_list,\n\u001b[0;32m     <a href='vscode-notebook-cell:/c%3A/Users/Younes/Documents/GitHub/SP-learning-hamiltonian-functions-from-data/furuta_pendulum/notebooks/fp-InputHNN.ipynb#X15sZmlsZQ%3D%3D?line=16'>17</a>\u001b[0m     switch_steps\u001b[39m=\u001b[39;49mswitch_steps,\n\u001b[0;32m     <a href='vscode-notebook-cell:/c%3A/Users/Younes/Documents/GitHub/SP-learning-hamiltonian-functions-from-data/furuta_pendulum/notebooks/fp-InputHNN.ipynb#X15sZmlsZQ%3D%3D?line=17'>18</a>\u001b[0m     epochs\u001b[39m=\u001b[39;49mepoch_number,\n\u001b[0;32m     <a href='vscode-notebook-cell:/c%3A/Users/Younes/Documents/GitHub/SP-learning-hamiltonian-functions-from-data/furuta_pendulum/notebooks/fp-InputHNN.ipynb#X15sZmlsZQ%3D%3D?line=18'>19</a>\u001b[0m     loss_type\u001b[39m=\u001b[39;49mloss_type,\n\u001b[0;32m     <a href='vscode-notebook-cell:/c%3A/Users/Younes/Documents/GitHub/SP-learning-hamiltonian-functions-from-data/furuta_pendulum/notebooks/fp-InputHNN.ipynb#X15sZmlsZQ%3D%3D?line=19'>20</a>\u001b[0m     collect_grads\u001b[39m=\u001b[39;49mcollect_grads,\n\u001b[0;32m     <a href='vscode-notebook-cell:/c%3A/Users/Younes/Documents/GitHub/SP-learning-hamiltonian-functions-from-data/furuta_pendulum/notebooks/fp-InputHNN.ipynb#X15sZmlsZQ%3D%3D?line=20'>21</a>\u001b[0m     rescale_loss\u001b[39m=\u001b[39;49mrescale_loss,\n\u001b[0;32m     <a href='vscode-notebook-cell:/c%3A/Users/Younes/Documents/GitHub/SP-learning-hamiltonian-functions-from-data/furuta_pendulum/notebooks/fp-InputHNN.ipynb#X15sZmlsZQ%3D%3D?line=21'>22</a>\u001b[0m     rescale_dims\u001b[39m=\u001b[39;49mrescale_dims,\n\u001b[0;32m     <a href='vscode-notebook-cell:/c%3A/Users/Younes/Documents/GitHub/SP-learning-hamiltonian-functions-from-data/furuta_pendulum/notebooks/fp-InputHNN.ipynb#X15sZmlsZQ%3D%3D?line=22'>23</a>\u001b[0m )\n",
      "File \u001b[1;32mc:\\Users\\Younes\\Documents\\GitHub\\SP-learning-hamiltonian-functions-from-data\\furuta_pendulum\\notebooks\\..\\src\\train.py:163\u001b[0m, in \u001b[0;36mtrain\u001b[1;34m(device, model, Ts, train_loader, test_loader, w, grad_clip, lr_schedule, begin_decay, resnet_config, alternating, horizon, horizon_type, horizon_list, switch_steps, epochs, loss_type, collect_grads, rescale_loss, rescale_dims)\u001b[0m\n\u001b[0;32m    159\u001b[0m     \u001b[39mprint\u001b[39m(\u001b[39m\"\u001b[39m\u001b[39mplot time :\u001b[39m\u001b[39m\"\u001b[39m, time\u001b[39m.\u001b[39mtime() \u001b[39m-\u001b[39m t_plot)\n\u001b[0;32m    161\u001b[0m train_loss \u001b[39m=\u001b[39m train_loss \u001b[39m+\u001b[39m train_loss_mini\u001b[39m.\u001b[39mitem()\n\u001b[1;32m--> 163\u001b[0m train_loss_mini\u001b[39m.\u001b[39;49mbackward()\n\u001b[0;32m    164\u001b[0m \u001b[39mif\u001b[39;00m collect_grads:\n\u001b[0;32m    165\u001b[0m     layer_names, all_grads_preclip \u001b[39m=\u001b[39m collect_gradients(\n\u001b[0;32m    166\u001b[0m         model\u001b[39m.\u001b[39mnamed_parameters()\n\u001b[0;32m    167\u001b[0m     )\n",
      "File \u001b[1;32mc:\\ProgramData\\Anaconda3\\envs\\pds\\lib\\site-packages\\torch\\_tensor.py:307\u001b[0m, in \u001b[0;36mTensor.backward\u001b[1;34m(self, gradient, retain_graph, create_graph, inputs)\u001b[0m\n\u001b[0;32m    298\u001b[0m \u001b[39mif\u001b[39;00m has_torch_function_unary(\u001b[39mself\u001b[39m):\n\u001b[0;32m    299\u001b[0m     \u001b[39mreturn\u001b[39;00m handle_torch_function(\n\u001b[0;32m    300\u001b[0m         Tensor\u001b[39m.\u001b[39mbackward,\n\u001b[0;32m    301\u001b[0m         (\u001b[39mself\u001b[39m,),\n\u001b[1;32m   (...)\u001b[0m\n\u001b[0;32m    305\u001b[0m         create_graph\u001b[39m=\u001b[39mcreate_graph,\n\u001b[0;32m    306\u001b[0m         inputs\u001b[39m=\u001b[39minputs)\n\u001b[1;32m--> 307\u001b[0m torch\u001b[39m.\u001b[39;49mautograd\u001b[39m.\u001b[39;49mbackward(\u001b[39mself\u001b[39;49m, gradient, retain_graph, create_graph, inputs\u001b[39m=\u001b[39;49minputs)\n",
      "File \u001b[1;32mc:\\ProgramData\\Anaconda3\\envs\\pds\\lib\\site-packages\\torch\\autograd\\__init__.py:154\u001b[0m, in \u001b[0;36mbackward\u001b[1;34m(tensors, grad_tensors, retain_graph, create_graph, grad_variables, inputs)\u001b[0m\n\u001b[0;32m    151\u001b[0m \u001b[39mif\u001b[39;00m retain_graph \u001b[39mis\u001b[39;00m \u001b[39mNone\u001b[39;00m:\n\u001b[0;32m    152\u001b[0m     retain_graph \u001b[39m=\u001b[39m create_graph\n\u001b[1;32m--> 154\u001b[0m Variable\u001b[39m.\u001b[39;49m_execution_engine\u001b[39m.\u001b[39;49mrun_backward(\n\u001b[0;32m    155\u001b[0m     tensors, grad_tensors_, retain_graph, create_graph, inputs,\n\u001b[0;32m    156\u001b[0m     allow_unreachable\u001b[39m=\u001b[39;49m\u001b[39mTrue\u001b[39;49;00m, accumulate_grad\u001b[39m=\u001b[39;49m\u001b[39mTrue\u001b[39;49;00m)\n",
      "\u001b[1;31mKeyboardInterrupt\u001b[0m: "
     ]
    }
   ],
   "source": [
    "stats = train(\n",
    "    device=device,\n",
    "    model=model,\n",
    "    Ts=Ts,\n",
    "    train_loader=train_loader,\n",
    "    test_loader=test_loader,\n",
    "    w=torch.tensor(weights, device=device),\n",
    "    grad_clip=grad_clip,\n",
    "    lr_schedule=lr_schedule,\n",
    "    begin_decay=begin_decay,\n",
    "    resnet_config=resnet_config,\n",
    "    \n",
    "    alternating=alternating,\n",
    "    horizon=horizon,\n",
    "    horizon_type=horizon_type,\n",
    "    horizon_list=horizon_list,\n",
    "    switch_steps=switch_steps,\n",
    "    epochs=epoch_number,\n",
    "    loss_type=loss_type,\n",
    "    collect_grads=collect_grads,\n",
    "    rescale_loss=rescale_loss,\n",
    "    rescale_dims=rescale_dims,\n",
    ")"
   ]
  },
  {
   "cell_type": "code",
   "execution_count": null,
   "metadata": {
    "id": "rKAm_HyQb6ku"
   },
   "outputs": [],
   "source": [
    "if collect_grads:\n",
    "    plot_grads(stats)"
   ]
  },
  {
   "cell_type": "code",
   "execution_count": null,
   "metadata": {
    "id": "8UO3HQcsb6ku"
   },
   "outputs": [],
   "source": [
    "# set all paths and create folders :\n",
    "model_path = PATH + \"data/\" + save_prefix + \"/\"\n",
    "stats_path = PATH + \"data/\" + save_prefix + \"/\"\n",
    "plot_path = PATH + \"data/\" + save_prefix + \"/img/\"\n",
    "train_loader_path = PATH + \"data/\" + save_prefix + \"/datasets/\"\n",
    "test_loader_path = PATH + \"data/\" + save_prefix + \"/datasets/\"\n",
    "os.makedirs(model_path, exist_ok=True)\n",
    "os.makedirs(stats_path, exist_ok=True)\n",
    "os.makedirs(plot_path, exist_ok=True)\n",
    "os.makedirs(train_loader_path, exist_ok=True)\n",
    "os.makedirs(test_loader_path, exist_ok=True)"
   ]
  },
  {
   "cell_type": "code",
   "execution_count": null,
   "metadata": {
    "id": "t8Mrtud5b6ku"
   },
   "outputs": [],
   "source": [
    "torch.save(train_loader, train_loader_path + \"train_loader.pt\")\n",
    "if test_loader is not None:\n",
    "    torch.save(test_loader, test_loader_path + \"test_loader.pt\")\n",
    "\n",
    "# save model to disk\n",
    "torch.save(model.state_dict(), model_path + \"model\")\n",
    "\n",
    "# save the stats\n",
    "save_stats(stats, stats_path + \"stats.txt\")"
   ]
  },
  {
   "cell_type": "code",
   "execution_count": null,
   "metadata": {
    "id": "O4bsITsdb6ku"
   },
   "outputs": [],
   "source": [
    "# train_loader = torch.load(train_loader_path)\n",
    "# test_loader = torch.load(test_loader_path)\n",
    "# # loads the stats\n",
    "# stats = read_dict(PATH, stats_path)\n",
    "# # load the model from disk\n",
    "# model.load_state_dict(torch.load(PATH+model_path))\n",
    "# model.eval()"
   ]
  },
  {
   "cell_type": "code",
   "execution_count": null,
   "metadata": {
    "colab": {
     "base_uri": "https://localhost:8080/",
     "height": 573
    },
    "executionInfo": {
     "elapsed": 2954,
     "status": "ok",
     "timestamp": 1654612224379,
     "user": {
      "displayName": "Younes M",
      "userId": "11559524547576106626"
     },
     "user_tz": -120
    },
    "id": "w-79tuyBb6ku",
    "outputId": "f08df570-0f27-4171-cbc3-ecd589aca56d"
   },
   "outputs": [],
   "source": [
    "loss_train = stats[\"train_loss\"]\n",
    "loss_test = stats[\"test_loss\"]\n",
    "epochs = np.arange(len(loss_train))\n",
    "train_test_loss_plot(\n",
    "    loss_train,\n",
    "    loss_test,\n",
    "    epochs,\n",
    "    file_path=plot_path + \"/LOSS_train_test.png\",\n",
    "    title=\"train and test loss per epoch\",\n",
    "    horizons=False,\n",
    "    switch_steps=switch_steps,\n",
    ")\n",
    "\n",
    "train_test_loss_plot(\n",
    "    loss_train,\n",
    "    loss_test,\n",
    "    epochs,\n",
    "    file_path=plot_path + \"/LOSS_train_test_warrows.png\",\n",
    "    title=\"train and test loss per epoch\",\n",
    "    horizons=horizon_list[:-1],\n",
    "    switch_steps=switch_steps,\n",
    ")"
   ]
  },
  {
   "cell_type": "code",
   "execution_count": null,
   "metadata": {
    "colab": {
     "base_uri": "https://localhost:8080/",
     "height": 1000
    },
    "executionInfo": {
     "elapsed": 49002,
     "status": "ok",
     "timestamp": 1654612273371,
     "user": {
      "displayName": "Younes M",
      "userId": "11559524547576106626"
     },
     "user_tz": -120
    },
    "id": "B9pa5Asub6ku",
    "outputId": "71b4f2dc-f772-4bc3-8393-b901cc64d437"
   },
   "outputs": [],
   "source": [
    "# show train and prediction\n",
    "for n in [0, 5, 10, 19]:\n",
    "    plot_furuta_hat_nom(\n",
    "        device,\n",
    "        model,\n",
    "        u_func,\n",
    "        g_func,\n",
    "        utype,\n",
    "        gtype,\n",
    "        data_loader_t=train_loader,\n",
    "        t_max=horizon_list[-1],\n",
    "        n=n,\n",
    "        C_q1=C_q1,\n",
    "        C_q2=C_q2,\n",
    "        g=g,\n",
    "        Jr=Jr,\n",
    "        Lr=Lr,\n",
    "        Mp=Mp,\n",
    "        Lp=Lp,\n",
    "        t_plot=time_steps,\n",
    "        show_pred=True,\n",
    "        H_or_Input=\"input\",\n",
    "        title=\"Train set trajectories\",\n",
    "        file_path=plot_path + \"/TRAJECTORIES_train_set\" + str(n) + \".png\",\n",
    "        w_rescale=w_rescale,\n",
    "    )"
   ]
  },
  {
   "cell_type": "code",
   "execution_count": null,
   "metadata": {
    "colab": {
     "base_uri": "https://localhost:8080/",
     "height": 905
    },
    "executionInfo": {
     "elapsed": 16677,
     "status": "ok",
     "timestamp": 1654612290042,
     "user": {
      "displayName": "Younes M",
      "userId": "11559524547576106626"
     },
     "user_tz": -120
    },
    "id": "WpnhOPwBb6kv",
    "outputId": "09137ba5-ece1-40a7-88cd-fed60b62e67d"
   },
   "outputs": [],
   "source": [
    "# show only training portion\n",
    "for n in [0, 50, 70]:\n",
    "    plot_furuta_hat_nom(\n",
    "        device,\n",
    "        model,\n",
    "        u_func,\n",
    "        g_func,\n",
    "        utype,\n",
    "        gtype,\n",
    "        data_loader_t=train_loader,\n",
    "        t_max=horizon_list[-1],\n",
    "        n=n,\n",
    "        C_q1=C_q1,\n",
    "        C_q2=C_q2,\n",
    "        g=g,\n",
    "        Jr=Jr,\n",
    "        Lr=Lr,\n",
    "        Mp=Mp,\n",
    "        Lp=Lp,\n",
    "        t_plot=horizon_list[-1],\n",
    "        show_pred=False,\n",
    "        title=\"Train set trajectories\",\n",
    "        file_path=plot_path + \"/TRAJECTORIES_train_set\" + str(n) + \".nopred_png\",\n",
    "        w_rescale=w_rescale,\n",
    "    )"
   ]
  },
  {
   "cell_type": "code",
   "execution_count": null,
   "metadata": {
    "colab": {
     "base_uri": "https://localhost:8080/",
     "height": 1000
    },
    "executionInfo": {
     "elapsed": 33696,
     "status": "ok",
     "timestamp": 1654612323699,
     "user": {
      "displayName": "Younes M",
      "userId": "11559524547576106626"
     },
     "user_tz": -120
    },
    "id": "E3i7nr0kb6kv",
    "outputId": "1693901f-d937-4c2a-baca-6b26cd97df28"
   },
   "outputs": [],
   "source": [
    "# show test and prediction\n",
    "for n in [0, 5, 10, 19]:\n",
    "    plot_furuta_hat_nom(\n",
    "        device,\n",
    "        model,\n",
    "        u_func,\n",
    "        g_func,\n",
    "        utype,\n",
    "        gtype,\n",
    "        data_loader_t=test_loader,\n",
    "        t_max=horizon_list[-1],\n",
    "        n=n,\n",
    "        C_q1=C_q1,\n",
    "        C_q2=C_q2,\n",
    "        g=g,\n",
    "        Jr=Jr,\n",
    "        Lr=Lr,\n",
    "        Mp=Mp,\n",
    "        Lp=Lp,\n",
    "        t_plot=time_steps,\n",
    "        show_pred=True,\n",
    "        H_or_Input=\"input\",\n",
    "        title=\"Test set trajectories\",\n",
    "        file_path=plot_path + \"/TRAJECTORIES_Test_set\" + str(n) + \".png\",\n",
    "        w_rescale=w_rescale,\n",
    "    )"
   ]
  },
  {
   "cell_type": "code",
   "execution_count": null,
   "metadata": {
    "id": "zgANMCmcb6kv"
   },
   "outputs": [],
   "source": [
    "utype = None  # 'chirp' or 'sine' or 'tanh' or 'multisine' or 'step' or None\n",
    "u_func = U_FUNC(utype=utype)  # instantiate the input function u(t)\n",
    "gtype = None  # 'simple' or None\n",
    "# instantiate the input function G(q,p) (here it is constant)\n",
    "g_func = G_FUNC(gtype=gtype)\n",
    "init_method = \"random_nozero\"  # 'random_nozero' # 'random_closetopi'\n",
    "time_steps = 800  # length of a trajectory\n",
    "num_trajectories = 25  # number of trajectories in total\n",
    "proportion = 0.0  # train test proportion\n",
    "batch_size = 100  # batch size used by dataloader\n",
    "w_rescale = [\n",
    "    1,\n",
    "    1,\n",
    "    1,\n",
    "    1,\n",
    "]  # [1, 1000, 1, 10000]  # [1, 1000, 1, 10000]  # [1, 9000, 1, 10000]\n",
    "shuffle = False  # shuffle sample in the batches between epochs\n",
    "# 'hamiltonian' or 'newtonian', newtonian if you want [q1,q1_dot,q2,q2_dot]\n",
    "coord_type = \"hamiltonian\"\n",
    "min_max_rescale = True  # rescale the training trajectories\n",
    "# which dimensions to rescale if using min_max_rescale, so that nothing is divided by zero\n",
    "rescale_dims = [1, 1, 1, 0]\n",
    "\n",
    "# generate train and test dataloader objects containing the trajectories\n",
    "train_loader_2, test_loader_2 = load_data_device(\n",
    "    device,\n",
    "    init_method,\n",
    "    w_rescale,\n",
    "    u_func,\n",
    "    g_func,\n",
    "    time_steps,\n",
    "    shuffle=shuffle,\n",
    "    num_trajectories=num_trajectories,\n",
    "    coord_type=coord_type,\n",
    "    proportion=proportion,\n",
    "    batch_size=batch_size,\n",
    "    Ts=Ts,\n",
    "    noise_std=noise_std,\n",
    "    C_q1=C_q1,\n",
    "    C_q2=C_q2,\n",
    "    g=g,\n",
    "    Jr=Jr,\n",
    "    Lr=Lr,\n",
    "    Mp=Mp,\n",
    "    Lp=Lp,\n",
    "    min_max_rescale=min_max_rescale,\n",
    "    rescale_dims=rescale_dims,\n",
    ")"
   ]
  },
  {
   "cell_type": "code",
   "execution_count": null,
   "metadata": {
    "colab": {
     "base_uri": "https://localhost:8080/",
     "height": 1000
    },
    "executionInfo": {
     "elapsed": 32896,
     "status": "ok",
     "timestamp": 1654612360590,
     "user": {
      "displayName": "Younes M",
      "userId": "11559524547576106626"
     },
     "user_tz": -120
    },
    "id": "P_eo4_O1b6kv",
    "outputId": "c73cede0-c024-47d8-9345-48fed0232fa3"
   },
   "outputs": [],
   "source": [
    "# show test and prediction\n",
    "title = \"test set trajectories | no input\"\n",
    "for n in [0, 5, 10, 19]:\n",
    "    plot_furuta_hat_nom(\n",
    "        device,\n",
    "        model,\n",
    "        u_func,\n",
    "        g_func,\n",
    "        utype,\n",
    "        gtype,\n",
    "        data_loader_t=train_loader_2,\n",
    "        t_max=time_steps,\n",
    "        n=n,\n",
    "        C_q1=C_q1,\n",
    "        C_q2=C_q2,\n",
    "        g=g,\n",
    "        Jr=Jr,\n",
    "        Lr=Lr,\n",
    "        Mp=Mp,\n",
    "        Lp=Lp,\n",
    "        t_plot=time_steps,\n",
    "        only_pred=True,\n",
    "        show_pred=True,\n",
    "        H_or_Input=\"input\",\n",
    "        title=title,\n",
    "        file_path=plot_path + \"/TRAJECTORIES_train_set\" + str(n) + \"noinput.png\",\n",
    "        w_rescale=w_rescale,\n",
    "    )"
   ]
  },
  {
   "cell_type": "code",
   "execution_count": null,
   "metadata": {
    "id": "DFYzexQDb6kv"
   },
   "outputs": [],
   "source": [
    "utype = \"sine\"  # 'chirp' or 'sine' or 'tanh' or 'multisine' or 'step' or None\n",
    "u_func = U_FUNC(utype=utype)  # instantiate the input function u(t)\n",
    "u_func.params[\"T\"] = 1.5\n",
    "u_func.params[\"f0\"] = 0\n",
    "u_func.params[\"f1\"] = 1  # 4 # 1.4\n",
    "u_func.params[\"scale\"] = 0.0001  # for fake : 0.5 or 0.1 for real : 0.0001\n",
    "gtype = \"simple\"  # 'simple' or None\n",
    "# instantiate the input function G(q,p) (here it is constant)\n",
    "g_func = G_FUNC(gtype=gtype)\n",
    "init_method = \"random_nozero\"  # 'random_nozero' # 'random_closetopi'\n",
    "time_steps = 800  # length of a trajectory\n",
    "num_trajectories = 25  # number of trajectories in total\n",
    "proportion = 0.8  # train test proportion\n",
    "batch_size = 100  # batch size used by dataloader\n",
    "# [1, 1000, 1, 10000]  # [1, 1000, 1, 10000]  # [1, 9000, 1, 10000]\n",
    "w_rescale = [1, 1, 1, 1]\n",
    "shuffle = False  # shuffle sample in the batches between epochs\n",
    "# 'hamiltonian' or 'newtonian', newtonian if you want [q1,q1_dot,q2,q2_dot]\n",
    "coord_type = \"hamiltonian\"\n",
    "min_max_rescale = True  # rescale the training trajectories\n",
    "# which dimensions to rescale if using min_max_rescale, so that nothing is divided by zero\n",
    "rescale_dims = [1, 1, 1, 1]\n",
    "\n",
    "# generate train and test dataloader objects containing the trajectories\n",
    "train_loader_3, test_loader_3 = load_data_device(\n",
    "    device,\n",
    "    init_method,\n",
    "    w_rescale,\n",
    "    u_func,\n",
    "    g_func,\n",
    "    time_steps,\n",
    "    shuffle=shuffle,\n",
    "    num_trajectories=num_trajectories,\n",
    "    coord_type=coord_type,\n",
    "    proportion=proportion,\n",
    "    batch_size=batch_size,\n",
    "    Ts=Ts,\n",
    "    noise_std=noise_std,\n",
    "    C_q1=C_q1,\n",
    "    C_q2=C_q2,\n",
    "    g=g,\n",
    "    Jr=Jr,\n",
    "    Lr=Lr,\n",
    "    Mp=Mp,\n",
    "    Lp=Lp,\n",
    "    min_max_rescale=min_max_rescale,\n",
    "    rescale_dims=rescale_dims,\n",
    ")"
   ]
  },
  {
   "cell_type": "code",
   "execution_count": null,
   "metadata": {
    "colab": {
     "base_uri": "https://localhost:8080/",
     "height": 1000
    },
    "executionInfo": {
     "elapsed": 32418,
     "status": "ok",
     "timestamp": 1654612396193,
     "user": {
      "displayName": "Younes M",
      "userId": "11559524547576106626"
     },
     "user_tz": -120
    },
    "id": "pOjDC1vIb6kw",
    "outputId": "210b1982-c598-4782-971f-bcc6b2d71b45"
   },
   "outputs": [],
   "source": [
    "# show test and prediction\n",
    "title = \"test set trajectories | 1hz sine input\"\n",
    "for n in [0, 5, 10, 19]:\n",
    "    plot_furuta_hat_nom(\n",
    "        device,\n",
    "        model,\n",
    "        u_func,\n",
    "        g_func,\n",
    "        utype,\n",
    "        gtype,\n",
    "        data_loader_t=train_loader_3,\n",
    "        t_max=time_steps,\n",
    "        n=n,\n",
    "        C_q1=C_q1,\n",
    "        C_q2=C_q2,\n",
    "        g=g,\n",
    "        Jr=Jr,\n",
    "        Lr=Lr,\n",
    "        Mp=Mp,\n",
    "        Lp=Lp,\n",
    "        t_plot=time_steps,\n",
    "        only_pred=True,\n",
    "        show_pred=True,\n",
    "        H_or_Input=\"input\",\n",
    "        title=title,\n",
    "        file_path=plot_path + \"/TRAJECTORIES_train_set\" + str(n) + \"1hzsine.png\",\n",
    "        w_rescale=w_rescale,\n",
    "    )"
   ]
  },
  {
   "cell_type": "code",
   "execution_count": null,
   "metadata": {
    "colab": {
     "base_uri": "https://localhost:8080/",
     "height": 1000
    },
    "executionInfo": {
     "elapsed": 38712,
     "status": "ok",
     "timestamp": 1654612434893,
     "user": {
      "displayName": "Younes M",
      "userId": "11559524547576106626"
     },
     "user_tz": -120
    },
    "id": "WbJNxma2b6kw",
    "outputId": "879fa98f-3165-492f-d07d-99631ec8ca71"
   },
   "outputs": [],
   "source": [
    "utype = \"sine\"  # 'chirp' or 'sine' or 'tanh' or 'multisine' or 'step' or None\n",
    "u_func = U_FUNC(utype=utype)  # instantiate the input function u(t)\n",
    "u_func.params[\"T\"] = 1.5\n",
    "u_func.params[\"f0\"] = 0\n",
    "u_func.params[\"f1\"] = 2  # 4 # 1.4\n",
    "u_func.params[\"scale\"] = 0.0001  # for fake : 0.5 or 0.1 for real : 0.0001\n",
    "gtype = \"simple\"  # 'simple' or None\n",
    "# instantiate the input function G(q,p) (here it is constant)\n",
    "g_func = G_FUNC(gtype=gtype)\n",
    "init_method = \"random_nozero\"  # 'random_nozero' # 'random_closetopi'\n",
    "time_steps = 800  # length of a trajectory\n",
    "num_trajectories = 25  # number of trajectories in total\n",
    "proportion = 0.0  # train test proportion\n",
    "batch_size = 100  # batch size used by dataloader\n",
    "w_rescale = [\n",
    "    1,\n",
    "    1,\n",
    "    1,\n",
    "    1,\n",
    "]  # [1, 1000, 1, 10000]  # [1, 1000, 1, 10000]  # [1, 9000, 1, 10000]\n",
    "shuffle = False  # shuffle sample in the batches between epochs\n",
    "# 'hamiltonian' or 'newtonian', newtonian if you want [q1,q1_dot,q2,q2_dot]\n",
    "coord_type = \"hamiltonian\"\n",
    "min_max_rescale = True  # rescale the training trajectories\n",
    "# which dimensions to rescale if using min_max_rescale, so that nothing is divided by zero\n",
    "rescale_dims = [1, 1, 1, 1]\n",
    "\n",
    "# generate train and test dataloader objects containing the trajectories\n",
    "train_loader_4, test_loader_4 = load_data_device(\n",
    "    device,\n",
    "    init_method,\n",
    "    w_rescale,\n",
    "    u_func,\n",
    "    g_func,\n",
    "    time_steps,\n",
    "    shuffle=shuffle,\n",
    "    num_trajectories=num_trajectories,\n",
    "    coord_type=coord_type,\n",
    "    proportion=proportion,\n",
    "    batch_size=batch_size,\n",
    "    Ts=Ts,\n",
    "    noise_std=noise_std,\n",
    "    C_q1=C_q1,\n",
    "    C_q2=C_q2,\n",
    "    g=g,\n",
    "    Jr=Jr,\n",
    "    Lr=Lr,\n",
    "    Mp=Mp,\n",
    "    Lp=Lp,\n",
    "    min_max_rescale=min_max_rescale,\n",
    "    rescale_dims=rescale_dims,\n",
    ")\n",
    "# show test and prediction\n",
    "title = \"test set trajectories | 2hz sine input\"\n",
    "for n in [0, 5, 10, 19]:\n",
    "    plot_furuta_hat_nom(\n",
    "        device,\n",
    "        model,\n",
    "        u_func,\n",
    "        g_func,\n",
    "        utype,\n",
    "        gtype,\n",
    "        data_loader_t=train_loader_4,\n",
    "        t_max=time_steps,\n",
    "        n=n,\n",
    "        C_q1=C_q1,\n",
    "        C_q2=C_q2,\n",
    "        g=g,\n",
    "        Jr=Jr,\n",
    "        Lr=Lr,\n",
    "        Mp=Mp,\n",
    "        Lp=Lp,\n",
    "        t_plot=time_steps,\n",
    "        only_pred=True,\n",
    "        show_pred=True,\n",
    "        H_or_Input=\"input\",\n",
    "        title=title,\n",
    "        file_path=plot_path + \"/TRAJECTORIES_test_set\" + str(n) + \"2hzsine.png\",\n",
    "        w_rescale=w_rescale,\n",
    "    )"
   ]
  },
  {
   "cell_type": "markdown",
   "metadata": {
    "id": "I_283-PrbxUG"
   },
   "source": [
    "#### chirp,  rescaling with clipping no horizon 33k"
   ]
  },
  {
   "cell_type": "code",
   "execution_count": null,
   "metadata": {
    "colab": {
     "base_uri": "https://localhost:8080/"
    },
    "executionInfo": {
     "elapsed": 45,
     "status": "ok",
     "timestamp": 1654612434894,
     "user": {
      "displayName": "Younes M",
      "userId": "11559524547576106626"
     },
     "user_tz": -120
    },
    "id": "avYKcE_odkr0",
    "outputId": "76e5c10d-3bb1-44a7-806d-8accafe46e7a"
   },
   "outputs": [],
   "source": [
    "set_all_seeds(manualSeed=123, new_results=False)\n",
    "device = set_device()  # set it to gpu if it is available\n",
    "\n",
    "# Parameters to generate the dataset\n",
    "furuta_type = \"real\"  # 'real' or 'fake'\n",
    "Ts, noise_std, C_q1, C_q2, g, Jr, Lr, Mp, Lp = set_furuta_params(which=furuta_type)\n",
    "utype = \"chirp\"  # 'chirp' or 'sine' or 'tanh' or 'multisine' or 'step' or None\n",
    "u_func = U_FUNC(utype=utype)  # instantiate the input function u(t)\n",
    "u_func.params[\"T\"] = 1.5\n",
    "u_func.params[\"f0\"] = 0\n",
    "u_func.params[\"f1\"] = 2  # 4 # 1.4\n",
    "u_func.params[\"scale\"] = 0.0001  # for fake : 0.5 or 0.1 for real : 0.0001\n",
    "gtype = \"simple\"  # 'simple' or None\n",
    "# instantiate the input function G(q,p) (here it is constant)\n",
    "g_func = G_FUNC(gtype=gtype)\n",
    "init_method = \"random_nozero\"  # 'random_nozero' # 'random_closetopi'\n",
    "time_steps = 800  # length of a trajectory\n",
    "num_trajectories = 125  # number of trajectories in total\n",
    "proportion = 0.8  # train test proportion\n",
    "batch_size = 100  # batch size used by dataloader\n",
    "w_rescale = [1, 1000, 1, 10000]  # [1, 1000, 1, 10000]  # [1, 9000, 1, 10000]\n",
    "shuffle = False  # shuffle sample in the batches between epochs\n",
    "# 'hamiltonian' or 'newtonian', newtonian if you want [q1,q1_dot,q2,q2_dot]\n",
    "coord_type = \"hamiltonian\"\n",
    "min_max_rescale = True  # rescale the training trajectories\n",
    "# which dimensions to rescale if using min_max_rescale, so that nothing is divided by zero\n",
    "rescale_dims = [1, 1, 1, 1]\n",
    "\n",
    "# Parameters for the training procedure\n",
    "resnet_config = None\n",
    "alternating = False  # for Input_HNN, if G is a neural network, train\n",
    "horizon_type = \"auto\"  # 'auto' or 'constant'\n",
    "horizon = False  # if horizon_type == 'constant', use this horizon\n",
    "loss_type = \"L2\"  # 'L2' or 'L2weighted'\n",
    "collect_grads = False  # collect gradients in all layers at every epoch\n",
    "# rescale the difference between nominal and train by the min max of train trajectory in loss function\n",
    "rescale_loss = False\n",
    "grad_clip = True  # activate gradient clipping\n",
    "lr_schedule = False  # activate lr schedule\n",
    "begin_decay = 600  # epoch at which lr starts decaying\n",
    "weights = [1.0, 1.0, 1.0, 1.0]  # weights for the loss functions\n",
    "\n",
    "horizon_list = [300]\n",
    "switch_steps = [500]\n",
    "epoch_number = sum(switch_steps)  # total number of training epochs"
   ]
  },
  {
   "cell_type": "code",
   "execution_count": null,
   "metadata": {
    "id": "wJXkD5LZdkr1"
   },
   "outputs": [],
   "source": [
    "# generate train and test dataloader objects containing the trajectories\n",
    "train_loader, test_loader = load_data_device(\n",
    "    device,\n",
    "    init_method,\n",
    "    w_rescale,\n",
    "    u_func,\n",
    "    g_func,\n",
    "    time_steps,\n",
    "    shuffle=shuffle,\n",
    "    num_trajectories=num_trajectories,\n",
    "    coord_type=coord_type,\n",
    "    proportion=proportion,\n",
    "    batch_size=batch_size,\n",
    "    Ts=Ts,\n",
    "    noise_std=noise_std,\n",
    "    C_q1=C_q1,\n",
    "    C_q2=C_q2,\n",
    "    g=g,\n",
    "    Jr=Jr,\n",
    "    Lr=Lr,\n",
    "    Mp=Mp,\n",
    "    Lp=Lp,\n",
    "    min_max_rescale=min_max_rescale,\n",
    "    rescale_dims=rescale_dims,\n",
    ")"
   ]
  },
  {
   "cell_type": "code",
   "execution_count": null,
   "metadata": {
    "colab": {
     "base_uri": "https://localhost:8080/"
    },
    "executionInfo": {
     "elapsed": 24,
     "status": "ok",
     "timestamp": 1654612436820,
     "user": {
      "displayName": "Younes M",
      "userId": "11559524547576106626"
     },
     "user_tz": -120
    },
    "id": "8XG2X810dkr1",
    "outputId": "2c1ce4b9-f31e-43b8-b1f7-673c021d4e5d"
   },
   "outputs": [],
   "source": [
    "# initialise the model that will be trained\n",
    "model_name = \"NESHDNN_resnet_conf1\"\n",
    "\n",
    "model_name = \"Input_HNN\"\n",
    "\n",
    "H_net = MLP(\n",
    "    input_dim=4, hidden_dim=90, nb_hidden_layers=4, output_dim=1, activation=\"x+sin(x)^2\"\n",
    ")\n",
    "model = Input_HNN(u_func=u_func, G_net=g_func, H_net=H_net, device=device, dissip=False)\n",
    "model.to(device)\n",
    "num_params = count_parameters(model)\n",
    "\n",
    "# create file name from parameters\n",
    "num_params = count_parameters(model)\n",
    "\n",
    "save_prefix = name_from_params(\n",
    "    Ts,\n",
    "    rescale_loss,\n",
    "    weights,\n",
    "    epoch_number,\n",
    "    num_params,\n",
    "    utype,\n",
    "    model_name,\n",
    "    num_trajectories,\n",
    "    furuta_type,\n",
    "    noise_std,\n",
    "    grad_clip,\n",
    "    lr_schedule,\n",
    "    C_q1,\n",
    "    C_q2,\n",
    "    horizon,\n",
    "    min_max_rescale,\n",
    "    w_rescale,\n",
    ")\n",
    "save_prefix = save_prefix + \"nohorizon\"\n",
    "# print some information on the training and file name\n",
    "print(\"Total number of epochs:\", epoch_number)\n",
    "print(\"H_net number of parameters :\", num_params)\n",
    "print(\"Save file prefix : \", save_prefix)\n",
    "\n",
    "# Sanity check\n",
    "is_same_size(horizon_list, switch_steps)"
   ]
  },
  {
   "cell_type": "code",
   "execution_count": null,
   "metadata": {
    "colab": {
     "base_uri": "https://localhost:8080/",
     "height": 1000,
     "output_embedded_package_id": "1k2RuzpH0uRTFHqRfsLzRD7aOrsDovWpu"
    },
    "executionInfo": {
     "elapsed": 1819088,
     "status": "ok",
     "timestamp": 1654615478402,
     "user": {
      "displayName": "Younes M",
      "userId": "11559524547576106626"
     },
     "user_tz": -120
    },
    "id": "LaLpYcRodkr1",
    "outputId": "f436323a-1da7-4019-d647-4085f29f0ce4"
   },
   "outputs": [],
   "source": [
    "stats = train(\n",
    "    device=device,\n",
    "    model=model,\n",
    "    Ts=Ts,\n",
    "    train_loader=train_loader,\n",
    "    test_loader=test_loader,\n",
    "    w=torch.tensor(weights, device=device),\n",
    "    grad_clip=grad_clip,\n",
    "    lr_schedule=lr_schedule,\n",
    "    begin_decay=begin_decay,\n",
    "    resnet_config=resnet_config,\n",
    "    \n",
    "    alternating=alternating,\n",
    "    horizon=horizon,\n",
    "    horizon_type=horizon_type,\n",
    "    horizon_list=horizon_list,\n",
    "    switch_steps=switch_steps,\n",
    "    epochs=epoch_number,\n",
    "    loss_type=loss_type,\n",
    "    collect_grads=collect_grads,\n",
    "    rescale_loss=rescale_loss,\n",
    "    rescale_dims=rescale_dims,\n",
    ")"
   ]
  },
  {
   "cell_type": "code",
   "execution_count": null,
   "metadata": {
    "id": "b930OIsGdkr2"
   },
   "outputs": [],
   "source": [
    "if collect_grads:\n",
    "    plot_grads(stats)"
   ]
  },
  {
   "cell_type": "code",
   "execution_count": null,
   "metadata": {
    "id": "Dr00s2K0dkr2"
   },
   "outputs": [],
   "source": [
    "# set all paths and create folders :\n",
    "model_path = PATH + \"data/\" + save_prefix + \"/\"\n",
    "stats_path = PATH + \"data/\" + save_prefix + \"/\"\n",
    "plot_path = PATH + \"data/\" + save_prefix + \"/img/\"\n",
    "train_loader_path = PATH + \"data/\" + save_prefix + \"/datasets/\"\n",
    "test_loader_path = PATH + \"data/\" + save_prefix + \"/datasets/\"\n",
    "os.makedirs(model_path, exist_ok=True)\n",
    "os.makedirs(stats_path, exist_ok=True)\n",
    "os.makedirs(plot_path, exist_ok=True)\n",
    "os.makedirs(train_loader_path, exist_ok=True)\n",
    "os.makedirs(test_loader_path, exist_ok=True)"
   ]
  },
  {
   "cell_type": "code",
   "execution_count": null,
   "metadata": {
    "id": "r5TvJA7fdkr2"
   },
   "outputs": [],
   "source": [
    "torch.save(train_loader, train_loader_path + \"train_loader.pt\")\n",
    "if test_loader is not None:\n",
    "    torch.save(test_loader, test_loader_path + \"test_loader.pt\")\n",
    "\n",
    "# save model to disk\n",
    "torch.save(model.state_dict(), model_path + \"model\")\n",
    "\n",
    "# save the stats\n",
    "save_stats(stats, stats_path + \"stats.txt\")"
   ]
  },
  {
   "cell_type": "code",
   "execution_count": null,
   "metadata": {
    "id": "pnrriEMHdkr2"
   },
   "outputs": [],
   "source": [
    "# train_loader = torch.load(train_loader_path)\n",
    "# test_loader = torch.load(test_loader_path)\n",
    "# # loads the stats\n",
    "# stats = read_dict(PATH, stats_path)\n",
    "# # load the model from disk\n",
    "# model.load_state_dict(torch.load(PATH+model_path))\n",
    "# model.eval()"
   ]
  },
  {
   "cell_type": "code",
   "execution_count": null,
   "metadata": {
    "colab": {
     "base_uri": "https://localhost:8080/",
     "height": 573
    },
    "executionInfo": {
     "elapsed": 2881,
     "status": "ok",
     "timestamp": 1654615481617,
     "user": {
      "displayName": "Younes M",
      "userId": "11559524547576106626"
     },
     "user_tz": -120
    },
    "id": "YM45NFGsdkr3",
    "outputId": "e6d3ac63-56c2-40a3-cd2c-a1a65945bd36"
   },
   "outputs": [],
   "source": [
    "loss_train = stats[\"train_loss\"]\n",
    "loss_test = stats[\"test_loss\"]\n",
    "epochs = np.arange(len(loss_train))\n",
    "train_test_loss_plot(\n",
    "    loss_train,\n",
    "    loss_test,\n",
    "    epochs,\n",
    "    file_path=plot_path + \"/LOSS_train_test.png\",\n",
    "    title=\"train and test loss per epoch\",\n",
    "    horizons=False,\n",
    "    switch_steps=switch_steps,\n",
    ")\n",
    "\n",
    "train_test_loss_plot(\n",
    "    loss_train,\n",
    "    loss_test,\n",
    "    epochs,\n",
    "    file_path=plot_path + \"/LOSS_train_test_warrows.png\",\n",
    "    title=\"train and test loss per epoch\",\n",
    "    horizons=horizon_list[:-1],\n",
    "    switch_steps=switch_steps,\n",
    ")"
   ]
  },
  {
   "cell_type": "code",
   "execution_count": null,
   "metadata": {
    "colab": {
     "base_uri": "https://localhost:8080/",
     "height": 1000
    },
    "executionInfo": {
     "elapsed": 69887,
     "status": "ok",
     "timestamp": 1654615551501,
     "user": {
      "displayName": "Younes M",
      "userId": "11559524547576106626"
     },
     "user_tz": -120
    },
    "id": "fjlwN3oddkr3",
    "outputId": "0c12ef2a-a723-4f13-dcf4-7180c37c7136"
   },
   "outputs": [],
   "source": [
    "# show train and prediction\n",
    "for n in [0, 5, 10, 19]:\n",
    "    plot_furuta_hat_nom(\n",
    "        device,\n",
    "        model,\n",
    "        u_func,\n",
    "        g_func,\n",
    "        utype,\n",
    "        gtype,\n",
    "        data_loader_t=train_loader,\n",
    "        t_max=horizon_list[-1],\n",
    "        n=n,\n",
    "        C_q1=C_q1,\n",
    "        C_q2=C_q2,\n",
    "        g=g,\n",
    "        Jr=Jr,\n",
    "        Lr=Lr,\n",
    "        Mp=Mp,\n",
    "        Lp=Lp,\n",
    "        t_plot=time_steps,\n",
    "        show_pred=True,\n",
    "        H_or_Input=\"input\",\n",
    "        title=\"Train set trajectories\",\n",
    "        file_path=plot_path + \"/TRAJECTORIES_train_set\" + str(n) + \".png\",\n",
    "        w_rescale=w_rescale,\n",
    "    )"
   ]
  },
  {
   "cell_type": "code",
   "execution_count": null,
   "metadata": {
    "id": "JVfrEU9ldkr3"
   },
   "outputs": [],
   "source": [
    "# show only training portion\n",
    "for n in [0, 50, 70]:\n",
    "    plot_furuta_hat_nom(\n",
    "        device,\n",
    "        model,\n",
    "        u_func,\n",
    "        g_func,\n",
    "        utype,\n",
    "        gtype,\n",
    "        data_loader_t=train_loader,\n",
    "        t_max=horizon_list[-1],\n",
    "        n=n,\n",
    "        C_q1=C_q1,\n",
    "        C_q2=C_q2,\n",
    "        g=g,\n",
    "        Jr=Jr,\n",
    "        Lr=Lr,\n",
    "        Mp=Mp,\n",
    "        Lp=Lp,\n",
    "        t_plot=horizon_list[-1],\n",
    "        show_pred=False,\n",
    "        title=\"Train set trajectories\",\n",
    "        file_path=plot_path + \"/TRAJECTORIES_train_set\" + str(n) + \".nopred_png\",\n",
    "        w_rescale=w_rescale,\n",
    "    )"
   ]
  },
  {
   "cell_type": "code",
   "execution_count": null,
   "metadata": {
    "id": "HZ1RUmmDdkr4"
   },
   "outputs": [],
   "source": [
    "# show test and prediction\n",
    "for n in [0, 5, 10, 19]:\n",
    "    plot_furuta_hat_nom(\n",
    "        device,\n",
    "        model,\n",
    "        u_func,\n",
    "        g_func,\n",
    "        utype,\n",
    "        gtype,\n",
    "        data_loader_t=test_loader,\n",
    "        t_max=horizon_list[-1],\n",
    "        n=n,\n",
    "        C_q1=C_q1,\n",
    "        C_q2=C_q2,\n",
    "        g=g,\n",
    "        Jr=Jr,\n",
    "        Lr=Lr,\n",
    "        Mp=Mp,\n",
    "        Lp=Lp,\n",
    "        t_plot=time_steps,\n",
    "        show_pred=True,\n",
    "        H_or_Input=\"input\",\n",
    "        title=\"Test set trajectories\",\n",
    "        file_path=plot_path + \"/TRAJECTORIES_Test_set\" + str(n) + \".png\",\n",
    "        w_rescale=w_rescale,\n",
    "    )"
   ]
  },
  {
   "cell_type": "code",
   "execution_count": null,
   "metadata": {
    "id": "Zdk9mWz4dkr4"
   },
   "outputs": [],
   "source": [
    "utype = None  # 'chirp' or 'sine' or 'tanh' or 'multisine' or 'step' or None\n",
    "u_func = U_FUNC(utype=utype)  # instantiate the input function u(t)\n",
    "gtype = None  # 'simple' or None\n",
    "# instantiate the input function G(q,p) (here it is constant)\n",
    "g_func = G_FUNC(gtype=gtype)\n",
    "init_method = \"random_nozero\"  # 'random_nozero' # 'random_closetopi'\n",
    "time_steps = 800  # length of a trajectory\n",
    "num_trajectories = 25  # number of trajectories in total\n",
    "proportion = 0.0  # train test proportion\n",
    "batch_size = 100  # batch size used by dataloader\n",
    "w_rescale = [\n",
    "    1,\n",
    "    1,\n",
    "    1,\n",
    "    1,\n",
    "]  # [1, 1000, 1, 10000]  # [1, 1000, 1, 10000]  # [1, 9000, 1, 10000]\n",
    "shuffle = False  # shuffle sample in the batches between epochs\n",
    "# 'hamiltonian' or 'newtonian', newtonian if you want [q1,q1_dot,q2,q2_dot]\n",
    "coord_type = \"hamiltonian\"\n",
    "min_max_rescale = True  # rescale the training trajectories\n",
    "# which dimensions to rescale if using min_max_rescale, so that nothing is divided by zero\n",
    "rescale_dims = [1, 1, 1, 0]\n",
    "\n",
    "# generate train and test dataloader objects containing the trajectories\n",
    "train_loader_2, test_loader_2 = load_data_device(\n",
    "    device,\n",
    "    init_method,\n",
    "    w_rescale,\n",
    "    u_func,\n",
    "    g_func,\n",
    "    time_steps,\n",
    "    shuffle=shuffle,\n",
    "    num_trajectories=num_trajectories,\n",
    "    coord_type=coord_type,\n",
    "    proportion=proportion,\n",
    "    batch_size=batch_size,\n",
    "    Ts=Ts,\n",
    "    noise_std=noise_std,\n",
    "    C_q1=C_q1,\n",
    "    C_q2=C_q2,\n",
    "    g=g,\n",
    "    Jr=Jr,\n",
    "    Lr=Lr,\n",
    "    Mp=Mp,\n",
    "    Lp=Lp,\n",
    "    min_max_rescale=min_max_rescale,\n",
    "    rescale_dims=rescale_dims,\n",
    ")"
   ]
  },
  {
   "cell_type": "code",
   "execution_count": null,
   "metadata": {
    "id": "cH1d0xAddkr4"
   },
   "outputs": [],
   "source": [
    "# show test and prediction\n",
    "title = \"test set trajectories | no input\"\n",
    "for n in [0, 5, 10, 19]:\n",
    "    plot_furuta_hat_nom(\n",
    "        device,\n",
    "        model,\n",
    "        u_func,\n",
    "        g_func,\n",
    "        utype,\n",
    "        gtype,\n",
    "        data_loader_t=train_loader_2,\n",
    "        t_max=time_steps,\n",
    "        n=n,\n",
    "        C_q1=C_q1,\n",
    "        C_q2=C_q2,\n",
    "        g=g,\n",
    "        Jr=Jr,\n",
    "        Lr=Lr,\n",
    "        Mp=Mp,\n",
    "        Lp=Lp,\n",
    "        t_plot=time_steps,\n",
    "        only_pred=True,\n",
    "        show_pred=True,\n",
    "        H_or_Input=\"input\",\n",
    "        title=title,\n",
    "        file_path=plot_path + \"/TRAJECTORIES_train_set\" + str(n) + \"noinput.png\",\n",
    "        w_rescale=w_rescale,\n",
    "    )"
   ]
  },
  {
   "cell_type": "code",
   "execution_count": null,
   "metadata": {
    "id": "JHfEe82adkr5"
   },
   "outputs": [],
   "source": [
    "utype = \"sine\"  # 'chirp' or 'sine' or 'tanh' or 'multisine' or 'step' or None\n",
    "u_func = U_FUNC(utype=utype)  # instantiate the input function u(t)\n",
    "u_func.params[\"T\"] = 1.5\n",
    "u_func.params[\"f0\"] = 0\n",
    "u_func.params[\"f1\"] = 1  # 4 # 1.4\n",
    "u_func.params[\"scale\"] = 0.0001  # for fake : 0.5 or 0.1 for real : 0.0001\n",
    "gtype = \"simple\"  # 'simple' or None\n",
    "# instantiate the input function G(q,p) (here it is constant)\n",
    "g_func = G_FUNC(gtype=gtype)\n",
    "init_method = \"random_nozero\"  # 'random_nozero' # 'random_closetopi'\n",
    "time_steps = 800  # length of a trajectory\n",
    "num_trajectories = 25  # number of trajectories in total\n",
    "proportion = 0.8  # train test proportion\n",
    "batch_size = 100  # batch size used by dataloader\n",
    "# [1, 1000, 1, 10000]  # [1, 1000, 1, 10000]  # [1, 9000, 1, 10000]\n",
    "w_rescale = [1, 1, 1, 1]\n",
    "shuffle = False  # shuffle sample in the batches between epochs\n",
    "# 'hamiltonian' or 'newtonian', newtonian if you want [q1,q1_dot,q2,q2_dot]\n",
    "coord_type = \"hamiltonian\"\n",
    "min_max_rescale = True  # rescale the training trajectories\n",
    "# which dimensions to rescale if using min_max_rescale, so that nothing is divided by zero\n",
    "rescale_dims = [1, 1, 1, 1]\n",
    "\n",
    "# generate train and test dataloader objects containing the trajectories\n",
    "train_loader_3, test_loader_3 = load_data_device(\n",
    "    device,\n",
    "    init_method,\n",
    "    w_rescale,\n",
    "    u_func,\n",
    "    g_func,\n",
    "    time_steps,\n",
    "    shuffle=shuffle,\n",
    "    num_trajectories=num_trajectories,\n",
    "    coord_type=coord_type,\n",
    "    proportion=proportion,\n",
    "    batch_size=batch_size,\n",
    "    Ts=Ts,\n",
    "    noise_std=noise_std,\n",
    "    C_q1=C_q1,\n",
    "    C_q2=C_q2,\n",
    "    g=g,\n",
    "    Jr=Jr,\n",
    "    Lr=Lr,\n",
    "    Mp=Mp,\n",
    "    Lp=Lp,\n",
    "    min_max_rescale=min_max_rescale,\n",
    "    rescale_dims=rescale_dims,\n",
    ")"
   ]
  },
  {
   "cell_type": "code",
   "execution_count": null,
   "metadata": {
    "id": "fbRSFSVQdkr5"
   },
   "outputs": [],
   "source": [
    "# show test and prediction\n",
    "title = \"test set trajectories | 1hz sine input\"\n",
    "for n in [0, 5, 10, 19]:\n",
    "    plot_furuta_hat_nom(\n",
    "        device,\n",
    "        model,\n",
    "        u_func,\n",
    "        g_func,\n",
    "        utype,\n",
    "        gtype,\n",
    "        data_loader_t=train_loader_3,\n",
    "        t_max=time_steps,\n",
    "        n=n,\n",
    "        C_q1=C_q1,\n",
    "        C_q2=C_q2,\n",
    "        g=g,\n",
    "        Jr=Jr,\n",
    "        Lr=Lr,\n",
    "        Mp=Mp,\n",
    "        Lp=Lp,\n",
    "        t_plot=time_steps,\n",
    "        only_pred=True,\n",
    "        show_pred=True,\n",
    "        H_or_Input=\"input\",\n",
    "        title=title,\n",
    "        file_path=plot_path + \"/TRAJECTORIES_train_set\" + str(n) + \"1hzsine.png\",\n",
    "        w_rescale=w_rescale,\n",
    "    )"
   ]
  },
  {
   "cell_type": "code",
   "execution_count": null,
   "metadata": {
    "colab": {
     "base_uri": "https://localhost:8080/",
     "height": 1000
    },
    "executionInfo": {
     "elapsed": 235,
     "status": "ok",
     "timestamp": 1654615743102,
     "user": {
      "displayName": "Younes M",
      "userId": "11559524547576106626"
     },
     "user_tz": -120
    },
    "id": "RgUTfP9tdkr6",
    "outputId": "5b29744c-e1ac-46ac-dcfb-ad6b36f0a9ef"
   },
   "outputs": [],
   "source": [
    "utype = \"sine\"  # 'chirp' or 'sine' or 'tanh' or 'multisine' or 'step' or None\n",
    "u_func = U_FUNC(utype=utype)  # instantiate the input function u(t)\n",
    "u_func.params[\"T\"] = 1.5\n",
    "u_func.params[\"f0\"] = 0\n",
    "u_func.params[\"f1\"] = 2  # 4 # 1.4\n",
    "u_func.params[\"scale\"] = 0.0001  # for fake : 0.5 or 0.1 for real : 0.0001\n",
    "gtype = \"simple\"  # 'simple' or None\n",
    "# instantiate the input function G(q,p) (here it is constant)\n",
    "g_func = G_FUNC(gtype=gtype)\n",
    "init_method = \"random_nozero\"  # 'random_nozero' # 'random_closetopi'\n",
    "time_steps = 800  # length of a trajectory\n",
    "num_trajectories = 25  # number of trajectories in total\n",
    "proportion = 0.0  # train test proportion\n",
    "batch_size = 100  # batch size used by dataloader\n",
    "w_rescale = [\n",
    "    1,\n",
    "    1,\n",
    "    1,\n",
    "    1,\n",
    "]  # [1, 1000, 1, 10000]  # [1, 1000, 1, 10000]  # [1, 9000, 1, 10000]\n",
    "shuffle = False  # shuffle sample in the batches between epochs\n",
    "# 'hamiltonian' or 'newtonian', newtonian if you want [q1,q1_dot,q2,q2_dot]\n",
    "coord_type = \"hamiltonian\"\n",
    "min_max_rescale = True  # rescale the training trajectories\n",
    "# which dimensions to rescale if using min_max_rescale, so that nothing is divided by zero\n",
    "rescale_dims = [1, 1, 1, 1]\n",
    "\n",
    "# generate train and test dataloader objects containing the trajectories\n",
    "train_loader_4, test_loader_4 = load_data_device(\n",
    "    device,\n",
    "    init_method,\n",
    "    w_rescale,\n",
    "    u_func,\n",
    "    g_func,\n",
    "    time_steps,\n",
    "    shuffle=shuffle,\n",
    "    num_trajectories=num_trajectories,\n",
    "    coord_type=coord_type,\n",
    "    proportion=proportion,\n",
    "    batch_size=batch_size,\n",
    "    Ts=Ts,\n",
    "    noise_std=noise_std,\n",
    "    C_q1=C_q1,\n",
    "    C_q2=C_q2,\n",
    "    g=g,\n",
    "    Jr=Jr,\n",
    "    Lr=Lr,\n",
    "    Mp=Mp,\n",
    "    Lp=Lp,\n",
    "    min_max_rescale=min_max_rescale,\n",
    "    rescale_dims=rescale_dims,\n",
    ")\n",
    "# show test and prediction\n",
    "title = \"test set trajectories | 2hz sine input\"\n",
    "for n in [0, 5, 10, 19]:\n",
    "    plot_furuta_hat_nom(\n",
    "        device,\n",
    "        model,\n",
    "        u_func,\n",
    "        g_func,\n",
    "        utype,\n",
    "        gtype,\n",
    "        data_loader_t=train_loader_4,\n",
    "        t_max=time_steps,\n",
    "        n=n,\n",
    "        C_q1=C_q1,\n",
    "        C_q2=C_q2,\n",
    "        g=g,\n",
    "        Jr=Jr,\n",
    "        Lr=Lr,\n",
    "        Mp=Mp,\n",
    "        Lp=Lp,\n",
    "        t_plot=time_steps,\n",
    "        only_pred=True,\n",
    "        show_pred=True,\n",
    "        H_or_Input=\"input\",\n",
    "        title=title,\n",
    "        file_path=plot_path + \"/TRAJECTORIES_test_set\" + str(n) + \"2hzsine.png\",\n",
    "        w_rescale=w_rescale,\n",
    "    )"
   ]
  },
  {
   "cell_type": "markdown",
   "metadata": {
    "id": "RTTjh0Eo47aU"
   },
   "source": [
    "#### chirp, std rescaling ( and loss ) no clipping 33k"
   ]
  },
  {
   "cell_type": "code",
   "execution_count": null,
   "metadata": {
    "colab": {
     "base_uri": "https://localhost:8080/"
    },
    "executionInfo": {
     "elapsed": 9,
     "status": "ok",
     "timestamp": 1654601825344,
     "user": {
      "displayName": "Younes M",
      "userId": "11559524547576106626"
     },
     "user_tz": -120
    },
    "id": "iOmaMQ28Cczz",
    "outputId": "4bcc06f9-2cff-4ebf-9ec7-4d3f4a2c0216"
   },
   "outputs": [],
   "source": [
    "set_all_seeds(manualSeed=123, new_results=False)\n",
    "device = set_device()  # set it to gpu if it is available\n",
    "\n",
    "# Parameters to generate the dataset\n",
    "furuta_type = \"real\"  # 'real' or 'fake'\n",
    "Ts, noise_std, C_q1, C_q2, g, Jr, Lr, Mp, Lp = set_furuta_params(which=furuta_type)\n",
    "utype = \"chirp\"  # 'chirp' or 'sine' or 'tanh' or 'multisine' or 'step' or None\n",
    "u_func = U_FUNC(utype=utype)  # instantiate the input function u(t)\n",
    "u_func.params[\"T\"] = 1.5\n",
    "u_func.params[\"f0\"] = 0\n",
    "u_func.params[\"f1\"] = 2  # 4 # 1.4\n",
    "u_func.params[\"scale\"] = 0.0001  # for fake : 0.5 or 0.1 for real : 0.0001\n",
    "gtype = \"simple\"  # 'simple' or None\n",
    "# instantiate the input function G(q,p) (here it is constant)\n",
    "g_func = G_FUNC(gtype=gtype)\n",
    "init_method = \"random_nozero\"  # 'random_nozero' # 'random_closetopi'\n",
    "time_steps = 800  # length of a trajectory\n",
    "num_trajectories = 125  # number of trajectories in total\n",
    "proportion = 0.8  # train test proportion\n",
    "batch_size = 100  # batch size used by dataloader\n",
    "w_rescale = [1, 1000, 1, 10000]  # [1, 1000, 1, 10000]  # [1, 9000, 1, 10000]\n",
    "shuffle = False  # shuffle sample in the batches between epochs\n",
    "# 'hamiltonian' or 'newtonian', newtonian if you want [q1,q1_dot,q2,q2_dot]\n",
    "coord_type = \"hamiltonian\"\n",
    "min_max_rescale = False  # rescale the training trajectories\n",
    "# which dimensions to rescale if using min_max_rescale, so that nothing is divided by zero\n",
    "rescale_dims = [1, 1, 1, 1]\n",
    "\n",
    "# Parameters for the training procedure\n",
    "resnet_config = None\n",
    "alternating = False  # for Input_HNN, if G is a neural network, train\n",
    "horizon_type = \"auto\"  # 'auto' or 'constant'\n",
    "horizon = False  # if horizon_type == 'constant', use this horizon\n",
    "loss_type = \"L2\"  # 'L2' or 'L2weighted'\n",
    "collect_grads = False  # collect gradients in all layers at every epoch\n",
    "# rescale the difference between nominal and train by the min max of train trajectory in loss function\n",
    "rescale_loss = True\n",
    "grad_clip = False  # activate gradient clipping\n",
    "lr_schedule = False  # activate lr schedule\n",
    "begin_decay = 600  # epoch at which lr starts decaying\n",
    "weights = [1.0, 1.0, 1.0, 1.0]  # weights for the loss functions\n",
    "\n",
    "horizon_list = [50, 100, 150, 200, 250, 300]\n",
    "switch_steps = [200, 100, 100, 100, 100, 100]\n",
    "epoch_number = sum(switch_steps)  # total number of training epochs"
   ]
  },
  {
   "cell_type": "code",
   "execution_count": null,
   "metadata": {
    "id": "9VgOgbS_Cc0T"
   },
   "outputs": [],
   "source": [
    "# generate train and test dataloader objects containing the trajectories\n",
    "train_loader, test_loader = load_data_device(\n",
    "    device,\n",
    "    init_method,\n",
    "    w_rescale,\n",
    "    u_func,\n",
    "    g_func,\n",
    "    time_steps,\n",
    "    shuffle=shuffle,\n",
    "    num_trajectories=num_trajectories,\n",
    "    coord_type=coord_type,\n",
    "    proportion=proportion,\n",
    "    batch_size=batch_size,\n",
    "    Ts=Ts,\n",
    "    noise_std=noise_std,\n",
    "    C_q1=C_q1,\n",
    "    C_q2=C_q2,\n",
    "    g=g,\n",
    "    Jr=Jr,\n",
    "    Lr=Lr,\n",
    "    Mp=Mp,\n",
    "    Lp=Lp,\n",
    "    min_max_rescale=min_max_rescale,\n",
    "    rescale_dims=rescale_dims,\n",
    ")"
   ]
  },
  {
   "cell_type": "code",
   "execution_count": null,
   "metadata": {
    "colab": {
     "base_uri": "https://localhost:8080/"
    },
    "executionInfo": {
     "elapsed": 14,
     "status": "ok",
     "timestamp": 1654601829010,
     "user": {
      "displayName": "Younes M",
      "userId": "11559524547576106626"
     },
     "user_tz": -120
    },
    "id": "-3HyINQyCc0U",
    "outputId": "7664203d-7801-410b-cdf4-26c0b10ce0a3"
   },
   "outputs": [],
   "source": [
    "# initialise the model that will be trained\n",
    "model_name = \"NESHDNN_resnet_conf1\"\n",
    "\n",
    "model_name = \"Input_HNN\"\n",
    "\n",
    "H_net = MLP(\n",
    "    input_dim=4, hidden_dim=90, nb_hidden_layers=4, output_dim=1, activation=\"x+sin(x)^2\"\n",
    ")\n",
    "model = Input_HNN(u_func=u_func, G_net=g_func, H_net=H_net, device=device, dissip=False)\n",
    "model.to(device)\n",
    "num_params = count_parameters(model)\n",
    "\n",
    "# create file name from parameters\n",
    "num_params = count_parameters(model)\n",
    "\n",
    "save_prefix = name_from_params(\n",
    "    Ts,\n",
    "    rescale_loss,\n",
    "    weights,\n",
    "    epoch_number,\n",
    "    num_params,\n",
    "    utype,\n",
    "    model_name,\n",
    "    num_trajectories,\n",
    "    furuta_type,\n",
    "    noise_std,\n",
    "    grad_clip,\n",
    "    lr_schedule,\n",
    "    C_q1,\n",
    "    C_q2,\n",
    "    horizon,\n",
    "    min_max_rescale,\n",
    "    w_rescale,\n",
    ")\n",
    "\n",
    "# print some information on the training and file name\n",
    "print(\"Total number of epochs:\", epoch_number)\n",
    "print(\"H_net number of parameters :\", num_params)\n",
    "print(\"Save file prefix : \", save_prefix)\n",
    "\n",
    "# Sanity check\n",
    "is_same_size(horizon_list, switch_steps)"
   ]
  },
  {
   "cell_type": "code",
   "execution_count": null,
   "metadata": {
    "colab": {
     "base_uri": "https://localhost:8080/",
     "height": 1000,
     "output_embedded_package_id": "11w20J9fZL0pwTL7E7g-DGooyT0vbJvem"
    },
    "executionInfo": {
     "elapsed": 2312542,
     "status": "ok",
     "timestamp": 1654604141547,
     "user": {
      "displayName": "Younes M",
      "userId": "11559524547576106626"
     },
     "user_tz": -120
    },
    "id": "kNWhxamnCc0U",
    "outputId": "3acb1887-9435-4755-e68f-5dacbcc60dbc"
   },
   "outputs": [],
   "source": [
    "stats = train(\n",
    "    device=device,\n",
    "    model=model,\n",
    "    Ts=Ts,\n",
    "    train_loader=train_loader,\n",
    "    test_loader=test_loader,\n",
    "    w=torch.tensor(weights, device=device),\n",
    "    grad_clip=grad_clip,\n",
    "    lr_schedule=lr_schedule,\n",
    "    begin_decay=begin_decay,\n",
    "    resnet_config=resnet_config,\n",
    "    \n",
    "    alternating=alternating,\n",
    "    horizon=horizon,\n",
    "    horizon_type=horizon_type,\n",
    "    horizon_list=horizon_list,\n",
    "    switch_steps=switch_steps,\n",
    "    epochs=epoch_number,\n",
    "    loss_type=loss_type,\n",
    "    collect_grads=collect_grads,\n",
    "    rescale_loss=rescale_loss,\n",
    "    rescale_dims=rescale_dims,\n",
    ")"
   ]
  },
  {
   "cell_type": "code",
   "execution_count": null,
   "metadata": {
    "id": "38opHVq2Cc0V"
   },
   "outputs": [],
   "source": [
    "if collect_grads:\n",
    "    plot_grads(stats)"
   ]
  },
  {
   "cell_type": "code",
   "execution_count": null,
   "metadata": {
    "id": "RPxjhso4Cc0V"
   },
   "outputs": [],
   "source": [
    "# set all paths and create folders :\n",
    "model_path = PATH + \"data/\" + save_prefix + \"/\"\n",
    "stats_path = PATH + \"data/\" + save_prefix + \"/\"\n",
    "plot_path = PATH + \"data/\" + save_prefix + \"/img/\"\n",
    "train_loader_path = PATH + \"data/\" + save_prefix + \"/datasets/\"\n",
    "test_loader_path = PATH + \"data/\" + save_prefix + \"/datasets/\"\n",
    "os.makedirs(model_path, exist_ok=True)\n",
    "os.makedirs(stats_path, exist_ok=True)\n",
    "os.makedirs(plot_path, exist_ok=True)\n",
    "os.makedirs(train_loader_path, exist_ok=True)\n",
    "os.makedirs(test_loader_path, exist_ok=True)"
   ]
  },
  {
   "cell_type": "code",
   "execution_count": null,
   "metadata": {
    "id": "hHu5CdZlCc0V"
   },
   "outputs": [],
   "source": [
    "torch.save(train_loader, train_loader_path + \"train_loader.pt\")\n",
    "if test_loader is not None:\n",
    "    torch.save(test_loader, test_loader_path + \"test_loader.pt\")\n",
    "\n",
    "# save model to disk\n",
    "torch.save(model.state_dict(), model_path + \"model\")\n",
    "\n",
    "# save the stats\n",
    "save_stats(stats, stats_path + \"stats.txt\")"
   ]
  },
  {
   "cell_type": "code",
   "execution_count": null,
   "metadata": {
    "id": "LogFLihtCc0W"
   },
   "outputs": [],
   "source": [
    "# train_loader = torch.load(train_loader_path)\n",
    "# test_loader = torch.load(test_loader_path)\n",
    "# # loads the stats\n",
    "# stats = read_dict(PATH, stats_path)\n",
    "# # load the model from disk\n",
    "# model.load_state_dict(torch.load(PATH+model_path))\n",
    "# model.eval()"
   ]
  },
  {
   "cell_type": "code",
   "execution_count": null,
   "metadata": {
    "colab": {
     "base_uri": "https://localhost:8080/",
     "height": 585
    },
    "executionInfo": {
     "elapsed": 3487,
     "status": "ok",
     "timestamp": 1654604145022,
     "user": {
      "displayName": "Younes M",
      "userId": "11559524547576106626"
     },
     "user_tz": -120
    },
    "id": "NrSHBNwvCc0W",
    "outputId": "0caf40a3-a968-403f-fed2-e47820092f46"
   },
   "outputs": [],
   "source": [
    "loss_train = stats[\"train_loss\"]\n",
    "loss_test = stats[\"test_loss\"]\n",
    "epochs = np.arange(len(loss_train))\n",
    "train_test_loss_plot(\n",
    "    loss_train,\n",
    "    loss_test,\n",
    "    epochs,\n",
    "    file_path=plot_path + \"/LOSS_train_test.png\",\n",
    "    title=\"train and test loss per epoch\",\n",
    "    horizons=False,\n",
    "    switch_steps=switch_steps,\n",
    ")\n",
    "\n",
    "train_test_loss_plot(\n",
    "    loss_train,\n",
    "    loss_test,\n",
    "    epochs,\n",
    "    file_path=plot_path + \"/LOSS_train_test_warrows.png\",\n",
    "    title=\"train and test loss per epoch\",\n",
    "    horizons=horizon_list[:-1],\n",
    "    switch_steps=switch_steps,\n",
    ")"
   ]
  },
  {
   "cell_type": "code",
   "execution_count": null,
   "metadata": {
    "colab": {
     "base_uri": "https://localhost:8080/",
     "height": 1000
    },
    "executionInfo": {
     "elapsed": 56470,
     "status": "ok",
     "timestamp": 1654604201477,
     "user": {
      "displayName": "Younes M",
      "userId": "11559524547576106626"
     },
     "user_tz": -120
    },
    "id": "SIZix06YCc0W",
    "outputId": "bd6a6a99-7372-464d-ea74-cd2d065aa8f8"
   },
   "outputs": [],
   "source": [
    "# show train and prediction\n",
    "for n in [0, 5, 10, 19]:\n",
    "    plot_furuta_hat_nom(\n",
    "        device,\n",
    "        model,\n",
    "        u_func,\n",
    "        g_func,\n",
    "        utype,\n",
    "        gtype,\n",
    "        data_loader_t=train_loader,\n",
    "        t_max=horizon_list[-1],\n",
    "        n=n,\n",
    "        C_q1=C_q1,\n",
    "        C_q2=C_q2,\n",
    "        g=g,\n",
    "        Jr=Jr,\n",
    "        Lr=Lr,\n",
    "        Mp=Mp,\n",
    "        Lp=Lp,\n",
    "        t_plot=time_steps,\n",
    "        show_pred=True,\n",
    "        H_or_Input=\"input\",\n",
    "        title=\"Train set trajectories\",\n",
    "        file_path=plot_path + \"/TRAJECTORIES_train_set\" + str(n) + \".png\",\n",
    "        w_rescale=w_rescale,\n",
    "    )"
   ]
  },
  {
   "cell_type": "code",
   "execution_count": null,
   "metadata": {
    "colab": {
     "base_uri": "https://localhost:8080/",
     "height": 905
    },
    "executionInfo": {
     "elapsed": 25065,
     "status": "ok",
     "timestamp": 1654604226535,
     "user": {
      "displayName": "Younes M",
      "userId": "11559524547576106626"
     },
     "user_tz": -120
    },
    "id": "AlVaj6o4Cc0X",
    "outputId": "447f1909-6fea-4d11-b12d-0b17cdbf459f"
   },
   "outputs": [],
   "source": [
    "# show only training portion\n",
    "for n in [0, 50, 70]:\n",
    "    plot_furuta_hat_nom(\n",
    "        device,\n",
    "        model,\n",
    "        u_func,\n",
    "        g_func,\n",
    "        utype,\n",
    "        gtype,\n",
    "        data_loader_t=train_loader,\n",
    "        t_max=horizon_list[-1],\n",
    "        n=n,\n",
    "        C_q1=C_q1,\n",
    "        C_q2=C_q2,\n",
    "        g=g,\n",
    "        Jr=Jr,\n",
    "        Lr=Lr,\n",
    "        Mp=Mp,\n",
    "        Lp=Lp,\n",
    "        t_plot=horizon_list[-1],\n",
    "        show_pred=False,\n",
    "        title=\"Train set trajectories\",\n",
    "        file_path=plot_path + \"/TRAJECTORIES_train_set\" + str(n) + \"nopred.png\",\n",
    "        w_rescale=w_rescale,\n",
    "    )"
   ]
  },
  {
   "cell_type": "code",
   "execution_count": null,
   "metadata": {
    "colab": {
     "base_uri": "https://localhost:8080/",
     "height": 1000
    },
    "executionInfo": {
     "elapsed": 37101,
     "status": "ok",
     "timestamp": 1654604263630,
     "user": {
      "displayName": "Younes M",
      "userId": "11559524547576106626"
     },
     "user_tz": -120
    },
    "id": "2-79qRwX47ac",
    "outputId": "57ab15d9-aeea-436a-9840-2b7ed338f91d"
   },
   "outputs": [],
   "source": [
    "# show test and prediction\n",
    "for n in [0, 5, 10, 19]:\n",
    "    plot_furuta_hat_nom(\n",
    "        device,\n",
    "        model,\n",
    "        u_func,\n",
    "        g_func,\n",
    "        utype,\n",
    "        gtype,\n",
    "        data_loader_t=test_loader,\n",
    "        t_max=horizon_list[-1],\n",
    "        n=n,\n",
    "        C_q1=C_q1,\n",
    "        C_q2=C_q2,\n",
    "        g=g,\n",
    "        Jr=Jr,\n",
    "        Lr=Lr,\n",
    "        Mp=Mp,\n",
    "        Lp=Lp,\n",
    "        t_plot=time_steps,\n",
    "        show_pred=True,\n",
    "        H_or_Input=\"input\",\n",
    "        title=\"Test set trajectories\",\n",
    "        file_path=plot_path + \"/TRAJECTORIES_Test_set\" + str(n) + \".png\",\n",
    "        w_rescale=w_rescale,\n",
    "    )"
   ]
  },
  {
   "cell_type": "code",
   "execution_count": null,
   "metadata": {
    "id": "hDVRszm147ac"
   },
   "outputs": [],
   "source": [
    "utype = None  # 'chirp' or 'sine' or 'tanh' or 'multisine' or 'step' or None\n",
    "u_func = U_FUNC(utype=utype)  # instantiate the input function u(t)\n",
    "gtype = None  # 'simple' or None\n",
    "# instantiate the input function G(q,p) (here it is constant)\n",
    "g_func = G_FUNC(gtype=gtype)\n",
    "init_method = \"random_nozero\"  # 'random_nozero' # 'random_closetopi'\n",
    "time_steps = 800  # length of a trajectory\n",
    "num_trajectories = 25  # number of trajectories in total\n",
    "proportion = 0.0  # train test proportion\n",
    "batch_size = 100  # batch size used by dataloader\n",
    "w_rescale = [\n",
    "    1,\n",
    "    1,\n",
    "    1,\n",
    "    1,\n",
    "]  # [1, 1000, 1, 10000]  # [1, 1000, 1, 10000]  # [1, 9000, 1, 10000]\n",
    "shuffle = False  # shuffle sample in the batches between epochs\n",
    "# 'hamiltonian' or 'newtonian', newtonian if you want [q1,q1_dot,q2,q2_dot]\n",
    "coord_type = \"hamiltonian\"\n",
    "min_max_rescale = True  # rescale the training trajectories\n",
    "# which dimensions to rescale if using min_max_rescale, so that nothing is divided by zero\n",
    "rescale_dims = [1, 1, 1, 0]\n",
    "\n",
    "# generate train and test dataloader objects containing the trajectories\n",
    "train_loader_2, test_loader_2 = load_data_device(\n",
    "    device,\n",
    "    init_method,\n",
    "    w_rescale,\n",
    "    u_func,\n",
    "    g_func,\n",
    "    time_steps,\n",
    "    shuffle=shuffle,\n",
    "    num_trajectories=num_trajectories,\n",
    "    coord_type=coord_type,\n",
    "    proportion=proportion,\n",
    "    batch_size=batch_size,\n",
    "    Ts=Ts,\n",
    "    noise_std=noise_std,\n",
    "    C_q1=C_q1,\n",
    "    C_q2=C_q2,\n",
    "    g=g,\n",
    "    Jr=Jr,\n",
    "    Lr=Lr,\n",
    "    Mp=Mp,\n",
    "    Lp=Lp,\n",
    "    min_max_rescale=min_max_rescale,\n",
    "    rescale_dims=rescale_dims,\n",
    ")"
   ]
  },
  {
   "cell_type": "code",
   "execution_count": null,
   "metadata": {
    "colab": {
     "base_uri": "https://localhost:8080/",
     "height": 1000
    },
    "executionInfo": {
     "elapsed": 39185,
     "status": "ok",
     "timestamp": 1654604305856,
     "user": {
      "displayName": "Younes M",
      "userId": "11559524547576106626"
     },
     "user_tz": -120
    },
    "id": "QuvHD3sF47ac",
    "outputId": "4c4fb408-c922-4854-e03c-d9c233af2796"
   },
   "outputs": [],
   "source": [
    "# show test and prediction\n",
    "title = \"test set trajectories | no input\"\n",
    "for n in [0, 5, 10, 19]:\n",
    "    plot_furuta_hat_nom(\n",
    "        device,\n",
    "        model,\n",
    "        u_func,\n",
    "        g_func,\n",
    "        utype,\n",
    "        gtype,\n",
    "        data_loader_t=train_loader_2,\n",
    "        t_max=time_steps,\n",
    "        n=n,\n",
    "        C_q1=C_q1,\n",
    "        C_q2=C_q2,\n",
    "        g=g,\n",
    "        Jr=Jr,\n",
    "        Lr=Lr,\n",
    "        Mp=Mp,\n",
    "        Lp=Lp,\n",
    "        t_plot=time_steps,\n",
    "        only_pred=True,\n",
    "        show_pred=True,\n",
    "        H_or_Input=\"input\",\n",
    "        title=title,\n",
    "        file_path=plot_path + \"/TRAJECTORIES_train_set\" + str(n) + \"noinput.png\",\n",
    "        w_rescale=w_rescale,\n",
    "    )"
   ]
  },
  {
   "cell_type": "code",
   "execution_count": null,
   "metadata": {
    "id": "pZffdL2S47ad"
   },
   "outputs": [],
   "source": [
    "utype = \"sine\"  # 'chirp' or 'sine' or 'tanh' or 'multisine' or 'step' or None\n",
    "u_func = U_FUNC(utype=utype)  # instantiate the input function u(t)\n",
    "u_func.params[\"T\"] = 1.5\n",
    "u_func.params[\"f0\"] = 0\n",
    "u_func.params[\"f1\"] = 1  # 4 # 1.4\n",
    "u_func.params[\"scale\"] = 0.0001  # for fake : 0.5 or 0.1 for real : 0.0001\n",
    "gtype = \"simple\"  # 'simple' or None\n",
    "# instantiate the input function G(q,p) (here it is constant)\n",
    "g_func = G_FUNC(gtype=gtype)\n",
    "init_method = \"random_nozero\"  # 'random_nozero' # 'random_closetopi'\n",
    "time_steps = 800  # length of a trajectory\n",
    "num_trajectories = 25  # number of trajectories in total\n",
    "proportion = 0.8  # train test proportion\n",
    "batch_size = 100  # batch size used by dataloader\n",
    "# [1, 1000, 1, 10000]  # [1, 1000, 1, 10000]  # [1, 9000, 1, 10000]\n",
    "w_rescale = [1, 1, 1, 1]\n",
    "shuffle = False  # shuffle sample in the batches between epochs\n",
    "# 'hamiltonian' or 'newtonian', newtonian if you want [q1,q1_dot,q2,q2_dot]\n",
    "coord_type = \"hamiltonian\"\n",
    "min_max_rescale = True  # rescale the training trajectories\n",
    "# which dimensions to rescale if using min_max_rescale, so that nothing is divided by zero\n",
    "rescale_dims = [1, 1, 1, 1]\n",
    "\n",
    "# generate train and test dataloader objects containing the trajectories\n",
    "train_loader_3, test_loader_3 = load_data_device(\n",
    "    device,\n",
    "    init_method,\n",
    "    w_rescale,\n",
    "    u_func,\n",
    "    g_func,\n",
    "    time_steps,\n",
    "    shuffle=shuffle,\n",
    "    num_trajectories=num_trajectories,\n",
    "    coord_type=coord_type,\n",
    "    proportion=proportion,\n",
    "    batch_size=batch_size,\n",
    "    Ts=Ts,\n",
    "    noise_std=noise_std,\n",
    "    C_q1=C_q1,\n",
    "    C_q2=C_q2,\n",
    "    g=g,\n",
    "    Jr=Jr,\n",
    "    Lr=Lr,\n",
    "    Mp=Mp,\n",
    "    Lp=Lp,\n",
    "    min_max_rescale=min_max_rescale,\n",
    "    rescale_dims=rescale_dims,\n",
    ")"
   ]
  },
  {
   "cell_type": "code",
   "execution_count": null,
   "metadata": {
    "colab": {
     "base_uri": "https://localhost:8080/",
     "height": 1000
    },
    "executionInfo": {
     "elapsed": 38117,
     "status": "ok",
     "timestamp": 1654604347251,
     "user": {
      "displayName": "Younes M",
      "userId": "11559524547576106626"
     },
     "user_tz": -120
    },
    "id": "2C9s2WFu47ad",
    "outputId": "0dedc71e-cdad-40a6-d40c-846ca629a85a"
   },
   "outputs": [],
   "source": [
    "# show test and prediction\n",
    "title = \"test set trajectories | 1hz sine input\"\n",
    "for n in [0, 5, 10, 19]:\n",
    "    plot_furuta_hat_nom(\n",
    "        device,\n",
    "        model,\n",
    "        u_func,\n",
    "        g_func,\n",
    "        utype,\n",
    "        gtype,\n",
    "        data_loader_t=train_loader_3,\n",
    "        t_max=time_steps,\n",
    "        n=n,\n",
    "        C_q1=C_q1,\n",
    "        C_q2=C_q2,\n",
    "        g=g,\n",
    "        Jr=Jr,\n",
    "        Lr=Lr,\n",
    "        Mp=Mp,\n",
    "        Lp=Lp,\n",
    "        t_plot=time_steps,\n",
    "        only_pred=True,\n",
    "        show_pred=True,\n",
    "        H_or_Input=\"input\",\n",
    "        title=title,\n",
    "        file_path=plot_path + \"/TRAJECTORIES_train_set\" + str(n) + \"1hzsine.png\",\n",
    "        w_rescale=w_rescale,\n",
    "    )"
   ]
  },
  {
   "cell_type": "code",
   "execution_count": null,
   "metadata": {
    "colab": {
     "base_uri": "https://localhost:8080/",
     "height": 1000
    },
    "executionInfo": {
     "elapsed": 41334,
     "status": "ok",
     "timestamp": 1654604388572,
     "user": {
      "displayName": "Younes M",
      "userId": "11559524547576106626"
     },
     "user_tz": -120
    },
    "id": "PYuDBIds47ad",
    "outputId": "78db7a3c-2f72-4f2a-c9a1-4b8b18a24e80"
   },
   "outputs": [],
   "source": [
    "utype = \"sine\"  # 'chirp' or 'sine' or 'tanh' or 'multisine' or 'step' or None\n",
    "u_func = U_FUNC(utype=utype)  # instantiate the input function u(t)\n",
    "u_func.params[\"T\"] = 1.5\n",
    "u_func.params[\"f0\"] = 0\n",
    "u_func.params[\"f1\"] = 2  # 4 # 1.4\n",
    "u_func.params[\"scale\"] = 0.0001  # for fake : 0.5 or 0.1 for real : 0.0001\n",
    "gtype = \"simple\"  # 'simple' or None\n",
    "# instantiate the input function G(q,p) (here it is constant)\n",
    "g_func = G_FUNC(gtype=gtype)\n",
    "init_method = \"random_nozero\"  # 'random_nozero' # 'random_closetopi'\n",
    "time_steps = 800  # length of a trajectory\n",
    "num_trajectories = 25  # number of trajectories in total\n",
    "proportion = 0.0  # train test proportion\n",
    "batch_size = 100  # batch size used by dataloader\n",
    "w_rescale = [\n",
    "    1,\n",
    "    1,\n",
    "    1,\n",
    "    1,\n",
    "]  # [1, 1000, 1, 10000]  # [1, 1000, 1, 10000]  # [1, 9000, 1, 10000]\n",
    "shuffle = False  # shuffle sample in the batches between epochs\n",
    "# 'hamiltonian' or 'newtonian', newtonian if you want [q1,q1_dot,q2,q2_dot]\n",
    "coord_type = \"hamiltonian\"\n",
    "min_max_rescale = True  # rescale the training trajectories\n",
    "# which dimensions to rescale if using min_max_rescale, so that nothing is divided by zero\n",
    "rescale_dims = [1, 1, 1, 1]\n",
    "\n",
    "# generate train and test dataloader objects containing the trajectories\n",
    "train_loader_4, test_loader_4 = load_data_device(\n",
    "    device,\n",
    "    init_method,\n",
    "    w_rescale,\n",
    "    u_func,\n",
    "    g_func,\n",
    "    time_steps,\n",
    "    shuffle=shuffle,\n",
    "    num_trajectories=num_trajectories,\n",
    "    coord_type=coord_type,\n",
    "    proportion=proportion,\n",
    "    batch_size=batch_size,\n",
    "    Ts=Ts,\n",
    "    noise_std=noise_std,\n",
    "    C_q1=C_q1,\n",
    "    C_q2=C_q2,\n",
    "    g=g,\n",
    "    Jr=Jr,\n",
    "    Lr=Lr,\n",
    "    Mp=Mp,\n",
    "    Lp=Lp,\n",
    "    min_max_rescale=min_max_rescale,\n",
    "    rescale_dims=rescale_dims,\n",
    ")\n",
    "# show test and prediction\n",
    "title = \"test set trajectories | 2hz sine input\"\n",
    "for n in [0, 5, 10, 19]:\n",
    "    plot_furuta_hat_nom(\n",
    "        device,\n",
    "        model,\n",
    "        u_func,\n",
    "        g_func,\n",
    "        utype,\n",
    "        gtype,\n",
    "        data_loader_t=train_loader_4,\n",
    "        t_max=time_steps,\n",
    "        n=n,\n",
    "        C_q1=C_q1,\n",
    "        C_q2=C_q2,\n",
    "        g=g,\n",
    "        Jr=Jr,\n",
    "        Lr=Lr,\n",
    "        Mp=Mp,\n",
    "        Lp=Lp,\n",
    "        t_plot=time_steps,\n",
    "        only_pred=True,\n",
    "        show_pred=True,\n",
    "        H_or_Input=\"input\",\n",
    "        title=title,\n",
    "        file_path=plot_path + \"/TRAJECTORIES_test_set\" + str(n) + \"2hzsine.png\",\n",
    "        w_rescale=w_rescale,\n",
    "    )"
   ]
  },
  {
   "cell_type": "markdown",
   "metadata": {
    "id": "xTc3T4vR47ae"
   },
   "source": [
    "#### chirp, all rescaling with clipping 33k"
   ]
  },
  {
   "cell_type": "code",
   "execution_count": null,
   "metadata": {
    "colab": {
     "base_uri": "https://localhost:8080/"
    },
    "executionInfo": {
     "elapsed": 46,
     "status": "ok",
     "timestamp": 1654604388575,
     "user": {
      "displayName": "Younes M",
      "userId": "11559524547576106626"
     },
     "user_tz": -120
    },
    "id": "Bl71K4Qg47ae",
    "outputId": "103fbbe5-39d3-49f6-9116-8bc8119efe83"
   },
   "outputs": [],
   "source": [
    "set_all_seeds(manualSeed=123, new_results=False)\n",
    "device = set_device()  # set it to gpu if it is available\n",
    "\n",
    "# Parameters to generate the dataset\n",
    "furuta_type = \"real\"  # 'real' or 'fake'\n",
    "Ts, noise_std, C_q1, C_q2, g, Jr, Lr, Mp, Lp = set_furuta_params(which=furuta_type)\n",
    "utype = \"chirp\"  # 'chirp' or 'sine' or 'tanh' or 'multisine' or 'step' or None\n",
    "u_func = U_FUNC(utype=utype)  # instantiate the input function u(t)\n",
    "u_func.params[\"T\"] = 1.5\n",
    "u_func.params[\"f0\"] = 0\n",
    "u_func.params[\"f1\"] = 2  # 4 # 1.4\n",
    "u_func.params[\"scale\"] = 0.0001  # for fake : 0.5 or 0.1 for real : 0.0001\n",
    "gtype = \"simple\"  # 'simple' or None\n",
    "# instantiate the input function G(q,p) (here it is constant)\n",
    "g_func = G_FUNC(gtype=gtype)\n",
    "init_method = \"random_nozero\"  # 'random_nozero' # 'random_closetopi'\n",
    "time_steps = 800  # length of a trajectory\n",
    "num_trajectories = 125  # number of trajectories in total\n",
    "proportion = 0.8  # train test proportion\n",
    "batch_size = 100  # batch size used by dataloader\n",
    "w_rescale = [1, 1000, 1, 10000]  # [1, 1000, 1, 10000]  # [1, 9000, 1, 10000]\n",
    "shuffle = False  # shuffle sample in the batches between epochs\n",
    "# 'hamiltonian' or 'newtonian', newtonian if you want [q1,q1_dot,q2,q2_dot]\n",
    "coord_type = \"hamiltonian\"\n",
    "min_max_rescale = True  # rescale the training trajectories\n",
    "# which dimensions to rescale if using min_max_rescale, so that nothing is divided by zero\n",
    "rescale_dims = [1, 1, 1, 1]\n",
    "\n",
    "# Parameters for the training procedure\n",
    "resnet_config = None\n",
    "alternating = False  # for Input_HNN, if G is a neural network, train\n",
    "horizon_type = \"auto\"  # 'auto' or 'constant'\n",
    "horizon = False  # if horizon_type == 'constant', use this horizon\n",
    "loss_type = \"L2\"  # 'L2' or 'L2weighted'\n",
    "collect_grads = False  # collect gradients in all layers at every epoch\n",
    "# rescale the difference between nominal and train by the min max of train trajectory in loss function\n",
    "rescale_loss = True\n",
    "grad_clip = True  # activate gradient clipping\n",
    "lr_schedule = False  # activate lr schedule\n",
    "begin_decay = 600  # epoch at which lr starts decaying\n",
    "weights = [1.0, 1.0, 1.0, 1.0]  # weights for the loss functions\n",
    "\n",
    "horizon_list = [50, 100, 150, 200, 250, 300]\n",
    "switch_steps = [200, 100, 100, 100, 100, 100]\n",
    "epoch_number = sum(switch_steps)  # total number of training epochs"
   ]
  },
  {
   "cell_type": "code",
   "execution_count": null,
   "metadata": {
    "id": "O5X3kBnG47ae"
   },
   "outputs": [],
   "source": [
    "# generate train and test dataloader objects containing the trajectories\n",
    "train_loader, test_loader = load_data_device(\n",
    "    device,\n",
    "    init_method,\n",
    "    w_rescale,\n",
    "    u_func,\n",
    "    g_func,\n",
    "    time_steps,\n",
    "    shuffle=shuffle,\n",
    "    num_trajectories=num_trajectories,\n",
    "    coord_type=coord_type,\n",
    "    proportion=proportion,\n",
    "    batch_size=batch_size,\n",
    "    Ts=Ts,\n",
    "    noise_std=noise_std,\n",
    "    C_q1=C_q1,\n",
    "    C_q2=C_q2,\n",
    "    g=g,\n",
    "    Jr=Jr,\n",
    "    Lr=Lr,\n",
    "    Mp=Mp,\n",
    "    Lp=Lp,\n",
    "    min_max_rescale=min_max_rescale,\n",
    "    rescale_dims=rescale_dims,\n",
    ")"
   ]
  },
  {
   "cell_type": "code",
   "execution_count": null,
   "metadata": {
    "colab": {
     "base_uri": "https://localhost:8080/"
    },
    "executionInfo": {
     "elapsed": 29,
     "status": "ok",
     "timestamp": 1654604392138,
     "user": {
      "displayName": "Younes M",
      "userId": "11559524547576106626"
     },
     "user_tz": -120
    },
    "id": "Jd8vbkON47af",
    "outputId": "9cd2ab67-1fb7-4fa7-efcd-12896e4e7241"
   },
   "outputs": [],
   "source": [
    "# initialise the model that will be trained\n",
    "model_name = \"NESHDNN_resnet_conf1\"\n",
    "\n",
    "model_name = \"Input_HNN\"\n",
    "\n",
    "H_net = MLP(\n",
    "    input_dim=4, hidden_dim=90, nb_hidden_layers=4, output_dim=1, activation=\"x+sin(x)^2\"\n",
    ")\n",
    "model = Input_HNN(u_func=u_func, G_net=g_func, H_net=H_net, device=device, dissip=False)\n",
    "model.to(device)\n",
    "num_params = count_parameters(model)\n",
    "\n",
    "# create file name from parameters\n",
    "num_params = count_parameters(model)\n",
    "\n",
    "save_prefix = name_from_params(\n",
    "    Ts,\n",
    "    rescale_loss,\n",
    "    weights,\n",
    "    epoch_number,\n",
    "    num_params,\n",
    "    utype,\n",
    "    model_name,\n",
    "    num_trajectories,\n",
    "    furuta_type,\n",
    "    noise_std,\n",
    "    grad_clip,\n",
    "    lr_schedule,\n",
    "    C_q1,\n",
    "    C_q2,\n",
    "    horizon,\n",
    "    min_max_rescale,\n",
    "    w_rescale,\n",
    ")\n",
    "\n",
    "# print some information on the training and file name\n",
    "print(\"Total number of epochs:\", epoch_number)\n",
    "print(\"H_net number of parameters :\", num_params)\n",
    "print(\"Save file prefix : \", save_prefix)\n",
    "\n",
    "# Sanity check\n",
    "is_same_size(horizon_list, switch_steps)"
   ]
  },
  {
   "cell_type": "code",
   "execution_count": null,
   "metadata": {
    "colab": {
     "base_uri": "https://localhost:8080/",
     "height": 1000,
     "output_embedded_package_id": "1GHLiDedpt33NdVm2U6rpw9BaL4wUXbV0"
    },
    "executionInfo": {
     "elapsed": 2265886,
     "status": "ok",
     "timestamp": 1654606658011,
     "user": {
      "displayName": "Younes M",
      "userId": "11559524547576106626"
     },
     "user_tz": -120
    },
    "id": "bfZsD2Zh47af",
    "outputId": "56f2a591-8f92-4ed4-fb27-87934cfbb71d"
   },
   "outputs": [],
   "source": [
    "stats = train(\n",
    "    device=device,\n",
    "    model=model,\n",
    "    Ts=Ts,\n",
    "    train_loader=train_loader,\n",
    "    test_loader=test_loader,\n",
    "    w=torch.tensor(weights, device=device),\n",
    "    grad_clip=grad_clip,\n",
    "    lr_schedule=lr_schedule,\n",
    "    begin_decay=begin_decay,\n",
    "    resnet_config=resnet_config,\n",
    "    \n",
    "    alternating=alternating,\n",
    "    horizon=horizon,\n",
    "    horizon_type=horizon_type,\n",
    "    horizon_list=horizon_list,\n",
    "    switch_steps=switch_steps,\n",
    "    epochs=epoch_number,\n",
    "    loss_type=loss_type,\n",
    "    collect_grads=collect_grads,\n",
    "    rescale_loss=rescale_loss,\n",
    "    rescale_dims=rescale_dims,\n",
    ")"
   ]
  },
  {
   "cell_type": "code",
   "execution_count": null,
   "metadata": {
    "id": "mAIXySYw47af"
   },
   "outputs": [],
   "source": [
    "if collect_grads:\n",
    "    plot_grads(stats)"
   ]
  },
  {
   "cell_type": "code",
   "execution_count": null,
   "metadata": {
    "id": "hfjck3rj47af"
   },
   "outputs": [],
   "source": [
    "# set all paths and create folders :\n",
    "model_path = PATH + \"data/\" + save_prefix + \"/\"\n",
    "stats_path = PATH + \"data/\" + save_prefix + \"/\"\n",
    "plot_path = PATH + \"data/\" + save_prefix + \"/img/\"\n",
    "train_loader_path = PATH + \"data/\" + save_prefix + \"/datasets/\"\n",
    "test_loader_path = PATH + \"data/\" + save_prefix + \"/datasets/\"\n",
    "os.makedirs(model_path, exist_ok=True)\n",
    "os.makedirs(stats_path, exist_ok=True)\n",
    "os.makedirs(plot_path, exist_ok=True)\n",
    "os.makedirs(train_loader_path, exist_ok=True)\n",
    "os.makedirs(test_loader_path, exist_ok=True)"
   ]
  },
  {
   "cell_type": "code",
   "execution_count": null,
   "metadata": {
    "id": "AnJ6l2IV47ag"
   },
   "outputs": [],
   "source": [
    "torch.save(train_loader, train_loader_path + \"train_loader.pt\")\n",
    "if test_loader is not None:\n",
    "    torch.save(test_loader, test_loader_path + \"test_loader.pt\")\n",
    "\n",
    "# save model to disk\n",
    "torch.save(model.state_dict(), model_path + \"model\")\n",
    "\n",
    "# save the stats\n",
    "save_stats(stats, stats_path + \"stats.txt\")"
   ]
  },
  {
   "cell_type": "code",
   "execution_count": null,
   "metadata": {
    "id": "_1eVmHFq47ag"
   },
   "outputs": [],
   "source": [
    "# train_loader = torch.load(train_loader_path)\n",
    "# test_loader = torch.load(test_loader_path)\n",
    "# # loads the stats\n",
    "# stats = read_dict(PATH, stats_path)\n",
    "# # load the model from disk\n",
    "# model.load_state_dict(torch.load(PATH+model_path))\n",
    "# model.eval()"
   ]
  },
  {
   "cell_type": "code",
   "execution_count": null,
   "metadata": {
    "colab": {
     "base_uri": "https://localhost:8080/",
     "height": 573
    },
    "executionInfo": {
     "elapsed": 3340,
     "status": "ok",
     "timestamp": 1654606661344,
     "user": {
      "displayName": "Younes M",
      "userId": "11559524547576106626"
     },
     "user_tz": -120
    },
    "id": "LPNVwE5i47ag",
    "outputId": "190b68f6-fdf7-40c9-a505-1587b466d729"
   },
   "outputs": [],
   "source": [
    "loss_train = stats[\"train_loss\"]\n",
    "loss_test = stats[\"test_loss\"]\n",
    "epochs = np.arange(len(loss_train))\n",
    "train_test_loss_plot(\n",
    "    loss_train,\n",
    "    loss_test,\n",
    "    epochs,\n",
    "    file_path=plot_path + \"/LOSS_train_test.png\",\n",
    "    title=\"train and test loss per epoch\",\n",
    "    horizons=False,\n",
    "    switch_steps=switch_steps,\n",
    ")\n",
    "\n",
    "train_test_loss_plot(\n",
    "    loss_train,\n",
    "    loss_test,\n",
    "    epochs,\n",
    "    file_path=plot_path + \"/LOSS_train_test_warrows.png\",\n",
    "    title=\"train and test loss per epoch\",\n",
    "    horizons=horizon_list[:-1],\n",
    "    switch_steps=switch_steps,\n",
    ")"
   ]
  },
  {
   "cell_type": "code",
   "execution_count": null,
   "metadata": {
    "colab": {
     "base_uri": "https://localhost:8080/",
     "height": 1000
    },
    "executionInfo": {
     "elapsed": 66643,
     "status": "ok",
     "timestamp": 1654606727977,
     "user": {
      "displayName": "Younes M",
      "userId": "11559524547576106626"
     },
     "user_tz": -120
    },
    "id": "WE15ARBU47ag",
    "outputId": "f453a047-c623-4170-8017-afa0ba86e111"
   },
   "outputs": [],
   "source": [
    "# show train and prediction\n",
    "for n in [0, 5, 10, 19]:\n",
    "    plot_furuta_hat_nom(\n",
    "        device,\n",
    "        model,\n",
    "        u_func,\n",
    "        g_func,\n",
    "        utype,\n",
    "        gtype,\n",
    "        data_loader_t=train_loader,\n",
    "        t_max=horizon_list[-1],\n",
    "        n=n,\n",
    "        C_q1=C_q1,\n",
    "        C_q2=C_q2,\n",
    "        g=g,\n",
    "        Jr=Jr,\n",
    "        Lr=Lr,\n",
    "        Mp=Mp,\n",
    "        Lp=Lp,\n",
    "        t_plot=time_steps,\n",
    "        show_pred=True,\n",
    "        H_or_Input=\"input\",\n",
    "        title=\"Train set trajectories\",\n",
    "        file_path=plot_path + \"/TRAJECTORIES_train_set\" + str(n) + \".png\",\n",
    "        w_rescale=w_rescale,\n",
    "    )"
   ]
  },
  {
   "cell_type": "code",
   "execution_count": null,
   "metadata": {
    "colab": {
     "base_uri": "https://localhost:8080/",
     "height": 905
    },
    "executionInfo": {
     "elapsed": 25014,
     "status": "ok",
     "timestamp": 1654606752981,
     "user": {
      "displayName": "Younes M",
      "userId": "11559524547576106626"
     },
     "user_tz": -120
    },
    "id": "suVMmz3347ah",
    "outputId": "811ca8f8-712b-49e0-e5f4-840aaa4c8ed1"
   },
   "outputs": [],
   "source": [
    "# show only training portion\n",
    "for n in [0, 50, 70]:\n",
    "    plot_furuta_hat_nom(\n",
    "        device,\n",
    "        model,\n",
    "        u_func,\n",
    "        g_func,\n",
    "        utype,\n",
    "        gtype,\n",
    "        data_loader_t=train_loader,\n",
    "        t_max=horizon_list[-1],\n",
    "        n=n,\n",
    "        C_q1=C_q1,\n",
    "        C_q2=C_q2,\n",
    "        g=g,\n",
    "        Jr=Jr,\n",
    "        Lr=Lr,\n",
    "        Mp=Mp,\n",
    "        Lp=Lp,\n",
    "        t_plot=horizon_list[-1],\n",
    "        show_pred=False,\n",
    "        title=\"Train set trajectories\",\n",
    "        file_path=plot_path + \"/TRAJECTORIES_train_set\" + str(n) + \".nopred_png\",\n",
    "        w_rescale=w_rescale,\n",
    "    )"
   ]
  },
  {
   "cell_type": "code",
   "execution_count": null,
   "metadata": {
    "colab": {
     "base_uri": "https://localhost:8080/",
     "height": 1000
    },
    "executionInfo": {
     "elapsed": 40541,
     "status": "ok",
     "timestamp": 1654606793491,
     "user": {
      "displayName": "Younes M",
      "userId": "11559524547576106626"
     },
     "user_tz": -120
    },
    "id": "GZmOnGA347ah",
    "outputId": "7d044af8-0441-4efb-9130-bc7a73fda730"
   },
   "outputs": [],
   "source": [
    "# show test and prediction\n",
    "for n in [0, 5, 10, 19]:\n",
    "    plot_furuta_hat_nom(\n",
    "        device,\n",
    "        model,\n",
    "        u_func,\n",
    "        g_func,\n",
    "        utype,\n",
    "        gtype,\n",
    "        data_loader_t=test_loader,\n",
    "        t_max=horizon_list[-1],\n",
    "        n=n,\n",
    "        C_q1=C_q1,\n",
    "        C_q2=C_q2,\n",
    "        g=g,\n",
    "        Jr=Jr,\n",
    "        Lr=Lr,\n",
    "        Mp=Mp,\n",
    "        Lp=Lp,\n",
    "        t_plot=time_steps,\n",
    "        show_pred=True,\n",
    "        H_or_Input=\"input\",\n",
    "        title=\"Test set trajectories\",\n",
    "        file_path=plot_path + \"/TRAJECTORIES_Test_set\" + str(n) + \".png\",\n",
    "        w_rescale=w_rescale,\n",
    "    )"
   ]
  },
  {
   "cell_type": "code",
   "execution_count": null,
   "metadata": {
    "id": "e5I--4Hg47ah"
   },
   "outputs": [],
   "source": [
    "utype = None  # 'chirp' or 'sine' or 'tanh' or 'multisine' or 'step' or None\n",
    "u_func = U_FUNC(utype=utype)  # instantiate the input function u(t)\n",
    "gtype = None  # 'simple' or None\n",
    "# instantiate the input function G(q,p) (here it is constant)\n",
    "g_func = G_FUNC(gtype=gtype)\n",
    "init_method = \"random_nozero\"  # 'random_nozero' # 'random_closetopi'\n",
    "time_steps = 800  # length of a trajectory\n",
    "num_trajectories = 25  # number of trajectories in total\n",
    "proportion = 0.0  # train test proportion\n",
    "batch_size = 100  # batch size used by dataloader\n",
    "w_rescale = [\n",
    "    1,\n",
    "    1,\n",
    "    1,\n",
    "    1,\n",
    "]  # [1, 1000, 1, 10000]  # [1, 1000, 1, 10000]  # [1, 9000, 1, 10000]\n",
    "shuffle = False  # shuffle sample in the batches between epochs\n",
    "# 'hamiltonian' or 'newtonian', newtonian if you want [q1,q1_dot,q2,q2_dot]\n",
    "coord_type = \"hamiltonian\"\n",
    "min_max_rescale = True  # rescale the training trajectories\n",
    "# which dimensions to rescale if using min_max_rescale, so that nothing is divided by zero\n",
    "rescale_dims = [1, 1, 1, 0]\n",
    "\n",
    "# generate train and test dataloader objects containing the trajectories\n",
    "train_loader_2, test_loader_2 = load_data_device(\n",
    "    device,\n",
    "    init_method,\n",
    "    w_rescale,\n",
    "    u_func,\n",
    "    g_func,\n",
    "    time_steps,\n",
    "    shuffle=shuffle,\n",
    "    num_trajectories=num_trajectories,\n",
    "    coord_type=coord_type,\n",
    "    proportion=proportion,\n",
    "    batch_size=batch_size,\n",
    "    Ts=Ts,\n",
    "    noise_std=noise_std,\n",
    "    C_q1=C_q1,\n",
    "    C_q2=C_q2,\n",
    "    g=g,\n",
    "    Jr=Jr,\n",
    "    Lr=Lr,\n",
    "    Mp=Mp,\n",
    "    Lp=Lp,\n",
    "    min_max_rescale=min_max_rescale,\n",
    "    rescale_dims=rescale_dims,\n",
    ")"
   ]
  },
  {
   "cell_type": "code",
   "execution_count": null,
   "metadata": {
    "colab": {
     "base_uri": "https://localhost:8080/",
     "height": 1000
    },
    "executionInfo": {
     "elapsed": 38980,
     "status": "ok",
     "timestamp": 1654606835730,
     "user": {
      "displayName": "Younes M",
      "userId": "11559524547576106626"
     },
     "user_tz": -120
    },
    "id": "1VPdXlSf47ah",
    "outputId": "bdf4f978-233e-4f95-b49e-7b8b3bbec451"
   },
   "outputs": [],
   "source": [
    "# show test and prediction\n",
    "title = \"test set trajectories | no input\"\n",
    "for n in [0, 5, 10, 19]:\n",
    "    plot_furuta_hat_nom(\n",
    "        device,\n",
    "        model,\n",
    "        u_func,\n",
    "        g_func,\n",
    "        utype,\n",
    "        gtype,\n",
    "        data_loader_t=train_loader_2,\n",
    "        t_max=time_steps,\n",
    "        n=n,\n",
    "        C_q1=C_q1,\n",
    "        C_q2=C_q2,\n",
    "        g=g,\n",
    "        Jr=Jr,\n",
    "        Lr=Lr,\n",
    "        Mp=Mp,\n",
    "        Lp=Lp,\n",
    "        t_plot=time_steps,\n",
    "        only_pred=True,\n",
    "        show_pred=True,\n",
    "        H_or_Input=\"input\",\n",
    "        title=title,\n",
    "        file_path=plot_path + \"/TRAJECTORIES_train_set\" + str(n) + \"noinput.png\",\n",
    "        w_rescale=w_rescale,\n",
    "    )"
   ]
  },
  {
   "cell_type": "code",
   "execution_count": null,
   "metadata": {
    "id": "0W_7vHhI47ah"
   },
   "outputs": [],
   "source": [
    "utype = \"sine\"  # 'chirp' or 'sine' or 'tanh' or 'multisine' or 'step' or None\n",
    "u_func = U_FUNC(utype=utype)  # instantiate the input function u(t)\n",
    "u_func.params[\"T\"] = 1.5\n",
    "u_func.params[\"f0\"] = 0\n",
    "u_func.params[\"f1\"] = 1  # 4 # 1.4\n",
    "u_func.params[\"scale\"] = 0.0001  # for fake : 0.5 or 0.1 for real : 0.0001\n",
    "gtype = \"simple\"  # 'simple' or None\n",
    "# instantiate the input function G(q,p) (here it is constant)\n",
    "g_func = G_FUNC(gtype=gtype)\n",
    "init_method = \"random_nozero\"  # 'random_nozero' # 'random_closetopi'\n",
    "time_steps = 800  # length of a trajectory\n",
    "num_trajectories = 25  # number of trajectories in total\n",
    "proportion = 0.8  # train test proportion\n",
    "batch_size = 100  # batch size used by dataloader\n",
    "# [1, 1000, 1, 10000]  # [1, 1000, 1, 10000]  # [1, 9000, 1, 10000]\n",
    "w_rescale = [1, 1, 1, 1]\n",
    "shuffle = False  # shuffle sample in the batches between epochs\n",
    "# 'hamiltonian' or 'newtonian', newtonian if you want [q1,q1_dot,q2,q2_dot]\n",
    "coord_type = \"hamiltonian\"\n",
    "min_max_rescale = True  # rescale the training trajectories\n",
    "# which dimensions to rescale if using min_max_rescale, so that nothing is divided by zero\n",
    "rescale_dims = [1, 1, 1, 1]\n",
    "\n",
    "# generate train and test dataloader objects containing the trajectories\n",
    "train_loader_3, test_loader_3 = load_data_device(\n",
    "    device,\n",
    "    init_method,\n",
    "    w_rescale,\n",
    "    u_func,\n",
    "    g_func,\n",
    "    time_steps,\n",
    "    shuffle=shuffle,\n",
    "    num_trajectories=num_trajectories,\n",
    "    coord_type=coord_type,\n",
    "    proportion=proportion,\n",
    "    batch_size=batch_size,\n",
    "    Ts=Ts,\n",
    "    noise_std=noise_std,\n",
    "    C_q1=C_q1,\n",
    "    C_q2=C_q2,\n",
    "    g=g,\n",
    "    Jr=Jr,\n",
    "    Lr=Lr,\n",
    "    Mp=Mp,\n",
    "    Lp=Lp,\n",
    "    min_max_rescale=min_max_rescale,\n",
    "    rescale_dims=rescale_dims,\n",
    ")"
   ]
  },
  {
   "cell_type": "code",
   "execution_count": null,
   "metadata": {
    "colab": {
     "base_uri": "https://localhost:8080/",
     "height": 1000
    },
    "executionInfo": {
     "elapsed": 38965,
     "status": "ok",
     "timestamp": 1654606877751,
     "user": {
      "displayName": "Younes M",
      "userId": "11559524547576106626"
     },
     "user_tz": -120
    },
    "id": "1GM6-j7S47ai",
    "outputId": "613bacf9-6133-42c7-8059-a75f986602f5"
   },
   "outputs": [],
   "source": [
    "# show test and prediction\n",
    "title = \"test set trajectories | 1hz sine input\"\n",
    "for n in [0, 5, 10, 19]:\n",
    "    plot_furuta_hat_nom(\n",
    "        device,\n",
    "        model,\n",
    "        u_func,\n",
    "        g_func,\n",
    "        utype,\n",
    "        gtype,\n",
    "        data_loader_t=train_loader_3,\n",
    "        t_max=time_steps,\n",
    "        n=n,\n",
    "        C_q1=C_q1,\n",
    "        C_q2=C_q2,\n",
    "        g=g,\n",
    "        Jr=Jr,\n",
    "        Lr=Lr,\n",
    "        Mp=Mp,\n",
    "        Lp=Lp,\n",
    "        t_plot=time_steps,\n",
    "        only_pred=True,\n",
    "        show_pred=True,\n",
    "        H_or_Input=\"input\",\n",
    "        title=title,\n",
    "        file_path=plot_path + \"/TRAJECTORIES_train_set\" + str(n) + \"1hzsine.png\",\n",
    "        w_rescale=w_rescale,\n",
    "    )"
   ]
  },
  {
   "cell_type": "code",
   "execution_count": null,
   "metadata": {
    "colab": {
     "base_uri": "https://localhost:8080/",
     "height": 1000
    },
    "executionInfo": {
     "elapsed": 42248,
     "status": "ok",
     "timestamp": 1654606919965,
     "user": {
      "displayName": "Younes M",
      "userId": "11559524547576106626"
     },
     "user_tz": -120
    },
    "id": "fEZ-eP2s47ai",
    "outputId": "9a11b432-01e2-4317-add9-bd70d8919dca"
   },
   "outputs": [],
   "source": [
    "utype = \"sine\"  # 'chirp' or 'sine' or 'tanh' or 'multisine' or 'step' or None\n",
    "u_func = U_FUNC(utype=utype)  # instantiate the input function u(t)\n",
    "u_func.params[\"T\"] = 1.5\n",
    "u_func.params[\"f0\"] = 0\n",
    "u_func.params[\"f1\"] = 2  # 4 # 1.4\n",
    "u_func.params[\"scale\"] = 0.0001  # for fake : 0.5 or 0.1 for real : 0.0001\n",
    "gtype = \"simple\"  # 'simple' or None\n",
    "# instantiate the input function G(q,p) (here it is constant)\n",
    "g_func = G_FUNC(gtype=gtype)\n",
    "init_method = \"random_nozero\"  # 'random_nozero' # 'random_closetopi'\n",
    "time_steps = 800  # length of a trajectory\n",
    "num_trajectories = 25  # number of trajectories in total\n",
    "proportion = 0.0  # train test proportion\n",
    "batch_size = 100  # batch size used by dataloader\n",
    "w_rescale = [\n",
    "    1,\n",
    "    1,\n",
    "    1,\n",
    "    1,\n",
    "]  # [1, 1000, 1, 10000]  # [1, 1000, 1, 10000]  # [1, 9000, 1, 10000]\n",
    "shuffle = False  # shuffle sample in the batches between epochs\n",
    "# 'hamiltonian' or 'newtonian', newtonian if you want [q1,q1_dot,q2,q2_dot]\n",
    "coord_type = \"hamiltonian\"\n",
    "min_max_rescale = True  # rescale the training trajectories\n",
    "# which dimensions to rescale if using min_max_rescale, so that nothing is divided by zero\n",
    "rescale_dims = [1, 1, 1, 1]\n",
    "\n",
    "# generate train and test dataloader objects containing the trajectories\n",
    "train_loader_4, test_loader_4 = load_data_device(\n",
    "    device,\n",
    "    init_method,\n",
    "    w_rescale,\n",
    "    u_func,\n",
    "    g_func,\n",
    "    time_steps,\n",
    "    shuffle=shuffle,\n",
    "    num_trajectories=num_trajectories,\n",
    "    coord_type=coord_type,\n",
    "    proportion=proportion,\n",
    "    batch_size=batch_size,\n",
    "    Ts=Ts,\n",
    "    noise_std=noise_std,\n",
    "    C_q1=C_q1,\n",
    "    C_q2=C_q2,\n",
    "    g=g,\n",
    "    Jr=Jr,\n",
    "    Lr=Lr,\n",
    "    Mp=Mp,\n",
    "    Lp=Lp,\n",
    "    min_max_rescale=min_max_rescale,\n",
    "    rescale_dims=rescale_dims,\n",
    ")\n",
    "# show test and prediction\n",
    "title = \"test set trajectories | 2hz sine input\"\n",
    "for n in [0, 5, 10, 19]:\n",
    "    plot_furuta_hat_nom(\n",
    "        device,\n",
    "        model,\n",
    "        u_func,\n",
    "        g_func,\n",
    "        utype,\n",
    "        gtype,\n",
    "        data_loader_t=train_loader_4,\n",
    "        t_max=time_steps,\n",
    "        n=n,\n",
    "        C_q1=C_q1,\n",
    "        C_q2=C_q2,\n",
    "        g=g,\n",
    "        Jr=Jr,\n",
    "        Lr=Lr,\n",
    "        Mp=Mp,\n",
    "        Lp=Lp,\n",
    "        t_plot=time_steps,\n",
    "        only_pred=True,\n",
    "        show_pred=True,\n",
    "        H_or_Input=\"input\",\n",
    "        title=title,\n",
    "        file_path=plot_path + \"/TRAJECTORIES_test_set\" + str(n) + \"2hzsine.png\",\n",
    "        w_rescale=w_rescale,\n",
    "    )"
   ]
  },
  {
   "cell_type": "markdown",
   "metadata": {
    "id": "ePaq3k0t47ai"
   },
   "source": [
    "## with NN for G"
   ]
  },
  {
   "cell_type": "code",
   "execution_count": null,
   "metadata": {
    "colab": {
     "base_uri": "https://localhost:8080/"
    },
    "executionInfo": {
     "elapsed": 26,
     "status": "ok",
     "timestamp": 1654606920211,
     "user": {
      "displayName": "Younes M",
      "userId": "11559524547576106626"
     },
     "user_tz": -120
    },
    "id": "5BvwNZoR47ai",
    "outputId": "b3a686e4-787b-4858-ee2e-afec9a9d7104"
   },
   "outputs": [],
   "source": [
    "set_all_seeds(manualSeed=123, new_results=False)\n",
    "device = set_device()  # set it to gpu if it is available\n",
    "\n",
    "# Parameters to generate the dataset\n",
    "furuta_type = \"real\"  # 'real' or 'fake'\n",
    "Ts, noise_std, C_q1, C_q2, g, Jr, Lr, Mp, Lp = set_furuta_params(which=furuta_type)\n",
    "utype = \"chirp\"  # 'chirp' or 'sine' or 'tanh' or 'multisine' or 'step' or None\n",
    "u_func = U_FUNC(utype=utype)  # instantiate the input function u(t)\n",
    "u_func.params[\"T\"] = 1.5\n",
    "u_func.params[\"f0\"] = 0\n",
    "u_func.params[\"f1\"] = 2  # 4 # 1.4\n",
    "u_func.params[\"scale\"] = 0.0001  # for fake : 0.5 or 0.1 for real : 0.0001\n",
    "gtype = \"simple\"  # 'simple' or None\n",
    "# instantiate the input function G(q,p) (here it is constant)\n",
    "g_func = G_FUNC(gtype=gtype)\n",
    "init_method = \"random_nozero\"  # 'random_nozero' # 'random_closetopi'\n",
    "time_steps = 800  # length of a trajectory\n",
    "num_trajectories = 125  # number of trajectories in total\n",
    "proportion = 0.8  # train test proportion\n",
    "batch_size = 100  # batch size used by dataloader\n",
    "w_rescale = [1, 1000, 1, 10000]  # [1, 1000, 1, 10000]  # [1, 9000, 1, 10000]\n",
    "shuffle = False  # shuffle sample in the batches between epochs\n",
    "# 'hamiltonian' or 'newtonian', newtonian if you want [q1,q1_dot,q2,q2_dot]\n",
    "coord_type = \"hamiltonian\"\n",
    "min_max_rescale = True  # rescale the training trajectories\n",
    "# which dimensions to rescale if using min_max_rescale, so that nothing is divided by zero\n",
    "rescale_dims = [1, 1, 1, 1]\n",
    "\n",
    "# Parameters for the training procedure\n",
    "resnet_config = None\n",
    "alternating = False  # for Input_HNN, if G is a neural network, train\n",
    "horizon_type = \"auto\"  # 'auto' or 'constant'\n",
    "horizon = False  # if horizon_type == 'constant', use this horizon\n",
    "loss_type = \"L2\"  # 'L2' or 'L2weighted'\n",
    "collect_grads = False  # collect gradients in all layers at every epoch\n",
    "# rescale the difference between nominal and train by the min max of train trajectory in loss function\n",
    "rescale_loss = True\n",
    "grad_clip = True  # activate gradient clipping\n",
    "lr_schedule = False  # activate lr schedule\n",
    "begin_decay = 600  # epoch at which lr starts decaying\n",
    "weights = [1.0, 1.0, 1.0, 1.0]  # weights for the loss functions\n",
    "\n",
    "horizon_list = [50, 100, 150, 200, 250, 300]\n",
    "switch_steps = [200, 100, 100, 100, 100, 100]\n",
    "epoch_number = sum(switch_steps)  # total number of training epochs"
   ]
  },
  {
   "cell_type": "code",
   "execution_count": null,
   "metadata": {
    "id": "4KOg6OWn47ai"
   },
   "outputs": [],
   "source": [
    "# generate train and test dataloader objects containing the trajectories\n",
    "train_loader, test_loader = load_data_device(\n",
    "    device,\n",
    "    init_method,\n",
    "    w_rescale,\n",
    "    u_func,\n",
    "    g_func,\n",
    "    time_steps,\n",
    "    shuffle=shuffle,\n",
    "    num_trajectories=num_trajectories,\n",
    "    coord_type=coord_type,\n",
    "    proportion=proportion,\n",
    "    batch_size=batch_size,\n",
    "    Ts=Ts,\n",
    "    noise_std=noise_std,\n",
    "    C_q1=C_q1,\n",
    "    C_q2=C_q2,\n",
    "    g=g,\n",
    "    Jr=Jr,\n",
    "    Lr=Lr,\n",
    "    Mp=Mp,\n",
    "    Lp=Lp,\n",
    "    min_max_rescale=min_max_rescale,\n",
    "    rescale_dims=rescale_dims,\n",
    ")"
   ]
  },
  {
   "cell_type": "code",
   "execution_count": null,
   "metadata": {
    "colab": {
     "base_uri": "https://localhost:8080/"
    },
    "executionInfo": {
     "elapsed": 39,
     "status": "ok",
     "timestamp": 1654606924181,
     "user": {
      "displayName": "Younes M",
      "userId": "11559524547576106626"
     },
     "user_tz": -120
    },
    "id": "6bTRa_u047aj",
    "outputId": "88f76808-bfec-4e8d-a0b7-26c1ac21d0c9"
   },
   "outputs": [],
   "source": [
    "# initialise the model that will be trained\n",
    "\n",
    "model_name = \"Input_HNN_GNN\"\n",
    "\n",
    "H_net = MLP(\n",
    "    input_dim=4, hidden_dim=90, nb_hidden_layers=4, output_dim=1, activation=\"x+sin(x)^2\"\n",
    ")\n",
    "G_net = MLP(\n",
    "    input_dim=4, hidden_dim=60, nb_hidden_layers=1, output_dim=4, activation=\"x+sin(x)^2\"\n",
    ")\n",
    "model = Input_HNN(u_func=u_func, G_net=G_net, H_net=H_net, device=device, dissip=False)\n",
    "model.to(device)\n",
    "num_params = count_parameters(H_net)\n",
    "num_params_g = count_parameters(G_net)\n",
    "# create file name from parameters\n",
    "\n",
    "\n",
    "save_prefix = name_from_params(\n",
    "    Ts,\n",
    "    rescale_loss,\n",
    "    weights,\n",
    "    epoch_number,\n",
    "    num_params,\n",
    "    utype,\n",
    "    model_name,\n",
    "    num_trajectories,\n",
    "    furuta_type,\n",
    "    noise_std,\n",
    "    grad_clip,\n",
    "    lr_schedule,\n",
    "    C_q1,\n",
    "    C_q2,\n",
    "    horizon,\n",
    "    min_max_rescale,\n",
    "    w_rescale,\n",
    ")\n",
    "\n",
    "# print some information on the training and file name\n",
    "print(\"Total number of epochs:\", epoch_number)\n",
    "print(\"H_net number of parameters :\", num_params)\n",
    "print(\"G_net number of parameters :\", num_params_g)\n",
    "print(\"Save file prefix : \", save_prefix)\n",
    "\n",
    "# Sanity check\n",
    "is_same_size(horizon_list, switch_steps)"
   ]
  },
  {
   "cell_type": "code",
   "execution_count": null,
   "metadata": {
    "colab": {
     "base_uri": "https://localhost:8080/",
     "height": 1000,
     "output_embedded_package_id": "1xaBAxS-004gQWebO74Uw5cl6D5H0jznH"
    },
    "executionInfo": {
     "elapsed": 2553523,
     "status": "ok",
     "timestamp": 1654609477693,
     "user": {
      "displayName": "Younes M",
      "userId": "11559524547576106626"
     },
     "user_tz": -120
    },
    "id": "kgFA6SKA47aj",
    "outputId": "2bbf60ab-72e5-4878-8dbf-e9b71140d83f"
   },
   "outputs": [],
   "source": [
    "stats = train(\n",
    "    device=device,\n",
    "    model=model,\n",
    "    Ts=Ts,\n",
    "    train_loader=train_loader,\n",
    "    test_loader=test_loader,\n",
    "    w=torch.tensor(weights, device=device),\n",
    "    grad_clip=grad_clip,\n",
    "    lr_schedule=lr_schedule,\n",
    "    begin_decay=begin_decay,\n",
    "    resnet_config=resnet_config,\n",
    "    \n",
    "    alternating=alternating,\n",
    "    horizon=horizon,\n",
    "    horizon_type=horizon_type,\n",
    "    horizon_list=horizon_list,\n",
    "    switch_steps=switch_steps,\n",
    "    epochs=epoch_number,\n",
    "    loss_type=loss_type,\n",
    "    collect_grads=collect_grads,\n",
    "    rescale_loss=rescale_loss,\n",
    "    rescale_dims=rescale_dims,\n",
    ")"
   ]
  },
  {
   "cell_type": "code",
   "execution_count": null,
   "metadata": {
    "id": "7ekZfR6W47ak"
   },
   "outputs": [],
   "source": [
    "if collect_grads:\n",
    "    plot_grads(stats)"
   ]
  },
  {
   "cell_type": "code",
   "execution_count": null,
   "metadata": {
    "id": "Ejk5zc-I47al"
   },
   "outputs": [],
   "source": [
    "# set all paths and create folders :\n",
    "model_path = PATH + \"data/\" + save_prefix + \"/\"\n",
    "stats_path = PATH + \"data/\" + save_prefix + \"/\"\n",
    "plot_path = PATH + \"data/\" + save_prefix + \"/img/\"\n",
    "train_loader_path = PATH + \"data/\" + save_prefix + \"/datasets/\"\n",
    "test_loader_path = PATH + \"data/\" + save_prefix + \"/datasets/\"\n",
    "os.makedirs(model_path, exist_ok=True)\n",
    "os.makedirs(stats_path, exist_ok=True)\n",
    "os.makedirs(plot_path, exist_ok=True)\n",
    "os.makedirs(train_loader_path, exist_ok=True)\n",
    "os.makedirs(test_loader_path, exist_ok=True)"
   ]
  },
  {
   "cell_type": "code",
   "execution_count": null,
   "metadata": {
    "id": "TKccMrUt47al"
   },
   "outputs": [],
   "source": [
    "torch.save(train_loader, train_loader_path + \"train_loader.pt\")\n",
    "if test_loader is not None:\n",
    "    torch.save(test_loader, test_loader_path + \"test_loader.pt\")\n",
    "\n",
    "# save model to disk\n",
    "torch.save(model.state_dict(), model_path + \"model\")\n",
    "\n",
    "# save the stats\n",
    "save_stats(stats, stats_path + \"stats.txt\")"
   ]
  },
  {
   "cell_type": "code",
   "execution_count": null,
   "metadata": {
    "id": "dRl7bvbM47al"
   },
   "outputs": [],
   "source": [
    "# train_loader = torch.load(train_loader_path)\n",
    "# test_loader = torch.load(test_loader_path)\n",
    "# # loads the stats\n",
    "# stats = read_dict(PATH, stats_path)\n",
    "# # load the model from disk\n",
    "# model.load_state_dict(torch.load(PATH+model_path))\n",
    "# model.eval()"
   ]
  },
  {
   "cell_type": "code",
   "execution_count": null,
   "metadata": {
    "colab": {
     "base_uri": "https://localhost:8080/",
     "height": 573
    },
    "executionInfo": {
     "elapsed": 3195,
     "status": "ok",
     "timestamp": 1654609480877,
     "user": {
      "displayName": "Younes M",
      "userId": "11559524547576106626"
     },
     "user_tz": -120
    },
    "id": "cnz3slGr47al",
    "outputId": "25b12d57-749b-4bcb-98d2-df4708663d08"
   },
   "outputs": [],
   "source": [
    "loss_train = stats[\"train_loss\"]\n",
    "loss_test = stats[\"test_loss\"]\n",
    "epochs = np.arange(len(loss_train))\n",
    "train_test_loss_plot(\n",
    "    loss_train,\n",
    "    loss_test,\n",
    "    epochs,\n",
    "    file_path=plot_path + \"/LOSS_train_test.png\",\n",
    "    title=\"train and test loss per epoch\",\n",
    "    horizons=False,\n",
    "    switch_steps=switch_steps,\n",
    ")\n",
    "\n",
    "train_test_loss_plot(\n",
    "    loss_train,\n",
    "    loss_test,\n",
    "    epochs,\n",
    "    file_path=plot_path + \"/LOSS_train_test_warrows.png\",\n",
    "    title=\"train and test loss per epoch\",\n",
    "    horizons=horizon_list[:-1],\n",
    "    switch_steps=switch_steps,\n",
    ")"
   ]
  },
  {
   "cell_type": "code",
   "execution_count": null,
   "metadata": {
    "colab": {
     "base_uri": "https://localhost:8080/",
     "height": 1000
    },
    "executionInfo": {
     "elapsed": 74409,
     "status": "ok",
     "timestamp": 1654609555272,
     "user": {
      "displayName": "Younes M",
      "userId": "11559524547576106626"
     },
     "user_tz": -120
    },
    "id": "5HRdPhQB47al",
    "outputId": "45146995-17a6-417b-9176-a5c15f54037c"
   },
   "outputs": [],
   "source": [
    "# show train and prediction\n",
    "for n in [0, 5, 10, 19]:\n",
    "    plot_furuta_hat_nom(\n",
    "        device,\n",
    "        model,\n",
    "        u_func,\n",
    "        g_func,\n",
    "        utype,\n",
    "        gtype,\n",
    "        data_loader_t=train_loader,\n",
    "        t_max=horizon_list[-1],\n",
    "        n=n,\n",
    "        C_q1=C_q1,\n",
    "        C_q2=C_q2,\n",
    "        g=g,\n",
    "        Jr=Jr,\n",
    "        Lr=Lr,\n",
    "        Mp=Mp,\n",
    "        Lp=Lp,\n",
    "        t_plot=time_steps,\n",
    "        show_pred=True,\n",
    "        H_or_Input=\"input\",\n",
    "        title=\"Train set trajectories\",\n",
    "        file_path=plot_path + \"/TRAJECTORIES_train_set\" + str(n) + \".png\",\n",
    "        w_rescale=w_rescale,\n",
    "    )"
   ]
  },
  {
   "cell_type": "code",
   "execution_count": null,
   "metadata": {
    "colab": {
     "base_uri": "https://localhost:8080/",
     "height": 905
    },
    "executionInfo": {
     "elapsed": 25206,
     "status": "ok",
     "timestamp": 1654609580473,
     "user": {
      "displayName": "Younes M",
      "userId": "11559524547576106626"
     },
     "user_tz": -120
    },
    "id": "vGNqv13247am",
    "outputId": "54eb1891-96d8-4218-c78d-228bd8c8f034"
   },
   "outputs": [],
   "source": [
    "# show only training portion\n",
    "for n in [0, 50, 70]:\n",
    "    plot_furuta_hat_nom(\n",
    "        device,\n",
    "        model,\n",
    "        u_func,\n",
    "        g_func,\n",
    "        utype,\n",
    "        gtype,\n",
    "        data_loader_t=train_loader,\n",
    "        t_max=horizon_list[-1],\n",
    "        n=n,\n",
    "        C_q1=C_q1,\n",
    "        C_q2=C_q2,\n",
    "        g=g,\n",
    "        Jr=Jr,\n",
    "        Lr=Lr,\n",
    "        Mp=Mp,\n",
    "        Lp=Lp,\n",
    "        t_plot=horizon_list[-1],\n",
    "        show_pred=False,\n",
    "        title=\"Train set trajectories\",\n",
    "        file_path=plot_path + \"/TRAJECTORIES_train_set\" + str(n) + \".png\",\n",
    "        w_rescale=w_rescale,\n",
    "    )"
   ]
  },
  {
   "cell_type": "code",
   "execution_count": null,
   "metadata": {
    "colab": {
     "base_uri": "https://localhost:8080/",
     "height": 1000
    },
    "executionInfo": {
     "elapsed": 41560,
     "status": "ok",
     "timestamp": 1654609622022,
     "user": {
      "displayName": "Younes M",
      "userId": "11559524547576106626"
     },
     "user_tz": -120
    },
    "id": "2G8Cd4Fa47am",
    "outputId": "520a1b49-e58c-455c-98f8-82d20fb20828"
   },
   "outputs": [],
   "source": [
    "# show test and prediction\n",
    "for n in [0, 5, 10, 19]:\n",
    "    plot_furuta_hat_nom(\n",
    "        device,\n",
    "        model,\n",
    "        u_func,\n",
    "        g_func,\n",
    "        utype,\n",
    "        gtype,\n",
    "        data_loader_t=test_loader,\n",
    "        t_max=horizon_list[-1],\n",
    "        n=n,\n",
    "        C_q1=C_q1,\n",
    "        C_q2=C_q2,\n",
    "        g=g,\n",
    "        Jr=Jr,\n",
    "        Lr=Lr,\n",
    "        Mp=Mp,\n",
    "        Lp=Lp,\n",
    "        t_plot=time_steps,\n",
    "        show_pred=True,\n",
    "        H_or_Input=\"input\",\n",
    "        title=\"Train set trajectories\",\n",
    "        file_path=plot_path + \"/TRAJECTORIES_train_set\" + str(n) + \".png\",\n",
    "        w_rescale=w_rescale,\n",
    "    )"
   ]
  },
  {
   "cell_type": "code",
   "execution_count": null,
   "metadata": {
    "id": "MXet82AY47am"
   },
   "outputs": [],
   "source": [
    "utype = None  # 'chirp' or 'sine' or 'tanh' or 'multisine' or 'step' or None\n",
    "u_func = U_FUNC(utype=utype)  # instantiate the input function u(t)\n",
    "gtype = None  # 'simple' or None\n",
    "# instantiate the input function G(q,p) (here it is constant)\n",
    "g_func = G_FUNC(gtype=gtype)\n",
    "init_method = \"random_nozero\"  # 'random_nozero' # 'random_closetopi'\n",
    "time_steps = 800  # length of a trajectory\n",
    "num_trajectories = 25  # number of trajectories in total\n",
    "proportion = 0.0  # train test proportion\n",
    "batch_size = 100  # batch size used by dataloader\n",
    "w_rescale = [\n",
    "    1,\n",
    "    1,\n",
    "    1,\n",
    "    1,\n",
    "]  # [1, 1000, 1, 10000]  # [1, 1000, 1, 10000]  # [1, 9000, 1, 10000]\n",
    "shuffle = False  # shuffle sample in the batches between epochs\n",
    "# 'hamiltonian' or 'newtonian', newtonian if you want [q1,q1_dot,q2,q2_dot]\n",
    "coord_type = \"hamiltonian\"\n",
    "min_max_rescale = True  # rescale the training trajectories\n",
    "# which dimensions to rescale if using min_max_rescale, so that nothing is divided by zero\n",
    "rescale_dims = [1, 1, 1, 0]\n",
    "\n",
    "# generate train and test dataloader objects containing the trajectories\n",
    "train_loader_2, test_loader_2 = load_data_device(\n",
    "    device,\n",
    "    init_method,\n",
    "    w_rescale,\n",
    "    u_func,\n",
    "    g_func,\n",
    "    time_steps,\n",
    "    shuffle=shuffle,\n",
    "    num_trajectories=num_trajectories,\n",
    "    coord_type=coord_type,\n",
    "    proportion=proportion,\n",
    "    batch_size=batch_size,\n",
    "    Ts=Ts,\n",
    "    noise_std=noise_std,\n",
    "    C_q1=C_q1,\n",
    "    C_q2=C_q2,\n",
    "    g=g,\n",
    "    Jr=Jr,\n",
    "    Lr=Lr,\n",
    "    Mp=Mp,\n",
    "    Lp=Lp,\n",
    "    min_max_rescale=min_max_rescale,\n",
    "    rescale_dims=rescale_dims,\n",
    ")"
   ]
  },
  {
   "cell_type": "code",
   "execution_count": null,
   "metadata": {
    "colab": {
     "base_uri": "https://localhost:8080/",
     "height": 1000
    },
    "executionInfo": {
     "elapsed": 44031,
     "status": "ok",
     "timestamp": 1654609669243,
     "user": {
      "displayName": "Younes M",
      "userId": "11559524547576106626"
     },
     "user_tz": -120
    },
    "id": "Bp-H-pj847am",
    "outputId": "1e5211ec-d0d1-4235-af3d-5e513e9ae01b"
   },
   "outputs": [],
   "source": [
    "# show test and prediction\n",
    "title = \"test set trajectories | no input\"\n",
    "for n in [0, 5, 10, 19]:\n",
    "    plot_furuta_hat_nom(\n",
    "        device,\n",
    "        model,\n",
    "        u_func,\n",
    "        g_func,\n",
    "        utype,\n",
    "        gtype,\n",
    "        data_loader_t=train_loader_2,\n",
    "        t_max=time_steps,\n",
    "        n=n,\n",
    "        C_q1=C_q1,\n",
    "        C_q2=C_q2,\n",
    "        g=g,\n",
    "        Jr=Jr,\n",
    "        Lr=Lr,\n",
    "        Mp=Mp,\n",
    "        Lp=Lp,\n",
    "        t_plot=time_steps,\n",
    "        only_pred=True,\n",
    "        show_pred=True,\n",
    "        H_or_Input=\"input\",\n",
    "        title=title,\n",
    "        file_path=plot_path + \"/TRAJECTORIES_train_set\" + str(n) + \"noinput.png\",\n",
    "        w_rescale=w_rescale,\n",
    "    )"
   ]
  },
  {
   "cell_type": "code",
   "execution_count": null,
   "metadata": {
    "id": "I2kzRlfI47an"
   },
   "outputs": [],
   "source": [
    "utype = \"sine\"  # 'chirp' or 'sine' or 'tanh' or 'multisine' or 'step' or None\n",
    "u_func = U_FUNC(utype=utype)  # instantiate the input function u(t)\n",
    "u_func.params[\"T\"] = 1.5\n",
    "u_func.params[\"f0\"] = 0\n",
    "u_func.params[\"f1\"] = 1  # 4 # 1.4\n",
    "u_func.params[\"scale\"] = 0.0001  # for fake : 0.5 or 0.1 for real : 0.0001\n",
    "gtype = \"simple\"  # 'simple' or None\n",
    "# instantiate the input function G(q,p) (here it is constant)\n",
    "g_func = G_FUNC(gtype=gtype)\n",
    "init_method = \"random_nozero\"  # 'random_nozero' # 'random_closetopi'\n",
    "time_steps = 800  # length of a trajectory\n",
    "num_trajectories = 25  # number of trajectories in total\n",
    "proportion = 0.8  # train test proportion\n",
    "batch_size = 100  # batch size used by dataloader\n",
    "# [1, 1000, 1, 10000]  # [1, 1000, 1, 10000]  # [1, 9000, 1, 10000]\n",
    "w_rescale = [1, 1, 1, 1]\n",
    "shuffle = False  # shuffle sample in the batches between epochs\n",
    "# 'hamiltonian' or 'newtonian', newtonian if you want [q1,q1_dot,q2,q2_dot]\n",
    "coord_type = \"hamiltonian\"\n",
    "min_max_rescale = True  # rescale the training trajectories\n",
    "# which dimensions to rescale if using min_max_rescale, so that nothing is divided by zero\n",
    "rescale_dims = [1, 1, 1, 1]\n",
    "\n",
    "# generate train and test dataloader objects containing the trajectories\n",
    "train_loader_3, test_loader_3 = load_data_device(\n",
    "    device,\n",
    "    init_method,\n",
    "    w_rescale,\n",
    "    u_func,\n",
    "    g_func,\n",
    "    time_steps,\n",
    "    shuffle=shuffle,\n",
    "    num_trajectories=num_trajectories,\n",
    "    coord_type=coord_type,\n",
    "    proportion=proportion,\n",
    "    batch_size=batch_size,\n",
    "    Ts=Ts,\n",
    "    noise_std=noise_std,\n",
    "    C_q1=C_q1,\n",
    "    C_q2=C_q2,\n",
    "    g=g,\n",
    "    Jr=Jr,\n",
    "    Lr=Lr,\n",
    "    Mp=Mp,\n",
    "    Lp=Lp,\n",
    "    min_max_rescale=min_max_rescale,\n",
    "    rescale_dims=rescale_dims,\n",
    ")"
   ]
  },
  {
   "cell_type": "code",
   "execution_count": null,
   "metadata": {
    "colab": {
     "base_uri": "https://localhost:8080/",
     "height": 1000
    },
    "executionInfo": {
     "elapsed": 40086,
     "status": "ok",
     "timestamp": 1654609712866,
     "user": {
      "displayName": "Younes M",
      "userId": "11559524547576106626"
     },
     "user_tz": -120
    },
    "id": "q6vadPsy47an",
    "outputId": "3528cf42-709b-4323-fdd3-9b58754e80de"
   },
   "outputs": [],
   "source": [
    "# show test and prediction\n",
    "title = \"test set trajectories | 1hz sine input\"\n",
    "for n in [0, 5, 10, 19]:\n",
    "    plot_furuta_hat_nom(\n",
    "        device,\n",
    "        model,\n",
    "        u_func,\n",
    "        g_func,\n",
    "        utype,\n",
    "        gtype,\n",
    "        data_loader_t=train_loader_3,\n",
    "        t_max=time_steps,\n",
    "        n=n,\n",
    "        C_q1=C_q1,\n",
    "        C_q2=C_q2,\n",
    "        g=g,\n",
    "        Jr=Jr,\n",
    "        Lr=Lr,\n",
    "        Mp=Mp,\n",
    "        Lp=Lp,\n",
    "        t_plot=time_steps,\n",
    "        only_pred=True,\n",
    "        show_pred=True,\n",
    "        H_or_Input=\"input\",\n",
    "        title=title,\n",
    "        file_path=plot_path + \"/TRAJECTORIES_train_set\" + str(n) + \"1hzsine.png\",\n",
    "        w_rescale=w_rescale,\n",
    "    )"
   ]
  },
  {
   "cell_type": "code",
   "execution_count": null,
   "metadata": {
    "colab": {
     "base_uri": "https://localhost:8080/",
     "height": 1000
    },
    "executionInfo": {
     "elapsed": 44419,
     "status": "ok",
     "timestamp": 1654609757263,
     "user": {
      "displayName": "Younes M",
      "userId": "11559524547576106626"
     },
     "user_tz": -120
    },
    "id": "DuQxmqAa47an",
    "outputId": "0495a80e-7254-4b70-f303-0311a674dcd0"
   },
   "outputs": [],
   "source": [
    "utype = \"sine\"  # 'chirp' or 'sine' or 'tanh' or 'multisine' or 'step' or None\n",
    "u_func = U_FUNC(utype=utype)  # instantiate the input function u(t)\n",
    "u_func.params[\"T\"] = 1.5\n",
    "u_func.params[\"f0\"] = 0\n",
    "u_func.params[\"f1\"] = 2  # 4 # 1.4\n",
    "u_func.params[\"scale\"] = 0.0001  # for fake : 0.5 or 0.1 for real : 0.0001\n",
    "gtype = \"simple\"  # 'simple' or None\n",
    "# instantiate the input function G(q,p) (here it is constant)\n",
    "g_func = G_FUNC(gtype=gtype)\n",
    "init_method = \"random_nozero\"  # 'random_nozero' # 'random_closetopi'\n",
    "time_steps = 800  # length of a trajectory\n",
    "num_trajectories = 25  # number of trajectories in total\n",
    "proportion = 0.0  # train test proportion\n",
    "batch_size = 100  # batch size used by dataloader\n",
    "w_rescale = [\n",
    "    1,\n",
    "    1,\n",
    "    1,\n",
    "    1,\n",
    "]  # [1, 1000, 1, 10000]  # [1, 1000, 1, 10000]  # [1, 9000, 1, 10000]\n",
    "shuffle = False  # shuffle sample in the batches between epochs\n",
    "# 'hamiltonian' or 'newtonian', newtonian if you want [q1,q1_dot,q2,q2_dot]\n",
    "coord_type = \"hamiltonian\"\n",
    "min_max_rescale = True  # rescale the training trajectories\n",
    "# which dimensions to rescale if using min_max_rescale, so that nothing is divided by zero\n",
    "rescale_dims = [1, 1, 1, 1]\n",
    "\n",
    "# generate train and test dataloader objects containing the trajectories\n",
    "train_loader_4, test_loader_4 = load_data_device(\n",
    "    device,\n",
    "    init_method,\n",
    "    w_rescale,\n",
    "    u_func,\n",
    "    g_func,\n",
    "    time_steps,\n",
    "    shuffle=shuffle,\n",
    "    num_trajectories=num_trajectories,\n",
    "    coord_type=coord_type,\n",
    "    proportion=proportion,\n",
    "    batch_size=batch_size,\n",
    "    Ts=Ts,\n",
    "    noise_std=noise_std,\n",
    "    C_q1=C_q1,\n",
    "    C_q2=C_q2,\n",
    "    g=g,\n",
    "    Jr=Jr,\n",
    "    Lr=Lr,\n",
    "    Mp=Mp,\n",
    "    Lp=Lp,\n",
    "    min_max_rescale=min_max_rescale,\n",
    "    rescale_dims=rescale_dims,\n",
    ")\n",
    "# show test and prediction\n",
    "title = \"test set trajectories | 2hz sine input\"\n",
    "for n in [0, 5, 10, 19]:\n",
    "    plot_furuta_hat_nom(\n",
    "        device,\n",
    "        model,\n",
    "        u_func,\n",
    "        g_func,\n",
    "        utype,\n",
    "        gtype,\n",
    "        data_loader_t=train_loader_4,\n",
    "        t_max=time_steps,\n",
    "        n=n,\n",
    "        C_q1=C_q1,\n",
    "        C_q2=C_q2,\n",
    "        g=g,\n",
    "        Jr=Jr,\n",
    "        Lr=Lr,\n",
    "        Mp=Mp,\n",
    "        Lp=Lp,\n",
    "        t_plot=time_steps,\n",
    "        only_pred=True,\n",
    "        show_pred=True,\n",
    "        H_or_Input=\"input\",\n",
    "        title=title,\n",
    "        file_path=plot_path + \"/TRAJECTORIES_test_set\" + str(n) + \"2hzsine.png\",\n",
    "        w_rescale=w_rescale,\n",
    "    )"
   ]
  }
 ],
 "metadata": {
  "colab": {
   "collapsed_sections": [],
   "machine_shape": "hm",
   "name": "furuta_pendulum_InputHNN.ipynb",
   "provenance": [],
   "toc_visible": true
  },
  "interpreter": {
   "hash": "52b0f3b5fff4e2d99607e23e4ce3f8b9e3a664acf6541783ed53f1bd22095b69"
  },
  "kernelspec": {
   "display_name": "Python 3.9.7 ('pds')",
   "language": "python",
   "name": "python3"
  },
  "language_info": {
   "codemirror_mode": {
    "name": "ipython",
    "version": 3
   },
   "file_extension": ".py",
   "mimetype": "text/x-python",
   "name": "python",
   "nbconvert_exporter": "python",
   "pygments_lexer": "ipython3",
   "version": "3.9.7"
  }
 },
 "nbformat": 4,
 "nbformat_minor": 0
}
