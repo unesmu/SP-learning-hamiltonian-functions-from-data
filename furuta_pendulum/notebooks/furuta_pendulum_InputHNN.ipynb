{
  "cells": [
    {
      "cell_type": "markdown",
      "metadata": {
        "id": "uy0mWdPersbg"
      },
      "source": [
        "Some code in this notebook has been adapted from the work of Zhongy et al. and Greydanus et al. and from the report and code of Jonas Perolini.\n",
        "\n",
        "Their code is available in the following repositories :[\n",
        "Symplectic-ODENet](https://github.com/Physics-aware-AI/Symplectic-ODENet) and [hamiltonian-nn](https://github.com/greydanus/hamiltonian-nn)\n"
      ]
    },
    {
      "cell_type": "markdown",
      "metadata": {
        "id": "Jd6pGmU-rsbk"
      },
      "source": [
        "# Imports & Setting up directories"
      ]
    },
    {
      "cell_type": "code",
      "execution_count": 1,
      "metadata": {
        "colab": {
          "base_uri": "https://localhost:8080/"
        },
        "id": "3ioF4QRA1FEF",
        "outputId": "98dd7e30-bd38-4c5a-b1bc-f139b400d050"
      },
      "outputs": [],
      "source": [
        "try:\n",
        "    import google.colab\n",
        "    IN_COLAB = True\n",
        "except:\n",
        "    IN_COLAB = False\n",
        "\n",
        "if IN_COLAB:  \n",
        "    PATH = './' # './drive/MyDrive/1_SP_Ham_func/'\n",
        "    from google.colab import drive\n",
        "    drive.mount('/content/drive')\n",
        "\n",
        "    %cd /content/drive/MyDrive/1_SP_Ham_func/furuta_pendulum/\n",
        "    %pip install torchdiffeq\n",
        "    from src.data import *\n",
        "    from src.dynamics import *\n",
        "    from src.models import *\n",
        "    from src.train import *\n",
        "    from src.plots import *\n",
        "    from src.trajectories import *\n",
        "    from src.utils import *\n",
        "else:\n",
        "    import sys; sys.path.insert(0, '..') \n",
        "    import os\n",
        "    PATH = '../'\n",
        "    from src.data import *\n",
        "    from src.dynamics import *\n",
        "    from src.models import *\n",
        "    from src.train import *\n",
        "    from src.plots import *\n",
        "    from src.trajectories import *\n",
        "    from src.utils import *"
      ]
    },
    {
      "cell_type": "code",
      "execution_count": 2,
      "metadata": {
        "id": "6F69c4UZ_3U_"
      },
      "outputs": [],
      "source": [
        "import matplotlib.pyplot as plt\n",
        "from matplotlib.lines import Line2D\n",
        "import seaborn as sns\n",
        "import pandas as pd\n",
        "import numpy as np\n",
        "\n",
        "from torch.utils.data import Dataset, DataLoader, random_split\n",
        "import torch\n",
        "\n",
        "from torch.optim.lr_scheduler import LinearLR\n",
        "\n",
        "from torchdiffeq import odeint_adjoint as odeint_adjoint \n",
        "# func must be a nn.Module when using the adjoint method\n",
        "from torchdiffeq import odeint as odeint\n",
        "\n",
        "import time as time\n",
        "import json\n",
        "import os\n",
        "# setting seeds\n",
        "import random"
      ]
    },
    {
      "cell_type": "code",
      "execution_count": 3,
      "metadata": {
        "id": "MqUrZjjnu8Xh"
      },
      "outputs": [],
      "source": [
        "%load_ext autoreload\n",
        "%autoreload 2"
      ]
    },
    {
      "cell_type": "markdown",
      "metadata": {
        "id": "NK-tFX-vrsbt"
      },
      "source": [
        "# Training"
      ]
    },
    {
      "cell_type": "markdown",
      "metadata": {
        "id": "F18LW49JJycE"
      },
      "source": [
        "#### NESHDNN + mlp + input"
      ]
    },
    {
      "cell_type": "markdown",
      "metadata": {},
      "source": [
        "##### with constant G"
      ]
    },
    {
      "cell_type": "markdown",
      "metadata": {},
      "source": [
        "###### chirp, std rescaling ( and loss ) no clipping"
      ]
    },
    {
      "cell_type": "code",
      "execution_count": null,
      "metadata": {
        "colab": {
          "base_uri": "https://localhost:8080/"
        },
        "id": "iOmaMQ28Cczz",
        "outputId": "3ef93931-5aa2-4321-ef04-97e4e90d30d8"
      },
      "outputs": [],
      "source": [
        "set_all_seeds(manualSeed=123, new_results=False)\n",
        "device = set_device()  # set it to gpu if it is available\n",
        "\n",
        "# Parameters to generate the dataset\n",
        "furuta_type = 'real'  # 'real' or 'fake'\n",
        "Ts, noise_std, C_q1, C_q2, g, Jr, Lr, Mp, Lp = set_furuta_params(\n",
        "    which=furuta_type)\n",
        "utype = 'chirp'  # 'chirp' or 'sine' or 'tanh' or 'multisine' or 'step' or None\n",
        "u_func = U_FUNC(utype=utype)  # instantiate the input function u(t)\n",
        "u_func.params['T'] = 1.5\n",
        "u_func.params['f0'] = 0\n",
        "u_func.params['f1'] = 2  # 4 # 1.4\n",
        "u_func.params['scale'] = 0.0001  # for fake : 0.5 or 0.1 for real : 0.0001\n",
        "gtype = 'simple'  # 'simple' or None\n",
        "# instantiate the input function G(q,p) (here it is constant)\n",
        "g_func = G_FUNC(gtype=gtype)\n",
        "init_method = 'random_nozero'  # 'random_nozero' # 'random_closetopi'\n",
        "time_steps = 800  # length of a trajectory\n",
        "num_trajectories = 125  # number of trajectories in total\n",
        "proportion = 0.8  # train test proportion\n",
        "batch_size = 100  # batch size used by dataloader\n",
        "w_rescale = [1, 1000, 1, 10000]  # [1, 1000, 1, 10000]  # [1, 9000, 1, 10000]\n",
        "shuffle = False  # shuffle sample in the batches between epochs\n",
        "# 'hamiltonian' or 'newtonian', newtonian if you want [q1,q1_dot,q2,q2_dot]\n",
        "coord_type = 'hamiltonian'\n",
        "min_max_rescale = False  # rescale the training trajectories\n",
        "# which dimensions to rescale if using min_max_rescale, so that nothing is divided by zero\n",
        "rescale_dims = [1, 1, 1, 1]\n",
        "\n",
        "# Parameters for the training procedure\n",
        "resnet_config = None\n",
        "alternating = False  # for Input_HNN, if G is a neural network, train\n",
        "horizon_type = 'auto'  # 'auto' or 'constant'\n",
        "horizon = False  # if horizon_type == 'constant', use this horizon\n",
        "loss_type = 'L2'  # 'L2' or 'L2weighted'\n",
        "collect_grads = False  # collect gradients in all layers at every epoch\n",
        "# rescale the difference between nominal and train by the min max of train trajectory in loss function\n",
        "rescale_loss = True\n",
        "grad_clip = False  # activate gradient clipping\n",
        "lr_schedule = False  # activate lr schedule\n",
        "begin_decay = 600  # epoch at which lr starts decaying\n",
        "weights = [1.0, 1.0, 1.0, 1.0]  # weights for the loss functions\n",
        "\n",
        "horizon_list = [50, 100, 150, 200, 250, 300]\n",
        "switch_steps = [200, 100, 100, 100, 100, 100]\n",
        "epoch_number = sum(switch_steps)  # total number of training epochs\n"
      ]
    },
    {
      "cell_type": "code",
      "execution_count": null,
      "metadata": {
        "id": "9VgOgbS_Cc0T"
      },
      "outputs": [],
      "source": [
        "# generate train and test dataloader objects containing the trajectories\n",
        "train_loader, test_loader = load_data_device(device, init_method, w_rescale,\n",
        "                                             u_func, g_func, time_steps,\n",
        "                                             shuffle=shuffle,\n",
        "                                             num_trajectories=num_trajectories,\n",
        "                                             coord_type=coord_type,\n",
        "                                             proportion=proportion, batch_size=batch_size,\n",
        "                                             Ts=Ts, noise_std=noise_std, C_q1=C_q1, C_q2=C_q2,\n",
        "                                             g=g, Jr=Jr, Lr=Lr, Mp=Mp, Lp=Lp,\n",
        "                                             min_max_rescale=min_max_rescale, rescale_dims=rescale_dims)"
      ]
    },
    {
      "cell_type": "code",
      "execution_count": null,
      "metadata": {
        "colab": {
          "base_uri": "https://localhost:8080/"
        },
        "id": "-3HyINQyCc0U",
        "outputId": "b4048d53-606d-40f7-a01d-174bf2b97978"
      },
      "outputs": [],
      "source": [
        "# initialise the model that will be trianed\n",
        "model_name = 'NESHDNN_resnet_conf1'\n",
        "\n",
        "model_name = 'Input_HNN'\n",
        "\n",
        "H_net = MLP(input_dim=4, hidden_dim=90, nb_hidden_layers=4,\n",
        "            output_dim=1, activation='x+sin(x)^2')\n",
        "model = Input_HNN(u_func=u_func, G_net=g_func,\n",
        "                 H_net=H_net, device=device, dissip=False)\n",
        "model.to(device)\n",
        "num_params = count_parameters(model)\n",
        "\n",
        "# create file name from parameters\n",
        "num_params = count_parameters(model)\n",
        "\n",
        "save_prefix = name_from_params(Ts, rescale_loss, weights, epoch_number, num_params, utype, model_name,\n",
        "                               num_trajectories, furuta_type, noise_std,\n",
        "                               grad_clip, lr_schedule, C_q1, C_q2, horizon, min_max_rescale,w_rescale)\n",
        "                               \n",
        "# print some information on the training and file name\n",
        "print('Total number of epochs:', epoch_number)\n",
        "print('H_net number of parameters :', num_params)\n",
        "print('Save file prefix : ', save_prefix)\n",
        "\n",
        "# Sanity check\n",
        "is_same_size(horizon_list, switch_steps)"
      ]
    },
    {
      "cell_type": "code",
      "execution_count": null,
      "metadata": {
        "colab": {
          "base_uri": "https://localhost:8080/",
          "height": 1000
        },
        "id": "kNWhxamnCc0U",
        "outputId": "d05cb4d4-505b-42af-c97f-ff4a0eb7e61e"
      },
      "outputs": [],
      "source": [
        "stats = train(device=device, model=model,\n",
        "              Ts=Ts,\n",
        "              train_loader=train_loader,\n",
        "              test_loader=test_loader,\n",
        "              w=torch.tensor(weights, device=device),\n",
        "              grad_clip=grad_clip,\n",
        "              lr_schedule=lr_schedule,\n",
        "              begin_decay=begin_decay,\n",
        "              resnet_config=resnet_config,\n",
        "              epoch_number=epoch_number,\n",
        "              alternating=alternating,\n",
        "              horizon=horizon,\n",
        "              horizon_type=horizon_type,\n",
        "              horizon_list=horizon_list,\n",
        "              switch_steps=switch_steps,\n",
        "              epochs=epoch_number,\n",
        "              loss_type=loss_type,\n",
        "              collect_grads=collect_grads,\n",
        "              rescale_loss=rescale_loss,\n",
        "              rescale_dims=rescale_dims\n",
        "              )\n"
      ]
    },
    {
      "cell_type": "code",
      "execution_count": null,
      "metadata": {
        "id": "38opHVq2Cc0V"
      },
      "outputs": [],
      "source": [
        "if collect_grads:\n",
        "    plot_grads(stats)"
      ]
    },
    {
      "cell_type": "code",
      "execution_count": null,
      "metadata": {
        "id": "RPxjhso4Cc0V"
      },
      "outputs": [],
      "source": [
        "# set all paths and create folders : \n",
        "model_path = PATH+'data/'+save_prefix+'/'\n",
        "stats_path = PATH+'data/'+save_prefix+'/'\n",
        "plot_path = PATH+'data/'+save_prefix+'/img/'\n",
        "train_loader_path = PATH + 'data/'+save_prefix+'/datasets/' \n",
        "test_loader_path = PATH + 'data/'+save_prefix+'/datasets/' \n",
        "os.makedirs(model_path, exist_ok=True)\n",
        "os.makedirs(stats_path, exist_ok=True)\n",
        "os.makedirs(plot_path, exist_ok=True)\n",
        "os.makedirs(train_loader_path, exist_ok=True)\n",
        "os.makedirs(test_loader_path, exist_ok=True)"
      ]
    },
    {
      "cell_type": "code",
      "execution_count": null,
      "metadata": {
        "id": "hHu5CdZlCc0V"
      },
      "outputs": [],
      "source": [
        "torch.save(train_loader, train_loader_path + 'train_loader.pt')\n",
        "if test_loader is not None:\n",
        "    torch.save(test_loader, test_loader_path + 'test_loader.pt')\n",
        "\n",
        "# save model to disk\n",
        "torch.save(model.state_dict(), model_path+'model')\n",
        "\n",
        "# save the stats\n",
        "save_stats(stats, stats_path+'stats.txt')"
      ]
    },
    {
      "cell_type": "code",
      "execution_count": null,
      "metadata": {
        "id": "LogFLihtCc0W"
      },
      "outputs": [],
      "source": [
        "# train_loader = torch.load(train_loader_path)\n",
        "# test_loader = torch.load(test_loader_path)\n",
        "# # loads the stats \n",
        "# stats = read_dict(PATH, stats_path)\n",
        "# # load the model from disk\n",
        "# model.load_state_dict(torch.load(PATH+model_path))\n",
        "# model.eval()"
      ]
    },
    {
      "cell_type": "code",
      "execution_count": null,
      "metadata": {
        "colab": {
          "base_uri": "https://localhost:8080/",
          "height": 573
        },
        "id": "NrSHBNwvCc0W",
        "outputId": "8953cab8-51be-4aa5-a0ec-24a8cc0636f8"
      },
      "outputs": [],
      "source": [
        "loss_train = stats['train_loss']\n",
        "loss_test = stats['test_loss']\n",
        "epochs = np.arange(len(loss_train))\n",
        "train_test_loss_plot(loss_train, loss_test, epochs, file_path=plot_path+'/LOSS_train_test.png',\n",
        "                     title='train and test loss per epoch', horizons=False, switch_steps=switch_steps)\n",
        "\n",
        "train_test_loss_plot(loss_train, loss_test, epochs, file_path=plot_path+'/LOSS_train_test_warrows.png',\n",
        "                     title='train and test loss per epoch', horizons=horizon_list[:-1], switch_steps=switch_steps)\n"
      ]
    },
    {
      "cell_type": "code",
      "execution_count": null,
      "metadata": {
        "colab": {
          "base_uri": "https://localhost:8080/",
          "height": 1000
        },
        "id": "SIZix06YCc0W",
        "outputId": "96c31349-ca4d-4081-c25d-45d1f131f401"
      },
      "outputs": [],
      "source": [
        "# show train and prediction\n",
        "for n in [0, 5, 10, 19]:\n",
        "    plot_furuta_hat_nom(device, model, u_func, g_func, utype, gtype, data_loader_t=train_loader,\n",
        "                        t_max=horizon_list[-1], n=n, C_q1=C_q1, C_q2=C_q2, g=g, Jr=Jr, Lr=Lr, Mp=Mp, Lp=Lp,\n",
        "                        t_plot=time_steps, show_pred=True, H_or_Input='input',\n",
        "                        title='Train set trajectories', file_path=plot_path+'/TRAJECTORIES_train_set'+str(n)+'.png', w_rescale=w_rescale)\n"
      ]
    },
    {
      "cell_type": "code",
      "execution_count": null,
      "metadata": {
        "colab": {
          "base_uri": "https://localhost:8080/",
          "height": 905
        },
        "id": "AlVaj6o4Cc0X",
        "outputId": "40e0fc45-f9c2-43fe-e913-49b0429de6b0"
      },
      "outputs": [],
      "source": [
        "# show only training portion\n",
        "for n in [0, 50, 70]:\n",
        "    plot_furuta_hat_nom(device, model, u_func, g_func, utype, gtype, data_loader_t=train_loader, t_max=horizon_list[-1],\n",
        "                        n=n, C_q1=C_q1, C_q2=C_q2, g=g, Jr=Jr, Lr=Lr, Mp=Mp, Lp=Lp, t_plot=horizon_list[-1], show_pred=False,\n",
        "                        title='Train set trajectories', file_path=plot_path+'/TRAJECTORIES_train_set'+str(n)+'.png', w_rescale=w_rescale)\n"
      ]
    },
    {
      "cell_type": "code",
      "execution_count": null,
      "metadata": {},
      "outputs": [],
      "source": [
        "# show test and prediction\n",
        "for n in [0, 5, 10, 19]:\n",
        "    plot_furuta_hat_nom(device, model, u_func, g_func, utype, gtype, data_loader_t=test_loader,\n",
        "                        t_max=horizon_list[-1], n=n, C_q1=C_q1, C_q2=C_q2, g=g, Jr=Jr, Lr=Lr, Mp=Mp, Lp=Lp,\n",
        "                        t_plot=time_steps, show_pred=True, H_or_Input='input',\n",
        "                        title='Train set trajectories', file_path=plot_path+'/TRAJECTORIES_train_set'+str(n)+'.png', w_rescale=w_rescale)\n"
      ]
    },
    {
      "cell_type": "code",
      "execution_count": null,
      "metadata": {},
      "outputs": [],
      "source": [
        "utype = None  # 'chirp' or 'sine' or 'tanh' or 'multisine' or 'step' or None\n",
        "u_func = U_FUNC(utype=utype) # instantiate the input function u(t)\n",
        "gtype = None # 'simple' or None\n",
        "# instantiate the input function G(q,p) (here it is constant)\n",
        "g_func = G_FUNC(gtype=gtype)\n",
        "init_method = 'random_nozero'  # 'random_nozero' # 'random_closetopi'\n",
        "time_steps = 800  # length of a trajectory\n",
        "num_trajectories = 25  # number of trajectories in total\n",
        "proportion = 0.0 # train test proportion\n",
        "batch_size = 100  # batch size used by dataloader\n",
        "w_rescale = [1, 1, 1, 1] # [1, 1000, 1, 10000]  # [1, 1000, 1, 10000]  # [1, 9000, 1, 10000]\n",
        "shuffle = False  # shuffle sample in the batches between epochs\n",
        "# 'hamiltonian' or 'newtonian', newtonian if you want [q1,q1_dot,q2,q2_dot]\n",
        "coord_type = 'hamiltonian'\n",
        "min_max_rescale = True  # rescale the training trajectories\n",
        "# which dimensions to rescale if using min_max_rescale, so that nothing is divided by zero\n",
        "rescale_dims = [1, 1, 1, 0]\n",
        "\n",
        "# generate train and test dataloader objects containing the trajectories\n",
        "train_loader_2, test_loader_2 = load_data_device(device, init_method, w_rescale,\n",
        "                                             u_func, g_func, time_steps,\n",
        "                                             shuffle=shuffle,\n",
        "                                             num_trajectories=num_trajectories,\n",
        "                                             coord_type=coord_type,\n",
        "                                             proportion=proportion, batch_size=batch_size,\n",
        "                                             Ts=Ts, noise_std=noise_std, C_q1=C_q1, C_q2=C_q2,\n",
        "                                             g=g, Jr=Jr, Lr=Lr, Mp=Mp, Lp=Lp,\n",
        "                                             min_max_rescale=min_max_rescale, rescale_dims=rescale_dims)"
      ]
    },
    {
      "cell_type": "code",
      "execution_count": null,
      "metadata": {},
      "outputs": [],
      "source": [
        "# show test and prediction\n",
        "title='test set trajectories | no input'\n",
        "for n in [0, 5, 10, 19]:\n",
        "    plot_furuta_hat_nom(device, model, u_func, g_func, utype, gtype, data_loader_t=train_loader_2,\n",
        "                        t_max=time_steps, n=n, C_q1=C_q1, C_q2=C_q2, g=g, Jr=Jr, Lr=Lr, Mp=Mp, Lp=Lp,\n",
        "                        t_plot=time_steps, only_pred=True, show_pred=True, H_or_Input='input',\n",
        "                        title=title, file_path=plot_path+'/TRAJECTORIES_train_set'+str(n)+'noinput.png', w_rescale=w_rescale)\n"
      ]
    },
    {
      "cell_type": "code",
      "execution_count": null,
      "metadata": {},
      "outputs": [],
      "source": [
        "utype = 'sine'  # 'chirp' or 'sine' or 'tanh' or 'multisine' or 'step' or None\n",
        "u_func = U_FUNC(utype=utype)  # instantiate the input function u(t)\n",
        "u_func.params['T'] = 1.5\n",
        "u_func.params['f0'] = 0\n",
        "u_func.params['f1'] = 1  # 4 # 1.4\n",
        "u_func.params['scale'] = 0.0001  # for fake : 0.5 or 0.1 for real : 0.0001\n",
        "gtype = 'simple'  # 'simple' or None\n",
        "# instantiate the input function G(q,p) (here it is constant)\n",
        "g_func = G_FUNC(gtype=gtype)\n",
        "init_method = 'random_nozero'  # 'random_nozero' # 'random_closetopi'\n",
        "time_steps = 800  # length of a trajectory\n",
        "num_trajectories = 25  # number of trajectories in total\n",
        "proportion = 0.8  # train test proportion\n",
        "batch_size = 100  # batch size used by dataloader\n",
        "# [1, 1000, 1, 10000]  # [1, 1000, 1, 10000]  # [1, 9000, 1, 10000]\n",
        "w_rescale = [1, 1, 1, 1]\n",
        "shuffle = False  # shuffle sample in the batches between epochs\n",
        "# 'hamiltonian' or 'newtonian', newtonian if you want [q1,q1_dot,q2,q2_dot]\n",
        "coord_type = 'hamiltonian'\n",
        "min_max_rescale = True  # rescale the training trajectories\n",
        "# which dimensions to rescale if using min_max_rescale, so that nothing is divided by zero\n",
        "rescale_dims = [1, 1, 1, 1]\n",
        "\n",
        "# generate train and test dataloader objects containing the trajectories\n",
        "train_loader_3, test_loader_3 = load_data_device(device, init_method, w_rescale,\n",
        "                                                 u_func, g_func, time_steps,\n",
        "                                                 shuffle=shuffle,\n",
        "                                                 num_trajectories=num_trajectories,\n",
        "                                                 coord_type=coord_type,\n",
        "                                                 proportion=proportion, batch_size=batch_size,\n",
        "                                                 Ts=Ts, noise_std=noise_std, C_q1=C_q1, C_q2=C_q2,\n",
        "                                                 g=g, Jr=Jr, Lr=Lr, Mp=Mp, Lp=Lp,\n",
        "                                                 min_max_rescale=min_max_rescale, rescale_dims=rescale_dims)\n"
      ]
    },
    {
      "cell_type": "code",
      "execution_count": null,
      "metadata": {},
      "outputs": [],
      "source": [
        "# show test and prediction\n",
        "title='test set trajectories | 1hz sine input'\n",
        "for n in [0, 5, 10, 19]:\n",
        "    plot_furuta_hat_nom(device, model, u_func, g_func, utype, gtype, data_loader_t=train_loader_3,\n",
        "                        t_max=time_steps, n=n, C_q1=C_q1, C_q2=C_q2, g=g, Jr=Jr, Lr=Lr, Mp=Mp, Lp=Lp,\n",
        "                        t_plot=time_steps, only_pred=True, show_pred=True, H_or_Input='input',\n",
        "                        title=title, file_path=plot_path+'/TRAJECTORIES_train_set'+str(n)+'1hzsine.png', w_rescale=w_rescale)\n"
      ]
    },
    {
      "cell_type": "code",
      "execution_count": null,
      "metadata": {},
      "outputs": [],
      "source": [
        "utype = 'sine'  # 'chirp' or 'sine' or 'tanh' or 'multisine' or 'step' or None\n",
        "u_func = U_FUNC(utype=utype) # instantiate the input function u(t)\n",
        "u_func.params['T'] = 1.5\n",
        "u_func.params['f0'] = 0\n",
        "u_func.params['f1'] = 2  # 4 # 1.4\n",
        "u_func.params['scale'] = 0.0001  # for fake : 0.5 or 0.1 for real : 0.0001\n",
        "gtype = 'simple' # 'simple' or None\n",
        "# instantiate the input function G(q,p) (here it is constant)\n",
        "g_func = G_FUNC(gtype=gtype)\n",
        "init_method = 'random_nozero'  # 'random_nozero' # 'random_closetopi'\n",
        "time_steps = 800  # length of a trajectory\n",
        "num_trajectories = 25  # number of trajectories in total\n",
        "proportion = 0.0  # train test proportion\n",
        "batch_size = 100  # batch size used by dataloader\n",
        "w_rescale = [1, 1, 1, 1] # [1, 1000, 1, 10000]  # [1, 1000, 1, 10000]  # [1, 9000, 1, 10000]\n",
        "shuffle = False  # shuffle sample in the batches between epochs\n",
        "# 'hamiltonian' or 'newtonian', newtonian if you want [q1,q1_dot,q2,q2_dot]\n",
        "coord_type = 'hamiltonian'\n",
        "min_max_rescale = True  # rescale the training trajectories\n",
        "# which dimensions to rescale if using min_max_rescale, so that nothing is divided by zero\n",
        "rescale_dims = [1, 1, 1, 1]\n",
        "\n",
        "# generate train and test dataloader objects containing the trajectories\n",
        "train_loader_4, test_loader_4 = load_data_device(device, init_method, w_rescale,\n",
        "                                             u_func, g_func, time_steps,\n",
        "                                             shuffle=shuffle,\n",
        "                                             num_trajectories=num_trajectories,\n",
        "                                             coord_type=coord_type,\n",
        "                                             proportion=proportion, batch_size=batch_size,\n",
        "                                             Ts=Ts, noise_std=noise_std, C_q1=C_q1, C_q2=C_q2,\n",
        "                                             g=g, Jr=Jr, Lr=Lr, Mp=Mp, Lp=Lp,\n",
        "                                             min_max_rescale=min_max_rescale, rescale_dims=rescale_dims)\n",
        "# show test and prediction\n",
        "title='test set trajectories | 2hz sine input'\n",
        "for n in [0, 5, 10, 19]:\n",
        "    plot_furuta_hat_nom(device, model, u_func, g_func, utype, gtype, data_loader_t=train_loader_4,\n",
        "                        t_max=time_steps, n=n, C_q1=C_q1, C_q2=C_q2, g=g, Jr=Jr, Lr=Lr, Mp=Mp, Lp=Lp,\n",
        "                        t_plot=time_steps, only_pred=True, show_pred=True, H_or_Input='input',\n",
        "                        title=title, file_path=plot_path+'/TRAJECTORIES_test_set'+str(n)+'2hzsine.png', w_rescale=w_rescale)\n"
      ]
    },
    {
      "cell_type": "markdown",
      "metadata": {},
      "source": [
        "###### chirp, all rescaling with clipping"
      ]
    },
    {
      "cell_type": "code",
      "execution_count": null,
      "metadata": {
        "colab": {
          "base_uri": "https://localhost:8080/"
        },
        "id": "iOmaMQ28Cczz",
        "outputId": "3ef93931-5aa2-4321-ef04-97e4e90d30d8"
      },
      "outputs": [],
      "source": [
        "set_all_seeds(manualSeed=123, new_results=False)\n",
        "device = set_device()  # set it to gpu if it is available\n",
        "\n",
        "# Parameters to generate the dataset\n",
        "furuta_type = 'real'  # 'real' or 'fake'\n",
        "Ts, noise_std, C_q1, C_q2, g, Jr, Lr, Mp, Lp = set_furuta_params(\n",
        "    which=furuta_type)\n",
        "utype = 'chirp'  # 'chirp' or 'sine' or 'tanh' or 'multisine' or 'step' or None\n",
        "u_func = U_FUNC(utype=utype)  # instantiate the input function u(t)\n",
        "u_func.params['T'] = 1.5\n",
        "u_func.params['f0'] = 0\n",
        "u_func.params['f1'] = 2  # 4 # 1.4\n",
        "u_func.params['scale'] = 0.0001  # for fake : 0.5 or 0.1 for real : 0.0001\n",
        "gtype = 'simple'  # 'simple' or None\n",
        "# instantiate the input function G(q,p) (here it is constant)\n",
        "g_func = G_FUNC(gtype=gtype)\n",
        "init_method = 'random_nozero'  # 'random_nozero' # 'random_closetopi'\n",
        "time_steps = 800  # length of a trajectory\n",
        "num_trajectories = 125  # number of trajectories in total\n",
        "proportion = 0.8  # train test proportion\n",
        "batch_size = 100  # batch size used by dataloader\n",
        "w_rescale = [1, 1000, 1, 10000]  # [1, 1000, 1, 10000]  # [1, 9000, 1, 10000]\n",
        "shuffle = False  # shuffle sample in the batches between epochs\n",
        "# 'hamiltonian' or 'newtonian', newtonian if you want [q1,q1_dot,q2,q2_dot]\n",
        "coord_type = 'hamiltonian'\n",
        "min_max_rescale = True  # rescale the training trajectories\n",
        "# which dimensions to rescale if using min_max_rescale, so that nothing is divided by zero\n",
        "rescale_dims = [1, 1, 1, 1]\n",
        "\n",
        "# Parameters for the training procedure\n",
        "resnet_config = None\n",
        "alternating = False  # for Input_HNN, if G is a neural network, train\n",
        "horizon_type = 'auto'  # 'auto' or 'constant'\n",
        "horizon = False  # if horizon_type == 'constant', use this horizon\n",
        "loss_type = 'L2'  # 'L2' or 'L2weighted'\n",
        "collect_grads = False  # collect gradients in all layers at every epoch\n",
        "# rescale the difference between nominal and train by the min max of train trajectory in loss function\n",
        "rescale_loss = True\n",
        "grad_clip = True  # activate gradient clipping\n",
        "lr_schedule = False  # activate lr schedule\n",
        "begin_decay = 600  # epoch at which lr starts decaying\n",
        "weights = [1.0, 1.0, 1.0, 1.0]  # weights for the loss functions\n",
        "\n",
        "horizon_list = [50, 100, 150, 200, 250, 300]\n",
        "switch_steps = [200, 100, 100, 100, 100, 100]\n",
        "epoch_number = sum(switch_steps)  # total number of training epochs\n"
      ]
    },
    {
      "cell_type": "code",
      "execution_count": null,
      "metadata": {
        "id": "9VgOgbS_Cc0T"
      },
      "outputs": [],
      "source": [
        "# generate train and test dataloader objects containing the trajectories\n",
        "train_loader, test_loader = load_data_device(device, init_method, w_rescale,\n",
        "                                             u_func, g_func, time_steps,\n",
        "                                             shuffle=shuffle,\n",
        "                                             num_trajectories=num_trajectories,\n",
        "                                             coord_type=coord_type,\n",
        "                                             proportion=proportion, batch_size=batch_size,\n",
        "                                             Ts=Ts, noise_std=noise_std, C_q1=C_q1, C_q2=C_q2,\n",
        "                                             g=g, Jr=Jr, Lr=Lr, Mp=Mp, Lp=Lp,\n",
        "                                             min_max_rescale=min_max_rescale, rescale_dims=rescale_dims)"
      ]
    },
    {
      "cell_type": "code",
      "execution_count": null,
      "metadata": {
        "colab": {
          "base_uri": "https://localhost:8080/"
        },
        "id": "-3HyINQyCc0U",
        "outputId": "b4048d53-606d-40f7-a01d-174bf2b97978"
      },
      "outputs": [],
      "source": [
        "# initialise the model that will be trianed\n",
        "model_name = 'NESHDNN_resnet_conf1'\n",
        "\n",
        "model_name = 'Input_HNN'\n",
        "\n",
        "H_net = MLP(input_dim=4, hidden_dim=90, nb_hidden_layers=4,\n",
        "            output_dim=1, activation='x+sin(x)^2')\n",
        "model = Input_HNN(u_func=u_func, G_net=g_func,\n",
        "                 H_net=H_net, device=device, dissip=False)\n",
        "model.to(device)\n",
        "num_params = count_parameters(model)\n",
        "\n",
        "# create file name from parameters\n",
        "num_params = count_parameters(model)\n",
        "\n",
        "save_prefix = name_from_params(Ts, rescale_loss, weights, epoch_number, num_params, utype, model_name,\n",
        "                               num_trajectories, furuta_type, noise_std,\n",
        "                               grad_clip, lr_schedule, C_q1, C_q2, horizon, min_max_rescale,w_rescale)\n",
        "                               \n",
        "# print some information on the training and file name\n",
        "print('Total number of epochs:', epoch_number)\n",
        "print('H_net number of parameters :', num_params)\n",
        "print('Save file prefix : ', save_prefix)\n",
        "\n",
        "# Sanity check\n",
        "is_same_size(horizon_list, switch_steps)"
      ]
    },
    {
      "cell_type": "code",
      "execution_count": null,
      "metadata": {
        "colab": {
          "base_uri": "https://localhost:8080/",
          "height": 1000
        },
        "id": "kNWhxamnCc0U",
        "outputId": "d05cb4d4-505b-42af-c97f-ff4a0eb7e61e"
      },
      "outputs": [],
      "source": [
        "stats = train(device=device, model=model,\n",
        "              Ts=Ts,\n",
        "              train_loader=train_loader,\n",
        "              test_loader=test_loader,\n",
        "              w=torch.tensor(weights, device=device),\n",
        "              grad_clip=grad_clip,\n",
        "              lr_schedule=lr_schedule,\n",
        "              begin_decay=begin_decay,\n",
        "              resnet_config=resnet_config,\n",
        "              epoch_number=epoch_number,\n",
        "              alternating=alternating,\n",
        "              horizon=horizon,\n",
        "              horizon_type=horizon_type,\n",
        "              horizon_list=horizon_list,\n",
        "              switch_steps=switch_steps,\n",
        "              epochs=epoch_number,\n",
        "              loss_type=loss_type,\n",
        "              collect_grads=collect_grads,\n",
        "              rescale_loss=rescale_loss,\n",
        "              rescale_dims=rescale_dims\n",
        "              )\n"
      ]
    },
    {
      "cell_type": "code",
      "execution_count": null,
      "metadata": {
        "id": "38opHVq2Cc0V"
      },
      "outputs": [],
      "source": [
        "if collect_grads:\n",
        "    plot_grads(stats)"
      ]
    },
    {
      "cell_type": "code",
      "execution_count": null,
      "metadata": {
        "id": "RPxjhso4Cc0V"
      },
      "outputs": [],
      "source": [
        "# set all paths and create folders : \n",
        "model_path = PATH+'data/'+save_prefix+'/'\n",
        "stats_path = PATH+'data/'+save_prefix+'/'\n",
        "plot_path = PATH+'data/'+save_prefix+'/img/'\n",
        "train_loader_path = PATH + 'data/'+save_prefix+'/datasets/' \n",
        "test_loader_path = PATH + 'data/'+save_prefix+'/datasets/' \n",
        "os.makedirs(model_path, exist_ok=True)\n",
        "os.makedirs(stats_path, exist_ok=True)\n",
        "os.makedirs(plot_path, exist_ok=True)\n",
        "os.makedirs(train_loader_path, exist_ok=True)\n",
        "os.makedirs(test_loader_path, exist_ok=True)"
      ]
    },
    {
      "cell_type": "code",
      "execution_count": null,
      "metadata": {
        "id": "hHu5CdZlCc0V"
      },
      "outputs": [],
      "source": [
        "torch.save(train_loader, train_loader_path + 'train_loader.pt')\n",
        "if test_loader is not None:\n",
        "    torch.save(test_loader, test_loader_path + 'test_loader.pt')\n",
        "\n",
        "# save model to disk\n",
        "torch.save(model.state_dict(), model_path+'model')\n",
        "\n",
        "# save the stats\n",
        "save_stats(stats, stats_path+'stats.txt')"
      ]
    },
    {
      "cell_type": "code",
      "execution_count": null,
      "metadata": {
        "id": "LogFLihtCc0W"
      },
      "outputs": [],
      "source": [
        "# train_loader = torch.load(train_loader_path)\n",
        "# test_loader = torch.load(test_loader_path)\n",
        "# # loads the stats \n",
        "# stats = read_dict(PATH, stats_path)\n",
        "# # load the model from disk\n",
        "# model.load_state_dict(torch.load(PATH+model_path))\n",
        "# model.eval()"
      ]
    },
    {
      "cell_type": "code",
      "execution_count": null,
      "metadata": {
        "colab": {
          "base_uri": "https://localhost:8080/",
          "height": 573
        },
        "id": "NrSHBNwvCc0W",
        "outputId": "8953cab8-51be-4aa5-a0ec-24a8cc0636f8"
      },
      "outputs": [],
      "source": [
        "loss_train = stats['train_loss']\n",
        "loss_test = stats['test_loss']\n",
        "epochs = np.arange(len(loss_train))\n",
        "train_test_loss_plot(loss_train, loss_test, epochs, file_path=plot_path+'/LOSS_train_test.png',\n",
        "                     title='train and test loss per epoch', horizons=False, switch_steps=switch_steps)\n",
        "\n",
        "train_test_loss_plot(loss_train, loss_test, epochs, file_path=plot_path+'/LOSS_train_test_warrows.png',\n",
        "                     title='train and test loss per epoch', horizons=horizon_list[:-1], switch_steps=switch_steps)\n"
      ]
    },
    {
      "cell_type": "code",
      "execution_count": null,
      "metadata": {
        "colab": {
          "base_uri": "https://localhost:8080/",
          "height": 1000
        },
        "id": "SIZix06YCc0W",
        "outputId": "96c31349-ca4d-4081-c25d-45d1f131f401"
      },
      "outputs": [],
      "source": [
        "# show train and prediction\n",
        "for n in [0, 5, 10, 19]:\n",
        "    plot_furuta_hat_nom(device, model, u_func, g_func, utype, gtype, data_loader_t=train_loader,\n",
        "                        t_max=horizon_list[-1], n=n, C_q1=C_q1, C_q2=C_q2, g=g, Jr=Jr, Lr=Lr, Mp=Mp, Lp=Lp,\n",
        "                        t_plot=time_steps, show_pred=True, H_or_Input='input',\n",
        "                        title='Train set trajectories', file_path=plot_path+'/TRAJECTORIES_train_set'+str(n)+'.png', w_rescale=w_rescale)\n"
      ]
    },
    {
      "cell_type": "code",
      "execution_count": null,
      "metadata": {
        "colab": {
          "base_uri": "https://localhost:8080/",
          "height": 905
        },
        "id": "AlVaj6o4Cc0X",
        "outputId": "40e0fc45-f9c2-43fe-e913-49b0429de6b0"
      },
      "outputs": [],
      "source": [
        "# show only training portion\n",
        "for n in [0, 50, 70]:\n",
        "    plot_furuta_hat_nom(device, model, u_func, g_func, utype, gtype, data_loader_t=train_loader, t_max=horizon_list[-1],\n",
        "                        n=n, C_q1=C_q1, C_q2=C_q2, g=g, Jr=Jr, Lr=Lr, Mp=Mp, Lp=Lp, t_plot=horizon_list[-1], show_pred=False,\n",
        "                        title='Train set trajectories', file_path=plot_path+'/TRAJECTORIES_train_set'+str(n)+'.png', w_rescale=w_rescale)\n"
      ]
    },
    {
      "cell_type": "code",
      "execution_count": null,
      "metadata": {},
      "outputs": [],
      "source": [
        "# show test and prediction\n",
        "for n in [0, 5, 10, 19]:\n",
        "    plot_furuta_hat_nom(device, model, u_func, g_func, utype, gtype, data_loader_t=test_loader,\n",
        "                        t_max=horizon_list[-1], n=n, C_q1=C_q1, C_q2=C_q2, g=g, Jr=Jr, Lr=Lr, Mp=Mp, Lp=Lp,\n",
        "                        t_plot=time_steps, show_pred=True, H_or_Input='input',\n",
        "                        title='Train set trajectories', file_path=plot_path+'/TRAJECTORIES_train_set'+str(n)+'.png', w_rescale=w_rescale)\n"
      ]
    },
    {
      "cell_type": "code",
      "execution_count": null,
      "metadata": {},
      "outputs": [],
      "source": [
        "utype = None  # 'chirp' or 'sine' or 'tanh' or 'multisine' or 'step' or None\n",
        "u_func = U_FUNC(utype=utype) # instantiate the input function u(t)\n",
        "gtype = None # 'simple' or None\n",
        "# instantiate the input function G(q,p) (here it is constant)\n",
        "g_func = G_FUNC(gtype=gtype)\n",
        "init_method = 'random_nozero'  # 'random_nozero' # 'random_closetopi'\n",
        "time_steps = 800  # length of a trajectory\n",
        "num_trajectories = 25  # number of trajectories in total\n",
        "proportion = 0.0 # train test proportion\n",
        "batch_size = 100  # batch size used by dataloader\n",
        "w_rescale = [1, 1, 1, 1] # [1, 1000, 1, 10000]  # [1, 1000, 1, 10000]  # [1, 9000, 1, 10000]\n",
        "shuffle = False  # shuffle sample in the batches between epochs\n",
        "# 'hamiltonian' or 'newtonian', newtonian if you want [q1,q1_dot,q2,q2_dot]\n",
        "coord_type = 'hamiltonian'\n",
        "min_max_rescale = True  # rescale the training trajectories\n",
        "# which dimensions to rescale if using min_max_rescale, so that nothing is divided by zero\n",
        "rescale_dims = [1, 1, 1, 0]\n",
        "\n",
        "# generate train and test dataloader objects containing the trajectories\n",
        "train_loader_2, test_loader_2 = load_data_device(device, init_method, w_rescale,\n",
        "                                             u_func, g_func, time_steps,\n",
        "                                             shuffle=shuffle,\n",
        "                                             num_trajectories=num_trajectories,\n",
        "                                             coord_type=coord_type,\n",
        "                                             proportion=proportion, batch_size=batch_size,\n",
        "                                             Ts=Ts, noise_std=noise_std, C_q1=C_q1, C_q2=C_q2,\n",
        "                                             g=g, Jr=Jr, Lr=Lr, Mp=Mp, Lp=Lp,\n",
        "                                             min_max_rescale=min_max_rescale, rescale_dims=rescale_dims)"
      ]
    },
    {
      "cell_type": "code",
      "execution_count": null,
      "metadata": {},
      "outputs": [],
      "source": [
        "# show test and prediction\n",
        "title='test set trajectories | no input'\n",
        "for n in [0, 5, 10, 19]:\n",
        "    plot_furuta_hat_nom(device, model, u_func, g_func, utype, gtype, data_loader_t=train_loader_2,\n",
        "                        t_max=time_steps, n=n, C_q1=C_q1, C_q2=C_q2, g=g, Jr=Jr, Lr=Lr, Mp=Mp, Lp=Lp,\n",
        "                        t_plot=time_steps, only_pred=True, show_pred=True, H_or_Input='input',\n",
        "                        title=title, file_path=plot_path+'/TRAJECTORIES_train_set'+str(n)+'noinput.png', w_rescale=w_rescale)\n"
      ]
    },
    {
      "cell_type": "code",
      "execution_count": null,
      "metadata": {},
      "outputs": [],
      "source": [
        "utype = 'sine'  # 'chirp' or 'sine' or 'tanh' or 'multisine' or 'step' or None\n",
        "u_func = U_FUNC(utype=utype)  # instantiate the input function u(t)\n",
        "u_func.params['T'] = 1.5\n",
        "u_func.params['f0'] = 0\n",
        "u_func.params['f1'] = 1  # 4 # 1.4\n",
        "u_func.params['scale'] = 0.0001  # for fake : 0.5 or 0.1 for real : 0.0001\n",
        "gtype = 'simple'  # 'simple' or None\n",
        "# instantiate the input function G(q,p) (here it is constant)\n",
        "g_func = G_FUNC(gtype=gtype)\n",
        "init_method = 'random_nozero'  # 'random_nozero' # 'random_closetopi'\n",
        "time_steps = 800  # length of a trajectory\n",
        "num_trajectories = 25  # number of trajectories in total\n",
        "proportion = 0.8  # train test proportion\n",
        "batch_size = 100  # batch size used by dataloader\n",
        "# [1, 1000, 1, 10000]  # [1, 1000, 1, 10000]  # [1, 9000, 1, 10000]\n",
        "w_rescale = [1, 1, 1, 1]\n",
        "shuffle = False  # shuffle sample in the batches between epochs\n",
        "# 'hamiltonian' or 'newtonian', newtonian if you want [q1,q1_dot,q2,q2_dot]\n",
        "coord_type = 'hamiltonian'\n",
        "min_max_rescale = True  # rescale the training trajectories\n",
        "# which dimensions to rescale if using min_max_rescale, so that nothing is divided by zero\n",
        "rescale_dims = [1, 1, 1, 1]\n",
        "\n",
        "# generate train and test dataloader objects containing the trajectories\n",
        "train_loader_3, test_loader_3 = load_data_device(device, init_method, w_rescale,\n",
        "                                                 u_func, g_func, time_steps,\n",
        "                                                 shuffle=shuffle,\n",
        "                                                 num_trajectories=num_trajectories,\n",
        "                                                 coord_type=coord_type,\n",
        "                                                 proportion=proportion, batch_size=batch_size,\n",
        "                                                 Ts=Ts, noise_std=noise_std, C_q1=C_q1, C_q2=C_q2,\n",
        "                                                 g=g, Jr=Jr, Lr=Lr, Mp=Mp, Lp=Lp,\n",
        "                                                 min_max_rescale=min_max_rescale, rescale_dims=rescale_dims)\n"
      ]
    },
    {
      "cell_type": "code",
      "execution_count": null,
      "metadata": {},
      "outputs": [],
      "source": [
        "# show test and prediction\n",
        "title='test set trajectories | 1hz sine input'\n",
        "for n in [0, 5, 10, 19]:\n",
        "    plot_furuta_hat_nom(device, model, u_func, g_func, utype, gtype, data_loader_t=train_loader_3,\n",
        "                        t_max=time_steps, n=n, C_q1=C_q1, C_q2=C_q2, g=g, Jr=Jr, Lr=Lr, Mp=Mp, Lp=Lp,\n",
        "                        t_plot=time_steps, only_pred=True, show_pred=True, H_or_Input='input',\n",
        "                        title=title, file_path=plot_path+'/TRAJECTORIES_train_set'+str(n)+'1hzsine.png', w_rescale=w_rescale)\n"
      ]
    },
    {
      "cell_type": "code",
      "execution_count": null,
      "metadata": {},
      "outputs": [],
      "source": [
        "utype = 'sine'  # 'chirp' or 'sine' or 'tanh' or 'multisine' or 'step' or None\n",
        "u_func = U_FUNC(utype=utype) # instantiate the input function u(t)\n",
        "u_func.params['T'] = 1.5\n",
        "u_func.params['f0'] = 0\n",
        "u_func.params['f1'] = 2  # 4 # 1.4\n",
        "u_func.params['scale'] = 0.0001  # for fake : 0.5 or 0.1 for real : 0.0001\n",
        "gtype = 'simple' # 'simple' or None\n",
        "# instantiate the input function G(q,p) (here it is constant)\n",
        "g_func = G_FUNC(gtype=gtype)\n",
        "init_method = 'random_nozero'  # 'random_nozero' # 'random_closetopi'\n",
        "time_steps = 800  # length of a trajectory\n",
        "num_trajectories = 25  # number of trajectories in total\n",
        "proportion = 0.0  # train test proportion\n",
        "batch_size = 100  # batch size used by dataloader\n",
        "w_rescale = [1, 1, 1, 1] # [1, 1000, 1, 10000]  # [1, 1000, 1, 10000]  # [1, 9000, 1, 10000]\n",
        "shuffle = False  # shuffle sample in the batches between epochs\n",
        "# 'hamiltonian' or 'newtonian', newtonian if you want [q1,q1_dot,q2,q2_dot]\n",
        "coord_type = 'hamiltonian'\n",
        "min_max_rescale = True  # rescale the training trajectories\n",
        "# which dimensions to rescale if using min_max_rescale, so that nothing is divided by zero\n",
        "rescale_dims = [1, 1, 1, 1]\n",
        "\n",
        "# generate train and test dataloader objects containing the trajectories\n",
        "train_loader_4, test_loader_4 = load_data_device(device, init_method, w_rescale,\n",
        "                                             u_func, g_func, time_steps,\n",
        "                                             shuffle=shuffle,\n",
        "                                             num_trajectories=num_trajectories,\n",
        "                                             coord_type=coord_type,\n",
        "                                             proportion=proportion, batch_size=batch_size,\n",
        "                                             Ts=Ts, noise_std=noise_std, C_q1=C_q1, C_q2=C_q2,\n",
        "                                             g=g, Jr=Jr, Lr=Lr, Mp=Mp, Lp=Lp,\n",
        "                                             min_max_rescale=min_max_rescale, rescale_dims=rescale_dims)\n",
        "# show test and prediction\n",
        "title='test set trajectories | 2hz sine input'\n",
        "for n in [0, 5, 10, 19]:\n",
        "    plot_furuta_hat_nom(device, model, u_func, g_func, utype, gtype, data_loader_t=train_loader_4,\n",
        "                        t_max=time_steps, n=n, C_q1=C_q1, C_q2=C_q2, g=g, Jr=Jr, Lr=Lr, Mp=Mp, Lp=Lp,\n",
        "                        t_plot=time_steps, only_pred=True, show_pred=True, H_or_Input='input',\n",
        "                        title=title, file_path=plot_path+'/TRAJECTORIES_test_set'+str(n)+'2hzsine.png', w_rescale=w_rescale)"
      ]
    },
    {
      "cell_type": "markdown",
      "metadata": {},
      "source": [
        "##### with NN for G"
      ]
    },
    {
      "cell_type": "code",
      "execution_count": null,
      "metadata": {
        "colab": {
          "base_uri": "https://localhost:8080/"
        },
        "id": "iOmaMQ28Cczz",
        "outputId": "3ef93931-5aa2-4321-ef04-97e4e90d30d8"
      },
      "outputs": [],
      "source": [
        "set_all_seeds(manualSeed=123, new_results=False)\n",
        "device = set_device()  # set it to gpu if it is available\n",
        "\n",
        "# Parameters to generate the dataset\n",
        "furuta_type = 'real'  # 'real' or 'fake'\n",
        "Ts, noise_std, C_q1, C_q2, g, Jr, Lr, Mp, Lp = set_furuta_params(\n",
        "    which=furuta_type)\n",
        "utype = 'chirp'  # 'chirp' or 'sine' or 'tanh' or 'multisine' or 'step' or None\n",
        "u_func = U_FUNC(utype=utype)  # instantiate the input function u(t)\n",
        "u_func.params['T'] = 1.5\n",
        "u_func.params['f0'] = 0\n",
        "u_func.params['f1'] = 2  # 4 # 1.4\n",
        "u_func.params['scale'] = 0.0001  # for fake : 0.5 or 0.1 for real : 0.0001\n",
        "gtype = 'simple'  # 'simple' or None\n",
        "# instantiate the input function G(q,p) (here it is constant)\n",
        "g_func = G_FUNC(gtype=gtype)\n",
        "init_method = 'random_nozero'  # 'random_nozero' # 'random_closetopi'\n",
        "time_steps = 800  # length of a trajectory\n",
        "num_trajectories = 125  # number of trajectories in total\n",
        "proportion = 0.8  # train test proportion\n",
        "batch_size = 100  # batch size used by dataloader\n",
        "w_rescale = [1, 1000, 1, 10000]  # [1, 1000, 1, 10000]  # [1, 9000, 1, 10000]\n",
        "shuffle = False  # shuffle sample in the batches between epochs\n",
        "# 'hamiltonian' or 'newtonian', newtonian if you want [q1,q1_dot,q2,q2_dot]\n",
        "coord_type = 'hamiltonian'\n",
        "min_max_rescale = True  # rescale the training trajectories\n",
        "# which dimensions to rescale if using min_max_rescale, so that nothing is divided by zero\n",
        "rescale_dims = [1, 1, 1, 1]\n",
        "\n",
        "# Parameters for the training procedure\n",
        "resnet_config = None\n",
        "alternating = False  # for Input_HNN, if G is a neural network, train\n",
        "horizon_type = 'auto'  # 'auto' or 'constant'\n",
        "horizon = False  # if horizon_type == 'constant', use this horizon\n",
        "loss_type = 'L2'  # 'L2' or 'L2weighted'\n",
        "collect_grads = False  # collect gradients in all layers at every epoch\n",
        "# rescale the difference between nominal and train by the min max of train trajectory in loss function\n",
        "rescale_loss = True\n",
        "grad_clip = True  # activate gradient clipping\n",
        "lr_schedule = False  # activate lr schedule\n",
        "begin_decay = 600  # epoch at which lr starts decaying\n",
        "weights = [1.0, 1.0, 1.0, 1.0]  # weights for the loss functions\n",
        "\n",
        "horizon_list = [50, 100, 150, 200, 250, 300]\n",
        "switch_steps = [200, 100, 100, 100, 100, 100]\n",
        "epoch_number = sum(switch_steps)  # total number of training epochs\n"
      ]
    },
    {
      "cell_type": "code",
      "execution_count": null,
      "metadata": {
        "id": "9VgOgbS_Cc0T"
      },
      "outputs": [],
      "source": [
        "# generate train and test dataloader objects containing the trajectories\n",
        "train_loader, test_loader = load_data_device(device, init_method, w_rescale,\n",
        "                                             u_func, g_func, time_steps,\n",
        "                                             shuffle=shuffle,\n",
        "                                             num_trajectories=num_trajectories,\n",
        "                                             coord_type=coord_type,\n",
        "                                             proportion=proportion, batch_size=batch_size,\n",
        "                                             Ts=Ts, noise_std=noise_std, C_q1=C_q1, C_q2=C_q2,\n",
        "                                             g=g, Jr=Jr, Lr=Lr, Mp=Mp, Lp=Lp,\n",
        "                                             min_max_rescale=min_max_rescale, rescale_dims=rescale_dims)"
      ]
    },
    {
      "cell_type": "code",
      "execution_count": null,
      "metadata": {
        "colab": {
          "base_uri": "https://localhost:8080/"
        },
        "id": "-3HyINQyCc0U",
        "outputId": "b4048d53-606d-40f7-a01d-174bf2b97978"
      },
      "outputs": [],
      "source": [
        "# initialise the model that will be trianed\n",
        "\n",
        "model_name = 'Input_HNN_GNN'\n",
        "\n",
        "H_net = MLP(input_dim=4, hidden_dim=90, nb_hidden_layers=4,\n",
        "            output_dim=1, activation='x+sin(x)^2')\n",
        "G_net = MLP(input_dim=4, hidden_dim=60, nb_hidden_layers=1,\n",
        "            output_dim=4, activation='x+sin(x)^2')\n",
        "model = Input_HNN(u_func=u_func, G_net=G_net,\n",
        "                 H_net=H_net, device=device, dissip=False)\n",
        "model.to(device)\n",
        "num_params = count_parameters(H_net)\n",
        "num_params_g = count_parameters(G_net)\n",
        "# create file name from parameters\n",
        "\n",
        "\n",
        "save_prefix = name_from_params(Ts, rescale_loss, weights, epoch_number, num_params, utype, model_name,\n",
        "                               num_trajectories, furuta_type, noise_std,\n",
        "                               grad_clip, lr_schedule, C_q1, C_q2, horizon, min_max_rescale,w_rescale)\n",
        "                               \n",
        "# print some information on the training and file name\n",
        "print('Total number of epochs:', epoch_number)\n",
        "print('H_net number of parameters :', num_params)\n",
        "print('G_net number of parameters :', num_params_g)\n",
        "print('Save file prefix : ', save_prefix)\n",
        "\n",
        "# Sanity check\n",
        "is_same_size(horizon_list, switch_steps)"
      ]
    },
    {
      "cell_type": "code",
      "execution_count": null,
      "metadata": {
        "colab": {
          "base_uri": "https://localhost:8080/",
          "height": 1000
        },
        "id": "kNWhxamnCc0U",
        "outputId": "d05cb4d4-505b-42af-c97f-ff4a0eb7e61e"
      },
      "outputs": [],
      "source": [
        "stats = train(device=device, model=model,\n",
        "              Ts=Ts,\n",
        "              train_loader=train_loader,\n",
        "              test_loader=test_loader,\n",
        "              w=torch.tensor(weights, device=device),\n",
        "              grad_clip=grad_clip,\n",
        "              lr_schedule=lr_schedule,\n",
        "              begin_decay=begin_decay,\n",
        "              resnet_config=resnet_config,\n",
        "              epoch_number=epoch_number,\n",
        "              alternating=alternating,\n",
        "              horizon=horizon,\n",
        "              horizon_type=horizon_type,\n",
        "              horizon_list=horizon_list,\n",
        "              switch_steps=switch_steps,\n",
        "              epochs=epoch_number,\n",
        "              loss_type=loss_type,\n",
        "              collect_grads=collect_grads,\n",
        "              rescale_loss=rescale_loss,\n",
        "              rescale_dims=rescale_dims\n",
        "              )\n"
      ]
    },
    {
      "cell_type": "code",
      "execution_count": null,
      "metadata": {
        "id": "38opHVq2Cc0V"
      },
      "outputs": [],
      "source": [
        "if collect_grads:\n",
        "    plot_grads(stats)"
      ]
    },
    {
      "cell_type": "code",
      "execution_count": null,
      "metadata": {
        "id": "RPxjhso4Cc0V"
      },
      "outputs": [],
      "source": [
        "# set all paths and create folders : \n",
        "model_path = PATH+'data/'+save_prefix+'/'\n",
        "stats_path = PATH+'data/'+save_prefix+'/'\n",
        "plot_path = PATH+'data/'+save_prefix+'/img/'\n",
        "train_loader_path = PATH + 'data/'+save_prefix+'/datasets/' \n",
        "test_loader_path = PATH + 'data/'+save_prefix+'/datasets/' \n",
        "os.makedirs(model_path, exist_ok=True)\n",
        "os.makedirs(stats_path, exist_ok=True)\n",
        "os.makedirs(plot_path, exist_ok=True)\n",
        "os.makedirs(train_loader_path, exist_ok=True)\n",
        "os.makedirs(test_loader_path, exist_ok=True)"
      ]
    },
    {
      "cell_type": "code",
      "execution_count": null,
      "metadata": {
        "id": "hHu5CdZlCc0V"
      },
      "outputs": [],
      "source": [
        "torch.save(train_loader, train_loader_path + 'train_loader.pt')\n",
        "if test_loader is not None:\n",
        "    torch.save(test_loader, test_loader_path + 'test_loader.pt')\n",
        "\n",
        "# save model to disk\n",
        "torch.save(model.state_dict(), model_path+'model')\n",
        "\n",
        "# save the stats\n",
        "save_stats(stats, stats_path+'stats.txt')"
      ]
    },
    {
      "cell_type": "code",
      "execution_count": null,
      "metadata": {
        "id": "LogFLihtCc0W"
      },
      "outputs": [],
      "source": [
        "# train_loader = torch.load(train_loader_path)\n",
        "# test_loader = torch.load(test_loader_path)\n",
        "# # loads the stats \n",
        "# stats = read_dict(PATH, stats_path)\n",
        "# # load the model from disk\n",
        "# model.load_state_dict(torch.load(PATH+model_path))\n",
        "# model.eval()"
      ]
    },
    {
      "cell_type": "code",
      "execution_count": null,
      "metadata": {
        "colab": {
          "base_uri": "https://localhost:8080/",
          "height": 573
        },
        "id": "NrSHBNwvCc0W",
        "outputId": "8953cab8-51be-4aa5-a0ec-24a8cc0636f8"
      },
      "outputs": [],
      "source": [
        "loss_train = stats['train_loss']\n",
        "loss_test = stats['test_loss']\n",
        "epochs = np.arange(len(loss_train))\n",
        "train_test_loss_plot(loss_train, loss_test, epochs, file_path=plot_path+'/LOSS_train_test.png',\n",
        "                     title='train and test loss per epoch', horizons=False, switch_steps=switch_steps)\n",
        "\n",
        "train_test_loss_plot(loss_train, loss_test, epochs, file_path=plot_path+'/LOSS_train_test_warrows.png',\n",
        "                     title='train and test loss per epoch', horizons=horizon_list[:-1], switch_steps=switch_steps)\n"
      ]
    },
    {
      "cell_type": "code",
      "execution_count": null,
      "metadata": {
        "colab": {
          "base_uri": "https://localhost:8080/",
          "height": 1000
        },
        "id": "SIZix06YCc0W",
        "outputId": "96c31349-ca4d-4081-c25d-45d1f131f401"
      },
      "outputs": [],
      "source": [
        "# show train and prediction\n",
        "for n in [0, 5, 10, 19]:\n",
        "    plot_furuta_hat_nom(device, model, u_func, g_func, utype, gtype, data_loader_t=train_loader,\n",
        "                        t_max=horizon_list[-1], n=n, C_q1=C_q1, C_q2=C_q2, g=g, Jr=Jr, Lr=Lr, Mp=Mp, Lp=Lp,\n",
        "                        t_plot=time_steps, show_pred=True, H_or_Input='input',\n",
        "                        title='Train set trajectories', file_path=plot_path+'/TRAJECTORIES_train_set'+str(n)+'.png', w_rescale=w_rescale)\n"
      ]
    },
    {
      "cell_type": "code",
      "execution_count": null,
      "metadata": {
        "colab": {
          "base_uri": "https://localhost:8080/",
          "height": 905
        },
        "id": "AlVaj6o4Cc0X",
        "outputId": "40e0fc45-f9c2-43fe-e913-49b0429de6b0"
      },
      "outputs": [],
      "source": [
        "# show only training portion\n",
        "for n in [0, 50, 70]:\n",
        "    plot_furuta_hat_nom(device, model, u_func, g_func, utype, gtype, data_loader_t=train_loader, t_max=horizon_list[-1],\n",
        "                        n=n, C_q1=C_q1, C_q2=C_q2, g=g, Jr=Jr, Lr=Lr, Mp=Mp, Lp=Lp, t_plot=horizon_list[-1], show_pred=False,\n",
        "                        title='Train set trajectories', file_path=plot_path+'/TRAJECTORIES_train_set'+str(n)+'.png', w_rescale=w_rescale)\n"
      ]
    },
    {
      "cell_type": "code",
      "execution_count": null,
      "metadata": {},
      "outputs": [],
      "source": [
        "# show test and prediction\n",
        "for n in [0, 5, 10, 19]:\n",
        "    plot_furuta_hat_nom(device, model, u_func, g_func, utype, gtype, data_loader_t=test_loader,\n",
        "                        t_max=horizon_list[-1], n=n, C_q1=C_q1, C_q2=C_q2, g=g, Jr=Jr, Lr=Lr, Mp=Mp, Lp=Lp,\n",
        "                        t_plot=time_steps, show_pred=True, H_or_Input='input',\n",
        "                        title='Train set trajectories', file_path=plot_path+'/TRAJECTORIES_train_set'+str(n)+'.png', w_rescale=w_rescale)\n"
      ]
    },
    {
      "cell_type": "code",
      "execution_count": null,
      "metadata": {},
      "outputs": [],
      "source": [
        "utype = None  # 'chirp' or 'sine' or 'tanh' or 'multisine' or 'step' or None\n",
        "u_func = U_FUNC(utype=utype) # instantiate the input function u(t)\n",
        "gtype = None # 'simple' or None\n",
        "# instantiate the input function G(q,p) (here it is constant)\n",
        "g_func = G_FUNC(gtype=gtype)\n",
        "init_method = 'random_nozero'  # 'random_nozero' # 'random_closetopi'\n",
        "time_steps = 800  # length of a trajectory\n",
        "num_trajectories = 25  # number of trajectories in total\n",
        "proportion = 0.0 # train test proportion\n",
        "batch_size = 100  # batch size used by dataloader\n",
        "w_rescale = [1, 1, 1, 1] # [1, 1000, 1, 10000]  # [1, 1000, 1, 10000]  # [1, 9000, 1, 10000]\n",
        "shuffle = False  # shuffle sample in the batches between epochs\n",
        "# 'hamiltonian' or 'newtonian', newtonian if you want [q1,q1_dot,q2,q2_dot]\n",
        "coord_type = 'hamiltonian'\n",
        "min_max_rescale = True  # rescale the training trajectories\n",
        "# which dimensions to rescale if using min_max_rescale, so that nothing is divided by zero\n",
        "rescale_dims = [1, 1, 1, 0]\n",
        "\n",
        "# generate train and test dataloader objects containing the trajectories\n",
        "train_loader_2, test_loader_2 = load_data_device(device, init_method, w_rescale,\n",
        "                                             u_func, g_func, time_steps,\n",
        "                                             shuffle=shuffle,\n",
        "                                             num_trajectories=num_trajectories,\n",
        "                                             coord_type=coord_type,\n",
        "                                             proportion=proportion, batch_size=batch_size,\n",
        "                                             Ts=Ts, noise_std=noise_std, C_q1=C_q1, C_q2=C_q2,\n",
        "                                             g=g, Jr=Jr, Lr=Lr, Mp=Mp, Lp=Lp,\n",
        "                                             min_max_rescale=min_max_rescale, rescale_dims=rescale_dims)"
      ]
    },
    {
      "cell_type": "code",
      "execution_count": null,
      "metadata": {},
      "outputs": [],
      "source": [
        "# show test and prediction\n",
        "title='test set trajectories | no input'\n",
        "for n in [0, 5, 10, 19]:\n",
        "    plot_furuta_hat_nom(device, model, u_func, g_func, utype, gtype, data_loader_t=train_loader_2,\n",
        "                        t_max=time_steps, n=n, C_q1=C_q1, C_q2=C_q2, g=g, Jr=Jr, Lr=Lr, Mp=Mp, Lp=Lp,\n",
        "                        t_plot=time_steps, only_pred=True, show_pred=True, H_or_Input='input',\n",
        "                        title=title, file_path=plot_path+'/TRAJECTORIES_train_set'+str(n)+'noinput.png', w_rescale=w_rescale)\n"
      ]
    },
    {
      "cell_type": "code",
      "execution_count": null,
      "metadata": {},
      "outputs": [],
      "source": [
        "utype = 'sine'  # 'chirp' or 'sine' or 'tanh' or 'multisine' or 'step' or None\n",
        "u_func = U_FUNC(utype=utype)  # instantiate the input function u(t)\n",
        "u_func.params['T'] = 1.5\n",
        "u_func.params['f0'] = 0\n",
        "u_func.params['f1'] = 1  # 4 # 1.4\n",
        "u_func.params['scale'] = 0.0001  # for fake : 0.5 or 0.1 for real : 0.0001\n",
        "gtype = 'simple'  # 'simple' or None\n",
        "# instantiate the input function G(q,p) (here it is constant)\n",
        "g_func = G_FUNC(gtype=gtype)\n",
        "init_method = 'random_nozero'  # 'random_nozero' # 'random_closetopi'\n",
        "time_steps = 800  # length of a trajectory\n",
        "num_trajectories = 25  # number of trajectories in total\n",
        "proportion = 0.8  # train test proportion\n",
        "batch_size = 100  # batch size used by dataloader\n",
        "# [1, 1000, 1, 10000]  # [1, 1000, 1, 10000]  # [1, 9000, 1, 10000]\n",
        "w_rescale = [1, 1, 1, 1]\n",
        "shuffle = False  # shuffle sample in the batches between epochs\n",
        "# 'hamiltonian' or 'newtonian', newtonian if you want [q1,q1_dot,q2,q2_dot]\n",
        "coord_type = 'hamiltonian'\n",
        "min_max_rescale = True  # rescale the training trajectories\n",
        "# which dimensions to rescale if using min_max_rescale, so that nothing is divided by zero\n",
        "rescale_dims = [1, 1, 1, 1]\n",
        "\n",
        "# generate train and test dataloader objects containing the trajectories\n",
        "train_loader_3, test_loader_3 = load_data_device(device, init_method, w_rescale,\n",
        "                                                 u_func, g_func, time_steps,\n",
        "                                                 shuffle=shuffle,\n",
        "                                                 num_trajectories=num_trajectories,\n",
        "                                                 coord_type=coord_type,\n",
        "                                                 proportion=proportion, batch_size=batch_size,\n",
        "                                                 Ts=Ts, noise_std=noise_std, C_q1=C_q1, C_q2=C_q2,\n",
        "                                                 g=g, Jr=Jr, Lr=Lr, Mp=Mp, Lp=Lp,\n",
        "                                                 min_max_rescale=min_max_rescale, rescale_dims=rescale_dims)\n"
      ]
    },
    {
      "cell_type": "code",
      "execution_count": null,
      "metadata": {},
      "outputs": [],
      "source": [
        "# show test and prediction\n",
        "title='test set trajectories | 1hz sine input'\n",
        "for n in [0, 5, 10, 19]:\n",
        "    plot_furuta_hat_nom(device, model, u_func, g_func, utype, gtype, data_loader_t=train_loader_3,\n",
        "                        t_max=time_steps, n=n, C_q1=C_q1, C_q2=C_q2, g=g, Jr=Jr, Lr=Lr, Mp=Mp, Lp=Lp,\n",
        "                        t_plot=time_steps, only_pred=True, show_pred=True, H_or_Input='input',\n",
        "                        title=title, file_path=plot_path+'/TRAJECTORIES_train_set'+str(n)+'1hzsine.png', w_rescale=w_rescale)\n"
      ]
    },
    {
      "cell_type": "code",
      "execution_count": null,
      "metadata": {},
      "outputs": [],
      "source": [
        "utype = 'sine'  # 'chirp' or 'sine' or 'tanh' or 'multisine' or 'step' or None\n",
        "u_func = U_FUNC(utype=utype) # instantiate the input function u(t)\n",
        "u_func.params['T'] = 1.5\n",
        "u_func.params['f0'] = 0\n",
        "u_func.params['f1'] = 2  # 4 # 1.4\n",
        "u_func.params['scale'] = 0.0001  # for fake : 0.5 or 0.1 for real : 0.0001\n",
        "gtype = 'simple' # 'simple' or None\n",
        "# instantiate the input function G(q,p) (here it is constant)\n",
        "g_func = G_FUNC(gtype=gtype)\n",
        "init_method = 'random_nozero'  # 'random_nozero' # 'random_closetopi'\n",
        "time_steps = 800  # length of a trajectory\n",
        "num_trajectories = 25  # number of trajectories in total\n",
        "proportion = 0.0  # train test proportion\n",
        "batch_size = 100  # batch size used by dataloader\n",
        "w_rescale = [1, 1, 1, 1] # [1, 1000, 1, 10000]  # [1, 1000, 1, 10000]  # [1, 9000, 1, 10000]\n",
        "shuffle = False  # shuffle sample in the batches between epochs\n",
        "# 'hamiltonian' or 'newtonian', newtonian if you want [q1,q1_dot,q2,q2_dot]\n",
        "coord_type = 'hamiltonian'\n",
        "min_max_rescale = True  # rescale the training trajectories\n",
        "# which dimensions to rescale if using min_max_rescale, so that nothing is divided by zero\n",
        "rescale_dims = [1, 1, 1, 1]\n",
        "\n",
        "# generate train and test dataloader objects containing the trajectories\n",
        "train_loader_4, test_loader_4 = load_data_device(device, init_method, w_rescale,\n",
        "                                             u_func, g_func, time_steps,\n",
        "                                             shuffle=shuffle,\n",
        "                                             num_trajectories=num_trajectories,\n",
        "                                             coord_type=coord_type,\n",
        "                                             proportion=proportion, batch_size=batch_size,\n",
        "                                             Ts=Ts, noise_std=noise_std, C_q1=C_q1, C_q2=C_q2,\n",
        "                                             g=g, Jr=Jr, Lr=Lr, Mp=Mp, Lp=Lp,\n",
        "                                             min_max_rescale=min_max_rescale, rescale_dims=rescale_dims)\n",
        "# show test and prediction\n",
        "title='test set trajectories | 2hz sine input'\n",
        "for n in [0, 5, 10, 19]:\n",
        "    plot_furuta_hat_nom(device, model, u_func, g_func, utype, gtype, data_loader_t=train_loader_4,\n",
        "                        t_max=time_steps, n=n, C_q1=C_q1, C_q2=C_q2, g=g, Jr=Jr, Lr=Lr, Mp=Mp, Lp=Lp,\n",
        "                        t_plot=time_steps, only_pred=True, show_pred=True, H_or_Input='input',\n",
        "                        title=title, file_path=plot_path+'/TRAJECTORIES_test_set'+str(n)+'2hzsine.png', w_rescale=w_rescale)"
      ]
    },
    {
      "cell_type": "markdown",
      "metadata": {},
      "source": [
        "#### Expanding_HNN"
      ]
    },
    {
      "cell_type": "code",
      "execution_count": 4,
      "metadata": {
        "colab": {
          "base_uri": "https://localhost:8080/"
        },
        "id": "iOmaMQ28Cczz",
        "outputId": "3ef93931-5aa2-4321-ef04-97e4e90d30d8"
      },
      "outputs": [
        {
          "name": "stdout",
          "output_type": "stream",
          "text": [
            "Random Seed:  123\n",
            "cpu\n"
          ]
        }
      ],
      "source": [
        "set_all_seeds(manualSeed=123, new_results=False)\n",
        "device = set_device()  # set it to gpu if it is available\n",
        "\n",
        "# Parameters to generate the dataset\n",
        "furuta_type = 'real'  # 'real' or 'fake'\n",
        "Ts, noise_std, C_q1, C_q2, g, Jr, Lr, Mp, Lp = set_furuta_params(\n",
        "    which=furuta_type)\n",
        "utype = 'chirp'  # 'chirp' or 'sine' or 'tanh' or 'multisine' or 'step' or None\n",
        "u_func = U_FUNC(utype=utype)  # instantiate the input function u(t)\n",
        "u_func.params['T'] = 1.5\n",
        "u_func.params['f0'] = 0\n",
        "u_func.params['f1'] = 2  # 4 # 1.4\n",
        "u_func.params['scale'] = 0.0001  # for fake : 0.5 or 0.1 for real : 0.0001\n",
        "gtype = 'simple'  # 'simple' or None\n",
        "# instantiate the input function G(q,p) (here it is constant)\n",
        "g_func = G_FUNC(gtype=gtype)\n",
        "init_method = 'random_nozero'  # 'random_nozero' # 'random_closetopi'\n",
        "time_steps = 800  # length of a trajectory\n",
        "num_trajectories = 125  # number of trajectories in total\n",
        "proportion = 0.8  # train test proportion\n",
        "batch_size = 100  # batch size used by dataloader\n",
        "w_rescale = [1, 1000, 1, 10000]  # [1, 1000, 1, 10000]  # [1, 9000, 1, 10000]\n",
        "shuffle = False  # shuffle sample in the batches between epochs\n",
        "# 'hamiltonian' or 'newtonian', newtonian if you want [q1,q1_dot,q2,q2_dot]\n",
        "coord_type = 'hamiltonian'\n",
        "min_max_rescale = True  # rescale the training trajectories\n",
        "# which dimensions to rescale if using min_max_rescale, so that nothing is divided by zero\n",
        "rescale_dims = [1, 1, 1, 1]\n",
        "\n",
        "# Parameters for the training procedure\n",
        "resnet_config = 1\n",
        "alternating = False  # for Input_HNN, if G is a neural network, train\n",
        "horizon_type = 'auto'  # 'auto' or 'constant'\n",
        "horizon = False  # if horizon_type == 'constant', use this horizon\n",
        "loss_type = 'L2'  # 'L2' or 'L2weighted'\n",
        "collect_grads = False  # collect gradients in all layers at every epoch\n",
        "# rescale the difference between nominal and train by the min max of train trajectory in loss function\n",
        "rescale_loss = True\n",
        "grad_clip = True  # activate gradient clipping\n",
        "lr_schedule = False  # activate lr schedule\n",
        "begin_decay = 600  # epoch at which lr starts decaying\n",
        "weights = [1.0, 1.0, 1.0, 1.0]  # weights for the loss functions\n",
        "\n",
        "horizon_list = [50, 100, 150, 200, 250, 300]\n",
        "switch_steps = [200, 100, 100, 100, 100, 100]\n",
        "epoch_number = sum(switch_steps)  # total number of training epochs\n"
      ]
    },
    {
      "cell_type": "code",
      "execution_count": 5,
      "metadata": {
        "id": "9VgOgbS_Cc0T"
      },
      "outputs": [],
      "source": [
        "# generate train and test dataloader objects containing the trajectories\n",
        "train_loader, test_loader = load_data_device(device, init_method, w_rescale,\n",
        "                                             u_func, g_func, time_steps,\n",
        "                                             shuffle=shuffle,\n",
        "                                             num_trajectories=num_trajectories,\n",
        "                                             coord_type=coord_type,\n",
        "                                             proportion=proportion, batch_size=batch_size,\n",
        "                                             Ts=Ts, noise_std=noise_std, C_q1=C_q1, C_q2=C_q2,\n",
        "                                             g=g, Jr=Jr, Lr=Lr, Mp=Mp, Lp=Lp,\n",
        "                                             min_max_rescale=min_max_rescale, rescale_dims=rescale_dims)"
      ]
    },
    {
      "cell_type": "code",
      "execution_count": 6,
      "metadata": {
        "colab": {
          "base_uri": "https://localhost:8080/"
        },
        "id": "-3HyINQyCc0U",
        "outputId": "b4048d53-606d-40f7-a01d-174bf2b97978"
      },
      "outputs": [
        {
          "name": "stdout",
          "output_type": "stream",
          "text": [
            "Total number of epochs: 700\n",
            "mlp number of parameters : 4413\n",
            "resblock number of parameters : 4276\n",
            "Total number of H_net parameters : 30069\n",
            "Save file prefix :  Expanding_HNN_chirp_125traj_real_noise0.0_700e_p30k_Ts0.005_gradcl_nodissip_rescaledloss_trajminmaxrescale_stdrescale_\n",
            "horizon_list and switch_steps have the same size\n"
          ]
        }
      ],
      "source": [
        "# initialise the model that will be trianed\n",
        "\n",
        "\n",
        "model_name = 'Expanding_HNN'\n",
        "\n",
        "H_net = Expanding_ResNet(resblock_list=[0], num_blocks = 6, input_dim=4, hidden_dim=45, \n",
        "                nb_hidden_layers=2, output_dim=1, activation_res='x+sin(x)^2', activation_mlp='x+sin(x)^2')\n",
        "num_params = 0\n",
        "for block in H_net.resblocks:\n",
        "    block.to(device)\n",
        "    num_params += count_parameters(block)\n",
        "\n",
        "model = Input_HNN(u_func=u_func, G_net=g_func,\n",
        "                 H_net=H_net, device=device, dissip=False)\n",
        "                 \n",
        "model.to(device)\n",
        "num_params1 = count_parameters(model)\n",
        "num_params2 = count_parameters(model.H_net.resblocks[0])\n",
        "num_params += num_params1\n",
        "# create file name from parameters\n",
        "\n",
        "\n",
        "save_prefix = name_from_params(Ts, rescale_loss, weights, epoch_number, num_params, utype, model_name,\n",
        "                               num_trajectories, furuta_type, noise_std,\n",
        "                               grad_clip, lr_schedule, C_q1, C_q2, horizon, min_max_rescale,w_rescale)\n",
        "                               \n",
        "# print some information on the training and file name\n",
        "\n",
        "print('Total number of epochs:', epoch_number)\n",
        "print('mlp number of parameters :', num_params1)\n",
        "print('resblock number of parameters :', num_params2)\n",
        "print('Total number of H_net parameters :', num_params)\n",
        "print('Save file prefix : ', save_prefix)\n",
        "# Sanity check\n",
        "is_same_size(horizon_list, switch_steps)"
      ]
    },
    {
      "cell_type": "code",
      "execution_count": 7,
      "metadata": {
        "colab": {
          "base_uri": "https://localhost:8080/",
          "height": 1000
        },
        "id": "kNWhxamnCc0U",
        "outputId": "d05cb4d4-505b-42af-c97f-ff4a0eb7e61e"
      },
      "outputs": [
        {
          "name": "stdout",
          "output_type": "stream",
          "text": [
            "horizon length : 50\n",
            "Model size increased\n",
            "min max values updated\n"
          ]
        },
        {
          "data": {
            "image/png": "[encoded data removed]",
            "text/plain": [
              "<Figure size 720x360 with 4 Axes>"
            ]
          },
          "metadata": {
            "needs_background": "light"
          },
          "output_type": "display_data"
        },
        {
          "name": "stdout",
          "output_type": "stream",
          "text": [
            "plot time : 0.6116483211517334\n",
            "min max values updated\n",
            "epoch    0 | train time 1.92 | train loss 1.123311e+00 | test loss 1.066055e+00 | test time 0.36  \n",
            "epoch    1 | train time 1.25 | train loss 1.072679e+00 \n",
            "epoch    2 | train time 1.26 | train loss 1.046020e+00 \n",
            "epoch    3 | train time 1.28 | train loss 1.040599e+00 \n",
            "epoch    4 | train time 1.15 | train loss 1.039495e+00 \n",
            "epoch    5 | train time 1.23 | train loss 1.031155e+00 \n",
            "epoch    6 | train time 1.19 | train loss 1.017753e+00 \n",
            "epoch    7 | train time 1.26 | train loss 1.004050e+00 \n",
            "epoch    8 | train time 1.30 | train loss 9.927318e-01 \n",
            "epoch    9 | train time 1.31 | train loss 9.838794e-01 \n"
          ]
        },
        {
          "data": {
            "image/png": "[encoded data removed]",
            "text/plain": [
              "<Figure size 720x360 with 4 Axes>"
            ]
          },
          "metadata": {
            "needs_background": "light"
          },
          "output_type": "display_data"
        },
        {
          "name": "stdout",
          "output_type": "stream",
          "text": [
            "plot time : 0.6846239566802979\n",
            "epoch   10 | train time 2.00 | train loss 9.759001e-01 | test loss 9.618356e-01 | test time 0.37  \n",
            "epoch   11 | train time 1.35 | train loss 9.669299e-01 \n",
            "epoch   12 | train time 1.16 | train loss 9.558859e-01 \n",
            "epoch   13 | train time 1.26 | train loss 9.427770e-01 \n",
            "epoch   14 | train time 1.23 | train loss 9.284187e-01 \n",
            "epoch   15 | train time 1.29 | train loss 9.138407e-01 \n",
            "epoch   16 | train time 1.16 | train loss 8.995845e-01 \n",
            "epoch   17 | train time 1.27 | train loss 8.852119e-01 \n",
            "epoch   18 | train time 1.48 | train loss 8.696101e-01 \n"
          ]
        },
        {
          "ename": "KeyboardInterrupt",
          "evalue": "",
          "output_type": "error",
          "traceback": [
            "\u001b[1;31m---------------------------------------------------------------------------\u001b[0m",
            "\u001b[1;31mKeyboardInterrupt\u001b[0m                         Traceback (most recent call last)",
            "\u001b[1;32m~\\AppData\\Local\\Temp/ipykernel_13280/1693219709.py\u001b[0m in \u001b[0;36m<module>\u001b[1;34m\u001b[0m\n\u001b[1;32m----> 1\u001b[1;33m stats = train(device=device, model=model,\n\u001b[0m\u001b[0;32m      2\u001b[0m               \u001b[0mTs\u001b[0m\u001b[1;33m=\u001b[0m\u001b[0mTs\u001b[0m\u001b[1;33m,\u001b[0m\u001b[1;33m\u001b[0m\u001b[1;33m\u001b[0m\u001b[0m\n\u001b[0;32m      3\u001b[0m               \u001b[0mtrain_loader\u001b[0m\u001b[1;33m=\u001b[0m\u001b[0mtrain_loader\u001b[0m\u001b[1;33m,\u001b[0m\u001b[1;33m\u001b[0m\u001b[1;33m\u001b[0m\u001b[0m\n\u001b[0;32m      4\u001b[0m               \u001b[0mtest_loader\u001b[0m\u001b[1;33m=\u001b[0m\u001b[0mtest_loader\u001b[0m\u001b[1;33m,\u001b[0m\u001b[1;33m\u001b[0m\u001b[1;33m\u001b[0m\u001b[0m\n\u001b[0;32m      5\u001b[0m               \u001b[0mw\u001b[0m\u001b[1;33m=\u001b[0m\u001b[0mtorch\u001b[0m\u001b[1;33m.\u001b[0m\u001b[0mtensor\u001b[0m\u001b[1;33m(\u001b[0m\u001b[0mweights\u001b[0m\u001b[1;33m,\u001b[0m \u001b[0mdevice\u001b[0m\u001b[1;33m=\u001b[0m\u001b[0mdevice\u001b[0m\u001b[1;33m)\u001b[0m\u001b[1;33m,\u001b[0m\u001b[1;33m\u001b[0m\u001b[1;33m\u001b[0m\u001b[0m\n",
            "\u001b[1;32mc:\\Users\\Younes\\Documents\\GitHub\\SP-learning-hamiltonian-functions-from-data\\furuta_pendulum\\notebooks\\..\\src\\train.py\u001b[0m in \u001b[0;36mtrain\u001b[1;34m(device, model, Ts, train_loader, test_loader, w, grad_clip, lr_schedule, begin_decay, epoch_number, resnet_config, alternating, horizon, horizon_type, horizon_list, switch_steps, epochs, loss_type, collect_grads, rescale_loss, rescale_dims)\u001b[0m\n\u001b[0;32m    258\u001b[0m                 \u001b[0mtrain_loss\u001b[0m \u001b[1;33m=\u001b[0m \u001b[0mtrain_loss\u001b[0m \u001b[1;33m+\u001b[0m \u001b[0mtrain_loss_mini\u001b[0m\u001b[1;33m.\u001b[0m\u001b[0mitem\u001b[0m\u001b[1;33m(\u001b[0m\u001b[1;33m)\u001b[0m\u001b[1;33m\u001b[0m\u001b[1;33m\u001b[0m\u001b[0m\n\u001b[0;32m    259\u001b[0m \u001b[1;33m\u001b[0m\u001b[0m\n\u001b[1;32m--> 260\u001b[1;33m                 \u001b[0mtrain_loss_mini\u001b[0m\u001b[1;33m.\u001b[0m\u001b[0mbackward\u001b[0m\u001b[1;33m(\u001b[0m\u001b[1;33m)\u001b[0m\u001b[1;33m\u001b[0m\u001b[1;33m\u001b[0m\u001b[0m\n\u001b[0m\u001b[0;32m    261\u001b[0m                 \u001b[1;32mif\u001b[0m \u001b[0mcollect_grads\u001b[0m\u001b[1;33m:\u001b[0m\u001b[1;33m\u001b[0m\u001b[1;33m\u001b[0m\u001b[0m\n\u001b[0;32m    262\u001b[0m                     \u001b[0mlayer_names\u001b[0m\u001b[1;33m,\u001b[0m \u001b[0mall_grads_preclip\u001b[0m \u001b[1;33m=\u001b[0m \u001b[0mcollect_gradients\u001b[0m\u001b[1;33m(\u001b[0m\u001b[0mmodel\u001b[0m\u001b[1;33m.\u001b[0m\u001b[0mnamed_parameters\u001b[0m\u001b[1;33m(\u001b[0m\u001b[1;33m)\u001b[0m\u001b[1;33m)\u001b[0m\u001b[1;33m\u001b[0m\u001b[1;33m\u001b[0m\u001b[0m\n",
            "\u001b[1;32mc:\\ProgramData\\Anaconda3\\envs\\pds\\lib\\site-packages\\torch\\_tensor.py\u001b[0m in \u001b[0;36mbackward\u001b[1;34m(self, gradient, retain_graph, create_graph, inputs)\u001b[0m\n\u001b[0;32m    305\u001b[0m                 \u001b[0mcreate_graph\u001b[0m\u001b[1;33m=\u001b[0m\u001b[0mcreate_graph\u001b[0m\u001b[1;33m,\u001b[0m\u001b[1;33m\u001b[0m\u001b[1;33m\u001b[0m\u001b[0m\n\u001b[0;32m    306\u001b[0m                 inputs=inputs)\n\u001b[1;32m--> 307\u001b[1;33m         \u001b[0mtorch\u001b[0m\u001b[1;33m.\u001b[0m\u001b[0mautograd\u001b[0m\u001b[1;33m.\u001b[0m\u001b[0mbackward\u001b[0m\u001b[1;33m(\u001b[0m\u001b[0mself\u001b[0m\u001b[1;33m,\u001b[0m \u001b[0mgradient\u001b[0m\u001b[1;33m,\u001b[0m \u001b[0mretain_graph\u001b[0m\u001b[1;33m,\u001b[0m \u001b[0mcreate_graph\u001b[0m\u001b[1;33m,\u001b[0m \u001b[0minputs\u001b[0m\u001b[1;33m=\u001b[0m\u001b[0minputs\u001b[0m\u001b[1;33m)\u001b[0m\u001b[1;33m\u001b[0m\u001b[1;33m\u001b[0m\u001b[0m\n\u001b[0m\u001b[0;32m    308\u001b[0m \u001b[1;33m\u001b[0m\u001b[0m\n\u001b[0;32m    309\u001b[0m     \u001b[1;32mdef\u001b[0m \u001b[0mregister_hook\u001b[0m\u001b[1;33m(\u001b[0m\u001b[0mself\u001b[0m\u001b[1;33m,\u001b[0m \u001b[0mhook\u001b[0m\u001b[1;33m)\u001b[0m\u001b[1;33m:\u001b[0m\u001b[1;33m\u001b[0m\u001b[1;33m\u001b[0m\u001b[0m\n",
            "\u001b[1;32mc:\\ProgramData\\Anaconda3\\envs\\pds\\lib\\site-packages\\torch\\autograd\\__init__.py\u001b[0m in \u001b[0;36mbackward\u001b[1;34m(tensors, grad_tensors, retain_graph, create_graph, grad_variables, inputs)\u001b[0m\n\u001b[0;32m    152\u001b[0m         \u001b[0mretain_graph\u001b[0m \u001b[1;33m=\u001b[0m \u001b[0mcreate_graph\u001b[0m\u001b[1;33m\u001b[0m\u001b[1;33m\u001b[0m\u001b[0m\n\u001b[0;32m    153\u001b[0m \u001b[1;33m\u001b[0m\u001b[0m\n\u001b[1;32m--> 154\u001b[1;33m     Variable._execution_engine.run_backward(\n\u001b[0m\u001b[0;32m    155\u001b[0m         \u001b[0mtensors\u001b[0m\u001b[1;33m,\u001b[0m \u001b[0mgrad_tensors_\u001b[0m\u001b[1;33m,\u001b[0m \u001b[0mretain_graph\u001b[0m\u001b[1;33m,\u001b[0m \u001b[0mcreate_graph\u001b[0m\u001b[1;33m,\u001b[0m \u001b[0minputs\u001b[0m\u001b[1;33m,\u001b[0m\u001b[1;33m\u001b[0m\u001b[1;33m\u001b[0m\u001b[0m\n\u001b[0;32m    156\u001b[0m         allow_unreachable=True, accumulate_grad=True)  # allow_unreachable flag\n",
            "\u001b[1;31mKeyboardInterrupt\u001b[0m: "
          ]
        }
      ],
      "source": [
        "stats = train(device=device, model=model,\n",
        "              Ts=Ts,\n",
        "              train_loader=train_loader,\n",
        "              test_loader=test_loader,\n",
        "              w=torch.tensor(weights, device=device),\n",
        "              grad_clip=grad_clip,\n",
        "              lr_schedule=lr_schedule,\n",
        "              begin_decay=begin_decay,\n",
        "              resnet_config=resnet_config,\n",
        "              epoch_number=epoch_number,\n",
        "              alternating=alternating,\n",
        "              horizon=horizon,\n",
        "              horizon_type=horizon_type,\n",
        "              horizon_list=horizon_list,\n",
        "              switch_steps=switch_steps,\n",
        "              epochs=epoch_number,\n",
        "              loss_type=loss_type,\n",
        "              collect_grads=collect_grads,\n",
        "              rescale_loss=rescale_loss,\n",
        "              rescale_dims=rescale_dims\n",
        "              )\n"
      ]
    },
    {
      "cell_type": "code",
      "execution_count": null,
      "metadata": {
        "id": "38opHVq2Cc0V"
      },
      "outputs": [],
      "source": [
        "if collect_grads:\n",
        "    plot_grads(stats)"
      ]
    },
    {
      "cell_type": "code",
      "execution_count": null,
      "metadata": {
        "id": "RPxjhso4Cc0V"
      },
      "outputs": [],
      "source": [
        "# set all paths and create folders : \n",
        "model_path = PATH+'data/'+save_prefix+'/'\n",
        "stats_path = PATH+'data/'+save_prefix+'/'\n",
        "plot_path = PATH+'data/'+save_prefix+'/img/'\n",
        "train_loader_path = PATH + 'data/'+save_prefix+'/datasets/' \n",
        "test_loader_path = PATH + 'data/'+save_prefix+'/datasets/' \n",
        "os.makedirs(model_path, exist_ok=True)\n",
        "os.makedirs(stats_path, exist_ok=True)\n",
        "os.makedirs(plot_path, exist_ok=True)\n",
        "os.makedirs(train_loader_path, exist_ok=True)\n",
        "os.makedirs(test_loader_path, exist_ok=True)"
      ]
    },
    {
      "cell_type": "code",
      "execution_count": null,
      "metadata": {
        "id": "hHu5CdZlCc0V"
      },
      "outputs": [],
      "source": [
        "torch.save(train_loader, train_loader_path + 'train_loader.pt')\n",
        "if test_loader is not None:\n",
        "    torch.save(test_loader, test_loader_path + 'test_loader.pt')\n",
        "\n",
        "# save model to disk\n",
        "torch.save(model.state_dict(), model_path+'model')\n",
        "\n",
        "# save the stats\n",
        "save_stats(stats, stats_path+'stats.txt')"
      ]
    },
    {
      "cell_type": "code",
      "execution_count": null,
      "metadata": {
        "id": "LogFLihtCc0W"
      },
      "outputs": [],
      "source": [
        "# train_loader = torch.load(train_loader_path)\n",
        "# test_loader = torch.load(test_loader_path)\n",
        "# # loads the stats \n",
        "# stats = read_dict(PATH, stats_path)\n",
        "# # load the model from disk\n",
        "# model.load_state_dict(torch.load(PATH+model_path))\n",
        "# model.eval()"
      ]
    },
    {
      "cell_type": "code",
      "execution_count": null,
      "metadata": {
        "colab": {
          "base_uri": "https://localhost:8080/",
          "height": 573
        },
        "id": "NrSHBNwvCc0W",
        "outputId": "8953cab8-51be-4aa5-a0ec-24a8cc0636f8"
      },
      "outputs": [],
      "source": [
        "loss_train = stats['train_loss']\n",
        "loss_test = stats['test_loss']\n",
        "epochs = np.arange(len(loss_train))\n",
        "train_test_loss_plot(loss_train, loss_test, epochs, file_path=plot_path+'/LOSS_train_test.png',\n",
        "                     title='train and test loss per epoch', horizons=False, switch_steps=switch_steps)\n",
        "\n",
        "train_test_loss_plot(loss_train, loss_test, epochs, file_path=plot_path+'/LOSS_train_test_warrows.png',\n",
        "                     title='train and test loss per epoch', horizons=horizon_list[:-1], switch_steps=switch_steps)\n"
      ]
    },
    {
      "cell_type": "code",
      "execution_count": null,
      "metadata": {
        "colab": {
          "base_uri": "https://localhost:8080/",
          "height": 1000
        },
        "id": "SIZix06YCc0W",
        "outputId": "96c31349-ca4d-4081-c25d-45d1f131f401"
      },
      "outputs": [],
      "source": [
        "# show train and prediction\n",
        "for n in [0, 5, 10, 19]:\n",
        "    plot_furuta_hat_nom(device, model, u_func, g_func, utype, gtype, data_loader_t=train_loader,\n",
        "                        t_max=horizon_list[-1], n=n, C_q1=C_q1, C_q2=C_q2, g=g, Jr=Jr, Lr=Lr, Mp=Mp, Lp=Lp,\n",
        "                        t_plot=time_steps, show_pred=True, H_or_Input='input',\n",
        "                        title='Train set trajectories', file_path=plot_path+'/TRAJECTORIES_train_set'+str(n)+'.png', w_rescale=w_rescale)\n"
      ]
    },
    {
      "cell_type": "code",
      "execution_count": null,
      "metadata": {
        "colab": {
          "base_uri": "https://localhost:8080/",
          "height": 905
        },
        "id": "AlVaj6o4Cc0X",
        "outputId": "40e0fc45-f9c2-43fe-e913-49b0429de6b0"
      },
      "outputs": [],
      "source": [
        "# show only training portion\n",
        "for n in [0, 50, 70]:\n",
        "    plot_furuta_hat_nom(device, model, u_func, g_func, utype, gtype, data_loader_t=train_loader, t_max=horizon_list[-1],\n",
        "                        n=n, C_q1=C_q1, C_q2=C_q2, g=g, Jr=Jr, Lr=Lr, Mp=Mp, Lp=Lp, t_plot=horizon_list[-1], show_pred=False,\n",
        "                        title='Train set trajectories', file_path=plot_path+'/TRAJECTORIES_train_set'+str(n)+'.png', w_rescale=w_rescale)\n"
      ]
    },
    {
      "cell_type": "code",
      "execution_count": null,
      "metadata": {},
      "outputs": [],
      "source": [
        "# show test and prediction\n",
        "for n in [0, 5, 10, 19]:\n",
        "    plot_furuta_hat_nom(device, model, u_func, g_func, utype, gtype, data_loader_t=test_loader,\n",
        "                        t_max=horizon_list[-1], n=n, C_q1=C_q1, C_q2=C_q2, g=g, Jr=Jr, Lr=Lr, Mp=Mp, Lp=Lp,\n",
        "                        t_plot=time_steps, show_pred=True, H_or_Input='input',\n",
        "                        title='Test set trajectories', file_path=plot_path+'/TRAJECTORIES_train_set'+str(n)+'.png', w_rescale=w_rescale)\n"
      ]
    },
    {
      "cell_type": "code",
      "execution_count": null,
      "metadata": {},
      "outputs": [],
      "source": [
        "utype = None  # 'chirp' or 'sine' or 'tanh' or 'multisine' or 'step' or None\n",
        "u_func = U_FUNC(utype=utype) # instantiate the input function u(t)\n",
        "gtype = None # 'simple' or None\n",
        "# instantiate the input function G(q,p) (here it is constant)\n",
        "g_func = G_FUNC(gtype=gtype)\n",
        "init_method = 'random_nozero'  # 'random_nozero' # 'random_closetopi'\n",
        "time_steps = 800  # length of a trajectory\n",
        "num_trajectories = 25  # number of trajectories in total\n",
        "proportion = 0.0 # train test proportion\n",
        "batch_size = 100  # batch size used by dataloader\n",
        "w_rescale = [1, 1, 1, 1] # [1, 1000, 1, 10000]  # [1, 1000, 1, 10000]  # [1, 9000, 1, 10000]\n",
        "shuffle = False  # shuffle sample in the batches between epochs\n",
        "# 'hamiltonian' or 'newtonian', newtonian if you want [q1,q1_dot,q2,q2_dot]\n",
        "coord_type = 'hamiltonian'\n",
        "min_max_rescale = True  # rescale the training trajectories\n",
        "# which dimensions to rescale if using min_max_rescale, so that nothing is divided by zero\n",
        "rescale_dims = [1, 1, 1, 0]\n",
        "\n",
        "# generate train and test dataloader objects containing the trajectories\n",
        "train_loader_2, test_loader_2 = load_data_device(device, init_method, w_rescale,\n",
        "                                             u_func, g_func, time_steps,\n",
        "                                             shuffle=shuffle,\n",
        "                                             num_trajectories=num_trajectories,\n",
        "                                             coord_type=coord_type,\n",
        "                                             proportion=proportion, batch_size=batch_size,\n",
        "                                             Ts=Ts, noise_std=noise_std, C_q1=C_q1, C_q2=C_q2,\n",
        "                                             g=g, Jr=Jr, Lr=Lr, Mp=Mp, Lp=Lp,\n",
        "                                             min_max_rescale=min_max_rescale, rescale_dims=rescale_dims)"
      ]
    },
    {
      "cell_type": "code",
      "execution_count": null,
      "metadata": {},
      "outputs": [],
      "source": [
        "# show test and prediction\n",
        "title='test set trajectories | no input'\n",
        "for n in [0, 5, 10, 19]:\n",
        "    plot_furuta_hat_nom(device, model, u_func, g_func, utype, gtype, data_loader_t=train_loader_2,\n",
        "                        t_max=time_steps, n=n, C_q1=C_q1, C_q2=C_q2, g=g, Jr=Jr, Lr=Lr, Mp=Mp, Lp=Lp,\n",
        "                        t_plot=time_steps, only_pred=True, show_pred=True, H_or_Input='input',\n",
        "                        title=title, file_path=plot_path+'/TRAJECTORIES_train_set'+str(n)+'noinput.png', w_rescale=w_rescale)\n"
      ]
    },
    {
      "cell_type": "code",
      "execution_count": null,
      "metadata": {},
      "outputs": [],
      "source": [
        "utype = 'sine'  # 'chirp' or 'sine' or 'tanh' or 'multisine' or 'step' or None\n",
        "u_func = U_FUNC(utype=utype)  # instantiate the input function u(t)\n",
        "u_func.params['T'] = 1.5\n",
        "u_func.params['f0'] = 0\n",
        "u_func.params['f1'] = 1  # 4 # 1.4\n",
        "u_func.params['scale'] = 0.0001  # for fake : 0.5 or 0.1 for real : 0.0001\n",
        "gtype = 'simple'  # 'simple' or None\n",
        "# instantiate the input function G(q,p) (here it is constant)\n",
        "g_func = G_FUNC(gtype=gtype)\n",
        "init_method = 'random_nozero'  # 'random_nozero' # 'random_closetopi'\n",
        "time_steps = 800  # length of a trajectory\n",
        "num_trajectories = 25  # number of trajectories in total\n",
        "proportion = 0.8  # train test proportion\n",
        "batch_size = 100  # batch size used by dataloader\n",
        "# [1, 1000, 1, 10000]  # [1, 1000, 1, 10000]  # [1, 9000, 1, 10000]\n",
        "w_rescale = [1, 1, 1, 1]\n",
        "shuffle = False  # shuffle sample in the batches between epochs\n",
        "# 'hamiltonian' or 'newtonian', newtonian if you want [q1,q1_dot,q2,q2_dot]\n",
        "coord_type = 'hamiltonian'\n",
        "min_max_rescale = True  # rescale the training trajectories\n",
        "# which dimensions to rescale if using min_max_rescale, so that nothing is divided by zero\n",
        "rescale_dims = [1, 1, 1, 1]\n",
        "\n",
        "# generate train and test dataloader objects containing the trajectories\n",
        "train_loader_3, test_loader_3 = load_data_device(device, init_method, w_rescale,\n",
        "                                                 u_func, g_func, time_steps,\n",
        "                                                 shuffle=shuffle,\n",
        "                                                 num_trajectories=num_trajectories,\n",
        "                                                 coord_type=coord_type,\n",
        "                                                 proportion=proportion, batch_size=batch_size,\n",
        "                                                 Ts=Ts, noise_std=noise_std, C_q1=C_q1, C_q2=C_q2,\n",
        "                                                 g=g, Jr=Jr, Lr=Lr, Mp=Mp, Lp=Lp,\n",
        "                                                 min_max_rescale=min_max_rescale, rescale_dims=rescale_dims)\n"
      ]
    },
    {
      "cell_type": "code",
      "execution_count": null,
      "metadata": {},
      "outputs": [],
      "source": [
        "# show test and prediction\n",
        "title='test set trajectories | 1hz sine input'\n",
        "for n in [0, 5, 10, 19]:\n",
        "    plot_furuta_hat_nom(device, model, u_func, g_func, utype, gtype, data_loader_t=train_loader_3,\n",
        "                        t_max=time_steps, n=n, C_q1=C_q1, C_q2=C_q2, g=g, Jr=Jr, Lr=Lr, Mp=Mp, Lp=Lp,\n",
        "                        t_plot=time_steps, only_pred=True, show_pred=True, H_or_Input='input',\n",
        "                        title=title, file_path=plot_path+'/TRAJECTORIES_train_set'+str(n)+'1hzsine.png', w_rescale=w_rescale)\n"
      ]
    },
    {
      "cell_type": "code",
      "execution_count": null,
      "metadata": {},
      "outputs": [],
      "source": [
        "utype = 'sine'  # 'chirp' or 'sine' or 'tanh' or 'multisine' or 'step' or None\n",
        "u_func = U_FUNC(utype=utype) # instantiate the input function u(t)\n",
        "u_func.params['T'] = 1.5\n",
        "u_func.params['f0'] = 0\n",
        "u_func.params['f1'] = 2  # 4 # 1.4\n",
        "u_func.params['scale'] = 0.0001  # for fake : 0.5 or 0.1 for real : 0.0001\n",
        "gtype = 'simple' # 'simple' or None\n",
        "# instantiate the input function G(q,p) (here it is constant)\n",
        "g_func = G_FUNC(gtype=gtype)\n",
        "init_method = 'random_nozero'  # 'random_nozero' # 'random_closetopi'\n",
        "time_steps = 800  # length of a trajectory\n",
        "num_trajectories = 25  # number of trajectories in total\n",
        "proportion = 0.0  # train test proportion\n",
        "batch_size = 100  # batch size used by dataloader\n",
        "w_rescale = [1, 1, 1, 1] # [1, 1000, 1, 10000]  # [1, 1000, 1, 10000]  # [1, 9000, 1, 10000]\n",
        "shuffle = False  # shuffle sample in the batches between epochs\n",
        "# 'hamiltonian' or 'newtonian', newtonian if you want [q1,q1_dot,q2,q2_dot]\n",
        "coord_type = 'hamiltonian'\n",
        "min_max_rescale = True  # rescale the training trajectories\n",
        "# which dimensions to rescale if using min_max_rescale, so that nothing is divided by zero\n",
        "rescale_dims = [1, 1, 1, 1]\n",
        "\n",
        "# generate train and test dataloader objects containing the trajectories\n",
        "train_loader_4, test_loader_4 = load_data_device(device, init_method, w_rescale,\n",
        "                                             u_func, g_func, time_steps,\n",
        "                                             shuffle=shuffle,\n",
        "                                             num_trajectories=num_trajectories,\n",
        "                                             coord_type=coord_type,\n",
        "                                             proportion=proportion, batch_size=batch_size,\n",
        "                                             Ts=Ts, noise_std=noise_std, C_q1=C_q1, C_q2=C_q2,\n",
        "                                             g=g, Jr=Jr, Lr=Lr, Mp=Mp, Lp=Lp,\n",
        "                                             min_max_rescale=min_max_rescale, rescale_dims=rescale_dims)\n",
        "# show test and prediction\n",
        "title='test set trajectories | 2hz sine input'\n",
        "for n in [0, 5, 10, 19]:\n",
        "    plot_furuta_hat_nom(device, model, u_func, g_func, utype, gtype, data_loader_t=train_loader_4,\n",
        "                        t_max=time_steps, n=n, C_q1=C_q1, C_q2=C_q2, g=g, Jr=Jr, Lr=Lr, Mp=Mp, Lp=Lp,\n",
        "                        t_plot=time_steps, only_pred=True, show_pred=True, H_or_Input='input',\n",
        "                        title=title, file_path=plot_path+'/TRAJECTORIES_test_set'+str(n)+'2hzsine.png', w_rescale=w_rescale)\n"
      ]
    },
    {
      "cell_type": "markdown",
      "metadata": {},
      "source": [
        "#### Expanding_HNN_wide"
      ]
    },
    {
      "cell_type": "code",
      "execution_count": null,
      "metadata": {
        "colab": {
          "base_uri": "https://localhost:8080/"
        },
        "id": "iOmaMQ28Cczz",
        "outputId": "3ef93931-5aa2-4321-ef04-97e4e90d30d8"
      },
      "outputs": [],
      "source": [
        "set_all_seeds(manualSeed=123, new_results=False)\n",
        "device = set_device()  # set it to gpu if it is available\n",
        "\n",
        "# Parameters to generate the dataset\n",
        "furuta_type = 'real'  # 'real' or 'fake'\n",
        "Ts, noise_std, C_q1, C_q2, g, Jr, Lr, Mp, Lp = set_furuta_params(\n",
        "    which=furuta_type)\n",
        "utype = 'chirp'  # 'chirp' or 'sine' or 'tanh' or 'multisine' or 'step' or None\n",
        "u_func = U_FUNC(utype=utype)  # instantiate the input function u(t)\n",
        "u_func.params['T'] = 1.5\n",
        "u_func.params['f0'] = 0\n",
        "u_func.params['f1'] = 2  # 4 # 1.4\n",
        "u_func.params['scale'] = 0.0001  # for fake : 0.5 or 0.1 for real : 0.0001\n",
        "gtype = 'simple'  # 'simple' or None\n",
        "# instantiate the input function G(q,p) (here it is constant)\n",
        "g_func = G_FUNC(gtype=gtype)\n",
        "init_method = 'random_nozero'  # 'random_nozero' # 'random_closetopi'\n",
        "time_steps = 800  # length of a trajectory\n",
        "num_trajectories = 125  # number of trajectories in total\n",
        "proportion = 0.8  # train test proportion\n",
        "batch_size = 100  # batch size used by dataloader\n",
        "w_rescale = [1, 1000, 1, 10000]  # [1, 1000, 1, 10000]  # [1, 9000, 1, 10000]\n",
        "shuffle = False  # shuffle sample in the batches between epochs\n",
        "# 'hamiltonian' or 'newtonian', newtonian if you want [q1,q1_dot,q2,q2_dot]\n",
        "coord_type = 'hamiltonian'\n",
        "min_max_rescale = True  # rescale the training trajectories\n",
        "# which dimensions to rescale if using min_max_rescale, so that nothing is divided by zero\n",
        "rescale_dims = [1, 1, 1, 1]\n",
        "\n",
        "# Parameters for the training procedure\n",
        "resnet_config = 1\n",
        "alternating = False  # for Input_HNN, if G is a neural network, train\n",
        "horizon_type = 'auto'  # 'auto' or 'constant'\n",
        "horizon = False  # if horizon_type == 'constant', use this horizon\n",
        "loss_type = 'L2'  # 'L2' or 'L2weighted'\n",
        "collect_grads = False  # collect gradients in all layers at every epoch\n",
        "# rescale the difference between nominal and train by the min max of train trajectory in loss function\n",
        "rescale_loss = True\n",
        "grad_clip = True  # activate gradient clipping\n",
        "lr_schedule = False  # activate lr schedule\n",
        "begin_decay = 600  # epoch at which lr starts decaying\n",
        "weights = [1.0, 1.0, 1.0, 1.0]  # weights for the loss functions\n",
        "\n",
        "horizon_list = [50, 100, 150, 200, 250, 300]\n",
        "switch_steps = [200, 100, 100, 100, 100, 100]\n",
        "epoch_number = sum(switch_steps)  # total number of training epochs\n"
      ]
    },
    {
      "cell_type": "code",
      "execution_count": null,
      "metadata": {
        "id": "9VgOgbS_Cc0T"
      },
      "outputs": [],
      "source": [
        "# generate train and test dataloader objects containing the trajectories\n",
        "train_loader, test_loader = load_data_device(device, init_method, w_rescale,\n",
        "                                             u_func, g_func, time_steps,\n",
        "                                             shuffle=shuffle,\n",
        "                                             num_trajectories=num_trajectories,\n",
        "                                             coord_type=coord_type,\n",
        "                                             proportion=proportion, batch_size=batch_size,\n",
        "                                             Ts=Ts, noise_std=noise_std, C_q1=C_q1, C_q2=C_q2,\n",
        "                                             g=g, Jr=Jr, Lr=Lr, Mp=Mp, Lp=Lp,\n",
        "                                             min_max_rescale=min_max_rescale, rescale_dims=rescale_dims)"
      ]
    },
    {
      "cell_type": "code",
      "execution_count": 24,
      "metadata": {
        "colab": {
          "base_uri": "https://localhost:8080/"
        },
        "id": "-3HyINQyCc0U",
        "outputId": "b4048d53-606d-40f7-a01d-174bf2b97978"
      },
      "outputs": [
        {
          "name": "stdout",
          "output_type": "stream",
          "text": [
            "Total number of epochs: 700\n",
            "mlp number of parameters : 4413\n",
            "resblock number of parameters : 4549\n",
            "Total number of H_net parameters : 31707\n",
            "Save file prefix :  Expanding_HNN_chirp_125traj_real_noise0.0_700e_p31k_Ts0.005_gradcl_nodissip_rescaledloss_trajminmaxrescale_stdrescale_\n",
            "horizon_list and switch_steps have the same size\n"
          ]
        }
      ],
      "source": [
        "# initialise the model that will be trianed\n",
        "\n",
        "\n",
        "model_name = 'Expanding_HNN_wide_'\n",
        "\n",
        "H_net = Expanding_ResNet_wide(resblock_list=[0], num_blocks = 6, input_dim=4, hidden_dim=45, \n",
        "                nb_hidden_layers=2, output_dim=1, activation_res='x+sin(x)^2', activation_mlp='x+sin(x)^2')\n",
        "num_params = 0\n",
        "for block in H_net.resblocks:\n",
        "    block.to(device)\n",
        "    num_params += count_parameters(block)\n",
        "\n",
        "model = Input_HNN(u_func=u_func, G_net=g_func,\n",
        "                 H_net=H_net, device=device, dissip=False)\n",
        "                 \n",
        "model.to(device)\n",
        "num_params1 = count_parameters(model)\n",
        "num_params2 = count_parameters(model.H_net.resblocks[0])\n",
        "num_params += num_params1\n",
        "# create file name from parameters\n",
        "\n",
        "\n",
        "save_prefix = name_from_params(Ts, rescale_loss, weights, epoch_number, num_params, utype, model_name,\n",
        "                               num_trajectories, furuta_type, noise_std,\n",
        "                               grad_clip, lr_schedule, C_q1, C_q2, horizon, min_max_rescale,w_rescale)\n",
        "                               \n",
        "# print some information on the training and file name\n",
        "\n",
        "print('Total number of epochs:', epoch_number)\n",
        "print('mlp number of parameters :', num_params1)\n",
        "print('resblock number of parameters :', num_params2)\n",
        "print('Total number of H_net parameters :', num_params)\n",
        "print('Save file prefix : ', save_prefix)\n",
        "# Sanity check\n",
        "is_same_size(horizon_list, switch_steps)"
      ]
    },
    {
      "cell_type": "code",
      "execution_count": null,
      "metadata": {
        "colab": {
          "base_uri": "https://localhost:8080/",
          "height": 1000
        },
        "id": "kNWhxamnCc0U",
        "outputId": "d05cb4d4-505b-42af-c97f-ff4a0eb7e61e"
      },
      "outputs": [],
      "source": [
        "stats = train(device=device, model=model,\n",
        "              Ts=Ts,\n",
        "              train_loader=train_loader,\n",
        "              test_loader=test_loader,\n",
        "              w=torch.tensor(weights, device=device),\n",
        "              grad_clip=grad_clip,\n",
        "              lr_schedule=lr_schedule,\n",
        "              begin_decay=begin_decay,\n",
        "              resnet_config=resnet_config,\n",
        "              epoch_number=epoch_number,\n",
        "              alternating=alternating,\n",
        "              horizon=horizon,\n",
        "              horizon_type=horizon_type,\n",
        "              horizon_list=horizon_list,\n",
        "              switch_steps=switch_steps,\n",
        "              epochs=epoch_number,\n",
        "              loss_type=loss_type,\n",
        "              collect_grads=collect_grads,\n",
        "              rescale_loss=rescale_loss,\n",
        "              rescale_dims=rescale_dims\n",
        "              )\n"
      ]
    },
    {
      "cell_type": "code",
      "execution_count": null,
      "metadata": {
        "id": "38opHVq2Cc0V"
      },
      "outputs": [],
      "source": [
        "if collect_grads:\n",
        "    plot_grads(stats)"
      ]
    },
    {
      "cell_type": "code",
      "execution_count": null,
      "metadata": {
        "id": "RPxjhso4Cc0V"
      },
      "outputs": [],
      "source": [
        "# set all paths and create folders : \n",
        "model_path = PATH+'data/'+save_prefix+'/'\n",
        "stats_path = PATH+'data/'+save_prefix+'/'\n",
        "plot_path = PATH+'data/'+save_prefix+'/img/'\n",
        "train_loader_path = PATH + 'data/'+save_prefix+'/datasets/' \n",
        "test_loader_path = PATH + 'data/'+save_prefix+'/datasets/' \n",
        "os.makedirs(model_path, exist_ok=True)\n",
        "os.makedirs(stats_path, exist_ok=True)\n",
        "os.makedirs(plot_path, exist_ok=True)\n",
        "os.makedirs(train_loader_path, exist_ok=True)\n",
        "os.makedirs(test_loader_path, exist_ok=True)"
      ]
    },
    {
      "cell_type": "code",
      "execution_count": null,
      "metadata": {
        "id": "hHu5CdZlCc0V"
      },
      "outputs": [],
      "source": [
        "torch.save(train_loader, train_loader_path + 'train_loader.pt')\n",
        "if test_loader is not None:\n",
        "    torch.save(test_loader, test_loader_path + 'test_loader.pt')\n",
        "\n",
        "# save model to disk\n",
        "torch.save(model.state_dict(), model_path+'model')\n",
        "\n",
        "# save the stats\n",
        "save_stats(stats, stats_path+'stats.txt')"
      ]
    },
    {
      "cell_type": "code",
      "execution_count": null,
      "metadata": {
        "id": "LogFLihtCc0W"
      },
      "outputs": [],
      "source": [
        "# train_loader = torch.load(train_loader_path)\n",
        "# test_loader = torch.load(test_loader_path)\n",
        "# # loads the stats \n",
        "# stats = read_dict(PATH, stats_path)\n",
        "# # load the model from disk\n",
        "# model.load_state_dict(torch.load(PATH+model_path))\n",
        "# model.eval()"
      ]
    },
    {
      "cell_type": "code",
      "execution_count": null,
      "metadata": {
        "colab": {
          "base_uri": "https://localhost:8080/",
          "height": 573
        },
        "id": "NrSHBNwvCc0W",
        "outputId": "8953cab8-51be-4aa5-a0ec-24a8cc0636f8"
      },
      "outputs": [],
      "source": [
        "loss_train = stats['train_loss']\n",
        "loss_test = stats['test_loss']\n",
        "epochs = np.arange(len(loss_train))\n",
        "train_test_loss_plot(loss_train, loss_test, epochs, file_path=plot_path+'/LOSS_train_test.png',\n",
        "                     title='train and test loss per epoch', horizons=False, switch_steps=switch_steps)\n",
        "\n",
        "train_test_loss_plot(loss_train, loss_test, epochs, file_path=plot_path+'/LOSS_train_test_warrows.png',\n",
        "                     title='train and test loss per epoch', horizons=horizon_list[:-1], switch_steps=switch_steps)\n"
      ]
    },
    {
      "cell_type": "code",
      "execution_count": null,
      "metadata": {
        "colab": {
          "base_uri": "https://localhost:8080/",
          "height": 1000
        },
        "id": "SIZix06YCc0W",
        "outputId": "96c31349-ca4d-4081-c25d-45d1f131f401"
      },
      "outputs": [],
      "source": [
        "# show train and prediction\n",
        "for n in [0, 5, 10, 19]:\n",
        "    plot_furuta_hat_nom(device, model, u_func, g_func, utype, gtype, data_loader_t=train_loader,\n",
        "                        t_max=horizon_list[-1], n=n, C_q1=C_q1, C_q2=C_q2, g=g, Jr=Jr, Lr=Lr, Mp=Mp, Lp=Lp,\n",
        "                        t_plot=time_steps, show_pred=True, H_or_Input='input',\n",
        "                        title='Train set trajectories', file_path=plot_path+'/TRAJECTORIES_train_set'+str(n)+'.png', w_rescale=w_rescale)\n"
      ]
    },
    {
      "cell_type": "code",
      "execution_count": null,
      "metadata": {
        "colab": {
          "base_uri": "https://localhost:8080/",
          "height": 905
        },
        "id": "AlVaj6o4Cc0X",
        "outputId": "40e0fc45-f9c2-43fe-e913-49b0429de6b0"
      },
      "outputs": [],
      "source": [
        "# show only training portion\n",
        "for n in [0, 50, 70]:\n",
        "    plot_furuta_hat_nom(device, model, u_func, g_func, utype, gtype, data_loader_t=train_loader, t_max=horizon_list[-1],\n",
        "                        n=n, C_q1=C_q1, C_q2=C_q2, g=g, Jr=Jr, Lr=Lr, Mp=Mp, Lp=Lp, t_plot=horizon_list[-1], show_pred=False,\n",
        "                        title='Train set trajectories', file_path=plot_path+'/TRAJECTORIES_train_set'+str(n)+'.png', w_rescale=w_rescale)\n"
      ]
    },
    {
      "cell_type": "code",
      "execution_count": null,
      "metadata": {},
      "outputs": [],
      "source": [
        "# show test and prediction\n",
        "for n in [0, 5, 10, 19]:\n",
        "    plot_furuta_hat_nom(device, model, u_func, g_func, utype, gtype, data_loader_t=test_loader,\n",
        "                        t_max=horizon_list[-1], n=n, C_q1=C_q1, C_q2=C_q2, g=g, Jr=Jr, Lr=Lr, Mp=Mp, Lp=Lp,\n",
        "                        t_plot=time_steps, show_pred=True, H_or_Input='input',\n",
        "                        title='Test set trajectories', file_path=plot_path+'/TRAJECTORIES_train_set'+str(n)+'.png', w_rescale=w_rescale)\n"
      ]
    },
    {
      "cell_type": "code",
      "execution_count": null,
      "metadata": {},
      "outputs": [],
      "source": [
        "utype = None  # 'chirp' or 'sine' or 'tanh' or 'multisine' or 'step' or None\n",
        "u_func = U_FUNC(utype=utype) # instantiate the input function u(t)\n",
        "gtype = None # 'simple' or None\n",
        "# instantiate the input function G(q,p) (here it is constant)\n",
        "g_func = G_FUNC(gtype=gtype)\n",
        "init_method = 'random_nozero'  # 'random_nozero' # 'random_closetopi'\n",
        "time_steps = 800  # length of a trajectory\n",
        "num_trajectories = 25  # number of trajectories in total\n",
        "proportion = 0.0 # train test proportion\n",
        "batch_size = 100  # batch size used by dataloader\n",
        "w_rescale = [1, 1, 1, 1] # [1, 1000, 1, 10000]  # [1, 1000, 1, 10000]  # [1, 9000, 1, 10000]\n",
        "shuffle = False  # shuffle sample in the batches between epochs\n",
        "# 'hamiltonian' or 'newtonian', newtonian if you want [q1,q1_dot,q2,q2_dot]\n",
        "coord_type = 'hamiltonian'\n",
        "min_max_rescale = True  # rescale the training trajectories\n",
        "# which dimensions to rescale if using min_max_rescale, so that nothing is divided by zero\n",
        "rescale_dims = [1, 1, 1, 0]\n",
        "\n",
        "# generate train and test dataloader objects containing the trajectories\n",
        "train_loader_2, test_loader_2 = load_data_device(device, init_method, w_rescale,\n",
        "                                             u_func, g_func, time_steps,\n",
        "                                             shuffle=shuffle,\n",
        "                                             num_trajectories=num_trajectories,\n",
        "                                             coord_type=coord_type,\n",
        "                                             proportion=proportion, batch_size=batch_size,\n",
        "                                             Ts=Ts, noise_std=noise_std, C_q1=C_q1, C_q2=C_q2,\n",
        "                                             g=g, Jr=Jr, Lr=Lr, Mp=Mp, Lp=Lp,\n",
        "                                             min_max_rescale=min_max_rescale, rescale_dims=rescale_dims)"
      ]
    },
    {
      "cell_type": "code",
      "execution_count": null,
      "metadata": {},
      "outputs": [],
      "source": [
        "# show test and prediction\n",
        "title='test set trajectories | no input'\n",
        "for n in [0, 5, 10, 19]:\n",
        "    plot_furuta_hat_nom(device, model, u_func, g_func, utype, gtype, data_loader_t=train_loader_2,\n",
        "                        t_max=time_steps, n=n, C_q1=C_q1, C_q2=C_q2, g=g, Jr=Jr, Lr=Lr, Mp=Mp, Lp=Lp,\n",
        "                        t_plot=time_steps, only_pred=True, show_pred=True, H_or_Input='input',\n",
        "                        title=title, file_path=plot_path+'/TRAJECTORIES_train_set'+str(n)+'noinput.png', w_rescale=w_rescale)\n"
      ]
    },
    {
      "cell_type": "code",
      "execution_count": null,
      "metadata": {},
      "outputs": [],
      "source": [
        "utype = 'sine'  # 'chirp' or 'sine' or 'tanh' or 'multisine' or 'step' or None\n",
        "u_func = U_FUNC(utype=utype)  # instantiate the input function u(t)\n",
        "u_func.params['T'] = 1.5\n",
        "u_func.params['f0'] = 0\n",
        "u_func.params['f1'] = 1  # 4 # 1.4\n",
        "u_func.params['scale'] = 0.0001  # for fake : 0.5 or 0.1 for real : 0.0001\n",
        "gtype = 'simple'  # 'simple' or None\n",
        "# instantiate the input function G(q,p) (here it is constant)\n",
        "g_func = G_FUNC(gtype=gtype)\n",
        "init_method = 'random_nozero'  # 'random_nozero' # 'random_closetopi'\n",
        "time_steps = 800  # length of a trajectory\n",
        "num_trajectories = 25  # number of trajectories in total\n",
        "proportion = 0.8  # train test proportion\n",
        "batch_size = 100  # batch size used by dataloader\n",
        "# [1, 1000, 1, 10000]  # [1, 1000, 1, 10000]  # [1, 9000, 1, 10000]\n",
        "w_rescale = [1, 1, 1, 1]\n",
        "shuffle = False  # shuffle sample in the batches between epochs\n",
        "# 'hamiltonian' or 'newtonian', newtonian if you want [q1,q1_dot,q2,q2_dot]\n",
        "coord_type = 'hamiltonian'\n",
        "min_max_rescale = True  # rescale the training trajectories\n",
        "# which dimensions to rescale if using min_max_rescale, so that nothing is divided by zero\n",
        "rescale_dims = [1, 1, 1, 1]\n",
        "\n",
        "# generate train and test dataloader objects containing the trajectories\n",
        "train_loader_3, test_loader_3 = load_data_device(device, init_method, w_rescale,\n",
        "                                                 u_func, g_func, time_steps,\n",
        "                                                 shuffle=shuffle,\n",
        "                                                 num_trajectories=num_trajectories,\n",
        "                                                 coord_type=coord_type,\n",
        "                                                 proportion=proportion, batch_size=batch_size,\n",
        "                                                 Ts=Ts, noise_std=noise_std, C_q1=C_q1, C_q2=C_q2,\n",
        "                                                 g=g, Jr=Jr, Lr=Lr, Mp=Mp, Lp=Lp,\n",
        "                                                 min_max_rescale=min_max_rescale, rescale_dims=rescale_dims)\n"
      ]
    },
    {
      "cell_type": "code",
      "execution_count": null,
      "metadata": {},
      "outputs": [],
      "source": [
        "# show test and prediction\n",
        "title='test set trajectories | 1hz sine input'\n",
        "for n in [0, 5, 10, 19]:\n",
        "    plot_furuta_hat_nom(device, model, u_func, g_func, utype, gtype, data_loader_t=train_loader_3,\n",
        "                        t_max=time_steps, n=n, C_q1=C_q1, C_q2=C_q2, g=g, Jr=Jr, Lr=Lr, Mp=Mp, Lp=Lp,\n",
        "                        t_plot=time_steps, only_pred=True, show_pred=True, H_or_Input='input',\n",
        "                        title=title, file_path=plot_path+'/TRAJECTORIES_train_set'+str(n)+'1hzsine.png', w_rescale=w_rescale)\n"
      ]
    },
    {
      "cell_type": "code",
      "execution_count": null,
      "metadata": {},
      "outputs": [],
      "source": [
        "utype = 'sine'  # 'chirp' or 'sine' or 'tanh' or 'multisine' or 'step' or None\n",
        "u_func = U_FUNC(utype=utype) # instantiate the input function u(t)\n",
        "u_func.params['T'] = 1.5\n",
        "u_func.params['f0'] = 0\n",
        "u_func.params['f1'] = 2  # 4 # 1.4\n",
        "u_func.params['scale'] = 0.0001  # for fake : 0.5 or 0.1 for real : 0.0001\n",
        "gtype = 'simple' # 'simple' or None\n",
        "# instantiate the input function G(q,p) (here it is constant)\n",
        "g_func = G_FUNC(gtype=gtype)\n",
        "init_method = 'random_nozero'  # 'random_nozero' # 'random_closetopi'\n",
        "time_steps = 800  # length of a trajectory\n",
        "num_trajectories = 25  # number of trajectories in total\n",
        "proportion = 0.0  # train test proportion\n",
        "batch_size = 100  # batch size used by dataloader\n",
        "w_rescale = [1, 1, 1, 1] # [1, 1000, 1, 10000]  # [1, 1000, 1, 10000]  # [1, 9000, 1, 10000]\n",
        "shuffle = False  # shuffle sample in the batches between epochs\n",
        "# 'hamiltonian' or 'newtonian', newtonian if you want [q1,q1_dot,q2,q2_dot]\n",
        "coord_type = 'hamiltonian'\n",
        "min_max_rescale = True  # rescale the training trajectories\n",
        "# which dimensions to rescale if using min_max_rescale, so that nothing is divided by zero\n",
        "rescale_dims = [1, 1, 1, 1]\n",
        "\n",
        "# generate train and test dataloader objects containing the trajectories\n",
        "train_loader_4, test_loader_4 = load_data_device(device, init_method, w_rescale,\n",
        "                                             u_func, g_func, time_steps,\n",
        "                                             shuffle=shuffle,\n",
        "                                             num_trajectories=num_trajectories,\n",
        "                                             coord_type=coord_type,\n",
        "                                             proportion=proportion, batch_size=batch_size,\n",
        "                                             Ts=Ts, noise_std=noise_std, C_q1=C_q1, C_q2=C_q2,\n",
        "                                             g=g, Jr=Jr, Lr=Lr, Mp=Mp, Lp=Lp,\n",
        "                                             min_max_rescale=min_max_rescale, rescale_dims=rescale_dims)\n",
        "# show test and prediction\n",
        "title='test set trajectories | 2hz sine input'\n",
        "for n in [0, 5, 10, 19]:\n",
        "    plot_furuta_hat_nom(device, model, u_func, g_func, utype, gtype, data_loader_t=train_loader_4,\n",
        "                        t_max=time_steps, n=n, C_q1=C_q1, C_q2=C_q2, g=g, Jr=Jr, Lr=Lr, Mp=Mp, Lp=Lp,\n",
        "                        t_plot=time_steps, only_pred=True, show_pred=True, H_or_Input='input',\n",
        "                        title=title, file_path=plot_path+'/TRAJECTORIES_test_set'+str(n)+'2hzsine.png', w_rescale=w_rescale)\n"
      ]
    },
    {
      "cell_type": "markdown",
      "metadata": {},
      "source": [
        "#### Interp_HNN"
      ]
    },
    {
      "cell_type": "code",
      "execution_count": 33,
      "metadata": {
        "colab": {
          "base_uri": "https://localhost:8080/"
        },
        "id": "iOmaMQ28Cczz",
        "outputId": "3ef93931-5aa2-4321-ef04-97e4e90d30d8"
      },
      "outputs": [
        {
          "name": "stdout",
          "output_type": "stream",
          "text": [
            "Random Seed:  123\n",
            "cpu\n"
          ]
        }
      ],
      "source": [
        "set_all_seeds(manualSeed=123, new_results=False)\n",
        "device = set_device()  # set it to gpu if it is available\n",
        "\n",
        "# Parameters to generate the dataset\n",
        "furuta_type = 'real'  # 'real' or 'fake'\n",
        "Ts, noise_std, C_q1, C_q2, g, Jr, Lr, Mp, Lp = set_furuta_params(\n",
        "    which=furuta_type)\n",
        "utype = 'chirp'  # 'chirp' or 'sine' or 'tanh' or 'multisine' or 'step' or None\n",
        "u_func = U_FUNC(utype=utype)  # instantiate the input function u(t)\n",
        "u_func.params['T'] = 1.5\n",
        "u_func.params['f0'] = 0\n",
        "u_func.params['f1'] = 2  # 4 # 1.4\n",
        "u_func.params['scale'] = 0.0001  # for fake : 0.5 or 0.1 for real : 0.0001\n",
        "gtype = 'simple'  # 'simple' or None\n",
        "# instantiate the input function G(q,p) (here it is constant)\n",
        "g_func = G_FUNC(gtype=gtype)\n",
        "init_method = 'random_nozero'  # 'random_nozero' # 'random_closetopi'\n",
        "time_steps = 800  # length of a trajectory\n",
        "num_trajectories = 125  # number of trajectories in total\n",
        "proportion = 0.8  # train test proportion\n",
        "batch_size = 100  # batch size used by dataloader\n",
        "w_rescale = [1, 1000, 1, 10000]  # [1, 1000, 1, 10000]  # [1, 9000, 1, 10000]\n",
        "shuffle = False  # shuffle sample in the batches between epochs\n",
        "# 'hamiltonian' or 'newtonian', newtonian if you want [q1,q1_dot,q2,q2_dot]\n",
        "coord_type = 'hamiltonian'\n",
        "min_max_rescale = True  # rescale the training trajectories\n",
        "# which dimensions to rescale if using min_max_rescale, so that nothing is divided by zero\n",
        "rescale_dims = [1, 1, 1, 1]\n",
        "\n",
        "# Parameters for the training procedure\n",
        "resnet_config = 1\n",
        "alternating = False  # for Input_HNN, if G is a neural network, train\n",
        "horizon_type = 'auto'  # 'auto' or 'constant'\n",
        "horizon = False  # if horizon_type == 'constant', use this horizon\n",
        "loss_type = 'L2'  # 'L2' or 'L2weighted'\n",
        "collect_grads = False  # collect gradients in all layers at every epoch\n",
        "# rescale the difference between nominal and train by the min max of train trajectory in loss function\n",
        "rescale_loss = True\n",
        "grad_clip = True  # activate gradient clipping\n",
        "lr_schedule = False  # activate lr schedule\n",
        "begin_decay = 600  # epoch at which lr starts decaying\n",
        "weights = [1.0, 1.0, 1.0, 1.0]  # weights for the loss functions\n",
        "\n",
        "horizon_list = [50, 100, 150, 200, 250, 300]\n",
        "switch_steps = [200, 100, 100, 100, 100, 100]\n",
        "epoch_number = sum(switch_steps)  # total number of training epochs"
      ]
    },
    {
      "cell_type": "code",
      "execution_count": 34,
      "metadata": {
        "id": "9VgOgbS_Cc0T"
      },
      "outputs": [],
      "source": [
        "# generate train and test dataloader objects containing the trajectories\n",
        "train_loader, test_loader = load_data_device(device, init_method, w_rescale,\n",
        "                                             u_func, g_func, time_steps,\n",
        "                                             shuffle=shuffle,\n",
        "                                             num_trajectories=num_trajectories,\n",
        "                                             coord_type=coord_type,\n",
        "                                             proportion=proportion, batch_size=batch_size,\n",
        "                                             Ts=Ts, noise_std=noise_std, C_q1=C_q1, C_q2=C_q2,\n",
        "                                             g=g, Jr=Jr, Lr=Lr, Mp=Mp, Lp=Lp,\n",
        "                                             min_max_rescale=min_max_rescale, rescale_dims=rescale_dims)"
      ]
    },
    {
      "cell_type": "code",
      "execution_count": 35,
      "metadata": {
        "colab": {
          "base_uri": "https://localhost:8080/"
        },
        "id": "-3HyINQyCc0U",
        "outputId": "b4048d53-606d-40f7-a01d-174bf2b97978"
      },
      "outputs": [
        {
          "name": "stdout",
          "output_type": "stream",
          "text": [
            "Total number of epochs: 6\n",
            "mlp number of parameters : 1453\n",
            "resblock number of parameters : 1529\n",
            "Total number of H_net parameters : 27446\n",
            "Save file prefix :  Interp_HNN_chirp_125traj_real_noise0.0_6e_p27k_Ts0.005_gradcl_nodissip_rescaledloss_trajminmaxrescale_stdrescale_\n",
            "horizon_list and switch_steps have the same size\n"
          ]
        }
      ],
      "source": [
        "# initialise the model that will be trianed\n",
        "\n",
        "model_name = 'Interp_HNN'\n",
        "\n",
        "H_net = Interp_ResNet(resblock_list=[0,16], num_blocks = 17, input_dim=4, hidden_dim=25, \n",
        "                nb_hidden_layers=2, output_dim=1, activation_res='x+sin(x)^2', activation_mlp='x+sin(x)^2')\n",
        "num_params = 0\n",
        "for block in H_net.resblocks:\n",
        "    block.to(device)\n",
        "    num_params += count_parameters(block)\n",
        "\n",
        "model = Input_HNN(u_func=u_func, G_net=g_func,\n",
        "                 H_net=H_net, device=device, dissip=False)\n",
        "                 \n",
        "model.to(device)\n",
        "num_params1 = count_parameters(model)\n",
        "num_params2 = count_parameters(model.H_net.resblocks[0])\n",
        "num_params += num_params1\n",
        "# create file name from parameters\n",
        "\n",
        "save_prefix = name_from_params(Ts, rescale_loss, weights, epoch_number, num_params, utype, model_name,\n",
        "                               num_trajectories, furuta_type, noise_std,\n",
        "                               grad_clip, lr_schedule, C_q1, C_q2, horizon, min_max_rescale,w_rescale)\n",
        "\n",
        "# print some information on the training and file name\n",
        "\n",
        "print('Total number of epochs:', epoch_number)\n",
        "print('mlp number of parameters :', num_params1)\n",
        "print('resblock number of parameters :', num_params2)\n",
        "print('Total number of H_net parameters :', num_params)\n",
        "print('Save file prefix : ', save_prefix)\n",
        "\n",
        "# Sanity check\n",
        "is_same_size(horizon_list, switch_steps)"
      ]
    },
    {
      "cell_type": "code",
      "execution_count": 36,
      "metadata": {
        "colab": {
          "base_uri": "https://localhost:8080/",
          "height": 1000
        },
        "id": "kNWhxamnCc0U",
        "outputId": "d05cb4d4-505b-42af-c97f-ff4a0eb7e61e"
      },
      "outputs": [
        {
          "name": "stdout",
          "output_type": "stream",
          "text": [
            "horizon length : 50\n",
            "Model size increased\n",
            "min max values updated\n"
          ]
        },
        {
          "data": {
            "image/png": "[encoded data removed]",
            "text/plain": [
              "<Figure size 720x360 with 4 Axes>"
            ]
          },
          "metadata": {
            "needs_background": "light"
          },
          "output_type": "display_data"
        },
        {
          "name": "stdout",
          "output_type": "stream",
          "text": [
            "plot time : 0.618645429611206\n",
            "min max values updated\n",
            "epoch    0 | train time 1.45 | train loss 1.674724e+00 | test loss 1.552937e+00 | test time 0.33  \n",
            "horizon length : 100\n",
            "Model size increased\n",
            "min max values updated\n",
            "epoch    1 | train time 2.35 | train loss 1.309743e+00 \n",
            "horizon length : 150\n",
            "Model size increased\n",
            "min max values updated\n",
            "epoch    2 | train time 4.76 | train loss 1.081162e+00 \n",
            "horizon length : 200\n",
            "Model size increased\n",
            "min max values updated\n",
            "epoch    3 | train time 8.12 | train loss 1.208801e+00 \n",
            "horizon length : 250\n",
            "Model size increased\n",
            "min max values updated\n",
            "epoch    4 | train time 12.49 | train loss 1.215763e+00 \n",
            "horizon length : 300\n",
            "Model size increased\n",
            "min max values updated\n",
            "epoch    5 | train time 18.48 | train loss 1.224987e+00 \n"
          ]
        }
      ],
      "source": [
        "stats = train(device=device, model=model,\n",
        "              Ts=Ts,\n",
        "              train_loader=train_loader,\n",
        "              test_loader=test_loader,\n",
        "              w=torch.tensor(weights, device=device),\n",
        "              grad_clip=grad_clip,\n",
        "              lr_schedule=lr_schedule,\n",
        "              begin_decay=begin_decay,\n",
        "              resnet_config=resnet_config,\n",
        "              epoch_number=epoch_number,\n",
        "              alternating=alternating,\n",
        "              horizon=horizon,\n",
        "              horizon_type=horizon_type,\n",
        "              horizon_list=horizon_list,\n",
        "              switch_steps=switch_steps,\n",
        "              epochs=epoch_number,\n",
        "              loss_type=loss_type,\n",
        "              collect_grads=collect_grads,\n",
        "              rescale_loss=rescale_loss,\n",
        "              rescale_dims=rescale_dims\n",
        "              )\n"
      ]
    },
    {
      "cell_type": "code",
      "execution_count": null,
      "metadata": {
        "id": "38opHVq2Cc0V"
      },
      "outputs": [],
      "source": [
        "if collect_grads:\n",
        "    plot_grads(stats)"
      ]
    },
    {
      "cell_type": "code",
      "execution_count": null,
      "metadata": {
        "id": "RPxjhso4Cc0V"
      },
      "outputs": [],
      "source": [
        "# set all paths and create folders : \n",
        "model_path = PATH+'data/'+save_prefix+'/'\n",
        "stats_path = PATH+'data/'+save_prefix+'/'\n",
        "plot_path = PATH+'data/'+save_prefix+'/img/'\n",
        "train_loader_path = PATH + 'data/'+save_prefix+'/datasets/' \n",
        "test_loader_path = PATH + 'data/'+save_prefix+'/datasets/' \n",
        "os.makedirs(model_path, exist_ok=True)\n",
        "os.makedirs(stats_path, exist_ok=True)\n",
        "os.makedirs(plot_path, exist_ok=True)\n",
        "os.makedirs(train_loader_path, exist_ok=True)\n",
        "os.makedirs(test_loader_path, exist_ok=True)"
      ]
    },
    {
      "cell_type": "code",
      "execution_count": null,
      "metadata": {
        "id": "hHu5CdZlCc0V"
      },
      "outputs": [],
      "source": [
        "torch.save(train_loader, train_loader_path + 'train_loader.pt')\n",
        "if test_loader is not None:\n",
        "    torch.save(test_loader, test_loader_path + 'test_loader.pt')\n",
        "\n",
        "# save model to disk\n",
        "torch.save(model.state_dict(), model_path+'model')\n",
        "\n",
        "# save the stats\n",
        "save_stats(stats, stats_path+'stats.txt')"
      ]
    },
    {
      "cell_type": "code",
      "execution_count": null,
      "metadata": {
        "id": "LogFLihtCc0W"
      },
      "outputs": [],
      "source": [
        "# train_loader = torch.load(train_loader_path)\n",
        "# test_loader = torch.load(test_loader_path)\n",
        "# # loads the stats \n",
        "# stats = read_dict(PATH, stats_path)\n",
        "# # load the model from disk\n",
        "# model.load_state_dict(torch.load(PATH+model_path))\n",
        "# model.eval()"
      ]
    },
    {
      "cell_type": "code",
      "execution_count": null,
      "metadata": {
        "colab": {
          "base_uri": "https://localhost:8080/",
          "height": 573
        },
        "id": "NrSHBNwvCc0W",
        "outputId": "8953cab8-51be-4aa5-a0ec-24a8cc0636f8"
      },
      "outputs": [],
      "source": [
        "loss_train = stats['train_loss']\n",
        "loss_test = stats['test_loss']\n",
        "epochs = np.arange(len(loss_train))\n",
        "train_test_loss_plot(loss_train, loss_test, epochs, file_path=plot_path+'/LOSS_train_test.png',\n",
        "                     title='train and test loss per epoch', horizons=False, switch_steps=switch_steps)\n",
        "\n",
        "train_test_loss_plot(loss_train, loss_test, epochs, file_path=plot_path+'/LOSS_train_test_warrows.png',\n",
        "                     title='train and test loss per epoch', horizons=horizon_list[:-1], switch_steps=switch_steps)\n"
      ]
    },
    {
      "cell_type": "code",
      "execution_count": null,
      "metadata": {
        "colab": {
          "base_uri": "https://localhost:8080/",
          "height": 1000
        },
        "id": "SIZix06YCc0W",
        "outputId": "96c31349-ca4d-4081-c25d-45d1f131f401"
      },
      "outputs": [],
      "source": [
        "# show train and prediction\n",
        "for n in [0, 5, 10, 19]:\n",
        "    plot_furuta_hat_nom(device, model, u_func, g_func, utype, gtype, data_loader_t=train_loader,\n",
        "                        t_max=horizon_list[-1], n=n, C_q1=C_q1, C_q2=C_q2, g=g, Jr=Jr, Lr=Lr, Mp=Mp, Lp=Lp,\n",
        "                        t_plot=time_steps, show_pred=True, H_or_Input='input',\n",
        "                        title='Train set trajectories', file_path=plot_path+'/TRAJECTORIES_train_set'+str(n)+'.png', w_rescale=w_rescale)\n"
      ]
    },
    {
      "cell_type": "code",
      "execution_count": null,
      "metadata": {
        "colab": {
          "base_uri": "https://localhost:8080/",
          "height": 905
        },
        "id": "AlVaj6o4Cc0X",
        "outputId": "40e0fc45-f9c2-43fe-e913-49b0429de6b0"
      },
      "outputs": [],
      "source": [
        "# show only training portion\n",
        "for n in [0, 50, 70]:\n",
        "    plot_furuta_hat_nom(device, model, u_func, g_func, utype, gtype, data_loader_t=train_loader, t_max=horizon_list[-1],\n",
        "                        n=n, C_q1=C_q1, C_q2=C_q2, g=g, Jr=Jr, Lr=Lr, Mp=Mp, Lp=Lp, t_plot=horizon_list[-1], show_pred=False,\n",
        "                        title='Train set trajectories', file_path=plot_path+'/TRAJECTORIES_train_set'+str(n)+'.png', w_rescale=w_rescale)\n"
      ]
    },
    {
      "cell_type": "code",
      "execution_count": null,
      "metadata": {},
      "outputs": [],
      "source": [
        "# show test and prediction\n",
        "for n in [0, 5, 10, 19]:\n",
        "    plot_furuta_hat_nom(device, model, u_func, g_func, utype, gtype, data_loader_t=test_loader,\n",
        "                        t_max=horizon_list[-1], n=n, C_q1=C_q1, C_q2=C_q2, g=g, Jr=Jr, Lr=Lr, Mp=Mp, Lp=Lp,\n",
        "                        t_plot=time_steps, show_pred=True, H_or_Input='input',\n",
        "                        title='Test set trajectories', file_path=plot_path+'/TRAJECTORIES_train_set'+str(n)+'.png', w_rescale=w_rescale)\n"
      ]
    },
    {
      "cell_type": "code",
      "execution_count": null,
      "metadata": {},
      "outputs": [],
      "source": [
        "utype = None  # 'chirp' or 'sine' or 'tanh' or 'multisine' or 'step' or None\n",
        "u_func = U_FUNC(utype=utype) # instantiate the input function u(t)\n",
        "gtype = None # 'simple' or None\n",
        "# instantiate the input function G(q,p) (here it is constant)\n",
        "g_func = G_FUNC(gtype=gtype)\n",
        "init_method = 'random_nozero'  # 'random_nozero' # 'random_closetopi'\n",
        "time_steps = 800  # length of a trajectory\n",
        "num_trajectories = 25  # number of trajectories in total\n",
        "proportion = 0.0 # train test proportion\n",
        "batch_size = 100  # batch size used by dataloader\n",
        "w_rescale = [1, 1, 1, 1] # [1, 1000, 1, 10000]  # [1, 1000, 1, 10000]  # [1, 9000, 1, 10000]\n",
        "shuffle = False  # shuffle sample in the batches between epochs\n",
        "# 'hamiltonian' or 'newtonian', newtonian if you want [q1,q1_dot,q2,q2_dot]\n",
        "coord_type = 'hamiltonian'\n",
        "min_max_rescale = True  # rescale the training trajectories\n",
        "# which dimensions to rescale if using min_max_rescale, so that nothing is divided by zero\n",
        "rescale_dims = [1, 1, 1, 0]\n",
        "\n",
        "# generate train and test dataloader objects containing the trajectories\n",
        "train_loader_2, test_loader_2 = load_data_device(device, init_method, w_rescale,\n",
        "                                             u_func, g_func, time_steps,\n",
        "                                             shuffle=shuffle,\n",
        "                                             num_trajectories=num_trajectories,\n",
        "                                             coord_type=coord_type,\n",
        "                                             proportion=proportion, batch_size=batch_size,\n",
        "                                             Ts=Ts, noise_std=noise_std, C_q1=C_q1, C_q2=C_q2,\n",
        "                                             g=g, Jr=Jr, Lr=Lr, Mp=Mp, Lp=Lp,\n",
        "                                             min_max_rescale=min_max_rescale, rescale_dims=rescale_dims)"
      ]
    },
    {
      "cell_type": "code",
      "execution_count": null,
      "metadata": {},
      "outputs": [],
      "source": [
        "# show test and prediction\n",
        "title='test set trajectories | no input'\n",
        "for n in [0, 5, 10, 19]:\n",
        "    plot_furuta_hat_nom(device, model, u_func, g_func, utype, gtype, data_loader_t=train_loader_2,\n",
        "                        t_max=time_steps, n=n, C_q1=C_q1, C_q2=C_q2, g=g, Jr=Jr, Lr=Lr, Mp=Mp, Lp=Lp,\n",
        "                        t_plot=time_steps, only_pred=True, show_pred=True, H_or_Input='input',\n",
        "                        title=title, file_path=plot_path+'/TRAJECTORIES_train_set'+str(n)+'noinput.png', w_rescale=w_rescale)\n"
      ]
    },
    {
      "cell_type": "code",
      "execution_count": null,
      "metadata": {},
      "outputs": [],
      "source": [
        "utype = 'sine'  # 'chirp' or 'sine' or 'tanh' or 'multisine' or 'step' or None\n",
        "u_func = U_FUNC(utype=utype)  # instantiate the input function u(t)\n",
        "u_func.params['T'] = 1.5\n",
        "u_func.params['f0'] = 0\n",
        "u_func.params['f1'] = 1  # 4 # 1.4\n",
        "u_func.params['scale'] = 0.0001  # for fake : 0.5 or 0.1 for real : 0.0001\n",
        "gtype = 'simple'  # 'simple' or None\n",
        "# instantiate the input function G(q,p) (here it is constant)\n",
        "g_func = G_FUNC(gtype=gtype)\n",
        "init_method = 'random_nozero'  # 'random_nozero' # 'random_closetopi'\n",
        "time_steps = 800  # length of a trajectory\n",
        "num_trajectories = 25  # number of trajectories in total\n",
        "proportion = 0.8  # train test proportion\n",
        "batch_size = 100  # batch size used by dataloader\n",
        "# [1, 1000, 1, 10000]  # [1, 1000, 1, 10000]  # [1, 9000, 1, 10000]\n",
        "w_rescale = [1, 1, 1, 1]\n",
        "shuffle = False  # shuffle sample in the batches between epochs\n",
        "# 'hamiltonian' or 'newtonian', newtonian if you want [q1,q1_dot,q2,q2_dot]\n",
        "coord_type = 'hamiltonian'\n",
        "min_max_rescale = True  # rescale the training trajectories\n",
        "# which dimensions to rescale if using min_max_rescale, so that nothing is divided by zero\n",
        "rescale_dims = [1, 1, 1, 1]\n",
        "\n",
        "# generate train and test dataloader objects containing the trajectories\n",
        "train_loader_3, test_loader_3 = load_data_device(device, init_method, w_rescale,\n",
        "                                                 u_func, g_func, time_steps,\n",
        "                                                 shuffle=shuffle,\n",
        "                                                 num_trajectories=num_trajectories,\n",
        "                                                 coord_type=coord_type,\n",
        "                                                 proportion=proportion, batch_size=batch_size,\n",
        "                                                 Ts=Ts, noise_std=noise_std, C_q1=C_q1, C_q2=C_q2,\n",
        "                                                 g=g, Jr=Jr, Lr=Lr, Mp=Mp, Lp=Lp,\n",
        "                                                 min_max_rescale=min_max_rescale, rescale_dims=rescale_dims)\n"
      ]
    },
    {
      "cell_type": "code",
      "execution_count": null,
      "metadata": {},
      "outputs": [],
      "source": [
        "# show test and prediction\n",
        "title='test set trajectories | 1hz sine input'\n",
        "for n in [0, 5, 10, 19]:\n",
        "    plot_furuta_hat_nom(device, model, u_func, g_func, utype, gtype, data_loader_t=train_loader_3,\n",
        "                        t_max=time_steps, n=n, C_q1=C_q1, C_q2=C_q2, g=g, Jr=Jr, Lr=Lr, Mp=Mp, Lp=Lp,\n",
        "                        t_plot=time_steps, only_pred=True, show_pred=True, H_or_Input='input',\n",
        "                        title=title, file_path=plot_path+'/TRAJECTORIES_train_set'+str(n)+'1hzsine.png', w_rescale=w_rescale)\n"
      ]
    },
    {
      "cell_type": "code",
      "execution_count": null,
      "metadata": {},
      "outputs": [],
      "source": [
        "utype = 'sine'  # 'chirp' or 'sine' or 'tanh' or 'multisine' or 'step' or None\n",
        "u_func = U_FUNC(utype=utype) # instantiate the input function u(t)\n",
        "u_func.params['T'] = 1.5\n",
        "u_func.params['f0'] = 0\n",
        "u_func.params['f1'] = 2  # 4 # 1.4\n",
        "u_func.params['scale'] = 0.0001  # for fake : 0.5 or 0.1 for real : 0.0001\n",
        "gtype = 'simple' # 'simple' or None\n",
        "# instantiate the input function G(q,p) (here it is constant)\n",
        "g_func = G_FUNC(gtype=gtype)\n",
        "init_method = 'random_nozero'  # 'random_nozero' # 'random_closetopi'\n",
        "time_steps = 800  # length of a trajectory\n",
        "num_trajectories = 25  # number of trajectories in total\n",
        "proportion = 0.0  # train test proportion\n",
        "batch_size = 100  # batch size used by dataloader\n",
        "w_rescale = [1, 1, 1, 1] # [1, 1000, 1, 10000]  # [1, 1000, 1, 10000]  # [1, 9000, 1, 10000]\n",
        "shuffle = False  # shuffle sample in the batches between epochs\n",
        "# 'hamiltonian' or 'newtonian', newtonian if you want [q1,q1_dot,q2,q2_dot]\n",
        "coord_type = 'hamiltonian'\n",
        "min_max_rescale = True  # rescale the training trajectories\n",
        "# which dimensions to rescale if using min_max_rescale, so that nothing is divided by zero\n",
        "rescale_dims = [1, 1, 1, 1]\n",
        "\n",
        "# generate train and test dataloader objects containing the trajectories\n",
        "train_loader_4, test_loader_4 = load_data_device(device, init_method, w_rescale,\n",
        "                                             u_func, g_func, time_steps,\n",
        "                                             shuffle=shuffle,\n",
        "                                             num_trajectories=num_trajectories,\n",
        "                                             coord_type=coord_type,\n",
        "                                             proportion=proportion, batch_size=batch_size,\n",
        "                                             Ts=Ts, noise_std=noise_std, C_q1=C_q1, C_q2=C_q2,\n",
        "                                             g=g, Jr=Jr, Lr=Lr, Mp=Mp, Lp=Lp,\n",
        "                                             min_max_rescale=min_max_rescale, rescale_dims=rescale_dims)\n",
        "# show test and prediction\n",
        "title='test set trajectories | 2hz sine input'\n",
        "for n in [0, 5, 10, 19]:\n",
        "    plot_furuta_hat_nom(device, model, u_func, g_func, utype, gtype, data_loader_t=train_loader_4,\n",
        "                        t_max=time_steps, n=n, C_q1=C_q1, C_q2=C_q2, g=g, Jr=Jr, Lr=Lr, Mp=Mp, Lp=Lp,\n",
        "                        t_plot=time_steps, only_pred=True, show_pred=True, H_or_Input='input',\n",
        "                        title=title, file_path=plot_path+'/TRAJECTORIES_test_set'+str(n)+'2hzsine.png', w_rescale=w_rescale)\n"
      ]
    }
  ],
  "metadata": {
    "colab": {
      "collapsed_sections": [
        "AltpEqt8UqNk",
        "Y3F0sJ8GMaP-",
        "xeWufKhKrZJF",
        "jvH00uYvxr-7",
        "v_FTm0Slrsby"
      ],
      "name": "furuta_pendulum_simpleHNN.ipynb",
      "provenance": [],
      "toc_visible": true
    },
    "interpreter": {
      "hash": "52b0f3b5fff4e2d99607e23e4ce3f8b9e3a664acf6541783ed53f1bd22095b69"
    },
    "kernelspec": {
      "display_name": "Python 3.9.7 ('pds')",
      "language": "python",
      "name": "python3"
    },
    "language_info": {
      "codemirror_mode": {
        "name": "ipython",
        "version": 3
      },
      "file_extension": ".py",
      "mimetype": "text/x-python",
      "name": "python",
      "nbconvert_exporter": "python",
      "pygments_lexer": "ipython3",
      "version": "3.9.7"
    }
  },
  "nbformat": 4,
  "nbformat_minor": 0
}
