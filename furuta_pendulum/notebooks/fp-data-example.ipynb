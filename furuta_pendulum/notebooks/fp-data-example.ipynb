{
 "cells": [
  {
   "cell_type": "markdown",
   "metadata": {
    "id": "uy0mWdPersbg"
   },
   "source": [
    "Some code in this notebook has been adapted from the work of Zhongy et al. and Greydanus et al. and from the report and code of Jonas Perolini.\n",
    "\n",
    "Their code is available in the following repositories :[\n",
    "Symplectic-ODENet](https://github.com/Physics-aware-AI/Symplectic-ODENet) and [hamiltonian-nn](https://github.com/greydanus/hamiltonian-nn)\n"
   ]
  },
  {
   "cell_type": "markdown",
   "metadata": {
    "id": "Jd6pGmU-rsbk"
   },
   "source": [
    "# Imports & Setting up directories"
   ]
  },
  {
   "cell_type": "code",
   "execution_count": 1,
   "metadata": {
    "colab": {
     "base_uri": "https://localhost:8080/"
    },
    "id": "3ioF4QRA1FEF",
    "outputId": "1bbd65c1-d7f2-44ec-934f-a11a3f8588bb"
   },
   "outputs": [],
   "source": [
    "try:\n",
    "    import google.colab\n",
    "\n",
    "    IN_COLAB = True\n",
    "except:\n",
    "    IN_COLAB = False\n",
    "\n",
    "if IN_COLAB:\n",
    "    PATH = \"./\"  # './drive/MyDrive/1_SP_Ham_func/'\n",
    "    from google.colab import drive\n",
    "\n",
    "    drive.mount(\"/content/drive\")\n",
    "\n",
    "    %cd /content/drive/MyDrive/1_SP_Ham_func/furuta_pendulum/\n",
    "    %pip install torchdiffeq\n",
    "    from src.data import *\n",
    "    from src.dynamics import *\n",
    "    from src.models import *\n",
    "    from src.train import *\n",
    "    from src.plots import *\n",
    "    from src.trajectories import *\n",
    "    from src.utils import *\n",
    "else:\n",
    "    import sys\n",
    "\n",
    "    sys.path.insert(0, \"..\")\n",
    "    import os\n",
    "\n",
    "    PATH = \"../\"\n",
    "    from src.data import *\n",
    "    from src.dynamics import *\n",
    "    from src.models import *\n",
    "    from src.train import *\n",
    "    from src.plots import *\n",
    "    from src.trajectories import *\n",
    "    from src.utils import *"
   ]
  },
  {
   "cell_type": "code",
   "execution_count": 2,
   "metadata": {
    "id": "6F69c4UZ_3U_"
   },
   "outputs": [],
   "source": [
    "import matplotlib.pyplot as plt\n",
    "from matplotlib.lines import Line2D\n",
    "import seaborn as sns\n",
    "import pandas as pd\n",
    "import numpy as np\n",
    "\n",
    "from torch.utils.data import Dataset, DataLoader, random_split\n",
    "import torch\n",
    "\n",
    "from torch.optim.lr_scheduler import LinearLR\n",
    "\n",
    "from torchdiffeq import odeint_adjoint as odeint_adjoint\n",
    "\n",
    "# func must be a nn.Module when using the adjoint method\n",
    "from torchdiffeq import odeint as odeint\n",
    "\n",
    "import time as time\n",
    "import json\n"
   ]
  },
  {
   "cell_type": "markdown",
   "metadata": {
    "id": "2azdHB9irsbo"
   },
   "source": [
    "# Generate, load and save the dataset"
   ]
  },
  {
   "cell_type": "code",
   "execution_count": null,
   "metadata": {
    "id": "dir-6ePzw2dC"
   },
   "outputs": [],
   "source": [
    "device = set_device()\n",
    "furuta_type = \"real\"  # 'real' or 'fake'\n",
    "Ts, noise_std, C_q1, C_q2, g, Jr, Lr, Mp, Lp = set_furuta_params(which=furuta_type)\n",
    "\n",
    "utype = None  #  'chirp' or None or '' or ''\n",
    "u_func = U_FUNC(utype=utype)\n",
    "u_func.params[\"T\"] = 1.5\n",
    "u_func.params[\"f0\"] = 0\n",
    "u_func.params[\"f1\"] = 4  # 4 # 1.4\n",
    "u_func.params[\"scale\"] = 0.001  # for fake : 0.5 or 0.1 for real : 0.0001\n",
    "gtype = \"simple\"\n",
    "g_func = G_FUNC(gtype=gtype)\n",
    "init_method = \"random_nozero\"  # 'random_nozero' # 'random_closetopi'\n",
    "time_steps = 300\n",
    "num_trajectories = 10\n",
    "proportion = 0.0\n",
    "batch_size = 100\n",
    "w_rescale = [1, 1000, 1, 10000]  # [1, 9000, 1, 10000]\n",
    "\n",
    "train_loader, test_loader = load_data_device(\n",
    "    device,\n",
    "    init_method,\n",
    "    w_rescale,\n",
    "    u_func,\n",
    "    g_func,\n",
    "    time_steps,\n",
    "    shuffle=False,\n",
    "    num_trajectories=num_trajectories,\n",
    "    coord_type=\"hamiltonian\",\n",
    "    proportion=proportion,\n",
    "    batch_size=batch_size,\n",
    "    Ts=Ts,\n",
    "    noise_std=noise_std,\n",
    "    C_q1=C_q1,\n",
    "    C_q2=C_q2,\n",
    "    g=g,\n",
    "    Jr=Jr,\n",
    "    Lr=Lr,\n",
    "    Mp=Mp,\n",
    "    Lp=Lp,\n",
    ")"
   ]
  },
  {
   "cell_type": "code",
   "execution_count": null,
   "metadata": {
    "id": "RQoA6EWtJycA"
   },
   "outputs": [],
   "source": [
    "x, t = next(iter(train_loader))\n",
    "print(x.shape)\n",
    "for n in range(1):\n",
    "    t_eval = t[0, :].cpu().detach()\n",
    "    q1 = x[n, :, 0].cpu().detach()\n",
    "    p1 = x[n, :, 1].cpu().detach()\n",
    "    q2 = x[n, :, 2].cpu().detach()\n",
    "    p2 = x[n, :, 3].cpu().detach()\n",
    "\n",
    "    u = u_func.forward(t_eval).cpu().detach()\n",
    "    G = g_func.forward(x[n, :, :4]).cpu().detach()\n",
    "    energy, derivatives = get_energy_furuta(device, time_steps, Ts, u_func, g_func, q1, p1, q2, p2, C_q1, C_q2, g, Jr, Lr, Mp, Lp)\n",
    "    print(\"q1\", q1.shape)\n",
    "    print(\"energy\", energy.shape)\n",
    "    energy = energy.detach().squeeze()\n",
    "\n",
    "    plot_traj_furuta_withinput(\n",
    "        t_eval,\n",
    "        q1,\n",
    "        p1,\n",
    "        q2,\n",
    "        p2,\n",
    "        energy=energy,\n",
    "        input=u,\n",
    "        title=\"Trajectory of the generalized coordinates\",\n",
    "        coord_type=\"hamiltonian\",\n",
    "    )"
   ]
  }
 ],
 "metadata": {
  "colab": {
   "collapsed_sections": [],
   "name": "w13_Furuta_NES_HDNN_ResNets__with_profiling_and_quicker_2_withgradplots.ipynb",
   "provenance": [],
   "toc_visible": true
  },
  "interpreter": {
   "hash": "52b0f3b5fff4e2d99607e23e4ce3f8b9e3a664acf6541783ed53f1bd22095b69"
  },
  "kernelspec": {
   "display_name": "Python 3.9.7 ('pds')",
   "language": "python",
   "name": "python3"
  },
  "language_info": {
   "codemirror_mode": {
    "name": "ipython",
    "version": 3
   },
   "file_extension": ".py",
   "mimetype": "text/x-python",
   "name": "python",
   "nbconvert_exporter": "python",
   "pygments_lexer": "ipython3",
   "version": "3.9.7"
  }
 },
 "nbformat": 4,
 "nbformat_minor": 0
}
