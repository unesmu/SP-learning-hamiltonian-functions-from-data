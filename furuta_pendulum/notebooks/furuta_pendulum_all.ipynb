{
  "cells": [
    {
      "cell_type": "markdown",
      "metadata": {
        "id": "uy0mWdPersbg"
      },
      "source": [
        "Some code in this notebook has been adapted from the work of Zhongy et al. and Greydanus et al. and from the report and code of Jonas Perolini.\n",
        "\n",
        "Their code is available in the following repositories :[\n",
        "Symplectic-ODENet](https://github.com/Physics-aware-AI/Symplectic-ODENet) and [hamiltonian-nn](https://github.com/greydanus/hamiltonian-nn)\n"
      ]
    },
    {
      "cell_type": "markdown",
      "metadata": {
        "id": "Jd6pGmU-rsbk"
      },
      "source": [
        "# Imports & Setting up directories"
      ]
    },
    {
      "cell_type": "code",
      "execution_count": 1,
      "metadata": {
        "colab": {
          "base_uri": "https://localhost:8080/"
        },
        "id": "3ioF4QRA1FEF",
        "outputId": "16f4ad38-8d02-4517-87ed-6a315e883ead"
      },
      "outputs": [],
      "source": [
        "try:\n",
        "    import google.colab\n",
        "    IN_COLAB = True\n",
        "except:\n",
        "    IN_COLAB = False\n",
        "\n",
        "if IN_COLAB:  \n",
        "    PATH = './' # './drive/MyDrive/1_SP_Ham_func/'\n",
        "    from google.colab import drive\n",
        "    drive.mount('/content/drive')\n",
        "\n",
        "    %cd /content/drive/MyDrive/1_SP_Ham_func/furuta_pendulum/\n",
        "    %pip install torchdiffeq\n",
        "\n",
        "else:\n",
        "    import sys; sys.path.insert(0, '..') \n",
        "    import os\n",
        "    PATH = '../'"
      ]
    },
    {
      "cell_type": "code",
      "execution_count": 2,
      "metadata": {
        "id": "6F69c4UZ_3U_"
      },
      "outputs": [],
      "source": [
        "import matplotlib.pyplot as plt\n",
        "from matplotlib.lines import Line2D\n",
        "import seaborn as sns\n",
        "import pandas as pd\n",
        "import numpy as np\n",
        "\n",
        "from torch.utils.data import Dataset, DataLoader, random_split\n",
        "import torch\n",
        "\n",
        "from torch.optim.lr_scheduler import LinearLR\n",
        "\n",
        "from torchdiffeq import odeint_adjoint as odeint_adjoint \n",
        "# func must be a nn.Module when using the adjoint method\n",
        "from torchdiffeq import odeint as odeint\n",
        "\n",
        "import time as time\n",
        "import json\n",
        "import os\n",
        "# setting seeds\n",
        "import random"
      ]
    },
    {
      "cell_type": "code",
      "execution_count": 3,
      "metadata": {
        "id": "MqUrZjjnu8Xh"
      },
      "outputs": [],
      "source": [
        "%load_ext autoreload\n",
        "%autoreload 2"
      ]
    },
    {
      "cell_type": "markdown",
      "metadata": {},
      "source": [
        "# Create requirements"
      ]
    },
    {
      "cell_type": "code",
      "execution_count": 4,
      "metadata": {},
      "outputs": [],
      "source": [
        "# %pip install nbconvert\n",
        "# # converts notebook to .py file for pipreqs\n",
        "# !jupyter nbconvert --output-dir=\"./\" --to script furuta_pendulum.ipynb \n",
        "\n",
        "# %pip install pipreqs\n",
        "# # creates the requirement file\n",
        "# !pipreqs \n",
        "# os.remove('./furuta_pendulum.py')  # deletes the .py file"
      ]
    },
    {
      "cell_type": "markdown",
      "metadata": {
        "id": "UPvuTkGm-CRE"
      },
      "source": [
        "# Code"
      ]
    },
    {
      "cell_type": "code",
      "execution_count": 5,
      "metadata": {},
      "outputs": [
        {
          "name": "stdout",
          "output_type": "stream",
          "text": [
            "c:\\Users\\Younes\\Documents\\GitHub\\SP-learning-hamiltonian-functions-from-data\\furuta_pendulum\n"
          ]
        }
      ],
      "source": [
        "%cd .."
      ]
    },
    {
      "cell_type": "markdown",
      "metadata": {
        "id": "X_E3dAJS-XNv"
      },
      "source": [
        "## dynamics"
      ]
    },
    {
      "cell_type": "code",
      "execution_count": 6,
      "metadata": {},
      "outputs": [],
      "source": [
        "%load src/dynamics.py"
      ]
    },
    {
      "cell_type": "markdown",
      "metadata": {
        "id": "Cq5yMx-F-Yuq"
      },
      "source": [
        "## trajectories"
      ]
    },
    {
      "cell_type": "code",
      "execution_count": 8,
      "metadata": {},
      "outputs": [],
      "source": [
        "%load src/trajectories.py"
      ]
    },
    {
      "cell_type": "markdown",
      "metadata": {
        "id": "nCOtyABh-kAv"
      },
      "source": [
        "## dataset & dataloader"
      ]
    },
    {
      "cell_type": "code",
      "execution_count": null,
      "metadata": {},
      "outputs": [],
      "source": [
        "%load src/data.py"
      ]
    },
    {
      "cell_type": "markdown",
      "metadata": {
        "id": "Hp4nC5YW-r4x"
      },
      "source": [
        "## models"
      ]
    },
    {
      "cell_type": "code",
      "execution_count": null,
      "metadata": {},
      "outputs": [],
      "source": [
        "%load src/models.py"
      ]
    },
    {
      "cell_type": "markdown",
      "metadata": {
        "id": "-xLuM9kz-yLr"
      },
      "source": [
        "## plots"
      ]
    },
    {
      "cell_type": "code",
      "execution_count": null,
      "metadata": {},
      "outputs": [],
      "source": [
        "%load src/plots.py"
      ]
    },
    {
      "cell_type": "markdown",
      "metadata": {
        "id": "CO0OQeI7-bEs"
      },
      "source": [
        "## utils"
      ]
    },
    {
      "cell_type": "code",
      "execution_count": null,
      "metadata": {},
      "outputs": [],
      "source": [
        "%load src/utils.py"
      ]
    },
    {
      "cell_type": "markdown",
      "metadata": {
        "id": "k5d-r_s2-ebg"
      },
      "source": [
        "## Train"
      ]
    },
    {
      "cell_type": "code",
      "execution_count": null,
      "metadata": {},
      "outputs": [],
      "source": [
        "%load src/train.py"
      ]
    },
    {
      "cell_type": "markdown",
      "metadata": {},
      "source": [
        "# Run"
      ]
    }
  ],
  "metadata": {
    "colab": {
      "collapsed_sections": [],
      "name": "w13_Furuta_NES_HDNN_ResNets__with_profiling_and_quicker_2_withgradplots.ipynb",
      "provenance": [],
      "toc_visible": true
    },
    "interpreter": {
      "hash": "52b0f3b5fff4e2d99607e23e4ce3f8b9e3a664acf6541783ed53f1bd22095b69"
    },
    "kernelspec": {
      "display_name": "Python 3.9.7 ('pds')",
      "language": "python",
      "name": "python3"
    },
    "language_info": {
      "codemirror_mode": {
        "name": "ipython",
        "version": 3
      },
      "file_extension": ".py",
      "mimetype": "text/x-python",
      "name": "python",
      "nbconvert_exporter": "python",
      "pygments_lexer": "ipython3",
      "version": "3.9.7"
    }
  },
  "nbformat": 4,
  "nbformat_minor": 0
}
