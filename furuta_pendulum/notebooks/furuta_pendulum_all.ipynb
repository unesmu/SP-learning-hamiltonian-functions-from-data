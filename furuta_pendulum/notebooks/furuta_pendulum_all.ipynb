{
  "cells": [
    {
      "cell_type": "markdown",
      "metadata": {
        "id": "uy0mWdPersbg"
      },
      "source": [
        "Some code in this notebook has been adapted from the work of Zhongy et al. and Greydanus et al. and from the report and code of Jonas Perolini.\n",
        "\n",
        "Their code is available in the following repositories :[\n",
        "Symplectic-ODENet](https://github.com/Physics-aware-AI/Symplectic-ODENet) and [hamiltonian-nn](https://github.com/greydanus/hamiltonian-nn)\n"
      ]
    },
    {
      "cell_type": "markdown",
      "metadata": {
        "id": "Jd6pGmU-rsbk"
      },
      "source": [
        "# Imports & Setting up directories"
      ]
    },
    {
      "cell_type": "code",
      "execution_count": 401,
      "metadata": {
        "colab": {
          "base_uri": "https://localhost:8080/"
        },
        "id": "3ioF4QRA1FEF",
        "outputId": "1bbd65c1-d7f2-44ec-934f-a11a3f8588bb"
      },
      "outputs": [],
      "source": [
        "try:\n",
        "    import google.colab\n",
        "    IN_COLAB = True\n",
        "except:\n",
        "    IN_COLAB = False\n",
        "\n",
        "if IN_COLAB:  \n",
        "    PATH = './' # './drive/MyDrive/1_SP_Ham_func/'\n",
        "    from google.colab import drive\n",
        "    drive.mount('/content/drive')\n",
        "\n",
        "    %cd /content/drive/MyDrive/1_SP_Ham_func/\n",
        "    %pip install torchdiffeq\n",
        "else:\n",
        "    import sys; sys.path.insert(0, '..') \n",
        "    import os\n",
        "    PATH = '../'"
      ]
    },
    {
      "cell_type": "code",
      "execution_count": 402,
      "metadata": {
        "id": "6F69c4UZ_3U_"
      },
      "outputs": [],
      "source": [
        "import matplotlib.pyplot as plt\n",
        "from matplotlib.lines import Line2D\n",
        "import seaborn as sns\n",
        "import pandas as pd\n",
        "import numpy as np\n",
        "\n",
        "from torch.utils.data import Dataset, DataLoader, random_split\n",
        "import torch\n",
        "\n",
        "from torch.optim.lr_scheduler import LinearLR\n",
        "\n",
        "from torchdiffeq import odeint_adjoint as odeint_adjoint \n",
        "# func must be a nn.Module when using the adjoint method\n",
        "from torchdiffeq import odeint as odeint\n",
        "\n",
        "import time as time\n",
        "import json\n",
        "\n",
        "# setting seeds"
      ]
    },
    {
      "cell_type": "markdown",
      "metadata": {},
      "source": [
        "# Create requirements"
      ]
    },
    {
      "cell_type": "code",
      "execution_count": 403,
      "metadata": {},
      "outputs": [],
      "source": [
        "# %pip install nbconvert\n",
        "# # converts notebook to .py file for pipreqs\n",
        "# !jupyter nbconvert --output-dir=\"./\" --to script furuta_pendulum.ipynb \n",
        "\n",
        "# %pip install pipreqs\n",
        "# # creates the requirement file\n",
        "# !pipreqs \n",
        "# os.remove('./furuta_pendulum.py')  # deletes the .py file"
      ]
    },
    {
      "cell_type": "markdown",
      "metadata": {
        "id": "UPvuTkGm-CRE"
      },
      "source": [
        "# Code"
      ]
    },
    {
      "cell_type": "markdown",
      "metadata": {
        "id": "X_E3dAJS-XNv"
      },
      "source": [
        "## dynamics"
      ]
    },
    {
      "cell_type": "code",
      "execution_count": 404,
      "metadata": {
        "id": "Pt37hOnR-7JR"
      },
      "outputs": [],
      "source": [
        "def furuta_H(q1, p1, q2, p2, g, Jr, Lr, Mp, Lp):\n",
        "    '''\n",
        "    Description:\n",
        "      Hamiltonian function for the Furuta pendulum \n",
        "    Inputs : \n",
        "      - q1,p1,q2,p2 (tensors) : Generalized coordinates \n",
        "    Outputs : \n",
        "      - H (tensor) : Hamiltonian function \n",
        "    Credits : \n",
        "      - Equations & constants are from Jonas's report\n",
        "    '''\n",
        "\n",
        "    # system constants\n",
        "    Jp = (1/12)*Mp*Lp**2\n",
        "\n",
        "    # function constants\n",
        "    C1 = Jr + Mp*Lr**2\n",
        "    C2 = (1/4)*Mp*Lp**2\n",
        "    C3 = (-1/2)*Mp*Lp*Lr\n",
        "    C4 = Jp+C2\n",
        "    C5 = (1/2)*Mp*g*Lp\n",
        "\n",
        "    # hamiltonian function\n",
        "    # print('furuta_H','C4*p2**2',(C4*p2**2).shape)\n",
        "    # print('furuta_H','C2*torch.sin(q1)**2 ',(C2*torch.sin(q1)**2 ).shape)\n",
        "    # print('furuta_H','2*p1*p2*C3*torch.cos(q1)',(2*p1*p2*C3*torch.cos(q1)).shape)\n",
        "    H = p1**2 * (C1+C2*torch.sin(q1)**2) + C4*p2**2-2*p1*p2*C3*torch.cos(q1)\n",
        "    H = (1/2) * (H)/(C1*C4+C4*C2*torch.sin(q1)\n",
        "                     ** 2 - (C3**2) * (torch.cos(q1)**2))\n",
        "    H = H + C5*(torch.cos(q1)+1)\n",
        "\n",
        "    return H\n",
        "\n",
        "\n",
        "def hamiltonian_fn_furuta(coords, g, Jr, Lr, Mp, Lp):\n",
        "    '''\n",
        "    Description:\n",
        "      Hamiltonian function for the Furuta pendulum, wraps furuta_H so that it is \n",
        "      the right format for ODEint\n",
        "\n",
        "    Inputs : \n",
        "      - coords (tensor) : vector containing generalized coordinates q1,p1,q2,p2\n",
        "\n",
        "    Outputs :\n",
        "      - H (tensor) : Scalar Hamiltonian function\n",
        "\n",
        "    Credits : \n",
        "      This function takes the same structure as the one in the SymODEN repository\n",
        "    '''\n",
        "    q1, p1, q2, p2 = torch.chunk(coords, 4, dim=-1)  # torch.split(coords,1)\n",
        "    # print('hamiltonian_fn_furuta','coords',coords.shape)\n",
        "    # print('hamiltonian_fn_furuta','q1',q1.shape)\n",
        "    H = furuta_H(q1, p1, q2, p2, g, Jr, Lr, Mp, Lp)\n",
        "    # print('hamiltonian_fn_furuta','H',H.shape)\n",
        "    return H\n",
        "\n",
        "\n",
        "def coord_derivatives_furuta(t, coords, C_q1, C_q2, g, Jr, Lr, Mp, Lp, u_func, g_func):\n",
        "    '''\n",
        "    Description:\n",
        "        Returns the derivatives of the generalized coordinates\n",
        "\n",
        "    Inputs : \n",
        "      - coords (tensor) : vector containing generalized coordinates q1,p1,q2,p2\n",
        "      - C_q1 (float) : coefficient of friction related to p1 ( and q1)\n",
        "      - C_q2 (float) : coefficient of friction related to p2 ( and q2)\n",
        "\n",
        "    Outputs :\n",
        "      - dq1dt, dp1dt, dq2dt, dp2dt (tensors) : Derivatives w.r.t coords\n",
        "    '''\n",
        "    if coords.requires_grad is not True:\n",
        "        coords.requires_grad = True\n",
        "\n",
        "    # Hamiltonian function\n",
        "    H = hamiltonian_fn_furuta(coords, g, Jr, Lr, Mp, Lp)\n",
        "    # print('coord_derivatives_furuta','H',H.shape)\n",
        "    # print('coord_derivatives_furuta','coords',coords.shape)\n",
        "    # gradient of the hamiltornian function wrt the generalized coordinates\n",
        "    # !! might need to add H.sum() if batches used here later\n",
        "    dcoords = torch.autograd.grad(H.sum(), coords, create_graph=True)\n",
        "\n",
        "    # dHdq1, dHdp1, dHdq2, dHdp2 = torch.split(dcoords[0], 1)\n",
        "    dHdq1, dHdp1, dHdq2, dHdp2 = torch.chunk(dcoords[0], 4, dim=-1)\n",
        "    # print('coord_derivatives_furuta','dHdq1',dHdq1.shape)\n",
        "    U = u_func.forward(t)\n",
        "    G = g_func.forward(coords)\n",
        "    # print('coord_derivatives_furuta','U',U.shape)\n",
        "    # print('coord_derivatives_furuta','G',G.shape)\n",
        "    # print('coord_derivatives_furuta','U * G[1]',(U * G[:,1]).shape)\n",
        "    # print('coord_derivatives_furuta','U * G[0]',(U * G[:,0]).shape)\n",
        "    # print('coord_derivatives_furuta','C_q1*dHdp1',(C_q1*dHdp1).shape)\n",
        "    # print('coord_derivatives_furuta','U * G[:,0].unsqueeze(dim=-1)',((U * G[:,0]).unsqueeze(dim=-1)).shape)\n",
        "    # print('coord_derivatives_furuta','U * G[:,0].unsqueeze(dim=1)',((U * G[:,0]).unsqueeze(dim=1)).shape)\n",
        "    dq1dt = dHdp1 + (U * G[:, 0]).unsqueeze(dim=1)\n",
        "    dp1dt = - dHdq1 - C_q1*dHdp1 + (U * G[:, 1]).unsqueeze(dim=1)\n",
        "    dq2dt = dHdp2 + (U * G[:, 2]).unsqueeze(dim=1)\n",
        "    dp2dt = - dHdq2 - C_q2*dHdp2 + (U * G[:, 3]).unsqueeze(dim=1)\n",
        "    # print('coord_derivatives_furuta','dq1dt',dq1dt.shape)\n",
        "    # print('coord_derivatives_furuta','dp1dt',dp1dt.shape)\n",
        "    return dq1dt, dp1dt, dq2dt, dp2dt\n",
        "\n",
        "\n",
        "def dynamics_fn_furuta(t, coords, C_q1, C_q2, g, Jr, Lr, Mp, Lp, u_func, g_func):\n",
        "    '''\n",
        "    Description:\n",
        "    Function that returns the gradient (in form of a function) of a Hamiltonian function\n",
        "    Inputs : \n",
        "      - t () : \n",
        "      - coords () : generalized coordinates\n",
        "      - u () : system input\n",
        "      - C () : dissipation coefficient\n",
        "\n",
        "    Outputs :\n",
        "      - S () : Symplectic gradient\n",
        "\n",
        "    Credits : \n",
        "      - This function has a similar structure as the one in the SymODEN repository\n",
        "    '''\n",
        "\n",
        "    dq1dt, dp1dt, dq2dt, dp2dt = coord_derivatives_furuta(\n",
        "        t, coords, C_q1, C_q2, g, Jr, Lr, Mp, Lp, u_func, g_func)\n",
        "\n",
        "    S = torch.hstack((dq1dt, dp1dt, dq2dt, dp2dt))\n",
        "    return S\n",
        "\n",
        "\n",
        "''' Input functions '''\n",
        "\n",
        "\n",
        "def chirp_fun(t, T=1.5, f0=1, f1=50, scale=1):\n",
        "    # https://en.wikipedia.org/wiki/Chirp\n",
        "    c = (f1-f0)/T\n",
        "    return torch.sin(2*torch.pi*(c*t**2/2 + f0*t))*scale\n",
        "\n",
        "\n",
        "def multi_sine(t, scale=0.5):\n",
        "    f = torch.tensor([2, 10, 3, 4], device=t.device).unsqueeze(dim=1)\n",
        "    A = torch.tensor([2, 0.5, 0.3, 0.8], device=t.device).unsqueeze(dim=1)\n",
        "    return (A*torch.sin(2*torch.pi*t*f)).sum(dim=0)*scale\n",
        "\n",
        "\n",
        "def sine_fun(t, scale=0.5, f=1):\n",
        "    return (scale*torch.sin(2*torch.pi*t*f))\n",
        "\n",
        "\n",
        "def step_fun(t, t1=0.05, scale=0.1):\n",
        "    f = torch.zeros_like(t)\n",
        "    f[t < t1] = 0\n",
        "    f[~(t < t1)] = scale\n",
        "    return f\n",
        "\n",
        "\n",
        "class U_FUNC():\n",
        "    def __init__(self, utype=None, params={}):\n",
        "        super(U_FUNC).__init__()\n",
        "        self.utype = utype\n",
        "        self.params = params  # dict containing parameters for the input function\n",
        "        self.params['T'] = 1.5\n",
        "        self.params['f0'] = 1\n",
        "        self.params['f1'] = 10\n",
        "        self.params['scale'] = 1\n",
        "\n",
        "    def forward(self, t):\n",
        "        ''' time dependent input '''\n",
        "        if self.utype == 'chirp':\n",
        "            u = chirp_fun(t,\n",
        "                          T=self.params['T'],\n",
        "                          f0=self.params['f0'],\n",
        "                          f1=self.params['f1'],\n",
        "                          scale=self.params['scale'])\n",
        "        elif self.utype == 'sine':\n",
        "            u = sine_fun(t, scale=self.params['scale'], f=self.params['f1'])\n",
        "        elif self.utype == 'tanh':\n",
        "            u = (-torch.tanh((t-0.75)*4)+1)/100\n",
        "        elif self.utype == 'multisine':\n",
        "            u = multi_sine(t, scale=self.params['scale'])\n",
        "        elif self.utype == 'step':\n",
        "            u = step_fun(t, t1=0.5)\n",
        "        elif self.utype is None:\n",
        "            u = torch.zeros(t.shape, device=t.device)\n",
        "        u.requires_grad = False\n",
        "        return u\n",
        "\n",
        "\n",
        "class G_FUNC():\n",
        "    def __init__(self, gtype=None, params={}):\n",
        "        super(G_FUNC).__init__()\n",
        "        self.gtype = gtype\n",
        "        self.params = params  # dict containing params on\n",
        "        self.params['q_ref'] = torch.tensor([1.0], device=device)\n",
        "\n",
        "    def forward(self, coords):\n",
        "        ''' state dependent input '''\n",
        "        q1, p1, q2, p2 = torch.split(coords, 1, dim=-1)\n",
        "        if self.gtype == 'simple':\n",
        "            if len(q1.shape) == 1:\n",
        "                dimension = 0\n",
        "            else:\n",
        "                dimension = 1\n",
        "            g = torch.stack((torch.zeros(q1.shape[0], device=q1.device),  # (q1,p1,q2,p2)\n",
        "                             torch.ones(q1.shape[0], device=q1.device),\n",
        "                             torch.zeros(q1.shape[0], device=q1.device),\n",
        "                             torch.ones(q1.shape[0], device=q1.device)), dim=dimension)\n",
        "\n",
        "        # if self.gtype=='setpoint':\n",
        "        #     if len(q.shape)==1:\n",
        "        #         dimension = 0\n",
        "        #     else:\n",
        "        #         dimension = 1\n",
        "        #     g = torch.stack((torch.zeros(q.shape[0]),torch.ones(q.shape[0])*q-self.params['q_ref']), dim=dimension)\n",
        "\n",
        "        elif self.gtype is None:\n",
        "            if len(q1.shape) == 1:\n",
        "                dimension = 0\n",
        "            else:\n",
        "                dimension = 1\n",
        "            g = torch.stack((torch.zeros(q1.shape[0], device=q1.device),  # (q1,p1,q2,p2)\n",
        "                             torch.zeros(q1.shape[0], device=q1.device),\n",
        "                             torch.zeros(q1.shape[0], device=q1.device),\n",
        "                            torch.zeros(q1.shape[0], device=q1.device)), dim=dimension)\n",
        "            # g = torch.zeros((4, q1.shape[0]), device = q1.device)\n",
        "        g.requires_grad = False\n",
        "        return g"
      ]
    },
    {
      "cell_type": "markdown",
      "metadata": {
        "id": "Cq5yMx-F-Yuq"
      },
      "source": [
        "## trajectories"
      ]
    },
    {
      "cell_type": "markdown",
      "metadata": {
        "id": "VhoX0eLVADYw"
      },
      "source": [
        "### single/multiple"
      ]
    },
    {
      "cell_type": "code",
      "execution_count": 405,
      "metadata": {
        "id": "agHuWM8BADH0"
      },
      "outputs": [],
      "source": [
        "'''Functions to generate the trajectories'''\n",
        "\n",
        "\n",
        "def get_trajectory_furuta(device, init_method, num_trajectories, u_func=None, g_func=None, time_steps=20, y0=None, noise_std=0.0, Ts=0.005, C_q1=0.0,\n",
        "                          C_q2=0.0, g=9.81, Jr=5.72*1e-5, Lr=0.085, Mp=0.024, Lp=0.129):\n",
        "    '''\n",
        "    Description:\n",
        "\n",
        "    Inputs:\n",
        "\n",
        "    Outputs:\n",
        "    '''\n",
        "\n",
        "    # sampling time\n",
        "\n",
        "    t_eval = torch.linspace(1, time_steps, time_steps,\n",
        "                            device=device) * Ts  # evaluated times vector\n",
        "    t_span = [Ts, time_steps*Ts]  # [t_start, t_end]\n",
        "\n",
        "    # get initial state\n",
        "    if y0 is None:\n",
        "        y0 = get_init_state(num_trajectories, init_method)\n",
        "        y0 = y0.to(device)\n",
        "\n",
        "    # solve the differential equation using odeint\n",
        "    q_p = odeint(func=lambda t, coords: dynamics_fn_furuta(t, coords, C_q1, C_q2, g, Jr, Lr, Mp, Lp, u_func, g_func),\n",
        "                 y0=y0, t=t_eval, method='rk4', options=dict(step_size=Ts))\n",
        "\n",
        "    q1, p1, q2, p2 = torch.chunk(q_p, 4, dim=-1)\n",
        "\n",
        "    # q1, p1, q2, p2 = torch.chunk(q_p, 4, 1)\n",
        "\n",
        "    # u = u_func.forward(t_eval)\n",
        "    # g = g_func.forward(q_p)\n",
        "\n",
        "    # add noise\n",
        "    if noise_std:\n",
        "        q1 = (q1+torch.randn(q1.shape, device=device)*noise_std)\n",
        "        p1 = (p1+torch.randn(p1.shape, device=device)*noise_std*torch.max(p1))\n",
        "        q2 = (q2+torch.randn(q2.shape, device=device)*noise_std)\n",
        "        p2 = (p2+torch.randn(p2.shape, device=device)*noise_std*torch.max(p2))\n",
        "    # print('q1',q1.shape)\n",
        "    # if not num_trajectories == 1 :\n",
        "    q1 = q1.squeeze(dim=-1).detach()\n",
        "    p1 = p1.squeeze(dim=-1).detach()\n",
        "    q2 = q2.squeeze(dim=-1).detach()\n",
        "    p2 = p2.squeeze(dim=-1).detach()\n",
        "\n",
        "    # .detach() because the pytorch computational graph is no longer needed\n",
        "    # only the value is needed\n",
        "    # .squeeze() to have a desired dimentionality\n",
        "    # *torch.max(p) otherwise noise is too big compared to the generalized momentum\n",
        "\n",
        "    # if num_trajectories == 1 :\n",
        "    #     # so that the vectors will have the correct dimensions if only 1\n",
        "    #     # trajectory is requested\n",
        "    #     q1 = q1.unsqueeze(dim=0)\n",
        "    #     p1 = p1.unsqueeze(dim=0)\n",
        "    #     q2 = q2.unsqueeze(dim=0)\n",
        "    #     p2 = p2.unsqueeze(dim=0)\n",
        "\n",
        "    q1, p1, q2, p2 = q1.permute(1, 0), p1.permute(\n",
        "        1, 0), q2.permute(1, 0), p2.permute(1, 0)\n",
        "\n",
        "    return q1, p1, q2, p2, t_eval.detach()  # u, g, q1, p1, q2, p2, t_eval.detach()\n",
        "\n",
        "def get_init_state(n, init_method):\n",
        "    '''\n",
        "      Returns initial states q1,p1,q2,p2 for the Furuta pendulum \n",
        "      The angular velocities ( /generalized momenmtums) are set to zero\n",
        "    Inputs : \n",
        "      None\n",
        "    Outputs : \n",
        "      y0(tensor) : inital condition\n",
        "\n",
        "    '''\n",
        "\n",
        "    y0 = torch.zeros(n, 4)\n",
        "\n",
        "    if init_method == 'random_nozero':\n",
        "        x = torch.ones(n)\n",
        "        mask = torch.full((n,), fill_value=0.5).bernoulli().bool()\n",
        "        x[mask] = torch.zeros(len(x[mask])).uniform_(0.3, 2)\n",
        "        x[~mask] = torch.zeros(len(x[~mask])).uniform_(-2, -0.3)\n",
        "    elif init_method == 'random_closetozero':\n",
        "        x = torch.zeros(n).uniform_(-0.3, 0.3)\n",
        "    elif init_method == 'random_closetopi':\n",
        "        x = torch.zeros(n).uniform_(torch.pi-0.3, torch.pi+0.3)\n",
        "    elif init_method == 'random_nozero_pos':\n",
        "        x = torch.zeros(y0.shape[0]).uniform_(0.3, 2)\n",
        "    elif init_method == 'random_closetopi_pos':\n",
        "        x = torch.zeros(n).uniform_(torch.positive, torch.pi+0.3)\n",
        "\n",
        "    y0[:, 0] = x\n",
        "\n",
        "    # random_uniform_two_interval() centered around pi\n",
        "    y0[:, 2] = torch.zeros(n).uniform_(torch.pi-1, torch.pi+1)\n",
        "\n",
        "    y0[:, 1] = torch.zeros(n)  # p1 = 0\n",
        "    y0[:, 3] = torch.zeros(n)  # p2 = 0\n",
        "\n",
        "    return y0\n"
      ]
    },
    {
      "cell_type": "markdown",
      "metadata": {
        "id": "FeKAyrylAGJO"
      },
      "source": [
        "### energy"
      ]
    },
    {
      "cell_type": "code",
      "execution_count": 408,
      "metadata": {
        "id": "_tCkBsI7AFb_"
      },
      "outputs": [],
      "source": [
        "''' ENERGY functions '''\n",
        "\n",
        "def coord_derivatives_furuta_energy(t, coords, C_q1, C_q2, g, Jr, Lr, Mp, Lp, u_func, g_func):\n",
        "    '''\n",
        "    Description:\n",
        "        Returns the derivatives of the generalized coordinates\n",
        "\n",
        "    Inputs : \n",
        "      - coords (tensor) : vector containing generalized coordinates q1,p1,q2,p2\n",
        "      - C_q1 (float) : coefficient of friction related to p1 ( and q1)\n",
        "      - C_q2 (float) : coefficient of friction related to p2 ( and q2)\n",
        "\n",
        "    Outputs :\n",
        "      - dq1dt, dp1dt, dq2dt, dp2dt (tensors) : Derivatives w.r.t coords\n",
        "    '''\n",
        "    if coords.requires_grad is not True:  # coords shape: [timesteps, batchnum, (q1,p1,q2,p2)]\n",
        "        coords.requires_grad = True\n",
        "\n",
        "    # Hamiltonian function\n",
        "    H = hamiltonian_fn_furuta(coords, g, Jr, Lr, Mp, Lp)\n",
        "\n",
        "    # gradient of the hamiltornian function wrt the generalized coordinates\n",
        "    # !! might need to add H.sum() if batches used here later\n",
        "    dcoords = torch.autograd.grad(H.sum(), coords, create_graph=True)\n",
        "    # dcoords_temp[0]\n",
        "    # print('coord_derivatives_furuta','dcoords[0]',dcoords[0].shape)\n",
        "    dHdq1, dHdp1, dHdq2, dHdp2 = torch.chunk(dcoords[0], 4, dim=-1)\n",
        "\n",
        "    U = u_func.forward(t)\n",
        "    G = g_func.forward(coords)\n",
        "    if not G.shape[0] == 1:\n",
        "        G = G[0, :].unsqueeze(dim=0)\n",
        "    # print('coord_derivatives_furuta','H',H.shape)\n",
        "    # print('coord_derivatives_furuta','coords',coords.shape)\n",
        "    # print('coord_derivatives_furuta','dHdq1',dHdq1.shape)\n",
        "    # print('coord_derivatives_furuta','U',U.shape)\n",
        "    # print('coord_derivatives_furuta','G',G.shape)\n",
        "    # print('coord_derivatives_furuta','U * G[1]',(U * G[:,1]).shape)\n",
        "    # print('coord_derivatives_furuta','U * G[0]',(U * G[:,0]).shape)\n",
        "    # print('coord_derivatives_furuta','C_q1*dHdp1',(C_q1*dHdp1).shape)\n",
        "    # print('coord_derivatives_furuta','U * G[:,0].unsqueeze(dim=-1)',((U * G[:,0]).unsqueeze(dim=-1)).shape)\n",
        "    # print('coord_derivatives_furuta','U * G[:,0].unsqueeze(dim=1)',((U * G[:,0]).unsqueeze(dim=1)).shape)\n",
        "\n",
        "    # if not len(dHdp1.shape)==2: # to make broadcasting possible\n",
        "    #     dHdq1 , dHdp1, dHdq2 , dHdp2 = dHdp1.squeeze(),dHdq1.squeeze(),dHdp2.squeeze() ,dHdq2.squeeze()\n",
        "    # print('coord_derivatives_furuta','dHdq1',dHdq1.shape)\n",
        "    # print('coord_derivatives_furuta','C_q1*dHdp1',(C_q1*dHdp1).shape)\n",
        "\n",
        "    U_G = (U.unsqueeze(dim=-1) * G).unsqueeze(dim=-1)\n",
        "\n",
        "    # print('coord_derivatives_furuta','U_G',U_G.shape)\n",
        "    # print('coord_derivatives_furuta','U_G[:,0]',U_G[:,0].shape)\n",
        "\n",
        "    dq1dt = dHdp1 + (U_G[:, 0])\n",
        "    dp1dt = - dHdq1 - C_q1*dHdp1 + (U_G[:, 1])\n",
        "    dq2dt = dHdp2 + (U_G[:, 2])\n",
        "    dp2dt = - dHdq2 - C_q2*dHdp2 + (U_G[:, 3])\n",
        "\n",
        "    dq1dt, dp1dt, dq2dt, dp2dt = dq1dt.squeeze(\n",
        "        dim=-1), dp1dt.squeeze(dim=-1), dq2dt.squeeze(dim=-1), dp2dt.squeeze(dim=-1)\n",
        "    return dq1dt, dp1dt, dq2dt, dp2dt\n",
        "\n",
        "def energy_furuta(dq1dt, dq2dt, q1, g, Jr, Lr, Mp, Lp):\n",
        "    '''\n",
        "    Description:\n",
        "\n",
        "    Inputs:\n",
        "\n",
        "    Outpus:\n",
        "\n",
        "    '''\n",
        "    # system constants\n",
        "    Jp = (1/12)*Mp*Lp**2\n",
        "\n",
        "    # function constants\n",
        "    C1 = Jr + Mp*Lr**2\n",
        "    C2 = (1/4)*Mp*Lp**2\n",
        "    C3 = (-1/2)*Mp*Lp*Lr\n",
        "    C4 = Jp+C2\n",
        "    C5 = (1/2)*Mp*g*Lp\n",
        "\n",
        "    E = (1/2) * dq2dt**2 * (C1+C2*torch.sin(q1)**2) + \\\n",
        "        dq2dt*dq1dt*C3*torch.cos(q1)\n",
        "    # print('energy_furuta','dq2dt',dq2dt.shape)\n",
        "    # print('energy_furuta','torch.sin(q1)**2',(torch.sin(q1)**2).shape)\n",
        "    # print('energy_furuta','E',E.shape)\n",
        "    E = E + (1/2)*dq1dt**2 * C4+C5*torch.cos(q1)+C5\n",
        "    # print('energy_furuta','E',E.shape)\n",
        "    return E\n",
        "\n",
        "\n",
        "def get_energy_furuta(device, time_steps, Ts, u_func, g_func, q1, p1, q2, p2, C_q1, C_q2, g, Jr, Lr, Mp, Lp, time_=None):\n",
        "    '''\n",
        "    Description:\n",
        "\n",
        "    Inputs:\n",
        "\n",
        "    Outpus:\n",
        "\n",
        "    '''\n",
        "    energy = []\n",
        "    derivatives = []\n",
        "    if time_ is None:\n",
        "        time_ = torch.linspace(1, time_steps, time_steps, device=device) * Ts\n",
        "    # print('get_energy_furuta','q1',q1.shape)\n",
        "    coords = torch.stack((q1, p1, q2, p2), dim=-1)\n",
        "\n",
        "    dq1dt, dp1dt, dq2dt, dp2dt = coord_derivatives_furuta_energy(time_, coords,\n",
        "                                                                 C_q1, C_q2, g, Jr, Lr, Mp, Lp, u_func, g_func)\n",
        "    # if dq1dt.shape[1]==1:\n",
        "    #     q1 =  q1.unsqueeze(dim=-1)\n",
        "    # print('get_energy_furuta','dq1dt',dq1dt.shape)\n",
        "    # print('get_energy_furuta','q1',q1.shape)\n",
        "    energy = energy_furuta(dq1dt, dq2dt, q1, g, Jr, Lr, Mp, Lp)\n",
        "\n",
        "    derivatives = torch.stack((dq1dt, dp1dt, dq2dt, dp2dt), dim=-1)\n",
        "    return energy, derivatives\n",
        "\n",
        "\n",
        "# NOT TESTED !!!!!!!!!!!!!!!!!!!\n",
        "def get_energy_furuta_newtonian(q1, dq1dt, q2, dq2dt, C_q1, C_q2, g, Jr, Lr, Mp, Lp):\n",
        "    '''\n",
        "    Description:\n",
        "\n",
        "    Inputs:\n",
        "\n",
        "    Outpus:\n",
        "\n",
        "    '''\n",
        "    # energy=[]\n",
        "    # derivatives=[]\n",
        "    # for coords in torch.stack((q1, dq1dt, dq2dt),dim=1):\n",
        "\n",
        "    #   q1_n = coords[0]\n",
        "    #   dq1dt = coords[1]\n",
        "    #   dq2dt = coords[2]\n",
        "    #   energy.append(energy_furuta(dq1dt,dq2dt,q1_n, g, Jr, Lr, Mp, Lp))\n",
        "\n",
        "    # energy = torch.hstack(energy).detach()\n",
        "\n",
        "    energy = []\n",
        "    derivatives = []\n",
        "    t = torch.linspace(1, time_steps, time_steps, device=device) * Ts\n",
        "\n",
        "    energy = energy_furuta(dq1dt, dq2dt, q1, g, Jr, Lr, Mp, Lp)\n",
        "\n",
        "    # derivatives = torch.stack((dq1dt, dp1dt, dq2dt, dp2dt),dim=-1)\n",
        "\n",
        "    return energy, _\n"
      ]
    },
    {
      "cell_type": "markdown",
      "metadata": {
        "id": "ItjgD4wyAHJ-"
      },
      "source": [
        "### multiple traj+energy wrapper"
      ]
    },
    {
      "cell_type": "code",
      "execution_count": 409,
      "metadata": {
        "id": "vV3LC_Pc_xrN"
      },
      "outputs": [],
      "source": [
        "''' MULTIPLE TRAJECTORIES '''\n",
        "\n",
        "\n",
        "def multiple_trajectories_furuta(device, init_method, time_steps, num_trajectories, u_func=None, g_func=None,\n",
        "                                 y0=torch.tensor([1.0, 0.0, 1.0, 0.0]), Ts=0.005,\n",
        "                                 noise_std=0.0, C_q1=0.0, C_q2=0.0, g=9.81,\n",
        "                                 Jr=5.72*1e-5, Lr=0.085, Mp=0.024, Lp=0.129, energ_deriv=True):\n",
        "    '''\n",
        "    Description:\n",
        "\n",
        "    Inputs:\n",
        "\n",
        "    Outpus:\n",
        "\n",
        "    '''\n",
        "    # the first trajectory\n",
        "    q1, p1, q2, p2, t_eval = get_trajectory_furuta(device, init_method, num_trajectories, u_func, g_func, time_steps, y0, noise_std,\n",
        "                                                   Ts, C_q1, C_q2, g, Jr, Lr,\n",
        "                                                   Mp, Lp)  # u, G,\n",
        "    energy = []\n",
        "    derivatives = []\n",
        "    # # G = G.unsqueeze(dim=0)\n",
        "    if energ_deriv:\n",
        "        energy, derivatives = get_energy_furuta(\n",
        "            device, time_steps, Ts, u_func, g_func, q1, p1, q2, p2, C_q1, C_q2, g, Jr, Lr, Mp, Lp)\n",
        "    # print(q1.shape)\n",
        "    # if not len(q1.shape)==1:\n",
        "    #     # q1, p1, q2, p2, energy, derivatives = q1.permute(1,0), p1.permute(1,0), q2.permute(1,0), p2.permute(1,0), energy.permute(1,0), derivatives.permute(1,0,2)\n",
        "    #       energy, derivatives =  energy.permute(1,0), derivatives.permute(1,0,2)\n",
        "\n",
        "    # if num_trajectories == 1 :\n",
        "    #     # so that the vectors will have the correct dimensions if only 1\n",
        "    #     # trajectory is requested\n",
        "    #     # q1 = q1.unsqueeze(dim=0)\n",
        "    #     # p1 = p1.unsqueeze(dim=0)\n",
        "    #     # q2 = q2.unsqueeze(dim=0)\n",
        "    #     # p2 = p2.unsqueeze(dim=0)\n",
        "\n",
        "    #     if energ_deriv:\n",
        "    #       energy = energy.unsqueeze(dim=0)\n",
        "\n",
        "    return q1, p1, q2, p2, energy, derivatives, t_eval  # u, G,\n"
      ]
    },
    {
      "cell_type": "markdown",
      "metadata": {
        "id": "nCOtyABh-kAv"
      },
      "source": [
        "## dataset & dataloader"
      ]
    },
    {
      "cell_type": "code",
      "execution_count": 410,
      "metadata": {
        "id": "lYmILMMLAQfD"
      },
      "outputs": [],
      "source": [
        "class TrajectoryDataset_furuta(Dataset):\n",
        "    '''\n",
        "    Description:\n",
        "\n",
        "    Inputs:\n",
        "\n",
        "    Outpus:\n",
        "\n",
        "    '''\n",
        "\n",
        "    def __init__(self, q1, p1, q2, p2, t_eval,  # energy=torch.tensor(False),\n",
        "                 derivatives, coord_type='hamiltonian'):  # u, G,\n",
        "        self.t_eval = t_eval\n",
        "        self.coord_type = coord_type\n",
        "        self.q1 = q1  # [num_trajectories, time_steps]\n",
        "        self.p1 = p1  # [num_trajectories, time_steps]\n",
        "        self.q2 = q2  # [num_trajectories, time_steps]\n",
        "        self.p2 = p2  # [num_trajectories, time_steps]\n",
        "        # self.u = u # [num_trajectories, time_steps]\n",
        "        # self.G = G # [num_trajectories, time_steps, (g1,g2,g3,g4)]\n",
        "        if len(derivatives.shape) == 3:\n",
        "            # [num_trajectories, time_steps, (dq1/dt,dp1/dt,dq2/dt,dp2/dt)]\n",
        "            self.dq1dt = derivatives[:, :, 0]\n",
        "            self.dq2dt = derivatives[:, :, 2]\n",
        "        else:\n",
        "            # [num_trajectories, time_steps, (dq1/dt,dp1/dt,dq2/dt,dp2/dt)]\n",
        "            self.dq1dt = derivatives[:, 0]\n",
        "            self.dq2dt = derivatives[:, 2]\n",
        "\n",
        "    def __len__(self):\n",
        "        return len(self.q1)\n",
        "\n",
        "    def __getitem__(self, idx):\n",
        "\n",
        "        if self.coord_type == 'hamiltonian':\n",
        "\n",
        "            q1 = self.q1[idx]\n",
        "            p1 = self.p1[idx]\n",
        "            q2 = self.q2[idx]\n",
        "            p2 = self.p2[idx]\n",
        "            # u = self.u[idx]\n",
        "            # G = self.G[idx]\n",
        "            x = torch.stack((q1, p1, q2, p2), dim=1)  # ,u\n",
        "            # x = torch.hstack((x,G))\n",
        "\n",
        "        if self.coord_type == 'newtonian':\n",
        "\n",
        "            q1 = self.q1[idx]\n",
        "            q2 = self.q2[idx]\n",
        "            dq1dt = self.dq1dt[idx]\n",
        "            dq2dt = self.dq2dt[idx]\n",
        "\n",
        "            x = torch.vstack((q1, dq1dt, q2, dq2dt))\n",
        "\n",
        "        t_eval = self.t_eval\n",
        "\n",
        "        return x, t_eval\n",
        "\n",
        "\n",
        "def data_loader_furuta(q1, p1, q2, p2, energy, derivatives, t_eval, batch_size,\n",
        "                       shuffle=True, proportion=0.5, coord_type='hamiltonian'):  # u, G,\n",
        "    '''\n",
        "    Description:\n",
        "\n",
        "    Inputs:\n",
        "\n",
        "    Outpus:\n",
        "\n",
        "    '''\n",
        "    # split  into train and test\n",
        "    full_dataset = TrajectoryDataset_furuta(\n",
        "        q1, p1, q2, p2, t_eval, derivatives, coord_type=coord_type)  # u, G,\n",
        "    if proportion:\n",
        "\n",
        "        train_size = int(proportion * len(full_dataset))\n",
        "        test_size = len(full_dataset) - train_size\n",
        "\n",
        "        train_dataset, test_dataset = random_split(\n",
        "            full_dataset, [train_size, test_size])\n",
        "\n",
        "        test_loader = DataLoader(\n",
        "            test_dataset,\n",
        "            batch_size,\n",
        "            shuffle\n",
        "        )\n",
        "    else:\n",
        "      # if proportion is set to None don't split the dataset\n",
        "        train_dataset = full_dataset\n",
        "        energy_train = energy\n",
        "        derivatives_train = derivatives\n",
        "        t_eval_train = t_eval\n",
        "        test_loader = None\n",
        "\n",
        "    # create the dataloader object from the custom dataset\n",
        "    train_loader = DataLoader(\n",
        "        train_dataset,\n",
        "        batch_size,\n",
        "        shuffle\n",
        "    )\n",
        "\n",
        "    return train_loader, test_loader\n"
      ]
    },
    {
      "cell_type": "markdown",
      "metadata": {
        "id": "Hp4nC5YW-r4x"
      },
      "source": [
        "## models"
      ]
    },
    {
      "cell_type": "markdown",
      "metadata": {
        "id": "kqdZxOkCEgPT"
      },
      "source": [
        "### base models"
      ]
    },
    {
      "cell_type": "markdown",
      "metadata": {
        "id": "m6esDXasrZIe"
      },
      "source": [
        "#### MLP"
      ]
    },
    {
      "cell_type": "code",
      "execution_count": 411,
      "metadata": {
        "id": "7JO7Pja0Egrj"
      },
      "outputs": [],
      "source": [
        "def choose_nonlinearity(name):\n",
        "    '''\n",
        "    From the SymODEN repository\n",
        "    returns an activation function that can be evaluated\n",
        "    '''\n",
        "    nl = None\n",
        "    if name == 'tanh':\n",
        "        nl = torch.tanh\n",
        "    elif name == 'x+sin(x)^2':\n",
        "        def nl(x): return x + torch.sin(x).pow(2)\n",
        "    else:\n",
        "        raise ValueError(\"nonlinearity not recognized\")\n",
        "    return nl\n",
        "\n",
        "\n",
        "class hidden_Layer(torch.nn.Module):\n",
        "    '''\n",
        "    Fully connected layer with activation function\n",
        "    '''\n",
        "\n",
        "    def __init__(self, hidden_dim, activation='tanh'):\n",
        "        super().__init__()\n",
        "        self.fc = torch.nn.Linear(hidden_dim, hidden_dim)\n",
        "        self.activation = choose_nonlinearity(\n",
        "            activation)  # activation function\n",
        "\n",
        "    def forward(self, x):\n",
        "        x = self.activation(self.fc(x))\n",
        "        return x\n",
        "\n",
        "\n",
        "class MLP(torch.nn.Module):\n",
        "    '''\n",
        "    MLP with number of hidden layers as a parameter\n",
        "    '''\n",
        "\n",
        "    def __init__(self, input_dim=2, hidden_dim=90, nb_hidden_layers=4, output_dim=1, activation='x+sin(x)^2'):\n",
        "        super(MLP, self).__init__()\n",
        "        self.fc1 = torch.nn.Linear(input_dim, hidden_dim)\n",
        "        self.hidden_layers = torch.nn.Sequential(\n",
        "            *(hidden_Layer(hidden_dim, activation)\n",
        "              for _ in range(nb_hidden_layers))\n",
        "        )  # trick from EE-559 to define hidden layers\n",
        "        self.fc2 = torch.nn.Linear(hidden_dim, output_dim)\n",
        "        self.activation = choose_nonlinearity(\n",
        "            activation)  # activation function\n",
        "\n",
        "    def forward(self, x):\n",
        "        h = self.activation(self.fc1(x))\n",
        "        h = self.hidden_layers(h)\n",
        "        return self.fc2(h)\n"
      ]
    },
    {
      "cell_type": "markdown",
      "metadata": {
        "id": "1h9Hj0R4rZIf"
      },
      "source": [
        "#### ResNets"
      ]
    },
    {
      "cell_type": "code",
      "execution_count": 412,
      "metadata": {
        "id": "eM86drgerZIg"
      },
      "outputs": [],
      "source": [
        "class ResNet_config1(torch.nn.Module):\n",
        "    '''\n",
        "    Model compose of [ MLP - RESBLOCK1 - RESBLOCK2] used in the following way:\n",
        "    First we train the model with only the MLP, then we introduce RESBLOCK1 when we increase the horizon, \n",
        "    but initialise RESBLOCK1 with very small weights, \n",
        "    '''\n",
        "\n",
        "    def __init__(self, resblock_list, num_blocks=4, input_dim=4, hidden_dim=90, nb_hidden_layers=1, output_dim=1, activation_res='x+sin(x)^2', activation_mlp='x+sin(x)^2'):\n",
        "        super(ResNet_config1, self).__init__()\n",
        "\n",
        "        self.resblocks = [MLP(input_dim=output_dim, hidden_dim=hidden_dim, nb_hidden_layers=nb_hidden_layers,\n",
        "                              output_dim=output_dim, activation=activation_res) for _ in range(num_blocks)]\n",
        "\n",
        "        self.mlp = MLP(input_dim=input_dim, hidden_dim=hidden_dim, nb_hidden_layers=nb_hidden_layers,\n",
        "                       output_dim=output_dim, activation=activation_mlp)\n",
        "\n",
        "        self.resblock_list = resblock_list\n",
        "\n",
        "        self.make_params_small()  # make the resblock parameters small\n",
        "\n",
        "    def forward(self, x):\n",
        "\n",
        "        y = self.mlp(x)\n",
        "\n",
        "        for i in self.resblock_list:\n",
        "            y = self.resblocks[i](y) + y\n",
        "\n",
        "        return y\n",
        "\n",
        "    def make_params_small(self):\n",
        "        with torch.no_grad():\n",
        "            for i in range(len(self.resblocks)):\n",
        "                for param in self.resblocks[i].parameters():\n",
        "                    param.copy_(param/1000)\n"
      ]
    },
    {
      "cell_type": "code",
      "execution_count": 413,
      "metadata": {
        "id": "kKJPjw1lrZIi"
      },
      "outputs": [],
      "source": [
        "class ResNet_config2(torch.nn.Module):\n",
        "    '''\n",
        "    MLP with number of hidden layers as a parameter\n",
        "    '''\n",
        "\n",
        "    def __init__(self, resblock_list, num_blocks=4, input_dim=4, hidden_dim=25, nb_hidden_layers=2, output_dim=1, activation_res='x+sin(x)^2', activation_mlp='x+sin(x)^2'):\n",
        "        super(ResNet_config2, self).__init__()\n",
        "\n",
        "        self.resblocks = [MLP(input_dim=input_dim, hidden_dim=hidden_dim, nb_hidden_layers=nb_hidden_layers,\n",
        "                              output_dim=input_dim, activation=activation_res) for _ in range(num_blocks)]\n",
        "\n",
        "        self.mlp = MLP(input_dim=input_dim, hidden_dim=hidden_dim, nb_hidden_layers=nb_hidden_layers,\n",
        "                       output_dim=output_dim, activation=activation_mlp)\n",
        "\n",
        "        self.alpha = torch.tensor([1])\n",
        "\n",
        "        self.resblock_list = resblock_list\n",
        "\n",
        "    def forward(self, x):\n",
        "        y = x\n",
        "\n",
        "        for i in self.resblock_list:\n",
        "            y = self.resblocks[i](y)*self.alpha + y\n",
        "\n",
        "        y = self.mlp(y)\n",
        "        return y\n",
        "\n",
        "    def init_new_resblocks_two(self, i, j):\n",
        "        # i and j are the new resblocks to be initialised\n",
        "        # in our simple case we introduce reblocks 1 and 2 between resblocks 0 and 3\n",
        "\n",
        "        with torch.no_grad():\n",
        "            for param1, param2, param3, param4 in zip(self.resblocks[i-1].parameters(), self.resblocks[i].parameters(), self.resblocks[j].parameters(), self.resblocks[j+1].parameters()):\n",
        "\n",
        "                param2.copy_((param1 + param2)/2)\n",
        "                param3.copy_((param3 + param4)/2)\n",
        "\n",
        "    def init_new_resblocks(self, i, j, k):\n",
        "        # i is the new resblocks to be initialised\n",
        "        # in our simple case we introduce reblocks 1 and 2 between resblocks 0 and 3\n",
        "\n",
        "        with torch.no_grad():\n",
        "            for param1, param2, param3 in zip(self.resblocks[i].parameters(), self.resblocks[j].parameters(), self.resblocks[k].parameters()):\n",
        "                param2.copy_((param1 + param3)/2)\n"
      ]
    },
    {
      "cell_type": "code",
      "execution_count": 414,
      "metadata": {
        "id": "P1WASDsPxR0s"
      },
      "outputs": [],
      "source": [
        "class ResNet_config3(torch.nn.Module):\n",
        "    '''\n",
        "    Model compose of [RESBLOCK1 - RESBLOCK2 - MLP] used in the following way:\n",
        "    First we train the model with only the MLP, then we introduce RESBLOCK1 when we increase the horizon, \n",
        "    but initialise RESBLOCK2 with very small weights, \n",
        "    '''\n",
        "\n",
        "    def __init__(self, resblock_list, num_blocks=4, input_dim=4, hidden_dim=90, nb_hidden_layers=1, output_dim=1, activation_res='x+sin(x)^2', activation_mlp='x+sin(x)^2'):\n",
        "        super(ResNet_config3, self).__init__()\n",
        "\n",
        "        self.resblocks = [MLP(input_dim=input_dim, hidden_dim=hidden_dim, nb_hidden_layers=nb_hidden_layers,\n",
        "                              output_dim=input_dim, activation=activation_res) for _ in range(num_blocks)]\n",
        "\n",
        "        self.mlp = MLP(input_dim=input_dim, hidden_dim=hidden_dim, nb_hidden_layers=nb_hidden_layers,\n",
        "                       output_dim=output_dim, activation=activation_mlp)\n",
        "\n",
        "        self.resblock_list = resblock_list\n",
        "        self.make_params_small()  # make the resblock parameters small\n",
        "\n",
        "    def forward(self, x):\n",
        "\n",
        "        y = x\n",
        "\n",
        "        for i in self.resblock_list:\n",
        "            y = self.resblocks[i](y) + y\n",
        "        y = self.mlp(y)\n",
        "        return y\n",
        "\n",
        "    def make_params_small(self):\n",
        "        with torch.no_grad():\n",
        "            for i in range(len(self.resblocks)):\n",
        "                for param in self.resblocks[i].parameters():\n",
        "                    param.copy_(param/1000)\n"
      ]
    },
    {
      "cell_type": "markdown",
      "metadata": {
        "id": "bi6LkasyEW9Z"
      },
      "source": [
        "### simple_HNN : simple mlp / Unconstrained HNN"
      ]
    },
    {
      "cell_type": "code",
      "execution_count": 415,
      "metadata": {
        "id": "b7aGsR_REW4Z"
      },
      "outputs": [],
      "source": [
        "class U_HNN(torch.nn.Module):\n",
        "    '''\n",
        "    Modified version of the original SymODEN_R module from symoden repository\n",
        "    Similar to unconstrained ODE HNN from the report\n",
        "\n",
        "    '''\n",
        "\n",
        "    def __init__(self, input_dim, H_net=None, device=None):\n",
        "        super(U_HNN, self).__init__()\n",
        "        self.H_net = H_net\n",
        "\n",
        "        self.device = device\n",
        "        self.input_dim = input_dim\n",
        "\n",
        "        # add learnable dissipation coefficients\n",
        "        # torch.nn.Parameter(torch.randn(1)+1) # torch.nn.Parameter(torch.tensor([0.5]))\n",
        "        self.C1_dissip = torch.nn.Parameter(torch.tensor([0.02]).sqrt())\n",
        "        self.C1_dissip.requires_grad = True\n",
        "        # torch.nn.Parameter(torch.randn(1)+1) # torch.nn.Parameter(torch.tensor([0.5]))\n",
        "        self.C2_dissip = torch.nn.Parameter(torch.tensor([0.02]).sqrt())\n",
        "        self.C2_dissip.requires_grad = True\n",
        "\n",
        "    def forward(self, t, x):\n",
        "        with torch.enable_grad():\n",
        "            q_p = x\n",
        "\n",
        "            # q1,p1,q2,p2 = torch.chunk(x,4,dim=-1)\n",
        "\n",
        "            q_p.requires_grad_(True)\n",
        "\n",
        "            H = self.H_net(q_p)\n",
        "\n",
        "            # .sum() to sum up the hamiltonian funcs of a batch\n",
        "            dH = torch.autograd.grad(H.sum(), q_p, create_graph=True)\n",
        "\n",
        "            dH = dH[0]\n",
        "\n",
        "            dHdq1, dHdp1, dHdq2, dHdp2 = torch.chunk(dH, 4, dim=-1)\n",
        "\n",
        "            dq1dt = dHdp1\n",
        "            dp1dt = -dHdq1 - self.C1_dissip.pow(2)*dHdp1\n",
        "            dq2dt = dHdp2\n",
        "            dp2dt = -dHdq2 - self.C2_dissip.pow(2)*dHdp2\n",
        "\n",
        "            # symplectic gradient\n",
        "            S_h = torch.cat((dq1dt, dp1dt, dq2dt, dp2dt),\n",
        "                            dim=-1)\n",
        "\n",
        "            return S_h\n"
      ]
    },
    {
      "cell_type": "markdown",
      "metadata": {
        "id": "qj6TCrYnEWyg"
      },
      "source": [
        "### latent_HNN : autoencoder"
      ]
    },
    {
      "cell_type": "code",
      "execution_count": 416,
      "metadata": {
        "id": "jz4e79BdEWtZ"
      },
      "outputs": [],
      "source": [
        "class Autoencoder(torch.nn.Module):\n",
        "    '''\n",
        "    '''\n",
        "\n",
        "    def __init__(self, nb_hidden_layers=1,  hidden_dim=64, activation='tanh', config='latent'):\n",
        "        super(Autoencoder, self).__init__()\n",
        "\n",
        "        self.config = config\n",
        "        if self.config == 'latent':\n",
        "            enc_in_dim = 4\n",
        "            enc_out_dim = 2\n",
        "            dec_in_dim = 4\n",
        "            dec_out_dim = 4\n",
        "\n",
        "        elif self.config == 'encoded':\n",
        "            enc_in_dim = 4\n",
        "            enc_out_dim = 4\n",
        "            dec_in_dim = 4\n",
        "            dec_out_dim = 4\n",
        "\n",
        "        self.encoder = MLP(input_dim=enc_in_dim, hidden_dim=hidden_dim,\n",
        "                           nb_hidden_layers=nb_hidden_layers, output_dim=enc_out_dim, activation=activation)\n",
        "\n",
        "        self.decoder = MLP(input_dim=dec_in_dim, hidden_dim=hidden_dim,\n",
        "                           nb_hidden_layers=nb_hidden_layers, output_dim=dec_out_dim, activation=activation)\n",
        "\n",
        "    def forward(self, x):  # x is (q, q_dot)\n",
        "\n",
        "        if self.config == 'latent':\n",
        "            q1, p1, q2, p2 = torch.split(x, 1, dim=-1)\n",
        "\n",
        "            p_hat = self.encoder(x)  # coordinates in the latent space\n",
        "\n",
        "            # input known q and encoded z into decoder\n",
        "            z = torch.stack((q1[:, :, 0], p_hat[:, :, 0],\n",
        "                            q2[:, :, 0], p_hat[:, :, 1]), dim=2)\n",
        "\n",
        "            # coordinates back in the original space but using the decoder\n",
        "            x_hat = self.decoder(z)\n",
        "\n",
        "            # x_hat = torch.stack((q1[:,:,0],q_dot_hat[:,:,0],q2[:,:,0],q_dot_hat[:,:,1]),dim=2)\n",
        "\n",
        "            # x_hat = torch.stack((q1[:,:,0],q_dot_hat[:,:,0],q2[:,:,0],q_dot_hat[:,:,1]),dim=2)\n",
        "        if self.config == 'encoded':\n",
        "            z = self.encoder(x)\n",
        "            x_hat = self.decoder(z)\n",
        "\n",
        "        return z, x_hat\n"
      ]
    },
    {
      "cell_type": "markdown",
      "metadata": {
        "id": "FmrjnJ5xEWbh"
      },
      "source": [
        "### input_HNN"
      ]
    },
    {
      "cell_type": "code",
      "execution_count": 455,
      "metadata": {
        "id": "wR1UsX-_EWEm"
      },
      "outputs": [],
      "source": [
        "class Nes_HDNN(torch.nn.Module):\n",
        "    '''\n",
        "    Modified version of the original SymODEN_R module from symoden repository\n",
        "    Similar to unconstrained ODE HNN from the report\n",
        "    '''\n",
        "\n",
        "    def __init__(self, u_func=None, G_net=None, H_net=None, device=None, dissip=False):\n",
        "        super(Nes_HDNN, self).__init__()\n",
        "        self.H_net = H_net\n",
        "        self.G_net = G_net\n",
        "        self.u_func = u_func\n",
        "        self.device = device\n",
        "        self.dissip = dissip\n",
        "        # add learnable dissipation coefficients 0.000009, 0.00004\n",
        "        # torch.nn.Parameter(torch.randn(1)+1) # torch.nn.Parameter(torch.tensor([0.5]))\n",
        "        self.C1_dissip = torch.nn.Parameter(torch.tensor([0.000009]).sqrt())\n",
        "        self.C1_dissip.requires_grad = True\n",
        "        # torch.nn.Parameter(torch.randn(1)+1) # torch.nn.Parameter(torch.tensor([0.5]))\n",
        "        self.C2_dissip = torch.nn.Parameter(torch.tensor([0.00004]).sqrt())\n",
        "        self.C2_dissip.requires_grad = True\n",
        "\n",
        "    def forward(self, t, x):\n",
        "        with torch.enable_grad():\n",
        "            q_p = x[:, :4]\n",
        "\n",
        "            # q1, p1, q2, p2 = torch.chunk(x,4,dim=-1)\n",
        "\n",
        "            q_p.requires_grad_(True)\n",
        "\n",
        "            H = self.H_net(q_p)\n",
        "\n",
        "            # .sum() to sum up the hamiltonian funcs of a batch\n",
        "            dH = torch.autograd.grad(H.sum(), q_p, create_graph=True)\n",
        "\n",
        "            dHdq1, dHdp1, dHdq2, dHdp2 = torch.chunk(dH[0], 4, dim=-1)\n",
        "\n",
        "            # if self.G_net:\n",
        "            G = self.G_net.forward(q_p)\n",
        "            # print(G.device)\n",
        "            # else:\n",
        "            #     G = x[:,5:]\n",
        "            # if self.u_func:\n",
        "            u = self.u_func.forward(t)\n",
        "            # print(u.device)\n",
        "            # else:\n",
        "            #     u = x[:,4]\n",
        "            # print('q_p',q_p.shape)\n",
        "            # print('G',G.shape)\n",
        "            # print('u',u.shape, u)\n",
        "            # print('dHdq1',dHdq1.shape)\n",
        "\n",
        "            dq1dt = dHdp1\n",
        "            dq2dt = dHdp2\n",
        "            if self.dissip:\n",
        "\n",
        "                dp1dt = -dHdq1 + (G[:, 1]*u).unsqueeze(dim=1) - self.C1_dissip.pow(2)*dHdp1\n",
        "                dp2dt = -dHdq2 + (G[:, 3]*u).unsqueeze(dim=1) - self.C2_dissip.pow(2)*dHdp2\n",
        "            else:\n",
        "                dp1dt = -dHdq1 + (G[:, 1]*u).unsqueeze(dim=1)\n",
        "                dp2dt = -dHdq2 + (G[:, 3]*u).unsqueeze(dim=1)\n",
        "            # symplectic gradient\n",
        "            # zeros = torch.zeros_like(dq1dt)\n",
        "            # , zeros, zeros, zeros, zeros, zeros\n",
        "            S_h = torch.cat((dq1dt, dp1dt, dq2dt, dp2dt), dim=-1)\n",
        "            return S_h\n",
        "\n",
        "    def freeze_G_net(self, freeze=True):\n",
        "        \"\"\"\n",
        "        Only freez the G_net parameters\n",
        "        Inputs\n",
        "            freeze(bool) : True = freeze the parameters; False = don't\n",
        "\n",
        "        outputs:\n",
        "            None\n",
        "\n",
        "        \"\"\"\n",
        "        for param in self.G_net.parameters():\n",
        "            param.requires_grad = (not freeze)\n",
        "\n",
        "    def freeze_H_net(self, freeze=True):\n",
        "        \"\"\"\n",
        "        Only freez the H_net parameters\n",
        "        Inputs\n",
        "            freeze(bool) : True = freeze the parameters; False = don't\n",
        "\n",
        "        outputs:\n",
        "            None\n",
        "        \"\"\"\n",
        "        for param in self.H_net.parameters():\n",
        "            param.requires_grad = (not freeze)\n"
      ]
    },
    {
      "cell_type": "markdown",
      "metadata": {
        "id": "-xLuM9kz-yLr"
      },
      "source": [
        "## plots"
      ]
    },
    {
      "cell_type": "markdown",
      "metadata": {
        "id": "vUHxkWU5E6lm"
      },
      "source": [
        "### for data"
      ]
    },
    {
      "cell_type": "code",
      "execution_count": 418,
      "metadata": {
        "id": "M-T8gGtbE6S8"
      },
      "outputs": [],
      "source": [
        "def plot_traj_furuta(t_eval, q1, p1, q2, p2, energy=torch.tensor(False),\n",
        "                     title='Trajectory of the generalized coordinates', coord_type='hamiltonian'):\n",
        "    '''\n",
        "    This function plots the generalised variables q1, p1, q2, p2, and the energy \n",
        "    at the time t_eval at which they were evaluated\n",
        "    Inputs:\n",
        "      t_eval (tensor) : vector containing evaluation times of the generalized coordinates\n",
        "      q1 (tensor) : generalized position q1\n",
        "      p1 (tensor) : generalized momentum p1\n",
        "      q2 (tensor) : generalized position q1\n",
        "      p2 (tensor) : generalized momentum p2\n",
        "      energy (tensor) : energy evaluated at the provided coordinates, if\n",
        "          not provided, it will not appear in the plot (default = torch.tensor(False))\n",
        "    Outputs:\n",
        "      None\n",
        "    '''\n",
        "    # TODO : make this work for two columns\n",
        "    if torch.any(energy):\n",
        "\n",
        "        fig, (ax1, ax2, ax3, ax4, ax5) = plt.subplots(1, 5, figsize=(\n",
        "            15, 4), constrained_layout=True, sharex=True)  # , sharey=True)\n",
        "        ax5.plot(t_eval, energy, label='energy')\n",
        "\n",
        "        # ax1.legend()\n",
        "        ax5.set_title('Energy', fontsize=10)\n",
        "        ax5.set_xlabel('time (s)')\n",
        "        ax5.set_ylabel('E')\n",
        "        ax5.set_ylim((0, torch.max(energy)*1.1))\n",
        "    else:\n",
        "        fig, (ax1, ax2, ax3, ax4) = plt.subplots(1, 4, figsize=(12, 4),\n",
        "                                                 constrained_layout=True, sharex=True)  # , sharey=True)\n",
        "\n",
        "    ax1.plot(t_eval, q1, label='q1')\n",
        "    ax2.plot(t_eval, p1, label='p1')\n",
        "    ax3.plot(t_eval, q2, label='q2')\n",
        "    ax4.plot(t_eval, p2, label='p2')\n",
        "\n",
        "    # ax1.legend()\n",
        "    ax1.set_title('generalized position (q1)', fontsize=10)\n",
        "    ax1.set_xlabel('time[s]')\n",
        "    ax1.set_ylabel('q1[rad]')\n",
        "\n",
        "    # ax2.legend()\n",
        "    ax2.set_title('generalized momentum (p1)', fontsize=10)\n",
        "    ax2.set_xlabel('time [s]')\n",
        "    ax2.set_ylabel('p1')\n",
        "\n",
        "    ax3.set_title('generalized position (q2)', fontsize=10)\n",
        "    ax3.set_xlabel('time [s]')\n",
        "    ax3.set_ylabel('q2[rad]')\n",
        "\n",
        "    ax4.set_title('generalized momentum (p2)', fontsize=10)\n",
        "    ax4.set_xlabel('time [s]')\n",
        "    ax4.set_ylabel('p2')\n",
        "\n",
        "    if coord_type == 'newtonian':\n",
        "        ax2.set_title(r'$\\dot{q1}[rad/s]$', fontsize=10)\n",
        "        ax2.set_ylabel(r'$\\dot{q1}[rad/s]$')\n",
        "        ax4.set_title(r'$\\dot{q2}[rad/s]$', fontsize=10)\n",
        "        ax4.set_ylabel(r'$\\dot{q2}[rad/s]$')\n",
        "\n",
        "    fig.suptitle(title, fontsize=12)\n",
        "    plt.show()\n",
        "    return\n"
      ]
    },
    {
      "cell_type": "code",
      "execution_count": 419,
      "metadata": {
        "id": "fuNOJwpN0eaA"
      },
      "outputs": [],
      "source": [
        "def plot_traj_furuta_withinput(t_eval, q1, p1, q2, p2, energy=None, input=None,\n",
        "                               title='Trajectory of the generalized coordinates', coord_type='hamiltonian'):\n",
        "    '''\n",
        "    This function plots the generalised variables q1, p1, q2, p2, and the energy \n",
        "    at the time t_eval at which they were evaluated\n",
        "    Inputs:\n",
        "      t_eval (tensor) : vector containing evaluation times of the generalized coordinates\n",
        "      q1 (tensor) : generalized position q1\n",
        "      p1 (tensor) : generalized momentum p1\n",
        "      q2 (tensor) : generalized position q1\n",
        "      p2 (tensor) : generalized momentum p2\n",
        "      energy (tensor) : energy evaluated at the provided coordinates, if\n",
        "          not provided, it will not appear in the plot (default = torch.tensor(False))\n",
        "    Outputs:\n",
        "      None\n",
        "    '''\n",
        "    # TODO : make this work for two columns\n",
        "\n",
        "    fig, ax = plt.subplots(2, 3, figsize=(\n",
        "        15, 4), constrained_layout=True, sharex=True)  # , sharey=True)\n",
        "    if energy is not None:\n",
        "        ax[1, 2].plot(t_eval, energy, label='energy')\n",
        "        ax[1, 2].set_title('Energy', fontsize=10)\n",
        "        ax[1, 2].set_xlabel('time (s)')\n",
        "        ax[1, 2].set_ylabel('E')\n",
        "        ax[1, 2].set_ylim((0, torch.max(energy)*1.1))\n",
        "    else:\n",
        "        ax[1, 2].set_axis_off()\n",
        "\n",
        "    ax[0, 2].plot(t_eval, input)\n",
        "    ax[0, 2].set_title('Input', fontsize=10)\n",
        "    ax[0, 2].set_xlabel('time (s)')\n",
        "    ax[0, 2].set_ylabel('U')\n",
        "\n",
        "    ax[0, 0].plot(t_eval, q1, label='q1')\n",
        "    ax[0, 0].set_title('generalized position (q1)', fontsize=10)\n",
        "    ax[0, 0].set_xlabel('time[s]')\n",
        "    ax[0, 0].set_ylabel('q1[rad]')\n",
        "\n",
        "    ax[1, 0].plot(t_eval, p1, label='p1')\n",
        "    ax[1, 0].set_title('generalized momentum (p1)', fontsize=10)\n",
        "    ax[1, 0].set_xlabel('time [s]')\n",
        "    ax[1, 0].set_ylabel('p1')\n",
        "\n",
        "    ax[0, 1].plot(t_eval, q2, label='q2')\n",
        "    ax[0, 1].set_title('generalized position (q2)', fontsize=10)\n",
        "    ax[0, 1].set_xlabel('time [s]')\n",
        "    ax[0, 1].set_ylabel('q2[rad]')\n",
        "\n",
        "    ax[1, 1].plot(t_eval, p2, label='p2')\n",
        "    ax[1, 1].set_title('generalized momentum (p2)', fontsize=10)\n",
        "    ax[1, 1].set_xlabel('time [s]')\n",
        "    ax[1, 1].set_ylabel('p2')\n",
        "\n",
        "    if coord_type == 'newtonian':\n",
        "        ax[1, 0].set_title(r'$\\dot{q1}[rad/s]$', fontsize=10)\n",
        "        ax[1, 0].set_ylabel(r'$\\dot{q1}[rad/s]$')\n",
        "        ax[1, 1].set_title(r'$\\dot{q2}[rad/s]$', fontsize=10)\n",
        "        ax[1, 1].set_ylabel(r'$\\dot{q2}[rad/s]$')\n",
        "\n",
        "    fig.suptitle(title, fontsize=12)\n",
        "    plt.show()\n",
        "    return\n"
      ]
    },
    {
      "cell_type": "markdown",
      "metadata": {
        "id": "dZhWzhFnE9cq"
      },
      "source": [
        "### for results"
      ]
    },
    {
      "cell_type": "code",
      "execution_count": 420,
      "metadata": {
        "id": "ptWmRSZYFMJ4"
      },
      "outputs": [],
      "source": [
        "def plot_furuta_hat_nom(device, model, u_func, g_func, utype, gtype, data_loader_t, n, t_max, C_q1, C_q2, g, Jr, Lr, Mp, Lp,\n",
        "                        t_plot=None, show_pred=True, only_pred=False, H_or_Input='input',\n",
        "                        title='Trajectory of the generalized coordinates'  # , coord_type='hamiltonian'\n",
        "                        , file_path=None):\n",
        "    '''\n",
        "    Description:\n",
        "      This function plots the generalised variables q p, the energy at the time\n",
        "      t_eval at which they were evaluated \n",
        "    Inputs: \n",
        "      t_eval () \n",
        "      q () \n",
        "      p () \n",
        "    Outputs: \n",
        "      None \n",
        "    '''\n",
        "\n",
        "    x_nom, t_eval = next(iter(data_loader_t))\n",
        "\n",
        "    t_eval = t_eval[0, :]  # otherwise it is by batch\n",
        "    time_steps = len(t_eval)\n",
        "\n",
        "    if t_plot:\n",
        "        time_steps = t_plot\n",
        "        t_eval = t_eval[:t_plot]\n",
        "    else:\n",
        "        t_plot = time_steps\n",
        "\n",
        "    Ts = t_eval[0]\n",
        "    print('Ts', Ts)\n",
        "    # predicted trajectory\n",
        "    x_hat = odeint(model, x_nom[:, 0, :], t_eval, method='rk4').detach()\n",
        "    x_hat = x_hat.detach()\n",
        "\n",
        "    # to do: make this concise with torch split or chunck\n",
        "    q1_hat = x_hat[:, n, 0].unsqueeze(dim=0)\n",
        "    p1_hat = x_hat[:, n, 1].unsqueeze(dim=0)\n",
        "    q2_hat = x_hat[:, n, 2].unsqueeze(dim=0)\n",
        "    p2_hat = x_hat[:, n, 3].unsqueeze(dim=0)\n",
        "\n",
        "    E_hat, _ = get_energy_furuta(device, time_steps, Ts, u_func, g_func, q1_hat /\n",
        "                                 w_rescale[0], p1_hat/w_rescale[1], q2_hat/w_rescale[2], p2_hat/w_rescale[3], C_q1, C_q2, g, Jr, Lr, Mp, Lp)\n",
        "    H_hat = furuta_H(q1_hat/w_rescale[0], p1_hat/w_rescale[1],\n",
        "                     q2_hat/w_rescale[2], p2_hat/w_rescale[3], g, Jr, Lr, Mp, Lp)\n",
        "\n",
        "    # H_hat = model.H_net(x_hat[:,0,:]).detach().squeeze()\n",
        "    E_hat = E_hat.detach().cpu().squeeze()\n",
        "    H_hat = H_hat.detach().cpu().squeeze()\n",
        "\n",
        "    # nominal trajectory\n",
        "    q1_hat, p1_hat, q2_hat, p2_hat = q1_hat.squeeze(\n",
        "    ), p1_hat.squeeze(), q2_hat.squeeze(), p2_hat.squeeze()\n",
        "    x_nom = x_nom.detach()\n",
        "\n",
        "    q1_nom = x_nom[n, :t_plot, 0].unsqueeze(dim=0)\n",
        "    p1_nom = x_nom[n, :t_plot, 1].unsqueeze(dim=0)\n",
        "    q2_nom = x_nom[n, :t_plot, 2].unsqueeze(dim=0)\n",
        "    p2_nom = x_nom[n, :t_plot, 3].unsqueeze(dim=0)\n",
        "    print('plot_furuta_hat_nom', 'q1_nom', q1_nom.shape)\n",
        "    E_nom, _ = get_energy_furuta(device, time_steps, Ts, u_func, g_func, q1_nom /\n",
        "                                 w_rescale[0], p1_nom/w_rescale[1], q2_nom/w_rescale[2], p2_nom/w_rescale[3], C_q1, C_q2, g, Jr, Lr, Mp, Lp, time_=t_eval)\n",
        "    H_nom = furuta_H(q1_nom/w_rescale[0], p1_nom/w_rescale[1],\n",
        "                     q2_nom/w_rescale[2], p2_nom/w_rescale[3], g, Jr, Lr, Mp, Lp)\n",
        "\n",
        "    E_nom = E_nom.detach().cpu().squeeze()\n",
        "    H_nom = H_nom.detach().cpu().squeeze()\n",
        "    q1_nom, p1_nom, q2_nom, p2_nom = q1_nom.squeeze().cpu(), p1_nom.squeeze(\n",
        "    ).cpu(), q2_nom.squeeze().cpu(), p2_nom.squeeze().cpu()\n",
        "    t_eval = t_eval.detach().cpu()\n",
        "    fig, ax = plt.subplots(2, 3, figsize=(\n",
        "        15, 4), constrained_layout=True, sharex=True)  # , sharey=True)\n",
        "\n",
        "    # to do : make a for loop to add multiple plots\n",
        "    # predicted\n",
        "    # plot nominal and predicted trajectory on same plot\n",
        "\n",
        "    # for x in [t_eval, q1_hat, p1_hat, q2_hat, p2_hat, E_hat, H_hat, q1_nom, p1_nom, q2_nom, p2_nom, E_nom, H_nom]:\n",
        "    #     x = x.detach().cpu() # transfering everything to cpu memory\n",
        "    #     print(x.device)\n",
        "    # t_eval = t_eval\n",
        "\n",
        "    if H_or_Input == 'input':\n",
        "        H_nom = u_func.forward(t_eval.to(device))\n",
        "        ax[1, 2].set_title('Input', fontsize=10)\n",
        "        ax[1, 2].set_xlabel('time (s)')\n",
        "        ax[1, 2].set_ylabel('u')\n",
        "        t_eval = t_eval = t_eval.detach().cpu()\n",
        "    else:\n",
        "        ax[1, 2].set_title('Hamiltonian', fontsize=10)\n",
        "        ax[1, 2].set_xlabel('time (s)')\n",
        "        ax[1, 2].set_ylabel('H')\n",
        "    for q1, p1, q2, p2, E, H, label in [[q1_nom, p1_nom, q2_nom, p2_nom, E_nom, H_nom, 'nominal']]:\n",
        "        # q1 = q1.cpu()\n",
        "        # p1 = p1.cpu()\n",
        "        # q2 = q2.cpu()\n",
        "        # p2 = p2.cpu()\n",
        "        # E = E.cpu()\n",
        "        # H = H.cpu()\n",
        "\n",
        "        ax[0, 0].plot(t_eval, q1, label=label)\n",
        "        ax[1, 0].plot(t_eval, p1, label=label)\n",
        "        ax[0, 1].plot(t_eval, q2, label=label)\n",
        "        ax[1, 1].plot(t_eval, p2, label=label)\n",
        "        ax[0, 2].plot(t_eval, E, label=label)\n",
        "        ax[1, 2].plot(t_eval, H, label=label)\n",
        "\n",
        "    for q1, p1, q2, p2, E, H, label in [[q1_hat, p1_hat, q2_hat, p2_hat, E_hat, H_hat, 'prediction']]:\n",
        "\n",
        "        q1 = q1.cpu()\n",
        "        p1 = p1.cpu()\n",
        "        q2 = q2.cpu()\n",
        "        p2 = p2.cpu()\n",
        "        E = E.cpu()\n",
        "        H = H.cpu()\n",
        "        label_train = 'train'\n",
        "        color = 'g'\n",
        "        if only_pred:\n",
        "            t_max = time_steps\n",
        "            color = 'r'\n",
        "            label_train = 'prediction'\n",
        "            show_pred = False\n",
        "\n",
        "        ax[0, 0].plot(t_eval[:t_max], q1[:t_max], label=label_train, c=color)\n",
        "        if show_pred:\n",
        "            ax[0, 0].plot(t_eval[t_max-1:], q1[t_max-1:], label=label, c='r')\n",
        "\n",
        "        ax[1, 0].plot(t_eval[:t_max], p1[:t_max], label=label_train, c=color)\n",
        "        if show_pred:\n",
        "            ax[1, 0].plot(t_eval[t_max-1:], p1[t_max-1:], label=label, c='r')\n",
        "\n",
        "        ax[0, 1].plot(t_eval[:t_max], q2[:t_max], label=label_train, c=color)\n",
        "        if show_pred:\n",
        "            ax[0, 1].plot(t_eval[t_max-1:], q2[t_max-1:], label=label, c='r')\n",
        "\n",
        "        ax[1, 1].plot(t_eval[:t_max], p2[:t_max], label=label_train, c=color)\n",
        "        if show_pred:\n",
        "            ax[1, 1].plot(t_eval[t_max-1:], p2[t_max-1:], label=label, c='r')\n",
        "\n",
        "        ax[0, 2].plot(t_eval[:t_max], E[:t_max], label=label_train, c=color)\n",
        "        if show_pred:\n",
        "            ax[0, 2].plot(t_eval[t_max-1:], E[t_max-1:], label=label, c='r')\n",
        "\n",
        "        if H_or_Input == 'H':\n",
        "            ax[1, 2].plot(t_eval[:t_max], H[:t_max],\n",
        "                          label=label_train, c=color)\n",
        "            if show_pred:\n",
        "                ax[1, 2].plot(t_eval[t_max-1:], H[t_max-1:],\n",
        "                              label=label, c='r')\n",
        "\n",
        "    # for j in range(3): # show all of the legends\n",
        "    #   for i in range(2):\n",
        "\n",
        "    ax[0, 0].legend()\n",
        "\n",
        "    # add labels and titles on every plot\n",
        "    ax[0, 0].set_title('generalized position (q1)', fontsize=10)\n",
        "    ax[0, 0].set_xlabel('time[s]')\n",
        "    ax[0, 0].set_ylabel('q1[rad]')\n",
        "\n",
        "    ax[1, 0].set_title('generalized momentum (p1)', fontsize=10)\n",
        "    ax[1, 0].set_xlabel('time [s]')\n",
        "    ax[1, 0].set_ylabel('p1')\n",
        "\n",
        "    ax[0, 1].set_title('generalized position (q2)', fontsize=10)\n",
        "    ax[0, 1].set_xlabel('time [s]')\n",
        "    ax[0, 1].set_ylabel('q2[rad]')\n",
        "\n",
        "    ax[1, 1].set_title('generalized momentum (p2)', fontsize=10)\n",
        "    ax[1, 1].set_xlabel('time [s]')\n",
        "    ax[1, 1].set_ylabel('p2')\n",
        "\n",
        "    ax[0, 2].set_title('Energy', fontsize=10)\n",
        "    ax[0, 2].set_xlabel('time (s)')\n",
        "    ax[0, 2].set_ylabel('E')\n",
        "    # ax[0,2].set_ylim(bottom=0)\n",
        "    # ax[0,2].set_ylim(0,torch.max(torch.cat((E_hat.cpu() ,E_nom.cpu())))*1.1) # because sometimes it won't appear on the plot\n",
        "\n",
        "    # add larger title on top\n",
        "    fig.suptitle(title, fontsize=12)\n",
        "\n",
        "    if file_path is not None:\n",
        "        # ,bbox_inches='tight') # dpi\n",
        "        plt.savefig(file_path, format=\"png\", dpi=400)\n",
        "        # plt.savefig(file_path, format=\"pdf\", bbox_inches=\"tight\")\n",
        "    plt.show()\n",
        "    return\n"
      ]
    },
    {
      "cell_type": "code",
      "execution_count": 421,
      "metadata": {
        "id": "huq-qs2-Jybd"
      },
      "outputs": [],
      "source": [
        "def plot_longer_horizon_furuta(device, model, u_func, g_func, utype, gtype, test_loader, n, t1, t2, C_q1, C_q2, g, Jr, Lr, Mp, Lp, \n",
        "                               title = 'Trajectory after longer horizon', file_path=None,):\n",
        "    '''\n",
        "\n",
        "    Description:\n",
        "\n",
        "    Inputs:\n",
        "\n",
        "    Outpus:\n",
        "      \n",
        "    '''\n",
        "    x_nom, t_eval = next(iter(test_loader))\n",
        "\n",
        "    t_eval = t_eval[0,:t2]\n",
        "\n",
        "    time_steps = len(t_eval)\n",
        "    Ts = t_eval[0]\n",
        "\n",
        "    # test trajectories\n",
        "    x_hat = odeint(model, x_nom[:, 0, :4], t_eval, method='rk4').detach()\n",
        "    \n",
        "\n",
        "    q1_hat = x_hat[:t2,n,0].unsqueeze(dim=0) # to do: make this concise with torch split or chunck\n",
        "    p1_hat = x_hat[:t2,n,1].unsqueeze(dim=0)\n",
        "    q2_hat = x_hat[:t2,n,2].unsqueeze(dim=0)\n",
        "    p2_hat = x_hat[:t2,n,3].unsqueeze(dim=0)\n",
        "\n",
        "    E_hat, _ = get_energy_furuta(device, time_steps, Ts, u_func, g_func, q1_hat, p1_hat, q2_hat, p2_hat, C_q1, C_q2, g, Jr, Lr, Mp, Lp) \n",
        "    H_hat = furuta_H(q1_hat, p1_hat, q2_hat, p2_hat, g, Jr, Lr, Mp, Lp)\n",
        "    # H_hat = model.H_net(x_hat[t1:t2,0,:]).detach().squeeze()\n",
        "    E_hat = E_hat[t1:t2].cpu().detach().squeeze()\n",
        "    H_hat = H_hat[t1:t2].cpu().detach().squeeze()\n",
        "\n",
        "    # nominal trajectories\n",
        "    q1_nom = x_nom[n,:t2,0].unsqueeze(dim=0)\n",
        "    p1_nom = x_nom[n,:t2,1].unsqueeze(dim=0)\n",
        "    q2_nom = x_nom[n,:t2,2].unsqueeze(dim=0)\n",
        "    p2_nom = x_nom[n,:t2,3].unsqueeze(dim=0)\n",
        "\n",
        "    E_nom, _ = get_energy_furuta(device, time_steps, Ts, u_func, g_func, q1_nom, p1_nom, q2_nom, p2_nom, C_q1, C_q2, g, Jr, Lr, Mp, Lp)\n",
        "    H_nom = furuta_H(q1_nom, p1_nom, q2_nom, p2_nom, g, Jr, Lr, Mp, Lp)\n",
        "    E_nom = E_nom[t1:t2].cpu().detach().squeeze()\n",
        "    H_nom = H_nom[t1:t2].cpu().detach().squeeze()\n",
        "    \n",
        "    x_hat = x_hat.cpu().detach()\n",
        "    x_nom = x_nom.cpu().detach()\n",
        "    \n",
        "    q1_hat = x_hat[t1:t2,n,0] # to do: make this concise with torch split or chunck\n",
        "    p1_hat = x_hat[t1:t2,n,1]\n",
        "    q2_hat = x_hat[t1:t2,n,2]\n",
        "    p2_hat = x_hat[t1:t2,n,3]\n",
        "    \n",
        "    q1_nom = x_nom[n,t1:t2,0]\n",
        "    p1_nom = x_nom[n,t1:t2,1]\n",
        "    q2_nom = x_nom[n,t1:t2,2]\n",
        "    p2_nom = x_nom[n,t1:t2,3]\n",
        "    t_eval = t_eval[t1:]\n",
        "    t_eval = t_eval.cpu().detach()\n",
        "    \n",
        "\n",
        "\n",
        "    fig, ax = plt.subplots(2, 2, figsize=(15, 6), constrained_layout=True, sharex=True)# , sharey=True)\n",
        "\n",
        "    # t_eval = t_eval.cpu()\n",
        "    for q1, p1, q2, p2, E, H, label in [[q1_nom, p1_nom, q2_nom, p2_nom, E_nom, H_nom,'nominal'],[q1_hat, p1_hat, q2_hat, p2_hat, E_hat, H_hat,'prediction']]:\n",
        "        \n",
        "        # q1 = q1.cpu() \n",
        "        # p1 = p1.cpu() \n",
        "        # q2 = q2.cpu() \n",
        "        # p2 = p2.cpu() \n",
        "        # E = E.cpu() \n",
        "        # H = H.cpu() \n",
        "        if label == 'prediction':\n",
        "            color = 'r'\n",
        "        elif label == 'nominal' : \n",
        "            color = 'C0'\n",
        "        ax[0,0].plot(t_eval, q1, label=label, color=color)\n",
        "        ax[0,1].plot(t_eval, q2, label=label, color=color)\n",
        "\n",
        "        ax[1,0].plot(t_eval, E, label=label, color=color) \n",
        "        ax[1,0].set_title('Energy', fontsize=10) \n",
        "        ax[1,0].set_xlabel('time (s)') \n",
        "        ax[1,0].set_ylabel('E') \n",
        "          \n",
        "        ax[1,1].plot(t_eval, H, label=label, color=color)\n",
        "        ax[1,1].set_title('Hamiltonian', fontsize=10)\n",
        "        ax[1,1].set_xlabel('time (s)')\n",
        "        ax[1,1].set_ylabel('H')\n",
        "\n",
        "    #ax[1,0].set_ylim(0,torch.max(torch.cat((E_hat.cpu() ,E_nom.cpu())))*1.1) # because sometimes it won't appear on the plot\n",
        "\n",
        "    # for j in range(2): # show all of the legends\n",
        "    #   for i in range(2):\n",
        "    #     ax[i,j].legend()\n",
        "    ax[0,1].legend()\n",
        "\n",
        "    # add labels and titles on every plot\n",
        "    ax[0,0].set_title('generalized position (q1)', fontsize=10)\n",
        "    ax[0,0].set_xlabel('time[s]')\n",
        "    ax[0,0].set_ylabel('q1[rad]')\n",
        "\n",
        "    ax[0,1].set_title('generalized position (q2)', fontsize=10)\n",
        "    ax[0,1].set_xlabel('time [s]')\n",
        "    ax[0,1].set_ylabel('q2[rad]')\n",
        "    fig.suptitle(title, fontsize=12)\n",
        "    if file_path is not None:\n",
        "        plt.savefig(file_path, format=\"png\",dpi=400)#,bbox_inches='tight') # dpi\n",
        "        # plt.savefig(file_path, format=\"pdf\", bbox_inches=\"tight\")\n",
        "    plt.show()\n",
        "    return \n",
        "\n",
        "def train_test_loss_plot(loss_train,loss_test, epochs, file_path=None,\n",
        "                            horizons = [100,150,200,250,300],\n",
        "                            switch_steps = [200,200,200,200,200],\n",
        "                            title='train and test loss per epoch' ):\n",
        "    ''' \n",
        "    Description:\n",
        "\n",
        "    Inputs:\n",
        "\n",
        "    Outpus:\n",
        "\n",
        "    '''\n",
        "    # convert switch steps from : [200,200,200,200,200] to [200,400,600...]\n",
        "    horizon_steps = []\n",
        "    horizon_steps.append(0)\n",
        "    for i, number in enumerate(switch_steps) :\n",
        "        horizon_steps.append(horizon_steps[i] +number) \n",
        "    horizon_steps = horizon_steps[1:-1]\n",
        "\n",
        "    fig, ax = plt.subplots(figsize=(10,4))\n",
        "    # ,constrained_layout=True)\n",
        "    # fig.tight_layout()\n",
        "\n",
        "    plt.plot(epochs, loss_train, label='train')\n",
        "\n",
        "    if not loss_test == []: # if loss_test exists\n",
        "        plt.plot(epochs[::10], loss_test, label='test')\n",
        "\n",
        "    plt.xlabel('epoch')\n",
        "    plt.ylabel('loss')\n",
        "    plt.yscale('log')\n",
        "    plt.legend()\n",
        "    plt.title(title)\n",
        "\n",
        "    if horizons:\n",
        "        for i, epoch_num in enumerate(horizon_steps[:-1]):\n",
        "            ax.annotate(\n",
        "            'horizon = %d'%horizons[i],\n",
        "            xy=(epochs[epoch_num], loss_train[epoch_num]), xycoords='data',\n",
        "            xytext=(-70, 100), textcoords='offset points',\n",
        "            arrowprops=dict(arrowstyle=\"->\",\n",
        "                            #connectionstyle=\"arc,angleA=0,armA=50,rad=10\"\n",
        "                            connectionstyle=\"angle,angleA=0,angleB=90,rad=10\"\n",
        "                            ))\n",
        "        ax.annotate(\n",
        "        'horizon = %d'%horizons[-1],\n",
        "        xy=(epochs[horizon_steps[-1]], loss_train[horizon_steps[-1]]), xycoords='data',\n",
        "        xytext=(+20, 100), textcoords='offset points',\n",
        "        arrowprops=dict(arrowstyle=\"->\",\n",
        "                        #connectionstyle=\"arc,angleA=0,armA=50,rad=10\"\n",
        "                        connectionstyle=\"angle,angleA=0,angleB=90,rad=10\"\n",
        "                        ))\n",
        "\n",
        "    if file_path is not None:\n",
        "        plt.savefig(file_path, format=\"png\",dpi=400)#,bbox_inches='tight') # dpi\n",
        "        # plt.savefig(file_path, format=\"pdf\", bbox_inches=\"tight\")\n",
        "    plt.show()\n",
        "   \n",
        "    return"
      ]
    },
    {
      "cell_type": "markdown",
      "metadata": {
        "id": "cTE_UuduFIlw"
      },
      "source": [
        "### for training"
      ]
    },
    {
      "cell_type": "code",
      "execution_count": 422,
      "metadata": {
        "id": "DNn3OjHKFIXq"
      },
      "outputs": [],
      "source": [
        "def training_plot_old(t_eval, train_x, nominal_x):\n",
        "    # train_x is [batch_size,(q1,p1,q2,p1),time_steps]\n",
        "    # nominal_x is [time_steps, batch_size, (q1,p1,q2,p1)]\n",
        "\n",
        "    fig, ax = plt.subplots(2, 2, figsize=(10, 5), constrained_layout=True, sharex=True)# , sharey=True)\n",
        "    t_eval_cpu = t_eval.detach().cpu() \n",
        "    ax[0,0].plot(t_eval_cpu, train_x[:,0,0].detach().cpu(), label='train', c='g')\n",
        "    ax[1,0].plot(t_eval_cpu, train_x[:,0,1].detach().cpu(), label='train', c='g')\n",
        "    ax[0,1].plot(t_eval_cpu, train_x[:,0,2].detach().cpu(), label='train', c='g')\n",
        "    ax[1,1].plot(t_eval_cpu, train_x[:,0,3].detach().cpu(), label='train', c='g')\n",
        "\n",
        "    ax[0,0].plot(t_eval_cpu, nominal_x[0,0,:].detach().cpu(), label='nominal')\n",
        "    ax[1,0].plot(t_eval_cpu, nominal_x[0,1,:].detach().cpu(), label='nominal')\n",
        "    ax[0,1].plot(t_eval_cpu, nominal_x[0,2,:].detach().cpu(), label='nominal')\n",
        "    ax[1,1].plot(t_eval_cpu, nominal_x[0,3,:].detach().cpu(), label='nominal')\n",
        "\n",
        "    ax[0,0].set_title('generalized position (q1)', fontsize=10)\n",
        "    ax[0,0].set_xlabel('time[s]')\n",
        "    ax[0,0].set_ylabel('q1[rad]')\n",
        "\n",
        "    ax[1,0].set_title('generalized momentum (p1)', fontsize=10)\n",
        "    ax[1,0].set_xlabel('time [s]')\n",
        "    ax[1,0].set_ylabel('p1')\n",
        "\n",
        "    ax[0,1].set_title('generalized position (q2)', fontsize=10)\n",
        "    ax[0,1].set_xlabel('time [s]')\n",
        "    ax[0,1].set_ylabel('q2[rad]')\n",
        "\n",
        "    ax[1,1].set_title('generalized momentum (p2)', fontsize=10)\n",
        "    ax[1,1].set_xlabel('time [s]')\n",
        "    ax[1,1].set_ylabel('p2')\n",
        "    ax[1,1].legend()\n",
        "    \n",
        "    # add larger title on top\n",
        "    fig.suptitle('intermediate plot of trajectories', fontsize=12)\n",
        "\n",
        "    plt.show()\n",
        "    return"
      ]
    },
    {
      "cell_type": "code",
      "execution_count": 423,
      "metadata": {
        "id": "DNlMB0vmrXkF"
      },
      "outputs": [],
      "source": [
        "def training_plot(t_eval, train_x, nominal_x):\n",
        "    # train_x is [batch_size,(q1,p1,q2,p1),time_steps]\n",
        "    # nominal_x is [time_steps, batch_size, (q1,p1,q2,p1)]\n",
        "\n",
        "    fig, ax = plt.subplots(2, 2, figsize=(10, 5), constrained_layout=True, sharex=True)# , sharey=True)\n",
        "    t_eval_cpu = t_eval.detach().cpu()\n",
        "    # print('train_x',train_x.shape)#5 300 9\n",
        "    # print('t_eval_cpu',t_eval_cpu.shape)#5 300 9\n",
        "    # print('nominal_x',nominal_x.shape)#5 300 9\n",
        "\n",
        "    ax[0,0].plot(t_eval_cpu, train_x[:,0,0].detach().cpu(), label='train', c='g')\n",
        "    ax[1,0].plot(t_eval_cpu, train_x[:,0,1].detach().cpu(), label='train', c='g')\n",
        "    ax[0,1].plot(t_eval_cpu, train_x[:,0,2].detach().cpu(), label='train', c='g')\n",
        "    ax[1,1].plot(t_eval_cpu, train_x[:,0,3].detach().cpu(), label='train', c='g')\n",
        "    # print(nominal_x.shape)\n",
        "    ax[0,0].plot(t_eval_cpu, nominal_x[0,:,0].detach().cpu(), label='nominal')\n",
        "    ax[1,0].plot(t_eval_cpu, nominal_x[0,:,1].detach().cpu(), label='nominal')\n",
        "    ax[0,1].plot(t_eval_cpu, nominal_x[0,:,2].detach().cpu(), label='nominal')\n",
        "    ax[1,1].plot(t_eval_cpu, nominal_x[0,:,3].detach().cpu(), label='nominal')\n",
        "\n",
        "    ax[0,0].set_title('generalized position (q1)', fontsize=10)\n",
        "    ax[0,0].set_xlabel('time[s]')\n",
        "    ax[0,0].set_ylabel('q1[rad]')\n",
        "\n",
        "    ax[1,0].set_title('generalized momentum (p1)', fontsize=10)\n",
        "    ax[1,0].set_xlabel('time [s]')\n",
        "    ax[1,0].set_ylabel('p1')\n",
        "\n",
        "    ax[0,1].set_title('generalized position (q2)', fontsize=10)\n",
        "    ax[0,1].set_xlabel('time [s]')\n",
        "    ax[0,1].set_ylabel('q2[rad]')\n",
        "\n",
        "    ax[1,1].set_title('generalized momentum (p2)', fontsize=10)\n",
        "    ax[1,1].set_xlabel('time [s]')\n",
        "    ax[1,1].set_ylabel('p2')\n",
        "    ax[1,1].legend()\n",
        "    \n",
        "    # add larger title on top\n",
        "    fig.suptitle('intermediate plot of trajectories', fontsize=12)\n",
        "\n",
        "    plt.show()\n",
        "    return"
      ]
    },
    {
      "cell_type": "markdown",
      "metadata": {
        "id": "CMpV0txb_WBQ"
      },
      "source": [
        "### gradients"
      ]
    },
    {
      "cell_type": "code",
      "execution_count": 426,
      "metadata": {
        "id": "yqp9ZkNu_WBR"
      },
      "outputs": [],
      "source": [
        "def plot_grads(stats):\n",
        "    '''\n",
        "    '''\n",
        "    grads_preclip_min = [ [] for _ in range(len(stats['layer_names'][0])) ]\n",
        "    grads_preclip_max = [ [] for _ in range(len(stats['layer_names'][0])) ]\n",
        "    grads_preclip_mean = [ [] for _ in range(len(stats['layer_names'][0])) ]\n",
        "    grads_postclip_min = [ [] for _ in range(len(stats['layer_names'][0])) ]\n",
        "    grads_postclip_max = [ [] for _ in range(len(stats['layer_names'][0])) ]\n",
        "    grads_postclip_mean = [ [] for _ in range(len(stats['layer_names'][0])) ]\n",
        "\n",
        "    for layer in range(len(stats['grads_preclip'][0])): \n",
        "        for iteration in range(len(stats['grads_preclip'])): \n",
        "            grads_preclip_min[layer].append(stats['grads_preclip'][iteration][layer].abs().min())\n",
        "            grads_preclip_max[layer].append(stats['grads_preclip'][iteration][layer].abs().max())\n",
        "            grads_preclip_mean[layer].append(stats['grads_preclip'][iteration][layer].abs().mean())\n",
        "            grads_postclip_min[layer].append(stats['grads_postclip'][iteration][layer].abs().min())\n",
        "            grads_postclip_max[layer].append(stats['grads_postclip'][iteration][layer].abs().max())\n",
        "            grads_postclip_mean[layer].append(stats['grads_postclip'][iteration][layer].abs().mean())\n",
        "    grads_preclip_min = torch.tensor(grads_preclip_min)\n",
        "    grads_preclip_max = torch.tensor(grads_preclip_max)\n",
        "    grads_preclip_mean = torch.tensor(grads_preclip_mean)\n",
        "    grads_postclip_min = torch.tensor(grads_postclip_min)\n",
        "    grads_postclip_max = torch.tensor(grads_postclip_max)\n",
        "    grads_postclip_mean = torch.tensor(grads_postclip_mean)\n",
        "\n",
        "    fig, ax = plt.subplots(1,2,figsize=(10,4),sharex=True,sharey=True)\n",
        "    plt.yscale('log')\n",
        "    for i in range(2,grads_preclip_min.shape[0]):\n",
        "        ax[0].plot(grads_preclip_mean[i,:], label = stats['layer_names'][0][i])\n",
        "    for i in range(2,grads_preclip_min.shape[0]):\n",
        "        ax[1].plot(grads_postclip_mean[i,:])\n",
        "\n",
        "    # fig.subplots_adjust(right=0.6)\n",
        "    ax[0].set_title('before clipping')\n",
        "    ax[0].set_xlabel('iteration')\n",
        "    ax[0].set_ylabel('mean gradient value')\n",
        "    ax[0].set_yscale('log')\n",
        "\n",
        "    ax[1].set_title('after clipping')\n",
        "    ax[1].set_xlabel('iteration')\n",
        "    ax[1].set_yscale('log')\n",
        "\n",
        "    fig.suptitle('Mean gradient value in each layer') \n",
        "    fig.legend(loc=7)\n",
        "    fig.tight_layout(rect=[0, 0.03, 1, 0.95])\n",
        "    fig.subplots_adjust(right=0.70) \n",
        "    plt.show()             "
      ]
    },
    {
      "cell_type": "markdown",
      "metadata": {
        "id": "CO0OQeI7-bEs"
      },
      "source": [
        "## utils"
      ]
    },
    {
      "cell_type": "code",
      "execution_count": 427,
      "metadata": {
        "id": "3ij33HcW-e5L"
      },
      "outputs": [],
      "source": [
        "def collect_gradients(named_parameters):\n",
        "    '''Plots the gradients flowing through different layers in the net during training.\n",
        "    Can be used for checking for possible gradient vanishing / exploding problems.\n",
        "    \n",
        "    Usage: Plug this function in Trainer class after loss.backwards() as \n",
        "    \"plot_grad_flow(self.model.named_parameters())\" to visualize the gradient flow'''\n",
        "\n",
        "    all_grads = []\n",
        "    layers = []\n",
        "    for n, p in named_parameters:\n",
        "        if(p.requires_grad) and (\"bias\" not in n):\n",
        "            layers.append(n)\n",
        "            all_grads.append(p.grad.detach().clone())\n",
        "\n",
        "    return layers, all_grads\n",
        "\n",
        "\n",
        "def set_device():\n",
        "    # set device to GPU if available otherwise use CPU\n",
        "    device = torch.device(\"cuda\" if torch.cuda.is_available() else \"cpu\")\n",
        "    if device.type == 'cuda':\n",
        "        # if there is a GPU\n",
        "        print(f'Available device : {torch.cuda.get_device_name(0)}')\n",
        "    else:\n",
        "        print(device)\n",
        "    return device\n",
        "\n",
        "\n",
        "def set_furuta_params(which='fake'):\n",
        "\n",
        "    if which == 'fake':\n",
        "        # The \"fake\" set of furuta parameters to have similar magnitudes in q1 p1 q2 p2\n",
        "        Ts = 0.005\n",
        "        noise_std = 0.0\n",
        "        C_q1 = 0.0\n",
        "        C_q2 = 0.0\n",
        "        g = 9.81\n",
        "        Jr = 1*1e-5\n",
        "        Lr = 0.5\n",
        "        Mp = 5.0\n",
        "        Lp = 0.1\n",
        "\n",
        "    if which == 'real':\n",
        "        # The set of furuta parameters similar to the real furuta\n",
        "        Ts = 0.005\n",
        "        noise_std = 0.0\n",
        "        C_q1 = 0.0\n",
        "        C_q2 = 0.0\n",
        "        g = 9.81\n",
        "        Jr = 5.72*1e-5\n",
        "        Lr = 0.085\n",
        "        Mp = 0.024\n",
        "        Lp = 0.129\n",
        "\n",
        "    return Ts, noise_std, C_q1, C_q2, g, Jr, Lr, Mp, Lp\n",
        "\n",
        "\n",
        "def count_parameters(model):\n",
        "    '''\n",
        "    from https://discuss.pytorch.org/t/how-do-i-check-the-number-of-parameters-of-a-model/4325/9\n",
        "    Description:\n",
        "\n",
        "    Inputs:\n",
        "\n",
        "    Outpus:\n",
        "\n",
        "    '''\n",
        "    return sum(p.numel() for p in model.parameters() if p.requires_grad)\n",
        "\n",
        "\n",
        "def load_model(device, hidden_dim=90, nb_hidden_layers=4):\n",
        "    H_net = MLP(input_dim=4, hidden_dim=hidden_dim,\n",
        "                nb_hidden_layers=nb_hidden_layers, output_dim=1, activation='x+sin(x)^2')\n",
        "    model = U_HNN(input_dim=4, H_net=H_net, device=None)\n",
        "    model.to(device)\n",
        "    return model\n",
        "\n",
        "\n",
        "def load_model_nes_hdnn(device, utype, u_func=None, hidden_dim=90, nb_hidden_layers=4):\n",
        "    G_net = MLP(input_dim=4, hidden_dim=64, nb_hidden_layers=1,\n",
        "                output_dim=2, activation='tanh')\n",
        "    H_net = MLP(input_dim=4, hidden_dim=90, nb_hidden_layers=4,\n",
        "                output_dim=1, activation='x+sin(x)^2')\n",
        "    model = Nes_HDNN(utype=utype, u_func=u_func,\n",
        "                     G_net=G_net, H_net=H_net, device=device)\n",
        "    model.to(device)\n",
        "    return model\n",
        "\n",
        "\n",
        "def load_data_device(device, init_method, w_rescale, u_func=None, g_func=None, time_steps=40, num_trajectories=10, shuffle=False,\n",
        "                     coord_type='hamiltonian', proportion=0.5, batch_size=1,\n",
        "                     Ts=0.005, noise_std=0.0, C_q1=0.0, C_q2=0.0,\n",
        "                     g=9.81, Jr=1*1e-5, Lr=0.5, Mp=5.0, Lp=0.5, min_max_rescale=False, rescale_dims=[1, 1, 1, 1]):\n",
        "    '''\n",
        "    Description:\n",
        "\n",
        "    Inputs:\n",
        "\n",
        "    Outpus:\n",
        "    '''\n",
        "    # create trajectories\n",
        "    q1, p1, q2, p2, energy, derivatives, t_eval = multiple_trajectories_furuta('cpu', init_method, time_steps, num_trajectories, u_func, g_func,\n",
        "                                                                               None, Ts, noise_std, C_q1, C_q2, g, Jr,  Lr,  Mp, Lp)  # u, G,\n",
        "\n",
        "    q1 = (q1*w_rescale[0]).to(device)\n",
        "    p1 = (p1*w_rescale[1]).to(device)\n",
        "    q2 = (q2*w_rescale[2]).to(device)\n",
        "    p2 = (p2*w_rescale[3]).to(device)\n",
        "\n",
        "    if min_max_rescale:\n",
        "        if rescale_dims[0]:\n",
        "            q1 = (q1-q1.amin(dim=(1)).unsqueeze(dim=1)) / \\\n",
        "                ((q1.amax(dim=(1))-q1.amin(dim=(1))).abs().unsqueeze(dim=1))\n",
        "        if rescale_dims[1]:\n",
        "            q2 = (q2-q2.amin(dim=(1)).unsqueeze(dim=1)) / \\\n",
        "                ((q2.amax(dim=(1))-q2.amin(dim=(1))).abs().unsqueeze(dim=1))\n",
        "        if rescale_dims[2]:\n",
        "            p1 = (p1-p1.amin(dim=(1)).unsqueeze(dim=1)) / \\\n",
        "                ((p1.amax(dim=(1))-p1.amin(dim=(1))).abs().unsqueeze(dim=1))\n",
        "        if rescale_dims[3]:\n",
        "            p2 = (p2-p2.amin(dim=(1)).unsqueeze(dim=1)) / \\\n",
        "                ((p2.amax(dim=(1))-p2.amin(dim=(1))).abs().unsqueeze(dim=1))\n",
        "\n",
        "    energy = energy.to(device)\n",
        "    derivatives = derivatives.to(device)\n",
        "    t_eval = t_eval.to(device)\n",
        "    # u = u.to(device)\n",
        "    # G = G.to(device)\n",
        "    # if u_func is not None:\n",
        "    #     u = u_func(t_eval, utype).to(device)\n",
        "    # else:\n",
        "    #     u = torch.zeros_like(t_eval,device=device)\n",
        "    # stds = torch.tensor([q1.std(),p1.std(),q2.std(),p2.std()])\n",
        "\n",
        "    # dataloader to load data in batches\n",
        "    train_loader, test_loader = data_loader_furuta(q1, p1, q2, p2, energy, derivatives, t_eval, batch_size=batch_size,\n",
        "                                                   shuffle=shuffle, proportion=proportion, coord_type=coord_type)  # u, G,\n",
        "    return train_loader, test_loader  # , stds\n",
        "\n",
        "\n",
        "def save_stats(stats, stats_path):\n",
        "    with open(stats_path, 'w') as file:\n",
        "        file.write(json.dumps(stats))  # use `json.loads` to do the reverse\n",
        "    return\n",
        "\n",
        "\n",
        "def read_dict(stats_path):\n",
        "    # read the stats txt file\n",
        "    with open(stats_path) as f:\n",
        "        data = f.read()\n",
        "\n",
        "    data = json.loads(data)\n",
        "    return data\n",
        "    \n",
        "def get_maxmindenom(x, dim1, dim2, rescale_dims):\n",
        "    maximums = x.amax(dim=dim1).unsqueeze(dim=dim2)\n",
        "    minimums = x.amin(dim=dim1).unsqueeze(dim=dim2)\n",
        "    denom = (maximums - minimums).abs()\n",
        "    denom[:, :, ~(torch.Tensor(rescale_dims).bool())] = 1  #\n",
        "    print(\"min max values updated\")\n",
        "    return maximums, minimums, denom"
      ]
    },
    {
      "cell_type": "markdown",
      "metadata": {
        "id": "k5d-r_s2-ebg"
      },
      "source": [
        "## Train"
      ]
    },
    {
      "cell_type": "markdown",
      "metadata": {
        "id": "dNjRgnNOFdPr"
      },
      "source": [
        "### loss"
      ]
    },
    {
      "cell_type": "code",
      "execution_count": 429,
      "metadata": {
        "id": "iZEOIad5FdD9"
      },
      "outputs": [],
      "source": [
        "def L2_loss(u, v, w=False, dim=(0, 1), param=\"L2\", rescale_loss=False, denom=None):\n",
        "    # u nominal trajectory\n",
        "    # v predicted trajectory\n",
        "    # u and v expected with shape : [time_steps, batch_size , (q1,p1,q2,p1)]\n",
        "    diff = u - v\n",
        "    if rescale_loss:\n",
        "        # min max scaling of u and v using nominal statistics\n",
        "        # ((u-min)/denom)-((v-min)/denom) = (u-v)/denom\n",
        "        diff = (diff) / denom\n",
        "\n",
        "    if param == \"L2weighted\":\n",
        "        # mean only over time steps and batch_size\n",
        "        loss = (((diff).mul(w)).pow(2)).mean(dim=dim).sum()\n",
        "    elif param == \"L2\":\n",
        "        loss = (((diff)).pow(2)).mean(dim=dim).sum()\n",
        "\n",
        "    return loss\n"
      ]
    },
    {
      "cell_type": "markdown",
      "metadata": {
        "id": "6T4cbLjJFg05"
      },
      "source": [
        "### horizon"
      ]
    },
    {
      "cell_type": "code",
      "execution_count": 430,
      "metadata": {
        "id": "wcwn_LQ0Fc-3"
      },
      "outputs": [],
      "source": [
        "def select_horizon_list(step, epoch_number, horizon_list = [50,100,150,200,250,300], switch_steps = [200,200,200,150,150,150]):\n",
        "    '''\n",
        "    Description:\n",
        "\n",
        "    Inputs:\n",
        "\n",
        "    Outpus:\n",
        "      \n",
        "    '''\n",
        "    # throw error if horizon_list and switch_steps not of the same length\n",
        "    assert len(horizon_list)==len(switch_steps), ' horizon_list and switch_steps must have same length'\n",
        "    horizon_updated = 0\n",
        "    if step <switch_steps[0]:\n",
        "        horizon = horizon_list[0]\n",
        "        if step==0:\n",
        "            print('horizon length :', horizon)\n",
        "            horizon_updated = 1\n",
        "    elif step < sum(switch_steps):\n",
        "        for i in range(1,len(switch_steps)):\n",
        "            if (step >= sum(switch_steps[0:i]))&(step < sum(switch_steps[0:i+1])):\n",
        "                horizon = horizon_list[i]\n",
        "                if step==sum(switch_steps[0:i]):\n",
        "                    print('horizon length :', horizon)\n",
        "                    horizon_updated = 1\n",
        "    else:\n",
        "        horizon = horizon_list[-1]\n",
        "    return horizon_updated, horizon "
      ]
    },
    {
      "cell_type": "code",
      "execution_count": 431,
      "metadata": {
        "id": "clojGJaH77hO"
      },
      "outputs": [],
      "source": [
        "def update_loss_weights(step, w, w_list, switch_steps_weights=[300, 300, 300]):\n",
        "    '''\n",
        "    Description:\n",
        "\n",
        "    Inputs:\n",
        "\n",
        "    Outpus:\n",
        "    '''\n",
        "    assert len(w_list) == len(\n",
        "        switch_steps_weights), ' w_list and switch_steps must have same length'\n",
        "\n",
        "    if step < switch_steps_weights[0]:\n",
        "        w = w_list[0]\n",
        "        if step == 0:\n",
        "            print('loss weights :', w)\n",
        "    elif step < sum(switch_steps_weights):\n",
        "        for i in range(1, len(switch_steps_weights)):\n",
        "            if (step >= sum(switch_steps_weights[0:i])) & (step < sum(switch_steps_weights[0:i+1])):\n",
        "                w = w_list[i]\n",
        "                if step == sum(switch_steps_weights[0:i]):\n",
        "                    print('loss weights :', w)\n",
        "    else:\n",
        "        w = w_list[-1]\n",
        "    return w\n"
      ]
    },
    {
      "cell_type": "markdown",
      "metadata": {
        "id": "V3ecn-rRNhap"
      },
      "source": [
        "### resnet depth"
      ]
    },
    {
      "cell_type": "code",
      "execution_count": 432,
      "metadata": {
        "id": "4WB_V-BMNhPA"
      },
      "outputs": [],
      "source": [
        "def multilevel_strategy_update(device, step, model, resnet_config):\n",
        "    '''\n",
        "\n",
        "    '''\n",
        "    # resnet strategy 1 :\n",
        "    if resnet_config == 1 or resnet_config == 3:\n",
        "        if step < sum(switch_steps[:1]):\n",
        "            if step == 0:\n",
        "                print('Model size increased')\n",
        "            model.H_net.resblock_list = [0]\n",
        "        elif step == sum(switch_steps[:1]) and len(model.H_net.resblocks) >= 2:\n",
        "            print('Model size increased')\n",
        "            model.H_net.resblock_list = [0, 1]\n",
        "        elif step == sum(switch_steps[:2]) and len(model.H_net.resblocks) >= 3:\n",
        "            print('Model size increased')\n",
        "            model.H_net.resblock_list = [0, 1, 2]\n",
        "        elif step == sum(switch_steps[:3]) and len(model.H_net.resblocks) >= 4:\n",
        "            print('Model size increased')\n",
        "            model.H_net.resblock_list = [0, 1, 2, 3]\n",
        "        elif step == sum(switch_steps[:4]) and len(model.H_net.resblocks) >= 5:\n",
        "            print('Model size increased')\n",
        "            model.H_net.resblock_list = [0, 1, 2, 3, 4]\n",
        "        elif step == sum(switch_steps[:5]) and len(model.H_net.resblocks) >= 6:\n",
        "            print('Model size increased')\n",
        "            model.H_net.resblock_list = [0, 1, 2, 3, 4, 5]\n",
        "\n",
        "    # resnet strategy 2 :\n",
        "    if resnet_config == 2:\n",
        "        if step < sum(switch_steps[:1]):  # init : [0,1,2,3,4,5,6,7,8,9,10,11]\n",
        "            if step == 0:\n",
        "                print('Model size increased')\n",
        "            model.H_net.resblock_list = [0, 16]\n",
        "            model.H_net.alpha = torch.tensor(\n",
        "                [1/len(model.H_net.resblock_list)], device=device)\n",
        "        elif step == sum(switch_steps[:1]) and len(model.H_net.resblocks) >= 4:\n",
        "            print('Model size increased')\n",
        "            model.H_net.init_new_resblocks(0, 8, 16)\n",
        "            model.H_net.resblock_list = [0, 8, 16]\n",
        "            model.H_net.alpha = torch.tensor(\n",
        "                [1/len(model.H_net.resblock_list)], device=device)\n",
        "        elif step == sum(switch_steps[:2]) and len(model.H_net.resblocks) >= 6:\n",
        "            print('Model size increased')\n",
        "            model.H_net.init_new_resblocks(0, 4, 8)\n",
        "            model.H_net.init_new_resblocks(8, 12, 16)\n",
        "            model.H_net.resblock_list = [0, 4, 8, 12, 16]\n",
        "            model.H_net.alpha = torch.tensor(\n",
        "                [1/len(model.H_net.resblock_list)], device=device)\n",
        "        elif step == sum(switch_steps[:3]) and len(model.H_net.resblocks) >= 8:\n",
        "            print('Model size increased')\n",
        "            model.H_net.init_new_resblocks(0, 2, 4)\n",
        "            model.H_net.init_new_resblocks(4, 6, 8)\n",
        "            model.H_net.init_new_resblocks(8, 10, 12)\n",
        "            model.H_net.init_new_resblocks(12, 14, 16)\n",
        "            model.H_net.resblock_list = [0, 2, 4, 6, 8, 10, 12, 14, 16]\n",
        "            model.H_net.alpha = torch.tensor(\n",
        "                [1/len(model.H_net.resblock_list)], device=device)\n",
        "        elif step == sum(switch_steps[:4]) and len(model.H_net.resblocks) >= 10:\n",
        "            print('Model size increased')\n",
        "            model.H_net.init_new_resblocks(0, 1, 2)\n",
        "            model.H_net.init_new_resblocks(2, 3, 4)\n",
        "            model.H_net.init_new_resblocks(4, 5, 6)\n",
        "            model.H_net.init_new_resblocks(8, 9, 10)\n",
        "            model.H_net.init_new_resblocks(10, 11, 12)\n",
        "            model.H_net.init_new_resblocks(11, 12, 13)\n",
        "            model.H_net.init_new_resblocks(12, 13, 14)\n",
        "            model.H_net.init_new_resblocks(14, 15, 16)\n",
        "            model.H_net.resblock_list = [\n",
        "                0, 1, 2, 3, 4, 5, 6, 7, 8, 9, 10, 11, 12, 13, 14, 15, 16]\n",
        "            model.H_net.alpha = torch.tensor(\n",
        "                [1/len(model.H_net.resblock_list)], device=device)\n",
        "    return model\n"
      ]
    },
    {
      "cell_type": "code",
      "execution_count": 433,
      "metadata": {},
      "outputs": [
        {
          "data": {
            "text/plain": [
              "[[0, 1, 2, 3, 4, 5, 6, 7, 8, 9, 10, 11, 12, 13, 14, 15, 16],\n",
              " [0, 2, 4, 6, 8, 10, 12, 14, 16],\n",
              " [0, 4, 8, 12, 16],\n",
              " [0, 8, 16],\n",
              " [0, 16]]"
            ]
          },
          "execution_count": 433,
          "metadata": {},
          "output_type": "execute_result"
        }
      ],
      "source": [
        "def generate_multi_level_list_conf2(length=17, num_lists=4):\n",
        "    \n",
        "    largest_list =list(range(length))\n",
        "    all_lists = [largest_list]\n",
        "    # print(largest_list)\n",
        "    prev_list = largest_list\n",
        "    for j in range(num_lists):\n",
        "        new_list = []\n",
        "        for i, elem in enumerate(prev_list):\n",
        "            # print(i)\n",
        "            if not i%2 and i<len(prev_list):\n",
        "                new_list.append(elem)\n",
        "            if i == len(prev_list)-1:\n",
        "                # print(new_list)\n",
        "                all_lists.append(new_list)\n",
        "                prev_list = new_list\n",
        "    return all_lists\n",
        "all_lists = generate_multi_level_list_conf2(length=17, num_lists=4)\n",
        "all_lists"
      ]
    },
    {
      "cell_type": "code",
      "execution_count": 434,
      "metadata": {
        "id": "UDGAQoLIQVRN"
      },
      "outputs": [],
      "source": [
        "# switch_steps = [200, 100, 100, 100, 100, 100]\n",
        "# H_net = ResNet_config1(resblock_list=[0], num_blocks = 3, input_dim=4, hidden_dim=70, \n",
        "#                 nb_hidden_layers=2, output_dim=1, activation_res='x+sin(x)^2', activation_mlp='x+sin(x)^2')\n",
        "# for block in H_net.resblocks:\n",
        "#     block.to(device)\n",
        "# model = Nes_HDNN(u_func=u_func, G_net=g_func, H_net=H_net, device=device)\n",
        "# model.to(device)\n",
        "# multilevel_strategy_update(300, model,resnet_config=1)\n",
        "# print(model.H_net.resblock_list)"
      ]
    },
    {
      "cell_type": "code",
      "execution_count": 435,
      "metadata": {
        "id": "-quT749nQVND"
      },
      "outputs": [],
      "source": [
        "# H_net = ResNet_config2(resblock_list = [0,7], num_blocks = 12, input_dim=4, \n",
        "#                        hidden_dim=40, nb_hidden_layers=2, output_dim=1, \n",
        "#                        activation_res='x+sin(x)^2', activation_mlp='x+sin(x)^2')\n",
        "# num_params = 0\n",
        "# for block in H_net.resblocks:\n",
        "#     block.to(device)\n",
        "#     num_params += count_parameters(block)\n",
        "\n",
        "# model = Nes_HDNN(u_func=u_func, G_net=g_func, H_net=H_net, device=device)\n",
        "# model.to(device)\n",
        "\n",
        "# multilevel_strategy_update(300, model,resnet_config=2)\n",
        "# print(model.H_net.resblock_list)"
      ]
    },
    {
      "cell_type": "markdown",
      "metadata": {
        "id": "HZiNuDeAFiUc"
      },
      "source": [
        "### train function"
      ]
    },
    {
      "cell_type": "code",
      "execution_count": 437,
      "metadata": {
        "id": "RcxlyTUurZI5"
      },
      "outputs": [],
      "source": [
        "def train(model, Ts, train_loader, test_loader, w, grad_clip, lr_schedule, begin_decay, epoch_number, resnet_config = False,\n",
        "        alternating=False, horizon=False, horizon_type=False,\n",
        "        horizon_list = [50,100,150,200,250,300], \n",
        "        switch_steps = [200,200,200,150,150,150],\n",
        "        epochs = 20, \n",
        "        loss_type = 'L2', collect_grads = False,\n",
        "        rescale_loss = False,\n",
        "        rescale_dims = [1,1,1,1]\n",
        "        ):\n",
        "    '''\n",
        "    Description: \n",
        "\n",
        "    Inputs:\n",
        "\n",
        "    Outpus:\n",
        "    '''\n",
        "    ## TODO : make a function for one epoch\n",
        "    ## first training steps on smaller amount of time_steps\n",
        "\n",
        "    lr = 1e-3\n",
        "    \n",
        "    optim = torch.optim.AdamW(model.parameters(), lr, weight_decay=1e-4) # Adam\n",
        "    if lr_schedule:\n",
        "        scheduler = LinearLR(optim, start_factor=1.0, end_factor=0.5, total_iters=epochs-begin_decay)\n",
        "\n",
        "    logs = {'train_loss': [], 'test_loss': [], 'grads_preclip': [], 'grads_postclip': [], 'layer_names': []}\n",
        "\n",
        "    denom = torch.tensor([1],device=device)\n",
        "    horizon_updated = 1\n",
        "\n",
        "    for step in range(epochs):\n",
        "        \n",
        "        train_loss = 0\n",
        "        test_loss = 0\n",
        "        t1 = time.time()\n",
        "\n",
        "        if horizon_type == 'schedule':\n",
        "            pass\n",
        "        #     horizon, num_steps= select_horizon_wschedule(step,optim,\n",
        "        #                                                   epoch_number,\n",
        "        #                                                   switch_steps)\n",
        "        #     if num_steps :\n",
        "        #         scheduler = torch.optim.lr_scheduler.CosineAnnealingLR(optim, num_steps)\n",
        "        elif horizon_type == 'auto': \n",
        "            horizon_updated, horizon = select_horizon_list(step, epoch_number, horizon_list, switch_steps)\n",
        "        elif horizon_type == 'constant': \n",
        "            horizon = horizon\n",
        "\n",
        "        # increase the model size and initialie the new parameters\n",
        "        if resnet_config:\n",
        "            model = multilevel_strategy_update(device, step, model, resnet_config)\n",
        "\n",
        "        model.train()\n",
        "        \n",
        "        for i_batch, (x, t_eval) in enumerate(train_loader): \n",
        "            # x is [batch_size, time_steps, (q1,p1,q2,p1,u,g1,g2,g3,g4)]\n",
        "            # print('xshape',x.shape)\n",
        "            # print('tshape',t_eval.shape)\n",
        "            t_eval = t_eval[0,:horizon]\n",
        "\n",
        "            # calculate (max-min) to rescale the loss function\n",
        "            if rescale_loss:\n",
        "                if horizon_updated:\n",
        "                    _, _, denom =  get_maxmindenom(x=x[:, :horizon, :4].permute(1,0,2),dim1=(0),dim2=(0), rescale_dims=rescale_dims)\n",
        "\n",
        "            for i in range(2 if alternating else 1): # only runs once if alternating = False\n",
        "                if i==0 and alternating: # train only the model approximating G\n",
        "                    model.freeze_H_net(freeze=True)\n",
        "                    model.freeze_G_net(freeze=False)\n",
        "                elif i==1 and alternating: # train only the model approximating H\n",
        "                    model.freeze_H_net(freeze=False)\n",
        "                    model.freeze_G_net(freeze=True)\n",
        "\n",
        "                train_x_hat = odeint(model, x[:, 0, :4], t_eval, method='rk4', options=dict(step_size=Ts))     \n",
        "                # print('train_x_hat',train_x_hat.shape)       \n",
        "                # train_x_hat is [time_steps, batch_size, (q1,p1,q2,p1)] \n",
        "\n",
        "                train_loss_mini = L2_loss(x[:, :horizon, :4].permute(1,0,2) , \n",
        "                                            train_x_hat[:,:,:4], w, param = loss_type, \n",
        "                                            rescale_loss=rescale_loss, denom=denom)\n",
        "                # after permute x is [time_steps, batch_size, (q1,p1,q2,p1)]\n",
        "\n",
        "                # loss(u, v, w = False, dim = (0,1), param = loss_type)\n",
        "                if (not step%10) and (i_batch ==0):\n",
        "                    t_plot = time.time()\n",
        "                    training_plot(t_eval, train_x_hat[:,:,:4], x[:, :horizon, :4])\n",
        "                    print('plot time :' , time.time()-t_plot)\n",
        "\n",
        "                train_loss = train_loss + train_loss_mini.item()\n",
        "                \n",
        "                train_loss_mini.backward() \n",
        "                if collect_grads: \n",
        "                    layer_names, all_grads_preclip = collect_gradients(model.named_parameters())\n",
        "                    # print(all_grads_preclip)\n",
        "                if grad_clip : # gradient clipping to a norm of 1\n",
        "                    torch.nn.utils.clip_grad_norm_(model.parameters(), 1.0)\n",
        "                if collect_grads: \n",
        "                    layer_names, all_grads_postclip = collect_gradients(model.named_parameters())\n",
        "                    logs['layer_names'].append(layer_names)\n",
        "                    logs['grads_preclip'].append(all_grads_preclip)\n",
        "                    logs['grads_postclip'].append(all_grads_postclip)\n",
        "\n",
        "                optim.step() \n",
        "                optim.zero_grad() \n",
        "\n",
        "                if step>begin_decay and lr_schedule:\n",
        "                    scheduler.step()\n",
        "                \n",
        "                # if (horizon == 'schedule') and do_step:\n",
        "                #   scheduler.step()                                                                                                                       \n",
        "        \n",
        "        t2 = time.time()\n",
        "        train_time = t2-t1\n",
        "\n",
        "        model.eval()\n",
        "        if test_loader: \n",
        "                if not (step%10): # run validation every 10 steps\n",
        "                    for x, t_eval in iter(test_loader):\n",
        "                        with torch.no_grad(): # we won't need gradients for testing\n",
        "                            # run test data\n",
        "                            t_eval = t_eval[0,:horizon]\n",
        "          \n",
        "                            test_x_hat = odeint(model, x[:, 0, :4], t_eval, method='rk4', \n",
        "                                                options=dict(step_size=Ts))\n",
        "\n",
        "                            #test_loss_mini = L2_loss(torch.permute(x[:, :, :horizon], (2,0,1)) , test_x_hat[:horizon,:,:],w)\n",
        "                            \n",
        "                            test_loss_mini = L2_loss(x[:, :horizon, :4].permute(1,0,2) , \n",
        "                                                    test_x_hat[:horizon,:,:4], w, param = loss_type,\n",
        "                                                    rescale_loss=rescale_loss, denom=denom)\n",
        "                            test_loss = test_loss + test_loss_mini.item()\n",
        "                    test_time = time.time()-t2\n",
        "                    print('epoch {:4d} | train time {:.2f} | train loss {:8e} | test loss {:8e} | test time {:.2f}  '\n",
        "                          .format(step, train_time, train_loss, test_loss,test_time))\n",
        "                    logs['test_loss'].append(test_loss)\n",
        "                    \n",
        "                else:\n",
        "                    print('epoch {:4d} | train time {:.2f} | train loss {:8e} '\n",
        "                          .format(step, train_time, train_loss))\n",
        "        else:\n",
        "            print('epoch {:4d} | train time {:.2f} | train loss {:8e} '\n",
        "                  .format(step, train_time, train_loss))\n",
        "        \n",
        "        # logging\n",
        "        logs['train_loss'].append(train_loss)\n",
        "    return logs"
      ]
    },
    {
      "cell_type": "markdown",
      "metadata": {
        "id": "8b6B9xeLWPfT"
      },
      "source": [
        "# Sanity checks"
      ]
    },
    {
      "cell_type": "code",
      "execution_count": null,
      "metadata": {
        "colab": {
          "base_uri": "https://localhost:8080/",
          "height": 381
        },
        "id": "7WRVPbDTl7hF",
        "outputId": "cc6d6b97-90a4-44ac-d990-9ebdd4a25f84"
      },
      "outputs": [],
      "source": [
        "device = set_device()\n",
        "furuta_type = 'real' # 'real' or 'fake'\n",
        "Ts, noise_std, C_q1, C_q2, g, Jr, Lr, Mp, Lp = set_furuta_params(which = furuta_type) \n",
        "# C_q1, C_q2 = 0.000009, 0.00004\n",
        "utype = 'sine' #  'chirp' or None or '' or ''\n",
        "u_func = U_FUNC(utype=utype)\n",
        "u_func.params['T'] = 1.5\n",
        "u_func.params['f0'] = 0\n",
        "u_func.params['f1'] = 2 # 4 # 1.4\n",
        "u_func.params['scale'] = 0.0001 # for fake : 0.5 or 0.1 for real : 0.0001\n",
        "gtype = 'simple'\n",
        "g_func = G_FUNC(gtype=gtype)\n",
        "init_method = 'random_closetopi' # 'random_nozero' # 'random_closetopi'\n",
        "time_steps= 800\n",
        "num_trajectories = 100\n",
        "proportion = 0.0\n",
        "batch_size = 100\n",
        "w_rescale = [1, 10000, 1, 100000] # [1, 9000, 1, 10000] # [1,1,1,1]#\n",
        "\n",
        "# train_loader, test_loader = load_data_device(device, init_method, w_rescale, \n",
        "#                                             u_func, g_func, time_steps, \n",
        "#                                             shuffle = False, \n",
        "#                                             num_trajectories = num_trajectories, \n",
        "#                                             coord_type = 'hamiltonian', \n",
        "#                                             proportion = proportion, batch_size = batch_size, \n",
        "#                                             Ts=Ts, noise_std=noise_std, C_q1=C_q1, C_q2=C_q2, \n",
        "#                                             g = g, Jr = Jr, Lr = Lr, Mp = Mp, Lp = Lp) \n",
        "\n",
        "\n",
        "# q1, p1, q2, p2, t_eval = get_trajectory_furuta(device, init_method, num_trajectories, u_func, g_func, time_steps, None, noise_std, Ts, C_q1, \n",
        "#                           C_q2, g, Jr, Lr, Mp, Lp)\n",
        "# energy, derivatives = get_energy_furuta(device, time_steps, Ts, u_func, g_func, q1, p1, q2, p2, C_q1, C_q2, g, Jr, Lr, Mp, Lp)\n",
        "\n",
        "q1, p1, q2, p2, energy, derivatives, t_eval = multiple_trajectories_furuta('cpu', init_method, time_steps, num_trajectories, u_func, g_func, \n",
        "                          None, Ts,\n",
        "                          noise_std, C_q1, C_q2, g, \n",
        "                          Jr, Lr, Mp, Lp, energ_deriv=True)\n",
        "\n",
        "# print(u.shape)\n",
        "# print(G.shape)\n",
        "print(q1.shape)\n",
        "print(p1.shape)\n",
        "print(q2.shape)\n",
        "print(p2.shape)\n",
        "print(t_eval.shape)\n",
        "print(energy.shape)\n",
        "print(derivatives.shape)\n",
        "print(1/q1.std(), 1/p1.std(), 1/q2.std(), 1/p2.std())\n",
        "\n",
        "# w1, w2, w3, w4 = q1.std(), p1.std(), q2.std(), p2.std()\n",
        "# w_rescale = [1, 10000, 1, 10000]\n",
        "w1 = w_rescale[0]\n",
        "w2 = w_rescale[1]\n",
        "w3 = w_rescale[2]\n",
        "w4 = w_rescale[3]\n",
        "\n",
        "fix, ax = plt.subplots(1,4,figsize = (10,3))\n",
        "\n",
        "sns.histplot(q1.ravel(), ax=ax[0])\n",
        "sns.histplot(p1.ravel()*w2, ax=ax[1])\n",
        "sns.histplot(q2.ravel()*w3, ax=ax[2])\n",
        "sns.histplot(p2.ravel()*w4, ax=ax[3])\n",
        "plt.tight_layout()\n",
        "plt.show()\n",
        "\n",
        "fix, ax = plt.subplots(1,4,figsize = (10,3))\n",
        "sns.histplot(q1.ravel(), ax=ax[0])\n",
        "sns.histplot(p1.ravel(), ax=ax[1])\n",
        "sns.histplot(q2.ravel(), ax=ax[2])\n",
        "sns.histplot(p2.ravel(), ax=ax[3])\n",
        "plt.tight_layout()\n",
        "plt.show()"
      ]
    },
    {
      "cell_type": "code",
      "execution_count": null,
      "metadata": {},
      "outputs": [],
      "source": [
        "q1.shape"
      ]
    },
    {
      "cell_type": "code",
      "execution_count": null,
      "metadata": {},
      "outputs": [],
      "source": [
        "x_nominal_normalised.shape"
      ]
    },
    {
      "cell_type": "code",
      "execution_count": null,
      "metadata": {},
      "outputs": [],
      "source": [
        "for x in [q1, p1, q2, p2]:\n",
        "    x_nominal = x\n",
        "    maximums = x_nominal.amax(dim=(1))\n",
        "    minimums = x_nominal.amin(dim=(1))\n",
        "    denom = (maximums-minimums).abs().unsqueeze(dim=1)\n",
        "\n",
        "    x_nominal_normalised = (x_nominal-minimums.unsqueeze(dim=1))/denom\n",
        "    x = x_nominal_normalised"
      ]
    },
    {
      "cell_type": "code",
      "execution_count": null,
      "metadata": {},
      "outputs": [],
      "source": [
        "q1 = (q1-q1.amin(dim=(1)).unsqueeze(dim=1))/((q1.amax(dim=(1))-q1.amin(dim=(1))).abs().unsqueeze(dim=1))\n",
        "q2 = (q2-q2.amin(dim=(1)).unsqueeze(dim=1))/((q2.amax(dim=(1))-q2.amin(dim=(1))).abs().unsqueeze(dim=1))\n",
        "p1 = (p1-p1.amin(dim=(1)).unsqueeze(dim=1))/((p1.amax(dim=(1))-p1.amin(dim=(1))).abs().unsqueeze(dim=1))\n",
        "p2 = (p2-p2.amin(dim=(1)).unsqueeze(dim=1))/((p2.amax(dim=(1))-p2.amin(dim=(1))).abs().unsqueeze(dim=1))\n"
      ]
    },
    {
      "cell_type": "code",
      "execution_count": null,
      "metadata": {},
      "outputs": [],
      "source": [
        "fix, ax = plt.subplots(1,4,figsize = (10,3))\n",
        "\n",
        "sns.histplot(q1.ravel(), ax=ax[0])\n",
        "sns.histplot(p1.ravel(), ax=ax[1])\n",
        "sns.histplot(q2.ravel(), ax=ax[2])\n",
        "sns.histplot(p2.ravel(), ax=ax[3])\n",
        "plt.tight_layout()\n",
        "plt.show()"
      ]
    },
    {
      "cell_type": "code",
      "execution_count": null,
      "metadata": {
        "colab": {
          "base_uri": "https://localhost:8080/",
          "height": 1000
        },
        "id": "sMbBj-RLOnGX",
        "outputId": "39c17809-892d-4374-ef58-6bc7c04fdf4b"
      },
      "outputs": [],
      "source": [
        "u=u_func.forward(t_eval).cpu().detach() \n",
        "for n in range(10): \n",
        "   plot_traj_furuta_withinput(t_eval.cpu().detach(), \n",
        "   q1[n,:].cpu().detach(), \n",
        "   p1[n,:].cpu().detach()/w2, \n",
        "   q2[n,:].cpu().detach()/w3, \n",
        "   p2[n,:].cpu().detach()/w4, \n",
        "   energy = energy[n,:].cpu().detach(), input=u, \n",
        "                      title = 'Trajectory of the generalized coordinates', coord_type='hamiltonian') "
      ]
    },
    {
      "cell_type": "code",
      "execution_count": null,
      "metadata": {
        "id": "YgHj8NUxL-5p"
      },
      "outputs": [],
      "source": [
        "batch_size=10"
      ]
    },
    {
      "cell_type": "code",
      "execution_count": null,
      "metadata": {
        "id": "cw6Cpm0bL6ox"
      },
      "outputs": [],
      "source": [
        "train_loader, test_loader = data_loader_furuta(q1, p1, q2, p2, energy, derivatives, t_eval, batch_size,\n",
        "                       shuffle = True, proportion = 0.0, coord_type='hamiltonian')"
      ]
    },
    {
      "cell_type": "code",
      "execution_count": null,
      "metadata": {
        "id": "GnB5k1UPVI3c"
      },
      "outputs": [],
      "source": [
        "train_loader, test_loader = load_data_device(device, init_method, w_rescale, u_func, g_func, time_steps, num_trajectories, shuffle=False,\n",
        "                     coord_type='hamiltonian', proportion=proportion, batch_size=batch_size, \n",
        "                     Ts = Ts , noise_std = noise_std, C_q1 = C_q1, C_q2 = C_q2, \n",
        "                     g = g, Jr = Jr, Lr = Lr, Mp = Mp, Lp = Lp,min_max_rescale = True)"
      ]
    },
    {
      "cell_type": "code",
      "execution_count": null,
      "metadata": {
        "colab": {
          "base_uri": "https://localhost:8080/",
          "height": 609
        },
        "id": "b1J_Yq40XIsk",
        "outputId": "a7798792-fa90-47a2-cbeb-1485d6a9773d"
      },
      "outputs": [],
      "source": [
        "x,t = next(iter(train_loader))\n",
        "for n in range(10):\n",
        "  t_eval = t[0,:].cpu().detach()\n",
        "  q1 = x[n,:,0].cpu().detach()\n",
        "  p1 = x[n,:,1].cpu().detach()\n",
        "  q2 = x[n,:,2].cpu().detach()\n",
        "  p2 = x[n,:,3].cpu().detach()\n",
        "  u = u_func.forward(t_eval).cpu().detach()\n",
        "  G = g_func.forward(x[n,:,:4]).cpu().detach()\n",
        "  plot_traj_furuta_withinput(t_eval, q1, p1, q2, p2,input=u,\n",
        "                      title = 'Trajectory of the generalized coordinates', coord_type='hamiltonian')"
      ]
    },
    {
      "cell_type": "code",
      "execution_count": null,
      "metadata": {
        "colab": {
          "base_uri": "https://localhost:8080/",
          "height": 293
        },
        "id": "m_hbUTe4jTqn",
        "outputId": "160752fb-689a-4443-bf3d-5412dccae28b"
      },
      "outputs": [],
      "source": [
        "model = torch.nn.Linear(2,1)\n",
        "optimizer = torch.optim.AdamW(model.parameters(), 1e-4, weight_decay=1e-4)\n",
        "torch.optim.lr_scheduler.LinearLR(optimizer, start_factor=0.3333333333333333, end_factor=1.0, total_iters=5, last_epoch=- 1, verbose=False)\n",
        "max_epochs = 100\n",
        "begin_decay=80\n",
        "scheduler = LinearLR(optimizer, start_factor=1.0, end_factor=0.5, total_iters=max_epochs-begin_decay)\n",
        "lrs = []\n",
        "\n",
        "for epoch in range(max_epochs):\n",
        "    if epoch>begin_decay:\n",
        "        optimizer.step()\n",
        "        scheduler.step()\n",
        "    lrs.append(scheduler.get_last_lr())\n",
        "plt.plot(lrs)"
      ]
    },
    {
      "cell_type": "markdown",
      "metadata": {},
      "source": [
        "# min max normalization"
      ]
    },
    {
      "cell_type": "code",
      "execution_count": null,
      "metadata": {},
      "outputs": [],
      "source": [
        "device = set_device()\n",
        "furuta_type = 'real' # 'real' or 'fake'\n",
        "Ts, noise_std, C_q1, C_q2, g, Jr, Lr, Mp, Lp = set_furuta_params(which = furuta_type) \n",
        "# C_q1, C_q2 = 0.000009, 0.00004\n",
        "utype = 'sine' #  'chirp' or None or '' or ''\n",
        "u_func = U_FUNC(utype=utype)\n",
        "u_func.params['T'] = 1.5\n",
        "u_func.params['f0'] = 0\n",
        "u_func.params['f1'] = 4 # 4 # 1.4\n",
        "u_func.params['scale'] = 0.0001 # for fake : 0.5 or 0.1 for real : 0.0001\n",
        "gtype = 'simple'\n",
        "g_func = G_FUNC(gtype=gtype)\n",
        "init_method = 'random_closetopi' # 'random_nozero' # 'random_closetopi'\n",
        "time_steps= 800\n",
        "num_trajectories = 125\n",
        "proportion = 0.0\n",
        "batch_size = 100\n",
        "w_rescale = [1, 10000, 1, 100000] # [1, 9000, 1, 10000] # [1,1,1,1]#"
      ]
    },
    {
      "cell_type": "code",
      "execution_count": null,
      "metadata": {},
      "outputs": [],
      "source": [
        "train_loader, test_loader = load_data_device(device, init_method, w_rescale, \n",
        "                                            u_func, g_func, time_steps, \n",
        "                                            shuffle = False, \n",
        "                                            num_trajectories = num_trajectories, \n",
        "                                            coord_type = 'hamiltonian', \n",
        "                                            proportion = proportion, batch_size = batch_size, \n",
        "                                            Ts=Ts, noise_std=noise_std, C_q1=C_q1, C_q2=C_q2, \n",
        "                                            g = g, Jr = Jr, Lr = Lr, Mp = Mp, Lp = Lp) "
      ]
    },
    {
      "cell_type": "code",
      "execution_count": null,
      "metadata": {},
      "outputs": [],
      "source": [
        "horizon_list = [20, 100, 150,300]"
      ]
    },
    {
      "cell_type": "code",
      "execution_count": null,
      "metadata": {},
      "outputs": [],
      "source": [
        "x,t = next(iter(train_loader))"
      ]
    },
    {
      "cell_type": "code",
      "execution_count": null,
      "metadata": {},
      "outputs": [],
      "source": [
        "for n in range(10):\n",
        "  t_eval = t[0,:].cpu().detach()\n",
        "  q1 = x[n,:,0].cpu().detach()\n",
        "  p1 = x[n,:,1].cpu().detach()\n",
        "  q2 = x[n,:,2].cpu().detach()\n",
        "  p2 = x[n,:,3].cpu().detach()\n",
        "  u = u_func.forward(t_eval).cpu().detach()\n",
        "  G = g_func.forward(x[n,:,:4]).cpu().detach()\n",
        "  plot_traj_furuta_withinput(t_eval, q1, p1, q2, p2,input=u,\n",
        "                      title = 'Trajectory of the generalized coordinates', coord_type='hamiltonian')"
      ]
    },
    {
      "cell_type": "code",
      "execution_count": null,
      "metadata": {},
      "outputs": [],
      "source": [
        "fix, ax = plt.subplots(1,4,figsize = (10,3))\n",
        "print(x.shape)\n",
        "sns.histplot(x[:,:,0].ravel(), ax=ax[0])\n",
        "sns.histplot(x[:,:,1].ravel(), ax=ax[1])\n",
        "sns.histplot(x[:,:,2].ravel(), ax=ax[2])\n",
        "sns.histplot(x[:,:,3].ravel(), ax=ax[3])\n",
        "plt.tight_layout()\n",
        "plt.show()"
      ]
    },
    {
      "cell_type": "code",
      "execution_count": null,
      "metadata": {},
      "outputs": [],
      "source": [
        "i=3\n",
        "x_nominal = x[:,:,:]\n",
        "\n",
        "rescale_dims=[1,1,1,1]\n",
        "dim1, dim2 = (1),(1)\n",
        "maximums, minimums, denom = get_maxmindenom(x_nominal, dim1, dim2, rescale_dims)\n",
        "\n",
        "def min_max_rescale_(x, maximums, minimums, denom):\n",
        "    x_nominal_normalised = (x-minimums)/denom\n",
        "    return x_nominal_normalised\n",
        "\n",
        "x_pred_normalised = (x_nominal-minimums)/denom\n",
        "print(minimums.shape)\n",
        "print(maximums.shape)\n",
        "print(denom.shape)\n",
        "print(x_nominal.shape)\n",
        "print(x_pred_normalised.shape)"
      ]
    },
    {
      "cell_type": "code",
      "execution_count": null,
      "metadata": {},
      "outputs": [],
      "source": [
        "fix, ax = plt.subplots(1,4,figsize = (10,3))\n",
        "\n",
        "sns.histplot(x_pred_normalised[:,:,0].ravel(), ax=ax[0])\n",
        "sns.histplot(x_pred_normalised[:,:,1].ravel(), ax=ax[1])\n",
        "sns.histplot(x_pred_normalised[:,:,2].ravel(), ax=ax[2])\n",
        "sns.histplot(x_pred_normalised[:,:,3].ravel(), ax=ax[3])\n",
        "plt.tight_layout()\n",
        "plt.show()"
      ]
    },
    {
      "cell_type": "code",
      "execution_count": null,
      "metadata": {},
      "outputs": [],
      "source": [
        "for n in range(10):\n",
        "  t_eval = t[0,:horizon_list[i]].cpu().detach()\n",
        "  q1 = x_pred_normalised[n,:,0].cpu().detach()\n",
        "  p1 = x_pred_normalised[n,:,1].cpu().detach()\n",
        "  q2 = x_pred_normalised[n,:,2].cpu().detach()\n",
        "  p2 = x_pred_normalised[n,:,3].cpu().detach()\n",
        "  u = u_func.forward(t_eval).cpu().detach()\n",
        "  G = g_func.forward(x[n,:,:4]).cpu().detach()\n",
        "  plot_traj_furuta_withinput(t_eval, q1, p1, q2, p2,input=u,\n",
        "                      title = 'Trajectory of the generalized coordinates', coord_type='hamiltonian')"
      ]
    },
    {
      "cell_type": "code",
      "execution_count": null,
      "metadata": {},
      "outputs": [],
      "source": [
        "# print((b).shape)\n",
        "\n",
        "# plt.subplots(sns.histplot((b[:,:,0]).ravel(),ax=ax[0]))\n",
        "# plt.subplots(sns.histplot((b[:,:,1]).ravel(),ax=ax[1]))\n",
        "# plt.subplots(sns.histplot((b[:,:,2]).ravel(),ax=ax[2]))\n",
        "# plt.subplots(sns.histplot((b[:,:,3]).ravel(),ax=ax[3]))"
      ]
    },
    {
      "cell_type": "markdown",
      "metadata": {
        "id": "2azdHB9irsbo"
      },
      "source": [
        "# Generate, load and save the dataset"
      ]
    },
    {
      "cell_type": "code",
      "execution_count": null,
      "metadata": {
        "id": "dir-6ePzw2dC"
      },
      "outputs": [],
      "source": [
        "device = set_device()\n",
        "furuta_type = 'real' # 'real' or 'fake'\n",
        "Ts, noise_std, C_q1, C_q2, g, Jr, Lr, Mp, Lp = set_furuta_params(which = furuta_type) \n",
        "\n",
        "utype = None #  'chirp' or None or '' or ''\n",
        "u_func = U_FUNC(utype=utype)\n",
        "u_func.params['T'] = 1.5\n",
        "u_func.params['f0'] = 0\n",
        "u_func.params['f1'] = 4 # 4 # 1.4\n",
        "u_func.params['scale'] = 0.001 # for fake : 0.5 or 0.1 for real : 0.0001\n",
        "gtype='simple'\n",
        "g_func = G_FUNC(gtype=gtype)\n",
        "init_method = 'random_nozero' # 'random_nozero' # 'random_closetopi'\n",
        "time_steps= 300\n",
        "num_trajectories = 10\n",
        "proportion = 0.0\n",
        "batch_size = 100\n",
        "w_rescale = [1, 1000, 1, 10000] # [1, 9000, 1, 10000]\n",
        "\n",
        "train_loader, test_loader = load_data_device(device, init_method, w_rescale, \n",
        "                                            u_func, g_func, time_steps, \n",
        "                                            shuffle = False, \n",
        "                                            num_trajectories = num_trajectories, \n",
        "                                            coord_type = 'hamiltonian', \n",
        "                                            proportion = proportion, batch_size = batch_size, \n",
        "                                            Ts=Ts, noise_std=noise_std, C_q1=C_q1, C_q2=C_q2, \n",
        "                                            g = g, Jr = Jr, Lr = Lr, Mp = Mp, Lp = Lp) "
      ]
    },
    {
      "cell_type": "code",
      "execution_count": null,
      "metadata": {
        "id": "RQoA6EWtJycA"
      },
      "outputs": [],
      "source": [
        "x,t = next(iter(train_loader))\n",
        "print(x.shape)\n",
        "for n in range(1):\n",
        "  t_eval = t[0,:].cpu().detach()\n",
        "  q1 = x[n,:,0].cpu().detach()\n",
        "  p1 = x[n,:,1].cpu().detach()\n",
        "  q2 = x[n,:,2].cpu().detach()\n",
        "  p2 = x[n,:,3].cpu().detach()\n",
        "  \n",
        "  u = u_func.forward(t_eval).cpu().detach()\n",
        "  G = g_func.forward(x[n,:,:4]).cpu().detach()\n",
        "  energy, derivatives = get_energy_furuta(device, time_steps, Ts, u_func, g_func, \n",
        "  q1, p1, q2, p2, C_q1, C_q2, g, Jr, Lr, Mp, Lp)\n",
        "  print('q1',q1.shape)\n",
        "  print('energy',energy.shape)\n",
        "  energy = energy.detach().squeeze()\n",
        "\n",
        "  plot_traj_furuta_withinput(t_eval, q1, p1, q2, p2, energy=energy, input=u,\n",
        "                      title = 'Trajectory of the generalized coordinates', coord_type='hamiltonian')"
      ]
    },
    {
      "cell_type": "code",
      "execution_count": null,
      "metadata": {
        "id": "ivE30zYOrsbq"
      },
      "outputs": [],
      "source": [
        "# suffix = 'Ts_{:.3f}_Jr_{:.2f}_Lr_{:.2f}_Mp_{:.2f}_Lp_{:.2f}'.format(Ts, Jr, Lr, Mp, Lp)\n",
        "# suffix = suffix + '_'+ utype\n",
        "# print(suffix)\n",
        "# train_loader_path = PATH + 'data/datasets/train_loader_' + suffix + '.pt'\n",
        "# test_loader_path = PATH + 'data/datasets/test_loader_' + suffix + '.pt'"
      ]
    },
    {
      "cell_type": "code",
      "execution_count": null,
      "metadata": {
        "id": "90oeaYmmrsbs"
      },
      "outputs": [],
      "source": [
        "# torch.save(train_loader, train_loader_path)\n",
        "# if test_loader is not None:\n",
        "#     torch.save(test_loader, test_loader_path)"
      ]
    },
    {
      "cell_type": "code",
      "execution_count": null,
      "metadata": {
        "id": "M5rw1BVwrsbt"
      },
      "outputs": [],
      "source": [
        "# train_loader = torch.load(train_loader_path)\n",
        "# test_loader = torch.load(test_loader_path)"
      ]
    },
    {
      "cell_type": "markdown",
      "metadata": {
        "id": "NK-tFX-vrsbt"
      },
      "source": [
        "# Training"
      ]
    },
    {
      "cell_type": "markdown",
      "metadata": {
        "id": "_WBPS5kWJycC"
      },
      "source": [
        "#### U_HNN "
      ]
    },
    {
      "cell_type": "code",
      "execution_count": null,
      "metadata": {
        "colab": {
          "base_uri": "https://localhost:8080/"
        },
        "id": "SebIxog3JycC",
        "outputId": "11493996-f673-4be6-d649-ae404ea07a2d"
      },
      "outputs": [],
      "source": [
        "device = set_device()\n",
        "furuta_type = 'real' # 'real' or 'fake'\n",
        "Ts, noise_std, C_q1, C_q2, g, Jr, Lr, Mp, Lp = set_furuta_params(which = furuta_type) \n",
        "\n",
        "utype = None #  'chirp' or None or '' or ''\n",
        "u_func = U_FUNC(utype=utype)\n",
        "gtype = None\n",
        "g_func = G_FUNC(gtype=gtype)\n",
        "init_method = 'random_nozero' # 'random_nozero' # 'random_closetopi'\n",
        "time_steps= 300\n",
        "num_trajectories = 100\n",
        "proportion = 0.0\n",
        "batch_size = 100\n",
        "# w_rescale = [1, 1000, 1, 10000] # [1, 9000, 1, 10000]\n",
        "shuffle = False\n",
        "coord_type = 'hamiltonian'\n",
        "rescale_dims = [1,1,1,0]\n",
        "min_max_rescale = True\n",
        "\n",
        "train_loader, test_loader = load_data_device(device, init_method, w_rescale, \n",
        "                                            u_func, g_func, time_steps, \n",
        "                                            shuffle = shuffle, \n",
        "                                            num_trajectories = num_trajectories, \n",
        "                                            coord_type = coord_type, \n",
        "                                            proportion = proportion, batch_size = batch_size, \n",
        "                                            Ts=Ts, noise_std=noise_std, C_q1=C_q1, C_q2=C_q2, \n",
        "                                            g = g, Jr = Jr, Lr = Lr, Mp = Mp, Lp = Lp,\n",
        "                                            min_max_rescale = min_max_rescale, rescale_dims = rescale_dims) \n",
        "                                            "
      ]
    },
    {
      "cell_type": "code",
      "execution_count": null,
      "metadata": {
        "colab": {
          "base_uri": "https://localhost:8080/"
        },
        "id": "dFeWFdOtJycC",
        "outputId": "4fa3ad70-dd42-4e9e-c4dc-d06d88005c62"
      },
      "outputs": [],
      "source": [
        "horizon_list = [50,100,150,200,250,300]\n",
        "switch_steps = [200,100,100,100,100,100]\n",
        "# horizon_list = [50,100]\n",
        "# switch_steps = [5,5]\n",
        "epoch_number = sum(switch_steps)\n",
        "grad_clip = True # activate gradient clipping\n",
        "lr_schedule = True # activate lr schedule\n",
        "begin_decay = 2250 # epoch at which lr starts decaying\n",
        "\n",
        "model_name = 'UODEHNN_mlp'\n",
        "\n",
        "H_net = MLP(input_dim=4, hidden_dim=70, nb_hidden_layers=2, output_dim=1, activation='x+sin(x)^2')\n",
        "model = U_HNN(input_dim=4, H_net=H_net, device=device) \n",
        "model.to(device) \n",
        "num_params = count_parameters(model) \n",
        "\n",
        "weights = [1.0, 1.0, 1.0, 1.0] # weights for the loss functions\n",
        "weights_title = ' | weights = ' + str(weights) \n",
        "\n",
        "save_prefix = '{:d}e_w{:05.1f}_{:05.1f}_{:05.1f}_{:05.1f}_p{:d}k_Ts{:1.3f}_'.format(epoch_number,weights[0],weights[1],weights[2],weights[3],int((num_params-num_params%1000)/1000),Ts)\n",
        "if utype is None:\n",
        "    input = 'noinput'\n",
        "else :\n",
        "    input = utype\n",
        "save_prefix = model_name +'_'+ input + '_' + str(num_trajectories)+'traj'+'_' + furuta_type + '_' + 'noise'+str(noise_std)+'_'+  save_prefix \n",
        "if grad_clip:\n",
        "    save_prefix = save_prefix + 'gradcl_'\n",
        "if lr_schedule: \n",
        "    save_prefix = save_prefix + 'lrsched_'\n",
        "if C_q1==0 and C_q2==0:\n",
        "    save_prefix = save_prefix + 'nodissip'\n",
        "else:\n",
        "    save_prefix = save_prefix + 'wdissip'\n",
        "\n",
        "print('Total number of epochs:',epoch_number)\n",
        "print('H_net number of parameters :', num_params)\n",
        "print('Save file prefix : ', save_prefix)\n",
        "\n",
        "if len(horizon_list) == len(switch_steps) :\n",
        "    print('horizon_list and switch_steps have the same size')\n",
        "else:\n",
        "    raise ValueError('horizon_list and switch_steps do NOT have the same size')"
      ]
    },
    {
      "cell_type": "code",
      "execution_count": null,
      "metadata": {
        "colab": {
          "base_uri": "https://localhost:8080/",
          "height": 1000
        },
        "id": "0p7VJblfYUws",
        "outputId": "46075fbd-0f71-4b46-dda2-860f7d652f9e"
      },
      "outputs": [],
      "source": [
        "stats = train(model = model, \n",
        "            Ts = Ts, \n",
        "            train_loader = train_loader, \n",
        "            test_loader = test_loader, \n",
        "            w=torch.tensor(weights, device=device),\n",
        "            grad_clip = grad_clip,\n",
        "            lr_schedule = lr_schedule,\n",
        "            begin_decay = begin_decay, \n",
        "            resnet_config = None,\n",
        "            epoch_number = epoch_number, \n",
        "            alternating = False,\n",
        "            horizon = False, \n",
        "            horizon_type = 'auto', \n",
        "            horizon_list = horizon_list, \n",
        "            switch_steps = switch_steps, \n",
        "            epochs = epoch_number, \n",
        "            loss_type = 'L2weighted', \n",
        "            collect_grads = False,\n",
        "            rescale_loss = True,\n",
        "            rescale_dims = [1,1,1,0]\n",
        "            )"
      ]
    },
    {
      "cell_type": "code",
      "execution_count": null,
      "metadata": {
        "colab": {
          "base_uri": "https://localhost:8080/",
          "height": 294
        },
        "id": "TJVkivwBD-F1",
        "outputId": "7b7c1124-8542-4e37-d9d8-d9d882e785dd"
      },
      "outputs": [],
      "source": [
        "plot_grads(stats)"
      ]
    },
    {
      "cell_type": "code",
      "execution_count": null,
      "metadata": {
        "id": "mKc9x8kW_WBa"
      },
      "outputs": [],
      "source": [
        "# save model to disk\n",
        "model_path = 'data/models/'+save_prefix+'model_test'\n",
        "torch.save(model.state_dict(), PATH+model_path)\n",
        "\n",
        "# save the stats\n",
        "stats_path = PATH+'data/stats/'+save_prefix+'stats.txt'\n",
        "save_stats(stats, stats_path)"
      ]
    },
    {
      "cell_type": "markdown",
      "metadata": {
        "id": "F18LW49JJycE"
      },
      "source": [
        "#### NESHDNN + mlp + input"
      ]
    },
    {
      "cell_type": "code",
      "execution_count": 456,
      "metadata": {
        "colab": {
          "base_uri": "https://localhost:8080/"
        },
        "id": "ZJ9MdLpvJycF",
        "outputId": "284c0edd-0486-451d-8d83-ac6df2c080b8"
      },
      "outputs": [
        {
          "name": "stdout",
          "output_type": "stream",
          "text": [
            "cpu\n"
          ]
        }
      ],
      "source": [
        "device = set_device()\n",
        "furuta_type = 'real'  # 'real' or 'fake'\n",
        "Ts, noise_std, C_q1, C_q2, g, Jr, Lr, Mp, Lp = set_furuta_params(\n",
        "    which=furuta_type)\n",
        "# C_q1, C_q2 = 0.000009, 0.00004\n",
        "utype = 'chirp'  # 'chirp' or None or '' or ''\n",
        "u_func = U_FUNC(utype=utype)\n",
        "u_func.params['T'] = 1.5\n",
        "u_func.params['f0'] = 0\n",
        "u_func.params['f1'] = 2  # 4 # 1.4\n",
        "u_func.params['scale'] = 0.0001  # for fake : 0.5 or 0.1 for real : 0.0001\n",
        "gtype = 'simple'\n",
        "g_func = G_FUNC(gtype=gtype)\n",
        "init_method = 'random_nozero'  # 'random_nozero' # 'random_closetopi'\n",
        "time_steps = 800\n",
        "num_trajectories = 100\n",
        "proportion = 0.0\n",
        "batch_size = 100\n",
        "w_rescale = [1, 1000, 1, 100000]  # [1, 9000, 1, 10000]\n",
        "coord_type = 'hamiltonian'\n",
        "min_max_rescale = True\n",
        "rescale_dims = [1, 1, 1, 1]\n",
        "shuffle = False\n",
        "train_loader, test_loader = load_data_device(device, init_method, w_rescale,\n",
        "                                             u_func, g_func, time_steps,\n",
        "                                             shuffle=shuffle,\n",
        "                                             num_trajectories=num_trajectories,\n",
        "                                             coord_type=coord_type,\n",
        "                                             proportion=proportion, batch_size=batch_size,\n",
        "                                             Ts=Ts, noise_std=noise_std, C_q1=C_q1, C_q2=C_q2,\n",
        "                                             g=g, Jr=Jr, Lr=Lr, Mp=Mp, Lp=Lp,\n",
        "                                             min_max_rescale=min_max_rescale, rescale_dims = rescale_dims)\n"
      ]
    },
    {
      "cell_type": "code",
      "execution_count": 457,
      "metadata": {
        "colab": {
          "base_uri": "https://localhost:8080/"
        },
        "id": "8QOhfGdQJycF",
        "outputId": "e07b21cc-962d-41df-e15f-1166e59fa1b3"
      },
      "outputs": [
        {
          "name": "stdout",
          "output_type": "stream",
          "text": [
            "Total number of epochs: 1000\n",
            "H_net number of parameters : 33303\n",
            "Save file prefix :  NESHDNN_mlp_chirp_100traj_real_noise0.0_1000e_w001.0_001.0_001.0_001.0_p33k_Ts0.005_gradcl_lrsched_nodissip\n",
            "horizon_list and switch_steps have the same size \n"
          ]
        }
      ],
      "source": [
        "# horizon_list = [40, 60, 80, 100, 120, 140, 160, 180, 200, 220, 240, 260, 280, 300]\n",
        "# switch_steps = [500, 100, 100, 100, 100, 100, 100, 100, 100, 100, 100, 100, 100, 100]\n",
        "\n",
        "horizon_list = [50, 100, 150, 200, 250, 300]\n",
        "switch_steps = [300, 200, 200, 100, 100, 100]\n",
        "epoch_number = sum(switch_steps)\n",
        "grad_clip = True  # activate gradient clipping\n",
        "lr_schedule = True  # activate lr schedule\n",
        "begin_decay = 2250  # epoch at which lr starts decaying\n",
        "\n",
        "model_name = 'NESHDNN_mlp'\n",
        "\n",
        "H_net = MLP(input_dim=4, hidden_dim=90, nb_hidden_layers=4,\n",
        "            output_dim=1, activation='x+sin(x)^2')\n",
        "model = Nes_HDNN(u_func=u_func, G_net=g_func,\n",
        "                 H_net=H_net, device=device, dissip=False)\n",
        "model.to(device)\n",
        "num_params = count_parameters(model)\n",
        "\n",
        "weights = [1.0, 1.0, 1.0, 1.0]\n",
        "weights_title = ' | weights = ' + str(weights)\n",
        "\n",
        "save_prefix = '{:d}e_w{:05.1f}_{:05.1f}_{:05.1f}_{:05.1f}_p{:d}k_Ts{:1.3f}_'.format(\n",
        "    epoch_number, weights[0], weights[1], weights[2], weights[3], int((num_params-num_params % 1000)/1000), Ts)\n",
        "if utype is None:\n",
        "    input = 'noinput'\n",
        "else:\n",
        "    input = utype\n",
        "save_prefix = model_name + '_' + input + '_' + \\\n",
        "    str(num_trajectories)+'traj'+'_' + furuta_type + \\\n",
        "    '_' + 'noise'+str(noise_std)+'_' + save_prefix\n",
        "if grad_clip:\n",
        "    save_prefix = save_prefix + 'gradcl_'\n",
        "if lr_schedule:\n",
        "    save_prefix = save_prefix + 'lrsched_'\n",
        "if C_q1 == 0 and C_q2 == 0:\n",
        "    save_prefix = save_prefix + 'nodissip'\n",
        "else:\n",
        "    save_prefix = save_prefix + 'wdissip'\n",
        "\n",
        "print('Total number of epochs:', epoch_number)\n",
        "print('H_net number of parameters :', num_params)\n",
        "print('Save file prefix : ', save_prefix)\n",
        "\n",
        "if len(horizon_list) == len(switch_steps):\n",
        "    print('horizon_list and switch_steps have the same size ')\n",
        "else:\n",
        "    raise ValueError('horizon_list and switch_steps do NOT have the same size ', len(\n",
        "        horizon_list), len(switch_steps))"
      ]
    },
    {
      "cell_type": "code",
      "execution_count": 459,
      "metadata": {
        "id": "DyiVnpXrgowB"
      },
      "outputs": [
        {
          "name": "stdout",
          "output_type": "stream",
          "text": [
            "horizon length : 50\n"
          ]
        },
        {
          "data": {
            "image/png": "[encoded data removed]",
            "text/plain": [
              "<Figure size 720x360 with 4 Axes>"
            ]
          },
          "metadata": {
            "needs_background": "light"
          },
          "output_type": "display_data"
        },
        {
          "name": "stdout",
          "output_type": "stream",
          "text": [
            "plot time : 0.6356368064880371\n",
            "epoch    0 | train time 3.28 | train loss 4.043246e-01 \n",
            "epoch    1 | train time 2.67 | train loss 3.990547e-01 \n",
            "epoch    2 | train time 2.46 | train loss 3.927431e-01 \n",
            "epoch    3 | train time 2.57 | train loss 3.844723e-01 \n",
            "epoch    4 | train time 2.63 | train loss 3.734621e-01 \n",
            "epoch    5 | train time 2.66 | train loss 3.590482e-01 \n",
            "epoch    6 | train time 2.36 | train loss 3.408076e-01 \n"
          ]
        },
        {
          "ename": "KeyboardInterrupt",
          "evalue": "",
          "output_type": "error",
          "traceback": [
            "\u001b[1;31m---------------------------------------------------------------------------\u001b[0m",
            "\u001b[1;31mKeyboardInterrupt\u001b[0m                         Traceback (most recent call last)",
            "\u001b[1;32m~\\AppData\\Local\\Temp/ipykernel_7308/1936013803.py\u001b[0m in \u001b[0;36m<module>\u001b[1;34m\u001b[0m\n\u001b[1;32m----> 1\u001b[1;33m stats = train(model=model,\n\u001b[0m\u001b[0;32m      2\u001b[0m               \u001b[0mTs\u001b[0m\u001b[1;33m=\u001b[0m\u001b[0mTs\u001b[0m\u001b[1;33m,\u001b[0m\u001b[1;33m\u001b[0m\u001b[1;33m\u001b[0m\u001b[0m\n\u001b[0;32m      3\u001b[0m               \u001b[0mtrain_loader\u001b[0m\u001b[1;33m=\u001b[0m\u001b[0mtrain_loader\u001b[0m\u001b[1;33m,\u001b[0m\u001b[1;33m\u001b[0m\u001b[1;33m\u001b[0m\u001b[0m\n\u001b[0;32m      4\u001b[0m               \u001b[0mtest_loader\u001b[0m\u001b[1;33m=\u001b[0m\u001b[0mtest_loader\u001b[0m\u001b[1;33m,\u001b[0m\u001b[1;33m\u001b[0m\u001b[1;33m\u001b[0m\u001b[0m\n\u001b[0;32m      5\u001b[0m               \u001b[0mw\u001b[0m\u001b[1;33m=\u001b[0m\u001b[0mtorch\u001b[0m\u001b[1;33m.\u001b[0m\u001b[0mtensor\u001b[0m\u001b[1;33m(\u001b[0m\u001b[0mweights\u001b[0m\u001b[1;33m,\u001b[0m \u001b[0mdevice\u001b[0m\u001b[1;33m=\u001b[0m\u001b[0mdevice\u001b[0m\u001b[1;33m)\u001b[0m\u001b[1;33m,\u001b[0m\u001b[1;33m\u001b[0m\u001b[1;33m\u001b[0m\u001b[0m\n",
            "\u001b[1;32m~\\AppData\\Local\\Temp/ipykernel_7308/3869133303.py\u001b[0m in \u001b[0;36mtrain\u001b[1;34m(model, Ts, train_loader, test_loader, w, grad_clip, lr_schedule, begin_decay, epoch_number, resnet_config, alternating, horizon, horizon_type, horizon_list, switch_steps, epochs, loss_type, collect_grads, rescale_loss, rescale_dims)\u001b[0m\n\u001b[0;32m     89\u001b[0m                 \u001b[0mtrain_loss\u001b[0m \u001b[1;33m=\u001b[0m \u001b[0mtrain_loss\u001b[0m \u001b[1;33m+\u001b[0m \u001b[0mtrain_loss_mini\u001b[0m\u001b[1;33m.\u001b[0m\u001b[0mitem\u001b[0m\u001b[1;33m(\u001b[0m\u001b[1;33m)\u001b[0m\u001b[1;33m\u001b[0m\u001b[1;33m\u001b[0m\u001b[0m\n\u001b[0;32m     90\u001b[0m \u001b[1;33m\u001b[0m\u001b[0m\n\u001b[1;32m---> 91\u001b[1;33m                 \u001b[0mtrain_loss_mini\u001b[0m\u001b[1;33m.\u001b[0m\u001b[0mbackward\u001b[0m\u001b[1;33m(\u001b[0m\u001b[1;33m)\u001b[0m\u001b[1;33m\u001b[0m\u001b[1;33m\u001b[0m\u001b[0m\n\u001b[0m\u001b[0;32m     92\u001b[0m                 \u001b[1;32mif\u001b[0m \u001b[0mcollect_grads\u001b[0m\u001b[1;33m:\u001b[0m\u001b[1;33m\u001b[0m\u001b[1;33m\u001b[0m\u001b[0m\n\u001b[0;32m     93\u001b[0m                     \u001b[0mlayer_names\u001b[0m\u001b[1;33m,\u001b[0m \u001b[0mall_grads_preclip\u001b[0m \u001b[1;33m=\u001b[0m \u001b[0mcollect_gradients\u001b[0m\u001b[1;33m(\u001b[0m\u001b[0mmodel\u001b[0m\u001b[1;33m.\u001b[0m\u001b[0mnamed_parameters\u001b[0m\u001b[1;33m(\u001b[0m\u001b[1;33m)\u001b[0m\u001b[1;33m)\u001b[0m\u001b[1;33m\u001b[0m\u001b[1;33m\u001b[0m\u001b[0m\n",
            "\u001b[1;32mc:\\ProgramData\\Anaconda3\\envs\\pds\\lib\\site-packages\\torch\\_tensor.py\u001b[0m in \u001b[0;36mbackward\u001b[1;34m(self, gradient, retain_graph, create_graph, inputs)\u001b[0m\n\u001b[0;32m    305\u001b[0m                 \u001b[0mcreate_graph\u001b[0m\u001b[1;33m=\u001b[0m\u001b[0mcreate_graph\u001b[0m\u001b[1;33m,\u001b[0m\u001b[1;33m\u001b[0m\u001b[1;33m\u001b[0m\u001b[0m\n\u001b[0;32m    306\u001b[0m                 inputs=inputs)\n\u001b[1;32m--> 307\u001b[1;33m         \u001b[0mtorch\u001b[0m\u001b[1;33m.\u001b[0m\u001b[0mautograd\u001b[0m\u001b[1;33m.\u001b[0m\u001b[0mbackward\u001b[0m\u001b[1;33m(\u001b[0m\u001b[0mself\u001b[0m\u001b[1;33m,\u001b[0m \u001b[0mgradient\u001b[0m\u001b[1;33m,\u001b[0m \u001b[0mretain_graph\u001b[0m\u001b[1;33m,\u001b[0m \u001b[0mcreate_graph\u001b[0m\u001b[1;33m,\u001b[0m \u001b[0minputs\u001b[0m\u001b[1;33m=\u001b[0m\u001b[0minputs\u001b[0m\u001b[1;33m)\u001b[0m\u001b[1;33m\u001b[0m\u001b[1;33m\u001b[0m\u001b[0m\n\u001b[0m\u001b[0;32m    308\u001b[0m \u001b[1;33m\u001b[0m\u001b[0m\n\u001b[0;32m    309\u001b[0m     \u001b[1;32mdef\u001b[0m \u001b[0mregister_hook\u001b[0m\u001b[1;33m(\u001b[0m\u001b[0mself\u001b[0m\u001b[1;33m,\u001b[0m \u001b[0mhook\u001b[0m\u001b[1;33m)\u001b[0m\u001b[1;33m:\u001b[0m\u001b[1;33m\u001b[0m\u001b[1;33m\u001b[0m\u001b[0m\n",
            "\u001b[1;32mc:\\ProgramData\\Anaconda3\\envs\\pds\\lib\\site-packages\\torch\\autograd\\__init__.py\u001b[0m in \u001b[0;36mbackward\u001b[1;34m(tensors, grad_tensors, retain_graph, create_graph, grad_variables, inputs)\u001b[0m\n\u001b[0;32m    152\u001b[0m         \u001b[0mretain_graph\u001b[0m \u001b[1;33m=\u001b[0m \u001b[0mcreate_graph\u001b[0m\u001b[1;33m\u001b[0m\u001b[1;33m\u001b[0m\u001b[0m\n\u001b[0;32m    153\u001b[0m \u001b[1;33m\u001b[0m\u001b[0m\n\u001b[1;32m--> 154\u001b[1;33m     Variable._execution_engine.run_backward(\n\u001b[0m\u001b[0;32m    155\u001b[0m         \u001b[0mtensors\u001b[0m\u001b[1;33m,\u001b[0m \u001b[0mgrad_tensors_\u001b[0m\u001b[1;33m,\u001b[0m \u001b[0mretain_graph\u001b[0m\u001b[1;33m,\u001b[0m \u001b[0mcreate_graph\u001b[0m\u001b[1;33m,\u001b[0m \u001b[0minputs\u001b[0m\u001b[1;33m,\u001b[0m\u001b[1;33m\u001b[0m\u001b[1;33m\u001b[0m\u001b[0m\n\u001b[0;32m    156\u001b[0m         allow_unreachable=True, accumulate_grad=True)  # allow_unreachable flag\n",
            "\u001b[1;31mKeyboardInterrupt\u001b[0m: "
          ]
        }
      ],
      "source": [
        "stats = train(model=model,\n",
        "              Ts=Ts,\n",
        "              train_loader=train_loader,\n",
        "              test_loader=test_loader,\n",
        "              w=torch.tensor(weights, device=device),\n",
        "              grad_clip=grad_clip,\n",
        "              lr_schedule=lr_schedule,\n",
        "              begin_decay=begin_decay,\n",
        "              resnet_config=None,\n",
        "              epoch_number=epoch_number,\n",
        "              alternating=False,\n",
        "              horizon=False,\n",
        "              horizon_type='auto',\n",
        "              horizon_list=horizon_list,\n",
        "              switch_steps=switch_steps,\n",
        "              epochs=epoch_number,\n",
        "              loss_type='L2',\n",
        "              collect_grads=False,\n",
        "              rescale_loss=True,\n",
        "              rescale_dims=[1, 1, 1, 1])"
      ]
    },
    {
      "cell_type": "code",
      "execution_count": null,
      "metadata": {
        "id": "oCmjjdsXJycG"
      },
      "outputs": [],
      "source": [
        "# save model to disk\n",
        "model_path = 'data/models/'+save_prefix+'model_test'\n",
        "torch.save(model.state_dict(), PATH+model_path)\n",
        "\n",
        "# save the stats\n",
        "stats_path = PATH+'data/stats/'+save_prefix+'stats.txt'\n",
        "save_stats(stats, stats_path)"
      ]
    },
    {
      "cell_type": "markdown",
      "metadata": {
        "id": "a83Sjv31rZJA"
      },
      "source": [
        "#### Resnet config 1"
      ]
    },
    {
      "cell_type": "code",
      "execution_count": 363,
      "metadata": {
        "colab": {
          "base_uri": "https://localhost:8080/"
        },
        "id": "FS8xMRbvgvnx",
        "outputId": "2f588552-5097-4bf2-e241-e73781cc6ce7"
      },
      "outputs": [
        {
          "name": "stdout",
          "output_type": "stream",
          "text": [
            "cpu\n"
          ]
        }
      ],
      "source": [
        "device = set_device()\n",
        "furuta_type = 'real'  # 'real' or 'fake'\n",
        "Ts, noise_std, C_q1, C_q2, g, Jr, Lr, Mp, Lp = set_furuta_params(\n",
        "    which=furuta_type)\n",
        "# C_q1, C_q2 = 0.000009, 0.00004\n",
        "utype = 'sine'  # 'chirp' or None or '' or ''\n",
        "u_func = U_FUNC(utype=utype)\n",
        "u_func.params['T'] = 1.5\n",
        "u_func.params['f0'] = 0\n",
        "u_func.params['f1'] = 5  # 4 # 1.4\n",
        "u_func.params['scale'] = 0.0001  # for fake : 0.5 or 0.1 for real : 0.0001\n",
        "gtype = 'simple'\n",
        "g_func = G_FUNC(gtype=gtype)\n",
        "init_method = 'random_closetopi'  # 'random_nozero' # 'random_closetopi'\n",
        "time_steps = 800\n",
        "num_trajectories = 1\n",
        "proportion = 0.0\n",
        "batch_size = 100\n",
        "w_rescale = [1, 10000, 1, 100000]  # [1, 9000, 1, 10000] # [1,1,1,1]#\n",
        "coord_type = 'hamiltonian'\n",
        "min_max_rescale = False\n",
        "rescale_dims = [1, 1, 1, 1]\n",
        "shuffle = False\n",
        "train_loader, test_loader = load_data_device(device, init_method, w_rescale,\n",
        "                                             u_func, g_func, time_steps,\n",
        "                                             shuffle=shuffle,\n",
        "                                             num_trajectories=num_trajectories,\n",
        "                                             coord_type=coord_type,\n",
        "                                             proportion=proportion, batch_size=batch_size,\n",
        "                                             Ts=Ts, noise_std=noise_std, C_q1=C_q1, C_q2=C_q2,\n",
        "                                             g=g, Jr=Jr, Lr=Lr, Mp=Mp, Lp=Lp,\n",
        "                                             min_max_rescale=min_max_rescale, rescale_dims = rescale_dims)\n"
      ]
    },
    {
      "cell_type": "code",
      "execution_count": 364,
      "metadata": {
        "colab": {
          "base_uri": "https://localhost:8080/"
        },
        "id": "GToXlt2Cgvnz",
        "outputId": "e5e32d49-a3f5-4acd-bcf4-9185d30adab4"
      },
      "outputs": [
        {
          "name": "stdout",
          "output_type": "stream",
          "text": [
            "Total number of epochs: 310\n",
            "mlp number of parameters : 3523\n",
            "resblock number of parameters : 3401\n",
            "Total number of H_net parameters : 23929\n",
            "Save file prefix :  NESHDNN_resnet_conf1_sine_1traj_real_noise0.0_310e_w001.0_001.0_001.0_001.0_p23k_Ts0.005_gradcl_nodissip\n",
            "horizon_list and switch_steps have the same size \n"
          ]
        }
      ],
      "source": [
        "# horizon_list = [20,40,60]\n",
        "# switch_steps = [200,200,200]\n",
        "horizon_list = [50,100,150]\n",
        "switch_steps = [300,300,300]\n",
        "epoch_number = sum(switch_steps)\n",
        "grad_clip = True # activate gradient clipping\n",
        "lr_schedule = False # activate lr schedule\n",
        "begin_decay = 2250 # epoch at which lr starts decaying\n",
        "\n",
        "model_name = 'NESHDNN_resnet_conf1'\n",
        "\n",
        "H_net = ResNet_config1(resblock_list=[0], num_blocks = 6, input_dim=4, hidden_dim=40, \n",
        "                nb_hidden_layers=2, output_dim=1, activation_res='x+sin(x)^2', activation_mlp='x+sin(x)^2')\n",
        "num_params = 0\n",
        "for block in H_net.resblocks:\n",
        "    block.to(device)\n",
        "    num_params += count_parameters(block)\n",
        "\n",
        "model = Nes_HDNN(u_func=u_func, G_net=g_func, H_net=H_net, device=device, dissip=False)\n",
        "model.to(device)\n",
        "num_params1 = count_parameters(model)\n",
        "num_params2 = count_parameters(model.H_net.resblocks[0])\n",
        "num_params += num_params1\n",
        "\n",
        "weights = [1.0, 1.0, 1.0, 1.0] \n",
        "weights_title = ' | weights = ' + str(weights)\n",
        "\n",
        "save_prefix = '{:d}e_w{:05.1f}_{:05.1f}_{:05.1f}_{:05.1f}_p{:d}k_Ts{:1.3f}_'.format(epoch_number,weights[0],weights[1],weights[2],weights[3],int((num_params-num_params%1000)/1000),Ts)\n",
        "if utype is None:\n",
        "    input = 'noinput'\n",
        "else :\n",
        "    input = utype\n",
        "save_prefix = model_name +'_'+ input + '_' + str(num_trajectories)+'traj'+'_' + furuta_type + '_' + 'noise'+str(noise_std)+'_'+  save_prefix \n",
        "if grad_clip:\n",
        "    save_prefix = save_prefix + 'gradcl_'\n",
        "if lr_schedule: \n",
        "    save_prefix = save_prefix + 'lrsched_'\n",
        "if C_q1==0 and C_q2==0:\n",
        "    save_prefix = save_prefix + 'nodissip'\n",
        "else:\n",
        "    save_prefix = save_prefix + 'wdissip'\n",
        "\n",
        "print('Total number of epochs:', epoch_number)\n",
        "print('mlp number of parameters :', num_params1)\n",
        "print('resblock number of parameters :', num_params2)\n",
        "print('Total number of H_net parameters :', num_params)\n",
        "print('Save file prefix : ', save_prefix)\n",
        "\n",
        "if len(horizon_list) == len(switch_steps) :\n",
        "    print('horizon_list and switch_steps have the same size ')\n",
        "else:\n",
        "    raise ValueError('horizon_list and switch_steps do NOT have the same size ',len(horizon_list),len(switch_steps))"
      ]
    },
    {
      "cell_type": "code",
      "execution_count": 365,
      "metadata": {
        "colab": {
          "base_uri": "https://localhost:8080/"
        },
        "id": "bzIlPKWHrZJD",
        "outputId": "b1bcd643-474c-4757-bd31-14ccc481d867"
      },
      "outputs": [
        {
          "data": {
            "text/plain": [
              "[0]"
            ]
          },
          "execution_count": 365,
          "metadata": {},
          "output_type": "execute_result"
        }
      ],
      "source": [
        "model.H_net.resblock_list"
      ]
    },
    {
      "cell_type": "code",
      "execution_count": null,
      "metadata": {
        "colab": {
          "base_uri": "https://localhost:8080/",
          "height": 897
        },
        "id": "UYe6wlakrZJE",
        "outputId": "608785e6-3bbd-4dd8-c679-9d36860d08ff"
      },
      "outputs": [],
      "source": [
        "stats = train(model=model,\n",
        "            Ts=Ts,\n",
        "            train_loader=train_loader,\n",
        "            test_loader=test_loader,\n",
        "            w=torch.tensor(weights, device=device),\n",
        "            grad_clip=grad_clip,\n",
        "            lr_schedule=lr_schedule,\n",
        "            begin_decay=begin_decay,\n",
        "            resnet_config=1,\n",
        "            epoch_number=epoch_number,\n",
        "            alternating=False,\n",
        "            horizon=False,\n",
        "            horizon_type='auto',\n",
        "            horizon_list=horizon_list,\n",
        "            switch_steps=switch_steps,\n",
        "            epochs=epoch_number,\n",
        "            loss_type='L2weighted',\n",
        "            collect_grads=False,\n",
        "            rescale_loss = True,\n",
        "            rescale_dims = [1, 1, 1, 1])\n"
      ]
    },
    {
      "cell_type": "code",
      "execution_count": null,
      "metadata": {
        "id": "9Z1f22FlkPcB"
      },
      "outputs": [],
      "source": [
        "# save model to disk\n",
        "model_path = 'data/models/'+save_prefix+'model_test'\n",
        "torch.save(model.state_dict(), PATH+model_path)\n",
        "\n",
        "# save the stats\n",
        "stats_path = PATH+'data/stats/'+save_prefix+'stats.txt'\n",
        "save_stats(stats, stats_path)"
      ]
    },
    {
      "cell_type": "markdown",
      "metadata": {
        "id": "xeWufKhKrZJF"
      },
      "source": [
        "#### Resnet config 2"
      ]
    },
    {
      "cell_type": "code",
      "execution_count": 395,
      "metadata": {
        "colab": {
          "base_uri": "https://localhost:8080/"
        },
        "id": "muzDe0lMjX4w",
        "outputId": "3284c998-8a39-4c90-a696-add9fcc31b08"
      },
      "outputs": [
        {
          "name": "stdout",
          "output_type": "stream",
          "text": [
            "cpu\n"
          ]
        }
      ],
      "source": [
        "device = set_device()\n",
        "furuta_type = 'real' # 'real' or 'fake'\n",
        "Ts, noise_std, C_q1, C_q2, g, Jr, Lr, Mp, Lp = set_furuta_params(which = furuta_type) \n",
        "\n",
        "utype = 'chirp' #  'chirp' or None or '' or ''\n",
        "u_func = U_FUNC(utype=utype)\n",
        "u_func.params['T'] = 1.5\n",
        "u_func.params['f0'] = 0\n",
        "u_func.params['f1'] = 4 # 4 # 1.4\n",
        "u_func.params['scale'] = 0.001 # for fake : 0.5 or 0.1 for real : 0.0001\n",
        "gtype='simple'\n",
        "g_func = G_FUNC(gtype=gtype)\n",
        "init_method = 'random_nozero' # 'random_nozero' # 'random_closetopi'\n",
        "time_steps= 800\n",
        "num_trajectories = 1\n",
        "proportion = 0.0\n",
        "batch_size = 100\n",
        "w_rescale = [1, 1000, 1, 10000] # [1, 9000, 1, 10000]\n",
        "coord_type = 'hamiltonian'\n",
        "min_max_rescale = False\n",
        "rescale_dims = [1, 1, 1, 1]\n",
        "shuffle = False\n",
        "train_loader, test_loader = load_data_device(device, init_method, w_rescale,\n",
        "                                             u_func, g_func, time_steps,\n",
        "                                             shuffle=shuffle,\n",
        "                                             num_trajectories=num_trajectories,\n",
        "                                             coord_type=coord_type,\n",
        "                                             proportion=proportion, batch_size=batch_size,\n",
        "                                             Ts=Ts, noise_std=noise_std, C_q1=C_q1, C_q2=C_q2,\n",
        "                                             g=g, Jr=Jr, Lr=Lr, Mp=Mp, Lp=Lp,\n",
        "                                             min_max_rescale=min_max_rescale, rescale_dims = rescale_dims)"
      ]
    },
    {
      "cell_type": "code",
      "execution_count": 396,
      "metadata": {
        "colab": {
          "base_uri": "https://localhost:8080/"
        },
        "id": "K6MYPp6QwnGX",
        "outputId": "72a8a644-bd7c-441e-8ce9-7dc85f6ed12e"
      },
      "outputs": [
        {
          "data": {
            "text/plain": [
              "MLP(\n",
              "  (fc1): Linear(in_features=4, out_features=70, bias=True)\n",
              "  (hidden_layers): Sequential(\n",
              "    (0): hidden_Layer(\n",
              "      (fc): Linear(in_features=70, out_features=70, bias=True)\n",
              "    )\n",
              "    (1): hidden_Layer(\n",
              "      (fc): Linear(in_features=70, out_features=70, bias=True)\n",
              "    )\n",
              "  )\n",
              "  (fc2): Linear(in_features=70, out_features=4, bias=True)\n",
              ")"
            ]
          },
          "execution_count": 396,
          "metadata": {},
          "output_type": "execute_result"
        }
      ],
      "source": [
        "model.H_net.resblocks[0]"
      ]
    },
    {
      "cell_type": "code",
      "execution_count": 397,
      "metadata": {
        "colab": {
          "base_uri": "https://localhost:8080/"
        },
        "id": "R0ItHdz2jX4x",
        "outputId": "ca11af98-088b-406a-a969-94150ac554da"
      },
      "outputs": [
        {
          "name": "stdout",
          "output_type": "stream",
          "text": [
            "Total number of epochs: 30\n",
            "mlp number of parameters : 2343\n",
            "resblock number of parameters : 2479\n",
            "Total number of parameters : 44486\n",
            "Save file prefix :  NESHDNN_resnet_conf2_chirp_1traj_real_noise0.0_30e_w001.0_001.0_001.0_001.0_p44k_Ts0.005_gradcl_nodissip\n",
            "horizon_list and switch_steps have the same size \n"
          ]
        }
      ],
      "source": [
        "# horizon_list = [50,100,150,200]\n",
        "# switch_steps = [200,200,100,100]\n",
        "horizon_list = [50,100,150,200,250,300]\n",
        "switch_steps = [5,5,5,5,5,5]\n",
        "epoch_number = sum(switch_steps)\n",
        "grad_clip = True # activate gradient clipping\n",
        "lr_schedule = False # activate lr schedule\n",
        "begin_decay = 2250 # epoch at which lr starts decaying\n",
        "\n",
        "model_name = 'NESHDNN_resnet_conf2'\n",
        "\n",
        "H_net = ResNet_config2(resblock_list = [0,16], num_blocks = 17, input_dim=4, \n",
        "                       hidden_dim=45, nb_hidden_layers=1, output_dim=1, \n",
        "                       activation_res='x+sin(x)^2', activation_mlp='x+sin(x)^2')\n",
        "num_params = 0\n",
        "for block in H_net.resblocks:\n",
        "    block.to(device)\n",
        "    num_params += count_parameters(block)\n",
        "\n",
        "model = Nes_HDNN(u_func=u_func, G_net=g_func, H_net=H_net, device=device, dissip=False)\n",
        "model.to(device)\n",
        "num_params1 = count_parameters(model)\n",
        "num_params2 = count_parameters(model.H_net.resblocks[0])\n",
        "num_params += num_params1\n",
        "weights = [1.0, 1.0, 1.0, 1.0] \n",
        "weights_title = ' | weights = ' + str(weights)\n",
        "\n",
        "save_prefix = '{:d}e_w{:05.1f}_{:05.1f}_{:05.1f}_{:05.1f}_p{:d}k_Ts{:1.3f}_'.format(epoch_number,weights[0],weights[1],weights[2],weights[3],int((num_params-num_params%1000)/1000),Ts)\n",
        "if utype is None:\n",
        "    input = 'noinput'\n",
        "else :\n",
        "    input = utype \n",
        "save_prefix = model_name +'_'+ input + '_' + str(num_trajectories)+'traj'+'_' + furuta_type + '_' + 'noise'+str(noise_std)+'_'+  save_prefix \n",
        "if grad_clip: \n",
        "    save_prefix = save_prefix + 'gradcl_'\n",
        "if lr_schedule: \n",
        "    save_prefix = save_prefix + 'lrsched_'\n",
        "if C_q1==0 and C_q2==0:\n",
        "    save_prefix = save_prefix + 'nodissip'\n",
        "else:\n",
        "    save_prefix = save_prefix + 'wdissip'\n",
        "\n",
        "print('Total number of epochs:',epoch_number)\n",
        "print('mlp number of parameters :', num_params1)\n",
        "print('resblock number of parameters :', num_params2)\n",
        "print('Total number of parameters :', num_params)\n",
        "\n",
        "print('Save file prefix : ', save_prefix)\n",
        "\n",
        "if len(horizon_list) == len(switch_steps) :\n",
        "    print('horizon_list and switch_steps have the same size ')\n",
        "else:\n",
        "    raise ValueError('horizon_list and switch_steps do NOT have the same size ',len(horizon_list),len(switch_steps))"
      ]
    },
    {
      "cell_type": "code",
      "execution_count": 382,
      "metadata": {
        "colab": {
          "base_uri": "https://localhost:8080/"
        },
        "id": "M9H-T7GDjX4y",
        "outputId": "5ae101c5-6fe4-4e5a-ef38-9120a6e0186a"
      },
      "outputs": [
        {
          "data": {
            "text/plain": [
              "[0, 16]"
            ]
          },
          "execution_count": 382,
          "metadata": {},
          "output_type": "execute_result"
        }
      ],
      "source": [
        "model.H_net.resblock_list"
      ]
    },
    {
      "cell_type": "code",
      "execution_count": 398,
      "metadata": {
        "colab": {
          "base_uri": "https://localhost:8080/",
          "height": 1000
        },
        "id": "9eri-gUc2bt_",
        "outputId": "106e9cb4-6c5b-4658-f3cf-0da1587e6ae4"
      },
      "outputs": [
        {
          "name": "stdout",
          "output_type": "stream",
          "text": [
            "horizon length : 50\n",
            "Model size increased\n"
          ]
        },
        {
          "ename": "RuntimeError",
          "evalue": "number of dims don't match in permute",
          "output_type": "error",
          "traceback": [
            "\u001b[1;31m---------------------------------------------------------------------------\u001b[0m",
            "\u001b[1;31mRuntimeError\u001b[0m                              Traceback (most recent call last)",
            "\u001b[1;32m~\\AppData\\Local\\Temp/ipykernel_7308/1113745901.py\u001b[0m in \u001b[0;36m<module>\u001b[1;34m\u001b[0m\n\u001b[1;32m----> 1\u001b[1;33m stats = train(model = model, \n\u001b[0m\u001b[0;32m      2\u001b[0m             \u001b[0mTs\u001b[0m \u001b[1;33m=\u001b[0m \u001b[0mTs\u001b[0m\u001b[1;33m,\u001b[0m\u001b[1;33m\u001b[0m\u001b[1;33m\u001b[0m\u001b[0m\n\u001b[0;32m      3\u001b[0m             \u001b[0mtrain_loader\u001b[0m \u001b[1;33m=\u001b[0m \u001b[0mtrain_loader\u001b[0m\u001b[1;33m,\u001b[0m\u001b[1;33m\u001b[0m\u001b[1;33m\u001b[0m\u001b[0m\n\u001b[0;32m      4\u001b[0m             \u001b[0mtest_loader\u001b[0m \u001b[1;33m=\u001b[0m \u001b[0mtest_loader\u001b[0m\u001b[1;33m,\u001b[0m\u001b[1;33m\u001b[0m\u001b[1;33m\u001b[0m\u001b[0m\n\u001b[0;32m      5\u001b[0m             \u001b[0mw\u001b[0m\u001b[1;33m=\u001b[0m\u001b[0mtorch\u001b[0m\u001b[1;33m.\u001b[0m\u001b[0mtensor\u001b[0m\u001b[1;33m(\u001b[0m\u001b[0mweights\u001b[0m\u001b[1;33m,\u001b[0m \u001b[0mdevice\u001b[0m\u001b[1;33m=\u001b[0m\u001b[0mdevice\u001b[0m\u001b[1;33m)\u001b[0m\u001b[1;33m,\u001b[0m\u001b[1;33m\u001b[0m\u001b[1;33m\u001b[0m\u001b[0m\n",
            "\u001b[1;32m~\\AppData\\Local\\Temp/ipykernel_7308/3869133303.py\u001b[0m in \u001b[0;36mtrain\u001b[1;34m(model, Ts, train_loader, test_loader, w, grad_clip, lr_schedule, begin_decay, epoch_number, resnet_config, alternating, horizon, horizon_type, horizon_list, switch_steps, epochs, loss_type, collect_grads, rescale_loss, rescale_dims)\u001b[0m\n\u001b[0;32m     72\u001b[0m                     \u001b[0mmodel\u001b[0m\u001b[1;33m.\u001b[0m\u001b[0mfreeze_G_net\u001b[0m\u001b[1;33m(\u001b[0m\u001b[0mfreeze\u001b[0m\u001b[1;33m=\u001b[0m\u001b[1;32mTrue\u001b[0m\u001b[1;33m)\u001b[0m\u001b[1;33m\u001b[0m\u001b[1;33m\u001b[0m\u001b[0m\n\u001b[0;32m     73\u001b[0m \u001b[1;33m\u001b[0m\u001b[0m\n\u001b[1;32m---> 74\u001b[1;33m                 \u001b[0mtrain_x_hat\u001b[0m \u001b[1;33m=\u001b[0m \u001b[0modeint\u001b[0m\u001b[1;33m(\u001b[0m\u001b[0mmodel\u001b[0m\u001b[1;33m,\u001b[0m \u001b[0mx\u001b[0m\u001b[1;33m[\u001b[0m\u001b[1;33m:\u001b[0m\u001b[1;33m,\u001b[0m \u001b[1;36m0\u001b[0m\u001b[1;33m,\u001b[0m \u001b[1;33m:\u001b[0m\u001b[1;36m4\u001b[0m\u001b[1;33m]\u001b[0m\u001b[1;33m,\u001b[0m \u001b[0mt_eval\u001b[0m\u001b[1;33m,\u001b[0m \u001b[0mmethod\u001b[0m\u001b[1;33m=\u001b[0m\u001b[1;34m'rk4'\u001b[0m\u001b[1;33m,\u001b[0m \u001b[0moptions\u001b[0m\u001b[1;33m=\u001b[0m\u001b[0mdict\u001b[0m\u001b[1;33m(\u001b[0m\u001b[0mstep_size\u001b[0m\u001b[1;33m=\u001b[0m\u001b[0mTs\u001b[0m\u001b[1;33m)\u001b[0m\u001b[1;33m)\u001b[0m\u001b[1;33m\u001b[0m\u001b[1;33m\u001b[0m\u001b[0m\n\u001b[0m\u001b[0;32m     75\u001b[0m                 \u001b[1;31m# print('train_x_hat',train_x_hat.shape)\u001b[0m\u001b[1;33m\u001b[0m\u001b[1;33m\u001b[0m\u001b[0m\n\u001b[0;32m     76\u001b[0m                 \u001b[1;31m# train_x_hat is [time_steps, batch_size, (q1,p1,q2,p1)]\u001b[0m\u001b[1;33m\u001b[0m\u001b[1;33m\u001b[0m\u001b[0m\n",
            "\u001b[1;32mc:\\ProgramData\\Anaconda3\\envs\\pds\\lib\\site-packages\\torchdiffeq\\_impl\\odeint.py\u001b[0m in \u001b[0;36modeint\u001b[1;34m(func, y0, t, rtol, atol, method, options, event_fn)\u001b[0m\n\u001b[0;32m     75\u001b[0m \u001b[1;33m\u001b[0m\u001b[0m\n\u001b[0;32m     76\u001b[0m     \u001b[1;32mif\u001b[0m \u001b[0mevent_fn\u001b[0m \u001b[1;32mis\u001b[0m \u001b[1;32mNone\u001b[0m\u001b[1;33m:\u001b[0m\u001b[1;33m\u001b[0m\u001b[1;33m\u001b[0m\u001b[0m\n\u001b[1;32m---> 77\u001b[1;33m         \u001b[0msolution\u001b[0m \u001b[1;33m=\u001b[0m \u001b[0msolver\u001b[0m\u001b[1;33m.\u001b[0m\u001b[0mintegrate\u001b[0m\u001b[1;33m(\u001b[0m\u001b[0mt\u001b[0m\u001b[1;33m)\u001b[0m\u001b[1;33m\u001b[0m\u001b[1;33m\u001b[0m\u001b[0m\n\u001b[0m\u001b[0;32m     78\u001b[0m     \u001b[1;32melse\u001b[0m\u001b[1;33m:\u001b[0m\u001b[1;33m\u001b[0m\u001b[1;33m\u001b[0m\u001b[0m\n\u001b[0;32m     79\u001b[0m         \u001b[0mevent_t\u001b[0m\u001b[1;33m,\u001b[0m \u001b[0msolution\u001b[0m \u001b[1;33m=\u001b[0m \u001b[0msolver\u001b[0m\u001b[1;33m.\u001b[0m\u001b[0mintegrate_until_event\u001b[0m\u001b[1;33m(\u001b[0m\u001b[0mt\u001b[0m\u001b[1;33m[\u001b[0m\u001b[1;36m0\u001b[0m\u001b[1;33m]\u001b[0m\u001b[1;33m,\u001b[0m \u001b[0mevent_fn\u001b[0m\u001b[1;33m)\u001b[0m\u001b[1;33m\u001b[0m\u001b[1;33m\u001b[0m\u001b[0m\n",
            "\u001b[1;32mc:\\ProgramData\\Anaconda3\\envs\\pds\\lib\\site-packages\\torchdiffeq\\_impl\\solvers.py\u001b[0m in \u001b[0;36mintegrate\u001b[1;34m(self, t)\u001b[0m\n\u001b[0;32m    103\u001b[0m         \u001b[1;32mfor\u001b[0m \u001b[0mt0\u001b[0m\u001b[1;33m,\u001b[0m \u001b[0mt1\u001b[0m \u001b[1;32min\u001b[0m \u001b[0mzip\u001b[0m\u001b[1;33m(\u001b[0m\u001b[0mtime_grid\u001b[0m\u001b[1;33m[\u001b[0m\u001b[1;33m:\u001b[0m\u001b[1;33m-\u001b[0m\u001b[1;36m1\u001b[0m\u001b[1;33m]\u001b[0m\u001b[1;33m,\u001b[0m \u001b[0mtime_grid\u001b[0m\u001b[1;33m[\u001b[0m\u001b[1;36m1\u001b[0m\u001b[1;33m:\u001b[0m\u001b[1;33m]\u001b[0m\u001b[1;33m)\u001b[0m\u001b[1;33m:\u001b[0m\u001b[1;33m\u001b[0m\u001b[1;33m\u001b[0m\u001b[0m\n\u001b[0;32m    104\u001b[0m             \u001b[0mdt\u001b[0m \u001b[1;33m=\u001b[0m \u001b[0mt1\u001b[0m \u001b[1;33m-\u001b[0m \u001b[0mt0\u001b[0m\u001b[1;33m\u001b[0m\u001b[1;33m\u001b[0m\u001b[0m\n\u001b[1;32m--> 105\u001b[1;33m             \u001b[0mdy\u001b[0m\u001b[1;33m,\u001b[0m \u001b[0mf0\u001b[0m \u001b[1;33m=\u001b[0m \u001b[0mself\u001b[0m\u001b[1;33m.\u001b[0m\u001b[0m_step_func\u001b[0m\u001b[1;33m(\u001b[0m\u001b[0mself\u001b[0m\u001b[1;33m.\u001b[0m\u001b[0mfunc\u001b[0m\u001b[1;33m,\u001b[0m \u001b[0mt0\u001b[0m\u001b[1;33m,\u001b[0m \u001b[0mdt\u001b[0m\u001b[1;33m,\u001b[0m \u001b[0mt1\u001b[0m\u001b[1;33m,\u001b[0m \u001b[0my0\u001b[0m\u001b[1;33m)\u001b[0m\u001b[1;33m\u001b[0m\u001b[1;33m\u001b[0m\u001b[0m\n\u001b[0m\u001b[0;32m    106\u001b[0m             \u001b[0my1\u001b[0m \u001b[1;33m=\u001b[0m \u001b[0my0\u001b[0m \u001b[1;33m+\u001b[0m \u001b[0mdy\u001b[0m\u001b[1;33m\u001b[0m\u001b[1;33m\u001b[0m\u001b[0m\n\u001b[0;32m    107\u001b[0m \u001b[1;33m\u001b[0m\u001b[0m\n",
            "\u001b[1;32mc:\\ProgramData\\Anaconda3\\envs\\pds\\lib\\site-packages\\torchdiffeq\\_impl\\fixed_grid.py\u001b[0m in \u001b[0;36m_step_func\u001b[1;34m(self, func, t0, dt, t1, y0)\u001b[0m\n\u001b[0;32m     26\u001b[0m \u001b[1;33m\u001b[0m\u001b[0m\n\u001b[0;32m     27\u001b[0m     \u001b[1;32mdef\u001b[0m \u001b[0m_step_func\u001b[0m\u001b[1;33m(\u001b[0m\u001b[0mself\u001b[0m\u001b[1;33m,\u001b[0m \u001b[0mfunc\u001b[0m\u001b[1;33m,\u001b[0m \u001b[0mt0\u001b[0m\u001b[1;33m,\u001b[0m \u001b[0mdt\u001b[0m\u001b[1;33m,\u001b[0m \u001b[0mt1\u001b[0m\u001b[1;33m,\u001b[0m \u001b[0my0\u001b[0m\u001b[1;33m)\u001b[0m\u001b[1;33m:\u001b[0m\u001b[1;33m\u001b[0m\u001b[1;33m\u001b[0m\u001b[0m\n\u001b[1;32m---> 28\u001b[1;33m         \u001b[0mf0\u001b[0m \u001b[1;33m=\u001b[0m \u001b[0mfunc\u001b[0m\u001b[1;33m(\u001b[0m\u001b[0mt0\u001b[0m\u001b[1;33m,\u001b[0m \u001b[0my0\u001b[0m\u001b[1;33m,\u001b[0m \u001b[0mperturb\u001b[0m\u001b[1;33m=\u001b[0m\u001b[0mPerturb\u001b[0m\u001b[1;33m.\u001b[0m\u001b[0mNEXT\u001b[0m \u001b[1;32mif\u001b[0m \u001b[0mself\u001b[0m\u001b[1;33m.\u001b[0m\u001b[0mperturb\u001b[0m \u001b[1;32melse\u001b[0m \u001b[0mPerturb\u001b[0m\u001b[1;33m.\u001b[0m\u001b[0mNONE\u001b[0m\u001b[1;33m)\u001b[0m\u001b[1;33m\u001b[0m\u001b[1;33m\u001b[0m\u001b[0m\n\u001b[0m\u001b[0;32m     29\u001b[0m         \u001b[1;32mreturn\u001b[0m \u001b[0mrk4_alt_step_func\u001b[0m\u001b[1;33m(\u001b[0m\u001b[0mfunc\u001b[0m\u001b[1;33m,\u001b[0m \u001b[0mt0\u001b[0m\u001b[1;33m,\u001b[0m \u001b[0mdt\u001b[0m\u001b[1;33m,\u001b[0m \u001b[0mt1\u001b[0m\u001b[1;33m,\u001b[0m \u001b[0my0\u001b[0m\u001b[1;33m,\u001b[0m \u001b[0mf0\u001b[0m\u001b[1;33m=\u001b[0m\u001b[0mf0\u001b[0m\u001b[1;33m,\u001b[0m \u001b[0mperturb\u001b[0m\u001b[1;33m=\u001b[0m\u001b[0mself\u001b[0m\u001b[1;33m.\u001b[0m\u001b[0mperturb\u001b[0m\u001b[1;33m)\u001b[0m\u001b[1;33m,\u001b[0m \u001b[0mf0\u001b[0m\u001b[1;33m\u001b[0m\u001b[1;33m\u001b[0m\u001b[0m\n",
            "\u001b[1;32mc:\\ProgramData\\Anaconda3\\envs\\pds\\lib\\site-packages\\torch\\nn\\modules\\module.py\u001b[0m in \u001b[0;36m_call_impl\u001b[1;34m(self, *input, **kwargs)\u001b[0m\n\u001b[0;32m   1100\u001b[0m         if not (self._backward_hooks or self._forward_hooks or self._forward_pre_hooks or _global_backward_hooks\n\u001b[0;32m   1101\u001b[0m                 or _global_forward_hooks or _global_forward_pre_hooks):\n\u001b[1;32m-> 1102\u001b[1;33m             \u001b[1;32mreturn\u001b[0m \u001b[0mforward_call\u001b[0m\u001b[1;33m(\u001b[0m\u001b[1;33m*\u001b[0m\u001b[0minput\u001b[0m\u001b[1;33m,\u001b[0m \u001b[1;33m**\u001b[0m\u001b[0mkwargs\u001b[0m\u001b[1;33m)\u001b[0m\u001b[1;33m\u001b[0m\u001b[1;33m\u001b[0m\u001b[0m\n\u001b[0m\u001b[0;32m   1103\u001b[0m         \u001b[1;31m# Do not call functions when jit is used\u001b[0m\u001b[1;33m\u001b[0m\u001b[1;33m\u001b[0m\u001b[0m\n\u001b[0;32m   1104\u001b[0m         \u001b[0mfull_backward_hooks\u001b[0m\u001b[1;33m,\u001b[0m \u001b[0mnon_full_backward_hooks\u001b[0m \u001b[1;33m=\u001b[0m \u001b[1;33m[\u001b[0m\u001b[1;33m]\u001b[0m\u001b[1;33m,\u001b[0m \u001b[1;33m[\u001b[0m\u001b[1;33m]\u001b[0m\u001b[1;33m\u001b[0m\u001b[1;33m\u001b[0m\u001b[0m\n",
            "\u001b[1;32mc:\\ProgramData\\Anaconda3\\envs\\pds\\lib\\site-packages\\torchdiffeq\\_impl\\misc.py\u001b[0m in \u001b[0;36mforward\u001b[1;34m(self, t, y, perturb)\u001b[0m\n\u001b[0;32m    187\u001b[0m             \u001b[1;31m# Do nothing.\u001b[0m\u001b[1;33m\u001b[0m\u001b[1;33m\u001b[0m\u001b[0m\n\u001b[0;32m    188\u001b[0m             \u001b[1;32mpass\u001b[0m\u001b[1;33m\u001b[0m\u001b[1;33m\u001b[0m\u001b[0m\n\u001b[1;32m--> 189\u001b[1;33m         \u001b[1;32mreturn\u001b[0m \u001b[0mself\u001b[0m\u001b[1;33m.\u001b[0m\u001b[0mbase_func\u001b[0m\u001b[1;33m(\u001b[0m\u001b[0mt\u001b[0m\u001b[1;33m,\u001b[0m \u001b[0my\u001b[0m\u001b[1;33m)\u001b[0m\u001b[1;33m\u001b[0m\u001b[1;33m\u001b[0m\u001b[0m\n\u001b[0m\u001b[0;32m    190\u001b[0m \u001b[1;33m\u001b[0m\u001b[0m\n\u001b[0;32m    191\u001b[0m \u001b[1;33m\u001b[0m\u001b[0m\n",
            "\u001b[1;32mc:\\ProgramData\\Anaconda3\\envs\\pds\\lib\\site-packages\\torch\\nn\\modules\\module.py\u001b[0m in \u001b[0;36m_call_impl\u001b[1;34m(self, *input, **kwargs)\u001b[0m\n\u001b[0;32m   1100\u001b[0m         if not (self._backward_hooks or self._forward_hooks or self._forward_pre_hooks or _global_backward_hooks\n\u001b[0;32m   1101\u001b[0m                 or _global_forward_hooks or _global_forward_pre_hooks):\n\u001b[1;32m-> 1102\u001b[1;33m             \u001b[1;32mreturn\u001b[0m \u001b[0mforward_call\u001b[0m\u001b[1;33m(\u001b[0m\u001b[1;33m*\u001b[0m\u001b[0minput\u001b[0m\u001b[1;33m,\u001b[0m \u001b[1;33m**\u001b[0m\u001b[0mkwargs\u001b[0m\u001b[1;33m)\u001b[0m\u001b[1;33m\u001b[0m\u001b[1;33m\u001b[0m\u001b[0m\n\u001b[0m\u001b[0;32m   1103\u001b[0m         \u001b[1;31m# Do not call functions when jit is used\u001b[0m\u001b[1;33m\u001b[0m\u001b[1;33m\u001b[0m\u001b[0m\n\u001b[0;32m   1104\u001b[0m         \u001b[0mfull_backward_hooks\u001b[0m\u001b[1;33m,\u001b[0m \u001b[0mnon_full_backward_hooks\u001b[0m \u001b[1;33m=\u001b[0m \u001b[1;33m[\u001b[0m\u001b[1;33m]\u001b[0m\u001b[1;33m,\u001b[0m \u001b[1;33m[\u001b[0m\u001b[1;33m]\u001b[0m\u001b[1;33m\u001b[0m\u001b[1;33m\u001b[0m\u001b[0m\n",
            "\u001b[1;32m~\\AppData\\Local\\Temp/ipykernel_7308/1364334383.py\u001b[0m in \u001b[0;36mforward\u001b[1;34m(self, t, x)\u001b[0m\n\u001b[0;32m     58\u001b[0m                     \u001b[0mself\u001b[0m\u001b[1;33m.\u001b[0m\u001b[0mC2_dissip\u001b[0m\u001b[1;33m.\u001b[0m\u001b[0mpow\u001b[0m\u001b[1;33m(\u001b[0m\u001b[1;36m2\u001b[0m\u001b[1;33m)\u001b[0m\u001b[1;33m*\u001b[0m\u001b[0mdHdp2\u001b[0m\u001b[1;33m\u001b[0m\u001b[1;33m\u001b[0m\u001b[0m\n\u001b[0;32m     59\u001b[0m             \u001b[1;32melse\u001b[0m\u001b[1;33m:\u001b[0m\u001b[1;33m\u001b[0m\u001b[1;33m\u001b[0m\u001b[0m\n\u001b[1;32m---> 60\u001b[1;33m                 \u001b[0mdp1dt\u001b[0m \u001b[1;33m=\u001b[0m \u001b[1;33m-\u001b[0m\u001b[0mdHdq1\u001b[0m \u001b[1;33m+\u001b[0m \u001b[1;33m(\u001b[0m\u001b[0mG\u001b[0m\u001b[1;33m[\u001b[0m\u001b[1;33m:\u001b[0m\u001b[1;33m,\u001b[0m \u001b[1;36m1\u001b[0m\u001b[1;33m]\u001b[0m\u001b[1;33m.\u001b[0m\u001b[0mpermute\u001b[0m\u001b[1;33m(\u001b[0m\u001b[1;36m1\u001b[0m\u001b[1;33m,\u001b[0m\u001b[1;36m0\u001b[0m\u001b[1;33m)\u001b[0m\u001b[1;33m*\u001b[0m\u001b[0mu\u001b[0m\u001b[1;33m)\u001b[0m\u001b[1;33m.\u001b[0m\u001b[0munsqueeze\u001b[0m\u001b[1;33m(\u001b[0m\u001b[0mdim\u001b[0m\u001b[1;33m=\u001b[0m\u001b[1;36m1\u001b[0m\u001b[1;33m)\u001b[0m\u001b[1;33m\u001b[0m\u001b[1;33m\u001b[0m\u001b[0m\n\u001b[0m\u001b[0;32m     61\u001b[0m                 \u001b[0mdp2dt\u001b[0m \u001b[1;33m=\u001b[0m \u001b[1;33m-\u001b[0m\u001b[0mdHdq2\u001b[0m \u001b[1;33m+\u001b[0m \u001b[1;33m(\u001b[0m\u001b[0mG\u001b[0m\u001b[1;33m[\u001b[0m\u001b[1;33m:\u001b[0m\u001b[1;33m,\u001b[0m \u001b[1;36m3\u001b[0m\u001b[1;33m]\u001b[0m\u001b[1;33m.\u001b[0m\u001b[0mpermute\u001b[0m\u001b[1;33m(\u001b[0m\u001b[1;36m1\u001b[0m\u001b[1;33m,\u001b[0m\u001b[1;36m0\u001b[0m\u001b[1;33m)\u001b[0m\u001b[1;33m*\u001b[0m\u001b[0mu\u001b[0m\u001b[1;33m)\u001b[0m\u001b[1;33m.\u001b[0m\u001b[0munsqueeze\u001b[0m\u001b[1;33m(\u001b[0m\u001b[0mdim\u001b[0m\u001b[1;33m=\u001b[0m\u001b[1;36m1\u001b[0m\u001b[1;33m)\u001b[0m\u001b[1;33m\u001b[0m\u001b[1;33m\u001b[0m\u001b[0m\n\u001b[0;32m     62\u001b[0m             \u001b[1;31m# symplectic gradient\u001b[0m\u001b[1;33m\u001b[0m\u001b[1;33m\u001b[0m\u001b[0m\n",
            "\u001b[1;31mRuntimeError\u001b[0m: number of dims don't match in permute"
          ]
        }
      ],
      "source": [
        "stats = train(model = model, \n",
        "            Ts = Ts, \n",
        "            train_loader = train_loader, \n",
        "            test_loader = test_loader, \n",
        "            w=torch.tensor(weights, device=device),\n",
        "            grad_clip = grad_clip,\n",
        "            lr_schedule = lr_schedule,\n",
        "            begin_decay = begin_decay, \n",
        "            resnet_config = 2,\n",
        "            epoch_number = epoch_number, \n",
        "            alternating = False,\n",
        "            horizon = False, \n",
        "            horizon_type = 'auto', \n",
        "            horizon_list = horizon_list, \n",
        "            switch_steps = switch_steps, \n",
        "            epochs = epoch_number, \n",
        "            loss_type = 'L2weighted',\n",
        "            collect_grads=False)"
      ]
    },
    {
      "cell_type": "code",
      "execution_count": null,
      "metadata": {
        "id": "Jrd75QTdkVdh"
      },
      "outputs": [],
      "source": [
        "# save model to disk\n",
        "model_path = 'data/models/'+save_prefix+'model_test'\n",
        "torch.save(model.state_dict(), PATH+model_path)\n",
        "\n",
        "# save the stats\n",
        "stats_path = PATH+'data/stats/'+save_prefix+'stats.txt'\n",
        "save_stats(stats, stats_path)"
      ]
    },
    {
      "cell_type": "markdown",
      "metadata": {
        "id": "jvH00uYvxr-7"
      },
      "source": [
        "## Resnet config 3"
      ]
    },
    {
      "cell_type": "code",
      "execution_count": 384,
      "metadata": {
        "colab": {
          "base_uri": "https://localhost:8080/"
        },
        "id": "21LnlWhg_2p8",
        "outputId": "a4cbc761-c6e3-41df-bb2c-7584c25a67c1"
      },
      "outputs": [
        {
          "name": "stdout",
          "output_type": "stream",
          "text": [
            "cpu\n"
          ]
        }
      ],
      "source": [
        "device = set_device()\n",
        "furuta_type = 'real' # 'real' or 'fake'\n",
        "Ts, noise_std, C_q1, C_q2, g, Jr, Lr, Mp, Lp = set_furuta_params(which = furuta_type) \n",
        "# C_q1, C_q2 = 0.000009, 0.00004\n",
        "utype = 'sine' #  'chirp' or None or '' or ''\n",
        "u_func = U_FUNC(utype=utype)\n",
        "u_func.params['T'] = 1.5\n",
        "u_func.params['f0'] = 0\n",
        "u_func.params['f1'] = 5 # 4 # 1.4\n",
        "u_func.params['scale'] = 0.0001 # for fake : 0.5 or 0.1 for real : 0.0001\n",
        "gtype = 'simple'\n",
        "g_func = G_FUNC(gtype=gtype)\n",
        "init_method = 'random_closetopi' # 'random_nozero' # 'random_closetopi'\n",
        "time_steps= 800\n",
        "num_trajectories = 5\n",
        "proportion = 0.0\n",
        "batch_size = 100\n",
        "w_rescale = [1, 10000, 1, 100000] # [1, 9000, 1, 10000] # [1,1,1,1]#\n",
        "coord_type = 'hamiltonian'\n",
        "min_max_rescale = False\n",
        "rescale_dims = [1, 1, 1, 1]\n",
        "shuffle = False\n",
        "train_loader, test_loader = load_data_device(device, init_method, w_rescale,\n",
        "                                             u_func, g_func, time_steps,\n",
        "                                             shuffle=shuffle,\n",
        "                                             num_trajectories=num_trajectories,\n",
        "                                             coord_type=coord_type,\n",
        "                                             proportion=proportion, batch_size=batch_size,\n",
        "                                             Ts=Ts, noise_std=noise_std, C_q1=C_q1, C_q2=C_q2,\n",
        "                                             g=g, Jr=Jr, Lr=Lr, Mp=Mp, Lp=Lp,\n",
        "                                             min_max_rescale=min_max_rescale, rescale_dims = rescale_dims)"
      ]
    },
    {
      "cell_type": "code",
      "execution_count": 388,
      "metadata": {
        "colab": {
          "base_uri": "https://localhost:8080/"
        },
        "id": "9TVsfSKZ_2p9",
        "outputId": "5cf8e4da-3560-41a7-d66d-1005e64b4375"
      },
      "outputs": [
        {
          "name": "stdout",
          "output_type": "stream",
          "text": [
            "Total number of epochs: 310\n",
            "mlp number of parameters : 10363\n",
            "resblock number of parameters : 10574\n",
            "Total number of H_net parameters : 73807\n",
            "Save file prefix :  NESHDNN_resnet_conf3_sine_5traj_real_noise0.0_310e_w001.0_001.0_001.0_001.0_p73k_Ts0.005_gradcl_nodissip_\n",
            "horizon_list and switch_steps have the same size \n"
          ]
        }
      ],
      "source": [
        "# horizon_list = [20,40,60]\n",
        "# switch_steps = [200,200,200]\n",
        "horizon_list = [50,100,150]\n",
        "switch_steps = [5,5,300]\n",
        "epoch_number = sum(switch_steps)\n",
        "grad_clip = True # activate gradient clipping\n",
        "lr_schedule = False # activate lr schedule\n",
        "begin_decay = 2250 # epoch at which lr starts decaying\n",
        "\n",
        "model_name = 'NESHDNN_resnet_conf3'\n",
        "\n",
        "H_net = ResNet_config3(resblock_list=[0], num_blocks = 6, input_dim=4, hidden_dim=70, \n",
        "                nb_hidden_layers=2, output_dim=1, activation_res='x+sin(x)^2', activation_mlp='x+sin(x)^2')\n",
        "num_params = 0\n",
        "for block in H_net.resblocks:\n",
        "    block.to(device)\n",
        "    num_params += count_parameters(block)\n",
        "\n",
        "model = Nes_HDNN(u_func=u_func, G_net=g_func, H_net=H_net, device=device, dissip=False)\n",
        "model.to(device)\n",
        "num_params1 = count_parameters(model)\n",
        "num_params2 = count_parameters(model.H_net.resblocks[0])\n",
        "num_params += num_params1\n",
        "\n",
        "weights = [1.0, 1.0, 1.0, 1.0] \n",
        "weights_title = ' | weights = ' + str(weights)\n",
        "\n",
        "save_prefix = '{:d}e_w{:05.1f}_{:05.1f}_{:05.1f}_{:05.1f}_p{:d}k_Ts{:1.3f}_'.format(epoch_number,weights[0],weights[1],weights[2],weights[3],int((num_params-num_params%1000)/1000),Ts)\n",
        "if utype is None:\n",
        "    input = 'noinput'\n",
        "else :\n",
        "    input = utype\n",
        "save_prefix = model_name +'_'+ input + '_' + str(num_trajectories)+'traj'+'_' + furuta_type + '_' + 'noise'+str(noise_std)+'_'+  save_prefix \n",
        "if grad_clip:\n",
        "    save_prefix = save_prefix + 'gradcl_'\n",
        "if lr_schedule: \n",
        "    save_prefix = save_prefix + 'lrsched_'\n",
        "if C_q1==0 and C_q2==0:\n",
        "    save_prefix = save_prefix + 'nodissip_'\n",
        "else:\n",
        "    save_prefix = save_prefix + 'wdissip'\n",
        "\n",
        "print('Total number of epochs:', epoch_number)\n",
        "print('mlp number of parameters :', num_params1)\n",
        "print('resblock number of parameters :', num_params2)\n",
        "print('Total number of H_net parameters :', num_params)\n",
        "print('Save file prefix : ', save_prefix)\n",
        "\n",
        "if len(horizon_list) == len(switch_steps) :\n",
        "    print('horizon_list and switch_steps have the same size ')\n",
        "else:\n",
        "    raise ValueError('horizon_list and switch_steps do NOT have the same size ',len(horizon_list),len(switch_steps))"
      ]
    },
    {
      "cell_type": "code",
      "execution_count": 389,
      "metadata": {
        "id": "gFVLnISBunJt"
      },
      "outputs": [],
      "source": [
        "# model_path = 'data/models/'+save_prefix+'model_test'\n",
        "# model.load_state_dict(torch.load(PATH+model_path))\n",
        "# model.eval()\n",
        "# model.to(device)\n",
        "# model.H_net.resblock_list"
      ]
    },
    {
      "cell_type": "code",
      "execution_count": 390,
      "metadata": {
        "colab": {
          "base_uri": "https://localhost:8080/",
          "height": 1000
        },
        "id": "qByp-mwG_2p9",
        "outputId": "8d989a2d-991a-4a00-b5d4-93d5ea338790"
      },
      "outputs": [
        {
          "name": "stdout",
          "output_type": "stream",
          "text": [
            "horizon length : 50\n",
            "Model size increased\n"
          ]
        },
        {
          "data": {
            "image/png": "[encoded data removed]",
            "text/plain": [
              "<Figure size 720x360 with 4 Axes>"
            ]
          },
          "metadata": {
            "needs_background": "light"
          },
          "output_type": "display_data"
        },
        {
          "name": "stdout",
          "output_type": "stream",
          "text": [
            "plot time : 0.5966579914093018\n",
            "epoch    0 | train time 1.22 | train loss 1.351382e+00 \n",
            "epoch    1 | train time 0.58 | train loss 1.329894e+00 \n",
            "epoch    2 | train time 0.75 | train loss 1.311581e+00 \n",
            "epoch    3 | train time 0.62 | train loss 1.294755e+00 \n",
            "epoch    4 | train time 0.57 | train loss 1.278269e+00 \n",
            "horizon length : 100\n",
            "Model size increased\n"
          ]
        },
        {
          "ename": "KeyboardInterrupt",
          "evalue": "",
          "output_type": "error",
          "traceback": [
            "\u001b[1;31m---------------------------------------------------------------------------\u001b[0m",
            "\u001b[1;31mKeyboardInterrupt\u001b[0m                         Traceback (most recent call last)",
            "\u001b[1;32m~\\AppData\\Local\\Temp/ipykernel_7308/3655167129.py\u001b[0m in \u001b[0;36m<module>\u001b[1;34m\u001b[0m\n\u001b[1;32m----> 1\u001b[1;33m stats = train(model = model, \n\u001b[0m\u001b[0;32m      2\u001b[0m             \u001b[0mTs\u001b[0m \u001b[1;33m=\u001b[0m \u001b[0mTs\u001b[0m\u001b[1;33m,\u001b[0m\u001b[1;33m\u001b[0m\u001b[1;33m\u001b[0m\u001b[0m\n\u001b[0;32m      3\u001b[0m             \u001b[0mtrain_loader\u001b[0m \u001b[1;33m=\u001b[0m \u001b[0mtrain_loader\u001b[0m\u001b[1;33m,\u001b[0m\u001b[1;33m\u001b[0m\u001b[1;33m\u001b[0m\u001b[0m\n\u001b[0;32m      4\u001b[0m             \u001b[0mtest_loader\u001b[0m \u001b[1;33m=\u001b[0m \u001b[0mtest_loader\u001b[0m\u001b[1;33m,\u001b[0m\u001b[1;33m\u001b[0m\u001b[1;33m\u001b[0m\u001b[0m\n\u001b[0;32m      5\u001b[0m             \u001b[0mw\u001b[0m\u001b[1;33m=\u001b[0m\u001b[0mtorch\u001b[0m\u001b[1;33m.\u001b[0m\u001b[0mtensor\u001b[0m\u001b[1;33m(\u001b[0m\u001b[0mweights\u001b[0m\u001b[1;33m,\u001b[0m \u001b[0mdevice\u001b[0m\u001b[1;33m=\u001b[0m\u001b[0mdevice\u001b[0m\u001b[1;33m)\u001b[0m\u001b[1;33m,\u001b[0m\u001b[1;33m\u001b[0m\u001b[1;33m\u001b[0m\u001b[0m\n",
            "\u001b[1;32m~\\AppData\\Local\\Temp/ipykernel_7308/3869133303.py\u001b[0m in \u001b[0;36mtrain\u001b[1;34m(model, Ts, train_loader, test_loader, w, grad_clip, lr_schedule, begin_decay, epoch_number, resnet_config, alternating, horizon, horizon_type, horizon_list, switch_steps, epochs, loss_type, collect_grads, rescale_loss, rescale_dims)\u001b[0m\n\u001b[0;32m     89\u001b[0m                 \u001b[0mtrain_loss\u001b[0m \u001b[1;33m=\u001b[0m \u001b[0mtrain_loss\u001b[0m \u001b[1;33m+\u001b[0m \u001b[0mtrain_loss_mini\u001b[0m\u001b[1;33m.\u001b[0m\u001b[0mitem\u001b[0m\u001b[1;33m(\u001b[0m\u001b[1;33m)\u001b[0m\u001b[1;33m\u001b[0m\u001b[1;33m\u001b[0m\u001b[0m\n\u001b[0;32m     90\u001b[0m \u001b[1;33m\u001b[0m\u001b[0m\n\u001b[1;32m---> 91\u001b[1;33m                 \u001b[0mtrain_loss_mini\u001b[0m\u001b[1;33m.\u001b[0m\u001b[0mbackward\u001b[0m\u001b[1;33m(\u001b[0m\u001b[1;33m)\u001b[0m\u001b[1;33m\u001b[0m\u001b[1;33m\u001b[0m\u001b[0m\n\u001b[0m\u001b[0;32m     92\u001b[0m                 \u001b[1;32mif\u001b[0m \u001b[0mcollect_grads\u001b[0m\u001b[1;33m:\u001b[0m\u001b[1;33m\u001b[0m\u001b[1;33m\u001b[0m\u001b[0m\n\u001b[0;32m     93\u001b[0m                     \u001b[0mlayer_names\u001b[0m\u001b[1;33m,\u001b[0m \u001b[0mall_grads_preclip\u001b[0m \u001b[1;33m=\u001b[0m \u001b[0mcollect_gradients\u001b[0m\u001b[1;33m(\u001b[0m\u001b[0mmodel\u001b[0m\u001b[1;33m.\u001b[0m\u001b[0mnamed_parameters\u001b[0m\u001b[1;33m(\u001b[0m\u001b[1;33m)\u001b[0m\u001b[1;33m)\u001b[0m\u001b[1;33m\u001b[0m\u001b[1;33m\u001b[0m\u001b[0m\n",
            "\u001b[1;32mc:\\ProgramData\\Anaconda3\\envs\\pds\\lib\\site-packages\\torch\\_tensor.py\u001b[0m in \u001b[0;36mbackward\u001b[1;34m(self, gradient, retain_graph, create_graph, inputs)\u001b[0m\n\u001b[0;32m    305\u001b[0m                 \u001b[0mcreate_graph\u001b[0m\u001b[1;33m=\u001b[0m\u001b[0mcreate_graph\u001b[0m\u001b[1;33m,\u001b[0m\u001b[1;33m\u001b[0m\u001b[1;33m\u001b[0m\u001b[0m\n\u001b[0;32m    306\u001b[0m                 inputs=inputs)\n\u001b[1;32m--> 307\u001b[1;33m         \u001b[0mtorch\u001b[0m\u001b[1;33m.\u001b[0m\u001b[0mautograd\u001b[0m\u001b[1;33m.\u001b[0m\u001b[0mbackward\u001b[0m\u001b[1;33m(\u001b[0m\u001b[0mself\u001b[0m\u001b[1;33m,\u001b[0m \u001b[0mgradient\u001b[0m\u001b[1;33m,\u001b[0m \u001b[0mretain_graph\u001b[0m\u001b[1;33m,\u001b[0m \u001b[0mcreate_graph\u001b[0m\u001b[1;33m,\u001b[0m \u001b[0minputs\u001b[0m\u001b[1;33m=\u001b[0m\u001b[0minputs\u001b[0m\u001b[1;33m)\u001b[0m\u001b[1;33m\u001b[0m\u001b[1;33m\u001b[0m\u001b[0m\n\u001b[0m\u001b[0;32m    308\u001b[0m \u001b[1;33m\u001b[0m\u001b[0m\n\u001b[0;32m    309\u001b[0m     \u001b[1;32mdef\u001b[0m \u001b[0mregister_hook\u001b[0m\u001b[1;33m(\u001b[0m\u001b[0mself\u001b[0m\u001b[1;33m,\u001b[0m \u001b[0mhook\u001b[0m\u001b[1;33m)\u001b[0m\u001b[1;33m:\u001b[0m\u001b[1;33m\u001b[0m\u001b[1;33m\u001b[0m\u001b[0m\n",
            "\u001b[1;32mc:\\ProgramData\\Anaconda3\\envs\\pds\\lib\\site-packages\\torch\\autograd\\__init__.py\u001b[0m in \u001b[0;36mbackward\u001b[1;34m(tensors, grad_tensors, retain_graph, create_graph, grad_variables, inputs)\u001b[0m\n\u001b[0;32m    152\u001b[0m         \u001b[0mretain_graph\u001b[0m \u001b[1;33m=\u001b[0m \u001b[0mcreate_graph\u001b[0m\u001b[1;33m\u001b[0m\u001b[1;33m\u001b[0m\u001b[0m\n\u001b[0;32m    153\u001b[0m \u001b[1;33m\u001b[0m\u001b[0m\n\u001b[1;32m--> 154\u001b[1;33m     Variable._execution_engine.run_backward(\n\u001b[0m\u001b[0;32m    155\u001b[0m         \u001b[0mtensors\u001b[0m\u001b[1;33m,\u001b[0m \u001b[0mgrad_tensors_\u001b[0m\u001b[1;33m,\u001b[0m \u001b[0mretain_graph\u001b[0m\u001b[1;33m,\u001b[0m \u001b[0mcreate_graph\u001b[0m\u001b[1;33m,\u001b[0m \u001b[0minputs\u001b[0m\u001b[1;33m,\u001b[0m\u001b[1;33m\u001b[0m\u001b[1;33m\u001b[0m\u001b[0m\n\u001b[0;32m    156\u001b[0m         allow_unreachable=True, accumulate_grad=True)  # allow_unreachable flag\n",
            "\u001b[1;31mKeyboardInterrupt\u001b[0m: "
          ]
        }
      ],
      "source": [
        "stats = train(model = model, \n",
        "            Ts = Ts, \n",
        "            train_loader = train_loader, \n",
        "            test_loader = test_loader, \n",
        "            w=torch.tensor(weights, device=device),\n",
        "            grad_clip = grad_clip,\n",
        "            lr_schedule = lr_schedule,\n",
        "            begin_decay = begin_decay, \n",
        "            resnet_config = 1,\n",
        "            epoch_number = epoch_number, \n",
        "            alternating = False,\n",
        "            horizon = False, \n",
        "            horizon_type = 'auto', \n",
        "            horizon_list = horizon_list, \n",
        "            switch_steps = switch_steps, \n",
        "            epochs = epoch_number, \n",
        "            loss_type = 'L2weighted',\n",
        "            collect_grads = False)"
      ]
    },
    {
      "cell_type": "code",
      "execution_count": null,
      "metadata": {
        "id": "ZO8nbKo5Aj5B"
      },
      "outputs": [],
      "source": [
        "# save model to disk\n",
        "model_path = 'data/models/'+save_prefix+'model_test'\n",
        "torch.save(model.state_dict(), PATH+model_path)\n",
        "\n",
        "# save the stats\n",
        "stats_path = PATH+'data/stats/'+save_prefix+'stats.txt'\n",
        "save_stats(stats, stats_path)"
      ]
    },
    {
      "cell_type": "markdown",
      "metadata": {
        "id": "HiPNpCp9rsbw"
      },
      "source": [
        "# Loading models and stats"
      ]
    },
    {
      "cell_type": "code",
      "execution_count": null,
      "metadata": {
        "id": "yykcEKBUVTAv"
      },
      "outputs": [],
      "source": [
        "save_prefix = save_prefix +'multitrajwinput'"
      ]
    },
    {
      "cell_type": "code",
      "execution_count": null,
      "metadata": {
        "id": "tSZNGbFzsxTO"
      },
      "outputs": [],
      "source": [
        "stats_path = PATH+'data/stats/'+save_prefix+'stats.txt'"
      ]
    },
    {
      "cell_type": "code",
      "execution_count": null,
      "metadata": {
        "id": "FLO7OoGFrsbw"
      },
      "outputs": [],
      "source": [
        "# # save the stats\n",
        "# save_stats(PATH, stats, stats_path)"
      ]
    },
    {
      "cell_type": "code",
      "execution_count": null,
      "metadata": {
        "id": "KNu3f80Frsbw"
      },
      "outputs": [],
      "source": [
        "# loads the stats \n",
        "stats = read_dict(PATH, stats_path)"
      ]
    },
    {
      "cell_type": "code",
      "execution_count": null,
      "metadata": {
        "id": "mg3tz41frsbx"
      },
      "outputs": [],
      "source": []
    },
    {
      "cell_type": "code",
      "execution_count": null,
      "metadata": {
        "id": "D56Rtj5Srsbx"
      },
      "outputs": [],
      "source": [
        "# # save model to disk\n",
        "# model_path = 'data/models/'+save_prefix+'model_test'\n",
        "# torch.save(model.state_dict(), PATH+model_path)"
      ]
    },
    {
      "cell_type": "code",
      "execution_count": null,
      "metadata": {
        "id": "JZw3t4M1rsbx"
      },
      "outputs": [],
      "source": [
        "model_path = 'models/'+save_prefix+'model_test_latest'\n",
        "# load the model from disk\n",
        "model = load_model_nes_hdnn(device,utype=utype, u_func=u_func, hidden_dim=90, nb_hidden_layers=4) # load_model(hidden_dim=90, nb_hidden_layers=4)\n",
        "#load_model(device, hidden_dim=90, nb_hidden_layers=4)\n",
        "model.load_state_dict(torch.load(PATH+model_path))\n",
        "model.eval()"
      ]
    },
    {
      "cell_type": "code",
      "execution_count": null,
      "metadata": {
        "id": "tuH3yVHArsby"
      },
      "outputs": [],
      "source": [
        "print(model.C2_dissip)\n",
        "print(model.C1_dissip)"
      ]
    },
    {
      "cell_type": "markdown",
      "metadata": {
        "id": "v_FTm0Slrsby"
      },
      "source": [
        "# Plots of results"
      ]
    },
    {
      "cell_type": "code",
      "execution_count": null,
      "metadata": {
        "colab": {
          "base_uri": "https://localhost:8080/",
          "height": 619
        },
        "id": "bpcjbU2h_bk-",
        "outputId": "9d733f30-78fc-4fe7-b69c-605c9005aab7"
      },
      "outputs": [],
      "source": [
        "loss_train = stats['train_loss']\n",
        "loss_test = stats['test_loss']\n",
        "epochs = np.arange(len(loss_train))\n",
        "train_test_loss_plot(loss_train, loss_test, epochs, file_path=PATH+'data/img/'+save_prefix+'LOSS_train_test.png', \n",
        "                     title='train and test loss per epoch', horizons = False )\n",
        "\n",
        "train_test_loss_plot(loss_train, loss_test, epochs, file_path=PATH+'data/img/'+save_prefix+'LOSS_train_test_warrows.png', \n",
        "                     title='train and test loss per epoch', horizons = horizon_list[:-1], horizon_steps = horizon_steps )"
      ]
    },
    {
      "cell_type": "code",
      "execution_count": null,
      "metadata": {
        "id": "VmcsaPav41JO"
      },
      "outputs": [],
      "source": [
        "model.u_func = u_func\n",
        "model.G_net = g_func"
      ]
    },
    {
      "cell_type": "code",
      "execution_count": null,
      "metadata": {
        "colab": {
          "base_uri": "https://localhost:8080/",
          "height": 1000
        },
        "id": "ujCIcwEyJycS",
        "outputId": "c0f9afb7-1c44-4dba-b04c-12e424fd3267"
      },
      "outputs": [],
      "source": [
        "# show train and prediction\n",
        "title = 'Train set trajectories ' # | Nes_HDNN with chirp input and multi-level strategy 3\n",
        "for n in [0,5,10,19]:\n",
        "    plot_furuta_hat_nom(device, model, u_func, g_func, utype, gtype, data_loader_t=train_loader, \n",
        "                        t_max=300, n=n, C_q1=C_q1, C_q2=C_q2, g=g, Jr=Jr, Lr=Lr, Mp=Mp, Lp=Lp,\n",
        "                        t_plot=300, show_pred=True, H_or_Input = 'input',\n",
        "                        title = title, file_path=None)"
      ]
    },
    {
      "cell_type": "code",
      "execution_count": null,
      "metadata": {
        "id": "3WcR1iZg4ha5"
      },
      "outputs": [],
      "source": [
        "# show train and prediction\n",
        "for n in [0,5,10,19]:\n",
        "    plot_furuta_hat_nom(device, model, u_func, g_func, utype, gtype, data_loader_t=train_loader, \n",
        "                        t_max=200, n=n, C_q1=C_q1, C_q2=C_q2, g=g, Jr=Jr, Lr=Lr, Mp=Mp, Lp=Lp,\n",
        "                        t_plot=300, show_pred=True, H_or_Input = 'input',\n",
        "                        title = 'Train set trajectories', file_path=PATH+'data/img/'+save_prefix+'TRAJECTORIES_train_set'+str(n)+'_nopred.png')"
      ]
    },
    {
      "cell_type": "code",
      "execution_count": null,
      "metadata": {
        "id": "71072h6uvdVo"
      },
      "outputs": [],
      "source": [
        "# show only training portion\n",
        "for n in [0,50,70,80]:\n",
        "    plot_furuta_hat_nom(device, model, u_func, g_func, utype, gtype, data_loader_t=train_loader, t_max=300, \n",
        "    n=n, C_q1=C_q1, C_q2=C_q2, g=g, Jr=Jr, Lr=Lr, Mp=Mp, Lp=Lp, t_plot=300, show_pred=False,\n",
        "    title = 'Train set trajectories', file_path=PATH+'data/img/'+save_prefix+'TRAJECTORIES_train_set'+str(n)+'.png')"
      ]
    },
    {
      "cell_type": "code",
      "execution_count": null,
      "metadata": {
        "id": "pj3zg89vHpdC"
      },
      "outputs": [],
      "source": [
        "device = set_device()\n",
        "Ts, noise_std, C_q1, C_q2, g, Jr, Lr, Mp, Lp = set_furuta_params(which = 'fake') # 'fake'\n",
        "utype = None\n",
        "u_func = U_FUNC(utype=utype)\n",
        "u_func.params['T'] = 1.5\n",
        "u_func.params['f0'] = 0\n",
        "u_func.params['f1'] = 10 #4 # 1.4\n",
        "u_func.params['scale'] = 1.0 # 0.1\n",
        "gtype=None\n",
        "g_func = G_FUNC(gtype=gtype)\n",
        "init_method = 'random_closetopi' # 'random_nozero' # 'random_closetopi'\n",
        "time_steps= 800\n",
        "num_trajectories = 1"
      ]
    },
    {
      "cell_type": "code",
      "execution_count": null,
      "metadata": {
        "colab": {
          "base_uri": "https://localhost:8080/"
        },
        "id": "thtw9a84HWfJ",
        "outputId": "7b0d2f88-a7a0-4834-da2d-c961112ca1a2"
      },
      "outputs": [],
      "source": [
        "device = set_device()\n",
        "furuta_type = 'real'\n",
        "Ts, noise_std, C_q1, C_q2, g, Jr, Lr, Mp, Lp = set_furuta_params(which = furuta_type) # 'fake'\n",
        "utype = None\n",
        "u_func = U_FUNC(utype=utype)\n",
        "u_func.params['T'] = 1.5\n",
        "u_func.params['f0'] = 0\n",
        "u_func.params['f1'] = 4 # 4 # 1.4\n",
        "u_func.params['scale'] = 0.001 # for fake : 0.5 or 0.1 for real : 0.0001\n",
        "gtype=None\n",
        "g_func = G_FUNC(gtype=gtype)\n",
        "init_method = 'random_nozero' # 'random_nozero' # 'random_closetopi'\n",
        "time_steps= 1000\n",
        "num_trajectories = 5\n",
        "proportion = 0.0\n",
        "batch_size = 100\n",
        "w_rescale = [1, 1000, 1, 10000] # [1, 9000, 1, 10000]\n",
        "\n",
        "train_loader_2, test_loader_2 = load_data_device(device, init_method, w_rescale,\n",
        "                                            u_func, g_func, time_steps, \n",
        "                                            shuffle = False, \n",
        "                                            num_trajectories = num_trajectories, \n",
        "                                            coord_type = 'hamiltonian', \n",
        "                                            proportion = proportion, batch_size = batch_size, \n",
        "                                            Ts=Ts, noise_std=noise_std, C_q1=C_q1, C_q2=C_q2, \n",
        "                                            g = g, Jr = Jr, Lr = Lr, Mp = Mp, Lp = Lp,)\n",
        "model.u_func = u_func\n",
        "model.G_net = g_func"
      ]
    },
    {
      "cell_type": "code",
      "execution_count": null,
      "metadata": {
        "colab": {
          "base_uri": "https://localhost:8080/",
          "height": 1000
        },
        "id": "MFcgNHdMIvI1",
        "outputId": "303e5f65-3a38-44d7-f8a0-e5a5692c9561"
      },
      "outputs": [],
      "source": [
        "for n in [0,1,2,3,4]:\n",
        "    plot_furuta_hat_nom(device, model, u_func, g_func, utype, gtype, data_loader_t=train_loader_2, t_max=300, n=n, C_q1=C_q1, C_q2=C_q2, g=g, Jr=Jr, Lr=Lr, Mp=Mp, Lp=Lp, only_pred = True,\n",
        "                        title = 'Train set trajectories | no input', \n",
        "                        file_path=PATH+'data/img/'+save_prefix+'TRAJECTORIES_train_set'+str(n)+'_noinput.png')\n"
      ]
    },
    {
      "cell_type": "code",
      "execution_count": null,
      "metadata": {
        "id": "2XeaJYIA292j"
      },
      "outputs": [],
      "source": [
        "device = set_device()\n",
        "furuta_type = 'real'\n",
        "Ts, noise_std, C_q1, C_q2, g, Jr, Lr, Mp, Lp = set_furuta_params(which = furuta_type) # 'fake'\n",
        "utype = 'chirp'\n",
        "u_func = U_FUNC(utype=utype)\n",
        "u_func.params['T'] = 1.5\n",
        "u_func.params['f0'] = 0\n",
        "u_func.params['f1'] = 10 # 4 # 1.4\n",
        "u_func.params['scale'] = 0.001 # for fake : 0.5 or 0.1 for real : 0.0001\n",
        "gtype = 'simple'\n",
        "g_func = G_FUNC(gtype=gtype)\n",
        "init_method = 'random_nozero' # 'random_nozero' # 'random_closetopi'\n",
        "time_steps= 1000\n",
        "num_trajectories = 1\n",
        "proportion = 0.0\n",
        "batch_size = 100\n",
        "w_rescale = [1, 1000, 1, 10000] # [1, 9000, 1, 10000]\n",
        "\n",
        "train_loader_3, test_loader_3 = load_data_device(device, init_method, w_rescale,\n",
        "                                            u_func, g_func, time_steps, \n",
        "                                            shuffle = False, \n",
        "                                            num_trajectories = num_trajectories, \n",
        "                                            coord_type = 'hamiltonian', \n",
        "                                            proportion = proportion, batch_size = batch_size, \n",
        "                                            Ts=Ts, noise_std=noise_std, C_q1=C_q1, C_q2=C_q2, \n",
        "                                            g = g, Jr = Jr, Lr = Lr, Mp = Mp, Lp = Lp)\n",
        "model.u_func = u_func\n",
        "model.G_net = g_func"
      ]
    },
    {
      "cell_type": "code",
      "execution_count": null,
      "metadata": {
        "id": "kNITdm9KCsvo"
      },
      "outputs": [],
      "source": [
        "for n in [0,5,9]:\n",
        "    plot_furuta_hat_nom(device, model, u_func, g_func, utype, gtype, data_loader_t=train_loader_3, t_max=300, n=n, C_q1=C_q1, C_q2=C_q2, g=g, Jr=Jr, Lr=Lr, Mp=Mp, Lp=Lp, only_pred = True,\n",
        "                        title = 'Test set trajectories | sine input (1hz)', file_path=PATH+'data/img/'+save_prefix+'TRAJECTORIES_train_set'+str(n)+'_sineinput.png')"
      ]
    },
    {
      "cell_type": "code",
      "execution_count": null,
      "metadata": {
        "id": "5twG3nIxJycY"
      },
      "outputs": [],
      "source": [
        "device = set_device()\n",
        "furuta_type = 'real'\n",
        "Ts, noise_std, C_q1, C_q2, g, Jr, Lr, Mp, Lp = set_furuta_params(which = furuta_type) # 'fake'\n",
        "utype = None\n",
        "u_func = U_FUNC(utype=utype)\n",
        "u_func.params['T'] = 1.5\n",
        "u_func.params['f0'] = 0\n",
        "u_func.params['f1'] = 4 # 4 # 1.4\n",
        "u_func.params['scale'] = 0.001 # for fake : 0.5 or 0.1 for real : 0.0001\n",
        "gtype = None\n",
        "g_func = G_FUNC(gtype=gtype)\n",
        "init_method = 'random_nozero' # 'random_nozero' # 'random_closetopi'\n",
        "time_steps= 1000\n",
        "num_trajectories = 1\n",
        "proportion = 0.0\n",
        "batch_size = 100\n",
        "w_rescale = [1, 1000, 1, 10000] # [1, 9000, 1, 10000]\n",
        "\n",
        "train_loader_4, test_loader_4 = load_data_device(device, init_method, w_rescale,\n",
        "                                            u_func, g_func, time_steps, \n",
        "                                            shuffle = False, \n",
        "                                            num_trajectories = num_trajectories, \n",
        "                                            coord_type = 'hamiltonian', \n",
        "                                            proportion = proportion, batch_size = batch_size, \n",
        "                                            Ts=Ts, noise_std=noise_std, C_q1=C_q1, C_q2=C_q2, \n",
        "                                            g = g, Jr = Jr, Lr = Lr, Mp = Mp, Lp = Lp)\n",
        "model.u_func = u_func \n",
        "model.G_net = g_func "
      ]
    },
    {
      "cell_type": "code",
      "execution_count": null,
      "metadata": {
        "id": "wMrpQCCRJycY"
      },
      "outputs": [],
      "source": [
        "for n in [0]:\n",
        "    plot_longer_horizon_furuta(device, model, u_func, g_func, utype, gtype, test_loader=train_loader_4,n=n,\n",
        "                                t1=0,t2=600, C_q1= C_q1, C_q2= C_q2, g= g, Jr= Jr, Lr= Lr, Mp= Mp, Lp= Lp, \n",
        "                                title = 'Trajectory after longer horizon',\n",
        "                                file_path = PATH+'img/'+save_prefix+'TRAJ_longer_horizon1.png')"
      ]
    }
  ],
  "metadata": {
    "colab": {
      "collapsed_sections": [],
      "name": "w13_Furuta_NES_HDNN_ResNets__with_profiling_and_quicker_2_withgradplots.ipynb",
      "provenance": [],
      "toc_visible": true
    },
    "interpreter": {
      "hash": "52b0f3b5fff4e2d99607e23e4ce3f8b9e3a664acf6541783ed53f1bd22095b69"
    },
    "kernelspec": {
      "display_name": "Python 3.9.7 ('pds')",
      "language": "python",
      "name": "python3"
    },
    "language_info": {
      "codemirror_mode": {
        "name": "ipython",
        "version": 3
      },
      "file_extension": ".py",
      "mimetype": "text/x-python",
      "name": "python",
      "nbconvert_exporter": "python",
      "pygments_lexer": "ipython3",
      "version": "3.9.7"
    }
  },
  "nbformat": 4,
  "nbformat_minor": 0
}
