{
 "cells": [
  {
   "cell_type": "markdown",
   "metadata": {
    "id": "uy0mWdPersbg"
   },
   "source": [
    "Some code in this notebook has been adapted from the work of Zhongy et al. and Greydanus et al. and from the report and code of Jonas Perolini.\n",
    "\n",
    "Their code is available in the following repositories :[\n",
    "Symplectic-ODENet](https://github.com/Physics-aware-AI/Symplectic-ODENet) and [hamiltonian-nn](https://github.com/greydanus/hamiltonian-nn)\n"
   ]
  },
  {
   "cell_type": "markdown",
   "metadata": {
    "id": "Jd6pGmU-rsbk"
   },
   "source": [
    "# Imports & Setting up directories"
   ]
  },
  {
   "cell_type": "code",
   "execution_count": null,
   "metadata": {
    "colab": {
     "base_uri": "https://localhost:8080/"
    },
    "executionInfo": {
     "elapsed": 10126,
     "status": "ok",
     "timestamp": 1654709660820,
     "user": {
      "displayName": "Younes M",
      "userId": "11559524547576106626"
     },
     "user_tz": -120
    },
    "id": "3ioF4QRA1FEF",
    "outputId": "a42e036a-37ea-48e7-88ac-36d852fbf117"
   },
   "outputs": [],
   "source": [
    "try:\n",
    "    import google.colab\n",
    "\n",
    "    IN_COLAB = True\n",
    "except:\n",
    "    IN_COLAB = False\n",
    "\n",
    "if IN_COLAB:\n",
    "    PATH = \"./\"  # './drive/MyDrive/1_SP_Ham_func/'\n",
    "    from google.colab import drive\n",
    "\n",
    "    drive.mount(\"/content/drive\")\n",
    "\n",
    "    %cd /content/drive/MyDrive/1_SP_Ham_func/furuta_pendulum/\n",
    "    %pip install torchdiffeq\n",
    "    from src.data import *\n",
    "    from src.dynamics import *\n",
    "    from src.models import *\n",
    "    from src.train import *\n",
    "    from src.plots import *\n",
    "    from src.trajectories import *\n",
    "    from src.utils import *\n",
    "else:\n",
    "    import sys\n",
    "\n",
    "    sys.path.insert(0, \"..\")\n",
    "    import os\n",
    "\n",
    "    PATH = \"../\"\n",
    "    from src.data import *\n",
    "    from src.dynamics import *\n",
    "    from src.models import *\n",
    "    from src.train import *\n",
    "    from src.plots import *\n",
    "    from src.trajectories import *\n",
    "    from src.utils import *"
   ]
  },
  {
   "cell_type": "code",
   "execution_count": null,
   "metadata": {
    "executionInfo": {
     "elapsed": 785,
     "status": "ok",
     "timestamp": 1654709661596,
     "user": {
      "displayName": "Younes M",
      "userId": "11559524547576106626"
     },
     "user_tz": -120
    },
    "id": "6F69c4UZ_3U_"
   },
   "outputs": [],
   "source": [
    "import matplotlib.pyplot as plt\n",
    "from matplotlib.lines import Line2D\n",
    "import seaborn as sns\n",
    "import pandas as pd\n",
    "import numpy as np\n",
    "\n",
    "from torch.utils.data import Dataset, DataLoader, random_split\n",
    "import torch\n",
    "\n",
    "from torch.optim.lr_scheduler import LinearLR\n",
    "\n",
    "from torchdiffeq import odeint_adjoint as odeint_adjoint\n",
    "\n",
    "# func must be a nn.Module when using the adjoint method\n",
    "from torchdiffeq import odeint as odeint\n",
    "\n",
    "import time as time\n",
    "import json\n",
    "import os\n",
    "\n",
    "# setting seeds\n",
    "import random"
   ]
  },
  {
   "cell_type": "code",
   "execution_count": null,
   "metadata": {
    "executionInfo": {
     "elapsed": 4,
     "status": "ok",
     "timestamp": 1654709661596,
     "user": {
      "displayName": "Younes M",
      "userId": "11559524547576106626"
     },
     "user_tz": -120
    },
    "id": "MqUrZjjnu8Xh"
   },
   "outputs": [],
   "source": [
    "%load_ext autoreload\n",
    "%autoreload 2"
   ]
  },
  {
   "cell_type": "markdown",
   "metadata": {
    "id": "NK-tFX-vrsbt"
   },
   "source": [
    "# Training"
   ]
  },
  {
   "cell_type": "markdown",
   "metadata": {
    "id": "tcEedVkX47ax"
   },
   "source": [
    "## Interp_HNN w horizon"
   ]
  },
  {
   "cell_type": "code",
   "execution_count": null,
   "metadata": {
    "colab": {
     "base_uri": "https://localhost:8080/"
    },
    "executionInfo": {
     "elapsed": 417,
     "status": "ok",
     "timestamp": 1654709662010,
     "user": {
      "displayName": "Younes M",
      "userId": "11559524547576106626"
     },
     "user_tz": -120
    },
    "id": "3J28h2Yf47ay",
    "outputId": "95599ebc-220a-4db7-fc11-472c913c1835"
   },
   "outputs": [],
   "source": [
    "set_all_seeds(manualSeed=123, new_results=False)\n",
    "device = set_device()  # set it to gpu if it is available\n",
    "\n",
    "# Parameters to generate the dataset\n",
    "furuta_type = \"real\"  # 'real' or 'fake'\n",
    "Ts, noise_std, C_q1, C_q2, g, Jr, Lr, Mp, Lp = set_furuta_params(which=furuta_type)\n",
    "utype = \"chirp\"  # 'chirp' or 'sine' or 'tanh' or 'multisine' or 'step' or None\n",
    "u_func = U_FUNC(utype=utype)  # instantiate the input function u(t)\n",
    "u_func.params[\"T\"] = 1.5\n",
    "u_func.params[\"f0\"] = 0\n",
    "u_func.params[\"f1\"] = 2  # 4 # 1.4\n",
    "u_func.params[\"scale\"] = 0.0001  # for fake : 0.5 or 0.1 for real : 0.0001\n",
    "gtype = \"simple\"  # 'simple' or None\n",
    "# instantiate the input function G(q,p) (here it is constant)\n",
    "g_func = G_FUNC(gtype=gtype)\n",
    "init_method = \"random_nozero\"  # 'random_nozero' # 'random_closetopi'\n",
    "time_steps = 800  # length of a trajectory\n",
    "num_trajectories = 125  # number of trajectories in total\n",
    "proportion = 0.8  # train test proportion\n",
    "batch_size = 100  # batch size used by dataloader\n",
    "w_rescale = [1, 1000, 1, 10000]  # [1, 1000, 1, 10000]  # [1, 9000, 1, 10000]\n",
    "shuffle = False  # shuffle sample in the batches between epochs\n",
    "# 'hamiltonian' or 'newtonian', newtonian if you want [q1,q1_dot,q2,q2_dot]\n",
    "coord_type = \"hamiltonian\"\n",
    "min_max_rescale = True  # rescale the training trajectories\n",
    "# which dimensions to rescale if using min_max_rescale, so that nothing is divided by zero\n",
    "rescale_dims = [1, 1, 1, 1]\n",
    "\n",
    "# Parameters for the training procedure\n",
    "resnet_config = 2\n",
    "alternating = False  # for Input_HNN, if G is a neural network, train\n",
    "horizon_type = \"auto\"  # 'auto' or 'constant'\n",
    "horizon = False  # if horizon_type == 'constant', use this horizon\n",
    "loss_type = \"L2\"  # 'L2' or 'L2weighted'\n",
    "collect_grads = False  # collect gradients in all layers at every epoch\n",
    "# rescale the difference between nominal and train by the min max of train trajectory in loss function\n",
    "rescale_loss = True\n",
    "grad_clip = True  # activate gradient clipping\n",
    "lr_schedule = False  # activate lr schedule\n",
    "begin_decay = 600  # epoch at which lr starts decaying\n",
    "weights = [1.0, 1.0, 1.0, 1.0]  # weights for the loss functions\n",
    "\n",
    "horizon_list = [50, 100, 150, 200, 250, 300]\n",
    "switch_steps = [200, 100, 100, 100, 100, 100]\n",
    "epoch_number = sum(switch_steps)  # total number of training epochs"
   ]
  },
  {
   "cell_type": "code",
   "execution_count": null,
   "metadata": {
    "executionInfo": {
     "elapsed": 4199,
     "status": "ok",
     "timestamp": 1654709666207,
     "user": {
      "displayName": "Younes M",
      "userId": "11559524547576106626"
     },
     "user_tz": -120
    },
    "id": "dlLwb52G47ay"
   },
   "outputs": [],
   "source": [
    "# generate train and test dataloader objects containing the trajectories\n",
    "train_loader, test_loader = load_data_device(\n",
    "    device,\n",
    "    init_method,\n",
    "    w_rescale,\n",
    "    u_func,\n",
    "    g_func,\n",
    "    time_steps,\n",
    "    shuffle=shuffle,\n",
    "    num_trajectories=num_trajectories,\n",
    "    coord_type=coord_type,\n",
    "    proportion=proportion,\n",
    "    batch_size=batch_size,\n",
    "    Ts=Ts,\n",
    "    noise_std=noise_std,\n",
    "    C_q1=C_q1,\n",
    "    C_q2=C_q2,\n",
    "    g=g,\n",
    "    Jr=Jr,\n",
    "    Lr=Lr,\n",
    "    Mp=Mp,\n",
    "    Lp=Lp,\n",
    "    min_max_rescale=min_max_rescale,\n",
    "    rescale_dims=rescale_dims,\n",
    ")"
   ]
  },
  {
   "cell_type": "code",
   "execution_count": null,
   "metadata": {
    "colab": {
     "base_uri": "https://localhost:8080/"
    },
    "executionInfo": {
     "elapsed": 19,
     "status": "ok",
     "timestamp": 1654709666207,
     "user": {
      "displayName": "Younes M",
      "userId": "11559524547576106626"
     },
     "user_tz": -120
    },
    "id": "DB7zbVeG47ay",
    "outputId": "d3843b8c-570c-4f7c-ebf0-52854bba507d"
   },
   "outputs": [],
   "source": [
    "# initialise the model that will be trained\n",
    "\n",
    "model_name = \"Interp_HNN_horizon\"\n",
    "\n",
    "H_net = Interp_ResNet(\n",
    "    resblock_list=[0, 16],\n",
    "    num_blocks=17,\n",
    "    input_dim=4,\n",
    "    hidden_dim=25,\n",
    "    nb_hidden_layers=2,\n",
    "    output_dim=1,\n",
    "    activation_res=\"x+sin(x)^2\",\n",
    "    activation_mlp=\"x+sin(x)^2\",\n",
    ")\n",
    "num_params = 0\n",
    "for block in H_net.resblocks:\n",
    "    block.to(device)\n",
    "    num_params += count_parameters(block)\n",
    "\n",
    "model = Input_HNN(u_func=u_func, G_net=g_func, H_net=H_net, device=device, dissip=False)\n",
    "\n",
    "model.to(device)\n",
    "num_params1 = count_parameters(model)\n",
    "num_params2 = count_parameters(model.H_net.resblocks[0])\n",
    "num_params += num_params1\n",
    "# create file name from parameters\n",
    "\n",
    "save_prefix = name_from_params(\n",
    "    Ts,\n",
    "    rescale_loss,\n",
    "    weights,\n",
    "    epoch_number,\n",
    "    num_params,\n",
    "    utype,\n",
    "    model_name,\n",
    "    num_trajectories,\n",
    "    furuta_type,\n",
    "    noise_std,\n",
    "    grad_clip,\n",
    "    lr_schedule,\n",
    "    C_q1,\n",
    "    C_q2,\n",
    "    horizon,\n",
    "    min_max_rescale,\n",
    "    w_rescale,\n",
    ")\n",
    "\n",
    "# print some information on the training and file name\n",
    "\n",
    "print(\"Total number of epochs:\", epoch_number)\n",
    "print(\"mlp number of parameters :\", num_params1)\n",
    "print(\"resblock number of parameters :\", num_params2)\n",
    "print(\"Total number of H_net parameters :\", num_params)\n",
    "print(\"Save file prefix : \", save_prefix)\n",
    "\n",
    "# Sanity check\n",
    "is_same_size(horizon_list, switch_steps)"
   ]
  },
  {
   "cell_type": "code",
   "execution_count": null,
   "metadata": {
    "colab": {
     "base_uri": "https://localhost:8080/",
     "height": 1000,
     "output_embedded_package_id": "1ziwKIsK0WDyovURpOeB8i6kp-dWRijwp"
    },
    "executionInfo": {
     "elapsed": 3532288,
     "status": "ok",
     "timestamp": 1654717426251,
     "user": {
      "displayName": "Younes M",
      "userId": "11559524547576106626"
     },
     "user_tz": -120
    },
    "id": "XVi02OUi47ay",
    "outputId": "fa78d788-3dcc-44b4-f851-45947bcd90ac"
   },
   "outputs": [],
   "source": [
    "stats = train(\n",
    "    device=device,\n",
    "    model=model,\n",
    "    Ts=Ts,\n",
    "    train_loader=train_loader,\n",
    "    test_loader=test_loader,\n",
    "    w=torch.tensor(weights, device=device),\n",
    "    grad_clip=grad_clip,\n",
    "    lr_schedule=lr_schedule,\n",
    "    begin_decay=begin_decay,\n",
    "    resnet_config=resnet_config,\n",
    "    \n",
    "    alternating=alternating,\n",
    "    horizon=horizon,\n",
    "    horizon_type=horizon_type,\n",
    "    horizon_list=horizon_list,\n",
    "    switch_steps=switch_steps,\n",
    "    epochs=epoch_number,\n",
    "    loss_type=loss_type,\n",
    "    collect_grads=collect_grads,\n",
    "    rescale_loss=rescale_loss,\n",
    "    rescale_dims=rescale_dims,\n",
    ")"
   ]
  },
  {
   "cell_type": "code",
   "execution_count": null,
   "metadata": {
    "executionInfo": {
     "elapsed": 3,
     "status": "ok",
     "timestamp": 1654717426252,
     "user": {
      "displayName": "Younes M",
      "userId": "11559524547576106626"
     },
     "user_tz": -120
    },
    "id": "TuPBhgk_47az"
   },
   "outputs": [],
   "source": [
    "if collect_grads:\n",
    "    plot_grads(stats)"
   ]
  },
  {
   "cell_type": "code",
   "execution_count": null,
   "metadata": {
    "executionInfo": {
     "elapsed": 586,
     "status": "ok",
     "timestamp": 1654717426836,
     "user": {
      "displayName": "Younes M",
      "userId": "11559524547576106626"
     },
     "user_tz": -120
    },
    "id": "81cs1YCW47az"
   },
   "outputs": [],
   "source": [
    "# set all paths and create folders :\n",
    "model_path = PATH + \"data/\" + save_prefix + \"/\"\n",
    "stats_path = PATH + \"data/\" + save_prefix + \"/\"\n",
    "plot_path = PATH + \"data/\" + save_prefix + \"/img/\"\n",
    "train_loader_path = PATH + \"data/\" + save_prefix + \"/datasets/\"\n",
    "test_loader_path = PATH + \"data/\" + save_prefix + \"/datasets/\"\n",
    "os.makedirs(model_path, exist_ok=True)\n",
    "os.makedirs(stats_path, exist_ok=True)\n",
    "os.makedirs(plot_path, exist_ok=True)\n",
    "os.makedirs(train_loader_path, exist_ok=True)\n",
    "os.makedirs(test_loader_path, exist_ok=True)"
   ]
  },
  {
   "cell_type": "code",
   "execution_count": null,
   "metadata": {
    "executionInfo": {
     "elapsed": 7,
     "status": "ok",
     "timestamp": 1654717426836,
     "user": {
      "displayName": "Younes M",
      "userId": "11559524547576106626"
     },
     "user_tz": -120
    },
    "id": "Znt679HL47az"
   },
   "outputs": [],
   "source": [
    "torch.save(train_loader, train_loader_path + \"train_loader.pt\")\n",
    "if test_loader is not None:\n",
    "    torch.save(test_loader, test_loader_path + \"test_loader.pt\")\n",
    "\n",
    "# save model to disk\n",
    "torch.save(model.state_dict(), model_path + \"model\")\n",
    "\n",
    "# save the stats\n",
    "save_stats(stats, stats_path + \"stats.txt\")"
   ]
  },
  {
   "cell_type": "code",
   "execution_count": null,
   "metadata": {
    "colab": {
     "base_uri": "https://localhost:8080/"
    },
    "executionInfo": {
     "elapsed": 8,
     "status": "ok",
     "timestamp": 1654717426837,
     "user": {
      "displayName": "Younes M",
      "userId": "11559524547576106626"
     },
     "user_tz": -120
    },
    "id": "jpWz5Tgn47a0",
    "outputId": "576621a3-4bcf-4baf-973a-6f2c1106ca47"
   },
   "outputs": [],
   "source": [
    "train_loader = torch.load(train_loader_path + \"train_loader.pt\")\n",
    "test_loader = torch.load(test_loader_path + \"test_loader.pt\")\n",
    "# loads the stats\n",
    "stats = read_dict(stats_path + \"stats.txt\")\n",
    "# load the model from disk\n",
    "model.load_state_dict(torch.load(model_path + \"model\"))\n",
    "model.eval()"
   ]
  },
  {
   "cell_type": "code",
   "execution_count": null,
   "metadata": {
    "colab": {
     "base_uri": "https://localhost:8080/",
     "height": 573
    },
    "executionInfo": {
     "elapsed": 4436,
     "status": "ok",
     "timestamp": 1654717431271,
     "user": {
      "displayName": "Younes M",
      "userId": "11559524547576106626"
     },
     "user_tz": -120
    },
    "id": "HLZkvkIu47a1",
    "outputId": "cab07bc3-95b0-4865-f78f-6d31b7f9672c"
   },
   "outputs": [],
   "source": [
    "loss_train = stats[\"train_loss\"]\n",
    "loss_test = stats[\"test_loss\"]\n",
    "epochs = np.arange(len(loss_train))\n",
    "train_test_loss_plot(\n",
    "    loss_train,\n",
    "    loss_test,\n",
    "    epochs,\n",
    "    file_path=plot_path + \"/LOSS_train_test.png\",\n",
    "    title=\"train and test loss per epoch\",\n",
    "    horizons=False,\n",
    "    switch_steps=switch_steps,\n",
    ")\n",
    "\n",
    "train_test_loss_plot(\n",
    "    loss_train,\n",
    "    loss_test,\n",
    "    epochs,\n",
    "    file_path=plot_path + \"/LOSS_train_test_warrows.png\",\n",
    "    title=\"train and test loss per epoch\",\n",
    "    horizons=horizon_list[:-1],\n",
    "    switch_steps=switch_steps,\n",
    ")"
   ]
  },
  {
   "cell_type": "code",
   "execution_count": null,
   "metadata": {
    "colab": {
     "base_uri": "https://localhost:8080/",
     "height": 1000
    },
    "executionInfo": {
     "elapsed": 256266,
     "status": "ok",
     "timestamp": 1654717687535,
     "user": {
      "displayName": "Younes M",
      "userId": "11559524547576106626"
     },
     "user_tz": -120
    },
    "id": "Nmlgeawm47a1",
    "outputId": "25f59324-98c2-4f34-978c-943aed6c8689"
   },
   "outputs": [],
   "source": [
    "# show train and prediction\n",
    "for n in [0, 5, 10, 19]:\n",
    "    plot_furuta_hat_nom(\n",
    "        device,\n",
    "        model,\n",
    "        u_func,\n",
    "        g_func,\n",
    "        utype,\n",
    "        gtype,\n",
    "        data_loader_t=train_loader,\n",
    "        t_max=horizon_list[-1],\n",
    "        n=n,\n",
    "        C_q1=C_q1,\n",
    "        C_q2=C_q2,\n",
    "        g=g,\n",
    "        Jr=Jr,\n",
    "        Lr=Lr,\n",
    "        Mp=Mp,\n",
    "        Lp=Lp,\n",
    "        t_plot=time_steps,\n",
    "        show_pred=True,\n",
    "        H_or_Input=\"input\",\n",
    "        title=\"Train set trajectories\",\n",
    "        file_path=plot_path + \"/TRAJECTORIES_train_set\" + str(n) + \".png\",\n",
    "        w_rescale=w_rescale,\n",
    "    )"
   ]
  },
  {
   "cell_type": "code",
   "execution_count": null,
   "metadata": {
    "colab": {
     "base_uri": "https://localhost:8080/",
     "height": 905
    },
    "executionInfo": {
     "elapsed": 78348,
     "status": "ok",
     "timestamp": 1654717765881,
     "user": {
      "displayName": "Younes M",
      "userId": "11559524547576106626"
     },
     "user_tz": -120
    },
    "id": "znDuItHf47a1",
    "outputId": "e2ce0ce9-21df-49a3-b2e8-590625bef24c"
   },
   "outputs": [],
   "source": [
    "# show only training portion\n",
    "for n in [0, 50, 70]:\n",
    "    plot_furuta_hat_nom(\n",
    "        device,\n",
    "        model,\n",
    "        u_func,\n",
    "        g_func,\n",
    "        utype,\n",
    "        gtype,\n",
    "        data_loader_t=train_loader,\n",
    "        t_max=horizon_list[-1],\n",
    "        n=n,\n",
    "        C_q1=C_q1,\n",
    "        C_q2=C_q2,\n",
    "        g=g,\n",
    "        Jr=Jr,\n",
    "        Lr=Lr,\n",
    "        Mp=Mp,\n",
    "        Lp=Lp,\n",
    "        t_plot=horizon_list[-1],\n",
    "        show_pred=False,\n",
    "        title=\"Train set trajectories\",\n",
    "        file_path=plot_path + \"/TRAJECTORIES_train_set\" + str(n) + \"nopred.png\",\n",
    "        w_rescale=w_rescale,\n",
    "    )"
   ]
  },
  {
   "cell_type": "code",
   "execution_count": null,
   "metadata": {
    "colab": {
     "base_uri": "https://localhost:8080/",
     "height": 1000
    },
    "executionInfo": {
     "elapsed": 164580,
     "status": "ok",
     "timestamp": 1654717930460,
     "user": {
      "displayName": "Younes M",
      "userId": "11559524547576106626"
     },
     "user_tz": -120
    },
    "id": "qJr9SOMD47a1",
    "outputId": "f0c1d104-e5cf-4b65-be0d-57aa0dabbb13"
   },
   "outputs": [],
   "source": [
    "# show test and prediction\n",
    "for n in [0, 5, 10, 19]:\n",
    "    plot_furuta_hat_nom(\n",
    "        device,\n",
    "        model,\n",
    "        u_func,\n",
    "        g_func,\n",
    "        utype,\n",
    "        gtype,\n",
    "        data_loader_t=test_loader,\n",
    "        t_max=horizon_list[-1],\n",
    "        n=n,\n",
    "        C_q1=C_q1,\n",
    "        C_q2=C_q2,\n",
    "        g=g,\n",
    "        Jr=Jr,\n",
    "        Lr=Lr,\n",
    "        Mp=Mp,\n",
    "        Lp=Lp,\n",
    "        t_plot=time_steps,\n",
    "        show_pred=True,\n",
    "        H_or_Input=\"input\",\n",
    "        title=\"Train set trajectories\",\n",
    "        file_path=plot_path + \"/TRAJECTORIES_train_set\" + str(n) + \"test.png\",\n",
    "        w_rescale=w_rescale,\n",
    "    )"
   ]
  },
  {
   "cell_type": "code",
   "execution_count": null,
   "metadata": {
    "executionInfo": {
     "elapsed": 2400,
     "status": "ok",
     "timestamp": 1654717932859,
     "user": {
      "displayName": "Younes M",
      "userId": "11559524547576106626"
     },
     "user_tz": -120
    },
    "id": "vxN_ehBJ47a2"
   },
   "outputs": [],
   "source": [
    "utype = None  # 'chirp' or 'sine' or 'tanh' or 'multisine' or 'step' or None\n",
    "u_func = U_FUNC(utype=utype)  # instantiate the input function u(t)\n",
    "gtype = None  # 'simple' or None\n",
    "# instantiate the input function G(q,p) (here it is constant)\n",
    "g_func = G_FUNC(gtype=gtype)\n",
    "init_method = \"random_nozero\"  # 'random_nozero' # 'random_closetopi'\n",
    "time_steps = 800  # length of a trajectory\n",
    "num_trajectories = 25  # number of trajectories in total\n",
    "proportion = 0.0  # train test proportion\n",
    "batch_size = 100  # batch size used by dataloader\n",
    "w_rescale = [\n",
    "    1,\n",
    "    1,\n",
    "    1,\n",
    "    1,\n",
    "]  # [1, 1000, 1, 10000]  # [1, 1000, 1, 10000]  # [1, 9000, 1, 10000]\n",
    "shuffle = False  # shuffle sample in the batches between epochs\n",
    "# 'hamiltonian' or 'newtonian', newtonian if you want [q1,q1_dot,q2,q2_dot]\n",
    "coord_type = \"hamiltonian\"\n",
    "min_max_rescale = True  # rescale the training trajectories\n",
    "# which dimensions to rescale if using min_max_rescale, so that nothing is divided by zero\n",
    "rescale_dims = [1, 1, 1, 0]\n",
    "\n",
    "# generate train and test dataloader objects containing the trajectories\n",
    "train_loader_2, test_loader_2 = load_data_device(\n",
    "    device,\n",
    "    init_method,\n",
    "    w_rescale,\n",
    "    u_func,\n",
    "    g_func,\n",
    "    time_steps,\n",
    "    shuffle=shuffle,\n",
    "    num_trajectories=num_trajectories,\n",
    "    coord_type=coord_type,\n",
    "    proportion=proportion,\n",
    "    batch_size=batch_size,\n",
    "    Ts=Ts,\n",
    "    noise_std=noise_std,\n",
    "    C_q1=C_q1,\n",
    "    C_q2=C_q2,\n",
    "    g=g,\n",
    "    Jr=Jr,\n",
    "    Lr=Lr,\n",
    "    Mp=Mp,\n",
    "    Lp=Lp,\n",
    "    min_max_rescale=min_max_rescale,\n",
    "    rescale_dims=rescale_dims,\n",
    ")"
   ]
  },
  {
   "cell_type": "code",
   "execution_count": null,
   "metadata": {
    "colab": {
     "base_uri": "https://localhost:8080/",
     "height": 1000
    },
    "executionInfo": {
     "elapsed": 165959,
     "status": "ok",
     "timestamp": 1654718098820,
     "user": {
      "displayName": "Younes M",
      "userId": "11559524547576106626"
     },
     "user_tz": -120
    },
    "id": "I8m0GqvH47a2",
    "outputId": "c0302c60-673f-4a4a-e771-8df468e0f94f"
   },
   "outputs": [],
   "source": [
    "# show test and prediction\n",
    "title = \"test set trajectories | no input\"\n",
    "for n in [0, 5, 10, 19]:\n",
    "    plot_furuta_hat_nom(\n",
    "        device,\n",
    "        model,\n",
    "        u_func,\n",
    "        g_func,\n",
    "        utype,\n",
    "        gtype,\n",
    "        data_loader_t=train_loader_2,\n",
    "        t_max=time_steps,\n",
    "        n=n,\n",
    "        C_q1=C_q1,\n",
    "        C_q2=C_q2,\n",
    "        g=g,\n",
    "        Jr=Jr,\n",
    "        Lr=Lr,\n",
    "        Mp=Mp,\n",
    "        Lp=Lp,\n",
    "        t_plot=time_steps,\n",
    "        only_pred=True,\n",
    "        show_pred=True,\n",
    "        H_or_Input=\"input\",\n",
    "        title=title,\n",
    "        file_path=plot_path + \"/TRAJECTORIES_train_set\" + str(n) + \"noinput.png\",\n",
    "        w_rescale=w_rescale,\n",
    "    )"
   ]
  },
  {
   "cell_type": "code",
   "execution_count": null,
   "metadata": {
    "executionInfo": {
     "elapsed": 2753,
     "status": "ok",
     "timestamp": 1654718101572,
     "user": {
      "displayName": "Younes M",
      "userId": "11559524547576106626"
     },
     "user_tz": -120
    },
    "id": "4tsR5XT_47a2"
   },
   "outputs": [],
   "source": [
    "utype = \"sine\"  # 'chirp' or 'sine' or 'tanh' or 'multisine' or 'step' or None\n",
    "u_func = U_FUNC(utype=utype)  # instantiate the input function u(t)\n",
    "u_func.params[\"T\"] = 1.5\n",
    "u_func.params[\"f0\"] = 0\n",
    "u_func.params[\"f1\"] = 1  # 4 # 1.4\n",
    "u_func.params[\"scale\"] = 0.0001  # for fake : 0.5 or 0.1 for real : 0.0001\n",
    "gtype = \"simple\"  # 'simple' or None\n",
    "# instantiate the input function G(q,p) (here it is constant)\n",
    "g_func = G_FUNC(gtype=gtype)\n",
    "init_method = \"random_nozero\"  # 'random_nozero' # 'random_closetopi'\n",
    "time_steps = 800  # length of a trajectory\n",
    "num_trajectories = 25  # number of trajectories in total\n",
    "proportion = 0.8  # train test proportion\n",
    "batch_size = 100  # batch size used by dataloader\n",
    "# [1, 1000, 1, 10000]  # [1, 1000, 1, 10000]  # [1, 9000, 1, 10000]\n",
    "w_rescale = [1, 1, 1, 1]\n",
    "shuffle = False  # shuffle sample in the batches between epochs\n",
    "# 'hamiltonian' or 'newtonian', newtonian if you want [q1,q1_dot,q2,q2_dot]\n",
    "coord_type = \"hamiltonian\"\n",
    "min_max_rescale = True  # rescale the training trajectories\n",
    "# which dimensions to rescale if using min_max_rescale, so that nothing is divided by zero\n",
    "rescale_dims = [1, 1, 1, 1]\n",
    "\n",
    "# generate train and test dataloader objects containing the trajectories\n",
    "train_loader_3, test_loader_3 = load_data_device(\n",
    "    device,\n",
    "    init_method,\n",
    "    w_rescale,\n",
    "    u_func,\n",
    "    g_func,\n",
    "    time_steps,\n",
    "    shuffle=shuffle,\n",
    "    num_trajectories=num_trajectories,\n",
    "    coord_type=coord_type,\n",
    "    proportion=proportion,\n",
    "    batch_size=batch_size,\n",
    "    Ts=Ts,\n",
    "    noise_std=noise_std,\n",
    "    C_q1=C_q1,\n",
    "    C_q2=C_q2,\n",
    "    g=g,\n",
    "    Jr=Jr,\n",
    "    Lr=Lr,\n",
    "    Mp=Mp,\n",
    "    Lp=Lp,\n",
    "    min_max_rescale=min_max_rescale,\n",
    "    rescale_dims=rescale_dims,\n",
    ")"
   ]
  },
  {
   "cell_type": "code",
   "execution_count": null,
   "metadata": {
    "colab": {
     "base_uri": "https://localhost:8080/",
     "height": 1000
    },
    "executionInfo": {
     "elapsed": 156755,
     "status": "ok",
     "timestamp": 1654718258328,
     "user": {
      "displayName": "Younes M",
      "userId": "11559524547576106626"
     },
     "user_tz": -120
    },
    "id": "RWLpIU6147a2",
    "outputId": "d49d83cf-9f03-4985-adcd-6b3ac1d74855"
   },
   "outputs": [],
   "source": [
    "# show test and prediction\n",
    "title = \"test set trajectories | 1hz sine input\"\n",
    "for n in [0, 5, 10, 19]:\n",
    "    plot_furuta_hat_nom(\n",
    "        device,\n",
    "        model,\n",
    "        u_func,\n",
    "        g_func,\n",
    "        utype,\n",
    "        gtype,\n",
    "        data_loader_t=train_loader_3,\n",
    "        t_max=time_steps,\n",
    "        n=n,\n",
    "        C_q1=C_q1,\n",
    "        C_q2=C_q2,\n",
    "        g=g,\n",
    "        Jr=Jr,\n",
    "        Lr=Lr,\n",
    "        Mp=Mp,\n",
    "        Lp=Lp,\n",
    "        t_plot=time_steps,\n",
    "        only_pred=True,\n",
    "        show_pred=True,\n",
    "        H_or_Input=\"input\",\n",
    "        title=title,\n",
    "        file_path=plot_path + \"/TRAJECTORIES_train_set\" + str(n) + \"1hzsine.png\",\n",
    "        w_rescale=w_rescale,\n",
    "    )"
   ]
  },
  {
   "cell_type": "code",
   "execution_count": null,
   "metadata": {
    "colab": {
     "base_uri": "https://localhost:8080/",
     "height": 1000
    },
    "executionInfo": {
     "elapsed": 164576,
     "status": "ok",
     "timestamp": 1654718422903,
     "user": {
      "displayName": "Younes M",
      "userId": "11559524547576106626"
     },
     "user_tz": -120
    },
    "id": "twJIswrL47a2",
    "outputId": "f0cdf13e-119f-47c7-eeca-fa95385feb6e"
   },
   "outputs": [],
   "source": [
    "utype = \"sine\"  # 'chirp' or 'sine' or 'tanh' or 'multisine' or 'step' or None\n",
    "u_func = U_FUNC(utype=utype)  # instantiate the input function u(t)\n",
    "u_func.params[\"T\"] = 1.5\n",
    "u_func.params[\"f0\"] = 0\n",
    "u_func.params[\"f1\"] = 2  # 4 # 1.4\n",
    "u_func.params[\"scale\"] = 0.0001  # for fake : 0.5 or 0.1 for real : 0.0001\n",
    "gtype = \"simple\"  # 'simple' or None\n",
    "# instantiate the input function G(q,p) (here it is constant)\n",
    "g_func = G_FUNC(gtype=gtype)\n",
    "init_method = \"random_nozero\"  # 'random_nozero' # 'random_closetopi'\n",
    "time_steps = 800  # length of a trajectory\n",
    "num_trajectories = 25  # number of trajectories in total\n",
    "proportion = 0.0  # train test proportion\n",
    "batch_size = 100  # batch size used by dataloader\n",
    "w_rescale = [\n",
    "    1,\n",
    "    1,\n",
    "    1,\n",
    "    1,\n",
    "]  # [1, 1000, 1, 10000]  # [1, 1000, 1, 10000]  # [1, 9000, 1, 10000]\n",
    "shuffle = False  # shuffle sample in the batches between epochs\n",
    "# 'hamiltonian' or 'newtonian', newtonian if you want [q1,q1_dot,q2,q2_dot]\n",
    "coord_type = \"hamiltonian\"\n",
    "min_max_rescale = True  # rescale the training trajectories\n",
    "# which dimensions to rescale if using min_max_rescale, so that nothing is divided by zero\n",
    "rescale_dims = [1, 1, 1, 1]\n",
    "\n",
    "# generate train and test dataloader objects containing the trajectories\n",
    "train_loader_4, test_loader_4 = load_data_device(\n",
    "    device,\n",
    "    init_method,\n",
    "    w_rescale,\n",
    "    u_func,\n",
    "    g_func,\n",
    "    time_steps,\n",
    "    shuffle=shuffle,\n",
    "    num_trajectories=num_trajectories,\n",
    "    coord_type=coord_type,\n",
    "    proportion=proportion,\n",
    "    batch_size=batch_size,\n",
    "    Ts=Ts,\n",
    "    noise_std=noise_std,\n",
    "    C_q1=C_q1,\n",
    "    C_q2=C_q2,\n",
    "    g=g,\n",
    "    Jr=Jr,\n",
    "    Lr=Lr,\n",
    "    Mp=Mp,\n",
    "    Lp=Lp,\n",
    "    min_max_rescale=min_max_rescale,\n",
    "    rescale_dims=rescale_dims,\n",
    ")\n",
    "# show test and prediction\n",
    "title = \"test set trajectories | 2hz sine input\"\n",
    "for n in [0, 5, 10, 19]:\n",
    "    plot_furuta_hat_nom(\n",
    "        device,\n",
    "        model,\n",
    "        u_func,\n",
    "        g_func,\n",
    "        utype,\n",
    "        gtype,\n",
    "        data_loader_t=train_loader_4,\n",
    "        t_max=time_steps,\n",
    "        n=n,\n",
    "        C_q1=C_q1,\n",
    "        C_q2=C_q2,\n",
    "        g=g,\n",
    "        Jr=Jr,\n",
    "        Lr=Lr,\n",
    "        Mp=Mp,\n",
    "        Lp=Lp,\n",
    "        t_plot=time_steps,\n",
    "        only_pred=True,\n",
    "        show_pred=True,\n",
    "        H_or_Input=\"input\",\n",
    "        title=title,\n",
    "        file_path=plot_path + \"/TRAJECTORIES_test_set\" + str(n) + \"2hzsine.png\",\n",
    "        w_rescale=w_rescale,\n",
    "    )"
   ]
  },
  {
   "cell_type": "markdown",
   "metadata": {
    "id": "BHdod-xvXEPL"
   },
   "source": [
    "## Interp_HMM without horizon"
   ]
  },
  {
   "cell_type": "code",
   "execution_count": null,
   "metadata": {
    "colab": {
     "base_uri": "https://localhost:8080/"
    },
    "executionInfo": {
     "elapsed": 332,
     "status": "ok",
     "timestamp": 1654719297909,
     "user": {
      "displayName": "Younes M",
      "userId": "11559524547576106626"
     },
     "user_tz": -120
    },
    "id": "LG8hHqo2XJi6",
    "outputId": "c014e9fa-26f0-46cc-8482-65572d57f82a"
   },
   "outputs": [],
   "source": [
    "set_all_seeds(manualSeed=123, new_results=False)\n",
    "device = set_device()  # set it to gpu if it is available\n",
    "\n",
    "# Parameters to generate the dataset\n",
    "furuta_type = \"real\"  # 'real' or 'fake'\n",
    "Ts, noise_std, C_q1, C_q2, g, Jr, Lr, Mp, Lp = set_furuta_params(which=furuta_type)\n",
    "utype = \"chirp\"  # 'chirp' or 'sine' or 'tanh' or 'multisine' or 'step' or None\n",
    "u_func = U_FUNC(utype=utype)  # instantiate the input function u(t)\n",
    "u_func.params[\"T\"] = 1.5\n",
    "u_func.params[\"f0\"] = 0\n",
    "u_func.params[\"f1\"] = 2  # 4 # 1.4\n",
    "u_func.params[\"scale\"] = 0.0001  # for fake : 0.5 or 0.1 for real : 0.0001\n",
    "gtype = \"simple\"  # 'simple' or None\n",
    "# instantiate the input function G(q,p) (here it is constant)\n",
    "g_func = G_FUNC(gtype=gtype)\n",
    "init_method = \"random_nozero\"  # 'random_nozero' # 'random_closetopi'\n",
    "time_steps = 800  # length of a trajectory\n",
    "num_trajectories = 125  # number of trajectories in total\n",
    "proportion = 0.8  # train test proportion\n",
    "batch_size = 100  # batch size used by dataloader\n",
    "w_rescale = [1, 1000, 1, 10000]  # [1, 1000, 1, 10000]  # [1, 9000, 1, 10000]\n",
    "shuffle = False  # shuffle sample in the batches between epochs\n",
    "# 'hamiltonian' or 'newtonian', newtonian if you want [q1,q1_dot,q2,q2_dot]\n",
    "coord_type = \"hamiltonian\"\n",
    "min_max_rescale = True  # rescale the training trajectories\n",
    "# which dimensions to rescale if using min_max_rescale, so that nothing is divided by zero\n",
    "rescale_dims = [1, 1, 1, 1]\n",
    "\n",
    "# Parameters for the training procedure\n",
    "resnet_config = 2\n",
    "alternating = False  # for Input_HNN, if G is a neural network, train\n",
    "horizon_type = \"auto\"  # 'auto' or 'constant'\n",
    "horizon = False  # if horizon_type == 'constant', use this horizon\n",
    "loss_type = \"L2\"  # 'L2' or 'L2weighted'\n",
    "collect_grads = False  # collect gradients in all layers at every epoch\n",
    "# rescale the difference between nominal and train by the min max of train trajectory in loss function\n",
    "rescale_loss = True\n",
    "grad_clip = True  # activate gradient clipping\n",
    "lr_schedule = False  # activate lr schedule\n",
    "begin_decay = 600  # epoch at which lr starts decaying\n",
    "weights = [1.0, 1.0, 1.0, 1.0]  # weights for the loss functions\n",
    "\n",
    "horizon_list = [300, 300, 300, 300, 300]\n",
    "switch_steps = [100, 100, 100, 100, 100]\n",
    "epoch_number = sum(switch_steps)  # total number of training epochs"
   ]
  },
  {
   "cell_type": "code",
   "execution_count": null,
   "metadata": {
    "executionInfo": {
     "elapsed": 4635,
     "status": "ok",
     "timestamp": 1654719309307,
     "user": {
      "displayName": "Younes M",
      "userId": "11559524547576106626"
     },
     "user_tz": -120
    },
    "id": "J_h4XkSGXJi7"
   },
   "outputs": [],
   "source": [
    "# generate train and test dataloader objects containing the trajectories\n",
    "train_loader, test_loader = load_data_device(\n",
    "    device,\n",
    "    init_method,\n",
    "    w_rescale,\n",
    "    u_func,\n",
    "    g_func,\n",
    "    time_steps,\n",
    "    shuffle=shuffle,\n",
    "    num_trajectories=num_trajectories,\n",
    "    coord_type=coord_type,\n",
    "    proportion=proportion,\n",
    "    batch_size=batch_size,\n",
    "    Ts=Ts,\n",
    "    noise_std=noise_std,\n",
    "    C_q1=C_q1,\n",
    "    C_q2=C_q2,\n",
    "    g=g,\n",
    "    Jr=Jr,\n",
    "    Lr=Lr,\n",
    "    Mp=Mp,\n",
    "    Lp=Lp,\n",
    "    min_max_rescale=min_max_rescale,\n",
    "    rescale_dims=rescale_dims,\n",
    ")"
   ]
  },
  {
   "cell_type": "code",
   "execution_count": null,
   "metadata": {
    "colab": {
     "base_uri": "https://localhost:8080/"
    },
    "executionInfo": {
     "elapsed": 366,
     "status": "ok",
     "timestamp": 1654719314902,
     "user": {
      "displayName": "Younes M",
      "userId": "11559524547576106626"
     },
     "user_tz": -120
    },
    "id": "lB3gtLc0XJi7",
    "outputId": "8a096cbe-f434-4815-b895-f1e1b8c0cfd4"
   },
   "outputs": [],
   "source": [
    "# initialise the model that will be trained\n",
    "\n",
    "model_name = \"Interp_HNN_nohorizon\"\n",
    "\n",
    "H_net = Interp_ResNet(\n",
    "    resblock_list=[0, 16],\n",
    "    num_blocks=17,\n",
    "    input_dim=4,\n",
    "    hidden_dim=25,\n",
    "    nb_hidden_layers=2,\n",
    "    output_dim=1,\n",
    "    activation_res=\"x+sin(x)^2\",\n",
    "    activation_mlp=\"x+sin(x)^2\",\n",
    ")\n",
    "num_params = 0\n",
    "for block in H_net.resblocks:\n",
    "    block.to(device)\n",
    "    num_params += count_parameters(block)\n",
    "\n",
    "model = Input_HNN(u_func=u_func, G_net=g_func, H_net=H_net, device=device, dissip=False)\n",
    "\n",
    "model.to(device)\n",
    "num_params1 = count_parameters(model)\n",
    "num_params2 = count_parameters(model.H_net.resblocks[0])\n",
    "num_params += num_params1\n",
    "# create file name from parameters\n",
    "\n",
    "save_prefix = name_from_params(\n",
    "    Ts,\n",
    "    rescale_loss,\n",
    "    weights,\n",
    "    epoch_number,\n",
    "    num_params,\n",
    "    utype,\n",
    "    model_name,\n",
    "    num_trajectories,\n",
    "    furuta_type,\n",
    "    noise_std,\n",
    "    grad_clip,\n",
    "    lr_schedule,\n",
    "    C_q1,\n",
    "    C_q2,\n",
    "    horizon,\n",
    "    min_max_rescale,\n",
    "    w_rescale,\n",
    ")\n",
    "\n",
    "# print some information on the training and file name\n",
    "\n",
    "print(\"Total number of epochs:\", epoch_number)\n",
    "print(\"mlp number of parameters :\", num_params1)\n",
    "print(\"resblock number of parameters :\", num_params2)\n",
    "print(\"Total number of H_net parameters :\", num_params)\n",
    "print(\"Save file prefix : \", save_prefix)\n",
    "\n",
    "# Sanity check\n",
    "is_same_size(horizon_list, switch_steps)"
   ]
  },
  {
   "cell_type": "code",
   "execution_count": null,
   "metadata": {
    "colab": {
     "base_uri": "https://localhost:8080/",
     "height": 1000,
     "output_embedded_package_id": "1N_rDbGAcN_xhRLG3nL-59B3_7SxCGYW_"
    },
    "executionInfo": {
     "elapsed": 56014,
     "status": "ok",
     "timestamp": 1654726797909,
     "user": {
      "displayName": "Younes M",
      "userId": "11559524547576106626"
     },
     "user_tz": -120
    },
    "id": "qm6D2jHBXJi8",
    "outputId": "81f5f8b0-dd8c-497b-c7be-401c2a77dc2d"
   },
   "outputs": [],
   "source": [
    "stats = train(\n",
    "    device=device,\n",
    "    model=model,\n",
    "    Ts=Ts,\n",
    "    train_loader=train_loader,\n",
    "    test_loader=test_loader,\n",
    "    w=torch.tensor(weights, device=device),\n",
    "    grad_clip=grad_clip,\n",
    "    lr_schedule=lr_schedule,\n",
    "    begin_decay=begin_decay,\n",
    "    resnet_config=resnet_config,\n",
    "    \n",
    "    alternating=alternating,\n",
    "    horizon=horizon,\n",
    "    horizon_type=horizon_type,\n",
    "    horizon_list=horizon_list,\n",
    "    switch_steps=switch_steps,\n",
    "    epochs=epoch_number,\n",
    "    loss_type=loss_type,\n",
    "    collect_grads=collect_grads,\n",
    "    rescale_loss=rescale_loss,\n",
    "    rescale_dims=rescale_dims,\n",
    ")"
   ]
  },
  {
   "cell_type": "code",
   "execution_count": null,
   "metadata": {
    "executionInfo": {
     "elapsed": 2,
     "status": "ok",
     "timestamp": 1654726797910,
     "user": {
      "displayName": "Younes M",
      "userId": "11559524547576106626"
     },
     "user_tz": -120
    },
    "id": "D0vRy3kKXJi8"
   },
   "outputs": [],
   "source": [
    "if collect_grads:\n",
    "    plot_grads(stats)"
   ]
  },
  {
   "cell_type": "code",
   "execution_count": null,
   "metadata": {
    "executionInfo": {
     "elapsed": 2,
     "status": "ok",
     "timestamp": 1654726797910,
     "user": {
      "displayName": "Younes M",
      "userId": "11559524547576106626"
     },
     "user_tz": -120
    },
    "id": "YuaWY7BiXJi8"
   },
   "outputs": [],
   "source": [
    "# set all paths and create folders :\n",
    "model_path = PATH + \"data/\" + save_prefix + \"/\"\n",
    "stats_path = PATH + \"data/\" + save_prefix + \"/\"\n",
    "plot_path = PATH + \"data/\" + save_prefix + \"/img/\"\n",
    "train_loader_path = PATH + \"data/\" + save_prefix + \"/datasets/\"\n",
    "test_loader_path = PATH + \"data/\" + save_prefix + \"/datasets/\"\n",
    "os.makedirs(model_path, exist_ok=True)\n",
    "os.makedirs(stats_path, exist_ok=True)\n",
    "os.makedirs(plot_path, exist_ok=True)\n",
    "os.makedirs(train_loader_path, exist_ok=True)\n",
    "os.makedirs(test_loader_path, exist_ok=True)"
   ]
  },
  {
   "cell_type": "code",
   "execution_count": null,
   "metadata": {
    "executionInfo": {
     "elapsed": 2,
     "status": "ok",
     "timestamp": 1654726797911,
     "user": {
      "displayName": "Younes M",
      "userId": "11559524547576106626"
     },
     "user_tz": -120
    },
    "id": "Fz2t-py_XJi9"
   },
   "outputs": [],
   "source": [
    "torch.save(train_loader, train_loader_path + \"train_loader.pt\")\n",
    "if test_loader is not None:\n",
    "    torch.save(test_loader, test_loader_path + \"test_loader.pt\")\n",
    "\n",
    "# save model to disk\n",
    "torch.save(model.state_dict(), model_path + \"model\")\n",
    "\n",
    "# save the stats\n",
    "save_stats(stats, stats_path + \"stats.txt\")"
   ]
  },
  {
   "cell_type": "code",
   "execution_count": null,
   "metadata": {
    "id": "XkIvdKdWXJi9"
   },
   "outputs": [],
   "source": [
    "train_loader = torch.load(train_loader_path + \"train_loader.pt\")\n",
    "test_loader = torch.load(test_loader_path + \"test_loader.pt\")\n",
    "# loads the stats\n",
    "stats = read_dict(stats_path + \"stats.txt\")\n",
    "# load the model from disk\n",
    "model.load_state_dict(torch.load(model_path + \"model\"))\n",
    "model.eval()"
   ]
  },
  {
   "cell_type": "code",
   "execution_count": null,
   "metadata": {
    "colab": {
     "base_uri": "https://localhost:8080/",
     "height": 573
    },
    "executionInfo": {
     "elapsed": 3022,
     "status": "ok",
     "timestamp": 1654726800931,
     "user": {
      "displayName": "Younes M",
      "userId": "11559524547576106626"
     },
     "user_tz": -120
    },
    "id": "uwd9lGnZXJi9",
    "outputId": "8b38564d-b4f1-47ab-b354-6aea15376d5e"
   },
   "outputs": [],
   "source": [
    "loss_train = stats[\"train_loss\"]\n",
    "loss_test = stats[\"test_loss\"]\n",
    "epochs = np.arange(len(loss_train))\n",
    "train_test_loss_plot(\n",
    "    loss_train,\n",
    "    loss_test,\n",
    "    epochs,\n",
    "    file_path=plot_path + \"/LOSS_train_test.png\",\n",
    "    title=\"train and test loss per epoch\",\n",
    "    horizons=False,\n",
    "    switch_steps=switch_steps,\n",
    ")\n",
    "\n",
    "train_test_loss_plot(\n",
    "    loss_train,\n",
    "    loss_test,\n",
    "    epochs,\n",
    "    file_path=plot_path + \"/LOSS_train_test_warrows.png\",\n",
    "    title=\"train and test loss per epoch\",\n",
    "    horizons=horizon_list[:-1],\n",
    "    switch_steps=switch_steps,\n",
    ")"
   ]
  },
  {
   "cell_type": "code",
   "execution_count": null,
   "metadata": {
    "colab": {
     "base_uri": "https://localhost:8080/",
     "height": 1000
    },
    "executionInfo": {
     "elapsed": 288245,
     "status": "ok",
     "timestamp": 1654727089175,
     "user": {
      "displayName": "Younes M",
      "userId": "11559524547576106626"
     },
     "user_tz": -120
    },
    "id": "TcjM_vdPXJi9",
    "outputId": "6fe46c74-6fce-45f8-a08c-958a005fda27"
   },
   "outputs": [],
   "source": [
    "# show train and prediction\n",
    "for n in [0, 5, 10, 19]:\n",
    "    plot_furuta_hat_nom(\n",
    "        device,\n",
    "        model,\n",
    "        u_func,\n",
    "        g_func,\n",
    "        utype,\n",
    "        gtype,\n",
    "        data_loader_t=train_loader,\n",
    "        t_max=horizon_list[-1],\n",
    "        n=n,\n",
    "        C_q1=C_q1,\n",
    "        C_q2=C_q2,\n",
    "        g=g,\n",
    "        Jr=Jr,\n",
    "        Lr=Lr,\n",
    "        Mp=Mp,\n",
    "        Lp=Lp,\n",
    "        t_plot=time_steps,\n",
    "        show_pred=True,\n",
    "        H_or_Input=\"input\",\n",
    "        title=\"Train set trajectories\",\n",
    "        file_path=plot_path + \"/TRAJECTORIES_train_set\" + str(n) + \".png\",\n",
    "        w_rescale=w_rescale,\n",
    "    )"
   ]
  },
  {
   "cell_type": "code",
   "execution_count": null,
   "metadata": {
    "colab": {
     "base_uri": "https://localhost:8080/",
     "height": 905
    },
    "executionInfo": {
     "elapsed": 79570,
     "status": "ok",
     "timestamp": 1654727168744,
     "user": {
      "displayName": "Younes M",
      "userId": "11559524547576106626"
     },
     "user_tz": -120
    },
    "id": "ssNwli0hXJi9",
    "outputId": "6fc06ae5-7ab6-4295-bd27-f4973fa3ae44"
   },
   "outputs": [],
   "source": [
    "# show only training portion\n",
    "for n in [0, 50, 70]:\n",
    "    plot_furuta_hat_nom(\n",
    "        device,\n",
    "        model,\n",
    "        u_func,\n",
    "        g_func,\n",
    "        utype,\n",
    "        gtype,\n",
    "        data_loader_t=train_loader,\n",
    "        t_max=horizon_list[-1],\n",
    "        n=n,\n",
    "        C_q1=C_q1,\n",
    "        C_q2=C_q2,\n",
    "        g=g,\n",
    "        Jr=Jr,\n",
    "        Lr=Lr,\n",
    "        Mp=Mp,\n",
    "        Lp=Lp,\n",
    "        t_plot=horizon_list[-1],\n",
    "        show_pred=False,\n",
    "        title=\"Train set trajectories\",\n",
    "        file_path=plot_path + \"/TRAJECTORIES_train_set\" + str(n) + \"nopred.png\",\n",
    "        w_rescale=w_rescale,\n",
    "    )"
   ]
  },
  {
   "cell_type": "code",
   "execution_count": null,
   "metadata": {
    "colab": {
     "base_uri": "https://localhost:8080/",
     "height": 1000
    },
    "executionInfo": {
     "elapsed": 164380,
     "status": "ok",
     "timestamp": 1654727333122,
     "user": {
      "displayName": "Younes M",
      "userId": "11559524547576106626"
     },
     "user_tz": -120
    },
    "id": "sQVjlwwAXJi-",
    "outputId": "6b405e8f-ef12-4865-a1bf-6a7827f250c6"
   },
   "outputs": [],
   "source": [
    "# show test and prediction\n",
    "for n in [0, 5, 10, 19]:\n",
    "    plot_furuta_hat_nom(\n",
    "        device,\n",
    "        model,\n",
    "        u_func,\n",
    "        g_func,\n",
    "        utype,\n",
    "        gtype,\n",
    "        data_loader_t=test_loader,\n",
    "        t_max=horizon_list[-1],\n",
    "        n=n,\n",
    "        C_q1=C_q1,\n",
    "        C_q2=C_q2,\n",
    "        g=g,\n",
    "        Jr=Jr,\n",
    "        Lr=Lr,\n",
    "        Mp=Mp,\n",
    "        Lp=Lp,\n",
    "        t_plot=time_steps,\n",
    "        show_pred=True,\n",
    "        H_or_Input=\"input\",\n",
    "        title=\"Train set trajectories\",\n",
    "        file_path=plot_path + \"/TRAJECTORIES_train_set\" + str(n) + \"test.png\",\n",
    "        w_rescale=w_rescale,\n",
    "    )"
   ]
  },
  {
   "cell_type": "code",
   "execution_count": null,
   "metadata": {
    "executionInfo": {
     "elapsed": 2425,
     "status": "ok",
     "timestamp": 1654727335546,
     "user": {
      "displayName": "Younes M",
      "userId": "11559524547576106626"
     },
     "user_tz": -120
    },
    "id": "km_92ftSXJi-"
   },
   "outputs": [],
   "source": [
    "utype = None  # 'chirp' or 'sine' or 'tanh' or 'multisine' or 'step' or None\n",
    "u_func = U_FUNC(utype=utype)  # instantiate the input function u(t)\n",
    "gtype = None  # 'simple' or None\n",
    "# instantiate the input function G(q,p) (here it is constant)\n",
    "g_func = G_FUNC(gtype=gtype)\n",
    "init_method = \"random_nozero\"  # 'random_nozero' # 'random_closetopi'\n",
    "time_steps = 800  # length of a trajectory\n",
    "num_trajectories = 25  # number of trajectories in total\n",
    "proportion = 0.0  # train test proportion\n",
    "batch_size = 100  # batch size used by dataloader\n",
    "w_rescale = [\n",
    "    1,\n",
    "    1,\n",
    "    1,\n",
    "    1,\n",
    "]  # [1, 1000, 1, 10000]  # [1, 1000, 1, 10000]  # [1, 9000, 1, 10000]\n",
    "shuffle = False  # shuffle sample in the batches between epochs\n",
    "# 'hamiltonian' or 'newtonian', newtonian if you want [q1,q1_dot,q2,q2_dot]\n",
    "coord_type = \"hamiltonian\"\n",
    "min_max_rescale = True  # rescale the training trajectories\n",
    "# which dimensions to rescale if using min_max_rescale, so that nothing is divided by zero\n",
    "rescale_dims = [1, 1, 1, 0]\n",
    "\n",
    "# generate train and test dataloader objects containing the trajectories\n",
    "train_loader_2, test_loader_2 = load_data_device(\n",
    "    device,\n",
    "    init_method,\n",
    "    w_rescale,\n",
    "    u_func,\n",
    "    g_func,\n",
    "    time_steps,\n",
    "    shuffle=shuffle,\n",
    "    num_trajectories=num_trajectories,\n",
    "    coord_type=coord_type,\n",
    "    proportion=proportion,\n",
    "    batch_size=batch_size,\n",
    "    Ts=Ts,\n",
    "    noise_std=noise_std,\n",
    "    C_q1=C_q1,\n",
    "    C_q2=C_q2,\n",
    "    g=g,\n",
    "    Jr=Jr,\n",
    "    Lr=Lr,\n",
    "    Mp=Mp,\n",
    "    Lp=Lp,\n",
    "    min_max_rescale=min_max_rescale,\n",
    "    rescale_dims=rescale_dims,\n",
    ")"
   ]
  },
  {
   "cell_type": "code",
   "execution_count": null,
   "metadata": {
    "colab": {
     "base_uri": "https://localhost:8080/",
     "height": 1000
    },
    "executionInfo": {
     "elapsed": 178175,
     "status": "ok",
     "timestamp": 1654727513721,
     "user": {
      "displayName": "Younes M",
      "userId": "11559524547576106626"
     },
     "user_tz": -120
    },
    "id": "7vGJM2gKXJi-",
    "outputId": "74efddbc-86d8-49bd-8b86-07d361a4cbda"
   },
   "outputs": [],
   "source": [
    "# show test and prediction\n",
    "title = \"test set trajectories | no input\"\n",
    "for n in [0, 5, 10, 19]:\n",
    "    plot_furuta_hat_nom(\n",
    "        device,\n",
    "        model,\n",
    "        u_func,\n",
    "        g_func,\n",
    "        utype,\n",
    "        gtype,\n",
    "        data_loader_t=train_loader_2,\n",
    "        t_max=time_steps,\n",
    "        n=n,\n",
    "        C_q1=C_q1,\n",
    "        C_q2=C_q2,\n",
    "        g=g,\n",
    "        Jr=Jr,\n",
    "        Lr=Lr,\n",
    "        Mp=Mp,\n",
    "        Lp=Lp,\n",
    "        t_plot=time_steps,\n",
    "        only_pred=True,\n",
    "        show_pred=True,\n",
    "        H_or_Input=\"input\",\n",
    "        title=title,\n",
    "        file_path=plot_path + \"/TRAJECTORIES_train_set\" + str(n) + \"noinput.png\",\n",
    "        w_rescale=w_rescale,\n",
    "    )"
   ]
  },
  {
   "cell_type": "code",
   "execution_count": null,
   "metadata": {
    "executionInfo": {
     "elapsed": 2719,
     "status": "ok",
     "timestamp": 1654727516439,
     "user": {
      "displayName": "Younes M",
      "userId": "11559524547576106626"
     },
     "user_tz": -120
    },
    "id": "tLSUtjD5XJi-"
   },
   "outputs": [],
   "source": [
    "utype = \"sine\"  # 'chirp' or 'sine' or 'tanh' or 'multisine' or 'step' or None\n",
    "u_func = U_FUNC(utype=utype)  # instantiate the input function u(t)\n",
    "u_func.params[\"T\"] = 1.5\n",
    "u_func.params[\"f0\"] = 0\n",
    "u_func.params[\"f1\"] = 1  # 4 # 1.4\n",
    "u_func.params[\"scale\"] = 0.0001  # for fake : 0.5 or 0.1 for real : 0.0001\n",
    "gtype = \"simple\"  # 'simple' or None\n",
    "# instantiate the input function G(q,p) (here it is constant)\n",
    "g_func = G_FUNC(gtype=gtype)\n",
    "init_method = \"random_nozero\"  # 'random_nozero' # 'random_closetopi'\n",
    "time_steps = 800  # length of a trajectory\n",
    "num_trajectories = 25  # number of trajectories in total\n",
    "proportion = 0.8  # train test proportion\n",
    "batch_size = 100  # batch size used by dataloader\n",
    "# [1, 1000, 1, 10000]  # [1, 1000, 1, 10000]  # [1, 9000, 1, 10000]\n",
    "w_rescale = [1, 1, 1, 1]\n",
    "shuffle = False  # shuffle sample in the batches between epochs\n",
    "# 'hamiltonian' or 'newtonian', newtonian if you want [q1,q1_dot,q2,q2_dot]\n",
    "coord_type = \"hamiltonian\"\n",
    "min_max_rescale = True  # rescale the training trajectories\n",
    "# which dimensions to rescale if using min_max_rescale, so that nothing is divided by zero\n",
    "rescale_dims = [1, 1, 1, 1]\n",
    "\n",
    "# generate train and test dataloader objects containing the trajectories\n",
    "train_loader_3, test_loader_3 = load_data_device(\n",
    "    device,\n",
    "    init_method,\n",
    "    w_rescale,\n",
    "    u_func,\n",
    "    g_func,\n",
    "    time_steps,\n",
    "    shuffle=shuffle,\n",
    "    num_trajectories=num_trajectories,\n",
    "    coord_type=coord_type,\n",
    "    proportion=proportion,\n",
    "    batch_size=batch_size,\n",
    "    Ts=Ts,\n",
    "    noise_std=noise_std,\n",
    "    C_q1=C_q1,\n",
    "    C_q2=C_q2,\n",
    "    g=g,\n",
    "    Jr=Jr,\n",
    "    Lr=Lr,\n",
    "    Mp=Mp,\n",
    "    Lp=Lp,\n",
    "    min_max_rescale=min_max_rescale,\n",
    "    rescale_dims=rescale_dims,\n",
    ")"
   ]
  },
  {
   "cell_type": "code",
   "execution_count": null,
   "metadata": {
    "colab": {
     "base_uri": "https://localhost:8080/",
     "height": 1000
    },
    "executionInfo": {
     "elapsed": 155988,
     "status": "ok",
     "timestamp": 1654727672428,
     "user": {
      "displayName": "Younes M",
      "userId": "11559524547576106626"
     },
     "user_tz": -120
    },
    "id": "FuZc2iLtXJi_",
    "outputId": "e10e0e73-3b86-4004-8c01-bac8242666aa"
   },
   "outputs": [],
   "source": [
    "# show test and prediction\n",
    "title = \"test set trajectories | 1hz sine input\"\n",
    "for n in [0, 5, 10, 19]:\n",
    "    plot_furuta_hat_nom(\n",
    "        device,\n",
    "        model,\n",
    "        u_func,\n",
    "        g_func,\n",
    "        utype,\n",
    "        gtype,\n",
    "        data_loader_t=train_loader_3,\n",
    "        t_max=time_steps,\n",
    "        n=n,\n",
    "        C_q1=C_q1,\n",
    "        C_q2=C_q2,\n",
    "        g=g,\n",
    "        Jr=Jr,\n",
    "        Lr=Lr,\n",
    "        Mp=Mp,\n",
    "        Lp=Lp,\n",
    "        t_plot=time_steps,\n",
    "        only_pred=True,\n",
    "        show_pred=True,\n",
    "        H_or_Input=\"input\",\n",
    "        title=title,\n",
    "        file_path=plot_path + \"/TRAJECTORIES_train_set\" + str(n) + \"1hzsine.png\",\n",
    "        w_rescale=w_rescale,\n",
    "    )"
   ]
  },
  {
   "cell_type": "code",
   "execution_count": null,
   "metadata": {
    "colab": {
     "base_uri": "https://localhost:8080/",
     "height": 1000
    },
    "executionInfo": {
     "elapsed": 163173,
     "status": "ok",
     "timestamp": 1654727835599,
     "user": {
      "displayName": "Younes M",
      "userId": "11559524547576106626"
     },
     "user_tz": -120
    },
    "id": "XGi4xld3XJi_",
    "outputId": "03ded217-fcf1-45f3-ea12-a0464b165b67"
   },
   "outputs": [],
   "source": [
    "utype = \"sine\"  # 'chirp' or 'sine' or 'tanh' or 'multisine' or 'step' or None\n",
    "u_func = U_FUNC(utype=utype)  # instantiate the input function u(t)\n",
    "u_func.params[\"T\"] = 1.5\n",
    "u_func.params[\"f0\"] = 0\n",
    "u_func.params[\"f1\"] = 2  # 4 # 1.4\n",
    "u_func.params[\"scale\"] = 0.0001  # for fake : 0.5 or 0.1 for real : 0.0001\n",
    "gtype = \"simple\"  # 'simple' or None\n",
    "# instantiate the input function G(q,p) (here it is constant)\n",
    "g_func = G_FUNC(gtype=gtype)\n",
    "init_method = \"random_nozero\"  # 'random_nozero' # 'random_closetopi'\n",
    "time_steps = 800  # length of a trajectory\n",
    "num_trajectories = 25  # number of trajectories in total\n",
    "proportion = 0.0  # train test proportion\n",
    "batch_size = 100  # batch size used by dataloader\n",
    "w_rescale = [\n",
    "    1,\n",
    "    1,\n",
    "    1,\n",
    "    1,\n",
    "]  # [1, 1000, 1, 10000]  # [1, 1000, 1, 10000]  # [1, 9000, 1, 10000]\n",
    "shuffle = False  # shuffle sample in the batches between epochs\n",
    "# 'hamiltonian' or 'newtonian', newtonian if you want [q1,q1_dot,q2,q2_dot]\n",
    "coord_type = \"hamiltonian\"\n",
    "min_max_rescale = True  # rescale the training trajectories\n",
    "# which dimensions to rescale if using min_max_rescale, so that nothing is divided by zero\n",
    "rescale_dims = [1, 1, 1, 1]\n",
    "\n",
    "# generate train and test dataloader objects containing the trajectories\n",
    "train_loader_4, test_loader_4 = load_data_device(\n",
    "    device,\n",
    "    init_method,\n",
    "    w_rescale,\n",
    "    u_func,\n",
    "    g_func,\n",
    "    time_steps,\n",
    "    shuffle=shuffle,\n",
    "    num_trajectories=num_trajectories,\n",
    "    coord_type=coord_type,\n",
    "    proportion=proportion,\n",
    "    batch_size=batch_size,\n",
    "    Ts=Ts,\n",
    "    noise_std=noise_std,\n",
    "    C_q1=C_q1,\n",
    "    C_q2=C_q2,\n",
    "    g=g,\n",
    "    Jr=Jr,\n",
    "    Lr=Lr,\n",
    "    Mp=Mp,\n",
    "    Lp=Lp,\n",
    "    min_max_rescale=min_max_rescale,\n",
    "    rescale_dims=rescale_dims,\n",
    ")\n",
    "# show test and prediction\n",
    "title = \"test set trajectories | 2hz sine input\"\n",
    "for n in [0, 5, 10, 19]:\n",
    "    plot_furuta_hat_nom(\n",
    "        device,\n",
    "        model,\n",
    "        u_func,\n",
    "        g_func,\n",
    "        utype,\n",
    "        gtype,\n",
    "        data_loader_t=train_loader_4,\n",
    "        t_max=time_steps,\n",
    "        n=n,\n",
    "        C_q1=C_q1,\n",
    "        C_q2=C_q2,\n",
    "        g=g,\n",
    "        Jr=Jr,\n",
    "        Lr=Lr,\n",
    "        Mp=Mp,\n",
    "        Lp=Lp,\n",
    "        t_plot=time_steps,\n",
    "        only_pred=True,\n",
    "        show_pred=True,\n",
    "        H_or_Input=\"input\",\n",
    "        title=title,\n",
    "        file_path=plot_path + \"/TRAJECTORIES_test_set\" + str(n) + \"2hzsine.png\",\n",
    "        w_rescale=w_rescale,\n",
    "    )"
   ]
  }
 ],
 "metadata": {
  "colab": {
   "collapsed_sections": [],
   "machine_shape": "hm",
   "name": "furuta_pendulum_InputHNN.ipynb",
   "provenance": [],
   "toc_visible": true
  },
  "interpreter": {
   "hash": "52b0f3b5fff4e2d99607e23e4ce3f8b9e3a664acf6541783ed53f1bd22095b69"
  },
  "kernelspec": {
   "display_name": "Python 3.9.7 ('pds')",
   "language": "python",
   "name": "python3"
  },
  "language_info": {
   "codemirror_mode": {
    "name": "ipython",
    "version": 3
   },
   "file_extension": ".py",
   "mimetype": "text/x-python",
   "name": "python",
   "nbconvert_exporter": "python",
   "pygments_lexer": "ipython3",
   "version": "3.9.7"
  }
 },
 "nbformat": 4,
 "nbformat_minor": 0
}
